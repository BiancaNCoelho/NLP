{
 "cells": [
  {
   "cell_type": "markdown",
   "id": "8d4f880c-f518-4ba3-8179-c824fb75d6fc",
   "metadata": {},
   "source": [
    "# Trabalho 3\n",
    "\n",
    "Bianca Nunes Coelho - 15102880<br>\n",
    "Raíssa Nunes Coelho - 15102887<br>"
   ]
  },
  {
   "cell_type": "markdown",
   "id": "f42aba62-4aeb-49ac-858b-4dcab8b9e2ae",
   "metadata": {},
   "source": [
    "## Introdução\n",
    "No cenário atual de constante fluxo de informações, o jornalismo desempenha um papel crucial na disseminação de notícias e na formação de opinião pública. Com a crescente quantidade de conteúdo jornalístico disponível online, surge a necessidade de técnicas automatizadas para organizar e classificar essas informações de maneira eficiente. Neste projeto, propomos explorar o uso do Processamento de Linguagem Natural (PLN) para classificar textos de matérias jornalísticas de jornais brasileiros, visando aprimorar a organização e a acessibilidade desse conteúdo. <br>\n",
    "\n",
    "A calssificação de texto é necessária para automatizar a organização e a análise de grandes volumes de dados textuais. A classificação de textos jornalísticos possibilita uma melhor organização do conteúdo, tornando-o mais acessível e útil para os leitores. Além disso, a classificação automática é essencial para a criação de sistemas de recomendação personalizados e para o desenvolvimento de ferramentas de análise de sentimentos e tendências.<br>\n",
    "\n",
    "O principal objetivo deste projeto é desenvolver modelos de PLN capazes de classificar automaticamente textos de matérias jornalísticas em categorias pré-definidas. Essa classificação facilitará a indexação e a recuperação de informações relevantes, além de permitir análises mais aprofundadas sobre tendências e padrões presentes nas notícias. Assim, buscamos:<br>\n",
    "\n",
    "  +  Implementar e avaliar diferentes algoritmos de classificação, como Naive Bayes, SVM e Árvores de Decisão. <br>\n",
    "  +  Analisar e interpretar os resultados obtidos em relação aos objetivos do projeto e às perguntas centrais formuladas. <br>\n",
    "Para orientar a nossa pesquisa e análise as seuintes perguntas são centrais: <br>\n",
    "  + Quais algoritmos de classificação de textos apresentam melhor desempenho na identificação de categorias de matérias jornalísticas?\n",
    "  + Como os resultados obtidos podem contribuir para aprimorar a organização e a acessibilidade do conteúdo jornalístico online?"
   ]
  },
  {
   "cell_type": "markdown",
   "id": "82b56278-2686-4569-bb24-76ff3741234e",
   "metadata": {},
   "source": [
    "## Bibliotecas\n",
    "Bibliotecas necessárias para execução básica dos códigos ficam aqui. Outras são chamadas quando necessário."
   ]
  },
  {
   "cell_type": "code",
   "execution_count": 1,
   "id": "64e366e8-973e-4c8e-859b-fcff57136cea",
   "metadata": {},
   "outputs": [],
   "source": [
    "import pandas as pd\n",
    "import re\n",
    "import nltk\n",
    "import matplotlib.pyplot as plt"
   ]
  },
  {
   "cell_type": "markdown",
   "id": "c5966aa2-6fa2-4ad1-8c76-629cf5043789",
   "metadata": {},
   "source": [
    "## Dataset\n",
    "\n",
    "O dataset está em formato *parquet*, que é mais eficiente, rápido e compacta mais o tamanho do arquivo. Para ler parquet precisamos de uma engine além do pandas, a escolhida foi pyarrow.</br>\n",
    "\n",
    "O arquivo de dataset contém matérias jornalisticas tiradas do website CNN Brasil em 2023 no espaço de 1 mês. O autor do dataset se encontra no site da Hugging Face neste link: [cnn_news_ptbr](https://huggingface.co/datasets/celsowm/cnn_news_ptbr).</br>"
   ]
  },
  {
   "cell_type": "code",
   "execution_count": 2,
   "id": "66aae1c3-0ff5-4182-a51d-903fe3e2e6eb",
   "metadata": {},
   "outputs": [],
   "source": [
    "file = \"train-00000-of-00001-ecf072e7202447d8.parquet\"\n",
    "df = pd.read_parquet(file, engine= 'pyarrow')"
   ]
  },
  {
   "cell_type": "code",
   "execution_count": 3,
   "id": "87bb3d8c-5a54-42be-b320-a3715e319207",
   "metadata": {},
   "outputs": [
    {
     "data": {
      "text/plain": [
       "3877"
      ]
     },
     "execution_count": 3,
     "metadata": {},
     "output_type": "execute_result"
    }
   ],
   "source": [
    "len(df)"
   ]
  },
  {
   "cell_type": "code",
   "execution_count": 4,
   "id": "ef562d5e-5fb4-4366-88da-ef75b40f0ada",
   "metadata": {
    "scrolled": true
   },
   "outputs": [
    {
     "data": {
      "text/html": [
       "<div>\n",
       "<style scoped>\n",
       "    .dataframe tbody tr th:only-of-type {\n",
       "        vertical-align: middle;\n",
       "    }\n",
       "\n",
       "    .dataframe tbody tr th {\n",
       "        vertical-align: top;\n",
       "    }\n",
       "\n",
       "    .dataframe thead th {\n",
       "        text-align: right;\n",
       "    }\n",
       "</style>\n",
       "<table border=\"1\" class=\"dataframe\">\n",
       "  <thead>\n",
       "    <tr style=\"text-align: right;\">\n",
       "      <th></th>\n",
       "      <th>titulo</th>\n",
       "      <th>texto</th>\n",
       "      <th>link</th>\n",
       "      <th>resumo</th>\n",
       "      <th>categoria</th>\n",
       "      <th>data_hora</th>\n",
       "    </tr>\n",
       "  </thead>\n",
       "  <tbody>\n",
       "    <tr>\n",
       "      <th>0</th>\n",
       "      <td>Veja a trajetória de Fernando Diniz, em busca ...</td>\n",
       "      <td>Se tem um treinador que sempre foi badalado pe...</td>\n",
       "      <td>https://www.cnnbrasil.com.br/esportes/veja-a-t...</td>\n",
       "      <td>Técnico tricolor e da Seleção Brasileira tem a...</td>\n",
       "      <td>esportes</td>\n",
       "      <td>2023-11-04 12:26:18</td>\n",
       "    </tr>\n",
       "    <tr>\n",
       "      <th>1</th>\n",
       "      <td>Após tempestade com ventos, São Paulo terá sáb...</td>\n",
       "      <td>Após uma tempestade com ventos de mais de 100 ...</td>\n",
       "      <td>https://www.cnnbrasil.com.br/nacional/apos-tem...</td>\n",
       "      <td>Termômetros devem chegar a 26ºC, esquentando a...</td>\n",
       "      <td>nacional</td>\n",
       "      <td>2023-11-04 12:15:44</td>\n",
       "    </tr>\n",
       "    <tr>\n",
       "      <th>2</th>\n",
       "      <td>Como os aplicativos de relacionamento “arruina...</td>\n",
       "      <td>Jenny Nguyen-Don estava com vontade de comer f...</td>\n",
       "      <td>https://www.cnnbrasil.com.br/tecnologia/como-o...</td>\n",
       "      <td>Pessoas em busca de relacionamentos afirmam qu...</td>\n",
       "      <td>tecnologia</td>\n",
       "      <td>2023-11-04 12:15:07</td>\n",
       "    </tr>\n",
       "    <tr>\n",
       "      <th>3</th>\n",
       "      <td>Fluminense pode ser o 26º clube a levantar a t...</td>\n",
       "      <td>O Fluminense vai em busca do primeiro título d...</td>\n",
       "      <td>https://www.cnnbrasil.com.br/esportes/fluminen...</td>\n",
       "      <td>Em busca do título inédito, o Tricolor carioca...</td>\n",
       "      <td>esportes</td>\n",
       "      <td>2023-11-04 12:05:24</td>\n",
       "    </tr>\n",
       "  </tbody>\n",
       "</table>\n",
       "</div>"
      ],
      "text/plain": [
       "                                              titulo  \\\n",
       "0  Veja a trajetória de Fernando Diniz, em busca ...   \n",
       "1  Após tempestade com ventos, São Paulo terá sáb...   \n",
       "2  Como os aplicativos de relacionamento “arruina...   \n",
       "3  Fluminense pode ser o 26º clube a levantar a t...   \n",
       "\n",
       "                                               texto  \\\n",
       "0  Se tem um treinador que sempre foi badalado pe...   \n",
       "1  Após uma tempestade com ventos de mais de 100 ...   \n",
       "2  Jenny Nguyen-Don estava com vontade de comer f...   \n",
       "3  O Fluminense vai em busca do primeiro título d...   \n",
       "\n",
       "                                                link  \\\n",
       "0  https://www.cnnbrasil.com.br/esportes/veja-a-t...   \n",
       "1  https://www.cnnbrasil.com.br/nacional/apos-tem...   \n",
       "2  https://www.cnnbrasil.com.br/tecnologia/como-o...   \n",
       "3  https://www.cnnbrasil.com.br/esportes/fluminen...   \n",
       "\n",
       "                                              resumo   categoria  \\\n",
       "0  Técnico tricolor e da Seleção Brasileira tem a...    esportes   \n",
       "1  Termômetros devem chegar a 26ºC, esquentando a...    nacional   \n",
       "2  Pessoas em busca de relacionamentos afirmam qu...  tecnologia   \n",
       "3  Em busca do título inédito, o Tricolor carioca...    esportes   \n",
       "\n",
       "             data_hora  \n",
       "0  2023-11-04 12:26:18  \n",
       "1  2023-11-04 12:15:44  \n",
       "2  2023-11-04 12:15:07  \n",
       "3  2023-11-04 12:05:24  "
      ]
     },
     "execution_count": 4,
     "metadata": {},
     "output_type": "execute_result"
    }
   ],
   "source": [
    "df.head(4)"
   ]
  },
  {
   "cell_type": "markdown",
   "id": "fabc35ad-e33c-43f3-aad9-9e64fdbebebe",
   "metadata": {},
   "source": [
    "Como pode-se ver, o dataset possui 3877 linhas e 6 colunas sendo elas: \"titulo\", \"texto\", \"link\", \"resumo\", \"categoria\" e \"data_hora\"."
   ]
  },
  {
   "cell_type": "markdown",
   "id": "39101ef9-4e8d-41e2-a9d9-a18bbdd406c6",
   "metadata": {},
   "source": [
    "## Balanceamento\n",
    "\n",
    "O balanceamento de um conjunto de dados é um passo crucial no pré-processamento, especialmente em problemas de classificação onde as classes estão desproporcionalmente representadas. Então, mesmo tendo um dataset pronto para o treinamento de modelos de classificação, precisamos verificar e balanceá-lo para que se diminua desvios e viés ao final do treinamento.</br>"
   ]
  },
  {
   "cell_type": "code",
   "execution_count": 5,
   "id": "a69b2280-8f23-4895-b70c-72b6211c41a6",
   "metadata": {},
   "outputs": [
    {
     "data": {
      "text/plain": [
       "categoria\n",
       "esportes           960\n",
       "nacional           623\n",
       "internacional      618\n",
       "economia           562\n",
       "politica           507\n",
       "entretenimento     450\n",
       "tecnologia          44\n",
       "saude               41\n",
       "noticias            38\n",
       "lifestyle           21\n",
       "branded-content     13\n",
       "Name: count, dtype: int64"
      ]
     },
     "execution_count": 5,
     "metadata": {},
     "output_type": "execute_result"
    }
   ],
   "source": [
    "df['categoria'].value_counts()"
   ]
  },
  {
   "cell_type": "code",
   "execution_count": 6,
   "id": "ab0f58c5-51da-4d87-9835-2912a9655edb",
   "metadata": {},
   "outputs": [
    {
     "data": {
      "text/plain": [
       "<Axes: xlabel='categoria'>"
      ]
     },
     "execution_count": 6,
     "metadata": {},
     "output_type": "execute_result"
    },
    {
     "data": {
      "image/png": "[encoded data removed]",
      "text/plain": [
       "<Figure size 1000x400 with 1 Axes>"
      ]
     },
     "metadata": {},
     "output_type": "display_data"
    }
   ],
   "source": [
    "plt.figure(figsize=(10,4))\n",
    "df.categoria.value_counts().plot(kind='bar')"
   ]
  },
  {
   "cell_type": "markdown",
   "id": "54002746-d618-43c3-b597-0e3e96ad0135",
   "metadata": {},
   "source": [
    "Pelo gráfico de barras acima, os dados do dataset estão muito desbalanceados. Foi decidico a exclusão das quatro menores categorias, já que não iremos injetar outros dados jornalisticos no dataset."
   ]
  },
  {
   "cell_type": "code",
   "execution_count": 7,
   "id": "ae4be987-ec09-4a83-8612-cdb14ac9dcd0",
   "metadata": {},
   "outputs": [],
   "source": [
    "indice_linha_remover = ['tecnologia',  'saude','noticias','lifestyle','branded-content']"
   ]
  },
  {
   "cell_type": "code",
   "execution_count": 8,
   "id": "b764b27a-a018-4a3b-8f87-2724103ec14a",
   "metadata": {},
   "outputs": [],
   "source": [
    "df = df[~df['categoria'].isin(indice_linha_remover)]"
   ]
  },
  {
   "cell_type": "code",
   "execution_count": 9,
   "id": "d8eb9c5f-cafc-4be5-8911-ad1ced14fe67",
   "metadata": {},
   "outputs": [
    {
     "data": {
      "text/plain": [
       "categoria\n",
       "esportes          960\n",
       "nacional          623\n",
       "internacional     618\n",
       "economia          562\n",
       "politica          507\n",
       "entretenimento    450\n",
       "Name: count, dtype: int64"
      ]
     },
     "execution_count": 9,
     "metadata": {},
     "output_type": "execute_result"
    }
   ],
   "source": [
    "df['categoria'].value_counts()"
   ]
  },
  {
   "cell_type": "markdown",
   "id": "3c000591-157e-445b-9b2e-0c15f7eb78f0",
   "metadata": {},
   "source": [
    "Após a remoção das categorias, o dataset ainda precisa que elas estejam balanceadas por número de exemplos, ou seja, elas precisam ter o mesmo número de textos para cada. Assim, é feito o undersampling que consiste em reduzir o número de instâncias da classe majoritária para igualar ao número da classe minoritária. Neste caso usamos o min para \"cortar\" todas categorias pela menor delas: entretenimento."
   ]
  },
  {
   "cell_type": "code",
   "execution_count": 10,
   "id": "0fb30f3d-1f6f-462f-9d74-57855407899b",
   "metadata": {},
   "outputs": [],
   "source": [
    "# Undersampling\n",
    "min = df['categoria'].value_counts().min()\n",
    "\n",
    "amostras = []\n",
    "\n",
    "for i in df['categoria'].value_counts().index:\n",
    "    a = df[df['categoria'] == i].sample(min, replace=False)\n",
    "    amostras.append(a)\n",
    "\n",
    "df_balanceado = pd.concat(amostras)"
   ]
  },
  {
   "cell_type": "code",
   "execution_count": 11,
   "id": "3edd9ec7-372c-4609-a974-30d9359c1d67",
   "metadata": {},
   "outputs": [
    {
     "data": {
      "text/plain": [
       "categoria\n",
       "esportes          450\n",
       "nacional          450\n",
       "internacional     450\n",
       "economia          450\n",
       "politica          450\n",
       "entretenimento    450\n",
       "Name: count, dtype: int64"
      ]
     },
     "execution_count": 11,
     "metadata": {},
     "output_type": "execute_result"
    }
   ],
   "source": [
    "df_balanceado['categoria'].value_counts()"
   ]
  },
  {
   "cell_type": "code",
   "execution_count": 12,
   "id": "42f147b7-862b-4e08-8b36-375f21c69d3b",
   "metadata": {},
   "outputs": [
    {
     "data": {
      "text/html": [
       "<div>\n",
       "<style scoped>\n",
       "    .dataframe tbody tr th:only-of-type {\n",
       "        vertical-align: middle;\n",
       "    }\n",
       "\n",
       "    .dataframe tbody tr th {\n",
       "        vertical-align: top;\n",
       "    }\n",
       "\n",
       "    .dataframe thead th {\n",
       "        text-align: right;\n",
       "    }\n",
       "</style>\n",
       "<table border=\"1\" class=\"dataframe\">\n",
       "  <thead>\n",
       "    <tr style=\"text-align: right;\">\n",
       "      <th></th>\n",
       "      <th>titulo</th>\n",
       "      <th>texto</th>\n",
       "      <th>link</th>\n",
       "      <th>resumo</th>\n",
       "      <th>categoria</th>\n",
       "      <th>data_hora</th>\n",
       "    </tr>\n",
       "  </thead>\n",
       "  <tbody>\n",
       "    <tr>\n",
       "      <th>0</th>\n",
       "      <td>Racismo e xenofobia: torcedor do Boca imita ma...</td>\n",
       "      <td>Um torcedor do Boca Juniors imitou um macaco, ...</td>\n",
       "      <td>https://www.cnnbrasil.com.br/esportes/racismo-...</td>\n",
       "      <td>Boca Juniors e Fluminense decidem a Copa Liber...</td>\n",
       "      <td>esportes</td>\n",
       "      <td>2023-11-04 19:14:18</td>\n",
       "    </tr>\n",
       "    <tr>\n",
       "      <th>1</th>\n",
       "      <td>Donuts e 9 pães: veja dieta de Ramon Dino no d...</td>\n",
       "      <td>O brasileiro Ramon Dino foi 2º colocado do Mr....</td>\n",
       "      <td>https://www.cnnbrasil.com.br/esportes/donuts-e...</td>\n",
       "      <td>Atleta é um dos principais nomes do fisicultur...</td>\n",
       "      <td>esportes</td>\n",
       "      <td>2023-11-11 17:00:36</td>\n",
       "    </tr>\n",
       "    <tr>\n",
       "      <th>2</th>\n",
       "      <td>Trilha do EA Sports FC 24 ganha nova música br...</td>\n",
       "      <td>Dois meses após o lançamento, o EA Sports FC 2...</td>\n",
       "      <td>https://www.cnnbrasil.com.br/esportes/trilha-d...</td>\n",
       "      <td>Kit de uniforme dos Rolling Stones também está...</td>\n",
       "      <td>esportes</td>\n",
       "      <td>2023-11-21 21:38:23</td>\n",
       "    </tr>\n",
       "    <tr>\n",
       "      <th>3</th>\n",
       "      <td>Sem ídolos, Romário diz que craque atleticano ...</td>\n",
       "      <td>Lendário camisa 11 da Seleção Brasileira e ído...</td>\n",
       "      <td>https://www.cnnbrasil.com.br/esportes/sem-idol...</td>\n",
       "      <td>Tetracampeão do mundo com a Seleção Brasileira...</td>\n",
       "      <td>esportes</td>\n",
       "      <td>2023-11-21 12:14:51</td>\n",
       "    </tr>\n",
       "    <tr>\n",
       "      <th>4</th>\n",
       "      <td>Por que Kim Kardashian “surtou” ao encontrar E...</td>\n",
       "      <td>Nos últimos meses, a socialite Kim Kardashian ...</td>\n",
       "      <td>https://www.cnnbrasil.com.br/esportes/por-que-...</td>\n",
       "      <td>Socialite leva o filho, Saint West, a vários j...</td>\n",
       "      <td>esportes</td>\n",
       "      <td>2023-11-16 19:10:33</td>\n",
       "    </tr>\n",
       "  </tbody>\n",
       "</table>\n",
       "</div>"
      ],
      "text/plain": [
       "                                              titulo  \\\n",
       "0  Racismo e xenofobia: torcedor do Boca imita ma...   \n",
       "1  Donuts e 9 pães: veja dieta de Ramon Dino no d...   \n",
       "2  Trilha do EA Sports FC 24 ganha nova música br...   \n",
       "3  Sem ídolos, Romário diz que craque atleticano ...   \n",
       "4  Por que Kim Kardashian “surtou” ao encontrar E...   \n",
       "\n",
       "                                               texto  \\\n",
       "0  Um torcedor do Boca Juniors imitou um macaco, ...   \n",
       "1  O brasileiro Ramon Dino foi 2º colocado do Mr....   \n",
       "2  Dois meses após o lançamento, o EA Sports FC 2...   \n",
       "3  Lendário camisa 11 da Seleção Brasileira e ído...   \n",
       "4  Nos últimos meses, a socialite Kim Kardashian ...   \n",
       "\n",
       "                                                link  \\\n",
       "0  https://www.cnnbrasil.com.br/esportes/racismo-...   \n",
       "1  https://www.cnnbrasil.com.br/esportes/donuts-e...   \n",
       "2  https://www.cnnbrasil.com.br/esportes/trilha-d...   \n",
       "3  https://www.cnnbrasil.com.br/esportes/sem-idol...   \n",
       "4  https://www.cnnbrasil.com.br/esportes/por-que-...   \n",
       "\n",
       "                                              resumo categoria  \\\n",
       "0  Boca Juniors e Fluminense decidem a Copa Liber...  esportes   \n",
       "1  Atleta é um dos principais nomes do fisicultur...  esportes   \n",
       "2  Kit de uniforme dos Rolling Stones também está...  esportes   \n",
       "3  Tetracampeão do mundo com a Seleção Brasileira...  esportes   \n",
       "4  Socialite leva o filho, Saint West, a vários j...  esportes   \n",
       "\n",
       "             data_hora  \n",
       "0  2023-11-04 19:14:18  \n",
       "1  2023-11-11 17:00:36  \n",
       "2  2023-11-21 21:38:23  \n",
       "3  2023-11-21 12:14:51  \n",
       "4  2023-11-16 19:10:33  "
      ]
     },
     "execution_count": 12,
     "metadata": {},
     "output_type": "execute_result"
    }
   ],
   "source": [
    "df_balanceado = df_balanceado.reset_index(drop=True)\n",
    "df_balanceado.head(5)"
   ]
  },
  {
   "cell_type": "code",
   "execution_count": 13,
   "id": "c3c68842-19af-45e6-b656-f267e6c590b7",
   "metadata": {},
   "outputs": [
    {
     "data": {
      "text/plain": [
       "2700"
      ]
     },
     "execution_count": 13,
     "metadata": {},
     "output_type": "execute_result"
    }
   ],
   "source": [
    "text = df_balanceado['texto'] # para NLTK\n",
    "len(text)"
   ]
  },
  {
   "cell_type": "markdown",
   "id": "1f1ede39-d6de-4d6d-aacf-f14b17d55fb1",
   "metadata": {},
   "source": [
    "Com o dataset balanceado, agora temos 2700 linhas para o treinamento e teste dos modelos."
   ]
  },
  {
   "cell_type": "markdown",
   "id": "296e7b55-c248-4995-a222-3a73f34608bb",
   "metadata": {},
   "source": [
    "## Pré-processamento\n",
    "Pré-processamento de dados, no contexto de ciência de dados e aprendizado de máquina, refere-se ao conjunto de técnicas e etapas aplicadas aos dados brutos antes de serem usados. E essencial ter os dados do dataset pre-processados para retirar palavras, simbolos e números que não serão úteis para a classificação de texto. Palavras chaves são mais úteis para a classificação de documentos.<BR>\n",
    "\n",
    "As técnicas utilizadas de pré-processamento foram:</br>\n",
    "+ Normalização: transformar todas as letras de um texto em minúsculas.</br>\n",
    "+ Remoção de acentos das palavras com unidecode.</br>\n",
    "+ Remoção de Pontuação, Caracteres Especiais e Números com Regex.</br>\n",
    "+ Tokenização: Divisão de texto em tokens (palavras, frases, caracteres).</br>\n",
    "+ Remoção de Stopwords: Eliminação de palavras comuns que não contribuem para a análise.</br>"
   ]
  },
  {
   "cell_type": "code",
   "execution_count": 14,
   "id": "550934b0-b39d-49e5-b671-94ec819c59f8",
   "metadata": {},
   "outputs": [],
   "source": [
    "for i in range(len(text)):\n",
    "    text[i] = text[i].lower()"
   ]
  },
  {
   "cell_type": "code",
   "execution_count": 15,
   "id": "ebc1eff3-adbf-4a01-9b25-ed23bd127db8",
   "metadata": {},
   "outputs": [],
   "source": [
    "from unidecode import unidecode\n",
    "# retirada de acentos\n",
    "for i in range(len(text)):\n",
    "    text[i] = unidecode(text[i])"
   ]
  },
  {
   "cell_type": "code",
   "execution_count": 16,
   "id": "2bcbf34e-2d4c-4840-83a4-0f8332adc593",
   "metadata": {},
   "outputs": [],
   "source": [
    "# retirada de caracteres especiais\n",
    "for i in range(len(text)):\n",
    "    text[i] = re.sub(r'[^a-zA-Z\\s]', \"\" ,text[i])"
   ]
  },
  {
   "cell_type": "code",
   "execution_count": 17,
   "id": "c1f521ba-151c-4b8f-86cd-66e2020f5d6f",
   "metadata": {},
   "outputs": [],
   "source": [
    "token_text = []\n",
    "\n",
    "# tokenização\n",
    "for j in text:\n",
    "    token_text.append(nltk.word_tokenize(j))"
   ]
  },
  {
   "cell_type": "code",
   "execution_count": 18,
   "id": "4cfcd130-5906-4319-b9b9-38c1aa217177",
   "metadata": {},
   "outputs": [
    {
     "name": "stderr",
     "output_type": "stream",
     "text": [
      "[nltk_data] Downloading package stopwords to /home/raissa/nltk_data...\n",
      "[nltk_data]   Package stopwords is already up-to-date!\n"
     ]
    },
    {
     "data": {
      "text/plain": [
       "True"
      ]
     },
     "execution_count": 18,
     "metadata": {},
     "output_type": "execute_result"
    }
   ],
   "source": [
    "nltk.download('stopwords')"
   ]
  },
  {
   "cell_type": "code",
   "execution_count": 19,
   "id": "bb696de4-921d-4f3d-8a72-5feeb769417b",
   "metadata": {},
   "outputs": [],
   "source": [
    "from nltk.corpus import stopwords\n",
    "# retirada de stopword com o corpus do NLTK\n",
    "sw = stopwords.words('portuguese')"
   ]
  },
  {
   "cell_type": "code",
   "execution_count": 20,
   "id": "c54c70fa-4e69-4a78-88ac-a824150560a7",
   "metadata": {},
   "outputs": [],
   "source": [
    "for stop in sw:\n",
    "    for text in token_text:\n",
    "        for t in text:\n",
    "            if(t == stop):\n",
    "                text.remove(t)"
   ]
  },
  {
   "cell_type": "markdown",
   "id": "05087c4b-c228-4eef-8bf6-6f649ebd93c4",
   "metadata": {},
   "source": [
    "Testes anteriores mostraram que apenas retirar stopwords com o uso do NLTK podem ser ruins para algumas palavras. Isso acontece porque o *corpus* do NTLK em português apenas considera as palavras mais usadas. No contexto de jornais, palavras muito usadas podem ser diferentes, dependendo da categoria e do veiculo utilizado para a retirada das notícias. Como o dataset foi retirado de um web site, a palavra \"leia\" aparece muitas vezes, provavelmente para significar um link de continuação para ler outras notícias. Então, essa palavra precisa ser retirada do texto. </br>\n",
    "Abaixo foi feito um código com palavras comuns que apareceram nos testes passados e a sua retirada do texto."
   ]
  },
  {
   "cell_type": "code",
   "execution_count": 21,
   "id": "1b00bd55-ebeb-4782-ab13-de37b371b6ff",
   "metadata": {},
   "outputs": [],
   "source": [
    "stopwords2 = [\"podera\", \"ja\", \"assim\",\"dessa\",\"antes\",\"sobre\",\"vai\",\"h\",\"horario\",\"quanto\",\n",
    "              \"pode\", \"tambem\", \"disso\", \"ate\",\"leia\", \"sobre\", \"contra\", \"outra\", \"tera\", \n",
    "              \"nao\", \"porque\",\"entao\", \"fim\", \"ha\", \"muita\", \"bem\", \"assuma\", \"parece\", \"chance\",\n",
    "              \"diz\", \"bom\", \"soma\", \"mesmos\", \"p\", \"mau\", \"uol\", \"nada\", \"desse\", \"deram\"]\n",
    "\n",
    "for stop in stopwords2:\n",
    "    for text in token_text:\n",
    "        for t in text:\n",
    "            if(t == stop):\n",
    "                text.remove(t)"
   ]
  },
  {
   "cell_type": "code",
   "execution_count": 22,
   "id": "3a058ff1-027b-4232-afbe-e75d712c1aee",
   "metadata": {},
   "outputs": [
    {
     "name": "stdout",
     "output_type": "stream",
     "text": [
      "['atacante', 'gabriel', 'barbosa', 'gabigol', 'usou', 'twitter', 'nesta', 'quartafeira', 'parabenizar', 'flamengo', 'aniversario', 'anos', 'entanto', 'jogador', 'causou', 'polemica', 'publicacao', 'gerou', 'diversos', 'comentarios', 'web', 'repercussao', 'ruim', 'deu', 'foto', 'atacante', 'publicou', 'lado', 'zico', 'maiores', 'idolos', 'historia', 'clube', 'dois', 'estao', 'sentados', 'tronos', 'zico', 'rei', 'gabigol', 'lado', 'entanto', 'gabriel', 'duas', 'tacas', 'libertadores', 'colo', 'enquanto', 'zico', 'somente', 'parabens', 'flamengo', 'anos', 'crf', 'pictwittercomwdomymjjcb', 'gabriel', 'barbosa', 'gabigol', 'november', 'imagem', 'acordo', 'alguns', 'torcedores', 'passa', 'impressao', 'comparacao', 'dois', 'gabigol', 'maior', 'zico', 'momento', 'atacante', 'vive', 'grande', 'fase', 'equipe', 'carioca', 'torcida', 'flamengo', 'ficou', 'feliz', 'publicacao', 'criticou', 'atacante', 'comentarios', 'faltou', 'colocar', 'colo', 'zico', 'taca', 'campeao', 'mundial', 'escreveu', 'internauta', 'gabigol', 'achando', 'maior', 'zico', 'acorda', 'pra', 'vida', 'moleque', 'publicou', 'outro', 'marcar', 'gols', 'quase', 'tres', 'meses', 'gabriel', 'vive', 'piores', 'momentos', 'camisa', 'flamengo', 'ultimamente', 'jogador', 'titular', 'absoluto', 'rubronegro', 'ficado', 'banco', 'pontos', 'clube', 'carioca', 'sexto', 'colocado', 'tabela', 'serie', 'campeonato', 'brasileiro', 'conteudo', 'criado', 'originalmente', 'itatiaia', 'versao', 'original']\n"
     ]
    }
   ],
   "source": [
    "print(token_text[100])"
   ]
  },
  {
   "cell_type": "code",
   "execution_count": 23,
   "id": "ec7b7237-0a45-4b15-a443-c11bef215981",
   "metadata": {},
   "outputs": [
    {
     "data": {
      "text/html": [
       "<div>\n",
       "<style scoped>\n",
       "    .dataframe tbody tr th:only-of-type {\n",
       "        vertical-align: middle;\n",
       "    }\n",
       "\n",
       "    .dataframe tbody tr th {\n",
       "        vertical-align: top;\n",
       "    }\n",
       "\n",
       "    .dataframe thead th {\n",
       "        text-align: right;\n",
       "    }\n",
       "</style>\n",
       "<table border=\"1\" class=\"dataframe\">\n",
       "  <thead>\n",
       "    <tr style=\"text-align: right;\">\n",
       "      <th></th>\n",
       "      <th>titulo</th>\n",
       "      <th>texto</th>\n",
       "      <th>link</th>\n",
       "      <th>resumo</th>\n",
       "      <th>categoria</th>\n",
       "      <th>data_hora</th>\n",
       "    </tr>\n",
       "  </thead>\n",
       "  <tbody>\n",
       "    <tr>\n",
       "      <th>0</th>\n",
       "      <td>Racismo e xenofobia: torcedor do Boca imita ma...</td>\n",
       "      <td>[torcedor, boca, juniors, imitou, macaco, prov...</td>\n",
       "      <td>https://www.cnnbrasil.com.br/esportes/racismo-...</td>\n",
       "      <td>Boca Juniors e Fluminense decidem a Copa Liber...</td>\n",
       "      <td>esportes</td>\n",
       "      <td>2023-11-04 19:14:18</td>\n",
       "    </tr>\n",
       "    <tr>\n",
       "      <th>1</th>\n",
       "      <td>Donuts e 9 pães: veja dieta de Ramon Dino no d...</td>\n",
       "      <td>[brasileiro, ramon, dino, colocado, mr, olympi...</td>\n",
       "      <td>https://www.cnnbrasil.com.br/esportes/donuts-e...</td>\n",
       "      <td>Atleta é um dos principais nomes do fisicultur...</td>\n",
       "      <td>esportes</td>\n",
       "      <td>2023-11-11 17:00:36</td>\n",
       "    </tr>\n",
       "  </tbody>\n",
       "</table>\n",
       "</div>"
      ],
      "text/plain": [
       "                                              titulo  \\\n",
       "0  Racismo e xenofobia: torcedor do Boca imita ma...   \n",
       "1  Donuts e 9 pães: veja dieta de Ramon Dino no d...   \n",
       "\n",
       "                                               texto  \\\n",
       "0  [torcedor, boca, juniors, imitou, macaco, prov...   \n",
       "1  [brasileiro, ramon, dino, colocado, mr, olympi...   \n",
       "\n",
       "                                                link  \\\n",
       "0  https://www.cnnbrasil.com.br/esportes/racismo-...   \n",
       "1  https://www.cnnbrasil.com.br/esportes/donuts-e...   \n",
       "\n",
       "                                              resumo categoria  \\\n",
       "0  Boca Juniors e Fluminense decidem a Copa Liber...  esportes   \n",
       "1  Atleta é um dos principais nomes do fisicultur...  esportes   \n",
       "\n",
       "             data_hora  \n",
       "0  2023-11-04 19:14:18  \n",
       "1  2023-11-11 17:00:36  "
      ]
     },
     "execution_count": 23,
     "metadata": {},
     "output_type": "execute_result"
    }
   ],
   "source": [
    "df_balanceado['texto'] = token_text\n",
    "df_balanceado.head(2)"
   ]
  },
  {
   "cell_type": "markdown",
   "id": "b51a92bf-5ad9-46e6-b4cb-c555efc8a3ee",
   "metadata": {},
   "source": [
    "Com tudo feito, o texto está pronto para o treinamento e vetorização."
   ]
  },
  {
   "cell_type": "markdown",
   "id": "e90b7bc0-a34a-4a3d-8bb5-853150ff9381",
   "metadata": {},
   "source": [
    "## Treinamento dos Modelos\n",
    "\n",
    "O treinamento de modelos é uma etapa crucial no desenvolvimento de sistemas de aprendizado de máquina. Durante o treinamento, o modelo é exposto a um conjunto de dados de treinamento para aprender a relação entre as entradas (características) e as saídas (rótulos) dos dados.</br>\n",
    "Antes dos modelos serem treinados, é necessário fazer a vetorização do dataset. Utilizazmos BoW e TF-IDF.</br>\n",
    "+ BoW(*Bag of Words*): representa cada documento de texto como um vetor numérico onde cada dimensão é uma palavra específica do corpus e o valor poderia ser sua frequência no documento, ocorrência (indicada por 1 ou 0), ou até mesmo valores ponderados. Não considera a ordem e posição das palavras.\n",
    "+ TF-IDF(*Term Frequency–Inverse Document Frequency*): relata a importância de uma palavra em um documento. TF-IDF é o produto da Frequência do Termo e da Frequência Inversa do Documento."
   ]
  },
  {
   "cell_type": "markdown",
   "id": "614274d4-547a-433c-84ce-eae1dff5173b",
   "metadata": {},
   "source": [
    "### NLTK e Vetorização\n",
    "A vetorização refere-se ao processo de representar dados de texto (como palavras, frases ou documentos) como vetores numéricos. Esse processo é essencial porque a maioria dos algoritmos de aprendizado de máquina e técnicas de PLN requerem que os dados de entrada sejam numéricos.</br>\n",
    "Primeiro juntamos os textos em uma string para cada um, e colocado de volta no dataset."
   ]
  },
  {
   "cell_type": "code",
   "execution_count": 24,
   "id": "70e9f077-225b-4ea9-8ef8-e588f032aad8",
   "metadata": {},
   "outputs": [
    {
     "name": "stdout",
     "output_type": "stream",
     "text": [
      "torcedor boca juniors imitou macaco provocacao brasileiros durante entrada vivo emissora argentina tn entorno maracana neste sabado final copa libertadores post shared by itatiaia esporte itatiaiaesporte reportagem registrava reclamacoes argentinos lado estadio forma recebidos policia militar rio janeiro torcedor surgiu comecou fazer gestos macaco xingar brasileiros diante grande volume torcedores boca desorganizacao acesso maracana pm disparou tiros balas borracha bombas efeito moral correcorre pessoas passando mal\n"
     ]
    }
   ],
   "source": [
    "for i in range(len(token_text)):\n",
    "    token_text[i] = \" \".join(token_text[i])\n",
    "print(token_text[0])"
   ]
  },
  {
   "cell_type": "code",
   "execution_count": 25,
   "id": "814b0cbc-c6d1-45e8-9017-8f8ce5e4fe6c",
   "metadata": {},
   "outputs": [
    {
     "data": {
      "text/html": [
       "<div>\n",
       "<style scoped>\n",
       "    .dataframe tbody tr th:only-of-type {\n",
       "        vertical-align: middle;\n",
       "    }\n",
       "\n",
       "    .dataframe tbody tr th {\n",
       "        vertical-align: top;\n",
       "    }\n",
       "\n",
       "    .dataframe thead th {\n",
       "        text-align: right;\n",
       "    }\n",
       "</style>\n",
       "<table border=\"1\" class=\"dataframe\">\n",
       "  <thead>\n",
       "    <tr style=\"text-align: right;\">\n",
       "      <th></th>\n",
       "      <th>titulo</th>\n",
       "      <th>texto</th>\n",
       "      <th>link</th>\n",
       "      <th>resumo</th>\n",
       "      <th>categoria</th>\n",
       "      <th>data_hora</th>\n",
       "    </tr>\n",
       "  </thead>\n",
       "  <tbody>\n",
       "    <tr>\n",
       "      <th>0</th>\n",
       "      <td>Racismo e xenofobia: torcedor do Boca imita ma...</td>\n",
       "      <td>torcedor boca juniors imitou macaco provocacao...</td>\n",
       "      <td>https://www.cnnbrasil.com.br/esportes/racismo-...</td>\n",
       "      <td>Boca Juniors e Fluminense decidem a Copa Liber...</td>\n",
       "      <td>esportes</td>\n",
       "      <td>2023-11-04 19:14:18</td>\n",
       "    </tr>\n",
       "    <tr>\n",
       "      <th>1</th>\n",
       "      <td>Donuts e 9 pães: veja dieta de Ramon Dino no d...</td>\n",
       "      <td>brasileiro ramon dino colocado mr olympia prin...</td>\n",
       "      <td>https://www.cnnbrasil.com.br/esportes/donuts-e...</td>\n",
       "      <td>Atleta é um dos principais nomes do fisicultur...</td>\n",
       "      <td>esportes</td>\n",
       "      <td>2023-11-11 17:00:36</td>\n",
       "    </tr>\n",
       "    <tr>\n",
       "      <th>2</th>\n",
       "      <td>Trilha do EA Sports FC 24 ganha nova música br...</td>\n",
       "      <td>dois meses apos lancamento ea sports fc sucess...</td>\n",
       "      <td>https://www.cnnbrasil.com.br/esportes/trilha-d...</td>\n",
       "      <td>Kit de uniforme dos Rolling Stones também está...</td>\n",
       "      <td>esportes</td>\n",
       "      <td>2023-11-21 21:38:23</td>\n",
       "    </tr>\n",
       "    <tr>\n",
       "      <th>3</th>\n",
       "      <td>Sem ídolos, Romário diz que craque atleticano ...</td>\n",
       "      <td>lendario camisa selecao brasileira idolo vasco...</td>\n",
       "      <td>https://www.cnnbrasil.com.br/esportes/sem-idol...</td>\n",
       "      <td>Tetracampeão do mundo com a Seleção Brasileira...</td>\n",
       "      <td>esportes</td>\n",
       "      <td>2023-11-21 12:14:51</td>\n",
       "    </tr>\n",
       "    <tr>\n",
       "      <th>4</th>\n",
       "      <td>Por que Kim Kardashian “surtou” ao encontrar E...</td>\n",
       "      <td>ultimos meses socialite kim kardashian levado ...</td>\n",
       "      <td>https://www.cnnbrasil.com.br/esportes/por-que-...</td>\n",
       "      <td>Socialite leva o filho, Saint West, a vários j...</td>\n",
       "      <td>esportes</td>\n",
       "      <td>2023-11-16 19:10:33</td>\n",
       "    </tr>\n",
       "  </tbody>\n",
       "</table>\n",
       "</div>"
      ],
      "text/plain": [
       "                                              titulo  \\\n",
       "0  Racismo e xenofobia: torcedor do Boca imita ma...   \n",
       "1  Donuts e 9 pães: veja dieta de Ramon Dino no d...   \n",
       "2  Trilha do EA Sports FC 24 ganha nova música br...   \n",
       "3  Sem ídolos, Romário diz que craque atleticano ...   \n",
       "4  Por que Kim Kardashian “surtou” ao encontrar E...   \n",
       "\n",
       "                                               texto  \\\n",
       "0  torcedor boca juniors imitou macaco provocacao...   \n",
       "1  brasileiro ramon dino colocado mr olympia prin...   \n",
       "2  dois meses apos lancamento ea sports fc sucess...   \n",
       "3  lendario camisa selecao brasileira idolo vasco...   \n",
       "4  ultimos meses socialite kim kardashian levado ...   \n",
       "\n",
       "                                                link  \\\n",
       "0  https://www.cnnbrasil.com.br/esportes/racismo-...   \n",
       "1  https://www.cnnbrasil.com.br/esportes/donuts-e...   \n",
       "2  https://www.cnnbrasil.com.br/esportes/trilha-d...   \n",
       "3  https://www.cnnbrasil.com.br/esportes/sem-idol...   \n",
       "4  https://www.cnnbrasil.com.br/esportes/por-que-...   \n",
       "\n",
       "                                              resumo categoria  \\\n",
       "0  Boca Juniors e Fluminense decidem a Copa Liber...  esportes   \n",
       "1  Atleta é um dos principais nomes do fisicultur...  esportes   \n",
       "2  Kit de uniforme dos Rolling Stones também está...  esportes   \n",
       "3  Tetracampeão do mundo com a Seleção Brasileira...  esportes   \n",
       "4  Socialite leva o filho, Saint West, a vários j...  esportes   \n",
       "\n",
       "             data_hora  \n",
       "0  2023-11-04 19:14:18  \n",
       "1  2023-11-11 17:00:36  \n",
       "2  2023-11-21 21:38:23  \n",
       "3  2023-11-21 12:14:51  \n",
       "4  2023-11-16 19:10:33  "
      ]
     },
     "execution_count": 25,
     "metadata": {},
     "output_type": "execute_result"
    }
   ],
   "source": [
    "df_balanceado['texto'] = token_text\n",
    "df_balanceado.head(5)"
   ]
  },
  {
   "cell_type": "markdown",
   "id": "d92f6e91-4f6d-4358-91df-7675d1139bc3",
   "metadata": {},
   "source": [
    "É selecionado a coluna categoria e a coluna texto e criado um novo dataset."
   ]
  },
  {
   "cell_type": "code",
   "execution_count": 26,
   "id": "25271109-1eeb-4ed0-90fb-9fd19c4706ab",
   "metadata": {},
   "outputs": [],
   "source": [
    "col = ['categoria', 'texto']\n",
    "df_balanceado = df_balanceado[col]"
   ]
  },
  {
   "cell_type": "code",
   "execution_count": 27,
   "id": "6f4821d2-e896-40ed-8236-8f7f88c6240d",
   "metadata": {},
   "outputs": [
    {
     "data": {
      "text/html": [
       "<div>\n",
       "<style scoped>\n",
       "    .dataframe tbody tr th:only-of-type {\n",
       "        vertical-align: middle;\n",
       "    }\n",
       "\n",
       "    .dataframe tbody tr th {\n",
       "        vertical-align: top;\n",
       "    }\n",
       "\n",
       "    .dataframe thead th {\n",
       "        text-align: right;\n",
       "    }\n",
       "</style>\n",
       "<table border=\"1\" class=\"dataframe\">\n",
       "  <thead>\n",
       "    <tr style=\"text-align: right;\">\n",
       "      <th></th>\n",
       "      <th>categoria</th>\n",
       "      <th>texto</th>\n",
       "    </tr>\n",
       "  </thead>\n",
       "  <tbody>\n",
       "    <tr>\n",
       "      <th>0</th>\n",
       "      <td>esportes</td>\n",
       "      <td>torcedor boca juniors imitou macaco provocacao...</td>\n",
       "    </tr>\n",
       "    <tr>\n",
       "      <th>1</th>\n",
       "      <td>esportes</td>\n",
       "      <td>brasileiro ramon dino colocado mr olympia prin...</td>\n",
       "    </tr>\n",
       "    <tr>\n",
       "      <th>2</th>\n",
       "      <td>esportes</td>\n",
       "      <td>dois meses apos lancamento ea sports fc sucess...</td>\n",
       "    </tr>\n",
       "    <tr>\n",
       "      <th>3</th>\n",
       "      <td>esportes</td>\n",
       "      <td>lendario camisa selecao brasileira idolo vasco...</td>\n",
       "    </tr>\n",
       "    <tr>\n",
       "      <th>4</th>\n",
       "      <td>esportes</td>\n",
       "      <td>ultimos meses socialite kim kardashian levado ...</td>\n",
       "    </tr>\n",
       "  </tbody>\n",
       "</table>\n",
       "</div>"
      ],
      "text/plain": [
       "  categoria                                              texto\n",
       "0  esportes  torcedor boca juniors imitou macaco provocacao...\n",
       "1  esportes  brasileiro ramon dino colocado mr olympia prin...\n",
       "2  esportes  dois meses apos lancamento ea sports fc sucess...\n",
       "3  esportes  lendario camisa selecao brasileira idolo vasco...\n",
       "4  esportes  ultimos meses socialite kim kardashian levado ..."
      ]
     },
     "execution_count": 27,
     "metadata": {},
     "output_type": "execute_result"
    }
   ],
   "source": [
    "df_balanceado.head()"
   ]
  },
  {
   "cell_type": "markdown",
   "id": "0dcac711-6fa4-4d45-9900-64a2918ac532",
   "metadata": {},
   "source": [
    "É adicionada a categoria ID, que representa um número para cada categoria. A numeração começa em zero."
   ]
  },
  {
   "cell_type": "code",
   "execution_count": 57,
   "id": "9bb2b0ca-95ca-4996-b6e2-cf19aceffb6b",
   "metadata": {},
   "outputs": [
    {
     "data": {
      "text/html": [
       "<div>\n",
       "<style scoped>\n",
       "    .dataframe tbody tr th:only-of-type {\n",
       "        vertical-align: middle;\n",
       "    }\n",
       "\n",
       "    .dataframe tbody tr th {\n",
       "        vertical-align: top;\n",
       "    }\n",
       "\n",
       "    .dataframe thead th {\n",
       "        text-align: right;\n",
       "    }\n",
       "</style>\n",
       "<table border=\"1\" class=\"dataframe\">\n",
       "  <thead>\n",
       "    <tr style=\"text-align: right;\">\n",
       "      <th></th>\n",
       "      <th>categoria</th>\n",
       "      <th>texto</th>\n",
       "      <th>category_id</th>\n",
       "    </tr>\n",
       "  </thead>\n",
       "  <tbody>\n",
       "    <tr>\n",
       "      <th>0</th>\n",
       "      <td>esportes</td>\n",
       "      <td>torcedor boca juniors imitou macaco provocacao...</td>\n",
       "      <td>0</td>\n",
       "    </tr>\n",
       "    <tr>\n",
       "      <th>1</th>\n",
       "      <td>esportes</td>\n",
       "      <td>brasileiro ramon dino colocado mr olympia prin...</td>\n",
       "      <td>0</td>\n",
       "    </tr>\n",
       "    <tr>\n",
       "      <th>2</th>\n",
       "      <td>esportes</td>\n",
       "      <td>dois meses apos lancamento ea sports fc sucess...</td>\n",
       "      <td>0</td>\n",
       "    </tr>\n",
       "    <tr>\n",
       "      <th>3</th>\n",
       "      <td>esportes</td>\n",
       "      <td>lendario camisa selecao brasileira idolo vasco...</td>\n",
       "      <td>0</td>\n",
       "    </tr>\n",
       "    <tr>\n",
       "      <th>4</th>\n",
       "      <td>esportes</td>\n",
       "      <td>ultimos meses socialite kim kardashian levado ...</td>\n",
       "      <td>0</td>\n",
       "    </tr>\n",
       "    <tr>\n",
       "      <th>...</th>\n",
       "      <td>...</td>\n",
       "      <td>...</td>\n",
       "      <td>...</td>\n",
       "    </tr>\n",
       "    <tr>\n",
       "      <th>2692</th>\n",
       "      <td>entretenimento</td>\n",
       "      <td>apresentadora ana furtado anos publicou video ...</td>\n",
       "      <td>5</td>\n",
       "    </tr>\n",
       "    <tr>\n",
       "      <th>2693</th>\n",
       "      <td>entretenimento</td>\n",
       "      <td>fas producoes sulcoreanas agora data comemorar...</td>\n",
       "      <td>5</td>\n",
       "    </tr>\n",
       "    <tr>\n",
       "      <th>2694</th>\n",
       "      <td>entretenimento</td>\n",
       "      <td>gwyneth paltrow mostrou nesta quartafeira atua...</td>\n",
       "      <td>5</td>\n",
       "    </tr>\n",
       "    <tr>\n",
       "      <th>2695</th>\n",
       "      <td>entretenimento</td>\n",
       "      <td>hoje dia festa nesta sextafeira cantora anitta...</td>\n",
       "      <td>5</td>\n",
       "    </tr>\n",
       "    <tr>\n",
       "      <th>2696</th>\n",
       "      <td>entretenimento</td>\n",
       "      <td>empresaria kim kardashian ira estrelar nova co...</td>\n",
       "      <td>5</td>\n",
       "    </tr>\n",
       "  </tbody>\n",
       "</table>\n",
       "<p>2697 rows × 3 columns</p>\n",
       "</div>"
      ],
      "text/plain": [
       "           categoria                                              texto  \\\n",
       "0           esportes  torcedor boca juniors imitou macaco provocacao...   \n",
       "1           esportes  brasileiro ramon dino colocado mr olympia prin...   \n",
       "2           esportes  dois meses apos lancamento ea sports fc sucess...   \n",
       "3           esportes  lendario camisa selecao brasileira idolo vasco...   \n",
       "4           esportes  ultimos meses socialite kim kardashian levado ...   \n",
       "...              ...                                                ...   \n",
       "2692  entretenimento  apresentadora ana furtado anos publicou video ...   \n",
       "2693  entretenimento  fas producoes sulcoreanas agora data comemorar...   \n",
       "2694  entretenimento  gwyneth paltrow mostrou nesta quartafeira atua...   \n",
       "2695  entretenimento  hoje dia festa nesta sextafeira cantora anitta...   \n",
       "2696  entretenimento  empresaria kim kardashian ira estrelar nova co...   \n",
       "\n",
       "      category_id  \n",
       "0               0  \n",
       "1               0  \n",
       "2               0  \n",
       "3               0  \n",
       "4               0  \n",
       "...           ...  \n",
       "2692            5  \n",
       "2693            5  \n",
       "2694            5  \n",
       "2695            5  \n",
       "2696            5  \n",
       "\n",
       "[2697 rows x 3 columns]"
      ]
     },
     "execution_count": 57,
     "metadata": {},
     "output_type": "execute_result"
    }
   ],
   "source": [
    "df_balanceado['category_id'] = df_balanceado['categoria'].factorize()[0]\n",
    "from io import StringIO\n",
    "category_id_df = df_balanceado[['categoria', 'category_id']].drop_duplicates().sort_values('category_id')\n",
    "category_to_id = dict(category_id_df.values)\n",
    "id_to_category = dict(category_id_df[['category_id', 'categoria']].values)\n",
    "df_balanceado.head(-3)"
   ]
  },
  {
   "cell_type": "markdown",
   "id": "4f441e61-6123-42a6-a567-ed487d3feb19",
   "metadata": {},
   "source": [
    "Primeiro é feito o TD-IDF do textos e depois os pesos são colocados no BoW."
   ]
  },
  {
   "cell_type": "code",
   "execution_count": 29,
   "id": "724646a0-9fb6-494c-88ab-9f31c5782e97",
   "metadata": {},
   "outputs": [
    {
     "data": {
      "text/plain": [
       "(2700, 18813)"
      ]
     },
     "execution_count": 29,
     "metadata": {},
     "output_type": "execute_result"
    }
   ],
   "source": [
    "## Bag of Words model - TF-IDF\n",
    "from sklearn.feature_extraction.text import TfidfVectorizer\n",
    "tfidf = TfidfVectorizer(sublinear_tf=True, min_df=5, norm='l2', encoding='latin-1', ngram_range=(1, 2), stop_words=sw)\n",
    "features = tfidf.fit_transform(df_balanceado['texto']).toarray()\n",
    "labels = df_balanceado.category_id\n",
    "features.shape"
   ]
  },
  {
   "cell_type": "markdown",
   "id": "260934a4-340d-454a-a4bd-5335aef4a182",
   "metadata": {},
   "source": [
    "Abaixo se encontra uso de Bigramas e Unigramas para analisar a correlação entre características (features) e rótulos de classes no dataset balanceado. Cada categoria possui palavras correlacionadas."
   ]
  },
  {
   "cell_type": "code",
   "execution_count": 30,
   "id": "e72c0f00-69ab-4d21-b4b1-8616347d2b87",
   "metadata": {},
   "outputs": [
    {
     "name": "stdout",
     "output_type": "stream",
     "text": [
      "# 'economia':\n",
      "  . Most correlated unigrams:\n",
      ". tributaria\n",
      ". bilhoes\n",
      "  . Most correlated bigrams:\n",
      ". banco central\n",
      ". reforma tributaria\n",
      "# 'entretenimento':\n",
      "  . Most correlated unigrams:\n",
      ". fas\n",
      ". cantora\n",
      "  . Most correlated bigrams:\n",
      ". post shared\n",
      ". shared by\n",
      "# 'esportes':\n",
      "  . Most correlated unigrams:\n",
      ". rodada\n",
      ". campeonato\n",
      "  . Most correlated bigrams:\n",
      ". originalmente itatiaia\n",
      ". itatiaia versao\n",
      "# 'internacional':\n",
      "  . Most correlated unigrams:\n",
      ". israel\n",
      ". gaza\n",
      "  . Most correlated bigrams:\n",
      ". defesa israel\n",
      ". faixa gaza\n",
      "# 'nacional':\n",
      "  . Most correlated unigrams:\n",
      ". civil\n",
      ". policia\n",
      "  . Most correlated bigrams:\n",
      ". defesa civil\n",
      ". policia civil\n",
      "# 'politica':\n",
      "  . Most correlated unigrams:\n",
      ". supremo\n",
      ". stf\n",
      "  . Most correlated bigrams:\n",
      ". supremo tribunal\n",
      ". tribunal federal\n"
     ]
    }
   ],
   "source": [
    "## Bigramas e Unigramas\n",
    "from sklearn.feature_selection import chi2\n",
    "import numpy as np\n",
    "\n",
    "N = 2\n",
    "\n",
    "for categoria, category_id in sorted(category_to_id.items()):\n",
    "  features_chi2 = chi2(features, labels == category_id)\n",
    "  indices = np.argsort(features_chi2[0])\n",
    "  feature_names = np.array(tfidf.get_feature_names_out())[indices]\n",
    "  unigrams = [v for v in feature_names if len(v.split(' ')) == 1]\n",
    "  bigrams = [v for v in feature_names if len(v.split(' ')) == 2]\n",
    "  print(\"# '{}':\".format(categoria))\n",
    "  print(\"  . Most correlated unigrams:\\n. {}\".format('\\n. '.join(unigrams[-N:])))\n",
    "  print(\"  . Most correlated bigrams:\\n. {}\".format('\\n. '.join(bigrams[-N:])))"
   ]
  },
  {
   "cell_type": "markdown",
   "id": "3ac26e9f-aee5-49bf-bf9a-7d36536ff575",
   "metadata": {},
   "source": [
    "### Treinamento\n",
    "Nesta etapa encontra-se o treinamento de cada modelo. Usamos a biblioteca *sklearn* para a utilização e treinamento dos modelos. A seguir têm-se os modelos utilizados:</br>\n",
    "+ Logistic Regression: é um algoritmo usado para prever uma variável baseado em um conjunto de dados de variáveis independentes. O resultado é binário(0 e 1). LR foi construida a partir da aplicação de uma transformação sobre a Regressão Linear.\n",
    "+ Random Forest Classifier: cria árvores de decisões de maneira aleatória formando uma floresta. Suas previsões são combinadas no resultado final para realizar as previsões. \n",
    "+ Multinomial Naive Bayes: é uma variação de Naive Bayes. Para calcular a predição, o algoritmo cria uma tabela de probabilidades, em que consta a frequência deles com relação às variáveis de saída. O calcúlo final leva em conta a probabilidade maior para oferecer uma solução.\n",
    "+ Linear SVC: é uma versão linear do SVM (*Support Vector Machine*). Ele encontra um hiperplano para maximizar a distâncias entre as amostras já classificadas.\n",
    "+ Decision Tree Classifier: DTs consistem em uma estrutura de nós conectados por arestas ou ramos, que se assemelha à estrutura de uma árvore. Pode ser utilizada para tarefas de regressão e classificação."
   ]
  },
  {
   "cell_type": "code",
   "execution_count": 31,
   "id": "141b112b-97ab-4742-878d-052ffdcaafec",
   "metadata": {},
   "outputs": [],
   "source": [
    "from sklearn.model_selection import train_test_split\n",
    "from sklearn.feature_extraction.text import CountVectorizer\n",
    "from sklearn.feature_extraction.text import TfidfTransformer\n",
    "from sklearn.naive_bayes import MultinomialNB\n",
    "\n",
    "X_train, X_test, y_train, y_test = train_test_split(df_balanceado['texto'], df_balanceado['categoria'], random_state = 2)\n",
    "count_vect = CountVectorizer()\n",
    "X_train_counts = count_vect.fit_transform(X_train)\n",
    "tfidf_transformer = TfidfTransformer()\n",
    "X_train_tfidf = tfidf_transformer.fit_transform(X_train_counts)\n",
    "\n",
    "clf = MultinomialNB().fit(X_train_tfidf, y_train)"
   ]
  },
  {
   "cell_type": "code",
   "execution_count": 32,
   "id": "ae75a067-4b00-4a59-84b7-e5b6a4c4d193",
   "metadata": {},
   "outputs": [],
   "source": [
    "from sklearn.linear_model import LogisticRegression\n",
    "from sklearn.ensemble import RandomForestClassifier\n",
    "from sklearn.naive_bayes import MultinomialNB\n",
    "from sklearn.svm import LinearSVC\n",
    "from sklearn.tree import DecisionTreeClassifier\n",
    "\n",
    "from sklearn.model_selection import cross_val_score\n",
    "\n",
    "models = [\n",
    "    RandomForestClassifier(n_estimators=200, max_depth=3, random_state=0),\n",
    "    LinearSVC(dual=False),\n",
    "    MultinomialNB(), #Naive Bayes\n",
    "    LogisticRegression(random_state=0),\n",
    "    DecisionTreeClassifier(random_state=0,max_depth=10),\n",
    "]\n",
    "CV = 5\n",
    "cv_df = pd.DataFrame(index=range(CV * len(models)))\n",
    "entries = []\n",
    "for model in models:\n",
    "  model_name = model.__class__.__name__\n",
    "  accuracies = cross_val_score(model, features, labels, scoring='accuracy', cv=CV)\n",
    "  for fold_idx, accuracy in enumerate(accuracies):\n",
    "    entries.append((model_name, fold_idx, accuracy))\n",
    "cv_df = pd.DataFrame(entries, columns=['model_name', 'fold_idx', 'accuracy'])"
   ]
  },
  {
   "cell_type": "code",
   "execution_count": 34,
   "id": "566805a0-ce66-474b-9e68-b68912d431bf",
   "metadata": {},
   "outputs": [
    {
     "data": {
      "text/plain": [
       "model_name\n",
       "DecisionTreeClassifier    0.626667\n",
       "LinearSVC                 0.908519\n",
       "LogisticRegression        0.900000\n",
       "MultinomialNB             0.884444\n",
       "RandomForestClassifier    0.780000\n",
       "Name: accuracy, dtype: float64"
      ]
     },
     "execution_count": 34,
     "metadata": {},
     "output_type": "execute_result"
    }
   ],
   "source": [
    "cv_df.groupby('model_name').accuracy.mean()"
   ]
  },
  {
   "cell_type": "markdown",
   "id": "d42c9fa6-4fc7-411e-956a-0da625447537",
   "metadata": {},
   "source": [
    "Pode ser visto pela tabela acima que a acurácia de cada modelo difere bastante. Alguns fatores pela grande diferença são a profundidade usada na Decision Tree e Random Forest. Além do estado randomico.</br>\n",
    "Abaixo têm-se o gráfico representando melhor as diferenças entre os modelos."
   ]
  },
  {
   "cell_type": "code",
   "execution_count": 35,
   "id": "fe07cd89-c3bc-40cf-9eef-e926756d7b37",
   "metadata": {},
   "outputs": [
    {
     "data": {
      "image/png": "[encoded data removed]",
      "text/plain": [
       "<Figure size 640x480 with 1 Axes>"
      ]
     },
     "metadata": {},
     "output_type": "display_data"
    }
   ],
   "source": [
    "import seaborn as sns\n",
    "\n",
    "sns.boxplot(x='model_name', y='accuracy', data=cv_df)\n",
    "sns.stripplot(x='model_name', y='accuracy', data=cv_df, size=10, jitter=True, edgecolor=\"auto\", linewidth=2)\n",
    "plt.show()"
   ]
  },
  {
   "cell_type": "markdown",
   "id": "da45dec0-077c-4d8d-ad73-c0556baf1539",
   "metadata": {},
   "source": [
    "Nas próximas seções temos a demonstração, as métricas e predição de cada modelo."
   ]
  },
  {
   "cell_type": "markdown",
   "id": "e9a8a6d7-b2fa-4141-be3c-9338816c3d6e",
   "metadata": {},
   "source": [
    "### Multinomial NB"
   ]
  },
  {
   "cell_type": "code",
   "execution_count": 36,
   "id": "d720d8c8-309d-4fae-936f-78050dfd51fb",
   "metadata": {},
   "outputs": [],
   "source": [
    "## Multinomial NB\n",
    "from sklearn.model_selection import train_test_split\n",
    "\n",
    "model = MultinomialNB()\n",
    "\n",
    "X_train, X_test, y_train, y_test, indices_train, indices_test = train_test_split(features, labels, df_balanceado.index, test_size=0.33, random_state=0)\n",
    "model.fit(X_train, y_train)\n",
    "y_pred = model.predict(X_test)"
   ]
  },
  {
   "cell_type": "code",
   "execution_count": 37,
   "id": "133bea98-395d-405a-bcc3-b3acb483372b",
   "metadata": {},
   "outputs": [
    {
     "name": "stdout",
     "output_type": "stream",
     "text": [
      "                precision    recall  f1-score   support\n",
      "\n",
      "      esportes       1.00      0.93      0.96       140\n",
      "      nacional       0.84      0.86      0.85       147\n",
      " internacional       0.94      0.84      0.89       159\n",
      "      economia       0.80      0.91      0.85       137\n",
      "      politica       0.84      0.78      0.81       141\n",
      "entretenimento       0.91      0.99      0.95       167\n",
      "\n",
      "      accuracy                           0.89       891\n",
      "     macro avg       0.89      0.88      0.88       891\n",
      "  weighted avg       0.89      0.89      0.89       891\n",
      "\n"
     ]
    }
   ],
   "source": [
    "from sklearn import metrics\n",
    "print(metrics.classification_report(y_test, y_pred,target_names=df_balanceado['categoria'].unique()))"
   ]
  },
  {
   "cell_type": "code",
   "execution_count": 38,
   "id": "e45fc6fd-7984-4ab3-9df3-6e0f5128e702",
   "metadata": {},
   "outputs": [
    {
     "data": {
      "image/png": "[encoded data removed]",
      "text/plain": [
       "<Figure size 800x600 with 2 Axes>"
      ]
     },
     "metadata": {},
     "output_type": "display_data"
    }
   ],
   "source": [
    "from sklearn.metrics import confusion_matrix\n",
    "\n",
    "conf_mat = confusion_matrix(y_test, y_pred)\n",
    "fig, ax = plt.subplots(figsize=(8,6))\n",
    "sns.heatmap(conf_mat, annot=True, fmt='d', xticklabels=category_id_df.categoria.values, yticklabels=category_id_df.categoria.values)\n",
    "plt.ylabel('Actual')\n",
    "plt.xlabel('Predicted')\n",
    "plt.show()"
   ]
  },
  {
   "cell_type": "markdown",
   "id": "6edea363-7bda-4e1b-9f44-a2d3cc85705a",
   "metadata": {},
   "source": [
    "### LogisticRegression"
   ]
  },
  {
   "cell_type": "code",
   "execution_count": 39,
   "id": "6fcfc8f4-8c96-423a-8028-ad004742d70f",
   "metadata": {},
   "outputs": [],
   "source": [
    "from sklearn.model_selection import train_test_split\n",
    "\n",
    "model2 = LogisticRegression(random_state=0)\n",
    "\n",
    "X_train2, X_test2, y_train2, y_test2, indices_train2, indices_test2 = train_test_split(features, labels, df_balanceado.index, test_size=0.33, random_state=0)\n",
    "model2.fit(X_train2, y_train2)\n",
    "y_pred2 = model2.predict(X_test2)"
   ]
  },
  {
   "cell_type": "code",
   "execution_count": 40,
   "id": "676a4225-c169-4942-be6c-7776bbfec6cc",
   "metadata": {},
   "outputs": [
    {
     "name": "stdout",
     "output_type": "stream",
     "text": [
      "                precision    recall  f1-score   support\n",
      "\n",
      "      esportes       1.00      0.98      0.99       140\n",
      "      nacional       0.83      0.88      0.86       147\n",
      " internacional       0.96      0.87      0.91       159\n",
      "      economia       0.86      0.92      0.89       137\n",
      "      politica       0.90      0.79      0.85       141\n",
      "entretenimento       0.91      0.98      0.94       167\n",
      "\n",
      "      accuracy                           0.91       891\n",
      "     macro avg       0.91      0.91      0.91       891\n",
      "  weighted avg       0.91      0.91      0.91       891\n",
      "\n"
     ]
    }
   ],
   "source": [
    "from sklearn import metrics\n",
    "print(metrics.classification_report(y_test2, y_pred2,target_names=df_balanceado['categoria'].unique()))"
   ]
  },
  {
   "cell_type": "code",
   "execution_count": 41,
   "id": "c3bb70dd-66e9-4317-ac40-fe155c9abb78",
   "metadata": {},
   "outputs": [
    {
     "data": {
      "image/png": "[encoded data removed]",
      "text/plain": [
       "<Figure size 800x600 with 2 Axes>"
      ]
     },
     "metadata": {},
     "output_type": "display_data"
    }
   ],
   "source": [
    "from sklearn.metrics import confusion_matrix\n",
    "\n",
    "conf_mat2 = confusion_matrix(y_test2, y_pred2)\n",
    "fig2, ax2 = plt.subplots(figsize=(8,6))\n",
    "sns.heatmap(conf_mat2, annot=True, fmt='d', xticklabels=category_id_df.categoria.values, yticklabels=category_id_df.categoria.values)\n",
    "plt.ylabel('Actual')\n",
    "plt.xlabel('Predicted')\n",
    "plt.show()"
   ]
  },
  {
   "cell_type": "markdown",
   "id": "4b7af232-073f-4857-b09d-0863af74f302",
   "metadata": {},
   "source": [
    "### Linear SVC"
   ]
  },
  {
   "cell_type": "code",
   "execution_count": 42,
   "id": "84826e03-bea4-496d-b2b6-10689e3bf12c",
   "metadata": {},
   "outputs": [],
   "source": [
    "from sklearn.model_selection import train_test_split\n",
    "\n",
    "model3 = LinearSVC(dual=False)\n",
    "\n",
    "X_train3, X_test3, y_train3, y_test3, indices_train3, indices_test3 = train_test_split(features, labels, df_balanceado.index, test_size=0.33, random_state=0)\n",
    "model3.fit(X_train3, y_train3)\n",
    "y_pred3 = model3.predict(X_test3)"
   ]
  },
  {
   "cell_type": "code",
   "execution_count": 43,
   "id": "441f1802-fcc1-4a75-ac00-ef9c133b4f1c",
   "metadata": {},
   "outputs": [
    {
     "name": "stdout",
     "output_type": "stream",
     "text": [
      "                precision    recall  f1-score   support\n",
      "\n",
      "      esportes       1.00      0.98      0.99       140\n",
      "      nacional       0.86      0.85      0.86       147\n",
      " internacional       0.95      0.89      0.92       159\n",
      "      economia       0.88      0.95      0.91       137\n",
      "      politica       0.90      0.81      0.85       141\n",
      "entretenimento       0.90      0.99      0.94       167\n",
      "\n",
      "      accuracy                           0.91       891\n",
      "     macro avg       0.91      0.91      0.91       891\n",
      "  weighted avg       0.91      0.91      0.91       891\n",
      "\n"
     ]
    }
   ],
   "source": [
    "print(metrics.classification_report(y_test3, y_pred3,target_names=df_balanceado['categoria'].unique()))"
   ]
  },
  {
   "cell_type": "code",
   "execution_count": 44,
   "id": "a293fb59-fb38-46e0-9972-1f1bde932578",
   "metadata": {},
   "outputs": [
    {
     "data": {
      "image/png": "[encoded data removed]",
      "text/plain": [
       "<Figure size 800x600 with 2 Axes>"
      ]
     },
     "metadata": {},
     "output_type": "display_data"
    }
   ],
   "source": [
    "conf_mat3 = confusion_matrix(y_test3, y_pred3)\n",
    "fig3, ax3 = plt.subplots(figsize=(8,6))\n",
    "sns.heatmap(conf_mat3, annot=True, fmt='d', xticklabels=category_id_df.categoria.values, yticklabels=category_id_df.categoria.values)\n",
    "plt.ylabel('Actual')\n",
    "plt.xlabel('Predicted')\n",
    "plt.show()"
   ]
  },
  {
   "cell_type": "markdown",
   "id": "b3eb1482-a939-4ce9-b615-62d77624f80a",
   "metadata": {},
   "source": [
    "### Random Forest Classifier"
   ]
  },
  {
   "cell_type": "code",
   "execution_count": 45,
   "id": "a1de1c66-9826-4809-b41e-73c87ab22bf0",
   "metadata": {},
   "outputs": [],
   "source": [
    "model4 = RandomForestClassifier(n_estimators=200, max_depth=3, random_state=0)\n",
    "\n",
    "X_train4, X_test4, y_train4, y_test4, indices_train4, indices_test4 = train_test_split(features, labels, df_balanceado.index, test_size=0.33, random_state=0)\n",
    "model4.fit(X_train4, y_train4)\n",
    "y_pred4 = model4.predict(X_test4)"
   ]
  },
  {
   "cell_type": "code",
   "execution_count": 46,
   "id": "6093f369-28ee-4af2-b9aa-2d78a8d4d853",
   "metadata": {},
   "outputs": [
    {
     "name": "stdout",
     "output_type": "stream",
     "text": [
      "                precision    recall  f1-score   support\n",
      "\n",
      "      esportes       0.86      0.84      0.85       140\n",
      "      nacional       0.61      0.85      0.71       147\n",
      " internacional       0.93      0.60      0.73       159\n",
      "      economia       0.71      0.75      0.73       137\n",
      "      politica       0.71      0.76      0.73       141\n",
      "entretenimento       0.88      0.78      0.83       167\n",
      "\n",
      "      accuracy                           0.76       891\n",
      "     macro avg       0.78      0.76      0.76       891\n",
      "  weighted avg       0.79      0.76      0.76       891\n",
      "\n"
     ]
    }
   ],
   "source": [
    "print(metrics.classification_report(y_test4, y_pred4,target_names=df_balanceado['categoria'].unique()))"
   ]
  },
  {
   "cell_type": "code",
   "execution_count": 47,
   "id": "03d405ef-2831-4bd2-8e1f-cb05a7fa9c0a",
   "metadata": {},
   "outputs": [
    {
     "data": {
      "image/png": "[encoded data removed]",
      "text/plain": [
       "<Figure size 800x600 with 2 Axes>"
      ]
     },
     "metadata": {},
     "output_type": "display_data"
    }
   ],
   "source": [
    "conf_mat4 = confusion_matrix(y_test4, y_pred4)\n",
    "fig4, ax4 = plt.subplots(figsize=(8,6))\n",
    "sns.heatmap(conf_mat4, annot=True, fmt='d', xticklabels=category_id_df.categoria.values, yticklabels=category_id_df.categoria.values)\n",
    "plt.ylabel('Actual')\n",
    "plt.xlabel('Predicted')\n",
    "plt.show()"
   ]
  },
  {
   "cell_type": "markdown",
   "id": "d05d11df-3a0d-4fbd-ad05-445cd96b0ebd",
   "metadata": {},
   "source": [
    "### Decision Tree"
   ]
  },
  {
   "cell_type": "code",
   "execution_count": 48,
   "id": "83e99a55-b880-4943-92ed-a1b8b5dc02f3",
   "metadata": {},
   "outputs": [],
   "source": [
    "model5 = DecisionTreeClassifier(random_state=0,max_depth=10)\n",
    "\n",
    "X_train5, X_test5, y_train5, y_test5, indices_train5, indices_test5 = train_test_split(features, labels, df_balanceado.index, test_size=0.33, random_state=0)\n",
    "model5.fit(X_train5, y_train5)\n",
    "y_pred5 = model5.predict(X_test5)"
   ]
  },
  {
   "cell_type": "code",
   "execution_count": 49,
   "id": "6bfe77e4-d78b-4429-a1ee-5544a805cae6",
   "metadata": {},
   "outputs": [
    {
     "name": "stdout",
     "output_type": "stream",
     "text": [
      "                precision    recall  f1-score   support\n",
      "\n",
      "      esportes       0.99      0.66      0.79       140\n",
      "      nacional       0.67      0.52      0.58       147\n",
      " internacional       0.95      0.50      0.65       159\n",
      "      economia       0.47      0.42      0.44       137\n",
      "      politica       0.75      0.64      0.69       141\n",
      "entretenimento       0.43      0.93      0.59       167\n",
      "\n",
      "      accuracy                           0.62       891\n",
      "     macro avg       0.71      0.61      0.63       891\n",
      "  weighted avg       0.71      0.62      0.63       891\n",
      "\n"
     ]
    }
   ],
   "source": [
    "print(metrics.classification_report(y_test5, y_pred5, target_names=df_balanceado['categoria'].unique()))"
   ]
  },
  {
   "cell_type": "code",
   "execution_count": 50,
   "id": "d5419ca8-5188-4bd4-bf9b-0a0cee1b79ae",
   "metadata": {},
   "outputs": [
    {
     "data": {
      "image/png": "[encoded data removed]",
      "text/plain": [
       "<Figure size 800x600 with 2 Axes>"
      ]
     },
     "metadata": {},
     "output_type": "display_data"
    }
   ],
   "source": [
    "conf_mat5 = confusion_matrix(y_test5, y_pred5)\n",
    "fig5, ax5 = plt.subplots(figsize=(8,6))\n",
    "sns.heatmap(conf_mat5, annot=True, fmt='d', xticklabels=category_id_df.categoria.values, yticklabels=category_id_df.categoria.values)\n",
    "plt.ylabel('Actual')\n",
    "plt.xlabel('Predicted')\n",
    "plt.show()"
   ]
  },
  {
   "cell_type": "markdown",
   "id": "6f42baa4-2785-41bb-adb8-fda9d2aad8e2",
   "metadata": {},
   "source": [
    "## Testando o(s) Modelo(s)\n",
    "Aqui encontra-se os testes com textos pegos da CNN para a demonstração de suas acurácias."
   ]
  },
  {
   "cell_type": "markdown",
   "id": "c7c5b18b-da7d-4f92-9e30-be29f986f1f4",
   "metadata": {},
   "source": [
    "### Multinomial NB"
   ]
  },
  {
   "cell_type": "code",
   "execution_count": 51,
   "id": "45318cc6-ee2b-4304-ba19-624635837e61",
   "metadata": {},
   "outputs": [
    {
     "name": "stdout",
     "output_type": "stream",
     "text": [
      "  - Predicted as: 'politica'\n"
     ]
    }
   ],
   "source": [
    "texts = [\"\"\" França deu o último passo, nesta segunda-feira (4), para se tornar o primeiro país do mundo a prever o acesso ao aborto em sua Constituição.\n",
    "O Congresso francês, que reúne as duas casas do Parlamento em Versalhes para votação quando há mudanças na Constituição, aprovou por ampla maioria o projeto que constitucionaliza o aborto. Dos 852 deputados e senadores reunidos, 780 votaram a favor e 72 contra.\n",
    "\n",
    "Após a promulgação pelo presidente francês, o que deve acontecer na sexta-feira (8), Dia da Mulher, o artigo 34.º artigo da Constituição francesa passará a prever a “liberdade garantida da mulher de recorrer ao direito à interrupção voluntária da gravidez [IVG, sigla usada para se referir ao aborto na França]”. \n",
    "Raízes históricas por trás da mudança\n",
    "\n",
    "A decisão, considerada histórica por movimentos feministas e partidos de esquerda, é uma construção de séculos.\n",
    "\n",
    "A defesa dos direitos femininos na França tem raízes históricas. Já no século XV, a escritora Christine de Pizan defendeu o direito das mulheres à educação. Três séculos depois, Olympe de Gouges criticou a exclusão das mulheres da “Declaração dos Direitos do Homem e do Cidadão” na Revolução Francesa de 1789. E em 1949, no livro “O Segundo Sexo”, Simone de Beauvoir estruturou as bases que definem o feminismo moderno ao discutir a opressão da mulher em um mundo dominado pelo homem.\n",
    "\n",
    "A França também é o país que, ainda no início do século passado, separou a Igreja do Estado ao aprovar em 1905 a Lei da Laicidade, afastando a religião das discussões políticas. \n",
    "\n",
    "Esses são alguns dos fatores que explicam por que 86% dos franceses apoiam a constitucionalização do aborto, como demonstrou uma pesquisa do final de 2022 – taxa bem superior à do Brasil, onde a aprovação ao aborto é de 39%. \n",
    "\n",
    "Com o apoio massivo da população francesa, senadores admitiram que votaram a favor do texto para evitar críticas. No último dia 28 de fevereiro, o Senado francês, de maioria direitista, aprovou o projeto por ampla maioria, com 267 votos a favor e 50 contra.\"\"\"]\n",
    "text_features = tfidf.transform(texts)\n",
    "predictions = model.predict(text_features)\n",
    "for text, predicted in zip(texts, predictions):\n",
    "  #print('\"{}\"'.format(text))\n",
    "  print(\"  - Predicted as: '{}'\".format(id_to_category[predicted]))"
   ]
  },
  {
   "cell_type": "code",
   "execution_count": 52,
   "id": "fc0a0ece-d087-4790-8bc4-153b234dad67",
   "metadata": {},
   "outputs": [
    {
     "name": "stdout",
     "output_type": "stream",
     "text": [
      "  - Predicted as: 'nacional'\n"
     ]
    }
   ],
   "source": [
    "texts = [\"\"\" Mais um preso que fugiu de um presídio na região metropolitana de Belo Horizonte (MG) foi recapturado pela Polícia Militar. Com isso, quatro dos nove fugitivos já foram encontrados.\n",
    "\n",
    "João Batista Freire Rodrigues Filho foi localizado por policiais na manhã do último domingo (3). Ele estava preso na penitenciária de Santa Luzia, na Grande Belo Horizonte. A fuga ocorreu na última quarta-feira (29).\n",
    "\n",
    "Segundo a Secretaria de Estado de Justiça e Segurança, o preso foi encontrado em Juatuba, também na região metropolitana de Belo Horizonte. Informações do Disque-Denúncia levaram os agentes a encontrá-lo.Até o momento, a Secretaria de Segurança afirmou que cinco fugitivos ainda não foram localizados. O terceiro recapturado foi encontrado na última sexta-feira (1º) pela Polícia Militar. Os outros dois foram recapturados no mesmo dia da fuga.\n",
    "\n",
    "Em nota, a pasta ressalta que a população pode continuar ajudando as forças de segurança com informações, por meio do Disque-Denúncia (181). A secretaria afirma que a ligação é gratuita e o canal garante 100% o anonimato do denunciante.\"\"\"]\n",
    "text_features = tfidf.transform(texts)\n",
    "predictions = model.predict(text_features)\n",
    "for text, predicted in zip(texts, predictions):\n",
    "  #print('\"{}\"'.format(text))\n",
    "  print(\"  - Predicted as: '{}'\".format(id_to_category[predicted]))"
   ]
  },
  {
   "cell_type": "code",
   "execution_count": 53,
   "id": "064f3897-a1f8-45e1-a1bd-0dfeb8597c95",
   "metadata": {},
   "outputs": [
    {
     "name": "stdout",
     "output_type": "stream",
     "text": [
      "  - Predicted as: 'entretenimento'\n"
     ]
    }
   ],
   "source": [
    "texts = [\"\"\"A cantora foi expulsa do reality show no último sábado (2), após ser acusada de agressão pelo participante Davi Brito.\n",
    "\n",
    "Em um vídeo publicado no stories de seu perfil no Instagram, Zilu explicou que as coisas não estão bem no momento. No entanto, garantiu que, em breve, devem melhorar.\n",
    "\n",
    "“A gente está aqui, enchendo ela de carinho e de amor. Está todo mundo trabalhando, é vida que segue, bola para frente. Deus sabe de todas as coisas, Deus sabe o que é melhor para cada um de nós e Ele age de acordo com aquilo que é melhor pra gente”, afirmou.\n",
    "\n",
    "Sem mencionar Dado Dolabella, atual namorado de Wanessa, Zilu disse que permanecerá na casa da filha. “Então, a gente não pode julgar, atacar ou fazer nada a não ser orar e deixar tudo nas mãos de Deus. É isso que eu acredito e isso que será feito”, acrescentou. Ao final, a empresária afirmou que aos poucos Camargo está retomando sua rotina. “Agora mesmo ela foi buscar o Joãozinho, ela está a todo vapor. Lógico que as coisas não estão bem, mas vai ficar. Tenho certeza que vai ficar”, concluiu.\n",
    "A expulsão de Wanessa Camargo\n",
    "\n",
    "A decisão da produção do BBB 24 sobre a desclassificação de Wanessa aconteceu na tarde do último sábado (2), horas depois de Davi ter dito que a cantora lhe deu um tapa enquanto ele dormia.\n",
    "\n",
    "“Ela viu que eu estava deitado. São quatro camas naquele quarto, ela veio bater logo na minha cama? Além disso ser provocação, é falta de respeito. Eu estava dormindo, cara. Perdi até o sono”, disse.\n",
    "\n",
    "“Aí quando você está no seu momento de paz, tem que acontecer. Tem que acontecer alguma coisa, tirar você do sério. Isso não vai ficar de graça não”, afirmou ele. \"\"\"]\n",
    "text_features = tfidf.transform(texts)\n",
    "predictions = model.predict(text_features)\n",
    "for text, predicted in zip(texts, predictions):\n",
    "  #print('\"{}\"'.format(text))\n",
    "  print(\"  - Predicted as: '{}'\".format(id_to_category[predicted]))"
   ]
  },
  {
   "cell_type": "markdown",
   "id": "3847e028-fb5f-472d-a170-23d3372a5e12",
   "metadata": {},
   "source": [
    "### LogisticRegression"
   ]
  },
  {
   "cell_type": "code",
   "execution_count": 59,
   "id": "ae8dbbf9-f1ad-4b86-89ff-cf9d386760f6",
   "metadata": {},
   "outputs": [
    {
     "name": "stdout",
     "output_type": "stream",
     "text": [
      "  - Predicted as: 'politica'\n"
     ]
    }
   ],
   "source": [
    "texts = [\"\"\" Mais um preso que fugiu de um presídio na região metropolitana de Belo Horizonte (MG) foi recapturado pela Polícia Militar. Com isso, quatro dos nove fugitivos já foram encontrados.\n",
    "\n",
    "João Batista Freire Rodrigues Filho foi localizado por policiais na manhã do último domingo (3). Ele estava preso na penitenciária de Santa Luzia, na Grande Belo Horizonte. A fuga ocorreu na última quarta-feira (29).\n",
    "\n",
    "Segundo a Secretaria de Estado de Justiça e Segurança, o preso foi encontrado em Juatuba, também na região metropolitana de Belo Horizonte. Informações do Disque-Denúncia levaram os agentes a encontrá-lo.Até o momento, a Secretaria de Segurança afirmou que cinco fugitivos ainda não foram localizados. O terceiro recapturado foi encontrado na última sexta-feira (1º) pela Polícia Militar. Os outros dois foram recapturados no mesmo dia da fuga.\n",
    "\n",
    "Em nota, a pasta ressalta que a população pode continuar ajudando as forças de segurança com informações, por meio do Disque-Denúncia (181). A secretaria afirma que a ligação é gratuita e o canal garante 100% o anonimato do denunciante.\"\"\"]\n",
    "text_features2 = tfidf.transform(texts)\n",
    "predictions2 = model2.predict(text_features)\n",
    "for text, predicted in zip(texts, predictions2):\n",
    "  #print('\"{}\"'.format(text))\n",
    "  print(\"  - Predicted as: '{}'\".format(id_to_category[predicted]))"
   ]
  },
  {
   "cell_type": "code",
   "execution_count": 58,
   "id": "0978cc71-a267-4a31-82e7-87a18be05adf",
   "metadata": {},
   "outputs": [
    {
     "name": "stdout",
     "output_type": "stream",
     "text": [
      "  - Predicted as: 'politica'\n"
     ]
    }
   ],
   "source": [
    "texts = [\"\"\" França deu o último passo, nesta segunda-feira (4), para se tornar o primeiro país do mundo a prever o acesso ao aborto em sua Constituição.\n",
    "O Congresso francês, que reúne as duas casas do Parlamento em Versalhes para votação quando há mudanças na Constituição, aprovou por ampla maioria o projeto que constitucionaliza o aborto. Dos 852 deputados e senadores reunidos, 780 votaram a favor e 72 contra.\n",
    "\n",
    "Após a promulgação pelo presidente francês, o que deve acontecer na sexta-feira (8), Dia da Mulher, o artigo 34.º artigo da Constituição francesa passará a prever a “liberdade garantida da mulher de recorrer ao direito à interrupção voluntária da gravidez [IVG, sigla usada para se referir ao aborto na França]”. \n",
    "Raízes históricas por trás da mudança\n",
    "\n",
    "A decisão, considerada histórica por movimentos feministas e partidos de esquerda, é uma construção de séculos.\n",
    "\n",
    "A defesa dos direitos femininos na França tem raízes históricas. Já no século XV, a escritora Christine de Pizan defendeu o direito das mulheres à educação. Três séculos depois, Olympe de Gouges criticou a exclusão das mulheres da “Declaração dos Direitos do Homem e do Cidadão” na Revolução Francesa de 1789. E em 1949, no livro “O Segundo Sexo”, Simone de Beauvoir estruturou as bases que definem o feminismo moderno ao discutir a opressão da mulher em um mundo dominado pelo homem.\n",
    "\n",
    "A França também é o país que, ainda no início do século passado, separou a Igreja do Estado ao aprovar em 1905 a Lei da Laicidade, afastando a religião das discussões políticas. \n",
    "\n",
    "Esses são alguns dos fatores que explicam por que 86% dos franceses apoiam a constitucionalização do aborto, como demonstrou uma pesquisa do final de 2022 – taxa bem superior à do Brasil, onde a aprovação ao aborto é de 39%. \n",
    "\n",
    "Com o apoio massivo da população francesa, senadores admitiram que votaram a favor do texto para evitar críticas. No último dia 28 de fevereiro, o Senado francês, de maioria direitista, aprovou o projeto por ampla maioria, com 267 votos a favor e 50 contra.\"\"\"]\n",
    "text_features = tfidf.transform(texts)\n",
    "predictions2 = model2.predict(text_features)\n",
    "for text, predicted in zip(texts, predictions2):\n",
    "  #print('\"{}\"'.format(text))\n",
    "  print(\"  - Predicted as: '{}'\".format(id_to_category[predicted]))"
   ]
  },
  {
   "cell_type": "code",
   "execution_count": 60,
   "id": "fab1b307-5a97-4255-947e-92eb50cda019",
   "metadata": {},
   "outputs": [
    {
     "name": "stdout",
     "output_type": "stream",
     "text": [
      "  - Predicted as: 'entretenimento'\n"
     ]
    }
   ],
   "source": [
    "texts = [\"\"\"A cantora foi expulsa do reality show no último sábado (2), após ser acusada de agressão pelo participante Davi Brito.\n",
    "\n",
    "Em um vídeo publicado no stories de seu perfil no Instagram, Zilu explicou que as coisas não estão bem no momento. No entanto, garantiu que, em breve, devem melhorar.\n",
    "\n",
    "“A gente está aqui, enchendo ela de carinho e de amor. Está todo mundo trabalhando, é vida que segue, bola para frente. Deus sabe de todas as coisas, Deus sabe o que é melhor para cada um de nós e Ele age de acordo com aquilo que é melhor pra gente”, afirmou.\n",
    "\n",
    "Sem mencionar Dado Dolabella, atual namorado de Wanessa, Zilu disse que permanecerá na casa da filha. “Então, a gente não pode julgar, atacar ou fazer nada a não ser orar e deixar tudo nas mãos de Deus. É isso que eu acredito e isso que será feito”, acrescentou. Ao final, a empresária afirmou que aos poucos Camargo está retomando sua rotina. “Agora mesmo ela foi buscar o Joãozinho, ela está a todo vapor. Lógico que as coisas não estão bem, mas vai ficar. Tenho certeza que vai ficar”, concluiu.\n",
    "A expulsão de Wanessa Camargo\n",
    "\n",
    "A decisão da produção do BBB 24 sobre a desclassificação de Wanessa aconteceu na tarde do último sábado (2), horas depois de Davi ter dito que a cantora lhe deu um tapa enquanto ele dormia.\n",
    "\n",
    "“Ela viu que eu estava deitado. São quatro camas naquele quarto, ela veio bater logo na minha cama? Além disso ser provocação, é falta de respeito. Eu estava dormindo, cara. Perdi até o sono”, disse.\n",
    "\n",
    "“Aí quando você está no seu momento de paz, tem que acontecer. Tem que acontecer alguma coisa, tirar você do sério. Isso não vai ficar de graça não”, afirmou ele. \"\"\"]\n",
    "text_features2 = tfidf.transform(texts)\n",
    "predictions2 = model2.predict(text_features2)\n",
    "for text, predicted in zip(texts, predictions2):\n",
    "  #print('\"{}\"'.format(text))\n",
    "  print(\"  - Predicted as: '{}'\".format(id_to_category[predicted]))"
   ]
  },
  {
   "cell_type": "markdown",
   "id": "a9c0f3cc-c0b0-4127-b31d-9711c98acbb0",
   "metadata": {},
   "source": [
    "### Linear SVC"
   ]
  },
  {
   "cell_type": "code",
   "execution_count": 65,
   "id": "6a3041dd-5d62-4b54-a6cf-95c56190aac4",
   "metadata": {},
   "outputs": [
    {
     "name": "stdout",
     "output_type": "stream",
     "text": [
      "  - Predicted as: 'nacional'\n"
     ]
    }
   ],
   "source": [
    "texts = [\"\"\" Mais um preso que fugiu de um presídio na região metropolitana de Belo Horizonte (MG) foi recapturado pela Polícia Militar. Com isso, quatro dos nove fugitivos já foram encontrados.\n",
    "\n",
    "João Batista Freire Rodrigues Filho foi localizado por policiais na manhã do último domingo (3). Ele estava preso na penitenciária de Santa Luzia, na Grande Belo Horizonte. A fuga ocorreu na última quarta-feira (29).\n",
    "\n",
    "Segundo a Secretaria de Estado de Justiça e Segurança, o preso foi encontrado em Juatuba, também na região metropolitana de Belo Horizonte. Informações do Disque-Denúncia levaram os agentes a encontrá-lo.Até o momento, a Secretaria de Segurança afirmou que cinco fugitivos ainda não foram localizados. O terceiro recapturado foi encontrado na última sexta-feira (1º) pela Polícia Militar. Os outros dois foram recapturados no mesmo dia da fuga.\n",
    "\n",
    "Em nota, a pasta ressalta que a população pode continuar ajudando as forças de segurança com informações, por meio do Disque-Denúncia (181). A secretaria afirma que a ligação é gratuita e o canal garante 100% o anonimato do denunciante.\"\"\"]\n",
    "text_features3 = tfidf.transform(texts)\n",
    "predictions3 = model3.predict(text_features3)\n",
    "for text, predicted in zip(texts, predictions3):\n",
    "  #print('\"{}\"'.format(text))\n",
    "  print(\"  - Predicted as: '{}'\".format(id_to_category[predicted]))"
   ]
  },
  {
   "cell_type": "code",
   "execution_count": 66,
   "id": "75c87e23-d636-4963-98e6-31a099e6aa12",
   "metadata": {},
   "outputs": [
    {
     "name": "stdout",
     "output_type": "stream",
     "text": [
      "  - Predicted as: 'entretenimento'\n"
     ]
    }
   ],
   "source": [
    "texts = [\"\"\"A cantora foi expulsa do reality show no último sábado (2), após ser acusada de agressão pelo participante Davi Brito.\n",
    "\n",
    "Em um vídeo publicado no stories de seu perfil no Instagram, Zilu explicou que as coisas não estão bem no momento. No entanto, garantiu que, em breve, devem melhorar.\n",
    "\n",
    "“A gente está aqui, enchendo ela de carinho e de amor. Está todo mundo trabalhando, é vida que segue, bola para frente. Deus sabe de todas as coisas, Deus sabe o que é melhor para cada um de nós e Ele age de acordo com aquilo que é melhor pra gente”, afirmou.\n",
    "\n",
    "Sem mencionar Dado Dolabella, atual namorado de Wanessa, Zilu disse que permanecerá na casa da filha. “Então, a gente não pode julgar, atacar ou fazer nada a não ser orar e deixar tudo nas mãos de Deus. É isso que eu acredito e isso que será feito”, acrescentou. Ao final, a empresária afirmou que aos poucos Camargo está retomando sua rotina. “Agora mesmo ela foi buscar o Joãozinho, ela está a todo vapor. Lógico que as coisas não estão bem, mas vai ficar. Tenho certeza que vai ficar”, concluiu.\n",
    "A expulsão de Wanessa Camargo\n",
    "\n",
    "A decisão da produção do BBB 24 sobre a desclassificação de Wanessa aconteceu na tarde do último sábado (2), horas depois de Davi ter dito que a cantora lhe deu um tapa enquanto ele dormia.\n",
    "\n",
    "“Ela viu que eu estava deitado. São quatro camas naquele quarto, ela veio bater logo na minha cama? Além disso ser provocação, é falta de respeito. Eu estava dormindo, cara. Perdi até o sono”, disse.\n",
    "\n",
    "“Aí quando você está no seu momento de paz, tem que acontecer. Tem que acontecer alguma coisa, tirar você do sério. Isso não vai ficar de graça não”, afirmou ele. \"\"\"]\n",
    "text_features3 = tfidf.transform(texts)\n",
    "predictions3 = model3.predict(text_features3)\n",
    "for text, predicted in zip(texts, predictions3):\n",
    "  #print('\"{}\"'.format(text))\n",
    "  print(\"  - Predicted as: '{}'\".format(id_to_category[predicted]))"
   ]
  },
  {
   "cell_type": "markdown",
   "id": "ab58cb4c-1cac-45e3-a825-caa3afddef68",
   "metadata": {},
   "source": [
    "### Random Forest Classifier"
   ]
  },
  {
   "cell_type": "code",
   "execution_count": 68,
   "id": "91c008e6-db23-4d0e-a653-22c6c2e0de3b",
   "metadata": {},
   "outputs": [
    {
     "name": "stdout",
     "output_type": "stream",
     "text": [
      "  - Predicted as: 'nacional'\n"
     ]
    }
   ],
   "source": [
    "texts = [\"\"\" Mais um preso que fugiu de um presídio na região metropolitana de Belo Horizonte (MG) foi recapturado pela Polícia Militar. Com isso, quatro dos nove fugitivos já foram encontrados.\n",
    "\n",
    "João Batista Freire Rodrigues Filho foi localizado por policiais na manhã do último domingo (3). Ele estava preso na penitenciária de Santa Luzia, na Grande Belo Horizonte. A fuga ocorreu na última quarta-feira (29).\n",
    "\n",
    "Segundo a Secretaria de Estado de Justiça e Segurança, o preso foi encontrado em Juatuba, também na região metropolitana de Belo Horizonte. Informações do Disque-Denúncia levaram os agentes a encontrá-lo.Até o momento, a Secretaria de Segurança afirmou que cinco fugitivos ainda não foram localizados. O terceiro recapturado foi encontrado na última sexta-feira (1º) pela Polícia Militar. Os outros dois foram recapturados no mesmo dia da fuga.\n",
    "\n",
    "Em nota, a pasta ressalta que a população pode continuar ajudando as forças de segurança com informações, por meio do Disque-Denúncia (181). A secretaria afirma que a ligação é gratuita e o canal garante 100% o anonimato do denunciante.\"\"\"]\n",
    "text_features4 = tfidf.transform(texts)\n",
    "predictions4 = model4.predict(text_features4)\n",
    "for text, predicted in zip(texts, predictions4):\n",
    "  #print('\"{}\"'.format(text))\n",
    "  print(\"  - Predicted as: '{}'\".format(id_to_category[predicted]))"
   ]
  },
  {
   "cell_type": "code",
   "execution_count": 67,
   "id": "85eaefa6-d2a1-4665-8ae5-f94e2947490d",
   "metadata": {},
   "outputs": [
    {
     "name": "stdout",
     "output_type": "stream",
     "text": [
      "  - Predicted as: 'entretenimento'\n"
     ]
    }
   ],
   "source": [
    "texts = [\"\"\"A cantora foi expulsa do reality show no último sábado (2), após ser acusada de agressão pelo participante Davi Brito.\n",
    "\n",
    "Em um vídeo publicado no stories de seu perfil no Instagram, Zilu explicou que as coisas não estão bem no momento. No entanto, garantiu que, em breve, devem melhorar.\n",
    "\n",
    "“A gente está aqui, enchendo ela de carinho e de amor. Está todo mundo trabalhando, é vida que segue, bola para frente. Deus sabe de todas as coisas, Deus sabe o que é melhor para cada um de nós e Ele age de acordo com aquilo que é melhor pra gente”, afirmou.\n",
    "\n",
    "Sem mencionar Dado Dolabella, atual namorado de Wanessa, Zilu disse que permanecerá na casa da filha. “Então, a gente não pode julgar, atacar ou fazer nada a não ser orar e deixar tudo nas mãos de Deus. É isso que eu acredito e isso que será feito”, acrescentou. Ao final, a empresária afirmou que aos poucos Camargo está retomando sua rotina. “Agora mesmo ela foi buscar o Joãozinho, ela está a todo vapor. Lógico que as coisas não estão bem, mas vai ficar. Tenho certeza que vai ficar”, concluiu.\n",
    "A expulsão de Wanessa Camargo\n",
    "\n",
    "A decisão da produção do BBB 24 sobre a desclassificação de Wanessa aconteceu na tarde do último sábado (2), horas depois de Davi ter dito que a cantora lhe deu um tapa enquanto ele dormia.\n",
    "\n",
    "“Ela viu que eu estava deitado. São quatro camas naquele quarto, ela veio bater logo na minha cama? Além disso ser provocação, é falta de respeito. Eu estava dormindo, cara. Perdi até o sono”, disse.\n",
    "\n",
    "“Aí quando você está no seu momento de paz, tem que acontecer. Tem que acontecer alguma coisa, tirar você do sério. Isso não vai ficar de graça não”, afirmou ele. \"\"\"]\n",
    "text_features4 = tfidf.transform(texts)\n",
    "predictions4 = model4.predict(text_features4)\n",
    "for text, predicted in zip(texts, predictions4):\n",
    "  #print('\"{}\"'.format(text))\n",
    "  print(\"  - Predicted as: '{}'\".format(id_to_category[predicted]))"
   ]
  },
  {
   "cell_type": "markdown",
   "id": "01c24485-eeec-417e-92ba-c2dbc440134e",
   "metadata": {},
   "source": [
    "### Decision Tree Classifier"
   ]
  },
  {
   "cell_type": "code",
   "execution_count": 69,
   "id": "c03f1693-46d7-4689-a21b-093d5e7636b8",
   "metadata": {},
   "outputs": [
    {
     "name": "stdout",
     "output_type": "stream",
     "text": [
      "  - Predicted as: 'entretenimento'\n"
     ]
    }
   ],
   "source": [
    "texts = [\"\"\" Mais um preso que fugiu de um presídio na região metropolitana de Belo Horizonte (MG) foi recapturado pela Polícia Militar. Com isso, quatro dos nove fugitivos já foram encontrados.\n",
    "\n",
    "João Batista Freire Rodrigues Filho foi localizado por policiais na manhã do último domingo (3). Ele estava preso na penitenciária de Santa Luzia, na Grande Belo Horizonte. A fuga ocorreu na última quarta-feira (29).\n",
    "\n",
    "Segundo a Secretaria de Estado de Justiça e Segurança, o preso foi encontrado em Juatuba, também na região metropolitana de Belo Horizonte. Informações do Disque-Denúncia levaram os agentes a encontrá-lo.Até o momento, a Secretaria de Segurança afirmou que cinco fugitivos ainda não foram localizados. O terceiro recapturado foi encontrado na última sexta-feira (1º) pela Polícia Militar. Os outros dois foram recapturados no mesmo dia da fuga.\n",
    "\n",
    "Em nota, a pasta ressalta que a população pode continuar ajudando as forças de segurança com informações, por meio do Disque-Denúncia (181). A secretaria afirma que a ligação é gratuita e o canal garante 100% o anonimato do denunciante.\"\"\"]\n",
    "text_features5 = tfidf.transform(texts)\n",
    "predictions5 = model5.predict(text_features5)\n",
    "for text, predicted in zip(texts, predictions5):\n",
    "  #print('\"{}\"'.format(text))\n",
    "  print(\"  - Predicted as: '{}'\".format(id_to_category[predicted]))"
   ]
  },
  {
   "cell_type": "code",
   "execution_count": 70,
   "id": "47284a64-25d8-412b-b0b6-bf0e4679d786",
   "metadata": {},
   "outputs": [
    {
     "name": "stdout",
     "output_type": "stream",
     "text": [
      "  - Predicted as: 'entretenimento'\n"
     ]
    }
   ],
   "source": [
    "texts = [\"\"\"A cantora foi expulsa do reality show no último sábado (2), após ser acusada de agressão pelo participante Davi Brito.\n",
    "\n",
    "Em um vídeo publicado no stories de seu perfil no Instagram, Zilu explicou que as coisas não estão bem no momento. No entanto, garantiu que, em breve, devem melhorar.\n",
    "\n",
    "“A gente está aqui, enchendo ela de carinho e de amor. Está todo mundo trabalhando, é vida que segue, bola para frente. Deus sabe de todas as coisas, Deus sabe o que é melhor para cada um de nós e Ele age de acordo com aquilo que é melhor pra gente”, afirmou.\n",
    "\n",
    "Sem mencionar Dado Dolabella, atual namorado de Wanessa, Zilu disse que permanecerá na casa da filha. “Então, a gente não pode julgar, atacar ou fazer nada a não ser orar e deixar tudo nas mãos de Deus. É isso que eu acredito e isso que será feito”, acrescentou. Ao final, a empresária afirmou que aos poucos Camargo está retomando sua rotina. “Agora mesmo ela foi buscar o Joãozinho, ela está a todo vapor. Lógico que as coisas não estão bem, mas vai ficar. Tenho certeza que vai ficar”, concluiu.\n",
    "A expulsão de Wanessa Camargo\n",
    "\n",
    "A decisão da produção do BBB 24 sobre a desclassificação de Wanessa aconteceu na tarde do último sábado (2), horas depois de Davi ter dito que a cantora lhe deu um tapa enquanto ele dormia.\n",
    "\n",
    "“Ela viu que eu estava deitado. São quatro camas naquele quarto, ela veio bater logo na minha cama? Além disso ser provocação, é falta de respeito. Eu estava dormindo, cara. Perdi até o sono”, disse.\n",
    "\n",
    "“Aí quando você está no seu momento de paz, tem que acontecer. Tem que acontecer alguma coisa, tirar você do sério. Isso não vai ficar de graça não”, afirmou ele. \"\"\"]\n",
    "text_features5 = tfidf.transform(texts)\n",
    "predictions5 = model5.predict(text_features5)\n",
    "for text, predicted in zip(texts, predictions5):\n",
    "  #print('\"{}\"'.format(text))\n",
    "  print(\"  - Predicted as: '{}'\".format(id_to_category[predicted]))"
   ]
  },
  {
   "cell_type": "markdown",
   "id": "f58b38f4-6168-46ba-9f52-7fd9aa43ba00",
   "metadata": {},
   "source": [
    "## Conclusão\n",
    "\n",
    "A classificação de texto nos dias de hoje é muito importante, especialmente com a quantidade de infromações existentes hoje em dia. Os modelos mais utilizados, de acordo com os artigos, é SVM, Decision Tree e Nayve Bayes e esses modelos obtiveram os melhores resultados no experimentos feitos. Porém, como vimos durante esse notebook, Decicion Tree Classifier foi o que obteve a menor acurácia e desempenho. Isso é devido a profundidade utilizada que foi de valor 10. Caso a profundidade fosse maior, haveria uma mudança significativa em sua acurácia. Porém, conforme a profundidade aumenta, o tempo de treinamento também aumenta, o que torna a Decision Tree um modelo \"demorado\" de treinar.</br>\n",
    "\n",
    "Outro ponto importante é a importância do balanceamento e pré-processamento no desempenho dos modelos. Uma mudança como a remoção de palavras não necessárias ao texto, que não existiam na lista de stopwords da NLTK, mudou bastante o resultado final. Isso nos mostra que essas etapas precisam ser feitas em relação ao problema a ser resolvido e não fazer uma etapa \"genérica\" para que o modelo funcione apenas bem.</br>\n",
    "\n",
    "Assim, concluimos que é importante o estudo dos modelos a serem usados e a preparação do dataset para um melhor classificador."
   ]
  },
  {
   "cell_type": "markdown",
   "id": "1a6aebbe-c037-49a5-bd29-727a3d0b2628",
   "metadata": {},
   "source": [
    "## Referências"
   ]
  },
  {
   "cell_type": "markdown",
   "id": "98b5667d-cbb6-49d5-ad51-97db6ee6aeae",
   "metadata": {},
   "source": [
    "Dien, Tran Thanh; Loc, Bui Huu; Thai-Nghe, Nguyen  (2019).  [IEEE 2019 International Conference on Advanced Computing and Applications (ACOMP) - Nha Trang, Vietnam (2019.11.26-2019.11.28)] 2019 International Conference on Advanced Computing and Applications (ACOMP) - Article Classification using Natural Language Processing and Machine Learning.,(),78–84.doi:10.1109/acomp.2019.00019 </br>\n",
    "\n",
    "F. Miao, P. Zhang, L. Jin and H. Wu, \"Chinese News Text Classification Based on Machine Learning Algorithm,\" 2018 10th International Conference on Intelligent Human-Machine Systems and Cybernetics (IHMSC), Hangzhou, China, 2018, pp. 48-51, doi: 10.1109/IHMSC.2018.10117. keywords: {Text categorization;Classification algorithms;Machine learning algorithms;Training;Support vector machines;Bayes methods;Computational modeling;Chinese text classification;Chinese word segment;Feature extraction;Machine learning algorithm},</br>"
   ]
  }
 ],
 "metadata": {
  "kernelspec": {
   "display_name": "Python 3 (ipykernel)",
   "language": "python",
   "name": "python3"
  },
  "language_info": {
   "codemirror_mode": {
    "name": "ipython",
    "version": 3
   },
   "file_extension": ".py",
   "mimetype": "text/x-python",
   "name": "python",
   "nbconvert_exporter": "python",
   "pygments_lexer": "ipython3",
   "version": "3.11.5"
  }
 },
 "nbformat": 4,
 "nbformat_minor": 5
}
