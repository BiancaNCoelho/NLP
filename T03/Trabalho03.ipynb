{
 "cells": [
  {
   "cell_type": "markdown",
   "id": "8d4f880c-f518-4ba3-8179-c824fb75d6fc",
   "metadata": {},
   "source": [
    "# Trabalho 3\n",
    "\n",
    "Bianca Nunes Coelho - 15102880<br>\n",
    "Raíssa Nunes Coelho - 15102887<br>"
   ]
  },
  {
   "cell_type": "markdown",
   "id": "f42aba62-4aeb-49ac-858b-4dcab8b9e2ae",
   "metadata": {},
   "source": [
    "## Introdução\n",
    "No cenário atual de constante fluxo de informações, o jornalismo desempenha um papel crucial na disseminação de notícias e na formação de opinião pública. Com a crescente quantidade de conteúdo jornalístico disponível online, surge a necessidade de técnicas automatizadas para organizar e classificar essas informações de maneira eficiente. Neste projeto, propomos explorar o uso do Processamento de Linguagem Natural (PLN) para classificar textos de matérias jornalísticas, visando aprimorar a organização e a acessibilidade desse conteúdo."
   ]
  },
  {
   "cell_type": "markdown",
   "id": "82b56278-2686-4569-bb24-76ff3741234e",
   "metadata": {},
   "source": [
    "## Bibliotecas"
   ]
  },
  {
   "cell_type": "code",
   "execution_count": 1,
   "id": "64e366e8-973e-4c8e-859b-fcff57136cea",
   "metadata": {},
   "outputs": [],
   "source": [
    "import pandas as pd\n",
    "import re\n",
    "import nltk\n",
    "import matplotlib.pyplot as plt"
   ]
  },
  {
   "cell_type": "markdown",
   "id": "c5966aa2-6fa2-4ad1-8c76-629cf5043789",
   "metadata": {},
   "source": [
    "## Dataset"
   ]
  },
  {
   "cell_type": "code",
   "execution_count": 2,
   "id": "66aae1c3-0ff5-4182-a51d-903fe3e2e6eb",
   "metadata": {},
   "outputs": [],
   "source": [
    "file = \"train-00000-of-00001-ecf072e7202447d8.parquet\"\n",
    "df = pd.read_parquet(file, engine= 'pyarrow')"
   ]
  },
  {
   "cell_type": "code",
   "execution_count": 3,
   "id": "87bb3d8c-5a54-42be-b320-a3715e319207",
   "metadata": {},
   "outputs": [
    {
     "data": {
      "text/plain": [
       "3877"
      ]
     },
     "execution_count": 3,
     "metadata": {},
     "output_type": "execute_result"
    }
   ],
   "source": [
    "len(df)"
   ]
  },
  {
   "cell_type": "code",
   "execution_count": 4,
   "id": "ef562d5e-5fb4-4366-88da-ef75b40f0ada",
   "metadata": {
    "scrolled": true
   },
   "outputs": [
    {
     "data": {
      "text/html": [
       "<div>\n",
       "<style scoped>\n",
       "    .dataframe tbody tr th:only-of-type {\n",
       "        vertical-align: middle;\n",
       "    }\n",
       "\n",
       "    .dataframe tbody tr th {\n",
       "        vertical-align: top;\n",
       "    }\n",
       "\n",
       "    .dataframe thead th {\n",
       "        text-align: right;\n",
       "    }\n",
       "</style>\n",
       "<table border=\"1\" class=\"dataframe\">\n",
       "  <thead>\n",
       "    <tr style=\"text-align: right;\">\n",
       "      <th></th>\n",
       "      <th>titulo</th>\n",
       "      <th>texto</th>\n",
       "      <th>link</th>\n",
       "      <th>resumo</th>\n",
       "      <th>categoria</th>\n",
       "      <th>data_hora</th>\n",
       "    </tr>\n",
       "  </thead>\n",
       "  <tbody>\n",
       "    <tr>\n",
       "      <th>0</th>\n",
       "      <td>Veja a trajetória de Fernando Diniz, em busca ...</td>\n",
       "      <td>Se tem um treinador que sempre foi badalado pe...</td>\n",
       "      <td>https://www.cnnbrasil.com.br/esportes/veja-a-t...</td>\n",
       "      <td>Técnico tricolor e da Seleção Brasileira tem a...</td>\n",
       "      <td>esportes</td>\n",
       "      <td>2023-11-04 12:26:18</td>\n",
       "    </tr>\n",
       "    <tr>\n",
       "      <th>1</th>\n",
       "      <td>Após tempestade com ventos, São Paulo terá sáb...</td>\n",
       "      <td>Após uma tempestade com ventos de mais de 100 ...</td>\n",
       "      <td>https://www.cnnbrasil.com.br/nacional/apos-tem...</td>\n",
       "      <td>Termômetros devem chegar a 26ºC, esquentando a...</td>\n",
       "      <td>nacional</td>\n",
       "      <td>2023-11-04 12:15:44</td>\n",
       "    </tr>\n",
       "    <tr>\n",
       "      <th>2</th>\n",
       "      <td>Como os aplicativos de relacionamento “arruina...</td>\n",
       "      <td>Jenny Nguyen-Don estava com vontade de comer f...</td>\n",
       "      <td>https://www.cnnbrasil.com.br/tecnologia/como-o...</td>\n",
       "      <td>Pessoas em busca de relacionamentos afirmam qu...</td>\n",
       "      <td>tecnologia</td>\n",
       "      <td>2023-11-04 12:15:07</td>\n",
       "    </tr>\n",
       "    <tr>\n",
       "      <th>3</th>\n",
       "      <td>Fluminense pode ser o 26º clube a levantar a t...</td>\n",
       "      <td>O Fluminense vai em busca do primeiro título d...</td>\n",
       "      <td>https://www.cnnbrasil.com.br/esportes/fluminen...</td>\n",
       "      <td>Em busca do título inédito, o Tricolor carioca...</td>\n",
       "      <td>esportes</td>\n",
       "      <td>2023-11-04 12:05:24</td>\n",
       "    </tr>\n",
       "  </tbody>\n",
       "</table>\n",
       "</div>"
      ],
      "text/plain": [
       "                                              titulo  \\\n",
       "0  Veja a trajetória de Fernando Diniz, em busca ...   \n",
       "1  Após tempestade com ventos, São Paulo terá sáb...   \n",
       "2  Como os aplicativos de relacionamento “arruina...   \n",
       "3  Fluminense pode ser o 26º clube a levantar a t...   \n",
       "\n",
       "                                               texto  \\\n",
       "0  Se tem um treinador que sempre foi badalado pe...   \n",
       "1  Após uma tempestade com ventos de mais de 100 ...   \n",
       "2  Jenny Nguyen-Don estava com vontade de comer f...   \n",
       "3  O Fluminense vai em busca do primeiro título d...   \n",
       "\n",
       "                                                link  \\\n",
       "0  https://www.cnnbrasil.com.br/esportes/veja-a-t...   \n",
       "1  https://www.cnnbrasil.com.br/nacional/apos-tem...   \n",
       "2  https://www.cnnbrasil.com.br/tecnologia/como-o...   \n",
       "3  https://www.cnnbrasil.com.br/esportes/fluminen...   \n",
       "\n",
       "                                              resumo   categoria  \\\n",
       "0  Técnico tricolor e da Seleção Brasileira tem a...    esportes   \n",
       "1  Termômetros devem chegar a 26ºC, esquentando a...    nacional   \n",
       "2  Pessoas em busca de relacionamentos afirmam qu...  tecnologia   \n",
       "3  Em busca do título inédito, o Tricolor carioca...    esportes   \n",
       "\n",
       "             data_hora  \n",
       "0  2023-11-04 12:26:18  \n",
       "1  2023-11-04 12:15:44  \n",
       "2  2023-11-04 12:15:07  \n",
       "3  2023-11-04 12:05:24  "
      ]
     },
     "execution_count": 4,
     "metadata": {},
     "output_type": "execute_result"
    }
   ],
   "source": [
    "df.head(4)"
   ]
  },
  {
   "cell_type": "markdown",
   "id": "39101ef9-4e8d-41e2-a9d9-a18bbdd406c6",
   "metadata": {},
   "source": [
    "## Balanceamento"
   ]
  },
  {
   "cell_type": "code",
   "execution_count": 5,
   "id": "a69b2280-8f23-4895-b70c-72b6211c41a6",
   "metadata": {},
   "outputs": [
    {
     "data": {
      "text/plain": [
       "esportes           960\n",
       "nacional           623\n",
       "internacional      618\n",
       "economia           562\n",
       "politica           507\n",
       "entretenimento     450\n",
       "tecnologia          44\n",
       "saude               41\n",
       "noticias            38\n",
       "lifestyle           21\n",
       "branded-content     13\n",
       "Name: categoria, dtype: int64"
      ]
     },
     "execution_count": 5,
     "metadata": {},
     "output_type": "execute_result"
    }
   ],
   "source": [
    "df['categoria'].value_counts()"
   ]
  },
  {
   "cell_type": "code",
   "execution_count": 6,
   "id": "ab0f58c5-51da-4d87-9835-2912a9655edb",
   "metadata": {},
   "outputs": [
    {
     "data": {
      "text/plain": [
       "<AxesSubplot: >"
      ]
     },
     "execution_count": 6,
     "metadata": {},
     "output_type": "execute_result"
    },
    {
     "data": {
      "image/png": "[encoded data removed]",
      "text/plain": [
       "<Figure size 1000x400 with 1 Axes>"
      ]
     },
     "metadata": {},
     "output_type": "display_data"
    }
   ],
   "source": [
    "plt.figure(figsize=(10,4))\n",
    "df.categoria.value_counts().plot(kind='bar')"
   ]
  },
  {
   "cell_type": "code",
   "execution_count": 7,
   "id": "ae4be987-ec09-4a83-8612-cdb14ac9dcd0",
   "metadata": {},
   "outputs": [],
   "source": [
    "indice_linha_remover = ['tecnologia',  'saude','noticias','lifestyle','branded-content']"
   ]
  },
  {
   "cell_type": "code",
   "execution_count": 8,
   "id": "b764b27a-a018-4a3b-8f87-2724103ec14a",
   "metadata": {},
   "outputs": [],
   "source": [
    "df = df[~df['categoria'].isin(indice_linha_remover)]"
   ]
  },
  {
   "cell_type": "code",
   "execution_count": 9,
   "id": "d8eb9c5f-cafc-4be5-8911-ad1ced14fe67",
   "metadata": {},
   "outputs": [
    {
     "data": {
      "text/plain": [
       "esportes          960\n",
       "nacional          623\n",
       "internacional     618\n",
       "economia          562\n",
       "politica          507\n",
       "entretenimento    450\n",
       "Name: categoria, dtype: int64"
      ]
     },
     "execution_count": 9,
     "metadata": {},
     "output_type": "execute_result"
    }
   ],
   "source": [
    "df['categoria'].value_counts()"
   ]
  },
  {
   "cell_type": "code",
   "execution_count": 10,
   "id": "0fb30f3d-1f6f-462f-9d74-57855407899b",
   "metadata": {},
   "outputs": [],
   "source": [
    "# Undersampling\n",
    "min = df['categoria'].value_counts().min()\n",
    "\n",
    "amostras = []\n",
    "\n",
    "for i in df['categoria'].value_counts().index:\n",
    "    a = df[df['categoria'] == i].sample(min, replace=False)\n",
    "    amostras.append(a)\n",
    "\n",
    "df_balanceado = pd.concat(amostras)"
   ]
  },
  {
   "cell_type": "code",
   "execution_count": 11,
   "id": "3edd9ec7-372c-4609-a974-30d9359c1d67",
   "metadata": {},
   "outputs": [
    {
     "data": {
      "text/plain": [
       "esportes          450\n",
       "nacional          450\n",
       "internacional     450\n",
       "economia          450\n",
       "politica          450\n",
       "entretenimento    450\n",
       "Name: categoria, dtype: int64"
      ]
     },
     "execution_count": 11,
     "metadata": {},
     "output_type": "execute_result"
    }
   ],
   "source": [
    "df_balanceado['categoria'].value_counts()"
   ]
  },
  {
   "cell_type": "code",
   "execution_count": 12,
   "id": "42f147b7-862b-4e08-8b36-375f21c69d3b",
   "metadata": {},
   "outputs": [
    {
     "data": {
      "text/html": [
       "<div>\n",
       "<style scoped>\n",
       "    .dataframe tbody tr th:only-of-type {\n",
       "        vertical-align: middle;\n",
       "    }\n",
       "\n",
       "    .dataframe tbody tr th {\n",
       "        vertical-align: top;\n",
       "    }\n",
       "\n",
       "    .dataframe thead th {\n",
       "        text-align: right;\n",
       "    }\n",
       "</style>\n",
       "<table border=\"1\" class=\"dataframe\">\n",
       "  <thead>\n",
       "    <tr style=\"text-align: right;\">\n",
       "      <th></th>\n",
       "      <th>titulo</th>\n",
       "      <th>texto</th>\n",
       "      <th>link</th>\n",
       "      <th>resumo</th>\n",
       "      <th>categoria</th>\n",
       "      <th>data_hora</th>\n",
       "    </tr>\n",
       "  </thead>\n",
       "  <tbody>\n",
       "    <tr>\n",
       "      <th>0</th>\n",
       "      <td>Carrasco na Libertadores, Corinthians faz 8 a ...</td>\n",
       "      <td>Após vencer o arquirrival na decisão da Copa L...</td>\n",
       "      <td>https://www.cnnbrasil.com.br/esportes/carrasco...</td>\n",
       "      <td>Na final, o Corinthians enfrentará o vencedor ...</td>\n",
       "      <td>esportes</td>\n",
       "      <td>2023-11-12 18:24:58</td>\n",
       "    </tr>\n",
       "    <tr>\n",
       "      <th>1</th>\n",
       "      <td>Vítor Pereira diz que jogadores brasileiros ch...</td>\n",
       "      <td>O técnico português Vítor Pereira afirmou que ...</td>\n",
       "      <td>https://www.cnnbrasil.com.br/esportes/vitor-pe...</td>\n",
       "      <td>Ex-treinador de Corinthians e Flamengo comento...</td>\n",
       "      <td>esportes</td>\n",
       "      <td>2023-11-09 14:22:18</td>\n",
       "    </tr>\n",
       "    <tr>\n",
       "      <th>2</th>\n",
       "      <td>Daniel Alves oferece R$ 800 mil à denuciante p...</td>\n",
       "      <td>Após ter o terceiro pedido de liberdade provis...</td>\n",
       "      <td>https://www.cnnbrasil.com.br/esportes/daniel-a...</td>\n",
       "      <td>Após terceira negativa de liberdade provisória...</td>\n",
       "      <td>esportes</td>\n",
       "      <td>2023-11-28 14:52:13</td>\n",
       "    </tr>\n",
       "    <tr>\n",
       "      <th>3</th>\n",
       "      <td>STJD determina que Cruzeiro e Coritiba joguem ...</td>\n",
       "      <td>O Superior Tribunal de Justiça Desportiva (STJ...</td>\n",
       "      <td>https://www.cnnbrasil.com.br/esportes/stjd-det...</td>\n",
       "      <td>Decisão do STJD foi anunciada nesta quinta; pu...</td>\n",
       "      <td>esportes</td>\n",
       "      <td>2023-11-16 21:00:08</td>\n",
       "    </tr>\n",
       "    <tr>\n",
       "      <th>4</th>\n",
       "      <td>Diniz diz que enfrentar Messi é diferente, mas...</td>\n",
       "      <td>Fernando Diniz admitiu que enfrentar Lionel Me...</td>\n",
       "      <td>https://www.cnnbrasil.com.br/esportes/diniz-di...</td>\n",
       "      <td>Treinador vai manter tática habitual para conf...</td>\n",
       "      <td>esportes</td>\n",
       "      <td>2023-11-20 23:35:51</td>\n",
       "    </tr>\n",
       "  </tbody>\n",
       "</table>\n",
       "</div>"
      ],
      "text/plain": [
       "                                              titulo  \\\n",
       "0  Carrasco na Libertadores, Corinthians faz 8 a ...   \n",
       "1  Vítor Pereira diz que jogadores brasileiros ch...   \n",
       "2  Daniel Alves oferece R$ 800 mil à denuciante p...   \n",
       "3  STJD determina que Cruzeiro e Coritiba joguem ...   \n",
       "4  Diniz diz que enfrentar Messi é diferente, mas...   \n",
       "\n",
       "                                               texto  \\\n",
       "0  Após vencer o arquirrival na decisão da Copa L...   \n",
       "1  O técnico português Vítor Pereira afirmou que ...   \n",
       "2  Após ter o terceiro pedido de liberdade provis...   \n",
       "3  O Superior Tribunal de Justiça Desportiva (STJ...   \n",
       "4  Fernando Diniz admitiu que enfrentar Lionel Me...   \n",
       "\n",
       "                                                link  \\\n",
       "0  https://www.cnnbrasil.com.br/esportes/carrasco...   \n",
       "1  https://www.cnnbrasil.com.br/esportes/vitor-pe...   \n",
       "2  https://www.cnnbrasil.com.br/esportes/daniel-a...   \n",
       "3  https://www.cnnbrasil.com.br/esportes/stjd-det...   \n",
       "4  https://www.cnnbrasil.com.br/esportes/diniz-di...   \n",
       "\n",
       "                                              resumo categoria  \\\n",
       "0  Na final, o Corinthians enfrentará o vencedor ...  esportes   \n",
       "1  Ex-treinador de Corinthians e Flamengo comento...  esportes   \n",
       "2  Após terceira negativa de liberdade provisória...  esportes   \n",
       "3  Decisão do STJD foi anunciada nesta quinta; pu...  esportes   \n",
       "4  Treinador vai manter tática habitual para conf...  esportes   \n",
       "\n",
       "             data_hora  \n",
       "0  2023-11-12 18:24:58  \n",
       "1  2023-11-09 14:22:18  \n",
       "2  2023-11-28 14:52:13  \n",
       "3  2023-11-16 21:00:08  \n",
       "4  2023-11-20 23:35:51  "
      ]
     },
     "execution_count": 12,
     "metadata": {},
     "output_type": "execute_result"
    }
   ],
   "source": [
    "df_balanceado = df_balanceado.reset_index(drop=True)\n",
    "df_balanceado.head(5)"
   ]
  },
  {
   "cell_type": "code",
   "execution_count": 13,
   "id": "c3c68842-19af-45e6-b656-f267e6c590b7",
   "metadata": {},
   "outputs": [
    {
     "data": {
      "text/plain": [
       "2700"
      ]
     },
     "execution_count": 13,
     "metadata": {},
     "output_type": "execute_result"
    }
   ],
   "source": [
    "# pega coluna\n",
    "text = df_balanceado['texto'] # para NLTK\n",
    "len(text)"
   ]
  },
  {
   "cell_type": "markdown",
   "id": "296e7b55-c248-4995-a222-3a73f34608bb",
   "metadata": {},
   "source": [
    "## Pré-processamento"
   ]
  },
  {
   "cell_type": "code",
   "execution_count": 15,
   "id": "550934b0-b39d-49e5-b671-94ec819c59f8",
   "metadata": {},
   "outputs": [],
   "source": [
    "for i in range(len(text)):\n",
    "    text[i] = text[i].lower()"
   ]
  },
  {
   "cell_type": "code",
   "execution_count": 16,
   "id": "ebc1eff3-adbf-4a01-9b25-ed23bd127db8",
   "metadata": {},
   "outputs": [],
   "source": [
    "from unidecode import unidecode\n",
    "\n",
    "for i in range(len(text)):\n",
    "    text[i] = unidecode(text[i])"
   ]
  },
  {
   "cell_type": "code",
   "execution_count": 17,
   "id": "2bcbf34e-2d4c-4840-83a4-0f8332adc593",
   "metadata": {},
   "outputs": [],
   "source": [
    "for i in range(len(text)):\n",
    "    text[i] = re.sub(r'[^a-zA-Z\\s]', \"\" ,text[i])"
   ]
  },
  {
   "cell_type": "code",
   "execution_count": 18,
   "id": "c1f521ba-151c-4b8f-86cd-66e2020f5d6f",
   "metadata": {},
   "outputs": [],
   "source": [
    "token_text = []\n",
    "\n",
    "for j in text:\n",
    "    token_text.append(nltk.word_tokenize(j))"
   ]
  },
  {
   "cell_type": "code",
   "execution_count": 19,
   "id": "4cfcd130-5906-4319-b9b9-38c1aa217177",
   "metadata": {},
   "outputs": [
    {
     "name": "stderr",
     "output_type": "stream",
     "text": [
      "[nltk_data] Downloading package stopwords to /home/hworld/nltk_data...\n",
      "[nltk_data]   Package stopwords is already up-to-date!\n"
     ]
    },
    {
     "data": {
      "text/plain": [
       "True"
      ]
     },
     "execution_count": 19,
     "metadata": {},
     "output_type": "execute_result"
    }
   ],
   "source": [
    "nltk.download('stopwords')"
   ]
  },
  {
   "cell_type": "code",
   "execution_count": 20,
   "id": "bb696de4-921d-4f3d-8a72-5feeb769417b",
   "metadata": {},
   "outputs": [],
   "source": [
    "from nltk.corpus import stopwords\n",
    "sw = stopwords.words('portuguese')"
   ]
  },
  {
   "cell_type": "code",
   "execution_count": 21,
   "id": "c54c70fa-4e69-4a78-88ac-a824150560a7",
   "metadata": {},
   "outputs": [],
   "source": [
    "for stop in sw:\n",
    "    for text in token_text:\n",
    "        for t in text:\n",
    "            if(t == stop):\n",
    "                text.remove(t)"
   ]
  },
  {
   "cell_type": "code",
   "execution_count": 22,
   "id": "ec7b7237-0a45-4b15-a443-c11bef215981",
   "metadata": {},
   "outputs": [
    {
     "data": {
      "text/html": [
       "<div>\n",
       "<style scoped>\n",
       "    .dataframe tbody tr th:only-of-type {\n",
       "        vertical-align: middle;\n",
       "    }\n",
       "\n",
       "    .dataframe tbody tr th {\n",
       "        vertical-align: top;\n",
       "    }\n",
       "\n",
       "    .dataframe thead th {\n",
       "        text-align: right;\n",
       "    }\n",
       "</style>\n",
       "<table border=\"1\" class=\"dataframe\">\n",
       "  <thead>\n",
       "    <tr style=\"text-align: right;\">\n",
       "      <th></th>\n",
       "      <th>titulo</th>\n",
       "      <th>texto</th>\n",
       "      <th>link</th>\n",
       "      <th>resumo</th>\n",
       "      <th>categoria</th>\n",
       "      <th>data_hora</th>\n",
       "    </tr>\n",
       "  </thead>\n",
       "  <tbody>\n",
       "    <tr>\n",
       "      <th>0</th>\n",
       "      <td>Carrasco na Libertadores, Corinthians faz 8 a ...</td>\n",
       "      <td>[apos, vencer, arquirrival, decisao, copa, lib...</td>\n",
       "      <td>https://www.cnnbrasil.com.br/esportes/carrasco...</td>\n",
       "      <td>Na final, o Corinthians enfrentará o vencedor ...</td>\n",
       "      <td>esportes</td>\n",
       "      <td>2023-11-12 18:24:58</td>\n",
       "    </tr>\n",
       "    <tr>\n",
       "      <th>1</th>\n",
       "      <td>Vítor Pereira diz que jogadores brasileiros ch...</td>\n",
       "      <td>[tecnico, portugues, vitor, pereira, afirmou, ...</td>\n",
       "      <td>https://www.cnnbrasil.com.br/esportes/vitor-pe...</td>\n",
       "      <td>Ex-treinador de Corinthians e Flamengo comento...</td>\n",
       "      <td>esportes</td>\n",
       "      <td>2023-11-09 14:22:18</td>\n",
       "    </tr>\n",
       "  </tbody>\n",
       "</table>\n",
       "</div>"
      ],
      "text/plain": [
       "                                              titulo  \\\n",
       "0  Carrasco na Libertadores, Corinthians faz 8 a ...   \n",
       "1  Vítor Pereira diz que jogadores brasileiros ch...   \n",
       "\n",
       "                                               texto  \\\n",
       "0  [apos, vencer, arquirrival, decisao, copa, lib...   \n",
       "1  [tecnico, portugues, vitor, pereira, afirmou, ...   \n",
       "\n",
       "                                                link  \\\n",
       "0  https://www.cnnbrasil.com.br/esportes/carrasco...   \n",
       "1  https://www.cnnbrasil.com.br/esportes/vitor-pe...   \n",
       "\n",
       "                                              resumo categoria  \\\n",
       "0  Na final, o Corinthians enfrentará o vencedor ...  esportes   \n",
       "1  Ex-treinador de Corinthians e Flamengo comento...  esportes   \n",
       "\n",
       "             data_hora  \n",
       "0  2023-11-12 18:24:58  \n",
       "1  2023-11-09 14:22:18  "
      ]
     },
     "execution_count": 22,
     "metadata": {},
     "output_type": "execute_result"
    }
   ],
   "source": [
    "df_balanceado['texto'] = token_text\n",
    "df_balanceado.head(2)"
   ]
  },
  {
   "cell_type": "markdown",
   "id": "e90b7bc0-a34a-4a3d-8bb5-853150ff9381",
   "metadata": {},
   "source": [
    "## Treinamento dos Modelos\n",
    "https://github.com/susanli2016/Machine-Learning-with-Python/blob/master/Consumer_complaints.ipynb  <br>\n",
    "refazer para cada biblioteca"
   ]
  },
  {
   "cell_type": "markdown",
   "id": "614274d4-547a-433c-84ce-eae1dff5173b",
   "metadata": {},
   "source": [
    "### NLTK"
   ]
  },
  {
   "cell_type": "code",
   "execution_count": 23,
   "id": "70e9f077-225b-4ea9-8ef8-e588f032aad8",
   "metadata": {},
   "outputs": [
    {
     "name": "stdout",
     "output_type": "stream",
     "text": [
      "apos vencer arquirrival decisao copa libertadores corinthians protagonizou outra vitoria palmeiras temporada neste domingo time alvinegro fez neo quimica arena sao paulo carimbou vaga decisao campeonato paulista feminino jogo ida equipe alvinegra ja havia vencido jundiai leia feliz coisa faz diferenca torcida confesso nao acreditando placar elastico corinthians palmeiras sempre equilibrado deu tudo certo gente hoje surpresa feliz forca grupo disse gabi portilho final corinthians enfrentara vencedor confronto sao paulo santos acontecera nesta segundafeira h vila belmiro arena barueri time baixada paulista venceu corinthians busca quarto titulo paulistao ja venceu tambem santos juventus sao maiores vencedores quatro conquistas cada ja palmeiras campeao gente otimo ano passado titulos libertadores paulista queria repetir fazer melhor infelizmente termina ano pior forma possivel dificil falar qualquer coisa desse placar juntar cacos pensar proximo ano disse bia zaneratto presente convocacao arthur elias extreinador corinthians atual tecnico selecao brasileira primeiro tempo pouco equilibrado palmeiras chances marcar corinthians abriu placar dois minutos arremate duda sampaio luana gabi portilho tambem deixaram levaram vestiario segundo tempo corinthians atropelou quatro minutos tamires cruzou vic albuquerque deu leve desvio cabeca fazer quinto saiu seis gabi portilho achou milene livre dentro area total liberdade bateu categoria superar amanda corinthians nao tirou pe acelerador ainda fez tres mariza jheniffer miria reacao palmeiras apenas ficou assistindo arquirrival passear neo quimica arena\n"
     ]
    }
   ],
   "source": [
    "for i in range(len(token_text)):\n",
    "    token_text[i] = \" \".join(token_text[i])\n",
    "print(token_text[0])"
   ]
  },
  {
   "cell_type": "code",
   "execution_count": 24,
   "id": "814b0cbc-c6d1-45e8-9017-8f8ce5e4fe6c",
   "metadata": {},
   "outputs": [
    {
     "data": {
      "text/html": [
       "<div>\n",
       "<style scoped>\n",
       "    .dataframe tbody tr th:only-of-type {\n",
       "        vertical-align: middle;\n",
       "    }\n",
       "\n",
       "    .dataframe tbody tr th {\n",
       "        vertical-align: top;\n",
       "    }\n",
       "\n",
       "    .dataframe thead th {\n",
       "        text-align: right;\n",
       "    }\n",
       "</style>\n",
       "<table border=\"1\" class=\"dataframe\">\n",
       "  <thead>\n",
       "    <tr style=\"text-align: right;\">\n",
       "      <th></th>\n",
       "      <th>titulo</th>\n",
       "      <th>texto</th>\n",
       "      <th>link</th>\n",
       "      <th>resumo</th>\n",
       "      <th>categoria</th>\n",
       "      <th>data_hora</th>\n",
       "    </tr>\n",
       "  </thead>\n",
       "  <tbody>\n",
       "    <tr>\n",
       "      <th>0</th>\n",
       "      <td>Carrasco na Libertadores, Corinthians faz 8 a ...</td>\n",
       "      <td>apos vencer arquirrival decisao copa libertado...</td>\n",
       "      <td>https://www.cnnbrasil.com.br/esportes/carrasco...</td>\n",
       "      <td>Na final, o Corinthians enfrentará o vencedor ...</td>\n",
       "      <td>esportes</td>\n",
       "      <td>2023-11-12 18:24:58</td>\n",
       "    </tr>\n",
       "    <tr>\n",
       "      <th>1</th>\n",
       "      <td>Vítor Pereira diz que jogadores brasileiros ch...</td>\n",
       "      <td>tecnico portugues vitor pereira afirmou jovens...</td>\n",
       "      <td>https://www.cnnbrasil.com.br/esportes/vitor-pe...</td>\n",
       "      <td>Ex-treinador de Corinthians e Flamengo comento...</td>\n",
       "      <td>esportes</td>\n",
       "      <td>2023-11-09 14:22:18</td>\n",
       "    </tr>\n",
       "    <tr>\n",
       "      <th>2</th>\n",
       "      <td>Daniel Alves oferece R$ 800 mil à denuciante p...</td>\n",
       "      <td>apos ter terceiro pedido liberdade provisoria ...</td>\n",
       "      <td>https://www.cnnbrasil.com.br/esportes/daniel-a...</td>\n",
       "      <td>Após terceira negativa de liberdade provisória...</td>\n",
       "      <td>esportes</td>\n",
       "      <td>2023-11-28 14:52:13</td>\n",
       "    </tr>\n",
       "    <tr>\n",
       "      <th>3</th>\n",
       "      <td>STJD determina que Cruzeiro e Coritiba joguem ...</td>\n",
       "      <td>superior tribunal justica desportiva stjd puni...</td>\n",
       "      <td>https://www.cnnbrasil.com.br/esportes/stjd-det...</td>\n",
       "      <td>Decisão do STJD foi anunciada nesta quinta; pu...</td>\n",
       "      <td>esportes</td>\n",
       "      <td>2023-11-16 21:00:08</td>\n",
       "    </tr>\n",
       "    <tr>\n",
       "      <th>4</th>\n",
       "      <td>Diniz diz que enfrentar Messi é diferente, mas...</td>\n",
       "      <td>fernando diniz admitiu enfrentar lionel messi ...</td>\n",
       "      <td>https://www.cnnbrasil.com.br/esportes/diniz-di...</td>\n",
       "      <td>Treinador vai manter tática habitual para conf...</td>\n",
       "      <td>esportes</td>\n",
       "      <td>2023-11-20 23:35:51</td>\n",
       "    </tr>\n",
       "  </tbody>\n",
       "</table>\n",
       "</div>"
      ],
      "text/plain": [
       "                                              titulo  \\\n",
       "0  Carrasco na Libertadores, Corinthians faz 8 a ...   \n",
       "1  Vítor Pereira diz que jogadores brasileiros ch...   \n",
       "2  Daniel Alves oferece R$ 800 mil à denuciante p...   \n",
       "3  STJD determina que Cruzeiro e Coritiba joguem ...   \n",
       "4  Diniz diz que enfrentar Messi é diferente, mas...   \n",
       "\n",
       "                                               texto  \\\n",
       "0  apos vencer arquirrival decisao copa libertado...   \n",
       "1  tecnico portugues vitor pereira afirmou jovens...   \n",
       "2  apos ter terceiro pedido liberdade provisoria ...   \n",
       "3  superior tribunal justica desportiva stjd puni...   \n",
       "4  fernando diniz admitiu enfrentar lionel messi ...   \n",
       "\n",
       "                                                link  \\\n",
       "0  https://www.cnnbrasil.com.br/esportes/carrasco...   \n",
       "1  https://www.cnnbrasil.com.br/esportes/vitor-pe...   \n",
       "2  https://www.cnnbrasil.com.br/esportes/daniel-a...   \n",
       "3  https://www.cnnbrasil.com.br/esportes/stjd-det...   \n",
       "4  https://www.cnnbrasil.com.br/esportes/diniz-di...   \n",
       "\n",
       "                                              resumo categoria  \\\n",
       "0  Na final, o Corinthians enfrentará o vencedor ...  esportes   \n",
       "1  Ex-treinador de Corinthians e Flamengo comento...  esportes   \n",
       "2  Após terceira negativa de liberdade provisória...  esportes   \n",
       "3  Decisão do STJD foi anunciada nesta quinta; pu...  esportes   \n",
       "4  Treinador vai manter tática habitual para conf...  esportes   \n",
       "\n",
       "             data_hora  \n",
       "0  2023-11-12 18:24:58  \n",
       "1  2023-11-09 14:22:18  \n",
       "2  2023-11-28 14:52:13  \n",
       "3  2023-11-16 21:00:08  \n",
       "4  2023-11-20 23:35:51  "
      ]
     },
     "execution_count": 24,
     "metadata": {},
     "output_type": "execute_result"
    }
   ],
   "source": [
    "df_balanceado['texto'] = token_text\n",
    "df_balanceado.head(5)"
   ]
  },
  {
   "cell_type": "code",
   "execution_count": 25,
   "id": "25271109-1eeb-4ed0-90fb-9fd19c4706ab",
   "metadata": {},
   "outputs": [],
   "source": [
    "col = ['categoria', 'texto']\n",
    "df_balanceado = df_balanceado[col]"
   ]
  },
  {
   "cell_type": "code",
   "execution_count": 26,
   "id": "6f4821d2-e896-40ed-8236-8f7f88c6240d",
   "metadata": {},
   "outputs": [
    {
     "data": {
      "text/html": [
       "<div>\n",
       "<style scoped>\n",
       "    .dataframe tbody tr th:only-of-type {\n",
       "        vertical-align: middle;\n",
       "    }\n",
       "\n",
       "    .dataframe tbody tr th {\n",
       "        vertical-align: top;\n",
       "    }\n",
       "\n",
       "    .dataframe thead th {\n",
       "        text-align: right;\n",
       "    }\n",
       "</style>\n",
       "<table border=\"1\" class=\"dataframe\">\n",
       "  <thead>\n",
       "    <tr style=\"text-align: right;\">\n",
       "      <th></th>\n",
       "      <th>categoria</th>\n",
       "      <th>texto</th>\n",
       "    </tr>\n",
       "  </thead>\n",
       "  <tbody>\n",
       "    <tr>\n",
       "      <th>0</th>\n",
       "      <td>esportes</td>\n",
       "      <td>apos vencer arquirrival decisao copa libertado...</td>\n",
       "    </tr>\n",
       "    <tr>\n",
       "      <th>1</th>\n",
       "      <td>esportes</td>\n",
       "      <td>tecnico portugues vitor pereira afirmou jovens...</td>\n",
       "    </tr>\n",
       "    <tr>\n",
       "      <th>2</th>\n",
       "      <td>esportes</td>\n",
       "      <td>apos ter terceiro pedido liberdade provisoria ...</td>\n",
       "    </tr>\n",
       "    <tr>\n",
       "      <th>3</th>\n",
       "      <td>esportes</td>\n",
       "      <td>superior tribunal justica desportiva stjd puni...</td>\n",
       "    </tr>\n",
       "    <tr>\n",
       "      <th>4</th>\n",
       "      <td>esportes</td>\n",
       "      <td>fernando diniz admitiu enfrentar lionel messi ...</td>\n",
       "    </tr>\n",
       "  </tbody>\n",
       "</table>\n",
       "</div>"
      ],
      "text/plain": [
       "  categoria                                              texto\n",
       "0  esportes  apos vencer arquirrival decisao copa libertado...\n",
       "1  esportes  tecnico portugues vitor pereira afirmou jovens...\n",
       "2  esportes  apos ter terceiro pedido liberdade provisoria ...\n",
       "3  esportes  superior tribunal justica desportiva stjd puni...\n",
       "4  esportes  fernando diniz admitiu enfrentar lionel messi ..."
      ]
     },
     "execution_count": 26,
     "metadata": {},
     "output_type": "execute_result"
    }
   ],
   "source": [
    "df_balanceado.head()"
   ]
  },
  {
   "cell_type": "code",
   "execution_count": 27,
   "id": "9bb2b0ca-95ca-4996-b6e2-cf19aceffb6b",
   "metadata": {},
   "outputs": [
    {
     "data": {
      "text/html": [
       "<div>\n",
       "<style scoped>\n",
       "    .dataframe tbody tr th:only-of-type {\n",
       "        vertical-align: middle;\n",
       "    }\n",
       "\n",
       "    .dataframe tbody tr th {\n",
       "        vertical-align: top;\n",
       "    }\n",
       "\n",
       "    .dataframe thead th {\n",
       "        text-align: right;\n",
       "    }\n",
       "</style>\n",
       "<table border=\"1\" class=\"dataframe\">\n",
       "  <thead>\n",
       "    <tr style=\"text-align: right;\">\n",
       "      <th></th>\n",
       "      <th>categoria</th>\n",
       "      <th>texto</th>\n",
       "      <th>category_id</th>\n",
       "    </tr>\n",
       "  </thead>\n",
       "  <tbody>\n",
       "    <tr>\n",
       "      <th>0</th>\n",
       "      <td>esportes</td>\n",
       "      <td>apos vencer arquirrival decisao copa libertado...</td>\n",
       "      <td>0</td>\n",
       "    </tr>\n",
       "    <tr>\n",
       "      <th>1</th>\n",
       "      <td>esportes</td>\n",
       "      <td>tecnico portugues vitor pereira afirmou jovens...</td>\n",
       "      <td>0</td>\n",
       "    </tr>\n",
       "    <tr>\n",
       "      <th>2</th>\n",
       "      <td>esportes</td>\n",
       "      <td>apos ter terceiro pedido liberdade provisoria ...</td>\n",
       "      <td>0</td>\n",
       "    </tr>\n",
       "    <tr>\n",
       "      <th>3</th>\n",
       "      <td>esportes</td>\n",
       "      <td>superior tribunal justica desportiva stjd puni...</td>\n",
       "      <td>0</td>\n",
       "    </tr>\n",
       "    <tr>\n",
       "      <th>4</th>\n",
       "      <td>esportes</td>\n",
       "      <td>fernando diniz admitiu enfrentar lionel messi ...</td>\n",
       "      <td>0</td>\n",
       "    </tr>\n",
       "  </tbody>\n",
       "</table>\n",
       "</div>"
      ],
      "text/plain": [
       "  categoria                                              texto  category_id\n",
       "0  esportes  apos vencer arquirrival decisao copa libertado...            0\n",
       "1  esportes  tecnico portugues vitor pereira afirmou jovens...            0\n",
       "2  esportes  apos ter terceiro pedido liberdade provisoria ...            0\n",
       "3  esportes  superior tribunal justica desportiva stjd puni...            0\n",
       "4  esportes  fernando diniz admitiu enfrentar lionel messi ...            0"
      ]
     },
     "execution_count": 27,
     "metadata": {},
     "output_type": "execute_result"
    }
   ],
   "source": [
    "df_balanceado['category_id'] = df_balanceado['categoria'].factorize()[0]\n",
    "from io import StringIO\n",
    "category_id_df = df_balanceado[['categoria', 'category_id']].drop_duplicates().sort_values('category_id')\n",
    "category_to_id = dict(category_id_df.values)\n",
    "id_to_category = dict(category_id_df[['category_id', 'categoria']].values)\n",
    "df_balanceado.head()"
   ]
  },
  {
   "cell_type": "code",
   "execution_count": 28,
   "id": "724646a0-9fb6-494c-88ab-9f31c5782e97",
   "metadata": {},
   "outputs": [
    {
     "data": {
      "text/plain": [
       "(2700, 19907)"
      ]
     },
     "execution_count": 28,
     "metadata": {},
     "output_type": "execute_result"
    }
   ],
   "source": [
    "## Bag of Words model - TF-IDF\n",
    "from sklearn.feature_extraction.text import TfidfVectorizer\n",
    "tfidf = TfidfVectorizer(sublinear_tf=True, min_df=5, norm='l2', encoding='latin-1', ngram_range=(1, 2), stop_words=sw)\n",
    "features = tfidf.fit_transform(df_balanceado['texto']).toarray()\n",
    "labels = df_balanceado.category_id\n",
    "features.shape"
   ]
  },
  {
   "cell_type": "code",
   "execution_count": 29,
   "id": "e72c0f00-69ab-4d21-b4b1-8616347d2b87",
   "metadata": {},
   "outputs": [
    {
     "name": "stdout",
     "output_type": "stream",
     "text": [
      "# 'economia':\n",
      "  . Most correlated unigrams:\n",
      ". tributaria\n",
      ". bilhoes\n",
      "  . Most correlated bigrams:\n",
      ". banco central\n",
      ". reforma tributaria\n",
      "# 'entretenimento':\n",
      "  . Most correlated unigrams:\n",
      ". fas\n",
      ". cantora\n",
      "  . Most correlated bigrams:\n",
      ". shared by\n",
      ". post shared\n",
      "# 'esportes':\n",
      "  . Most correlated unigrams:\n",
      ". rodada\n",
      ". campeonato\n",
      "  . Most correlated bigrams:\n",
      ". originalmente itatiaia\n",
      ". itatiaia versao\n",
      "# 'internacional':\n",
      "  . Most correlated unigrams:\n",
      ". gaza\n",
      ". israel\n",
      "  . Most correlated bigrams:\n",
      ". defesa israel\n",
      ". faixa gaza\n",
      "# 'nacional':\n",
      "  . Most correlated unigrams:\n",
      ". civil\n",
      ". policia\n",
      "  . Most correlated bigrams:\n",
      ". defesa civil\n",
      ". policia civil\n",
      "# 'politica':\n",
      "  . Most correlated unigrams:\n",
      ". supremo\n",
      ". stf\n",
      "  . Most correlated bigrams:\n",
      ". supremo tribunal\n",
      ". tribunal federal\n"
     ]
    }
   ],
   "source": [
    "## Bigramas e Unigramas\n",
    "from sklearn.feature_selection import chi2\n",
    "import numpy as np\n",
    "\n",
    "N = 2\n",
    "\n",
    "for categoria, category_id in sorted(category_to_id.items()):\n",
    "  features_chi2 = chi2(features, labels == category_id)\n",
    "  indices = np.argsort(features_chi2[0])\n",
    "  feature_names = np.array(tfidf.get_feature_names_out())[indices]\n",
    "  unigrams = [v for v in feature_names if len(v.split(' ')) == 1]\n",
    "  bigrams = [v for v in feature_names if len(v.split(' ')) == 2]\n",
    "  print(\"# '{}':\".format(categoria))\n",
    "  print(\"  . Most correlated unigrams:\\n. {}\".format('\\n. '.join(unigrams[-N:])))\n",
    "  print(\"  . Most correlated bigrams:\\n. {}\".format('\\n. '.join(bigrams[-N:])))"
   ]
  },
  {
   "cell_type": "code",
   "execution_count": 30,
   "id": "141b112b-97ab-4742-878d-052ffdcaafec",
   "metadata": {},
   "outputs": [],
   "source": [
    "from sklearn.model_selection import train_test_split\n",
    "from sklearn.feature_extraction.text import CountVectorizer\n",
    "from sklearn.feature_extraction.text import TfidfTransformer\n",
    "from sklearn.naive_bayes import MultinomialNB\n",
    "\n",
    "X_train, X_test, y_train, y_test = train_test_split(df_balanceado['texto'], df_balanceado['categoria'], random_state = 2)\n",
    "count_vect = CountVectorizer()\n",
    "X_train_counts = count_vect.fit_transform(X_train)\n",
    "tfidf_transformer = TfidfTransformer()\n",
    "X_train_tfidf = tfidf_transformer.fit_transform(X_train_counts)\n",
    "\n",
    "clf = MultinomialNB().fit(X_train_tfidf, y_train)"
   ]
  },
  {
   "cell_type": "code",
   "execution_count": 31,
   "id": "ae75a067-4b00-4a59-84b7-e5b6a4c4d193",
   "metadata": {},
   "outputs": [],
   "source": [
    "from sklearn.linear_model import LogisticRegression\n",
    "from sklearn.ensemble import RandomForestClassifier\n",
    "from sklearn.naive_bayes import MultinomialNB\n",
    "from sklearn.svm import LinearSVC\n",
    "from sklearn.tree import DecisionTreeClassifier\n",
    "\n",
    "from sklearn.model_selection import cross_val_score\n",
    "\n",
    "models = [\n",
    "    RandomForestClassifier(n_estimators=200, max_depth=3, random_state=0),\n",
    "    LinearSVC(dual=False),\n",
    "    MultinomialNB(), #Naive Bayes\n",
    "    LogisticRegression(random_state=0),\n",
    "    DecisionTreeClassifier(random_state=0,max_depth=10),\n",
    "]\n",
    "CV = 5\n",
    "cv_df = pd.DataFrame(index=range(CV * len(models)))\n",
    "entries = []\n",
    "for model in models:\n",
    "  model_name = model.__class__.__name__\n",
    "  accuracies = cross_val_score(model, features, labels, scoring='accuracy', cv=CV)\n",
    "  for fold_idx, accuracy in enumerate(accuracies):\n",
    "    entries.append((model_name, fold_idx, accuracy))\n",
    "cv_df = pd.DataFrame(entries, columns=['model_name', 'fold_idx', 'accuracy'])"
   ]
  },
  {
   "cell_type": "code",
   "execution_count": 32,
   "id": "c559579f-4be2-4255-a559-bbc454f00c02",
   "metadata": {},
   "outputs": [
    {
     "data": {
      "text/plain": [
       "0.024971863453389014"
      ]
     },
     "execution_count": 32,
     "metadata": {},
     "output_type": "execute_result"
    }
   ],
   "source": [
    "accuracies.std() #standard deviation"
   ]
  },
  {
   "cell_type": "code",
   "execution_count": 33,
   "id": "566805a0-ce66-474b-9e68-b68912d431bf",
   "metadata": {},
   "outputs": [
    {
     "data": {
      "text/plain": [
       "model_name\n",
       "DecisionTreeClassifier    0.612222\n",
       "LinearSVC                 0.907778\n",
       "LogisticRegression        0.894444\n",
       "MultinomialNB             0.886667\n",
       "RandomForestClassifier    0.781852\n",
       "Name: accuracy, dtype: float64"
      ]
     },
     "execution_count": 33,
     "metadata": {},
     "output_type": "execute_result"
    }
   ],
   "source": [
    "cv_df.groupby('model_name').accuracy.mean()"
   ]
  },
  {
   "cell_type": "code",
   "execution_count": 34,
   "id": "fe07cd89-c3bc-40cf-9eef-e926756d7b37",
   "metadata": {},
   "outputs": [
    {
     "data": {
      "image/png": "[encoded data removed]",
      "text/plain": [
       "<Figure size 640x480 with 1 Axes>"
      ]
     },
     "metadata": {},
     "output_type": "display_data"
    }
   ],
   "source": [
    "import seaborn as sns\n",
    "\n",
    "sns.boxplot(x='model_name', y='accuracy', data=cv_df)\n",
    "sns.stripplot(x='model_name', y='accuracy', data=cv_df, size=10, jitter=True, edgecolor=\"auto\", linewidth=2)\n",
    "plt.show()"
   ]
  },
  {
   "cell_type": "markdown",
   "id": "e9a8a6d7-b2fa-4141-be3c-9338816c3d6e",
   "metadata": {},
   "source": [
    "### Multinomial NB"
   ]
  },
  {
   "cell_type": "code",
   "execution_count": 35,
   "id": "d720d8c8-309d-4fae-936f-78050dfd51fb",
   "metadata": {},
   "outputs": [],
   "source": [
    "## Multinomial NB\n",
    "from sklearn.model_selection import train_test_split\n",
    "\n",
    "model = MultinomialNB()\n",
    "\n",
    "X_train, X_test, y_train, y_test, indices_train, indices_test = train_test_split(features, labels, df_balanceado.index, test_size=0.33, random_state=0)\n",
    "model.fit(X_train, y_train)\n",
    "y_pred = model.predict(X_test)"
   ]
  },
  {
   "cell_type": "code",
   "execution_count": 36,
   "id": "133bea98-395d-405a-bcc3-b3acb483372b",
   "metadata": {},
   "outputs": [
    {
     "name": "stdout",
     "output_type": "stream",
     "text": [
      "                precision    recall  f1-score   support\n",
      "\n",
      "      esportes       0.98      0.91      0.95       140\n",
      "      nacional       0.84      0.84      0.84       147\n",
      " internacional       0.90      0.82      0.86       159\n",
      "      economia       0.79      0.86      0.83       137\n",
      "      politica       0.81      0.83      0.82       141\n",
      "entretenimento       0.91      0.96      0.93       167\n",
      "\n",
      "      accuracy                           0.87       891\n",
      "     macro avg       0.87      0.87      0.87       891\n",
      "  weighted avg       0.87      0.87      0.87       891\n",
      "\n"
     ]
    }
   ],
   "source": [
    "from sklearn import metrics\n",
    "print(metrics.classification_report(y_test, y_pred,target_names=df_balanceado['categoria'].unique()))"
   ]
  },
  {
   "cell_type": "code",
   "execution_count": 37,
   "id": "e45fc6fd-7984-4ab3-9df3-6e0f5128e702",
   "metadata": {},
   "outputs": [
    {
     "data": {
      "image/png": "[encoded data removed]",
      "text/plain": [
       "<Figure size 800x600 with 2 Axes>"
      ]
     },
     "metadata": {},
     "output_type": "display_data"
    }
   ],
   "source": [
    "from sklearn.metrics import confusion_matrix\n",
    "\n",
    "conf_mat = confusion_matrix(y_test, y_pred)\n",
    "fig, ax = plt.subplots(figsize=(8,6))\n",
    "sns.heatmap(conf_mat, annot=True, fmt='d', xticklabels=category_id_df.categoria.values, yticklabels=category_id_df.categoria.values)\n",
    "plt.ylabel('Actual')\n",
    "plt.xlabel('Predicted')\n",
    "plt.show()"
   ]
  },
  {
   "cell_type": "markdown",
   "id": "6edea363-7bda-4e1b-9f44-a2d3cc85705a",
   "metadata": {},
   "source": [
    "### LogisticRegression"
   ]
  },
  {
   "cell_type": "code",
   "execution_count": 38,
   "id": "6fcfc8f4-8c96-423a-8028-ad004742d70f",
   "metadata": {},
   "outputs": [],
   "source": [
    "from sklearn.model_selection import train_test_split\n",
    "\n",
    "model2 = LogisticRegression(random_state=0)\n",
    "\n",
    "X_train2, X_test2, y_train2, y_test2, indices_train2, indices_test2 = train_test_split(features, labels, df_balanceado.index, test_size=0.33, random_state=0)\n",
    "model2.fit(X_train2, y_train2)\n",
    "y_pred2 = model.predict(X_test2)"
   ]
  },
  {
   "cell_type": "code",
   "execution_count": 39,
   "id": "676a4225-c169-4942-be6c-7776bbfec6cc",
   "metadata": {},
   "outputs": [
    {
     "name": "stdout",
     "output_type": "stream",
     "text": [
      "                precision    recall  f1-score   support\n",
      "\n",
      "      esportes       0.98      0.91      0.95       140\n",
      "      nacional       0.84      0.84      0.84       147\n",
      " internacional       0.90      0.82      0.86       159\n",
      "      economia       0.79      0.86      0.83       137\n",
      "      politica       0.81      0.83      0.82       141\n",
      "entretenimento       0.91      0.96      0.93       167\n",
      "\n",
      "      accuracy                           0.87       891\n",
      "     macro avg       0.87      0.87      0.87       891\n",
      "  weighted avg       0.87      0.87      0.87       891\n",
      "\n"
     ]
    }
   ],
   "source": [
    "from sklearn import metrics\n",
    "print(metrics.classification_report(y_test2, y_pred2,target_names=df_balanceado['categoria'].unique()))"
   ]
  },
  {
   "cell_type": "code",
   "execution_count": 40,
   "id": "c3bb70dd-66e9-4317-ac40-fe155c9abb78",
   "metadata": {},
   "outputs": [
    {
     "data": {
      "image/png": "[encoded data removed]",
      "text/plain": [
       "<Figure size 800x600 with 2 Axes>"
      ]
     },
     "metadata": {},
     "output_type": "display_data"
    }
   ],
   "source": [
    "from sklearn.metrics import confusion_matrix\n",
    "\n",
    "conf_mat2 = confusion_matrix(y_test2, y_pred2)\n",
    "fig2, ax2 = plt.subplots(figsize=(8,6))\n",
    "sns.heatmap(conf_mat2, annot=True, fmt='d', xticklabels=category_id_df.categoria.values, yticklabels=category_id_df.categoria.values)\n",
    "plt.ylabel('Actual')\n",
    "plt.xlabel('Predicted')\n",
    "plt.show()"
   ]
  },
  {
   "cell_type": "markdown",
   "id": "6f42baa4-2785-41bb-adb8-fda9d2aad8e2",
   "metadata": {},
   "source": [
    "## Testando o(s) Modelo(s)"
   ]
  },
  {
   "cell_type": "markdown",
   "id": "c7c5b18b-da7d-4f92-9e30-be29f986f1f4",
   "metadata": {},
   "source": [
    "### Multinomial NB"
   ]
  },
  {
   "cell_type": "code",
   "execution_count": 41,
   "id": "45318cc6-ee2b-4304-ba19-624635837e61",
   "metadata": {},
   "outputs": [
    {
     "name": "stdout",
     "output_type": "stream",
     "text": [
      "  - Predicted as: 'politica'\n"
     ]
    }
   ],
   "source": [
    "texts = [\"\"\" França deu o último passo, nesta segunda-feira (4), para se tornar o primeiro país do mundo a prever o acesso ao aborto em sua Constituição.\n",
    "O Congresso francês, que reúne as duas casas do Parlamento em Versalhes para votação quando há mudanças na Constituição, aprovou por ampla maioria o projeto que constitucionaliza o aborto. Dos 852 deputados e senadores reunidos, 780 votaram a favor e 72 contra.\n",
    "\n",
    "Após a promulgação pelo presidente francês, o que deve acontecer na sexta-feira (8), Dia da Mulher, o artigo 34.º artigo da Constituição francesa passará a prever a “liberdade garantida da mulher de recorrer ao direito à interrupção voluntária da gravidez [IVG, sigla usada para se referir ao aborto na França]”. \n",
    "Raízes históricas por trás da mudança\n",
    "\n",
    "A decisão, considerada histórica por movimentos feministas e partidos de esquerda, é uma construção de séculos.\n",
    "\n",
    "A defesa dos direitos femininos na França tem raízes históricas. Já no século XV, a escritora Christine de Pizan defendeu o direito das mulheres à educação. Três séculos depois, Olympe de Gouges criticou a exclusão das mulheres da “Declaração dos Direitos do Homem e do Cidadão” na Revolução Francesa de 1789. E em 1949, no livro “O Segundo Sexo”, Simone de Beauvoir estruturou as bases que definem o feminismo moderno ao discutir a opressão da mulher em um mundo dominado pelo homem.\n",
    "\n",
    "A França também é o país que, ainda no início do século passado, separou a Igreja do Estado ao aprovar em 1905 a Lei da Laicidade, afastando a religião das discussões políticas. \n",
    "\n",
    "Esses são alguns dos fatores que explicam por que 86% dos franceses apoiam a constitucionalização do aborto, como demonstrou uma pesquisa do final de 2022 – taxa bem superior à do Brasil, onde a aprovação ao aborto é de 39%. \n",
    "\n",
    "Com o apoio massivo da população francesa, senadores admitiram que votaram a favor do texto para evitar críticas. No último dia 28 de fevereiro, o Senado francês, de maioria direitista, aprovou o projeto por ampla maioria, com 267 votos a favor e 50 contra.\"\"\"]\n",
    "text_features = tfidf.transform(texts)\n",
    "predictions = model.predict(text_features)\n",
    "for text, predicted in zip(texts, predictions):\n",
    "  #print('\"{}\"'.format(text))\n",
    "  print(\"  - Predicted as: '{}'\".format(id_to_category[predicted]))"
   ]
  },
  {
   "cell_type": "code",
   "execution_count": 42,
   "id": "fc0a0ece-d087-4790-8bc4-153b234dad67",
   "metadata": {},
   "outputs": [
    {
     "name": "stdout",
     "output_type": "stream",
     "text": [
      "  - Predicted as: 'nacional'\n"
     ]
    }
   ],
   "source": [
    "texts = [\"\"\" Mais um preso que fugiu de um presídio na região metropolitana de Belo Horizonte (MG) foi recapturado pela Polícia Militar. Com isso, quatro dos nove fugitivos já foram encontrados.\n",
    "\n",
    "João Batista Freire Rodrigues Filho foi localizado por policiais na manhã do último domingo (3). Ele estava preso na penitenciária de Santa Luzia, na Grande Belo Horizonte. A fuga ocorreu na última quarta-feira (29).\n",
    "\n",
    "Segundo a Secretaria de Estado de Justiça e Segurança, o preso foi encontrado em Juatuba, também na região metropolitana de Belo Horizonte. Informações do Disque-Denúncia levaram os agentes a encontrá-lo.Até o momento, a Secretaria de Segurança afirmou que cinco fugitivos ainda não foram localizados. O terceiro recapturado foi encontrado na última sexta-feira (1º) pela Polícia Militar. Os outros dois foram recapturados no mesmo dia da fuga.\n",
    "\n",
    "Em nota, a pasta ressalta que a população pode continuar ajudando as forças de segurança com informações, por meio do Disque-Denúncia (181). A secretaria afirma que a ligação é gratuita e o canal garante 100% o anonimato do denunciante.\"\"\"]\n",
    "text_features = tfidf.transform(texts)\n",
    "predictions = model.predict(text_features)\n",
    "for text, predicted in zip(texts, predictions):\n",
    "  #print('\"{}\"'.format(text))\n",
    "  print(\"  - Predicted as: '{}'\".format(id_to_category[predicted]))"
   ]
  },
  {
   "cell_type": "code",
   "execution_count": 43,
   "id": "064f3897-a1f8-45e1-a1bd-0dfeb8597c95",
   "metadata": {},
   "outputs": [
    {
     "name": "stdout",
     "output_type": "stream",
     "text": [
      "  - Predicted as: 'entretenimento'\n"
     ]
    }
   ],
   "source": [
    "texts = [\"\"\"A cantora foi expulsa do reality show no último sábado (2), após ser acusada de agressão pelo participante Davi Brito.\n",
    "\n",
    "Em um vídeo publicado no stories de seu perfil no Instagram, Zilu explicou que as coisas não estão bem no momento. No entanto, garantiu que, em breve, devem melhorar.\n",
    "\n",
    "“A gente está aqui, enchendo ela de carinho e de amor. Está todo mundo trabalhando, é vida que segue, bola para frente. Deus sabe de todas as coisas, Deus sabe o que é melhor para cada um de nós e Ele age de acordo com aquilo que é melhor pra gente”, afirmou.\n",
    "\n",
    "Sem mencionar Dado Dolabella, atual namorado de Wanessa, Zilu disse que permanecerá na casa da filha. “Então, a gente não pode julgar, atacar ou fazer nada a não ser orar e deixar tudo nas mãos de Deus. É isso que eu acredito e isso que será feito”, acrescentou. Ao final, a empresária afirmou que aos poucos Camargo está retomando sua rotina. “Agora mesmo ela foi buscar o Joãozinho, ela está a todo vapor. Lógico que as coisas não estão bem, mas vai ficar. Tenho certeza que vai ficar”, concluiu.\n",
    "A expulsão de Wanessa Camargo\n",
    "\n",
    "A decisão da produção do BBB 24 sobre a desclassificação de Wanessa aconteceu na tarde do último sábado (2), horas depois de Davi ter dito que a cantora lhe deu um tapa enquanto ele dormia.\n",
    "\n",
    "“Ela viu que eu estava deitado. São quatro camas naquele quarto, ela veio bater logo na minha cama? Além disso ser provocação, é falta de respeito. Eu estava dormindo, cara. Perdi até o sono”, disse.\n",
    "\n",
    "“Aí quando você está no seu momento de paz, tem que acontecer. Tem que acontecer alguma coisa, tirar você do sério. Isso não vai ficar de graça não”, afirmou ele. \"\"\"]\n",
    "text_features = tfidf.transform(texts)\n",
    "predictions = model.predict(text_features)\n",
    "for text, predicted in zip(texts, predictions):\n",
    "  #print('\"{}\"'.format(text))\n",
    "  print(\"  - Predicted as: '{}'\".format(id_to_category[predicted]))"
   ]
  },
  {
   "cell_type": "markdown",
   "id": "3847e028-fb5f-472d-a170-23d3372a5e12",
   "metadata": {},
   "source": [
    "### LogisticRegression"
   ]
  },
  {
   "cell_type": "code",
   "execution_count": 44,
   "id": "0978cc71-a267-4a31-82e7-87a18be05adf",
   "metadata": {},
   "outputs": [
    {
     "name": "stdout",
     "output_type": "stream",
     "text": [
      "  - Predicted as: 'politica'\n"
     ]
    }
   ],
   "source": [
    "texts = [\"\"\" França deu o último passo, nesta segunda-feira (4), para se tornar o primeiro país do mundo a prever o acesso ao aborto em sua Constituição.\n",
    "O Congresso francês, que reúne as duas casas do Parlamento em Versalhes para votação quando há mudanças na Constituição, aprovou por ampla maioria o projeto que constitucionaliza o aborto. Dos 852 deputados e senadores reunidos, 780 votaram a favor e 72 contra.\n",
    "\n",
    "Após a promulgação pelo presidente francês, o que deve acontecer na sexta-feira (8), Dia da Mulher, o artigo 34.º artigo da Constituição francesa passará a prever a “liberdade garantida da mulher de recorrer ao direito à interrupção voluntária da gravidez [IVG, sigla usada para se referir ao aborto na França]”. \n",
    "Raízes históricas por trás da mudança\n",
    "\n",
    "A decisão, considerada histórica por movimentos feministas e partidos de esquerda, é uma construção de séculos.\n",
    "\n",
    "A defesa dos direitos femininos na França tem raízes históricas. Já no século XV, a escritora Christine de Pizan defendeu o direito das mulheres à educação. Três séculos depois, Olympe de Gouges criticou a exclusão das mulheres da “Declaração dos Direitos do Homem e do Cidadão” na Revolução Francesa de 1789. E em 1949, no livro “O Segundo Sexo”, Simone de Beauvoir estruturou as bases que definem o feminismo moderno ao discutir a opressão da mulher em um mundo dominado pelo homem.\n",
    "\n",
    "A França também é o país que, ainda no início do século passado, separou a Igreja do Estado ao aprovar em 1905 a Lei da Laicidade, afastando a religião das discussões políticas. \n",
    "\n",
    "Esses são alguns dos fatores que explicam por que 86% dos franceses apoiam a constitucionalização do aborto, como demonstrou uma pesquisa do final de 2022 – taxa bem superior à do Brasil, onde a aprovação ao aborto é de 39%. \n",
    "\n",
    "Com o apoio massivo da população francesa, senadores admitiram que votaram a favor do texto para evitar críticas. No último dia 28 de fevereiro, o Senado francês, de maioria direitista, aprovou o projeto por ampla maioria, com 267 votos a favor e 50 contra.\"\"\"]\n",
    "text_features = tfidf.transform(texts)\n",
    "predictions2 = model2.predict(text_features)\n",
    "for text, predicted in zip(texts, predictions2):\n",
    "  #print('\"{}\"'.format(text))\n",
    "  print(\"  - Predicted as: '{}'\".format(id_to_category[predicted]))"
   ]
  },
  {
   "cell_type": "code",
   "execution_count": 45,
   "id": "ae8dbbf9-f1ad-4b86-89ff-cf9d386760f6",
   "metadata": {},
   "outputs": [
    {
     "name": "stdout",
     "output_type": "stream",
     "text": [
      "  - Predicted as: 'politica'\n"
     ]
    }
   ],
   "source": [
    "texts = [\"\"\" Mais um preso que fugiu de um presídio na região metropolitana de Belo Horizonte (MG) foi recapturado pela Polícia Militar. Com isso, quatro dos nove fugitivos já foram encontrados.\n",
    "\n",
    "João Batista Freire Rodrigues Filho foi localizado por policiais na manhã do último domingo (3). Ele estava preso na penitenciária de Santa Luzia, na Grande Belo Horizonte. A fuga ocorreu na última quarta-feira (29).\n",
    "\n",
    "Segundo a Secretaria de Estado de Justiça e Segurança, o preso foi encontrado em Juatuba, também na região metropolitana de Belo Horizonte. Informações do Disque-Denúncia levaram os agentes a encontrá-lo.Até o momento, a Secretaria de Segurança afirmou que cinco fugitivos ainda não foram localizados. O terceiro recapturado foi encontrado na última sexta-feira (1º) pela Polícia Militar. Os outros dois foram recapturados no mesmo dia da fuga.\n",
    "\n",
    "Em nota, a pasta ressalta que a população pode continuar ajudando as forças de segurança com informações, por meio do Disque-Denúncia (181). A secretaria afirma que a ligação é gratuita e o canal garante 100% o anonimato do denunciante.\"\"\"]\n",
    "text_features2 = tfidf.transform(texts)\n",
    "predictions2 = model2.predict(text_features)\n",
    "for text, predicted in zip(texts, predictions2):\n",
    "  #print('\"{}\"'.format(text))\n",
    "  print(\"  - Predicted as: '{}'\".format(id_to_category[predicted]))"
   ]
  },
  {
   "cell_type": "code",
   "execution_count": 46,
   "id": "fab1b307-5a97-4255-947e-92eb50cda019",
   "metadata": {},
   "outputs": [
    {
     "name": "stdout",
     "output_type": "stream",
     "text": [
      "  - Predicted as: 'entretenimento'\n"
     ]
    }
   ],
   "source": [
    "texts = [\"\"\"A cantora foi expulsa do reality show no último sábado (2), após ser acusada de agressão pelo participante Davi Brito.\n",
    "\n",
    "Em um vídeo publicado no stories de seu perfil no Instagram, Zilu explicou que as coisas não estão bem no momento. No entanto, garantiu que, em breve, devem melhorar.\n",
    "\n",
    "“A gente está aqui, enchendo ela de carinho e de amor. Está todo mundo trabalhando, é vida que segue, bola para frente. Deus sabe de todas as coisas, Deus sabe o que é melhor para cada um de nós e Ele age de acordo com aquilo que é melhor pra gente”, afirmou.\n",
    "\n",
    "Sem mencionar Dado Dolabella, atual namorado de Wanessa, Zilu disse que permanecerá na casa da filha. “Então, a gente não pode julgar, atacar ou fazer nada a não ser orar e deixar tudo nas mãos de Deus. É isso que eu acredito e isso que será feito”, acrescentou. Ao final, a empresária afirmou que aos poucos Camargo está retomando sua rotina. “Agora mesmo ela foi buscar o Joãozinho, ela está a todo vapor. Lógico que as coisas não estão bem, mas vai ficar. Tenho certeza que vai ficar”, concluiu.\n",
    "A expulsão de Wanessa Camargo\n",
    "\n",
    "A decisão da produção do BBB 24 sobre a desclassificação de Wanessa aconteceu na tarde do último sábado (2), horas depois de Davi ter dito que a cantora lhe deu um tapa enquanto ele dormia.\n",
    "\n",
    "“Ela viu que eu estava deitado. São quatro camas naquele quarto, ela veio bater logo na minha cama? Além disso ser provocação, é falta de respeito. Eu estava dormindo, cara. Perdi até o sono”, disse.\n",
    "\n",
    "“Aí quando você está no seu momento de paz, tem que acontecer. Tem que acontecer alguma coisa, tirar você do sério. Isso não vai ficar de graça não”, afirmou ele. \"\"\"]\n",
    "text_features2 = tfidf.transform(texts)\n",
    "predictions2 = model.predict(text_features2)\n",
    "for text, predicted in zip(texts, predictions2):\n",
    "  #print('\"{}\"'.format(text))\n",
    "  print(\"  - Predicted as: '{}'\".format(id_to_category[predicted]))"
   ]
  },
  {
   "cell_type": "markdown",
   "id": "f58b38f4-6168-46ba-9f52-7fd9aa43ba00",
   "metadata": {},
   "source": [
    "## Conclusão"
   ]
  },
  {
   "cell_type": "markdown",
   "id": "1a6aebbe-c037-49a5-bd29-727a3d0b2628",
   "metadata": {},
   "source": [
    "## Referências"
   ]
  },
  {
   "cell_type": "markdown",
   "id": "98b5667d-cbb6-49d5-ad51-97db6ee6aeae",
   "metadata": {},
   "source": [
    "Dien, Tran Thanh; Loc, Bui Huu; Thai-Nghe, Nguyen  (2019).  [IEEE 2019 International Conference on Advanced Computing and Applications (ACOMP) - Nha Trang, Vietnam (2019.11.26-2019.11.28)] 2019 International Conference on Advanced Computing and Applications (ACOMP) - Article Classification using Natural Language Processing and Machine Learning.,(),78–84.doi:10.1109/acomp.2019.00019 <br>\n",
    "F. Miao, P. Zhang, L. Jin and H. Wu, \"Chinese News Text Classification Based on Machine Learning Algorithm,\" 2018 10th International Conference on Intelligent Human-Machine Systems and Cybernetics (IHMSC), Hangzhou, China, 2018, pp. 48-51, doi: 10.1109/IHMSC.2018.10117. keywords: {Text categorization;Classification algorithms;Machine learning algorithms;Training;Support vector machines;Bayes methods;Computational modeling;Chinese text classification;Chinese word segment;Feature extraction;Machine learning algorithm},<br>"
   ]
  }
 ],
 "metadata": {
  "kernelspec": {
   "display_name": "Python 3 (ipykernel)",
   "language": "python",
   "name": "python3"
  },
  "language_info": {
   "codemirror_mode": {
    "name": "ipython",
    "version": 3
   },
   "file_extension": ".py",
   "mimetype": "text/x-python",
   "name": "python",
   "nbconvert_exporter": "python",
   "pygments_lexer": "ipython3",
   "version": "3.10.9"
  }
 },
 "nbformat": 4,
 "nbformat_minor": 5
}
