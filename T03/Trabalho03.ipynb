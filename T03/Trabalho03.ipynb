{
 "cells": [
  {
   "cell_type": "markdown",
   "id": "8d4f880c-f518-4ba3-8179-c824fb75d6fc",
   "metadata": {},
   "source": [
    "# Trabalho 3"
   ]
  },
  {
   "cell_type": "markdown",
   "id": "f42aba62-4aeb-49ac-858b-4dcab8b9e2ae",
   "metadata": {},
   "source": [
    "## Introdução"
   ]
  },
  {
   "cell_type": "markdown",
   "id": "82b56278-2686-4569-bb24-76ff3741234e",
   "metadata": {},
   "source": [
    "## Bibliotecas"
   ]
  },
  {
   "cell_type": "code",
   "execution_count": 6,
   "id": "64e366e8-973e-4c8e-859b-fcff57136cea",
   "metadata": {},
   "outputs": [],
   "source": [
    "import pandas as pd\n",
    "import re\n",
    "import nltk\n",
    "import matplotlib.pyplot as plt"
   ]
  },
  {
   "cell_type": "markdown",
   "id": "c5966aa2-6fa2-4ad1-8c76-629cf5043789",
   "metadata": {},
   "source": [
    "## Dataset"
   ]
  },
  {
   "cell_type": "code",
   "execution_count": 7,
   "id": "66aae1c3-0ff5-4182-a51d-903fe3e2e6eb",
   "metadata": {},
   "outputs": [],
   "source": [
    "file = \"train-00000-of-00001-ecf072e7202447d8.parquet\"\n",
    "df = pd.read_parquet(file, engine= 'pyarrow')"
   ]
  },
  {
   "cell_type": "code",
   "execution_count": 8,
   "id": "87bb3d8c-5a54-42be-b320-a3715e319207",
   "metadata": {},
   "outputs": [
    {
     "data": {
      "text/plain": [
       "3877"
      ]
     },
     "execution_count": 8,
     "metadata": {},
     "output_type": "execute_result"
    }
   ],
   "source": [
    "len(df)"
   ]
  },
  {
   "cell_type": "code",
   "execution_count": 9,
   "id": "ef562d5e-5fb4-4366-88da-ef75b40f0ada",
   "metadata": {
    "scrolled": true
   },
   "outputs": [
    {
     "data": {
      "text/html": [
       "<div>\n",
       "<style scoped>\n",
       "    .dataframe tbody tr th:only-of-type {\n",
       "        vertical-align: middle;\n",
       "    }\n",
       "\n",
       "    .dataframe tbody tr th {\n",
       "        vertical-align: top;\n",
       "    }\n",
       "\n",
       "    .dataframe thead th {\n",
       "        text-align: right;\n",
       "    }\n",
       "</style>\n",
       "<table border=\"1\" class=\"dataframe\">\n",
       "  <thead>\n",
       "    <tr style=\"text-align: right;\">\n",
       "      <th></th>\n",
       "      <th>titulo</th>\n",
       "      <th>texto</th>\n",
       "      <th>link</th>\n",
       "      <th>resumo</th>\n",
       "      <th>categoria</th>\n",
       "      <th>data_hora</th>\n",
       "    </tr>\n",
       "  </thead>\n",
       "  <tbody>\n",
       "    <tr>\n",
       "      <th>0</th>\n",
       "      <td>Veja a trajetória de Fernando Diniz, em busca ...</td>\n",
       "      <td>Se tem um treinador que sempre foi badalado pe...</td>\n",
       "      <td>https://www.cnnbrasil.com.br/esportes/veja-a-t...</td>\n",
       "      <td>Técnico tricolor e da Seleção Brasileira tem a...</td>\n",
       "      <td>esportes</td>\n",
       "      <td>2023-11-04 12:26:18</td>\n",
       "    </tr>\n",
       "    <tr>\n",
       "      <th>1</th>\n",
       "      <td>Após tempestade com ventos, São Paulo terá sáb...</td>\n",
       "      <td>Após uma tempestade com ventos de mais de 100 ...</td>\n",
       "      <td>https://www.cnnbrasil.com.br/nacional/apos-tem...</td>\n",
       "      <td>Termômetros devem chegar a 26ºC, esquentando a...</td>\n",
       "      <td>nacional</td>\n",
       "      <td>2023-11-04 12:15:44</td>\n",
       "    </tr>\n",
       "    <tr>\n",
       "      <th>2</th>\n",
       "      <td>Como os aplicativos de relacionamento “arruina...</td>\n",
       "      <td>Jenny Nguyen-Don estava com vontade de comer f...</td>\n",
       "      <td>https://www.cnnbrasil.com.br/tecnologia/como-o...</td>\n",
       "      <td>Pessoas em busca de relacionamentos afirmam qu...</td>\n",
       "      <td>tecnologia</td>\n",
       "      <td>2023-11-04 12:15:07</td>\n",
       "    </tr>\n",
       "    <tr>\n",
       "      <th>3</th>\n",
       "      <td>Fluminense pode ser o 26º clube a levantar a t...</td>\n",
       "      <td>O Fluminense vai em busca do primeiro título d...</td>\n",
       "      <td>https://www.cnnbrasil.com.br/esportes/fluminen...</td>\n",
       "      <td>Em busca do título inédito, o Tricolor carioca...</td>\n",
       "      <td>esportes</td>\n",
       "      <td>2023-11-04 12:05:24</td>\n",
       "    </tr>\n",
       "  </tbody>\n",
       "</table>\n",
       "</div>"
      ],
      "text/plain": [
       "                                              titulo  \\\n",
       "0  Veja a trajetória de Fernando Diniz, em busca ...   \n",
       "1  Após tempestade com ventos, São Paulo terá sáb...   \n",
       "2  Como os aplicativos de relacionamento “arruina...   \n",
       "3  Fluminense pode ser o 26º clube a levantar a t...   \n",
       "\n",
       "                                               texto  \\\n",
       "0  Se tem um treinador que sempre foi badalado pe...   \n",
       "1  Após uma tempestade com ventos de mais de 100 ...   \n",
       "2  Jenny Nguyen-Don estava com vontade de comer f...   \n",
       "3  O Fluminense vai em busca do primeiro título d...   \n",
       "\n",
       "                                                link  \\\n",
       "0  https://www.cnnbrasil.com.br/esportes/veja-a-t...   \n",
       "1  https://www.cnnbrasil.com.br/nacional/apos-tem...   \n",
       "2  https://www.cnnbrasil.com.br/tecnologia/como-o...   \n",
       "3  https://www.cnnbrasil.com.br/esportes/fluminen...   \n",
       "\n",
       "                                              resumo   categoria  \\\n",
       "0  Técnico tricolor e da Seleção Brasileira tem a...    esportes   \n",
       "1  Termômetros devem chegar a 26ºC, esquentando a...    nacional   \n",
       "2  Pessoas em busca de relacionamentos afirmam qu...  tecnologia   \n",
       "3  Em busca do título inédito, o Tricolor carioca...    esportes   \n",
       "\n",
       "             data_hora  \n",
       "0  2023-11-04 12:26:18  \n",
       "1  2023-11-04 12:15:44  \n",
       "2  2023-11-04 12:15:07  \n",
       "3  2023-11-04 12:05:24  "
      ]
     },
     "execution_count": 9,
     "metadata": {},
     "output_type": "execute_result"
    }
   ],
   "source": [
    "df.head(4)"
   ]
  },
  {
   "cell_type": "markdown",
   "id": "39101ef9-4e8d-41e2-a9d9-a18bbdd406c6",
   "metadata": {},
   "source": [
    "## Balanceamento"
   ]
  },
  {
   "cell_type": "code",
   "execution_count": 10,
   "id": "a69b2280-8f23-4895-b70c-72b6211c41a6",
   "metadata": {},
   "outputs": [
    {
     "data": {
      "text/plain": [
       "categoria\n",
       "esportes           960\n",
       "nacional           623\n",
       "internacional      618\n",
       "economia           562\n",
       "politica           507\n",
       "entretenimento     450\n",
       "tecnologia          44\n",
       "saude               41\n",
       "noticias            38\n",
       "lifestyle           21\n",
       "branded-content     13\n",
       "Name: count, dtype: int64"
      ]
     },
     "execution_count": 10,
     "metadata": {},
     "output_type": "execute_result"
    }
   ],
   "source": [
    "df['categoria'].value_counts()"
   ]
  },
  {
   "cell_type": "code",
   "execution_count": 11,
   "id": "ab0f58c5-51da-4d87-9835-2912a9655edb",
   "metadata": {},
   "outputs": [
    {
     "data": {
      "text/plain": [
       "<Axes: xlabel='categoria'>"
      ]
     },
     "execution_count": 11,
     "metadata": {},
     "output_type": "execute_result"
    },
    {
     "data": {
      "image/png": "[encoded data removed]",
      "text/plain": [
       "<Figure size 1000x400 with 1 Axes>"
      ]
     },
     "metadata": {},
     "output_type": "display_data"
    }
   ],
   "source": [
    "plt.figure(figsize=(10,4))\n",
    "df.categoria.value_counts().plot(kind='bar')"
   ]
  },
  {
   "cell_type": "code",
   "execution_count": 12,
   "id": "ae4be987-ec09-4a83-8612-cdb14ac9dcd0",
   "metadata": {},
   "outputs": [],
   "source": [
    "indice_linha_remover = ['tecnologia',  'saude','noticias','lifestyle','branded-content']"
   ]
  },
  {
   "cell_type": "code",
   "execution_count": 13,
   "id": "b764b27a-a018-4a3b-8f87-2724103ec14a",
   "metadata": {},
   "outputs": [],
   "source": [
    "df = df[~df['categoria'].isin(indice_linha_remover)]"
   ]
  },
  {
   "cell_type": "code",
   "execution_count": 14,
   "id": "d8eb9c5f-cafc-4be5-8911-ad1ced14fe67",
   "metadata": {},
   "outputs": [
    {
     "data": {
      "text/plain": [
       "categoria\n",
       "esportes          960\n",
       "nacional          623\n",
       "internacional     618\n",
       "economia          562\n",
       "politica          507\n",
       "entretenimento    450\n",
       "Name: count, dtype: int64"
      ]
     },
     "execution_count": 14,
     "metadata": {},
     "output_type": "execute_result"
    }
   ],
   "source": [
    "df['categoria'].value_counts()"
   ]
  },
  {
   "cell_type": "code",
   "execution_count": 15,
   "id": "0fb30f3d-1f6f-462f-9d74-57855407899b",
   "metadata": {},
   "outputs": [],
   "source": [
    "# Undersampling\n",
    "min = df['categoria'].value_counts().min()\n",
    "\n",
    "amostras = []\n",
    "\n",
    "for i in df['categoria'].value_counts().index:\n",
    "    a = df[df['categoria'] == i].sample(min, replace=False)\n",
    "    amostras.append(a)\n",
    "\n",
    "df_balanceado = pd.concat(amostras)"
   ]
  },
  {
   "cell_type": "code",
   "execution_count": 16,
   "id": "3edd9ec7-372c-4609-a974-30d9359c1d67",
   "metadata": {},
   "outputs": [
    {
     "data": {
      "text/plain": [
       "categoria\n",
       "esportes          450\n",
       "nacional          450\n",
       "internacional     450\n",
       "economia          450\n",
       "politica          450\n",
       "entretenimento    450\n",
       "Name: count, dtype: int64"
      ]
     },
     "execution_count": 16,
     "metadata": {},
     "output_type": "execute_result"
    }
   ],
   "source": [
    "df_balanceado['categoria'].value_counts()"
   ]
  },
  {
   "cell_type": "code",
   "execution_count": 17,
   "id": "42f147b7-862b-4e08-8b36-375f21c69d3b",
   "metadata": {},
   "outputs": [
    {
     "data": {
      "text/html": [
       "<div>\n",
       "<style scoped>\n",
       "    .dataframe tbody tr th:only-of-type {\n",
       "        vertical-align: middle;\n",
       "    }\n",
       "\n",
       "    .dataframe tbody tr th {\n",
       "        vertical-align: top;\n",
       "    }\n",
       "\n",
       "    .dataframe thead th {\n",
       "        text-align: right;\n",
       "    }\n",
       "</style>\n",
       "<table border=\"1\" class=\"dataframe\">\n",
       "  <thead>\n",
       "    <tr style=\"text-align: right;\">\n",
       "      <th></th>\n",
       "      <th>titulo</th>\n",
       "      <th>texto</th>\n",
       "      <th>link</th>\n",
       "      <th>resumo</th>\n",
       "      <th>categoria</th>\n",
       "      <th>data_hora</th>\n",
       "    </tr>\n",
       "  </thead>\n",
       "  <tbody>\n",
       "    <tr>\n",
       "      <th>0</th>\n",
       "      <td>Endrick na Seleção: Imprensa estrangeira reper...</td>\n",
       "      <td>A convocação do atacante Endrick, do Palmeiras...</td>\n",
       "      <td>https://www.cnnbrasil.com.br/esportes/endrick-...</td>\n",
       "      <td>Atacante de 17 anos recebeu de Fernando Diniz ...</td>\n",
       "      <td>esportes</td>\n",
       "      <td>2023-11-06 19:41:39</td>\n",
       "    </tr>\n",
       "    <tr>\n",
       "      <th>1</th>\n",
       "      <td>Réu confesso em esquema de manipulação, Alef M...</td>\n",
       "      <td>O Coritiba informou, no início da tarde desta ...</td>\n",
       "      <td>https://www.cnnbrasil.com.br/esportes/reu-conf...</td>\n",
       "      <td>Atacante foi punido pela FIFA pelo envolviment...</td>\n",
       "      <td>esportes</td>\n",
       "      <td>2023-11-28 16:43:13</td>\n",
       "    </tr>\n",
       "    <tr>\n",
       "      <th>2</th>\n",
       "      <td>Vasco x Corinthians: tempo real e onde assisti...</td>\n",
       "      <td>Vasco e Corinthians se enfrentam às 21h30 (hor...</td>\n",
       "      <td>https://www.cnnbrasil.com.br/esportes/vasco-x-...</td>\n",
       "      <td>Onde assistir e tempo real dos lances e das es...</td>\n",
       "      <td>esportes</td>\n",
       "      <td>2023-11-28 11:11:08</td>\n",
       "    </tr>\n",
       "    <tr>\n",
       "      <th>3</th>\n",
       "      <td>Neymar tem alta hospitalar após cirurgia no jo...</td>\n",
       "      <td>O atacante Neymar teve alta hospitalar neste s...</td>\n",
       "      <td>https://www.cnnbrasil.com.br/esportes/neymar-t...</td>\n",
       "      <td>Atacante foi operado na quinta-feira (2), fico...</td>\n",
       "      <td>esportes</td>\n",
       "      <td>2023-11-04 18:04:03</td>\n",
       "    </tr>\n",
       "    <tr>\n",
       "      <th>4</th>\n",
       "      <td>Acusado de matar a esposa, ex-lutador pode peg...</td>\n",
       "      <td>O ex-lutador de MMA Luís Paulo dos Santos vai ...</td>\n",
       "      <td>https://www.cnnbrasil.com.br/esportes/acusado-...</td>\n",
       "      <td>Ex-lutador de MMA, Luís Paulo dos Santos, vai ...</td>\n",
       "      <td>esportes</td>\n",
       "      <td>2023-11-21 12:54:52</td>\n",
       "    </tr>\n",
       "  </tbody>\n",
       "</table>\n",
       "</div>"
      ],
      "text/plain": [
       "                                              titulo  \\\n",
       "0  Endrick na Seleção: Imprensa estrangeira reper...   \n",
       "1  Réu confesso em esquema de manipulação, Alef M...   \n",
       "2  Vasco x Corinthians: tempo real e onde assisti...   \n",
       "3  Neymar tem alta hospitalar após cirurgia no jo...   \n",
       "4  Acusado de matar a esposa, ex-lutador pode peg...   \n",
       "\n",
       "                                               texto  \\\n",
       "0  A convocação do atacante Endrick, do Palmeiras...   \n",
       "1  O Coritiba informou, no início da tarde desta ...   \n",
       "2  Vasco e Corinthians se enfrentam às 21h30 (hor...   \n",
       "3  O atacante Neymar teve alta hospitalar neste s...   \n",
       "4  O ex-lutador de MMA Luís Paulo dos Santos vai ...   \n",
       "\n",
       "                                                link  \\\n",
       "0  https://www.cnnbrasil.com.br/esportes/endrick-...   \n",
       "1  https://www.cnnbrasil.com.br/esportes/reu-conf...   \n",
       "2  https://www.cnnbrasil.com.br/esportes/vasco-x-...   \n",
       "3  https://www.cnnbrasil.com.br/esportes/neymar-t...   \n",
       "4  https://www.cnnbrasil.com.br/esportes/acusado-...   \n",
       "\n",
       "                                              resumo categoria  \\\n",
       "0  Atacante de 17 anos recebeu de Fernando Diniz ...  esportes   \n",
       "1  Atacante foi punido pela FIFA pelo envolviment...  esportes   \n",
       "2  Onde assistir e tempo real dos lances e das es...  esportes   \n",
       "3  Atacante foi operado na quinta-feira (2), fico...  esportes   \n",
       "4  Ex-lutador de MMA, Luís Paulo dos Santos, vai ...  esportes   \n",
       "\n",
       "             data_hora  \n",
       "0  2023-11-06 19:41:39  \n",
       "1  2023-11-28 16:43:13  \n",
       "2  2023-11-28 11:11:08  \n",
       "3  2023-11-04 18:04:03  \n",
       "4  2023-11-21 12:54:52  "
      ]
     },
     "execution_count": 17,
     "metadata": {},
     "output_type": "execute_result"
    }
   ],
   "source": [
    "df_balanceado = df_balanceado.reset_index(drop=True)\n",
    "df_balanceado.head(5)"
   ]
  },
  {
   "cell_type": "code",
   "execution_count": 18,
   "id": "c3c68842-19af-45e6-b656-f267e6c590b7",
   "metadata": {},
   "outputs": [
    {
     "data": {
      "text/plain": [
       "2700"
      ]
     },
     "execution_count": 18,
     "metadata": {},
     "output_type": "execute_result"
    }
   ],
   "source": [
    "# pega coluna\n",
    "text = df_balanceado['texto'] # para NLTK\n",
    "len(text)"
   ]
  },
  {
   "cell_type": "code",
   "execution_count": 19,
   "id": "55b172d5-6de2-4b31-9811-f8467432fb53",
   "metadata": {},
   "outputs": [],
   "source": [
    "categorias = ['esportes','nacional', 'internacional', 'economia', 'politica', 'entretenimento']"
   ]
  },
  {
   "cell_type": "markdown",
   "id": "296e7b55-c248-4995-a222-3a73f34608bb",
   "metadata": {},
   "source": [
    "## Pré-processamento"
   ]
  },
  {
   "cell_type": "code",
   "execution_count": 20,
   "id": "550934b0-b39d-49e5-b671-94ec819c59f8",
   "metadata": {},
   "outputs": [],
   "source": [
    "for i in range(len(text)):\n",
    "    text[i] = text[i].lower()"
   ]
  },
  {
   "cell_type": "code",
   "execution_count": 21,
   "id": "ebc1eff3-adbf-4a01-9b25-ed23bd127db8",
   "metadata": {},
   "outputs": [],
   "source": [
    "from unidecode import unidecode\n",
    "\n",
    "for i in range(len(text)):\n",
    "    text[i] = unidecode(text[i])"
   ]
  },
  {
   "cell_type": "code",
   "execution_count": 22,
   "id": "2bcbf34e-2d4c-4840-83a4-0f8332adc593",
   "metadata": {},
   "outputs": [],
   "source": [
    "for i in range(len(text)):\n",
    "    text[i] = re.sub(r'[^a-zA-Z\\s]', \"\" ,text[i])"
   ]
  },
  {
   "cell_type": "code",
   "execution_count": 23,
   "id": "c1f521ba-151c-4b8f-86cd-66e2020f5d6f",
   "metadata": {},
   "outputs": [],
   "source": [
    "token_text = []\n",
    "\n",
    "for j in text:\n",
    "    token_text.append(nltk.word_tokenize(j))"
   ]
  },
  {
   "cell_type": "code",
   "execution_count": 24,
   "id": "4cfcd130-5906-4319-b9b9-38c1aa217177",
   "metadata": {},
   "outputs": [
    {
     "name": "stderr",
     "output_type": "stream",
     "text": [
      "[nltk_data] Downloading package stopwords to /home/raissa/nltk_data...\n",
      "[nltk_data]   Package stopwords is already up-to-date!\n"
     ]
    },
    {
     "data": {
      "text/plain": [
       "True"
      ]
     },
     "execution_count": 24,
     "metadata": {},
     "output_type": "execute_result"
    }
   ],
   "source": [
    "nltk.download('stopwords')"
   ]
  },
  {
   "cell_type": "code",
   "execution_count": 25,
   "id": "bb696de4-921d-4f3d-8a72-5feeb769417b",
   "metadata": {},
   "outputs": [],
   "source": [
    "from nltk.corpus import stopwords\n",
    "sw = stopwords.words('portuguese')"
   ]
  },
  {
   "cell_type": "code",
   "execution_count": 26,
   "id": "c54c70fa-4e69-4a78-88ac-a824150560a7",
   "metadata": {},
   "outputs": [],
   "source": [
    "for stop in sw:\n",
    "    for text in token_text:\n",
    "        for t in text:\n",
    "            if(t == stop):\n",
    "                text.remove(t)"
   ]
  },
  {
   "cell_type": "code",
   "execution_count": 27,
   "id": "ec7b7237-0a45-4b15-a443-c11bef215981",
   "metadata": {},
   "outputs": [
    {
     "data": {
      "text/html": [
       "<div>\n",
       "<style scoped>\n",
       "    .dataframe tbody tr th:only-of-type {\n",
       "        vertical-align: middle;\n",
       "    }\n",
       "\n",
       "    .dataframe tbody tr th {\n",
       "        vertical-align: top;\n",
       "    }\n",
       "\n",
       "    .dataframe thead th {\n",
       "        text-align: right;\n",
       "    }\n",
       "</style>\n",
       "<table border=\"1\" class=\"dataframe\">\n",
       "  <thead>\n",
       "    <tr style=\"text-align: right;\">\n",
       "      <th></th>\n",
       "      <th>titulo</th>\n",
       "      <th>texto</th>\n",
       "      <th>link</th>\n",
       "      <th>resumo</th>\n",
       "      <th>categoria</th>\n",
       "      <th>data_hora</th>\n",
       "    </tr>\n",
       "  </thead>\n",
       "  <tbody>\n",
       "    <tr>\n",
       "      <th>0</th>\n",
       "      <td>Endrick na Seleção: Imprensa estrangeira reper...</td>\n",
       "      <td>[convocacao, atacante, endrick, palmeiras, sel...</td>\n",
       "      <td>https://www.cnnbrasil.com.br/esportes/endrick-...</td>\n",
       "      <td>Atacante de 17 anos recebeu de Fernando Diniz ...</td>\n",
       "      <td>esportes</td>\n",
       "      <td>2023-11-06 19:41:39</td>\n",
       "    </tr>\n",
       "    <tr>\n",
       "      <th>1</th>\n",
       "      <td>Réu confesso em esquema de manipulação, Alef M...</td>\n",
       "      <td>[coritiba, informou, inicio, tarde, desta, ter...</td>\n",
       "      <td>https://www.cnnbrasil.com.br/esportes/reu-conf...</td>\n",
       "      <td>Atacante foi punido pela FIFA pelo envolviment...</td>\n",
       "      <td>esportes</td>\n",
       "      <td>2023-11-28 16:43:13</td>\n",
       "    </tr>\n",
       "  </tbody>\n",
       "</table>\n",
       "</div>"
      ],
      "text/plain": [
       "                                              titulo  \\\n",
       "0  Endrick na Seleção: Imprensa estrangeira reper...   \n",
       "1  Réu confesso em esquema de manipulação, Alef M...   \n",
       "\n",
       "                                               texto  \\\n",
       "0  [convocacao, atacante, endrick, palmeiras, sel...   \n",
       "1  [coritiba, informou, inicio, tarde, desta, ter...   \n",
       "\n",
       "                                                link  \\\n",
       "0  https://www.cnnbrasil.com.br/esportes/endrick-...   \n",
       "1  https://www.cnnbrasil.com.br/esportes/reu-conf...   \n",
       "\n",
       "                                              resumo categoria  \\\n",
       "0  Atacante de 17 anos recebeu de Fernando Diniz ...  esportes   \n",
       "1  Atacante foi punido pela FIFA pelo envolviment...  esportes   \n",
       "\n",
       "             data_hora  \n",
       "0  2023-11-06 19:41:39  \n",
       "1  2023-11-28 16:43:13  "
      ]
     },
     "execution_count": 27,
     "metadata": {},
     "output_type": "execute_result"
    }
   ],
   "source": [
    "df_balanceado['texto'] = token_text\n",
    "df_balanceado.head(2)"
   ]
  },
  {
   "cell_type": "markdown",
   "id": "e90b7bc0-a34a-4a3d-8bb5-853150ff9381",
   "metadata": {},
   "source": [
    "## Prediction\n",
    "https://github.com/susanli2016/Machine-Learning-with-Python/blob/master/Consumer_complaints.ipynb  <br>\n",
    "refazer para cada biblioteca"
   ]
  },
  {
   "cell_type": "markdown",
   "id": "614274d4-547a-433c-84ce-eae1dff5173b",
   "metadata": {},
   "source": [
    "### NLTK"
   ]
  },
  {
   "cell_type": "code",
   "execution_count": 28,
   "id": "70e9f077-225b-4ea9-8ef8-e588f032aad8",
   "metadata": {},
   "outputs": [
    {
     "name": "stdout",
     "output_type": "stream",
     "text": [
      "convocacao atacante endrick palmeiras selecao brasileira anunciada nesta segundafeira tecnico fernando diniz repercutiu imprensa estrangeira jornais espanhois evidentemente destacaram primeiro chamado jogador anos selecao principal endrick ja vendido real madrid apresentara clube proximo ano maior idade leia marca madri colocou convocacao atleta primeira pagina site endrick convocado brasil ja diario tambem capital espanhola segue perto dia dia real enfatico brasil chama endrick barcelona noticia tambem repercutiu chamadas menor destaque paginas jornais catalaes mundo deportivo publicou bomba endrick convocado selecao brasileira principal sport tambem catalunha seguiu linha semelhante bomba endrick selecao endrick convocados jogos brasil contra colombia argentina validos eliminatorias copa mundo equipe fernando diniz terceira colocacao atras argentina uruguai\n"
     ]
    }
   ],
   "source": [
    "for i in range(len(token_text)):\n",
    "    token_text[i] = \" \".join(token_text[i])\n",
    "print(token_text[0])"
   ]
  },
  {
   "cell_type": "code",
   "execution_count": 29,
   "id": "814b0cbc-c6d1-45e8-9017-8f8ce5e4fe6c",
   "metadata": {},
   "outputs": [
    {
     "data": {
      "text/html": [
       "<div>\n",
       "<style scoped>\n",
       "    .dataframe tbody tr th:only-of-type {\n",
       "        vertical-align: middle;\n",
       "    }\n",
       "\n",
       "    .dataframe tbody tr th {\n",
       "        vertical-align: top;\n",
       "    }\n",
       "\n",
       "    .dataframe thead th {\n",
       "        text-align: right;\n",
       "    }\n",
       "</style>\n",
       "<table border=\"1\" class=\"dataframe\">\n",
       "  <thead>\n",
       "    <tr style=\"text-align: right;\">\n",
       "      <th></th>\n",
       "      <th>titulo</th>\n",
       "      <th>texto</th>\n",
       "      <th>link</th>\n",
       "      <th>resumo</th>\n",
       "      <th>categoria</th>\n",
       "      <th>data_hora</th>\n",
       "    </tr>\n",
       "  </thead>\n",
       "  <tbody>\n",
       "    <tr>\n",
       "      <th>0</th>\n",
       "      <td>Endrick na Seleção: Imprensa estrangeira reper...</td>\n",
       "      <td>convocacao atacante endrick palmeiras selecao ...</td>\n",
       "      <td>https://www.cnnbrasil.com.br/esportes/endrick-...</td>\n",
       "      <td>Atacante de 17 anos recebeu de Fernando Diniz ...</td>\n",
       "      <td>esportes</td>\n",
       "      <td>2023-11-06 19:41:39</td>\n",
       "    </tr>\n",
       "    <tr>\n",
       "      <th>1</th>\n",
       "      <td>Réu confesso em esquema de manipulação, Alef M...</td>\n",
       "      <td>coritiba informou inicio tarde desta tercafeir...</td>\n",
       "      <td>https://www.cnnbrasil.com.br/esportes/reu-conf...</td>\n",
       "      <td>Atacante foi punido pela FIFA pelo envolviment...</td>\n",
       "      <td>esportes</td>\n",
       "      <td>2023-11-28 16:43:13</td>\n",
       "    </tr>\n",
       "    <tr>\n",
       "      <th>2</th>\n",
       "      <td>Vasco x Corinthians: tempo real e onde assisti...</td>\n",
       "      <td>vasco corinthians enfrentam h horario brasilia...</td>\n",
       "      <td>https://www.cnnbrasil.com.br/esportes/vasco-x-...</td>\n",
       "      <td>Onde assistir e tempo real dos lances e das es...</td>\n",
       "      <td>esportes</td>\n",
       "      <td>2023-11-28 11:11:08</td>\n",
       "    </tr>\n",
       "    <tr>\n",
       "      <th>3</th>\n",
       "      <td>Neymar tem alta hospitalar após cirurgia no jo...</td>\n",
       "      <td>atacante neymar alta hospitalar neste sabado a...</td>\n",
       "      <td>https://www.cnnbrasil.com.br/esportes/neymar-t...</td>\n",
       "      <td>Atacante foi operado na quinta-feira (2), fico...</td>\n",
       "      <td>esportes</td>\n",
       "      <td>2023-11-04 18:04:03</td>\n",
       "    </tr>\n",
       "    <tr>\n",
       "      <th>4</th>\n",
       "      <td>Acusado de matar a esposa, ex-lutador pode peg...</td>\n",
       "      <td>exlutador mma luis paulo santos vai juri popul...</td>\n",
       "      <td>https://www.cnnbrasil.com.br/esportes/acusado-...</td>\n",
       "      <td>Ex-lutador de MMA, Luís Paulo dos Santos, vai ...</td>\n",
       "      <td>esportes</td>\n",
       "      <td>2023-11-21 12:54:52</td>\n",
       "    </tr>\n",
       "  </tbody>\n",
       "</table>\n",
       "</div>"
      ],
      "text/plain": [
       "                                              titulo  \\\n",
       "0  Endrick na Seleção: Imprensa estrangeira reper...   \n",
       "1  Réu confesso em esquema de manipulação, Alef M...   \n",
       "2  Vasco x Corinthians: tempo real e onde assisti...   \n",
       "3  Neymar tem alta hospitalar após cirurgia no jo...   \n",
       "4  Acusado de matar a esposa, ex-lutador pode peg...   \n",
       "\n",
       "                                               texto  \\\n",
       "0  convocacao atacante endrick palmeiras selecao ...   \n",
       "1  coritiba informou inicio tarde desta tercafeir...   \n",
       "2  vasco corinthians enfrentam h horario brasilia...   \n",
       "3  atacante neymar alta hospitalar neste sabado a...   \n",
       "4  exlutador mma luis paulo santos vai juri popul...   \n",
       "\n",
       "                                                link  \\\n",
       "0  https://www.cnnbrasil.com.br/esportes/endrick-...   \n",
       "1  https://www.cnnbrasil.com.br/esportes/reu-conf...   \n",
       "2  https://www.cnnbrasil.com.br/esportes/vasco-x-...   \n",
       "3  https://www.cnnbrasil.com.br/esportes/neymar-t...   \n",
       "4  https://www.cnnbrasil.com.br/esportes/acusado-...   \n",
       "\n",
       "                                              resumo categoria  \\\n",
       "0  Atacante de 17 anos recebeu de Fernando Diniz ...  esportes   \n",
       "1  Atacante foi punido pela FIFA pelo envolviment...  esportes   \n",
       "2  Onde assistir e tempo real dos lances e das es...  esportes   \n",
       "3  Atacante foi operado na quinta-feira (2), fico...  esportes   \n",
       "4  Ex-lutador de MMA, Luís Paulo dos Santos, vai ...  esportes   \n",
       "\n",
       "             data_hora  \n",
       "0  2023-11-06 19:41:39  \n",
       "1  2023-11-28 16:43:13  \n",
       "2  2023-11-28 11:11:08  \n",
       "3  2023-11-04 18:04:03  \n",
       "4  2023-11-21 12:54:52  "
      ]
     },
     "execution_count": 29,
     "metadata": {},
     "output_type": "execute_result"
    }
   ],
   "source": [
    "df_balanceado['texto'] = token_text\n",
    "df_balanceado.head(5)"
   ]
  },
  {
   "cell_type": "code",
   "execution_count": 30,
   "id": "25271109-1eeb-4ed0-90fb-9fd19c4706ab",
   "metadata": {},
   "outputs": [],
   "source": [
    "col = ['categoria', 'texto']\n",
    "df_balanceado = df_balanceado[col]"
   ]
  },
  {
   "cell_type": "code",
   "execution_count": 31,
   "id": "6f4821d2-e896-40ed-8236-8f7f88c6240d",
   "metadata": {},
   "outputs": [
    {
     "data": {
      "text/html": [
       "<div>\n",
       "<style scoped>\n",
       "    .dataframe tbody tr th:only-of-type {\n",
       "        vertical-align: middle;\n",
       "    }\n",
       "\n",
       "    .dataframe tbody tr th {\n",
       "        vertical-align: top;\n",
       "    }\n",
       "\n",
       "    .dataframe thead th {\n",
       "        text-align: right;\n",
       "    }\n",
       "</style>\n",
       "<table border=\"1\" class=\"dataframe\">\n",
       "  <thead>\n",
       "    <tr style=\"text-align: right;\">\n",
       "      <th></th>\n",
       "      <th>categoria</th>\n",
       "      <th>texto</th>\n",
       "    </tr>\n",
       "  </thead>\n",
       "  <tbody>\n",
       "    <tr>\n",
       "      <th>0</th>\n",
       "      <td>esportes</td>\n",
       "      <td>convocacao atacante endrick palmeiras selecao ...</td>\n",
       "    </tr>\n",
       "    <tr>\n",
       "      <th>1</th>\n",
       "      <td>esportes</td>\n",
       "      <td>coritiba informou inicio tarde desta tercafeir...</td>\n",
       "    </tr>\n",
       "    <tr>\n",
       "      <th>2</th>\n",
       "      <td>esportes</td>\n",
       "      <td>vasco corinthians enfrentam h horario brasilia...</td>\n",
       "    </tr>\n",
       "    <tr>\n",
       "      <th>3</th>\n",
       "      <td>esportes</td>\n",
       "      <td>atacante neymar alta hospitalar neste sabado a...</td>\n",
       "    </tr>\n",
       "    <tr>\n",
       "      <th>4</th>\n",
       "      <td>esportes</td>\n",
       "      <td>exlutador mma luis paulo santos vai juri popul...</td>\n",
       "    </tr>\n",
       "  </tbody>\n",
       "</table>\n",
       "</div>"
      ],
      "text/plain": [
       "  categoria                                              texto\n",
       "0  esportes  convocacao atacante endrick palmeiras selecao ...\n",
       "1  esportes  coritiba informou inicio tarde desta tercafeir...\n",
       "2  esportes  vasco corinthians enfrentam h horario brasilia...\n",
       "3  esportes  atacante neymar alta hospitalar neste sabado a...\n",
       "4  esportes  exlutador mma luis paulo santos vai juri popul..."
      ]
     },
     "execution_count": 31,
     "metadata": {},
     "output_type": "execute_result"
    }
   ],
   "source": [
    "df_balanceado.head()"
   ]
  },
  {
   "cell_type": "code",
   "execution_count": 32,
   "id": "9bb2b0ca-95ca-4996-b6e2-cf19aceffb6b",
   "metadata": {},
   "outputs": [
    {
     "data": {
      "text/html": [
       "<div>\n",
       "<style scoped>\n",
       "    .dataframe tbody tr th:only-of-type {\n",
       "        vertical-align: middle;\n",
       "    }\n",
       "\n",
       "    .dataframe tbody tr th {\n",
       "        vertical-align: top;\n",
       "    }\n",
       "\n",
       "    .dataframe thead th {\n",
       "        text-align: right;\n",
       "    }\n",
       "</style>\n",
       "<table border=\"1\" class=\"dataframe\">\n",
       "  <thead>\n",
       "    <tr style=\"text-align: right;\">\n",
       "      <th></th>\n",
       "      <th>categoria</th>\n",
       "      <th>texto</th>\n",
       "      <th>category_id</th>\n",
       "    </tr>\n",
       "  </thead>\n",
       "  <tbody>\n",
       "    <tr>\n",
       "      <th>0</th>\n",
       "      <td>esportes</td>\n",
       "      <td>convocacao atacante endrick palmeiras selecao ...</td>\n",
       "      <td>0</td>\n",
       "    </tr>\n",
       "    <tr>\n",
       "      <th>1</th>\n",
       "      <td>esportes</td>\n",
       "      <td>coritiba informou inicio tarde desta tercafeir...</td>\n",
       "      <td>0</td>\n",
       "    </tr>\n",
       "    <tr>\n",
       "      <th>2</th>\n",
       "      <td>esportes</td>\n",
       "      <td>vasco corinthians enfrentam h horario brasilia...</td>\n",
       "      <td>0</td>\n",
       "    </tr>\n",
       "    <tr>\n",
       "      <th>3</th>\n",
       "      <td>esportes</td>\n",
       "      <td>atacante neymar alta hospitalar neste sabado a...</td>\n",
       "      <td>0</td>\n",
       "    </tr>\n",
       "    <tr>\n",
       "      <th>4</th>\n",
       "      <td>esportes</td>\n",
       "      <td>exlutador mma luis paulo santos vai juri popul...</td>\n",
       "      <td>0</td>\n",
       "    </tr>\n",
       "  </tbody>\n",
       "</table>\n",
       "</div>"
      ],
      "text/plain": [
       "  categoria                                              texto  category_id\n",
       "0  esportes  convocacao atacante endrick palmeiras selecao ...            0\n",
       "1  esportes  coritiba informou inicio tarde desta tercafeir...            0\n",
       "2  esportes  vasco corinthians enfrentam h horario brasilia...            0\n",
       "3  esportes  atacante neymar alta hospitalar neste sabado a...            0\n",
       "4  esportes  exlutador mma luis paulo santos vai juri popul...            0"
      ]
     },
     "execution_count": 32,
     "metadata": {},
     "output_type": "execute_result"
    }
   ],
   "source": [
    "df_balanceado['category_id'] = df_balanceado['categoria'].factorize()[0]\n",
    "from io import StringIO\n",
    "category_id_df = df_balanceado[['categoria', 'category_id']].drop_duplicates().sort_values('category_id')\n",
    "category_to_id = dict(category_id_df.values)\n",
    "id_to_category = dict(category_id_df[['category_id', 'categoria']].values)\n",
    "df_balanceado.head()"
   ]
  },
  {
   "cell_type": "code",
   "execution_count": 34,
   "id": "724646a0-9fb6-494c-88ab-9f31c5782e97",
   "metadata": {},
   "outputs": [
    {
     "data": {
      "text/plain": [
       "(2700, 19905)"
      ]
     },
     "execution_count": 34,
     "metadata": {},
     "output_type": "execute_result"
    }
   ],
   "source": [
    "## Bag of Words model - TF-IDF\n",
    "from sklearn.feature_extraction.text import TfidfVectorizer\n",
    "tfidf = TfidfVectorizer(sublinear_tf=True, min_df=5, norm='l2', encoding='latin-1', ngram_range=(1, 2), stop_words=sw)\n",
    "features = tfidf.fit_transform(df_balanceado['texto']).toarray()\n",
    "labels = df_balanceado.category_id\n",
    "features.shape"
   ]
  },
  {
   "cell_type": "code",
   "execution_count": 35,
   "id": "e72c0f00-69ab-4d21-b4b1-8616347d2b87",
   "metadata": {},
   "outputs": [
    {
     "name": "stdout",
     "output_type": "stream",
     "text": [
      "# 'economia':\n",
      "  . Most correlated unigrams:\n",
      ". trimestre\n",
      ". bilhoes\n",
      "  . Most correlated bigrams:\n",
      ". reforma tributaria\n",
      ". banco central\n",
      "# 'entretenimento':\n",
      "  . Most correlated unigrams:\n",
      ". filme\n",
      ". cantora\n",
      "  . Most correlated bigrams:\n",
      ". post shared\n",
      ". shared by\n",
      "# 'esportes':\n",
      "  . Most correlated unigrams:\n",
      ". rodada\n",
      ". campeonato\n",
      "  . Most correlated bigrams:\n",
      ". itatiaia versao\n",
      ". originalmente itatiaia\n",
      "# 'internacional':\n",
      "  . Most correlated unigrams:\n",
      ". gaza\n",
      ". israel\n",
      "  . Most correlated bigrams:\n",
      ". defesa israel\n",
      ". faixa gaza\n",
      "# 'nacional':\n",
      "  . Most correlated unigrams:\n",
      ". civil\n",
      ". policia\n",
      "  . Most correlated bigrams:\n",
      ". defesa civil\n",
      ". policia civil\n",
      "# 'politica':\n",
      "  . Most correlated unigrams:\n",
      ". supremo\n",
      ". stf\n",
      "  . Most correlated bigrams:\n",
      ". supremo tribunal\n",
      ". tribunal federal\n"
     ]
    }
   ],
   "source": [
    "from sklearn.feature_selection import chi2\n",
    "import numpy as np\n",
    "\n",
    "N = 2\n",
    "\n",
    "for categoria, category_id in sorted(category_to_id.items()):\n",
    "  features_chi2 = chi2(features, labels == category_id)\n",
    "  indices = np.argsort(features_chi2[0])\n",
    "  feature_names = np.array(tfidf.get_feature_names_out())[indices]\n",
    "  unigrams = [v for v in feature_names if len(v.split(' ')) == 1]\n",
    "  bigrams = [v for v in feature_names if len(v.split(' ')) == 2]\n",
    "  print(\"# '{}':\".format(categoria))\n",
    "  print(\"  . Most correlated unigrams:\\n. {}\".format('\\n. '.join(unigrams[-N:])))\n",
    "  print(\"  . Most correlated bigrams:\\n. {}\".format('\\n. '.join(bigrams[-N:])))"
   ]
  },
  {
   "cell_type": "code",
   "execution_count": 36,
   "id": "141b112b-97ab-4742-878d-052ffdcaafec",
   "metadata": {},
   "outputs": [],
   "source": [
    "from sklearn.model_selection import train_test_split\n",
    "from sklearn.feature_extraction.text import CountVectorizer\n",
    "from sklearn.feature_extraction.text import TfidfTransformer\n",
    "from sklearn.naive_bayes import MultinomialNB\n",
    "\n",
    "X_train, X_test, y_train, y_test = train_test_split(df_balanceado['texto'], df_balanceado['categoria'], random_state = 2)\n",
    "count_vect = CountVectorizer()\n",
    "X_train_counts = count_vect.fit_transform(X_train)\n",
    "tfidf_transformer = TfidfTransformer()\n",
    "X_train_tfidf = tfidf_transformer.fit_transform(X_train_counts)\n",
    "\n",
    "clf = MultinomialNB().fit(X_train_tfidf, y_train)"
   ]
  },
  {
   "cell_type": "code",
   "execution_count": 42,
   "id": "ae75a067-4b00-4a59-84b7-e5b6a4c4d193",
   "metadata": {},
   "outputs": [],
   "source": [
    "from sklearn.linear_model import LogisticRegression\n",
    "from sklearn.ensemble import RandomForestClassifier\n",
    "from sklearn.naive_bayes import MultinomialNB\n",
    "from sklearn.svm import LinearSVC\n",
    "\n",
    "from sklearn.model_selection import cross_val_score\n",
    "\n",
    "models = [\n",
    "    RandomForestClassifier(n_estimators=200, max_depth=3, random_state=0),\n",
    "    LinearSVC(dual=False),\n",
    "    MultinomialNB(),\n",
    "    LogisticRegression(random_state=0),\n",
    "]\n",
    "CV = 5\n",
    "cv_df = pd.DataFrame(index=range(CV * len(models)))\n",
    "entries = []\n",
    "for model in models:\n",
    "  model_name = model.__class__.__name__\n",
    "  accuracies = cross_val_score(model, features, labels, scoring='accuracy', cv=CV)\n",
    "  for fold_idx, accuracy in enumerate(accuracies):\n",
    "    entries.append((model_name, fold_idx, accuracy))\n",
    "cv_df = pd.DataFrame(entries, columns=['model_name', 'fold_idx', 'accuracy'])"
   ]
  },
  {
   "cell_type": "code",
   "execution_count": 43,
   "id": "566805a0-ce66-474b-9e68-b68912d431bf",
   "metadata": {},
   "outputs": [
    {
     "data": {
      "text/plain": [
       "model_name\n",
       "LinearSVC                 0.913704\n",
       "LogisticRegression        0.899630\n",
       "MultinomialNB             0.885556\n",
       "RandomForestClassifier    0.787407\n",
       "Name: accuracy, dtype: float64"
      ]
     },
     "execution_count": 43,
     "metadata": {},
     "output_type": "execute_result"
    }
   ],
   "source": [
    "cv_df.groupby('model_name').accuracy.mean()"
   ]
  },
  {
   "cell_type": "code",
   "execution_count": 44,
   "id": "d720d8c8-309d-4fae-936f-78050dfd51fb",
   "metadata": {},
   "outputs": [],
   "source": [
    "from sklearn.model_selection import train_test_split\n",
    "\n",
    "model = LinearSVC(dual=False)\n",
    "\n",
    "X_train, X_test, y_train, y_test, indices_train, indices_test = train_test_split(features, labels, df_balanceado.index, test_size=0.33, random_state=0)\n",
    "model.fit(X_train, y_train)\n",
    "y_pred = model.predict(X_test)"
   ]
  },
  {
   "cell_type": "code",
   "execution_count": 45,
   "id": "133bea98-395d-405a-bcc3-b3acb483372b",
   "metadata": {},
   "outputs": [
    {
     "name": "stdout",
     "output_type": "stream",
     "text": [
      "                precision    recall  f1-score   support\n",
      "\n",
      "      esportes       0.99      0.98      0.99       140\n",
      "      nacional       0.84      0.86      0.85       147\n",
      " internacional       0.92      0.89      0.90       159\n",
      "      economia       0.90      0.88      0.89       137\n",
      "      politica       0.82      0.83      0.83       141\n",
      "entretenimento       0.92      0.96      0.94       167\n",
      "\n",
      "      accuracy                           0.90       891\n",
      "     macro avg       0.90      0.90      0.90       891\n",
      "  weighted avg       0.90      0.90      0.90       891\n",
      "\n"
     ]
    }
   ],
   "source": [
    "from sklearn import metrics\n",
    "print(metrics.classification_report(y_test, y_pred,target_names=df_balanceado['categoria'].unique()))"
   ]
  },
  {
   "cell_type": "code",
   "execution_count": null,
   "id": "930286f3-6fcd-4406-a595-562ee8218ef9",
   "metadata": {},
   "outputs": [],
   "source": []
  }
 ],
 "metadata": {
  "kernelspec": {
   "display_name": "Python 3 (ipykernel)",
   "language": "python",
   "name": "python3"
  },
  "language_info": {
   "codemirror_mode": {
    "name": "ipython",
    "version": 3
   },
   "file_extension": ".py",
   "mimetype": "text/x-python",
   "name": "python",
   "nbconvert_exporter": "python",
   "pygments_lexer": "ipython3",
   "version": "3.11.5"
  }
 },
 "nbformat": 4,
 "nbformat_minor": 5
}
