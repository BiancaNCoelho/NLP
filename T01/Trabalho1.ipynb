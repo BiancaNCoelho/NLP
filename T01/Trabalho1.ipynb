{
 "cells": [
  {
   "cell_type": "markdown",
   "id": "2dcc6805-62bb-443d-90da-97a664722ced",
   "metadata": {},
   "source": [
    "# Trabalho 1\n",
    "Matéria: Processamento de Linguagem Natural <br>\n",
    "Dupla/Matrícula: Bianca Nunes Coelho - 15102880, Raíssa Nunes Coelho - 15102887 <br> "
   ]
  },
  {
   "cell_type": "markdown",
   "id": "dad90a93-1f3f-4c3d-9526-319fb5b42742",
   "metadata": {},
   "source": [
    "## Introdução\n",
    "\n",
    "Multi Class Classification <br>"
   ]
  },
  {
   "cell_type": "markdown",
   "id": "988aaa3a-0dd6-49e6-a703-ec5b042048fb",
   "metadata": {},
   "source": [
    "## Bibliotecas\n",
    "Bibliotecas do ptyhon utilizadas neste trabalho estão a seguir."
   ]
  },
  {
   "cell_type": "code",
   "execution_count": 1,
   "id": "a3cd0f70-3ec7-4e09-b942-8a08a73bb744",
   "metadata": {},
   "outputs": [],
   "source": [
    "import pandas as pd\n",
    "import re\n",
    "import nltk\n",
    "import spacy\n",
    "import gensim\n",
    "import matplotlib.pyplot as plt"
   ]
  },
  {
   "cell_type": "markdown",
   "id": "1560868d-ad70-4a86-a2c8-ddc37c631191",
   "metadata": {},
   "source": [
    "## Datasets\n",
    "Datasets utilizados estão definidos a seguir."
   ]
  },
  {
   "cell_type": "code",
   "execution_count": 2,
   "id": "35b67696-aaf3-4ac5-9d2a-ee1772410097",
   "metadata": {},
   "outputs": [],
   "source": [
    "file = \"train-00000-of-00001-ecf072e7202447d8.parquet\"\n",
    "df = pd.read_parquet(file, engine= 'pyarrow')"
   ]
  },
  {
   "cell_type": "code",
   "execution_count": 3,
   "id": "ab167922-da09-4405-bd0a-729b239877dc",
   "metadata": {},
   "outputs": [
    {
     "data": {
      "text/plain": [
       "3877"
      ]
     },
     "execution_count": 3,
     "metadata": {},
     "output_type": "execute_result"
    }
   ],
   "source": [
    "len(df)"
   ]
  },
  {
   "cell_type": "code",
   "execution_count": 4,
   "id": "c4069ff3-0d88-45b9-afeb-61d8d7f89e31",
   "metadata": {},
   "outputs": [
    {
     "data": {
      "text/html": [
       "<div>\n",
       "<style scoped>\n",
       "    .dataframe tbody tr th:only-of-type {\n",
       "        vertical-align: middle;\n",
       "    }\n",
       "\n",
       "    .dataframe tbody tr th {\n",
       "        vertical-align: top;\n",
       "    }\n",
       "\n",
       "    .dataframe thead th {\n",
       "        text-align: right;\n",
       "    }\n",
       "</style>\n",
       "<table border=\"1\" class=\"dataframe\">\n",
       "  <thead>\n",
       "    <tr style=\"text-align: right;\">\n",
       "      <th></th>\n",
       "      <th>titulo</th>\n",
       "      <th>texto</th>\n",
       "      <th>link</th>\n",
       "      <th>resumo</th>\n",
       "      <th>categoria</th>\n",
       "      <th>data_hora</th>\n",
       "    </tr>\n",
       "  </thead>\n",
       "  <tbody>\n",
       "    <tr>\n",
       "      <th>count</th>\n",
       "      <td>3877</td>\n",
       "      <td>3877</td>\n",
       "      <td>3877</td>\n",
       "      <td>3877</td>\n",
       "      <td>3877</td>\n",
       "      <td>3877</td>\n",
       "    </tr>\n",
       "    <tr>\n",
       "      <th>unique</th>\n",
       "      <td>3877</td>\n",
       "      <td>3705</td>\n",
       "      <td>3619</td>\n",
       "      <td>3574</td>\n",
       "      <td>11</td>\n",
       "      <td>3522</td>\n",
       "    </tr>\n",
       "    <tr>\n",
       "      <th>top</th>\n",
       "      <td>Veja a trajetória de Fernando Diniz, em busca ...</td>\n",
       "      <td></td>\n",
       "      <td>https://www.cnnbrasil.com.br/economia/mercado-...</td>\n",
       "      <td>Onde assistir e tempo real dos lances e das es...</td>\n",
       "      <td>esportes</td>\n",
       "      <td>2023-11-08 12:14:27</td>\n",
       "    </tr>\n",
       "    <tr>\n",
       "      <th>freq</th>\n",
       "      <td>1</td>\n",
       "      <td>40</td>\n",
       "      <td>7</td>\n",
       "      <td>9</td>\n",
       "      <td>960</td>\n",
       "      <td>7</td>\n",
       "    </tr>\n",
       "  </tbody>\n",
       "</table>\n",
       "</div>"
      ],
      "text/plain": [
       "                                                   titulo texto  \\\n",
       "count                                                3877  3877   \n",
       "unique                                               3877  3705   \n",
       "top     Veja a trajetória de Fernando Diniz, em busca ...         \n",
       "freq                                                    1    40   \n",
       "\n",
       "                                                     link  \\\n",
       "count                                                3877   \n",
       "unique                                               3619   \n",
       "top     https://www.cnnbrasil.com.br/economia/mercado-...   \n",
       "freq                                                    7   \n",
       "\n",
       "                                                   resumo categoria  \\\n",
       "count                                                3877      3877   \n",
       "unique                                               3574        11   \n",
       "top     Onde assistir e tempo real dos lances e das es...  esportes   \n",
       "freq                                                    9       960   \n",
       "\n",
       "                  data_hora  \n",
       "count                  3877  \n",
       "unique                 3522  \n",
       "top     2023-11-08 12:14:27  \n",
       "freq                      7  "
      ]
     },
     "execution_count": 4,
     "metadata": {},
     "output_type": "execute_result"
    }
   ],
   "source": [
    "df.describe()"
   ]
  },
  {
   "cell_type": "code",
   "execution_count": 5,
   "id": "1d312d32-233a-4cfa-a135-91410e6c2a83",
   "metadata": {},
   "outputs": [],
   "source": [
    "df = df.dropna(subset=['texto'])\n",
    "\n",
    "# Remover linhas com listas vazias\n",
    "df= df[df['texto'].apply(lambda x: len(x) > 0)]"
   ]
  },
  {
   "cell_type": "code",
   "execution_count": 6,
   "id": "41b78a0c-a498-46e2-8e7b-84f28daf62ca",
   "metadata": {
    "scrolled": true
   },
   "outputs": [
    {
     "data": {
      "text/html": [
       "<div>\n",
       "<style scoped>\n",
       "    .dataframe tbody tr th:only-of-type {\n",
       "        vertical-align: middle;\n",
       "    }\n",
       "\n",
       "    .dataframe tbody tr th {\n",
       "        vertical-align: top;\n",
       "    }\n",
       "\n",
       "    .dataframe thead th {\n",
       "        text-align: right;\n",
       "    }\n",
       "</style>\n",
       "<table border=\"1\" class=\"dataframe\">\n",
       "  <thead>\n",
       "    <tr style=\"text-align: right;\">\n",
       "      <th></th>\n",
       "      <th>titulo</th>\n",
       "      <th>texto</th>\n",
       "      <th>link</th>\n",
       "      <th>resumo</th>\n",
       "      <th>categoria</th>\n",
       "      <th>data_hora</th>\n",
       "    </tr>\n",
       "  </thead>\n",
       "  <tbody>\n",
       "    <tr>\n",
       "      <th>0</th>\n",
       "      <td>Veja a trajetória de Fernando Diniz, em busca ...</td>\n",
       "      <td>Se tem um treinador que sempre foi badalado pe...</td>\n",
       "      <td>https://www.cnnbrasil.com.br/esportes/veja-a-t...</td>\n",
       "      <td>Técnico tricolor e da Seleção Brasileira tem a...</td>\n",
       "      <td>esportes</td>\n",
       "      <td>2023-11-04 12:26:18</td>\n",
       "    </tr>\n",
       "    <tr>\n",
       "      <th>1</th>\n",
       "      <td>Após tempestade com ventos, São Paulo terá sáb...</td>\n",
       "      <td>Após uma tempestade com ventos de mais de 100 ...</td>\n",
       "      <td>https://www.cnnbrasil.com.br/nacional/apos-tem...</td>\n",
       "      <td>Termômetros devem chegar a 26ºC, esquentando a...</td>\n",
       "      <td>nacional</td>\n",
       "      <td>2023-11-04 12:15:44</td>\n",
       "    </tr>\n",
       "    <tr>\n",
       "      <th>2</th>\n",
       "      <td>Como os aplicativos de relacionamento “arruina...</td>\n",
       "      <td>Jenny Nguyen-Don estava com vontade de comer f...</td>\n",
       "      <td>https://www.cnnbrasil.com.br/tecnologia/como-o...</td>\n",
       "      <td>Pessoas em busca de relacionamentos afirmam qu...</td>\n",
       "      <td>tecnologia</td>\n",
       "      <td>2023-11-04 12:15:07</td>\n",
       "    </tr>\n",
       "    <tr>\n",
       "      <th>3</th>\n",
       "      <td>Fluminense pode ser o 26º clube a levantar a t...</td>\n",
       "      <td>O Fluminense vai em busca do primeiro título d...</td>\n",
       "      <td>https://www.cnnbrasil.com.br/esportes/fluminen...</td>\n",
       "      <td>Em busca do título inédito, o Tricolor carioca...</td>\n",
       "      <td>esportes</td>\n",
       "      <td>2023-11-04 12:05:24</td>\n",
       "    </tr>\n",
       "  </tbody>\n",
       "</table>\n",
       "</div>"
      ],
      "text/plain": [
       "                                              titulo  \\\n",
       "0  Veja a trajetória de Fernando Diniz, em busca ...   \n",
       "1  Após tempestade com ventos, São Paulo terá sáb...   \n",
       "2  Como os aplicativos de relacionamento “arruina...   \n",
       "3  Fluminense pode ser o 26º clube a levantar a t...   \n",
       "\n",
       "                                               texto  \\\n",
       "0  Se tem um treinador que sempre foi badalado pe...   \n",
       "1  Após uma tempestade com ventos de mais de 100 ...   \n",
       "2  Jenny Nguyen-Don estava com vontade de comer f...   \n",
       "3  O Fluminense vai em busca do primeiro título d...   \n",
       "\n",
       "                                                link  \\\n",
       "0  https://www.cnnbrasil.com.br/esportes/veja-a-t...   \n",
       "1  https://www.cnnbrasil.com.br/nacional/apos-tem...   \n",
       "2  https://www.cnnbrasil.com.br/tecnologia/como-o...   \n",
       "3  https://www.cnnbrasil.com.br/esportes/fluminen...   \n",
       "\n",
       "                                              resumo   categoria  \\\n",
       "0  Técnico tricolor e da Seleção Brasileira tem a...    esportes   \n",
       "1  Termômetros devem chegar a 26ºC, esquentando a...    nacional   \n",
       "2  Pessoas em busca de relacionamentos afirmam qu...  tecnologia   \n",
       "3  Em busca do título inédito, o Tricolor carioca...    esportes   \n",
       "\n",
       "             data_hora  \n",
       "0  2023-11-04 12:26:18  \n",
       "1  2023-11-04 12:15:44  \n",
       "2  2023-11-04 12:15:07  \n",
       "3  2023-11-04 12:05:24  "
      ]
     },
     "execution_count": 6,
     "metadata": {},
     "output_type": "execute_result"
    }
   ],
   "source": [
    "df.head(4)"
   ]
  },
  {
   "cell_type": "markdown",
   "id": "8aa6f7f3-edb4-4990-9cca-4b80617f41dd",
   "metadata": {},
   "source": [
    "## Balanceamento"
   ]
  },
  {
   "cell_type": "code",
   "execution_count": 7,
   "id": "3ef5e8fa-9005-40f3-b0fd-2a9d50cb97dd",
   "metadata": {},
   "outputs": [
    {
     "data": {
      "text/plain": [
       "esportes           920\n",
       "nacional           623\n",
       "internacional      618\n",
       "economia           562\n",
       "politica           507\n",
       "entretenimento     450\n",
       "tecnologia          44\n",
       "saude               41\n",
       "noticias            38\n",
       "lifestyle           21\n",
       "branded-content     13\n",
       "Name: categoria, dtype: int64"
      ]
     },
     "execution_count": 7,
     "metadata": {},
     "output_type": "execute_result"
    }
   ],
   "source": [
    "df['categoria'].value_counts()"
   ]
  },
  {
   "cell_type": "code",
   "execution_count": 8,
   "id": "498911e8-906e-41dc-9bdc-039d09b4c4ce",
   "metadata": {},
   "outputs": [
    {
     "data": {
      "text/plain": [
       "<AxesSubplot: >"
      ]
     },
     "execution_count": 8,
     "metadata": {},
     "output_type": "execute_result"
    },
    {
     "data": {
      "image/png": "[encoded data removed]",
      "text/plain": [
       "<Figure size 1000x400 with 1 Axes>"
      ]
     },
     "metadata": {},
     "output_type": "display_data"
    }
   ],
   "source": [
    "plt.figure(figsize=(10,4))\n",
    "df.categoria.value_counts().plot(kind='bar')"
   ]
  },
  {
   "cell_type": "code",
   "execution_count": 9,
   "id": "696e88a5-62a5-46c3-acec-8575da709518",
   "metadata": {},
   "outputs": [],
   "source": [
    "indice_linha_remover = ['tecnologia',  'saude','noticias','lifestyle','branded-content']"
   ]
  },
  {
   "cell_type": "code",
   "execution_count": 10,
   "id": "c971502d-21ba-40dd-8dab-3bd93640fad6",
   "metadata": {},
   "outputs": [],
   "source": [
    "df = df[~df['categoria'].isin(indice_linha_remover)]"
   ]
  },
  {
   "cell_type": "code",
   "execution_count": 11,
   "id": "519d61c7-a98e-4703-a157-455a39e71b7b",
   "metadata": {},
   "outputs": [
    {
     "data": {
      "text/plain": [
       "esportes          920\n",
       "nacional          623\n",
       "internacional     618\n",
       "economia          562\n",
       "politica          507\n",
       "entretenimento    450\n",
       "Name: categoria, dtype: int64"
      ]
     },
     "execution_count": 11,
     "metadata": {},
     "output_type": "execute_result"
    }
   ],
   "source": [
    "df['categoria'].value_counts()"
   ]
  },
  {
   "cell_type": "code",
   "execution_count": 12,
   "id": "8b080baf-1753-4f8c-88ba-ee247c734a79",
   "metadata": {},
   "outputs": [],
   "source": [
    "# Undersampling\n",
    "min = df['categoria'].value_counts().min()\n",
    "\n",
    "amostras = []\n",
    "\n",
    "for i in df['categoria'].value_counts().index:\n",
    "    a = df[df['categoria'] == i].sample(min, replace=False)\n",
    "    amostras.append(a)\n",
    "\n",
    "df_balanceado = pd.concat(amostras)"
   ]
  },
  {
   "cell_type": "code",
   "execution_count": 13,
   "id": "90d0307b-f2bf-4988-aa52-8795343fdfe1",
   "metadata": {},
   "outputs": [
    {
     "data": {
      "text/plain": [
       "esportes          450\n",
       "nacional          450\n",
       "internacional     450\n",
       "economia          450\n",
       "politica          450\n",
       "entretenimento    450\n",
       "Name: categoria, dtype: int64"
      ]
     },
     "execution_count": 13,
     "metadata": {},
     "output_type": "execute_result"
    }
   ],
   "source": [
    "df_balanceado['categoria'].value_counts()"
   ]
  },
  {
   "cell_type": "code",
   "execution_count": 14,
   "id": "892752bf-2247-4e1c-bb90-1c673908ad1c",
   "metadata": {},
   "outputs": [
    {
     "data": {
      "text/html": [
       "<div>\n",
       "<style scoped>\n",
       "    .dataframe tbody tr th:only-of-type {\n",
       "        vertical-align: middle;\n",
       "    }\n",
       "\n",
       "    .dataframe tbody tr th {\n",
       "        vertical-align: top;\n",
       "    }\n",
       "\n",
       "    .dataframe thead th {\n",
       "        text-align: right;\n",
       "    }\n",
       "</style>\n",
       "<table border=\"1\" class=\"dataframe\">\n",
       "  <thead>\n",
       "    <tr style=\"text-align: right;\">\n",
       "      <th></th>\n",
       "      <th>titulo</th>\n",
       "      <th>texto</th>\n",
       "      <th>link</th>\n",
       "      <th>resumo</th>\n",
       "      <th>categoria</th>\n",
       "      <th>data_hora</th>\n",
       "    </tr>\n",
       "  </thead>\n",
       "  <tbody>\n",
       "    <tr>\n",
       "      <th>0</th>\n",
       "      <td>Botafogo: Lúcio Flávio tem aproveitamento pior...</td>\n",
       "      <td>O Botafogo não vive bom momento no Campeonato ...</td>\n",
       "      <td>https://www.cnnbrasil.com.br/esportes/botafogo...</td>\n",
       "      <td>Técnico português deixou o comando da equipe n...</td>\n",
       "      <td>esportes</td>\n",
       "      <td>2023-11-08 13:04:04</td>\n",
       "    </tr>\n",
       "    <tr>\n",
       "      <th>1</th>\n",
       "      <td>Fluminense x LDU: Conmebol divulga datas da Re...</td>\n",
       "      <td>A Conmebol anunciou as datas em que serão disp...</td>\n",
       "      <td>https://www.cnnbrasil.com.br/esportes/fluminen...</td>\n",
       "      <td>Em fevereiro, o vencedor da Copa Libertadores ...</td>\n",
       "      <td>esportes</td>\n",
       "      <td>2023-11-29 19:24:40</td>\n",
       "    </tr>\n",
       "    <tr>\n",
       "      <th>2</th>\n",
       "      <td>Saiba o apelido que Travis Kelce tem para Tayl...</td>\n",
       "      <td>Bem-vindos ao mundo de Taylor Swift e Travis K...</td>\n",
       "      <td>https://www.cnnbrasil.com.br/esportes/saiba-o-...</td>\n",
       "      <td>Tight end do Kansas City Chiefs revelou a info...</td>\n",
       "      <td>esportes</td>\n",
       "      <td>2023-11-30 15:26:12</td>\n",
       "    </tr>\n",
       "    <tr>\n",
       "      <th>3</th>\n",
       "      <td>“Ganhar do Brasil é como sexo”, diz destaque d...</td>\n",
       "      <td>Claudio Echeverri, camisa 10 da Argentina e au...</td>\n",
       "      <td>https://www.cnnbrasil.com.br/esportes/ganhar-d...</td>\n",
       "      <td>Pablo Echeverri marcou os três gols da vitória...</td>\n",
       "      <td>esportes</td>\n",
       "      <td>2023-11-24 16:45:25</td>\n",
       "    </tr>\n",
       "    <tr>\n",
       "      <th>4</th>\n",
       "      <td>Galatasaray x Bayern: onde assistir ao jogo pe...</td>\n",
       "      <td>Em partida válida pela quarta rodada da fase d...</td>\n",
       "      <td>https://www.cnnbrasil.com.br/esportes/galatasa...</td>\n",
       "      <td>Times se encaram nesta quarta-feira (8) pela q...</td>\n",
       "      <td>esportes</td>\n",
       "      <td>2023-11-08 07:00:57</td>\n",
       "    </tr>\n",
       "  </tbody>\n",
       "</table>\n",
       "</div>"
      ],
      "text/plain": [
       "                                              titulo  \\\n",
       "0  Botafogo: Lúcio Flávio tem aproveitamento pior...   \n",
       "1  Fluminense x LDU: Conmebol divulga datas da Re...   \n",
       "2  Saiba o apelido que Travis Kelce tem para Tayl...   \n",
       "3  “Ganhar do Brasil é como sexo”, diz destaque d...   \n",
       "4  Galatasaray x Bayern: onde assistir ao jogo pe...   \n",
       "\n",
       "                                               texto  \\\n",
       "0  O Botafogo não vive bom momento no Campeonato ...   \n",
       "1  A Conmebol anunciou as datas em que serão disp...   \n",
       "2  Bem-vindos ao mundo de Taylor Swift e Travis K...   \n",
       "3  Claudio Echeverri, camisa 10 da Argentina e au...   \n",
       "4  Em partida válida pela quarta rodada da fase d...   \n",
       "\n",
       "                                                link  \\\n",
       "0  https://www.cnnbrasil.com.br/esportes/botafogo...   \n",
       "1  https://www.cnnbrasil.com.br/esportes/fluminen...   \n",
       "2  https://www.cnnbrasil.com.br/esportes/saiba-o-...   \n",
       "3  https://www.cnnbrasil.com.br/esportes/ganhar-d...   \n",
       "4  https://www.cnnbrasil.com.br/esportes/galatasa...   \n",
       "\n",
       "                                              resumo categoria  \\\n",
       "0  Técnico português deixou o comando da equipe n...  esportes   \n",
       "1  Em fevereiro, o vencedor da Copa Libertadores ...  esportes   \n",
       "2  Tight end do Kansas City Chiefs revelou a info...  esportes   \n",
       "3  Pablo Echeverri marcou os três gols da vitória...  esportes   \n",
       "4  Times se encaram nesta quarta-feira (8) pela q...  esportes   \n",
       "\n",
       "             data_hora  \n",
       "0  2023-11-08 13:04:04  \n",
       "1  2023-11-29 19:24:40  \n",
       "2  2023-11-30 15:26:12  \n",
       "3  2023-11-24 16:45:25  \n",
       "4  2023-11-08 07:00:57  "
      ]
     },
     "execution_count": 14,
     "metadata": {},
     "output_type": "execute_result"
    }
   ],
   "source": [
    "df_balanceado = df_balanceado.reset_index(drop=True)\n",
    "df_balanceado.head(5)"
   ]
  },
  {
   "cell_type": "code",
   "execution_count": 15,
   "id": "adf3e922-5d63-42cc-9a2a-4d6c3214fc62",
   "metadata": {},
   "outputs": [],
   "source": [
    "df_balanceado2 = df_balanceado.copy()\n",
    "df_balanceado3 = df_balanceado.copy()"
   ]
  },
  {
   "cell_type": "code",
   "execution_count": 16,
   "id": "1af4a198-bf97-4adb-a205-5d464decb9bc",
   "metadata": {},
   "outputs": [
    {
     "data": {
      "text/html": [
       "<div>\n",
       "<style scoped>\n",
       "    .dataframe tbody tr th:only-of-type {\n",
       "        vertical-align: middle;\n",
       "    }\n",
       "\n",
       "    .dataframe tbody tr th {\n",
       "        vertical-align: top;\n",
       "    }\n",
       "\n",
       "    .dataframe thead th {\n",
       "        text-align: right;\n",
       "    }\n",
       "</style>\n",
       "<table border=\"1\" class=\"dataframe\">\n",
       "  <thead>\n",
       "    <tr style=\"text-align: right;\">\n",
       "      <th></th>\n",
       "      <th>titulo</th>\n",
       "      <th>texto</th>\n",
       "      <th>link</th>\n",
       "      <th>resumo</th>\n",
       "      <th>categoria</th>\n",
       "      <th>data_hora</th>\n",
       "    </tr>\n",
       "  </thead>\n",
       "  <tbody>\n",
       "    <tr>\n",
       "      <th>0</th>\n",
       "      <td>Botafogo: Lúcio Flávio tem aproveitamento pior...</td>\n",
       "      <td>O Botafogo não vive bom momento no Campeonato ...</td>\n",
       "      <td>https://www.cnnbrasil.com.br/esportes/botafogo...</td>\n",
       "      <td>Técnico português deixou o comando da equipe n...</td>\n",
       "      <td>esportes</td>\n",
       "      <td>2023-11-08 13:04:04</td>\n",
       "    </tr>\n",
       "    <tr>\n",
       "      <th>1</th>\n",
       "      <td>Fluminense x LDU: Conmebol divulga datas da Re...</td>\n",
       "      <td>A Conmebol anunciou as datas em que serão disp...</td>\n",
       "      <td>https://www.cnnbrasil.com.br/esportes/fluminen...</td>\n",
       "      <td>Em fevereiro, o vencedor da Copa Libertadores ...</td>\n",
       "      <td>esportes</td>\n",
       "      <td>2023-11-29 19:24:40</td>\n",
       "    </tr>\n",
       "    <tr>\n",
       "      <th>2</th>\n",
       "      <td>Saiba o apelido que Travis Kelce tem para Tayl...</td>\n",
       "      <td>Bem-vindos ao mundo de Taylor Swift e Travis K...</td>\n",
       "      <td>https://www.cnnbrasil.com.br/esportes/saiba-o-...</td>\n",
       "      <td>Tight end do Kansas City Chiefs revelou a info...</td>\n",
       "      <td>esportes</td>\n",
       "      <td>2023-11-30 15:26:12</td>\n",
       "    </tr>\n",
       "    <tr>\n",
       "      <th>3</th>\n",
       "      <td>“Ganhar do Brasil é como sexo”, diz destaque d...</td>\n",
       "      <td>Claudio Echeverri, camisa 10 da Argentina e au...</td>\n",
       "      <td>https://www.cnnbrasil.com.br/esportes/ganhar-d...</td>\n",
       "      <td>Pablo Echeverri marcou os três gols da vitória...</td>\n",
       "      <td>esportes</td>\n",
       "      <td>2023-11-24 16:45:25</td>\n",
       "    </tr>\n",
       "    <tr>\n",
       "      <th>4</th>\n",
       "      <td>Galatasaray x Bayern: onde assistir ao jogo pe...</td>\n",
       "      <td>Em partida válida pela quarta rodada da fase d...</td>\n",
       "      <td>https://www.cnnbrasil.com.br/esportes/galatasa...</td>\n",
       "      <td>Times se encaram nesta quarta-feira (8) pela q...</td>\n",
       "      <td>esportes</td>\n",
       "      <td>2023-11-08 07:00:57</td>\n",
       "    </tr>\n",
       "  </tbody>\n",
       "</table>\n",
       "</div>"
      ],
      "text/plain": [
       "                                              titulo  \\\n",
       "0  Botafogo: Lúcio Flávio tem aproveitamento pior...   \n",
       "1  Fluminense x LDU: Conmebol divulga datas da Re...   \n",
       "2  Saiba o apelido que Travis Kelce tem para Tayl...   \n",
       "3  “Ganhar do Brasil é como sexo”, diz destaque d...   \n",
       "4  Galatasaray x Bayern: onde assistir ao jogo pe...   \n",
       "\n",
       "                                               texto  \\\n",
       "0  O Botafogo não vive bom momento no Campeonato ...   \n",
       "1  A Conmebol anunciou as datas em que serão disp...   \n",
       "2  Bem-vindos ao mundo de Taylor Swift e Travis K...   \n",
       "3  Claudio Echeverri, camisa 10 da Argentina e au...   \n",
       "4  Em partida válida pela quarta rodada da fase d...   \n",
       "\n",
       "                                                link  \\\n",
       "0  https://www.cnnbrasil.com.br/esportes/botafogo...   \n",
       "1  https://www.cnnbrasil.com.br/esportes/fluminen...   \n",
       "2  https://www.cnnbrasil.com.br/esportes/saiba-o-...   \n",
       "3  https://www.cnnbrasil.com.br/esportes/ganhar-d...   \n",
       "4  https://www.cnnbrasil.com.br/esportes/galatasa...   \n",
       "\n",
       "                                              resumo categoria  \\\n",
       "0  Técnico português deixou o comando da equipe n...  esportes   \n",
       "1  Em fevereiro, o vencedor da Copa Libertadores ...  esportes   \n",
       "2  Tight end do Kansas City Chiefs revelou a info...  esportes   \n",
       "3  Pablo Echeverri marcou os três gols da vitória...  esportes   \n",
       "4  Times se encaram nesta quarta-feira (8) pela q...  esportes   \n",
       "\n",
       "             data_hora  \n",
       "0  2023-11-08 13:04:04  \n",
       "1  2023-11-29 19:24:40  \n",
       "2  2023-11-30 15:26:12  \n",
       "3  2023-11-24 16:45:25  \n",
       "4  2023-11-08 07:00:57  "
      ]
     },
     "execution_count": 16,
     "metadata": {},
     "output_type": "execute_result"
    }
   ],
   "source": [
    "df_balanceado2.head()"
   ]
  },
  {
   "cell_type": "code",
   "execution_count": 17,
   "id": "17184f95-683d-4dcd-a4e9-b85235ce73c3",
   "metadata": {},
   "outputs": [
    {
     "data": {
      "text/html": [
       "<div>\n",
       "<style scoped>\n",
       "    .dataframe tbody tr th:only-of-type {\n",
       "        vertical-align: middle;\n",
       "    }\n",
       "\n",
       "    .dataframe tbody tr th {\n",
       "        vertical-align: top;\n",
       "    }\n",
       "\n",
       "    .dataframe thead th {\n",
       "        text-align: right;\n",
       "    }\n",
       "</style>\n",
       "<table border=\"1\" class=\"dataframe\">\n",
       "  <thead>\n",
       "    <tr style=\"text-align: right;\">\n",
       "      <th></th>\n",
       "      <th>titulo</th>\n",
       "      <th>texto</th>\n",
       "      <th>link</th>\n",
       "      <th>resumo</th>\n",
       "      <th>categoria</th>\n",
       "      <th>data_hora</th>\n",
       "    </tr>\n",
       "  </thead>\n",
       "  <tbody>\n",
       "    <tr>\n",
       "      <th>0</th>\n",
       "      <td>Botafogo: Lúcio Flávio tem aproveitamento pior...</td>\n",
       "      <td>O Botafogo não vive bom momento no Campeonato ...</td>\n",
       "      <td>https://www.cnnbrasil.com.br/esportes/botafogo...</td>\n",
       "      <td>Técnico português deixou o comando da equipe n...</td>\n",
       "      <td>esportes</td>\n",
       "      <td>2023-11-08 13:04:04</td>\n",
       "    </tr>\n",
       "    <tr>\n",
       "      <th>1</th>\n",
       "      <td>Fluminense x LDU: Conmebol divulga datas da Re...</td>\n",
       "      <td>A Conmebol anunciou as datas em que serão disp...</td>\n",
       "      <td>https://www.cnnbrasil.com.br/esportes/fluminen...</td>\n",
       "      <td>Em fevereiro, o vencedor da Copa Libertadores ...</td>\n",
       "      <td>esportes</td>\n",
       "      <td>2023-11-29 19:24:40</td>\n",
       "    </tr>\n",
       "    <tr>\n",
       "      <th>2</th>\n",
       "      <td>Saiba o apelido que Travis Kelce tem para Tayl...</td>\n",
       "      <td>Bem-vindos ao mundo de Taylor Swift e Travis K...</td>\n",
       "      <td>https://www.cnnbrasil.com.br/esportes/saiba-o-...</td>\n",
       "      <td>Tight end do Kansas City Chiefs revelou a info...</td>\n",
       "      <td>esportes</td>\n",
       "      <td>2023-11-30 15:26:12</td>\n",
       "    </tr>\n",
       "    <tr>\n",
       "      <th>3</th>\n",
       "      <td>“Ganhar do Brasil é como sexo”, diz destaque d...</td>\n",
       "      <td>Claudio Echeverri, camisa 10 da Argentina e au...</td>\n",
       "      <td>https://www.cnnbrasil.com.br/esportes/ganhar-d...</td>\n",
       "      <td>Pablo Echeverri marcou os três gols da vitória...</td>\n",
       "      <td>esportes</td>\n",
       "      <td>2023-11-24 16:45:25</td>\n",
       "    </tr>\n",
       "    <tr>\n",
       "      <th>4</th>\n",
       "      <td>Galatasaray x Bayern: onde assistir ao jogo pe...</td>\n",
       "      <td>Em partida válida pela quarta rodada da fase d...</td>\n",
       "      <td>https://www.cnnbrasil.com.br/esportes/galatasa...</td>\n",
       "      <td>Times se encaram nesta quarta-feira (8) pela q...</td>\n",
       "      <td>esportes</td>\n",
       "      <td>2023-11-08 07:00:57</td>\n",
       "    </tr>\n",
       "  </tbody>\n",
       "</table>\n",
       "</div>"
      ],
      "text/plain": [
       "                                              titulo  \\\n",
       "0  Botafogo: Lúcio Flávio tem aproveitamento pior...   \n",
       "1  Fluminense x LDU: Conmebol divulga datas da Re...   \n",
       "2  Saiba o apelido que Travis Kelce tem para Tayl...   \n",
       "3  “Ganhar do Brasil é como sexo”, diz destaque d...   \n",
       "4  Galatasaray x Bayern: onde assistir ao jogo pe...   \n",
       "\n",
       "                                               texto  \\\n",
       "0  O Botafogo não vive bom momento no Campeonato ...   \n",
       "1  A Conmebol anunciou as datas em que serão disp...   \n",
       "2  Bem-vindos ao mundo de Taylor Swift e Travis K...   \n",
       "3  Claudio Echeverri, camisa 10 da Argentina e au...   \n",
       "4  Em partida válida pela quarta rodada da fase d...   \n",
       "\n",
       "                                                link  \\\n",
       "0  https://www.cnnbrasil.com.br/esportes/botafogo...   \n",
       "1  https://www.cnnbrasil.com.br/esportes/fluminen...   \n",
       "2  https://www.cnnbrasil.com.br/esportes/saiba-o-...   \n",
       "3  https://www.cnnbrasil.com.br/esportes/ganhar-d...   \n",
       "4  https://www.cnnbrasil.com.br/esportes/galatasa...   \n",
       "\n",
       "                                              resumo categoria  \\\n",
       "0  Técnico português deixou o comando da equipe n...  esportes   \n",
       "1  Em fevereiro, o vencedor da Copa Libertadores ...  esportes   \n",
       "2  Tight end do Kansas City Chiefs revelou a info...  esportes   \n",
       "3  Pablo Echeverri marcou os três gols da vitória...  esportes   \n",
       "4  Times se encaram nesta quarta-feira (8) pela q...  esportes   \n",
       "\n",
       "             data_hora  \n",
       "0  2023-11-08 13:04:04  \n",
       "1  2023-11-29 19:24:40  \n",
       "2  2023-11-30 15:26:12  \n",
       "3  2023-11-24 16:45:25  \n",
       "4  2023-11-08 07:00:57  "
      ]
     },
     "execution_count": 17,
     "metadata": {},
     "output_type": "execute_result"
    }
   ],
   "source": [
    "df_balanceado3.head()"
   ]
  },
  {
   "cell_type": "code",
   "execution_count": 18,
   "id": "2ae37d80-d01e-4fd2-8453-4a89eaa24937",
   "metadata": {},
   "outputs": [
    {
     "data": {
      "text/plain": [
       "2700"
      ]
     },
     "execution_count": 18,
     "metadata": {},
     "output_type": "execute_result"
    }
   ],
   "source": [
    "# pega coluna\n",
    "text = df_balanceado['texto'] # para NLTK\n",
    "text2 = df_balanceado2['texto'] # para spaCy\n",
    "text3 = df_balanceado3['texto'] # para Gensim\n",
    "len(text)"
   ]
  },
  {
   "cell_type": "code",
   "execution_count": 19,
   "id": "5022a379-5739-4952-a864-c866105f76c6",
   "metadata": {},
   "outputs": [
    {
     "data": {
      "text/plain": [
       "'O Botafogo não vive bom momento no Campeonato Brasileiro. Apesar de ser líder, o Glorioso, que chegou a ter 13 pontos de vantagem, está empatado em pontos com o segundo colocado Palmeiras. A equipe comandada por Lúcio Flávio, e que tem o ex-zagueiro Joel Carli como assistente, perdeu as três últimas partidas e não vence há quatro rodadas. Lúcio Flávio deixou de ser auxiliar técnico permanente e assumiu o cargo de técnico em 3 de outubro, depois de Bruno Lage ser demitido. O português esteve a frente do Botafogo por 15 partidas no total, sendo 10 válidas pelo Brasileiro. Lage foi mandado embora depois do empate em 1 a 1 com o Goiás no Nilton Santos, quando começou a partida com Tiquinho Soares, artilheiro do campeonato, no banco de reservas.  Leia Mais  Em outubro, Lúcio Flávio teve um começo de trabalho promissor com duas vitórias seguidas, sendo a primeira no clássico contra o Fluminense. Mas, a partir daí, o rendimento da equipe caiu. De lá para cá foram 6 jogos, com 2 vitórias, 1 empate e 3 derrotas, um aproveitamento de 38%. Bruno Lage ficou mais tempo no comando, pelo Brasileirão somou 10 jogos, sendo 3 vitórias, 4 empates e 3 derrotas, um aproveitamento de 43%. O Botafogo começou a temporada com Luís Castro no comando. O técnico português estava com a equipe desde abril de 2022. Em 2023, a temporada começou com uma campanha abaixo do esperado no Campeonato Carioca, quando o Botafogo não conseguiu se classificar para as semifinais e acabou ficando na quinta posição. Foi no Brasileiro que a equipe melhorou os resultados, assumindo a liderança do campeonato após vencer o clássico contra o Flamengo na terceira rodada e mantendo-se líder desde então. Apesar do ótimo momento, Castro acabou deixando o clube após receber proposta do Al Nassr, clube de seu compatriota Cristiano Ronaldo. Depois da saída de Luís Castro, Cláudio Caçapa, auxiliar técnico do Lyon e ex-zagueiro, assumiu a função interinamente e venceu os quatro jogos em que esteve no comando, sendo três pelo Brasileiro. Na sequência, Bruno Lage foi anunciado e estreou pelo Botafogo no empate em 1 a 1 com o Patronato pela Sul-Americana. Lúcio Flávio Bruno Lage\\xa0 Cláudio Caçapa (interino) Luís Castro'"
      ]
     },
     "execution_count": 19,
     "metadata": {},
     "output_type": "execute_result"
    }
   ],
   "source": [
    "text[0]"
   ]
  },
  {
   "cell_type": "code",
   "execution_count": 20,
   "id": "5d4514e9-6613-4ea6-8788-3c062d7017f7",
   "metadata": {},
   "outputs": [],
   "source": [
    "categorias = ['esportes','nacional', 'internacional', 'economia', 'politica', 'entretenimento']"
   ]
  },
  {
   "cell_type": "markdown",
   "id": "7db9049f-049d-461f-859e-f3cc6f973578",
   "metadata": {},
   "source": [
    "## Pré-processamento"
   ]
  },
  {
   "cell_type": "markdown",
   "id": "02977b39-1e4d-4f7e-92b8-06bebd2112c8",
   "metadata": {},
   "source": [
    "### NLTK"
   ]
  },
  {
   "cell_type": "code",
   "execution_count": 21,
   "id": "576c1475-b309-4f49-a34b-2b35a9cc5047",
   "metadata": {},
   "outputs": [],
   "source": [
    "for i in range(len(text)):\n",
    "    text[i] = text[i].lower()"
   ]
  },
  {
   "cell_type": "code",
   "execution_count": null,
   "id": "2534f4b8-ff0a-4351-94a3-66ee72e1ffd3",
   "metadata": {},
   "outputs": [],
   "source": [
    "token_text = []\n",
    "\n",
    "for j in text:\n",
    "    token_text.append(nltk.word_tokenize(j))"
   ]
  },
  {
   "cell_type": "code",
   "execution_count": null,
   "id": "a6124e77-e0d1-4d1e-b9bf-17f171695772",
   "metadata": {},
   "outputs": [],
   "source": [
    "print(token_text[0])"
   ]
  },
  {
   "cell_type": "code",
   "execution_count": null,
   "id": "9e891517-f3dd-491c-a02e-7fe17e0ecff7",
   "metadata": {},
   "outputs": [],
   "source": [
    "nltk.download('stopwords')"
   ]
  },
  {
   "cell_type": "code",
   "execution_count": null,
   "id": "7ce4e6e6-b023-4dd0-b5b3-624c55220bed",
   "metadata": {},
   "outputs": [],
   "source": [
    "from nltk.corpus import stopwords\n",
    "sw = stopwords.words('portuguese')"
   ]
  },
  {
   "cell_type": "code",
   "execution_count": null,
   "id": "c7a094e5-44b5-4079-bfff-1201a537ded8",
   "metadata": {},
   "outputs": [],
   "source": [
    "for stop in sw:\n",
    "    for text in token_text:\n",
    "        for t in text:\n",
    "            if(t == stop):\n",
    "                text.remove(t)"
   ]
  },
  {
   "cell_type": "code",
   "execution_count": null,
   "id": "6a9a56b7-e028-43f7-bc0b-d0c6dcc31604",
   "metadata": {},
   "outputs": [],
   "source": [
    "print(token_text[0])"
   ]
  },
  {
   "cell_type": "code",
   "execution_count": null,
   "id": "0ead4614-4394-414a-acd8-7267424978c6",
   "metadata": {},
   "outputs": [],
   "source": [
    "for i in range(len(token_text)):\n",
    "    token_text[i] = ' '.join(token_text[i])\n",
    "print(token_text[0])"
   ]
  },
  {
   "cell_type": "code",
   "execution_count": null,
   "id": "46decafe-5c86-4cc0-b3fe-581dfc26fbcd",
   "metadata": {},
   "outputs": [],
   "source": [
    "from unidecode import unidecode\n",
    "\n",
    "for i in range(len(token_text)):\n",
    "    token_text[i] = unidecode(token_text[i])"
   ]
  },
  {
   "cell_type": "code",
   "execution_count": null,
   "id": "b0784904-6dee-4306-b60f-125e87052ffd",
   "metadata": {},
   "outputs": [],
   "source": [
    "for i in range(len(token_text)):\n",
    "    token_text[i] = re.sub(r'[^a-zA-Z\\s]', \"\" ,token_text[i])"
   ]
  },
  {
   "cell_type": "code",
   "execution_count": null,
   "id": "8ec431a0-e329-49f2-94d4-521df69a02d5",
   "metadata": {},
   "outputs": [],
   "source": [
    "t_text = []\n",
    "\n",
    "for j in token_text:\n",
    "    t_text.append(nltk.word_tokenize(j))\n",
    "    \n",
    "token_text = t_text"
   ]
  },
  {
   "cell_type": "code",
   "execution_count": null,
   "id": "75724920-33df-45ea-bc66-62cd512dc49e",
   "metadata": {},
   "outputs": [],
   "source": [
    "df_balanceado['texto'] = token_text\n",
    "df_balanceado.head(2)"
   ]
  },
  {
   "cell_type": "markdown",
   "id": "a2cd84bf-5bbf-4c51-832e-18d870cc3db1",
   "metadata": {},
   "source": [
    "### spaCy"
   ]
  },
  {
   "cell_type": "code",
   "execution_count": null,
   "id": "8dab8515-4524-4bd3-a6cd-b053039d07ca",
   "metadata": {},
   "outputs": [],
   "source": [
    "for i in range(len(text2)):\n",
    "    text2[i] = text2[i].lower()"
   ]
  },
  {
   "cell_type": "code",
   "execution_count": null,
   "id": "76f98a44-ec8e-436e-ad7e-d36fa54f5a3c",
   "metadata": {},
   "outputs": [],
   "source": [
    "nlp = spacy.load('pt_core_news_sm')\n",
    "\n",
    "doc = []\n",
    "\n",
    "for j in text2:\n",
    "    temp = nlp(j)\n",
    "    doc.append(temp)\n",
    "print(doc[0])"
   ]
  },
  {
   "cell_type": "code",
   "execution_count": null,
   "id": "4fd763bc-d541-4267-a129-16e66603a5e4",
   "metadata": {},
   "outputs": [],
   "source": [
    "token_text2 = []\n",
    "\n",
    "#Creating and updating our list of tokens using list comprehension \n",
    "for i in range(len(text2)):\n",
    "    temp = [token.text for token in doc[i] if not token.is_space]\n",
    "    token_text2.append(temp)\n",
    "\n",
    "print(token_text2[0])"
   ]
  },
  {
   "cell_type": "code",
   "execution_count": null,
   "id": "61623151-b4e7-4837-ac59-98a3c1b5e0e6",
   "metadata": {},
   "outputs": [],
   "source": [
    "from spacy.lang.pt.stop_words import STOP_WORDS\n",
    "stop = STOP_WORDS\n",
    "#print(stop)"
   ]
  },
  {
   "cell_type": "code",
   "execution_count": null,
   "id": "f2bd0ad8-a857-46f5-a4ef-896bd469c17d",
   "metadata": {},
   "outputs": [],
   "source": [
    "token2 = []\n",
    "for i in token_text2:\n",
    "    temp = []\n",
    "    for token in i:\n",
    "        if token not in stop:\n",
    "            temp.append(token)\n",
    "    token2.append(temp)\n",
    "print(token2[0])"
   ]
  },
  {
   "cell_type": "code",
   "execution_count": null,
   "id": "506dad60-154a-45c2-a208-e25631edba81",
   "metadata": {},
   "outputs": [],
   "source": [
    "token22 = []\n",
    "for i in token2:\n",
    "    token22.append(' '.join(i))\n",
    "token22[0]"
   ]
  },
  {
   "cell_type": "code",
   "execution_count": null,
   "id": "4e825ead-6706-4075-9b7b-93b78be5e109",
   "metadata": {},
   "outputs": [],
   "source": [
    "from unidecode import unidecode\n",
    "\n",
    "for i in range(len(token22)):\n",
    "    token22[i] = unidecode(token22[i])"
   ]
  },
  {
   "cell_type": "code",
   "execution_count": null,
   "id": "db8bb10d-8812-4eeb-98f2-260f304a4d05",
   "metadata": {},
   "outputs": [],
   "source": [
    "for i in range(len(token22)):\n",
    "   token22[i] = re.sub(r'[^a-zA-Z\\s]', \"\" ,token22[i])"
   ]
  },
  {
   "cell_type": "code",
   "execution_count": null,
   "id": "63115b2e-79ac-406d-95e5-8040cef5c7cb",
   "metadata": {},
   "outputs": [],
   "source": [
    "nlp = spacy.load('pt_core_news_sm')\n",
    "\n",
    "doct = []\n",
    "\n",
    "for j in token22:\n",
    "    temp = nlp(j)\n",
    "    doct.append(temp)\n",
    "    \n",
    "token_text22 = []\n",
    "\n",
    "#Creating and updating our list of tokens using list comprehension \n",
    "for i in range(len(token22)):\n",
    "    temp = [token.text for token in doct[i] if not token.is_space]\n",
    "    token_text22.append(temp)\n",
    "\n",
    "print(token_text22[0])"
   ]
  },
  {
   "cell_type": "code",
   "execution_count": null,
   "id": "e13151bc-e46f-4cbb-8826-c742f00b1838",
   "metadata": {},
   "outputs": [],
   "source": [
    "token2 = token_text22"
   ]
  },
  {
   "cell_type": "code",
   "execution_count": null,
   "id": "d27c4e58-2245-4435-827e-de0480f6fd41",
   "metadata": {},
   "outputs": [],
   "source": [
    "df_balanceado2['texto'] = token2\n",
    "df_balanceado2.head(2)"
   ]
  },
  {
   "cell_type": "markdown",
   "id": "c1f6e2fe-05bf-4c48-8d6d-94f5613ed4b1",
   "metadata": {},
   "source": [
    "### Gensim"
   ]
  },
  {
   "cell_type": "code",
   "execution_count": null,
   "id": "38d05539-7c13-486f-b276-f18e0c4ac150",
   "metadata": {},
   "outputs": [],
   "source": [
    "from gensim.utils import simple_preprocess\n",
    "from gensim.utils import tokenize"
   ]
  },
  {
   "cell_type": "code",
   "execution_count": null,
   "id": "5992355b-e4d7-4ea3-b049-13e41b38638b",
   "metadata": {},
   "outputs": [],
   "source": [
    "for i in range(len(text3)):\n",
    "   text3[i] = re.sub(r'[^a-zA-Z\\s]', \"\" ,text3[i])"
   ]
  },
  {
   "cell_type": "code",
   "execution_count": null,
   "id": "ed8c69cf-6213-4b89-8fe7-05e88f7e0d77",
   "metadata": {},
   "outputs": [],
   "source": [
    "for i in range(len(text3)):\n",
    "    text3[i] = simple_preprocess(text3[i], deacc=False, min_len=3)"
   ]
  },
  {
   "cell_type": "code",
   "execution_count": null,
   "id": "28901743-c714-481c-bc4c-10e070ffac97",
   "metadata": {},
   "outputs": [],
   "source": [
    "stopwords = [ 'a', 'à', 'adeus', 'agora', 'aí', 'ainda', 'além', 'algo', 'alguém', 'algum', 'alguma', 'algumas', 'alguns', 'ali', 'ampla', 'amplas', 'amplo', 'amplos', 'ano', 'anos', 'ante', 'antes', 'ao', 'aos', 'apenas', 'apoio', 'após', 'aquela', 'aquelas', 'aquele', 'aqueles', 'aqui', 'aquilo', 'área', 'as', 'às', 'assim', 'até', 'atrás', 'através', 'baixo', 'bastante', 'bem', 'boa', 'boas', 'bom', 'bons', 'breve', 'cá', 'cada', 'catorze', 'cedo', 'cento', 'certamente', 'certeza', 'cima', 'cinco', 'coisa', 'coisas', 'com', 'como', 'conselho', 'contra', 'contudo', 'custa', 'da', 'dá', 'dão', 'daquela', 'daquelas', 'daquele', 'daqueles', 'dar', 'das', 'de', 'debaixo', 'dela', 'delas', 'dele', 'deles', 'demais', 'dentro', 'depois', 'desde', 'dessa', 'dessas', 'desse', 'desses', 'desta', 'destas', 'deste', 'destes', 'deve', 'devem', 'devendo', 'dever', 'deverá', 'deverão', 'deveria', 'deveriam', 'devia', 'deviam', 'dez', 'dezanove', 'dezasseis', 'dezassete', 'dezoito', 'dia', 'diante', 'disse', 'disso', 'disto', 'dito', 'diz', 'dizem', 'dizer', 'do', 'dois', 'dos', 'doze', 'duas', 'dúvida', 'e', 'é', 'ela', 'elas', 'ele', 'eles', 'em', 'embora', 'enquanto', 'entre', 'era', 'eram', 'éramos', 'és', 'essa', 'essas', 'esse', 'esses', 'esta', 'está', 'estamos', 'estão', 'estar', 'estas', 'estás', 'estava', 'estavam', 'estávamos', 'este', 'esteja', 'estejam', 'estejamos', 'estes', 'esteve', 'estive', 'estivemos', 'estiver', 'estivera', 'estiveram', 'estivéramos', 'estiverem', 'estivermos', 'estivesse', 'estivessem', 'estivéssemos', 'estiveste', 'estivestes', 'estou', 'etc', 'eu', 'exemplo', 'faço', 'falta', 'favor', 'faz', 'fazeis', 'fazem', 'fazemos', 'fazendo', 'fazer', 'fazes', 'feita', 'feitas', 'feito', 'feitos', 'fez', 'fim', 'final', 'foi', 'fomos', 'for', 'fora', 'foram', 'fôramos', 'forem', 'forma', 'formos', 'fosse', 'fossem', 'fôssemos', 'foste', 'fostes', 'fui', 'geral', 'grande', 'grandes', 'grupo', 'há', 'haja', 'hajam', 'hajamos', 'hão', 'havemos', 'havia', 'hei', 'hoje', 'hora', 'horas', 'houve', 'houvemos', 'houver', 'houvera', 'houverá', 'houveram', 'houvéramos', 'houverão', 'houverei', 'houverem', 'houveremos', 'houveria', 'houveriam', 'houveríamos', 'houvermos', 'houvesse', 'houvessem', 'houvéssemos', 'isso', 'isto', 'já', 'la', 'lá', 'lado', 'lhe', 'lhes', 'lo', 'local', 'logo', 'longe', 'lugar', 'maior', 'maioria', 'mais', 'mal', 'mas', 'máximo', 'me', 'meio', 'menor', 'menos', 'mês', 'meses', 'mesma', 'mesmas', 'mesmo', 'mesmos', 'meu', 'meus', 'mil', 'minha', 'minhas', 'momento', 'muita', 'muitas', 'muito', 'muitos', 'na', 'nada', 'não', 'naquela', 'naquelas', 'naquele', 'naqueles', 'nas', 'nem', 'nenhum', 'nenhuma', 'nessa', 'nessas', 'nesse', 'nesses', 'nesta', 'nestas', 'neste', 'nestes', 'ninguém', 'nível', 'no', 'noite', 'nome', 'nos', 'nós', 'nossa', 'nossas', 'nosso', 'nossos', 'nova', 'novas', 'nove', 'novo', 'novos', 'num', 'numa', 'número', 'nunca', 'o', 'obra', 'obrigada', 'obrigado', 'oitava', 'oitavo', 'oito', 'onde', 'ontem', 'onze', 'os', 'ou', 'outra', 'outras', 'outro', 'outros', 'para', 'parece', 'parte', 'partir', 'paucas', 'pela', 'pelas', 'pelo', 'pelos', 'pequena', 'pequenas', 'pequeno', 'pequenos', 'per', 'perante', 'perto', 'pode', 'pude', 'pôde', 'podem', 'podendo', 'poder', 'poderia', 'poderiam', 'podia', 'podiam', 'põe', 'põem', 'pois', 'ponto', 'pontos', 'por', 'porém', 'porque', 'porquê', 'posição', 'possível', 'possivelmente', 'posso', 'pouca', 'poucas', 'pouco', 'poucos', 'primeira', 'primeiras', 'primeiro', 'primeiros', 'própria', 'próprias', 'próprio', 'próprios', 'próxima', 'próximas', 'próximo', 'próximos', 'pude', 'puderam', 'quais', 'quáis', 'qual', 'quando', 'quanto', 'quantos', 'quarta', 'quarto', 'quatro', 'que', 'quê', 'quem', 'quer', 'quereis', 'querem', 'queremas', 'queres', 'quero', 'questão', 'quinta', 'quinto', 'quinze', 'relação', 'sabe', 'sabem', 'são', 'se', 'segunda', 'segundo', 'sei', 'seis', 'seja', 'sejam', 'sejamos', 'sem', 'sempre', 'sendo', 'ser', 'será', 'serão', 'serei', 'seremos', 'seria', 'seriam', 'seríamos', 'sete', 'sétima', 'sétimo', 'seu', 'seus', 'sexta', 'sexto', 'si', 'sido', 'sim', 'sistema', 'só', 'sob', 'sobre', 'sois', 'somos', 'sou', 'sua', 'suas', 'tal', 'talvez', 'também', 'tampouco', 'tanta', 'tantas', 'tanto', 'tão', 'tarde', 'te', 'tem', 'tém', 'têm', 'temos', 'tendes', 'tendo', 'tenha', 'tenham', 'tenhamos', 'tenho', 'tens', 'ter', 'terá', 'terão', 'terceira', 'terceiro', 'terei', 'teremos', 'teria', 'teriam', 'teríamos', 'teu', 'teus', 'teve', 'ti', 'tido', 'tinha', 'tinham', 'tínhamos', 'tive', 'tivemos', 'tiver', 'tivera', 'tiveram', 'tivéramos', 'tiverem', 'tivermos', 'tivesse', 'tivessem', 'tivéssemos', 'tiveste', 'tivestes', 'toda', 'todas', 'todavia', 'todo', 'todos', 'trabalho', 'três', 'treze', 'tu', 'tua', 'tuas', 'tudo', 'última', 'últimas', 'último', 'últimos', 'um', 'uma', 'umas', 'uns', 'vai', 'vais', 'vão', 'vários', 'vem', 'vêm', 'vendo', 'vens', 'ver', 'vez', 'vezes', 'viagem', 'vindo', 'vinte', 'vir', 'você', 'vocês', 'vos', 'vós', 'vossa', 'vossas', 'vosso', 'vossos', 'zero', '1', '2', '3', '4', '5', '6', '7', '8', '9', '0', '_' ]\n",
    "\n",
    "#print(stopwords)"
   ]
  },
  {
   "cell_type": "code",
   "execution_count": null,
   "id": "4a12cbe8-97ee-42e3-b375-1fe99e609a5b",
   "metadata": {},
   "outputs": [],
   "source": [
    "token3 = []\n",
    "for i in text3:\n",
    "    temp = []\n",
    "    for token in i:\n",
    "        if token not in stopwords:\n",
    "            temp.append(token)\n",
    "    token3.append(temp)\n",
    "print(token3[0])"
   ]
  },
  {
   "cell_type": "code",
   "execution_count": null,
   "id": "7873d61e-5b34-417a-ad3e-b048c4d585b1",
   "metadata": {},
   "outputs": [],
   "source": [
    "df_balanceado3['texto'] = token3\n",
    "df_balanceado3.head(2)"
   ]
  },
  {
   "cell_type": "markdown",
   "id": "2a86a3f7-402e-4f60-8e02-b612fe83c051",
   "metadata": {},
   "source": [
    "## Análises"
   ]
  },
  {
   "cell_type": "markdown",
   "id": "c995d014-5aad-4572-b329-60c92af45b3c",
   "metadata": {},
   "source": [
    "### NLTK"
   ]
  },
  {
   "cell_type": "code",
   "execution_count": null,
   "id": "bc59c4ef-5077-4918-941d-56c0da1e7974",
   "metadata": {},
   "outputs": [],
   "source": [
    "# Contagem de frequência de palavras usando NLTK \n",
    "\n",
    "#from collections import Counter\n",
    "#frequencia_palavras = Counter(token_text[0]) \n",
    "#print(frequencia_palavras.most_common(10))\n",
    "\n",
    "from nltk.probability import FreqDist\n",
    "\n",
    "freq_dist = FreqDist(token_text[0])\n",
    "# Exibição da frequência de cada palavra\n",
    "#for token, freq in freq_dist.items():\n",
    "#    print(token, freq)"
   ]
  },
  {
   "cell_type": "code",
   "execution_count": null,
   "id": "c86224cb-cc2e-4ce2-a70e-cd010bd88214",
   "metadata": {},
   "outputs": [],
   "source": [
    "# Obter os 10 tokens mais comuns e suas contagens\n",
    "tokens_mais_comuns = freq_dist.most_common(10)\n",
    "palavras, contagens = zip(*tokens_mais_comuns)\n",
    "\n",
    "# Gráfico de Barras\n",
    "plt.figure(figsize=(10, 6))\n",
    "plt.bar(palavras, contagens)\n",
    "plt.xlabel('Palavras')\n",
    "plt.ylabel('Frequência')\n",
    "plt.title('10 Palavras Mais Comuns')\n",
    "plt.xticks(rotation=45)\n",
    "plt.show()"
   ]
  },
  {
   "cell_type": "code",
   "execution_count": null,
   "id": "e4cfd5f2-f9d6-4739-b081-df6a5c92cf53",
   "metadata": {},
   "outputs": [],
   "source": [
    "from wordcloud import WordCloud\n",
    "import matplotlib.pyplot as plt\n",
    "\n",
    "all_text = ' '.join([' '.join(t) for t in token_text])\n",
    "\n",
    "wordcloud = WordCloud(width=800, height=400, background_color='white').generate(all_text)\n",
    "\n",
    "plt.figure(figsize=(10, 5))\n",
    "plt.imshow(wordcloud, interpolation='bilinear')\n",
    "plt.axis('off')\n",
    "plt.show()\n"
   ]
  },
  {
   "cell_type": "code",
   "execution_count": null,
   "id": "5a0b719f-1de2-4b67-a569-cc7206e6077f",
   "metadata": {},
   "outputs": [],
   "source": [
    "from gensim import corpora\n",
    "\n",
    "dict_NLTK = corpora.Dictionary(token_text) \n",
    "corpus_NLTK = [dict_NLTK.doc2bow(text) for text in token_text]"
   ]
  },
  {
   "cell_type": "code",
   "execution_count": null,
   "id": "d84704b7-6550-44ee-847f-c03bb9495b45",
   "metadata": {},
   "outputs": [],
   "source": [
    "from gensim.models import LdaModel\n",
    "\n",
    "ldamodel_NLTK = LdaModel(corpus_NLTK, num_topics=6, id2word=dict_NLTK, passes=50)\n",
    "\n",
    "for topic in ldamodel_NLTK.print_topics(num_topics=6, num_words=5): #número de tópicos\n",
    "    print(\"Tópicos: \", topic)"
   ]
  },
  {
   "cell_type": "markdown",
   "id": "955fb74b-5a2f-4aa4-a363-4bb2b7363d99",
   "metadata": {},
   "source": [
    "### spaCy"
   ]
  },
  {
   "cell_type": "code",
   "execution_count": null,
   "id": "fa32cf71-a086-4b63-a3f2-47c75c640da6",
   "metadata": {},
   "outputs": [],
   "source": [
    "from spacy.attrs import ORTH # Contagem de frequência de palavras usando Spacy\n",
    "\n",
    "doc_sp = nlp(\" \".join(token2[0]))\n",
    "\n",
    "count_dict = doc_sp.count_by(ORTH)"
   ]
  },
  {
   "cell_type": "code",
   "execution_count": null,
   "id": "5e3a4782-b17e-4355-af2d-2b24a57bc366",
   "metadata": {},
   "outputs": [],
   "source": [
    "sorted_counts = sorted(count_dict.items(), key=lambda item: item[1], reverse=True)\n",
    "\n",
    "# 10 mais frequentes\n",
    "top_10_frequent_words = sorted_counts[:10]\n",
    "\n",
    "# Print\n",
    "for word, count in top_10_frequent_words:\n",
    "    print(nlp.vocab.strings[word], count)"
   ]
  },
  {
   "cell_type": "code",
   "execution_count": null,
   "id": "bde4fc92-0568-4e9d-97c5-531a1e1e72b8",
   "metadata": {},
   "outputs": [],
   "source": [
    "palavras = []\n",
    "contagens = []\n",
    "# Obter os 10 tokens mais comuns e suas contagens\n",
    "for word, count in top_10_frequent_words:\n",
    "    palavras.append(nlp.vocab.strings[word])\n",
    "    contagens.append(count)\n",
    "\n",
    "# Gráfico de Barras\n",
    "plt.figure(figsize=(10, 6))\n",
    "plt.bar(palavras, contagens)\n",
    "plt.xlabel('Palavras')\n",
    "plt.ylabel('Frequência')\n",
    "plt.title('10 Palavras Mais Comuns')\n",
    "plt.xticks(rotation=45)\n",
    "plt.show()"
   ]
  },
  {
   "cell_type": "code",
   "execution_count": null,
   "id": "1197eb1d-0de7-45e3-b81d-ac27f08b44cf",
   "metadata": {},
   "outputs": [],
   "source": [
    "from wordcloud import WordCloud\n",
    "import matplotlib.pyplot as plt\n",
    "\n",
    "all_text = ' '.join([' '.join(t) for t in token2])\n",
    "\n",
    "wordcloud = WordCloud(width=800, height=400, background_color='white').generate(all_text)\n",
    "\n",
    "plt.figure(figsize=(10, 5))\n",
    "plt.imshow(wordcloud, interpolation='bilinear')\n",
    "plt.axis('off')\n",
    "plt.show()"
   ]
  },
  {
   "cell_type": "code",
   "execution_count": null,
   "id": "0a6c583c-05d6-4a46-a209-66d48e734edb",
   "metadata": {},
   "outputs": [],
   "source": [
    "from gensim import corpora\n",
    "\n",
    "dict_S = corpora.Dictionary(token2) \n",
    "corpus_S = [dict_S.doc2bow(text) for text in token2]"
   ]
  },
  {
   "cell_type": "code",
   "execution_count": null,
   "id": "44228fea-4f90-4cf5-9d49-187f4d5f12c5",
   "metadata": {},
   "outputs": [],
   "source": [
    "from gensim.models import LdaModel\n",
    "\n",
    "ldamodel_S = LdaModel(corpus_S, num_topics=6, id2word=dict_S, passes=50)\n",
    "\n",
    "for topic in ldamodel_S.print_topics(num_topics=6, num_words=5): #número de tópicos\n",
    "    print(\"Tópicos: \", topic)"
   ]
  },
  {
   "cell_type": "markdown",
   "id": "20a6e45b-e067-4bea-bae4-bb9922b70a9d",
   "metadata": {},
   "source": [
    "### Gensim"
   ]
  },
  {
   "cell_type": "code",
   "execution_count": null,
   "id": "bd00cabf-4a37-4899-b7e6-4d6c10243805",
   "metadata": {},
   "outputs": [],
   "source": [
    "from gensim import corpora\n",
    "\n",
    "dictionary = corpora.Dictionary(token3) \n",
    "corpus = [dictionary.doc2bow(text) for text in token3]\n",
    "print(corpus[1])"
   ]
  },
  {
   "cell_type": "code",
   "execution_count": null,
   "id": "3732b2e9-1811-4750-b06e-d3eb3c5d7eff",
   "metadata": {},
   "outputs": [],
   "source": [
    "mapping = {v: k for k, v in dictionary.token2id.items()}\n",
    "ttt = [[(mapping[i[0]], i[1]) for i in item] for item in corpus]\n",
    "print(ttt[0])"
   ]
  },
  {
   "cell_type": "code",
   "execution_count": null,
   "id": "0eae7cec-1383-46d0-a58d-055d0ef2381b",
   "metadata": {},
   "outputs": [],
   "source": [
    "sorted_ttt = sorted(ttt[0], key=lambda x: x[1], reverse=True)"
   ]
  },
  {
   "cell_type": "code",
   "execution_count": null,
   "id": "b077df5e-70b8-4d7b-bf96-9d03d3c38a18",
   "metadata": {},
   "outputs": [],
   "source": [
    "first_ten_elements = sorted_ttt[:10]\n",
    "\n",
    "palavras = []\n",
    "contagens = []\n",
    "# Obter os 10 tokens mais comuns e suas contagens\n",
    "for word, count in first_ten_elements:\n",
    "    palavras.append(word)\n",
    "    contagens.append(count)\n",
    "\n",
    "\n",
    "# Gráfico de Barras\n",
    "plt.figure(figsize=(10, 6))\n",
    "plt.bar(palavras, contagens)\n",
    "plt.xlabel('Palavras')\n",
    "plt.ylabel('Frequência')\n",
    "plt.title('10 Palavras Mais Comuns')\n",
    "plt.xticks(rotation=45)\n",
    "plt.show()"
   ]
  },
  {
   "cell_type": "code",
   "execution_count": null,
   "id": "ded4752d-d042-4266-9b84-31d30f98c9aa",
   "metadata": {},
   "outputs": [],
   "source": [
    "from wordcloud import WordCloud\n",
    "import matplotlib.pyplot as plt\n",
    "\n",
    "all_text = ' '.join([' '.join(t) for t in token3])\n",
    "\n",
    "wordcloud = WordCloud(width=800, height=400, background_color='white').generate(all_text)\n",
    "\n",
    "plt.figure(figsize=(10, 5))\n",
    "plt.imshow(wordcloud, interpolation='bilinear')\n",
    "plt.axis('off')\n",
    "plt.show()"
   ]
  },
  {
   "cell_type": "code",
   "execution_count": null,
   "id": "b69664d9-dbf2-44e5-be3c-a2c996434af5",
   "metadata": {},
   "outputs": [],
   "source": [
    "from gensim.models import LdaModel\n",
    "\n",
    "ldamodel = LdaModel(corpus, num_topics=6, id2word=dictionary, passes=50)\n",
    "\n",
    "for topic in ldamodel.print_topics(num_topics=6, num_words=5): #número de tópicos\n",
    "    print(\"Tópicos: \", topic)"
   ]
  }
 ],
 "metadata": {
  "kernelspec": {
   "display_name": "Python 3 (ipykernel)",
   "language": "python",
   "name": "python3"
  },
  "language_info": {
   "codemirror_mode": {
    "name": "ipython",
    "version": 3
   },
   "file_extension": ".py",
   "mimetype": "text/x-python",
   "name": "python",
   "nbconvert_exporter": "python",
   "pygments_lexer": "ipython3",
   "version": "3.10.9"
  }
 },
 "nbformat": 4,
 "nbformat_minor": 5
}
