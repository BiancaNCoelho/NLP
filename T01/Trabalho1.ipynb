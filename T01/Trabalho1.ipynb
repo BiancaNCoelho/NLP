{
 "cells": [
  {
   "cell_type": "markdown",
   "id": "2dcc6805-62bb-443d-90da-97a664722ced",
   "metadata": {},
   "source": [
    "# Trabalho 1\n",
    "Matéria: Processamento de Linguagem Natural <br>\n",
    "Dupla/Matrícula: Bianca Nunes Coelho - 15102880, Raíssa Nunes Coelho - 15102887 <br> "
   ]
  },
  {
   "cell_type": "markdown",
   "id": "dad90a93-1f3f-4c3d-9526-319fb5b42742",
   "metadata": {},
   "source": [
    "## Introdução\n",
    "\n",
    "Multi Class Classification <br>"
   ]
  },
  {
   "cell_type": "markdown",
   "id": "988aaa3a-0dd6-49e6-a703-ec5b042048fb",
   "metadata": {},
   "source": [
    "## Bibliotecas\n",
    "Bibliotecas do ptyhon utilizadas neste trabalho estão a seguir."
   ]
  },
  {
   "cell_type": "code",
   "execution_count": 31,
   "id": "a3cd0f70-3ec7-4e09-b942-8a08a73bb744",
   "metadata": {},
   "outputs": [],
   "source": [
    "import pandas as pd\n",
    "import re\n",
    "import nltk\n",
    "import spacy\n",
    "import gensim\n",
    "import matplotlib.pyplot as plt"
   ]
  },
  {
   "cell_type": "markdown",
   "id": "1560868d-ad70-4a86-a2c8-ddc37c631191",
   "metadata": {},
   "source": [
    "## Datasets\n",
    "Datasets utilizados estão definidos a seguir."
   ]
  },
  {
   "cell_type": "code",
   "execution_count": 32,
   "id": "35b67696-aaf3-4ac5-9d2a-ee1772410097",
   "metadata": {},
   "outputs": [],
   "source": [
    "file = \"train-00000-of-00001-ecf072e7202447d8.parquet\"\n",
    "df = pd.read_parquet(file, engine= 'pyarrow')"
   ]
  },
  {
   "cell_type": "code",
   "execution_count": 33,
   "id": "ab167922-da09-4405-bd0a-729b239877dc",
   "metadata": {},
   "outputs": [
    {
     "data": {
      "text/plain": [
       "3877"
      ]
     },
     "execution_count": 33,
     "metadata": {},
     "output_type": "execute_result"
    }
   ],
   "source": [
    "len(df)"
   ]
  },
  {
   "cell_type": "code",
   "execution_count": 34,
   "id": "41b78a0c-a498-46e2-8e7b-84f28daf62ca",
   "metadata": {
    "scrolled": true
   },
   "outputs": [
    {
     "data": {
      "text/html": [
       "<div>\n",
       "<style scoped>\n",
       "    .dataframe tbody tr th:only-of-type {\n",
       "        vertical-align: middle;\n",
       "    }\n",
       "\n",
       "    .dataframe tbody tr th {\n",
       "        vertical-align: top;\n",
       "    }\n",
       "\n",
       "    .dataframe thead th {\n",
       "        text-align: right;\n",
       "    }\n",
       "</style>\n",
       "<table border=\"1\" class=\"dataframe\">\n",
       "  <thead>\n",
       "    <tr style=\"text-align: right;\">\n",
       "      <th></th>\n",
       "      <th>titulo</th>\n",
       "      <th>texto</th>\n",
       "      <th>link</th>\n",
       "      <th>resumo</th>\n",
       "      <th>categoria</th>\n",
       "      <th>data_hora</th>\n",
       "    </tr>\n",
       "  </thead>\n",
       "  <tbody>\n",
       "    <tr>\n",
       "      <th>0</th>\n",
       "      <td>Veja a trajetória de Fernando Diniz, em busca ...</td>\n",
       "      <td>Se tem um treinador que sempre foi badalado pe...</td>\n",
       "      <td>https://www.cnnbrasil.com.br/esportes/veja-a-t...</td>\n",
       "      <td>Técnico tricolor e da Seleção Brasileira tem a...</td>\n",
       "      <td>esportes</td>\n",
       "      <td>2023-11-04 12:26:18</td>\n",
       "    </tr>\n",
       "    <tr>\n",
       "      <th>1</th>\n",
       "      <td>Após tempestade com ventos, São Paulo terá sáb...</td>\n",
       "      <td>Após uma tempestade com ventos de mais de 100 ...</td>\n",
       "      <td>https://www.cnnbrasil.com.br/nacional/apos-tem...</td>\n",
       "      <td>Termômetros devem chegar a 26ºC, esquentando a...</td>\n",
       "      <td>nacional</td>\n",
       "      <td>2023-11-04 12:15:44</td>\n",
       "    </tr>\n",
       "    <tr>\n",
       "      <th>2</th>\n",
       "      <td>Como os aplicativos de relacionamento “arruina...</td>\n",
       "      <td>Jenny Nguyen-Don estava com vontade de comer f...</td>\n",
       "      <td>https://www.cnnbrasil.com.br/tecnologia/como-o...</td>\n",
       "      <td>Pessoas em busca de relacionamentos afirmam qu...</td>\n",
       "      <td>tecnologia</td>\n",
       "      <td>2023-11-04 12:15:07</td>\n",
       "    </tr>\n",
       "    <tr>\n",
       "      <th>3</th>\n",
       "      <td>Fluminense pode ser o 26º clube a levantar a t...</td>\n",
       "      <td>O Fluminense vai em busca do primeiro título d...</td>\n",
       "      <td>https://www.cnnbrasil.com.br/esportes/fluminen...</td>\n",
       "      <td>Em busca do título inédito, o Tricolor carioca...</td>\n",
       "      <td>esportes</td>\n",
       "      <td>2023-11-04 12:05:24</td>\n",
       "    </tr>\n",
       "  </tbody>\n",
       "</table>\n",
       "</div>"
      ],
      "text/plain": [
       "                                              titulo  \\\n",
       "0  Veja a trajetória de Fernando Diniz, em busca ...   \n",
       "1  Após tempestade com ventos, São Paulo terá sáb...   \n",
       "2  Como os aplicativos de relacionamento “arruina...   \n",
       "3  Fluminense pode ser o 26º clube a levantar a t...   \n",
       "\n",
       "                                               texto  \\\n",
       "0  Se tem um treinador que sempre foi badalado pe...   \n",
       "1  Após uma tempestade com ventos de mais de 100 ...   \n",
       "2  Jenny Nguyen-Don estava com vontade de comer f...   \n",
       "3  O Fluminense vai em busca do primeiro título d...   \n",
       "\n",
       "                                                link  \\\n",
       "0  https://www.cnnbrasil.com.br/esportes/veja-a-t...   \n",
       "1  https://www.cnnbrasil.com.br/nacional/apos-tem...   \n",
       "2  https://www.cnnbrasil.com.br/tecnologia/como-o...   \n",
       "3  https://www.cnnbrasil.com.br/esportes/fluminen...   \n",
       "\n",
       "                                              resumo   categoria  \\\n",
       "0  Técnico tricolor e da Seleção Brasileira tem a...    esportes   \n",
       "1  Termômetros devem chegar a 26ºC, esquentando a...    nacional   \n",
       "2  Pessoas em busca de relacionamentos afirmam qu...  tecnologia   \n",
       "3  Em busca do título inédito, o Tricolor carioca...    esportes   \n",
       "\n",
       "             data_hora  \n",
       "0  2023-11-04 12:26:18  \n",
       "1  2023-11-04 12:15:44  \n",
       "2  2023-11-04 12:15:07  \n",
       "3  2023-11-04 12:05:24  "
      ]
     },
     "execution_count": 34,
     "metadata": {},
     "output_type": "execute_result"
    }
   ],
   "source": [
    "df.head(4)"
   ]
  },
  {
   "cell_type": "markdown",
   "id": "8aa6f7f3-edb4-4990-9cca-4b80617f41dd",
   "metadata": {},
   "source": [
    "## Balanceamento"
   ]
  },
  {
   "cell_type": "code",
   "execution_count": 35,
   "id": "3ef5e8fa-9005-40f3-b0fd-2a9d50cb97dd",
   "metadata": {},
   "outputs": [
    {
     "data": {
      "text/plain": [
       "esportes           960\n",
       "nacional           623\n",
       "internacional      618\n",
       "economia           562\n",
       "politica           507\n",
       "entretenimento     450\n",
       "tecnologia          44\n",
       "saude               41\n",
       "noticias            38\n",
       "lifestyle           21\n",
       "branded-content     13\n",
       "Name: categoria, dtype: int64"
      ]
     },
     "execution_count": 35,
     "metadata": {},
     "output_type": "execute_result"
    }
   ],
   "source": [
    "df['categoria'].value_counts()"
   ]
  },
  {
   "cell_type": "code",
   "execution_count": 36,
   "id": "498911e8-906e-41dc-9bdc-039d09b4c4ce",
   "metadata": {},
   "outputs": [
    {
     "data": {
      "text/plain": [
       "<AxesSubplot: >"
      ]
     },
     "execution_count": 36,
     "metadata": {},
     "output_type": "execute_result"
    },
    {
     "data": {
      "image/png": "[encoded data removed]",
      "text/plain": [
       "<Figure size 1000x400 with 1 Axes>"
      ]
     },
     "metadata": {},
     "output_type": "display_data"
    }
   ],
   "source": [
    "plt.figure(figsize=(10,4))\n",
    "df.categoria.value_counts().plot(kind='bar')"
   ]
  },
  {
   "cell_type": "code",
   "execution_count": 37,
   "id": "696e88a5-62a5-46c3-acec-8575da709518",
   "metadata": {},
   "outputs": [],
   "source": [
    "indice_linha_remover = ['tecnologia',  'saude','noticias','lifestyle','branded-content']"
   ]
  },
  {
   "cell_type": "code",
   "execution_count": 38,
   "id": "c971502d-21ba-40dd-8dab-3bd93640fad6",
   "metadata": {},
   "outputs": [],
   "source": [
    "df = df[~df['categoria'].isin(indice_linha_remover)]"
   ]
  },
  {
   "cell_type": "code",
   "execution_count": 39,
   "id": "519d61c7-a98e-4703-a157-455a39e71b7b",
   "metadata": {},
   "outputs": [
    {
     "data": {
      "text/plain": [
       "esportes          960\n",
       "nacional          623\n",
       "internacional     618\n",
       "economia          562\n",
       "politica          507\n",
       "entretenimento    450\n",
       "Name: categoria, dtype: int64"
      ]
     },
     "execution_count": 39,
     "metadata": {},
     "output_type": "execute_result"
    }
   ],
   "source": [
    "df['categoria'].value_counts()"
   ]
  },
  {
   "cell_type": "code",
   "execution_count": 40,
   "id": "8b080baf-1753-4f8c-88ba-ee247c734a79",
   "metadata": {},
   "outputs": [],
   "source": [
    "# Undersampling\n",
    "min = df['categoria'].value_counts().min()\n",
    "\n",
    "amostras = []\n",
    "\n",
    "for i in df['categoria'].value_counts().index:\n",
    "    a = df[df['categoria'] == i].sample(min, replace=False)\n",
    "    amostras.append(a)\n",
    "\n",
    "df_balanceado = pd.concat(amostras)"
   ]
  },
  {
   "cell_type": "code",
   "execution_count": 41,
   "id": "90d0307b-f2bf-4988-aa52-8795343fdfe1",
   "metadata": {},
   "outputs": [
    {
     "data": {
      "text/plain": [
       "esportes          450\n",
       "nacional          450\n",
       "internacional     450\n",
       "economia          450\n",
       "politica          450\n",
       "entretenimento    450\n",
       "Name: categoria, dtype: int64"
      ]
     },
     "execution_count": 41,
     "metadata": {},
     "output_type": "execute_result"
    }
   ],
   "source": [
    "df_balanceado['categoria'].value_counts()"
   ]
  },
  {
   "cell_type": "code",
   "execution_count": 42,
   "id": "892752bf-2247-4e1c-bb90-1c673908ad1c",
   "metadata": {},
   "outputs": [
    {
     "data": {
      "text/html": [
       "<div>\n",
       "<style scoped>\n",
       "    .dataframe tbody tr th:only-of-type {\n",
       "        vertical-align: middle;\n",
       "    }\n",
       "\n",
       "    .dataframe tbody tr th {\n",
       "        vertical-align: top;\n",
       "    }\n",
       "\n",
       "    .dataframe thead th {\n",
       "        text-align: right;\n",
       "    }\n",
       "</style>\n",
       "<table border=\"1\" class=\"dataframe\">\n",
       "  <thead>\n",
       "    <tr style=\"text-align: right;\">\n",
       "      <th></th>\n",
       "      <th>titulo</th>\n",
       "      <th>texto</th>\n",
       "      <th>link</th>\n",
       "      <th>resumo</th>\n",
       "      <th>categoria</th>\n",
       "      <th>data_hora</th>\n",
       "    </tr>\n",
       "  </thead>\n",
       "  <tbody>\n",
       "    <tr>\n",
       "      <th>0</th>\n",
       "      <td>Campeonato Alemão terá mulher como auxiliar té...</td>\n",
       "      <td>O Union Berlin demitiu Urs Fischer nesta quint...</td>\n",
       "      <td>https://www.cnnbrasil.com.br/esportes/campeona...</td>\n",
       "      <td>Union Berlin demitiu Urs Fischer após sequênci...</td>\n",
       "      <td>esportes</td>\n",
       "      <td>2023-11-15 23:09:45</td>\n",
       "    </tr>\n",
       "    <tr>\n",
       "      <th>1</th>\n",
       "      <td>Felipe Melo chora antes da decisão da Libertad...</td>\n",
       "      <td>Experiente jogador do Fluminense, Felipe Melo ...</td>\n",
       "      <td>https://www.cnnbrasil.com.br/esportes/felipe-m...</td>\n",
       "      <td>Defensor se emocionou durante a execução dos h...</td>\n",
       "      <td>esportes</td>\n",
       "      <td>2023-11-04 20:27:44</td>\n",
       "    </tr>\n",
       "    <tr>\n",
       "      <th>2</th>\n",
       "      <td>Veja onde deve ser a final da Copa Libertadore...</td>\n",
       "      <td>A direção da AFA (Associação de Futebol da Arg...</td>\n",
       "      <td>https://www.cnnbrasil.com.br/esportes/veja-ond...</td>\n",
       "      <td>Associação argentina ofereceu Buenos Aires par...</td>\n",
       "      <td>esportes</td>\n",
       "      <td>2023-11-08 19:22:42</td>\n",
       "    </tr>\n",
       "    <tr>\n",
       "      <th>3</th>\n",
       "      <td>Botafogo x Grêmio ao vivo: acompanhe o jogo pe...</td>\n",
       "      <td></td>\n",
       "      <td>https://www.cnnbrasil.com.br/esportes/botafogo...</td>\n",
       "      <td>Onde assistir e tempo real dos lances e das es...</td>\n",
       "      <td>esportes</td>\n",
       "      <td>2023-11-09 07:00:08</td>\n",
       "    </tr>\n",
       "    <tr>\n",
       "      <th>4</th>\n",
       "      <td>Romário detona e atribui culpa a Edmundo por v...</td>\n",
       "      <td>Romário, ex-atacante do Vasco, tem em mente um...</td>\n",
       "      <td>https://www.cnnbrasil.com.br/esportes/romario-...</td>\n",
       "      <td>Baixinho não poupou críticas ao ex-companheiro...</td>\n",
       "      <td>esportes</td>\n",
       "      <td>2023-11-16 22:02:06</td>\n",
       "    </tr>\n",
       "  </tbody>\n",
       "</table>\n",
       "</div>"
      ],
      "text/plain": [
       "                                              titulo  \\\n",
       "0  Campeonato Alemão terá mulher como auxiliar té...   \n",
       "1  Felipe Melo chora antes da decisão da Libertad...   \n",
       "2  Veja onde deve ser a final da Copa Libertadore...   \n",
       "3  Botafogo x Grêmio ao vivo: acompanhe o jogo pe...   \n",
       "4  Romário detona e atribui culpa a Edmundo por v...   \n",
       "\n",
       "                                               texto  \\\n",
       "0  O Union Berlin demitiu Urs Fischer nesta quint...   \n",
       "1  Experiente jogador do Fluminense, Felipe Melo ...   \n",
       "2  A direção da AFA (Associação de Futebol da Arg...   \n",
       "3                                                      \n",
       "4  Romário, ex-atacante do Vasco, tem em mente um...   \n",
       "\n",
       "                                                link  \\\n",
       "0  https://www.cnnbrasil.com.br/esportes/campeona...   \n",
       "1  https://www.cnnbrasil.com.br/esportes/felipe-m...   \n",
       "2  https://www.cnnbrasil.com.br/esportes/veja-ond...   \n",
       "3  https://www.cnnbrasil.com.br/esportes/botafogo...   \n",
       "4  https://www.cnnbrasil.com.br/esportes/romario-...   \n",
       "\n",
       "                                              resumo categoria  \\\n",
       "0  Union Berlin demitiu Urs Fischer após sequênci...  esportes   \n",
       "1  Defensor se emocionou durante a execução dos h...  esportes   \n",
       "2  Associação argentina ofereceu Buenos Aires par...  esportes   \n",
       "3  Onde assistir e tempo real dos lances e das es...  esportes   \n",
       "4  Baixinho não poupou críticas ao ex-companheiro...  esportes   \n",
       "\n",
       "             data_hora  \n",
       "0  2023-11-15 23:09:45  \n",
       "1  2023-11-04 20:27:44  \n",
       "2  2023-11-08 19:22:42  \n",
       "3  2023-11-09 07:00:08  \n",
       "4  2023-11-16 22:02:06  "
      ]
     },
     "execution_count": 42,
     "metadata": {},
     "output_type": "execute_result"
    }
   ],
   "source": [
    "df_balanceado = df_balanceado.reset_index(drop=True)\n",
    "df_balanceado.head(5)"
   ]
  },
  {
   "cell_type": "code",
   "execution_count": 43,
   "id": "2ae37d80-d01e-4fd2-8453-4a89eaa24937",
   "metadata": {},
   "outputs": [
    {
     "data": {
      "text/plain": [
       "2700"
      ]
     },
     "execution_count": 43,
     "metadata": {},
     "output_type": "execute_result"
    }
   ],
   "source": [
    "# pega coluna\n",
    "text = df_balanceado['texto']\n",
    "len(text)"
   ]
  },
  {
   "cell_type": "code",
   "execution_count": 44,
   "id": "5d4514e9-6613-4ea6-8788-3c062d7017f7",
   "metadata": {},
   "outputs": [],
   "source": [
    "categorias = ['esportes','nacional', 'internacional', 'economia', 'politica', 'entretenimento']"
   ]
  },
  {
   "cell_type": "markdown",
   "id": "7db9049f-049d-461f-859e-f3cc6f973578",
   "metadata": {},
   "source": [
    "## Pré-processamento"
   ]
  },
  {
   "cell_type": "code",
   "execution_count": 45,
   "id": "576c1475-b309-4f49-a34b-2b35a9cc5047",
   "metadata": {},
   "outputs": [],
   "source": [
    "for i in range(len(text)):\n",
    "    text[i] = text[i].lower()"
   ]
  },
  {
   "cell_type": "code",
   "execution_count": 46,
   "id": "46decafe-5c86-4cc0-b3fe-581dfc26fbcd",
   "metadata": {},
   "outputs": [],
   "source": [
    "from unidecode import unidecode\n",
    "\n",
    "for i in range(len(text)):\n",
    "    text[i] = unidecode(text[i])"
   ]
  },
  {
   "cell_type": "code",
   "execution_count": 47,
   "id": "b0784904-6dee-4306-b60f-125e87052ffd",
   "metadata": {},
   "outputs": [],
   "source": [
    "for i in range(len(text)):\n",
    "    text[i] = re.sub(r'[^a-zA-Z\\s]', \"\" ,text[i])"
   ]
  },
  {
   "cell_type": "code",
   "execution_count": 48,
   "id": "89c8ad61-6faa-48ee-b9f4-fbcd9fa12224",
   "metadata": {},
   "outputs": [
    {
     "name": "stdout",
     "output_type": "stream",
     "text": [
      "o union berlin demitiu urs fischer nesta quintafeira  apos  jogos sem vitoria ainda sem uma definicao para o cargo o time alemao montou uma comissao interina com dois profissionais marco grote como treinador e marielouise eta como auxiliar eta e a primeira mulher a ocupar este cargo na historia do campeonato alemao a dupla trabalhou junta no sub do union berlin e comandara a equipe principal ate novo aviso marielouise eta tem  anos e e exjogadora com a camisa do turbine potsdamale conquistou tres titulos do campeonato alemao e um da liga dos campeoes ela se aposentou aos  anos apos sucessivos problemas com lesao a nova auxiliar estara no banco de reservas de jogos do campeonato alemao e da liga dos campeoes da europa na ultima colocacao do grupo c do torneio europeu com um ponto e chances remotas de classificacao o union enfrenta o braga no dia  o time e o lanterna da bundesliga com seis pontos em  jogos   a troca no comando representa o fim de uma era em seus cinco anos no comando urs fischer levou o union da segunda divisao a elite do futebol alemao pela primeira vez e depois a liga dos campeoes o passado contudo nao foi o suficiente para sustentalo diante dos resultados ruins desta temporada o union tem apenas um empate e  derrotas nos ultimos  jogos em todas as competicoes a ultima vez que venceu foi em  de agosto a derrota por  a  para o bayer leverkusen no domingo deixou o time em ultimo lugar este e um momento muito triste nao so para mim pessoalmente mas certamente para toda a familia do union disse o presidente do clube dirk zingler em comunicado doi nao termos conseguido quebrar a sequencia negativa das ultimas semanas fico grato e orgulhoso ao relembrar o tempo que passamos e os sucessos que celebramos juntos por mais dolorosa que seja esta separacao urs fischer parte como um amigo que sera sempre recebido por nos de bracos abertos concluiu com agencias este conteudo foi criado originalmente em itatiaia versao original\n"
     ]
    }
   ],
   "source": [
    "print(text[0])"
   ]
  },
  {
   "cell_type": "code",
   "execution_count": 49,
   "id": "2534f4b8-ff0a-4351-94a3-66ee72e1ffd3",
   "metadata": {},
   "outputs": [],
   "source": [
    "token_text = []\n",
    "\n",
    "for j in text:\n",
    "    token_text.append(nltk.word_tokenize(j))"
   ]
  },
  {
   "cell_type": "code",
   "execution_count": 50,
   "id": "a6124e77-e0d1-4d1e-b9bf-17f171695772",
   "metadata": {},
   "outputs": [
    {
     "name": "stdout",
     "output_type": "stream",
     "text": [
      "['o', 'union', 'berlin', 'demitiu', 'urs', 'fischer', 'nesta', 'quintafeira', 'apos', 'jogos', 'sem', 'vitoria', 'ainda', 'sem', 'uma', 'definicao', 'para', 'o', 'cargo', 'o', 'time', 'alemao', 'montou', 'uma', 'comissao', 'interina', 'com', 'dois', 'profissionais', 'marco', 'grote', 'como', 'treinador', 'e', 'marielouise', 'eta', 'como', 'auxiliar', 'eta', 'e', 'a', 'primeira', 'mulher', 'a', 'ocupar', 'este', 'cargo', 'na', 'historia', 'do', 'campeonato', 'alemao', 'a', 'dupla', 'trabalhou', 'junta', 'no', 'sub', 'do', 'union', 'berlin', 'e', 'comandara', 'a', 'equipe', 'principal', 'ate', 'novo', 'aviso', 'marielouise', 'eta', 'tem', 'anos', 'e', 'e', 'exjogadora', 'com', 'a', 'camisa', 'do', 'turbine', 'potsdamale', 'conquistou', 'tres', 'titulos', 'do', 'campeonato', 'alemao', 'e', 'um', 'da', 'liga', 'dos', 'campeoes', 'ela', 'se', 'aposentou', 'aos', 'anos', 'apos', 'sucessivos', 'problemas', 'com', 'lesao', 'a', 'nova', 'auxiliar', 'estara', 'no', 'banco', 'de', 'reservas', 'de', 'jogos', 'do', 'campeonato', 'alemao', 'e', 'da', 'liga', 'dos', 'campeoes', 'da', 'europa', 'na', 'ultima', 'colocacao', 'do', 'grupo', 'c', 'do', 'torneio', 'europeu', 'com', 'um', 'ponto', 'e', 'chances', 'remotas', 'de', 'classificacao', 'o', 'union', 'enfrenta', 'o', 'braga', 'no', 'dia', 'o', 'time', 'e', 'o', 'lanterna', 'da', 'bundesliga', 'com', 'seis', 'pontos', 'em', 'jogos', 'a', 'troca', 'no', 'comando', 'representa', 'o', 'fim', 'de', 'uma', 'era', 'em', 'seus', 'cinco', 'anos', 'no', 'comando', 'urs', 'fischer', 'levou', 'o', 'union', 'da', 'segunda', 'divisao', 'a', 'elite', 'do', 'futebol', 'alemao', 'pela', 'primeira', 'vez', 'e', 'depois', 'a', 'liga', 'dos', 'campeoes', 'o', 'passado', 'contudo', 'nao', 'foi', 'o', 'suficiente', 'para', 'sustentalo', 'diante', 'dos', 'resultados', 'ruins', 'desta', 'temporada', 'o', 'union', 'tem', 'apenas', 'um', 'empate', 'e', 'derrotas', 'nos', 'ultimos', 'jogos', 'em', 'todas', 'as', 'competicoes', 'a', 'ultima', 'vez', 'que', 'venceu', 'foi', 'em', 'de', 'agosto', 'a', 'derrota', 'por', 'a', 'para', 'o', 'bayer', 'leverkusen', 'no', 'domingo', 'deixou', 'o', 'time', 'em', 'ultimo', 'lugar', 'este', 'e', 'um', 'momento', 'muito', 'triste', 'nao', 'so', 'para', 'mim', 'pessoalmente', 'mas', 'certamente', 'para', 'toda', 'a', 'familia', 'do', 'union', 'disse', 'o', 'presidente', 'do', 'clube', 'dirk', 'zingler', 'em', 'comunicado', 'doi', 'nao', 'termos', 'conseguido', 'quebrar', 'a', 'sequencia', 'negativa', 'das', 'ultimas', 'semanas', 'fico', 'grato', 'e', 'orgulhoso', 'ao', 'relembrar', 'o', 'tempo', 'que', 'passamos', 'e', 'os', 'sucessos', 'que', 'celebramos', 'juntos', 'por', 'mais', 'dolorosa', 'que', 'seja', 'esta', 'separacao', 'urs', 'fischer', 'parte', 'como', 'um', 'amigo', 'que', 'sera', 'sempre', 'recebido', 'por', 'nos', 'de', 'bracos', 'abertos', 'concluiu', 'com', 'agencias', 'este', 'conteudo', 'foi', 'criado', 'originalmente', 'em', 'itatiaia', 'versao', 'original']\n"
     ]
    }
   ],
   "source": [
    "print(token_text[0])"
   ]
  },
  {
   "cell_type": "code",
   "execution_count": 51,
   "id": "9e891517-f3dd-491c-a02e-7fe17e0ecff7",
   "metadata": {},
   "outputs": [
    {
     "name": "stderr",
     "output_type": "stream",
     "text": [
      "[nltk_data] Downloading package stopwords to /home/hworld/nltk_data...\n",
      "[nltk_data]   Package stopwords is already up-to-date!\n"
     ]
    },
    {
     "data": {
      "text/plain": [
       "True"
      ]
     },
     "execution_count": 51,
     "metadata": {},
     "output_type": "execute_result"
    }
   ],
   "source": [
    "nltk.download('stopwords')"
   ]
  },
  {
   "cell_type": "code",
   "execution_count": 52,
   "id": "7ce4e6e6-b023-4dd0-b5b3-624c55220bed",
   "metadata": {},
   "outputs": [],
   "source": [
    "from nltk.corpus import stopwords\n",
    "sw = stopwords.words('portuguese')"
   ]
  },
  {
   "cell_type": "code",
   "execution_count": 53,
   "id": "c7a094e5-44b5-4079-bfff-1201a537ded8",
   "metadata": {},
   "outputs": [],
   "source": [
    "for stop in sw:\n",
    "    for text in token_text:\n",
    "        for t in text:\n",
    "            if(t == stop):\n",
    "                text.remove(t)"
   ]
  },
  {
   "cell_type": "code",
   "execution_count": 54,
   "id": "6a9a56b7-e028-43f7-bc0b-d0c6dcc31604",
   "metadata": {},
   "outputs": [
    {
     "name": "stdout",
     "output_type": "stream",
     "text": [
      "['union', 'berlin', 'demitiu', 'urs', 'fischer', 'nesta', 'quintafeira', 'apos', 'jogos', 'vitoria', 'ainda', 'definicao', 'cargo', 'time', 'alemao', 'montou', 'comissao', 'interina', 'dois', 'profissionais', 'marco', 'grote', 'treinador', 'marielouise', 'eta', 'auxiliar', 'eta', 'primeira', 'mulher', 'ocupar', 'cargo', 'historia', 'campeonato', 'alemao', 'dupla', 'trabalhou', 'junta', 'sub', 'union', 'berlin', 'comandara', 'equipe', 'principal', 'ate', 'novo', 'aviso', 'marielouise', 'eta', 'anos', 'exjogadora', 'camisa', 'turbine', 'potsdamale', 'conquistou', 'tres', 'titulos', 'campeonato', 'alemao', 'liga', 'campeoes', 'aposentou', 'anos', 'apos', 'sucessivos', 'problemas', 'lesao', 'nova', 'auxiliar', 'estara', 'banco', 'reservas', 'jogos', 'campeonato', 'alemao', 'liga', 'campeoes', 'europa', 'ultima', 'colocacao', 'grupo', 'c', 'torneio', 'europeu', 'ponto', 'chances', 'remotas', 'classificacao', 'union', 'enfrenta', 'braga', 'dia', 'time', 'lanterna', 'bundesliga', 'seis', 'pontos', 'jogos', 'troca', 'comando', 'representa', 'fim', 'cinco', 'anos', 'comando', 'urs', 'fischer', 'levou', 'union', 'segunda', 'divisao', 'elite', 'futebol', 'alemao', 'primeira', 'vez', 'liga', 'campeoes', 'passado', 'contudo', 'nao', 'suficiente', 'sustentalo', 'diante', 'resultados', 'ruins', 'desta', 'temporada', 'union', 'apenas', 'empate', 'derrotas', 'ultimos', 'jogos', 'todas', 'competicoes', 'ultima', 'vez', 'venceu', 'agosto', 'derrota', 'bayer', 'leverkusen', 'domingo', 'deixou', 'time', 'ultimo', 'lugar', 'momento', 'triste', 'nao', 'so', 'mim', 'pessoalmente', 'certamente', 'toda', 'familia', 'union', 'disse', 'presidente', 'clube', 'dirk', 'zingler', 'comunicado', 'doi', 'nao', 'termos', 'conseguido', 'quebrar', 'sequencia', 'negativa', 'ultimas', 'semanas', 'fico', 'grato', 'orgulhoso', 'relembrar', 'tempo', 'passamos', 'e', 'sucessos', 'celebramos', 'juntos', 'dolorosa', 'separacao', 'urs', 'fischer', 'parte', 'amigo', 'sera', 'sempre', 'recebido', 'bracos', 'abertos', 'concluiu', 'agencias', 'conteudo', 'criado', 'originalmente', 'itatiaia', 'versao', 'original']\n"
     ]
    }
   ],
   "source": [
    "print(token_text[0])"
   ]
  },
  {
   "cell_type": "code",
   "execution_count": null,
   "id": "eca3d304-1860-4d20-8bb7-77c9b94ed1aa",
   "metadata": {},
   "outputs": [],
   "source": []
  }
 ],
 "metadata": {
  "kernelspec": {
   "display_name": "Python 3 (ipykernel)",
   "language": "python",
   "name": "python3"
  },
  "language_info": {
   "codemirror_mode": {
    "name": "ipython",
    "version": 3
   },
   "file_extension": ".py",
   "mimetype": "text/x-python",
   "name": "python",
   "nbconvert_exporter": "python",
   "pygments_lexer": "ipython3",
   "version": "3.10.9"
  }
 },
 "nbformat": 4,
 "nbformat_minor": 5
}
