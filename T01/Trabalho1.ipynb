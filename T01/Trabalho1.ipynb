{
 "cells": [
  {
   "cell_type": "markdown",
   "id": "2dcc6805-62bb-443d-90da-97a664722ced",
   "metadata": {},
   "source": [
    "# Trabalho 1\n",
    "Matéria: Processamento de Linguagem Natural <br>\n",
    "Dupla/Matrícula: Bianca Nunes Coelho - 15102880, Raíssa Nunes Coelho - 15102887 <br> "
   ]
  },
  {
   "cell_type": "markdown",
   "id": "dad90a93-1f3f-4c3d-9526-319fb5b42742",
   "metadata": {},
   "source": [
    "## Introdução\n",
    "\n",
    "Multi Class Classification <br>"
   ]
  },
  {
   "cell_type": "markdown",
   "id": "988aaa3a-0dd6-49e6-a703-ec5b042048fb",
   "metadata": {},
   "source": [
    "## Bibliotecas\n",
    "Bibliotecas do ptyhon utilizadas neste trabalho estão a seguir."
   ]
  },
  {
   "cell_type": "code",
   "execution_count": 110,
   "id": "a3cd0f70-3ec7-4e09-b942-8a08a73bb744",
   "metadata": {},
   "outputs": [],
   "source": [
    "import pandas as pd\n",
    "import re\n",
    "import nltk\n",
    "import spacy\n",
    "import gensim\n",
    "import matplotlib.pyplot as plt"
   ]
  },
  {
   "cell_type": "markdown",
   "id": "1560868d-ad70-4a86-a2c8-ddc37c631191",
   "metadata": {},
   "source": [
    "## Datasets\n",
    "Datasets utilizados estão definidos a seguir."
   ]
  },
  {
   "cell_type": "code",
   "execution_count": 111,
   "id": "35b67696-aaf3-4ac5-9d2a-ee1772410097",
   "metadata": {},
   "outputs": [],
   "source": [
    "file = \"train-00000-of-00001-ecf072e7202447d8.parquet\"\n",
    "df = pd.read_parquet(file, engine= 'pyarrow')"
   ]
  },
  {
   "cell_type": "code",
   "execution_count": 112,
   "id": "ab167922-da09-4405-bd0a-729b239877dc",
   "metadata": {},
   "outputs": [
    {
     "data": {
      "text/plain": [
       "3877"
      ]
     },
     "execution_count": 112,
     "metadata": {},
     "output_type": "execute_result"
    }
   ],
   "source": [
    "len(df)"
   ]
  },
  {
   "cell_type": "code",
   "execution_count": 113,
   "id": "41b78a0c-a498-46e2-8e7b-84f28daf62ca",
   "metadata": {
    "scrolled": true
   },
   "outputs": [
    {
     "data": {
      "text/html": [
       "<div>\n",
       "<style scoped>\n",
       "    .dataframe tbody tr th:only-of-type {\n",
       "        vertical-align: middle;\n",
       "    }\n",
       "\n",
       "    .dataframe tbody tr th {\n",
       "        vertical-align: top;\n",
       "    }\n",
       "\n",
       "    .dataframe thead th {\n",
       "        text-align: right;\n",
       "    }\n",
       "</style>\n",
       "<table border=\"1\" class=\"dataframe\">\n",
       "  <thead>\n",
       "    <tr style=\"text-align: right;\">\n",
       "      <th></th>\n",
       "      <th>titulo</th>\n",
       "      <th>texto</th>\n",
       "      <th>link</th>\n",
       "      <th>resumo</th>\n",
       "      <th>categoria</th>\n",
       "      <th>data_hora</th>\n",
       "    </tr>\n",
       "  </thead>\n",
       "  <tbody>\n",
       "    <tr>\n",
       "      <th>0</th>\n",
       "      <td>Veja a trajetória de Fernando Diniz, em busca ...</td>\n",
       "      <td>Se tem um treinador que sempre foi badalado pe...</td>\n",
       "      <td>https://www.cnnbrasil.com.br/esportes/veja-a-t...</td>\n",
       "      <td>Técnico tricolor e da Seleção Brasileira tem a...</td>\n",
       "      <td>esportes</td>\n",
       "      <td>2023-11-04 12:26:18</td>\n",
       "    </tr>\n",
       "    <tr>\n",
       "      <th>1</th>\n",
       "      <td>Após tempestade com ventos, São Paulo terá sáb...</td>\n",
       "      <td>Após uma tempestade com ventos de mais de 100 ...</td>\n",
       "      <td>https://www.cnnbrasil.com.br/nacional/apos-tem...</td>\n",
       "      <td>Termômetros devem chegar a 26ºC, esquentando a...</td>\n",
       "      <td>nacional</td>\n",
       "      <td>2023-11-04 12:15:44</td>\n",
       "    </tr>\n",
       "    <tr>\n",
       "      <th>2</th>\n",
       "      <td>Como os aplicativos de relacionamento “arruina...</td>\n",
       "      <td>Jenny Nguyen-Don estava com vontade de comer f...</td>\n",
       "      <td>https://www.cnnbrasil.com.br/tecnologia/como-o...</td>\n",
       "      <td>Pessoas em busca de relacionamentos afirmam qu...</td>\n",
       "      <td>tecnologia</td>\n",
       "      <td>2023-11-04 12:15:07</td>\n",
       "    </tr>\n",
       "    <tr>\n",
       "      <th>3</th>\n",
       "      <td>Fluminense pode ser o 26º clube a levantar a t...</td>\n",
       "      <td>O Fluminense vai em busca do primeiro título d...</td>\n",
       "      <td>https://www.cnnbrasil.com.br/esportes/fluminen...</td>\n",
       "      <td>Em busca do título inédito, o Tricolor carioca...</td>\n",
       "      <td>esportes</td>\n",
       "      <td>2023-11-04 12:05:24</td>\n",
       "    </tr>\n",
       "  </tbody>\n",
       "</table>\n",
       "</div>"
      ],
      "text/plain": [
       "                                              titulo  \\\n",
       "0  Veja a trajetória de Fernando Diniz, em busca ...   \n",
       "1  Após tempestade com ventos, São Paulo terá sáb...   \n",
       "2  Como os aplicativos de relacionamento “arruina...   \n",
       "3  Fluminense pode ser o 26º clube a levantar a t...   \n",
       "\n",
       "                                               texto  \\\n",
       "0  Se tem um treinador que sempre foi badalado pe...   \n",
       "1  Após uma tempestade com ventos de mais de 100 ...   \n",
       "2  Jenny Nguyen-Don estava com vontade de comer f...   \n",
       "3  O Fluminense vai em busca do primeiro título d...   \n",
       "\n",
       "                                                link  \\\n",
       "0  https://www.cnnbrasil.com.br/esportes/veja-a-t...   \n",
       "1  https://www.cnnbrasil.com.br/nacional/apos-tem...   \n",
       "2  https://www.cnnbrasil.com.br/tecnologia/como-o...   \n",
       "3  https://www.cnnbrasil.com.br/esportes/fluminen...   \n",
       "\n",
       "                                              resumo   categoria  \\\n",
       "0  Técnico tricolor e da Seleção Brasileira tem a...    esportes   \n",
       "1  Termômetros devem chegar a 26ºC, esquentando a...    nacional   \n",
       "2  Pessoas em busca de relacionamentos afirmam qu...  tecnologia   \n",
       "3  Em busca do título inédito, o Tricolor carioca...    esportes   \n",
       "\n",
       "             data_hora  \n",
       "0  2023-11-04 12:26:18  \n",
       "1  2023-11-04 12:15:44  \n",
       "2  2023-11-04 12:15:07  \n",
       "3  2023-11-04 12:05:24  "
      ]
     },
     "execution_count": 113,
     "metadata": {},
     "output_type": "execute_result"
    }
   ],
   "source": [
    "df.head(4)"
   ]
  },
  {
   "cell_type": "markdown",
   "id": "8aa6f7f3-edb4-4990-9cca-4b80617f41dd",
   "metadata": {},
   "source": [
    "## Balanceamento"
   ]
  },
  {
   "cell_type": "code",
   "execution_count": 114,
   "id": "3ef5e8fa-9005-40f3-b0fd-2a9d50cb97dd",
   "metadata": {},
   "outputs": [
    {
     "data": {
      "text/plain": [
       "esportes           960\n",
       "nacional           623\n",
       "internacional      618\n",
       "economia           562\n",
       "politica           507\n",
       "entretenimento     450\n",
       "tecnologia          44\n",
       "saude               41\n",
       "noticias            38\n",
       "lifestyle           21\n",
       "branded-content     13\n",
       "Name: categoria, dtype: int64"
      ]
     },
     "execution_count": 114,
     "metadata": {},
     "output_type": "execute_result"
    }
   ],
   "source": [
    "df['categoria'].value_counts()"
   ]
  },
  {
   "cell_type": "code",
   "execution_count": 115,
   "id": "498911e8-906e-41dc-9bdc-039d09b4c4ce",
   "metadata": {},
   "outputs": [
    {
     "data": {
      "text/plain": [
       "<AxesSubplot: >"
      ]
     },
     "execution_count": 115,
     "metadata": {},
     "output_type": "execute_result"
    },
    {
     "data": {
      "image/png": "[encoded data removed]",
      "text/plain": [
       "<Figure size 1000x400 with 1 Axes>"
      ]
     },
     "metadata": {},
     "output_type": "display_data"
    }
   ],
   "source": [
    "plt.figure(figsize=(10,4))\n",
    "df.categoria.value_counts().plot(kind='bar')"
   ]
  },
  {
   "cell_type": "code",
   "execution_count": 116,
   "id": "696e88a5-62a5-46c3-acec-8575da709518",
   "metadata": {},
   "outputs": [],
   "source": [
    "indice_linha_remover = ['tecnologia',  'saude','noticias','lifestyle','branded-content']"
   ]
  },
  {
   "cell_type": "code",
   "execution_count": 117,
   "id": "c971502d-21ba-40dd-8dab-3bd93640fad6",
   "metadata": {},
   "outputs": [],
   "source": [
    "df = df[~df['categoria'].isin(indice_linha_remover)]"
   ]
  },
  {
   "cell_type": "code",
   "execution_count": 118,
   "id": "519d61c7-a98e-4703-a157-455a39e71b7b",
   "metadata": {},
   "outputs": [
    {
     "data": {
      "text/plain": [
       "esportes          960\n",
       "nacional          623\n",
       "internacional     618\n",
       "economia          562\n",
       "politica          507\n",
       "entretenimento    450\n",
       "Name: categoria, dtype: int64"
      ]
     },
     "execution_count": 118,
     "metadata": {},
     "output_type": "execute_result"
    }
   ],
   "source": [
    "df['categoria'].value_counts()"
   ]
  },
  {
   "cell_type": "code",
   "execution_count": 119,
   "id": "8b080baf-1753-4f8c-88ba-ee247c734a79",
   "metadata": {},
   "outputs": [],
   "source": [
    "# Undersampling\n",
    "min = df['categoria'].value_counts().min()\n",
    "\n",
    "amostras = []\n",
    "\n",
    "for i in df['categoria'].value_counts().index:\n",
    "    a = df[df['categoria'] == i].sample(min, replace=False)\n",
    "    amostras.append(a)\n",
    "\n",
    "df_balanceado = pd.concat(amostras)"
   ]
  },
  {
   "cell_type": "code",
   "execution_count": 120,
   "id": "90d0307b-f2bf-4988-aa52-8795343fdfe1",
   "metadata": {},
   "outputs": [
    {
     "data": {
      "text/plain": [
       "esportes          450\n",
       "nacional          450\n",
       "internacional     450\n",
       "economia          450\n",
       "politica          450\n",
       "entretenimento    450\n",
       "Name: categoria, dtype: int64"
      ]
     },
     "execution_count": 120,
     "metadata": {},
     "output_type": "execute_result"
    }
   ],
   "source": [
    "df_balanceado['categoria'].value_counts()"
   ]
  },
  {
   "cell_type": "code",
   "execution_count": 121,
   "id": "892752bf-2247-4e1c-bb90-1c673908ad1c",
   "metadata": {},
   "outputs": [
    {
     "data": {
      "text/html": [
       "<div>\n",
       "<style scoped>\n",
       "    .dataframe tbody tr th:only-of-type {\n",
       "        vertical-align: middle;\n",
       "    }\n",
       "\n",
       "    .dataframe tbody tr th {\n",
       "        vertical-align: top;\n",
       "    }\n",
       "\n",
       "    .dataframe thead th {\n",
       "        text-align: right;\n",
       "    }\n",
       "</style>\n",
       "<table border=\"1\" class=\"dataframe\">\n",
       "  <thead>\n",
       "    <tr style=\"text-align: right;\">\n",
       "      <th></th>\n",
       "      <th>titulo</th>\n",
       "      <th>texto</th>\n",
       "      <th>link</th>\n",
       "      <th>resumo</th>\n",
       "      <th>categoria</th>\n",
       "      <th>data_hora</th>\n",
       "    </tr>\n",
       "  </thead>\n",
       "  <tbody>\n",
       "    <tr>\n",
       "      <th>0</th>\n",
       "      <td>Alemanha derrota Argentina nos pênaltis e está...</td>\n",
       "      <td>Em uma partida com emoção do começo ao fim, a ...</td>\n",
       "      <td>https://www.cnnbrasil.com.br/esportes/alemanha...</td>\n",
       "      <td>Após partida emocionante no tempo normal, alem...</td>\n",
       "      <td>esportes</td>\n",
       "      <td>2023-11-28 10:49:53</td>\n",
       "    </tr>\n",
       "    <tr>\n",
       "      <th>1</th>\n",
       "      <td>Haaland entra para o top 20 de maiores artilhe...</td>\n",
       "      <td>Com os dois gols marcados na vitória do Manche...</td>\n",
       "      <td>https://www.cnnbrasil.com.br/esportes/haaland-...</td>\n",
       "      <td>Atacante norueguês chegou a 39 gols em 34 part...</td>\n",
       "      <td>esportes</td>\n",
       "      <td>2023-11-08 12:00:08</td>\n",
       "    </tr>\n",
       "    <tr>\n",
       "      <th>2</th>\n",
       "      <td>CBF admite erro em pênalti não marcado ao Cori...</td>\n",
       "      <td>Wilson Luiz Seneme, presidente da Comissão de ...</td>\n",
       "      <td>https://www.cnnbrasil.com.br/esportes/cbf-admi...</td>\n",
       "      <td>Wilson Luiz Seneme, presidente da comissão de ...</td>\n",
       "      <td>esportes</td>\n",
       "      <td>2023-11-14 20:15:13</td>\n",
       "    </tr>\n",
       "    <tr>\n",
       "      <th>3</th>\n",
       "      <td>Veja sequência de jogos do Vasco pelo Campeona...</td>\n",
       "      <td>O torcedor vascaíno respirou aliviado depois d...</td>\n",
       "      <td>https://www.cnnbrasil.com.br/esportes/veja-seq...</td>\n",
       "      <td>Equipe de Ramón Díaz tem confronto direto na l...</td>\n",
       "      <td>esportes</td>\n",
       "      <td>2023-11-07 14:40:29</td>\n",
       "    </tr>\n",
       "    <tr>\n",
       "      <th>4</th>\n",
       "      <td>Shakhtar Donetsk x Barcelona ao vivo: acompanh...</td>\n",
       "      <td>Leia Mais</td>\n",
       "      <td>https://www.cnnbrasil.com.br/esportes/shakhtar...</td>\n",
       "      <td>Onde assistir e tempo real dos lances e das es...</td>\n",
       "      <td>esportes</td>\n",
       "      <td>2023-11-07 07:00:21</td>\n",
       "    </tr>\n",
       "  </tbody>\n",
       "</table>\n",
       "</div>"
      ],
      "text/plain": [
       "                                              titulo  \\\n",
       "0  Alemanha derrota Argentina nos pênaltis e está...   \n",
       "1  Haaland entra para o top 20 de maiores artilhe...   \n",
       "2  CBF admite erro em pênalti não marcado ao Cori...   \n",
       "3  Veja sequência de jogos do Vasco pelo Campeona...   \n",
       "4  Shakhtar Donetsk x Barcelona ao vivo: acompanh...   \n",
       "\n",
       "                                               texto  \\\n",
       "0  Em uma partida com emoção do começo ao fim, a ...   \n",
       "1  Com os dois gols marcados na vitória do Manche...   \n",
       "2  Wilson Luiz Seneme, presidente da Comissão de ...   \n",
       "3  O torcedor vascaíno respirou aliviado depois d...   \n",
       "4                                          Leia Mais   \n",
       "\n",
       "                                                link  \\\n",
       "0  https://www.cnnbrasil.com.br/esportes/alemanha...   \n",
       "1  https://www.cnnbrasil.com.br/esportes/haaland-...   \n",
       "2  https://www.cnnbrasil.com.br/esportes/cbf-admi...   \n",
       "3  https://www.cnnbrasil.com.br/esportes/veja-seq...   \n",
       "4  https://www.cnnbrasil.com.br/esportes/shakhtar...   \n",
       "\n",
       "                                              resumo categoria  \\\n",
       "0  Após partida emocionante no tempo normal, alem...  esportes   \n",
       "1  Atacante norueguês chegou a 39 gols em 34 part...  esportes   \n",
       "2  Wilson Luiz Seneme, presidente da comissão de ...  esportes   \n",
       "3  Equipe de Ramón Díaz tem confronto direto na l...  esportes   \n",
       "4  Onde assistir e tempo real dos lances e das es...  esportes   \n",
       "\n",
       "             data_hora  \n",
       "0  2023-11-28 10:49:53  \n",
       "1  2023-11-08 12:00:08  \n",
       "2  2023-11-14 20:15:13  \n",
       "3  2023-11-07 14:40:29  \n",
       "4  2023-11-07 07:00:21  "
      ]
     },
     "execution_count": 121,
     "metadata": {},
     "output_type": "execute_result"
    }
   ],
   "source": [
    "df_balanceado = df_balanceado.reset_index(drop=True)\n",
    "df_balanceado.head(5)"
   ]
  },
  {
   "cell_type": "code",
   "execution_count": 122,
   "id": "adf3e922-5d63-42cc-9a2a-4d6c3214fc62",
   "metadata": {},
   "outputs": [],
   "source": [
    "df_balanceado2 = df_balanceado.copy()\n",
    "df_balanceado3 = df_balanceado.copy()"
   ]
  },
  {
   "cell_type": "code",
   "execution_count": 123,
   "id": "1af4a198-bf97-4adb-a205-5d464decb9bc",
   "metadata": {},
   "outputs": [
    {
     "data": {
      "text/html": [
       "<div>\n",
       "<style scoped>\n",
       "    .dataframe tbody tr th:only-of-type {\n",
       "        vertical-align: middle;\n",
       "    }\n",
       "\n",
       "    .dataframe tbody tr th {\n",
       "        vertical-align: top;\n",
       "    }\n",
       "\n",
       "    .dataframe thead th {\n",
       "        text-align: right;\n",
       "    }\n",
       "</style>\n",
       "<table border=\"1\" class=\"dataframe\">\n",
       "  <thead>\n",
       "    <tr style=\"text-align: right;\">\n",
       "      <th></th>\n",
       "      <th>titulo</th>\n",
       "      <th>texto</th>\n",
       "      <th>link</th>\n",
       "      <th>resumo</th>\n",
       "      <th>categoria</th>\n",
       "      <th>data_hora</th>\n",
       "    </tr>\n",
       "  </thead>\n",
       "  <tbody>\n",
       "    <tr>\n",
       "      <th>0</th>\n",
       "      <td>Alemanha derrota Argentina nos pênaltis e está...</td>\n",
       "      <td>Em uma partida com emoção do começo ao fim, a ...</td>\n",
       "      <td>https://www.cnnbrasil.com.br/esportes/alemanha...</td>\n",
       "      <td>Após partida emocionante no tempo normal, alem...</td>\n",
       "      <td>esportes</td>\n",
       "      <td>2023-11-28 10:49:53</td>\n",
       "    </tr>\n",
       "    <tr>\n",
       "      <th>1</th>\n",
       "      <td>Haaland entra para o top 20 de maiores artilhe...</td>\n",
       "      <td>Com os dois gols marcados na vitória do Manche...</td>\n",
       "      <td>https://www.cnnbrasil.com.br/esportes/haaland-...</td>\n",
       "      <td>Atacante norueguês chegou a 39 gols em 34 part...</td>\n",
       "      <td>esportes</td>\n",
       "      <td>2023-11-08 12:00:08</td>\n",
       "    </tr>\n",
       "    <tr>\n",
       "      <th>2</th>\n",
       "      <td>CBF admite erro em pênalti não marcado ao Cori...</td>\n",
       "      <td>Wilson Luiz Seneme, presidente da Comissão de ...</td>\n",
       "      <td>https://www.cnnbrasil.com.br/esportes/cbf-admi...</td>\n",
       "      <td>Wilson Luiz Seneme, presidente da comissão de ...</td>\n",
       "      <td>esportes</td>\n",
       "      <td>2023-11-14 20:15:13</td>\n",
       "    </tr>\n",
       "    <tr>\n",
       "      <th>3</th>\n",
       "      <td>Veja sequência de jogos do Vasco pelo Campeona...</td>\n",
       "      <td>O torcedor vascaíno respirou aliviado depois d...</td>\n",
       "      <td>https://www.cnnbrasil.com.br/esportes/veja-seq...</td>\n",
       "      <td>Equipe de Ramón Díaz tem confronto direto na l...</td>\n",
       "      <td>esportes</td>\n",
       "      <td>2023-11-07 14:40:29</td>\n",
       "    </tr>\n",
       "    <tr>\n",
       "      <th>4</th>\n",
       "      <td>Shakhtar Donetsk x Barcelona ao vivo: acompanh...</td>\n",
       "      <td>Leia Mais</td>\n",
       "      <td>https://www.cnnbrasil.com.br/esportes/shakhtar...</td>\n",
       "      <td>Onde assistir e tempo real dos lances e das es...</td>\n",
       "      <td>esportes</td>\n",
       "      <td>2023-11-07 07:00:21</td>\n",
       "    </tr>\n",
       "  </tbody>\n",
       "</table>\n",
       "</div>"
      ],
      "text/plain": [
       "                                              titulo  \\\n",
       "0  Alemanha derrota Argentina nos pênaltis e está...   \n",
       "1  Haaland entra para o top 20 de maiores artilhe...   \n",
       "2  CBF admite erro em pênalti não marcado ao Cori...   \n",
       "3  Veja sequência de jogos do Vasco pelo Campeona...   \n",
       "4  Shakhtar Donetsk x Barcelona ao vivo: acompanh...   \n",
       "\n",
       "                                               texto  \\\n",
       "0  Em uma partida com emoção do começo ao fim, a ...   \n",
       "1  Com os dois gols marcados na vitória do Manche...   \n",
       "2  Wilson Luiz Seneme, presidente da Comissão de ...   \n",
       "3  O torcedor vascaíno respirou aliviado depois d...   \n",
       "4                                          Leia Mais   \n",
       "\n",
       "                                                link  \\\n",
       "0  https://www.cnnbrasil.com.br/esportes/alemanha...   \n",
       "1  https://www.cnnbrasil.com.br/esportes/haaland-...   \n",
       "2  https://www.cnnbrasil.com.br/esportes/cbf-admi...   \n",
       "3  https://www.cnnbrasil.com.br/esportes/veja-seq...   \n",
       "4  https://www.cnnbrasil.com.br/esportes/shakhtar...   \n",
       "\n",
       "                                              resumo categoria  \\\n",
       "0  Após partida emocionante no tempo normal, alem...  esportes   \n",
       "1  Atacante norueguês chegou a 39 gols em 34 part...  esportes   \n",
       "2  Wilson Luiz Seneme, presidente da comissão de ...  esportes   \n",
       "3  Equipe de Ramón Díaz tem confronto direto na l...  esportes   \n",
       "4  Onde assistir e tempo real dos lances e das es...  esportes   \n",
       "\n",
       "             data_hora  \n",
       "0  2023-11-28 10:49:53  \n",
       "1  2023-11-08 12:00:08  \n",
       "2  2023-11-14 20:15:13  \n",
       "3  2023-11-07 14:40:29  \n",
       "4  2023-11-07 07:00:21  "
      ]
     },
     "execution_count": 123,
     "metadata": {},
     "output_type": "execute_result"
    }
   ],
   "source": [
    "df_balanceado2.head()"
   ]
  },
  {
   "cell_type": "code",
   "execution_count": 124,
   "id": "17184f95-683d-4dcd-a4e9-b85235ce73c3",
   "metadata": {},
   "outputs": [
    {
     "data": {
      "text/html": [
       "<div>\n",
       "<style scoped>\n",
       "    .dataframe tbody tr th:only-of-type {\n",
       "        vertical-align: middle;\n",
       "    }\n",
       "\n",
       "    .dataframe tbody tr th {\n",
       "        vertical-align: top;\n",
       "    }\n",
       "\n",
       "    .dataframe thead th {\n",
       "        text-align: right;\n",
       "    }\n",
       "</style>\n",
       "<table border=\"1\" class=\"dataframe\">\n",
       "  <thead>\n",
       "    <tr style=\"text-align: right;\">\n",
       "      <th></th>\n",
       "      <th>titulo</th>\n",
       "      <th>texto</th>\n",
       "      <th>link</th>\n",
       "      <th>resumo</th>\n",
       "      <th>categoria</th>\n",
       "      <th>data_hora</th>\n",
       "    </tr>\n",
       "  </thead>\n",
       "  <tbody>\n",
       "    <tr>\n",
       "      <th>0</th>\n",
       "      <td>Alemanha derrota Argentina nos pênaltis e está...</td>\n",
       "      <td>Em uma partida com emoção do começo ao fim, a ...</td>\n",
       "      <td>https://www.cnnbrasil.com.br/esportes/alemanha...</td>\n",
       "      <td>Após partida emocionante no tempo normal, alem...</td>\n",
       "      <td>esportes</td>\n",
       "      <td>2023-11-28 10:49:53</td>\n",
       "    </tr>\n",
       "    <tr>\n",
       "      <th>1</th>\n",
       "      <td>Haaland entra para o top 20 de maiores artilhe...</td>\n",
       "      <td>Com os dois gols marcados na vitória do Manche...</td>\n",
       "      <td>https://www.cnnbrasil.com.br/esportes/haaland-...</td>\n",
       "      <td>Atacante norueguês chegou a 39 gols em 34 part...</td>\n",
       "      <td>esportes</td>\n",
       "      <td>2023-11-08 12:00:08</td>\n",
       "    </tr>\n",
       "    <tr>\n",
       "      <th>2</th>\n",
       "      <td>CBF admite erro em pênalti não marcado ao Cori...</td>\n",
       "      <td>Wilson Luiz Seneme, presidente da Comissão de ...</td>\n",
       "      <td>https://www.cnnbrasil.com.br/esportes/cbf-admi...</td>\n",
       "      <td>Wilson Luiz Seneme, presidente da comissão de ...</td>\n",
       "      <td>esportes</td>\n",
       "      <td>2023-11-14 20:15:13</td>\n",
       "    </tr>\n",
       "    <tr>\n",
       "      <th>3</th>\n",
       "      <td>Veja sequência de jogos do Vasco pelo Campeona...</td>\n",
       "      <td>O torcedor vascaíno respirou aliviado depois d...</td>\n",
       "      <td>https://www.cnnbrasil.com.br/esportes/veja-seq...</td>\n",
       "      <td>Equipe de Ramón Díaz tem confronto direto na l...</td>\n",
       "      <td>esportes</td>\n",
       "      <td>2023-11-07 14:40:29</td>\n",
       "    </tr>\n",
       "    <tr>\n",
       "      <th>4</th>\n",
       "      <td>Shakhtar Donetsk x Barcelona ao vivo: acompanh...</td>\n",
       "      <td>Leia Mais</td>\n",
       "      <td>https://www.cnnbrasil.com.br/esportes/shakhtar...</td>\n",
       "      <td>Onde assistir e tempo real dos lances e das es...</td>\n",
       "      <td>esportes</td>\n",
       "      <td>2023-11-07 07:00:21</td>\n",
       "    </tr>\n",
       "  </tbody>\n",
       "</table>\n",
       "</div>"
      ],
      "text/plain": [
       "                                              titulo  \\\n",
       "0  Alemanha derrota Argentina nos pênaltis e está...   \n",
       "1  Haaland entra para o top 20 de maiores artilhe...   \n",
       "2  CBF admite erro em pênalti não marcado ao Cori...   \n",
       "3  Veja sequência de jogos do Vasco pelo Campeona...   \n",
       "4  Shakhtar Donetsk x Barcelona ao vivo: acompanh...   \n",
       "\n",
       "                                               texto  \\\n",
       "0  Em uma partida com emoção do começo ao fim, a ...   \n",
       "1  Com os dois gols marcados na vitória do Manche...   \n",
       "2  Wilson Luiz Seneme, presidente da Comissão de ...   \n",
       "3  O torcedor vascaíno respirou aliviado depois d...   \n",
       "4                                          Leia Mais   \n",
       "\n",
       "                                                link  \\\n",
       "0  https://www.cnnbrasil.com.br/esportes/alemanha...   \n",
       "1  https://www.cnnbrasil.com.br/esportes/haaland-...   \n",
       "2  https://www.cnnbrasil.com.br/esportes/cbf-admi...   \n",
       "3  https://www.cnnbrasil.com.br/esportes/veja-seq...   \n",
       "4  https://www.cnnbrasil.com.br/esportes/shakhtar...   \n",
       "\n",
       "                                              resumo categoria  \\\n",
       "0  Após partida emocionante no tempo normal, alem...  esportes   \n",
       "1  Atacante norueguês chegou a 39 gols em 34 part...  esportes   \n",
       "2  Wilson Luiz Seneme, presidente da comissão de ...  esportes   \n",
       "3  Equipe de Ramón Díaz tem confronto direto na l...  esportes   \n",
       "4  Onde assistir e tempo real dos lances e das es...  esportes   \n",
       "\n",
       "             data_hora  \n",
       "0  2023-11-28 10:49:53  \n",
       "1  2023-11-08 12:00:08  \n",
       "2  2023-11-14 20:15:13  \n",
       "3  2023-11-07 14:40:29  \n",
       "4  2023-11-07 07:00:21  "
      ]
     },
     "execution_count": 124,
     "metadata": {},
     "output_type": "execute_result"
    }
   ],
   "source": [
    "df_balanceado3.head()"
   ]
  },
  {
   "cell_type": "code",
   "execution_count": 125,
   "id": "2ae37d80-d01e-4fd2-8453-4a89eaa24937",
   "metadata": {},
   "outputs": [
    {
     "data": {
      "text/plain": [
       "2700"
      ]
     },
     "execution_count": 125,
     "metadata": {},
     "output_type": "execute_result"
    }
   ],
   "source": [
    "# pega coluna\n",
    "text = df_balanceado['texto'] # para NLTK\n",
    "text2 = df_balanceado2['texto'] # para spaCy\n",
    "text3 = df_balanceado3['texto'] # para Gensim\n",
    "len(text)"
   ]
  },
  {
   "cell_type": "code",
   "execution_count": 126,
   "id": "5022a379-5739-4952-a864-c866105f76c6",
   "metadata": {},
   "outputs": [
    {
     "data": {
      "text/plain": [
       "'Em uma partida com emoção do começo ao fim, a Alemanha venceu a Argentina nos pênaltis e se classificou para a grande decisão da Copa do Mundo Sub-17. No tempo normal, a Seleção Alemã chegou a estar próxima da vitória, vencia por 3 a 2, mas Agustín Ruberto marcou nos acréscimos seu terceiro gol na partida e deu uma esperança aos argentinos. Nas cobranças de pênaltis, os alemães foram mais efetivos e venceram por 4 a 2.   A Seleção Argentina chegou com moral após atropelar o Brasil nas quartas de final. Mesmo assim a Alemanha não se intimidou e foi pra cima logo no começo da partida. Aos nove minutos, Paris Brunner abriu o placar em chute que contou com a colaboração do goleiro Florentín. Os argentinos não se abalaram com o gol e empilharam boas chances no primeiro tempo. Os alemães não aguentaram a pressão e levaram a virada ainda na primeira etapa. Aos 36, Agustín Ruberto, atacante do River Plate, completou cruzamento de Gorosito e empatou. Nos acréscimos da etapa inicial, Ruberto apareceu novamente para limpar a marcação e fazer o gol da virada, Argentina 2 a 1. No começo do segundo tempo, o goleiro Florentín voltou a falhar em saída de bola e Brunner aproveitou. O camisa 7 acertou um belo chute no ângulo para empatar a partida novamente. Aos 23 minutos, Moerstedt recebeu mais um presente da defesa argentina e não desperdiçou, Alemanha 3 a 2. Quando a vaga parecia garantida, aos 52 minutos do segundo tempo, Agustín Ruberto fez o terceiro dele na partida e levou o jogo para a disputa de pênaltis. Nas penalidades, a Argentina até trocou de goleiro para tentar se classificar, mas foi o arqueiro alemão Heide quem brilhou, pegando duas cobranças e garantindo a vaga na final, Alemanha 4 a 2. Agora, a seleção alemã espera o vencedor do confronto entre França e Mali para conhecer seu adversário na grande decisão da Copa do Mundo Sub-17.'"
      ]
     },
     "execution_count": 126,
     "metadata": {},
     "output_type": "execute_result"
    }
   ],
   "source": [
    "text[0]"
   ]
  },
  {
   "cell_type": "code",
   "execution_count": 127,
   "id": "5d4514e9-6613-4ea6-8788-3c062d7017f7",
   "metadata": {},
   "outputs": [],
   "source": [
    "categorias = ['esportes','nacional', 'internacional', 'economia', 'politica', 'entretenimento']"
   ]
  },
  {
   "cell_type": "markdown",
   "id": "7db9049f-049d-461f-859e-f3cc6f973578",
   "metadata": {},
   "source": [
    "## Pré-processamento"
   ]
  },
  {
   "cell_type": "markdown",
   "id": "02977b39-1e4d-4f7e-92b8-06bebd2112c8",
   "metadata": {},
   "source": [
    "### NLTK"
   ]
  },
  {
   "cell_type": "code",
   "execution_count": 128,
   "id": "576c1475-b309-4f49-a34b-2b35a9cc5047",
   "metadata": {},
   "outputs": [],
   "source": [
    "for i in range(len(text)):\n",
    "    text[i] = text[i].lower()"
   ]
  },
  {
   "cell_type": "code",
   "execution_count": 129,
   "id": "46decafe-5c86-4cc0-b3fe-581dfc26fbcd",
   "metadata": {},
   "outputs": [],
   "source": [
    "from unidecode import unidecode\n",
    "\n",
    "for i in range(len(text)):\n",
    "    text[i] = unidecode(text[i])"
   ]
  },
  {
   "cell_type": "code",
   "execution_count": 130,
   "id": "b0784904-6dee-4306-b60f-125e87052ffd",
   "metadata": {},
   "outputs": [],
   "source": [
    "for i in range(len(text)):\n",
    "    text[i] = re.sub(r'[^a-zA-Z\\s]', \"\" ,text[i])"
   ]
  },
  {
   "cell_type": "code",
   "execution_count": 131,
   "id": "89c8ad61-6faa-48ee-b9f4-fbcd9fa12224",
   "metadata": {},
   "outputs": [
    {
     "name": "stdout",
     "output_type": "stream",
     "text": [
      "em uma partida com emocao do comeco ao fim a alemanha venceu a argentina nos penaltis e se classificou para a grande decisao da copa do mundo sub no tempo normal a selecao alema chegou a estar proxima da vitoria vencia por  a  mas agustin ruberto marcou nos acrescimos seu terceiro gol na partida e deu uma esperanca aos argentinos nas cobrancas de penaltis os alemaes foram mais efetivos e venceram por  a    a selecao argentina chegou com moral apos atropelar o brasil nas quartas de final mesmo assim a alemanha nao se intimidou e foi pra cima logo no comeco da partida aos nove minutos paris brunner abriu o placar em chute que contou com a colaboracao do goleiro florentin os argentinos nao se abalaram com o gol e empilharam boas chances no primeiro tempo os alemaes nao aguentaram a pressao e levaram a virada ainda na primeira etapa aos  agustin ruberto atacante do river plate completou cruzamento de gorosito e empatou nos acrescimos da etapa inicial ruberto apareceu novamente para limpar a marcacao e fazer o gol da virada argentina  a  no comeco do segundo tempo o goleiro florentin voltou a falhar em saida de bola e brunner aproveitou o camisa  acertou um belo chute no angulo para empatar a partida novamente aos  minutos moerstedt recebeu mais um presente da defesa argentina e nao desperdicou alemanha  a  quando a vaga parecia garantida aos  minutos do segundo tempo agustin ruberto fez o terceiro dele na partida e levou o jogo para a disputa de penaltis nas penalidades a argentina ate trocou de goleiro para tentar se classificar mas foi o arqueiro alemao heide quem brilhou pegando duas cobrancas e garantindo a vaga na final alemanha  a  agora a selecao alema espera o vencedor do confronto entre franca e mali para conhecer seu adversario na grande decisao da copa do mundo sub\n"
     ]
    }
   ],
   "source": [
    "print(text[0])"
   ]
  },
  {
   "cell_type": "code",
   "execution_count": 132,
   "id": "2534f4b8-ff0a-4351-94a3-66ee72e1ffd3",
   "metadata": {},
   "outputs": [],
   "source": [
    "token_text = []\n",
    "\n",
    "for j in text:\n",
    "    token_text.append(nltk.word_tokenize(j))"
   ]
  },
  {
   "cell_type": "code",
   "execution_count": 133,
   "id": "a6124e77-e0d1-4d1e-b9bf-17f171695772",
   "metadata": {},
   "outputs": [
    {
     "name": "stdout",
     "output_type": "stream",
     "text": [
      "['em', 'uma', 'partida', 'com', 'emocao', 'do', 'comeco', 'ao', 'fim', 'a', 'alemanha', 'venceu', 'a', 'argentina', 'nos', 'penaltis', 'e', 'se', 'classificou', 'para', 'a', 'grande', 'decisao', 'da', 'copa', 'do', 'mundo', 'sub', 'no', 'tempo', 'normal', 'a', 'selecao', 'alema', 'chegou', 'a', 'estar', 'proxima', 'da', 'vitoria', 'vencia', 'por', 'a', 'mas', 'agustin', 'ruberto', 'marcou', 'nos', 'acrescimos', 'seu', 'terceiro', 'gol', 'na', 'partida', 'e', 'deu', 'uma', 'esperanca', 'aos', 'argentinos', 'nas', 'cobrancas', 'de', 'penaltis', 'os', 'alemaes', 'foram', 'mais', 'efetivos', 'e', 'venceram', 'por', 'a', 'a', 'selecao', 'argentina', 'chegou', 'com', 'moral', 'apos', 'atropelar', 'o', 'brasil', 'nas', 'quartas', 'de', 'final', 'mesmo', 'assim', 'a', 'alemanha', 'nao', 'se', 'intimidou', 'e', 'foi', 'pra', 'cima', 'logo', 'no', 'comeco', 'da', 'partida', 'aos', 'nove', 'minutos', 'paris', 'brunner', 'abriu', 'o', 'placar', 'em', 'chute', 'que', 'contou', 'com', 'a', 'colaboracao', 'do', 'goleiro', 'florentin', 'os', 'argentinos', 'nao', 'se', 'abalaram', 'com', 'o', 'gol', 'e', 'empilharam', 'boas', 'chances', 'no', 'primeiro', 'tempo', 'os', 'alemaes', 'nao', 'aguentaram', 'a', 'pressao', 'e', 'levaram', 'a', 'virada', 'ainda', 'na', 'primeira', 'etapa', 'aos', 'agustin', 'ruberto', 'atacante', 'do', 'river', 'plate', 'completou', 'cruzamento', 'de', 'gorosito', 'e', 'empatou', 'nos', 'acrescimos', 'da', 'etapa', 'inicial', 'ruberto', 'apareceu', 'novamente', 'para', 'limpar', 'a', 'marcacao', 'e', 'fazer', 'o', 'gol', 'da', 'virada', 'argentina', 'a', 'no', 'comeco', 'do', 'segundo', 'tempo', 'o', 'goleiro', 'florentin', 'voltou', 'a', 'falhar', 'em', 'saida', 'de', 'bola', 'e', 'brunner', 'aproveitou', 'o', 'camisa', 'acertou', 'um', 'belo', 'chute', 'no', 'angulo', 'para', 'empatar', 'a', 'partida', 'novamente', 'aos', 'minutos', 'moerstedt', 'recebeu', 'mais', 'um', 'presente', 'da', 'defesa', 'argentina', 'e', 'nao', 'desperdicou', 'alemanha', 'a', 'quando', 'a', 'vaga', 'parecia', 'garantida', 'aos', 'minutos', 'do', 'segundo', 'tempo', 'agustin', 'ruberto', 'fez', 'o', 'terceiro', 'dele', 'na', 'partida', 'e', 'levou', 'o', 'jogo', 'para', 'a', 'disputa', 'de', 'penaltis', 'nas', 'penalidades', 'a', 'argentina', 'ate', 'trocou', 'de', 'goleiro', 'para', 'tentar', 'se', 'classificar', 'mas', 'foi', 'o', 'arqueiro', 'alemao', 'heide', 'quem', 'brilhou', 'pegando', 'duas', 'cobrancas', 'e', 'garantindo', 'a', 'vaga', 'na', 'final', 'alemanha', 'a', 'agora', 'a', 'selecao', 'alema', 'espera', 'o', 'vencedor', 'do', 'confronto', 'entre', 'franca', 'e', 'mali', 'para', 'conhecer', 'seu', 'adversario', 'na', 'grande', 'decisao', 'da', 'copa', 'do', 'mundo', 'sub']\n"
     ]
    }
   ],
   "source": [
    "print(token_text[0])"
   ]
  },
  {
   "cell_type": "code",
   "execution_count": 134,
   "id": "9e891517-f3dd-491c-a02e-7fe17e0ecff7",
   "metadata": {},
   "outputs": [
    {
     "name": "stderr",
     "output_type": "stream",
     "text": [
      "[nltk_data] Downloading package stopwords to /home/hworld/nltk_data...\n",
      "[nltk_data]   Package stopwords is already up-to-date!\n"
     ]
    },
    {
     "data": {
      "text/plain": [
       "True"
      ]
     },
     "execution_count": 134,
     "metadata": {},
     "output_type": "execute_result"
    }
   ],
   "source": [
    "nltk.download('stopwords')"
   ]
  },
  {
   "cell_type": "code",
   "execution_count": 135,
   "id": "7ce4e6e6-b023-4dd0-b5b3-624c55220bed",
   "metadata": {},
   "outputs": [],
   "source": [
    "from nltk.corpus import stopwords\n",
    "sw = stopwords.words('portuguese')"
   ]
  },
  {
   "cell_type": "code",
   "execution_count": 136,
   "id": "c7a094e5-44b5-4079-bfff-1201a537ded8",
   "metadata": {},
   "outputs": [],
   "source": [
    "for stop in sw:\n",
    "    for text in token_text:\n",
    "        for t in text:\n",
    "            if(t == stop):\n",
    "                text.remove(t)"
   ]
  },
  {
   "cell_type": "code",
   "execution_count": 137,
   "id": "6a9a56b7-e028-43f7-bc0b-d0c6dcc31604",
   "metadata": {},
   "outputs": [
    {
     "name": "stdout",
     "output_type": "stream",
     "text": [
      "['partida', 'emocao', 'comeco', 'fim', 'alemanha', 'venceu', 'argentina', 'penaltis', 'classificou', 'grande', 'decisao', 'copa', 'mundo', 'sub', 'tempo', 'normal', 'selecao', 'alema', 'chegou', 'proxima', 'vitoria', 'vencia', 'agustin', 'ruberto', 'marcou', 'acrescimos', 'terceiro', 'gol', 'partida', 'deu', 'esperanca', 'argentinos', 'cobrancas', 'penaltis', 'alemaes', 'efetivos', 'venceram', 'selecao', 'argentina', 'chegou', 'moral', 'apos', 'atropelar', 'brasil', 'quartas', 'final', 'assim', 'alemanha', 'nao', 'intimidou', 'pra', 'cima', 'logo', 'comeco', 'partida', 'nove', 'minutos', 'paris', 'brunner', 'abriu', 'placar', 'chute', 'contou', 'colaboracao', 'goleiro', 'florentin', 'argentinos', 'nao', 'abalaram', 'gol', 'empilharam', 'boas', 'chances', 'primeiro', 'tempo', 'alemaes', 'nao', 'aguentaram', 'pressao', 'levaram', 'virada', 'ainda', 'primeira', 'etapa', 'agustin', 'ruberto', 'atacante', 'river', 'plate', 'completou', 'cruzamento', 'gorosito', 'empatou', 'acrescimos', 'etapa', 'inicial', 'ruberto', 'apareceu', 'novamente', 'limpar', 'marcacao', 'fazer', 'gol', 'virada', 'argentina', 'comeco', 'segundo', 'tempo', 'goleiro', 'florentin', 'voltou', 'falhar', 'saida', 'bola', 'brunner', 'aproveitou', 'camisa', 'acertou', 'belo', 'chute', 'angulo', 'empatar', 'partida', 'novamente', 'minutos', 'moerstedt', 'recebeu', 'presente', 'defesa', 'argentina', 'nao', 'desperdicou', 'alemanha', 'vaga', 'parecia', 'garantida', 'minutos', 'segundo', 'tempo', 'agustin', 'ruberto', 'fez', 'terceiro', 'partida', 'levou', 'jogo', 'disputa', 'penaltis', 'penalidades', 'argentina', 'ate', 'trocou', 'goleiro', 'tentar', 'classificar', 'arqueiro', 'alemao', 'heide', 'brilhou', 'pegando', 'duas', 'cobrancas', 'garantindo', 'vaga', 'final', 'alemanha', 'agora', 'a', 'selecao', 'alema', 'espera', 'vencedor', 'confronto', 'franca', 'mali', 'conhecer', 'adversario', 'grande', 'decisao', 'copa', 'mundo', 'sub']\n"
     ]
    }
   ],
   "source": [
    "print(token_text[0])"
   ]
  },
  {
   "cell_type": "code",
   "execution_count": 138,
   "id": "75724920-33df-45ea-bc66-62cd512dc49e",
   "metadata": {},
   "outputs": [
    {
     "data": {
      "text/html": [
       "<div>\n",
       "<style scoped>\n",
       "    .dataframe tbody tr th:only-of-type {\n",
       "        vertical-align: middle;\n",
       "    }\n",
       "\n",
       "    .dataframe tbody tr th {\n",
       "        vertical-align: top;\n",
       "    }\n",
       "\n",
       "    .dataframe thead th {\n",
       "        text-align: right;\n",
       "    }\n",
       "</style>\n",
       "<table border=\"1\" class=\"dataframe\">\n",
       "  <thead>\n",
       "    <tr style=\"text-align: right;\">\n",
       "      <th></th>\n",
       "      <th>titulo</th>\n",
       "      <th>texto</th>\n",
       "      <th>link</th>\n",
       "      <th>resumo</th>\n",
       "      <th>categoria</th>\n",
       "      <th>data_hora</th>\n",
       "    </tr>\n",
       "  </thead>\n",
       "  <tbody>\n",
       "    <tr>\n",
       "      <th>0</th>\n",
       "      <td>Alemanha derrota Argentina nos pênaltis e está...</td>\n",
       "      <td>[partida, emocao, comeco, fim, alemanha, vence...</td>\n",
       "      <td>https://www.cnnbrasil.com.br/esportes/alemanha...</td>\n",
       "      <td>Após partida emocionante no tempo normal, alem...</td>\n",
       "      <td>esportes</td>\n",
       "      <td>2023-11-28 10:49:53</td>\n",
       "    </tr>\n",
       "    <tr>\n",
       "      <th>1</th>\n",
       "      <td>Haaland entra para o top 20 de maiores artilhe...</td>\n",
       "      <td>[dois, gols, marcados, vitoria, manchester, ci...</td>\n",
       "      <td>https://www.cnnbrasil.com.br/esportes/haaland-...</td>\n",
       "      <td>Atacante norueguês chegou a 39 gols em 34 part...</td>\n",
       "      <td>esportes</td>\n",
       "      <td>2023-11-08 12:00:08</td>\n",
       "    </tr>\n",
       "  </tbody>\n",
       "</table>\n",
       "</div>"
      ],
      "text/plain": [
       "                                              titulo  \\\n",
       "0  Alemanha derrota Argentina nos pênaltis e está...   \n",
       "1  Haaland entra para o top 20 de maiores artilhe...   \n",
       "\n",
       "                                               texto  \\\n",
       "0  [partida, emocao, comeco, fim, alemanha, vence...   \n",
       "1  [dois, gols, marcados, vitoria, manchester, ci...   \n",
       "\n",
       "                                                link  \\\n",
       "0  https://www.cnnbrasil.com.br/esportes/alemanha...   \n",
       "1  https://www.cnnbrasil.com.br/esportes/haaland-...   \n",
       "\n",
       "                                              resumo categoria  \\\n",
       "0  Após partida emocionante no tempo normal, alem...  esportes   \n",
       "1  Atacante norueguês chegou a 39 gols em 34 part...  esportes   \n",
       "\n",
       "             data_hora  \n",
       "0  2023-11-28 10:49:53  \n",
       "1  2023-11-08 12:00:08  "
      ]
     },
     "execution_count": 138,
     "metadata": {},
     "output_type": "execute_result"
    }
   ],
   "source": [
    "df_balanceado['texto'] = token_text\n",
    "df_balanceado.head(2)"
   ]
  },
  {
   "cell_type": "markdown",
   "id": "a2cd84bf-5bbf-4c51-832e-18d870cc3db1",
   "metadata": {},
   "source": [
    "### spaCy"
   ]
  },
  {
   "cell_type": "code",
   "execution_count": 139,
   "id": "8dab8515-4524-4bd3-a6cd-b053039d07ca",
   "metadata": {},
   "outputs": [],
   "source": [
    "for i in range(len(text2)):\n",
    "    text2[i] = text2[i].lower()"
   ]
  },
  {
   "cell_type": "code",
   "execution_count": 140,
   "id": "4e825ead-6706-4075-9b7b-93b78be5e109",
   "metadata": {},
   "outputs": [],
   "source": [
    "from unidecode import unidecode\n",
    "\n",
    "for i in range(len(text2)):\n",
    "    text2[i] = unidecode(text2[i])"
   ]
  },
  {
   "cell_type": "code",
   "execution_count": 148,
   "id": "db8bb10d-8812-4eeb-98f2-260f304a4d05",
   "metadata": {},
   "outputs": [],
   "source": [
    "for i in range(len(text2)):\n",
    "   text2[i] = re.sub(r'[^a-zA-Z\\s]', \"\" ,text2[i])"
   ]
  },
  {
   "cell_type": "code",
   "execution_count": 149,
   "id": "49e44ece-2a99-46f0-b22c-b6a59296323e",
   "metadata": {},
   "outputs": [
    {
     "name": "stdout",
     "output_type": "stream",
     "text": [
      "em uma partida com emocao do comeco ao fim a alemanha venceu a argentina nos penaltis e se classificou para a grande decisao da copa do mundo sub no tempo normal a selecao alema chegou a estar proxima da vitoria vencia por  a  mas agustin ruberto marcou nos acrescimos seu terceiro gol na partida e deu uma esperanca aos argentinos nas cobrancas de penaltis os alemaes foram mais efetivos e venceram por  a    a selecao argentina chegou com moral apos atropelar o brasil nas quartas de final mesmo assim a alemanha nao se intimidou e foi pra cima logo no comeco da partida aos nove minutos paris brunner abriu o placar em chute que contou com a colaboracao do goleiro florentin os argentinos nao se abalaram com o gol e empilharam boas chances no primeiro tempo os alemaes nao aguentaram a pressao e levaram a virada ainda na primeira etapa aos  agustin ruberto atacante do river plate completou cruzamento de gorosito e empatou nos acrescimos da etapa inicial ruberto apareceu novamente para limpar a marcacao e fazer o gol da virada argentina  a  no comeco do segundo tempo o goleiro florentin voltou a falhar em saida de bola e brunner aproveitou o camisa  acertou um belo chute no angulo para empatar a partida novamente aos  minutos moerstedt recebeu mais um presente da defesa argentina e nao desperdicou alemanha  a  quando a vaga parecia garantida aos  minutos do segundo tempo agustin ruberto fez o terceiro dele na partida e levou o jogo para a disputa de penaltis nas penalidades a argentina ate trocou de goleiro para tentar se classificar mas foi o arqueiro alemao heide quem brilhou pegando duas cobrancas e garantindo a vaga na final alemanha  a  agora a selecao alema espera o vencedor do confronto entre franca e mali para conhecer seu adversario na grande decisao da copa do mundo sub\n"
     ]
    }
   ],
   "source": [
    "print(text2[0])"
   ]
  },
  {
   "cell_type": "code",
   "execution_count": 151,
   "id": "76f98a44-ec8e-436e-ad7e-d36fa54f5a3c",
   "metadata": {},
   "outputs": [
    {
     "name": "stdout",
     "output_type": "stream",
     "text": [
      "em uma partida com emocao do comeco ao fim a alemanha venceu a argentina nos penaltis e se classificou para a grande decisao da copa do mundo sub no tempo normal a selecao alema chegou a estar proxima da vitoria vencia por  a  mas agustin ruberto marcou nos acrescimos seu terceiro gol na partida e deu uma esperanca aos argentinos nas cobrancas de penaltis os alemaes foram mais efetivos e venceram por  a    a selecao argentina chegou com moral apos atropelar o brasil nas quartas de final mesmo assim a alemanha nao se intimidou e foi pra cima logo no comeco da partida aos nove minutos paris brunner abriu o placar em chute que contou com a colaboracao do goleiro florentin os argentinos nao se abalaram com o gol e empilharam boas chances no primeiro tempo os alemaes nao aguentaram a pressao e levaram a virada ainda na primeira etapa aos  agustin ruberto atacante do river plate completou cruzamento de gorosito e empatou nos acrescimos da etapa inicial ruberto apareceu novamente para limpar a marcacao e fazer o gol da virada argentina  a  no comeco do segundo tempo o goleiro florentin voltou a falhar em saida de bola e brunner aproveitou o camisa  acertou um belo chute no angulo para empatar a partida novamente aos  minutos moerstedt recebeu mais um presente da defesa argentina e nao desperdicou alemanha  a  quando a vaga parecia garantida aos  minutos do segundo tempo agustin ruberto fez o terceiro dele na partida e levou o jogo para a disputa de penaltis nas penalidades a argentina ate trocou de goleiro para tentar se classificar mas foi o arqueiro alemao heide quem brilhou pegando duas cobrancas e garantindo a vaga na final alemanha  a  agora a selecao alema espera o vencedor do confronto entre franca e mali para conhecer seu adversario na grande decisao da copa do mundo sub\n"
     ]
    }
   ],
   "source": [
    "nlp = spacy.load('pt_core_news_sm')\n",
    "\n",
    "doc = []\n",
    "\n",
    "for j in text2:\n",
    "    temp = nlp(j)\n",
    "    doc.append(temp)\n",
    "print(doc[0])"
   ]
  },
  {
   "cell_type": "code",
   "execution_count": 164,
   "id": "4fd763bc-d541-4267-a129-16e66603a5e4",
   "metadata": {},
   "outputs": [
    {
     "name": "stdout",
     "output_type": "stream",
     "text": [
      "['em', 'uma', 'partida', 'com', 'emocao', 'do', 'comeco', 'ao', 'fim', 'a', 'alemanha', 'venceu', 'a', 'argentina', 'nos', 'penaltis', 'e', 'se', 'classificou', 'para', 'a', 'grande', 'decisao', 'da', 'copa', 'do', 'mundo', 'sub', 'no', 'tempo', 'normal', 'a', 'selecao', 'alema', 'chegou', 'a', 'estar', 'proxima', 'da', 'vitoria', 'vencia', 'por', ' ', 'a', ' ', 'mas', 'agustin', 'ruberto', 'marcou', 'nos', 'acrescimos', 'seu', 'terceiro', 'gol', 'na', 'partida', 'e', 'deu', 'uma', 'esperanca', 'aos', 'argentinos', 'nas', 'cobrancas', 'de', 'penaltis', 'os', 'alemaes', 'foram', 'mais', 'efetivos', 'e', 'venceram', 'por', ' ', 'a', '   ', 'a', 'selecao', 'argentina', 'chegou', 'com', 'moral', 'apos', 'atropelar', 'o', 'brasil', 'nas', 'quartas', 'de', 'final', 'mesmo', 'assim', 'a', 'alemanha', 'nao', 'se', 'intimidou', 'e', 'foi', 'pra', 'cima', 'logo', 'no', 'comeco', 'da', 'partida', 'aos', 'nove', 'minutos', 'paris', 'brunner', 'abriu', 'o', 'placar', 'em', 'chute', 'que', 'contou', 'com', 'a', 'colaboracao', 'do', 'goleiro', 'florentin', 'os', 'argentinos', 'nao', 'se', 'abalaram', 'com', 'o', 'gol', 'e', 'empilharam', 'boas', 'chances', 'no', 'primeiro', 'tempo', 'os', 'alemaes', 'nao', 'aguentaram', 'a', 'pressao', 'e', 'levaram', 'a', 'virada', 'ainda', 'na', 'primeira', 'etapa', 'aos', ' ', 'agustin', 'ruberto', 'atacante', 'do', 'river', 'plate', 'completou', 'cruzamento', 'de', 'gorosito', 'e', 'empatou', 'nos', 'acrescimos', 'da', 'etapa', 'inicial', 'ruberto', 'apareceu', 'novamente', 'para', 'limpar', 'a', 'marcacao', 'e', 'fazer', 'o', 'gol', 'da', 'virada', 'argentina', ' ', 'a', ' ', 'no', 'comeco', 'do', 'segundo', 'tempo', 'o', 'goleiro', 'florentin', 'voltou', 'a', 'falhar', 'em', 'saida', 'de', 'bola', 'e', 'brunner', 'aproveitou', 'o', 'camisa', ' ', 'acertou', 'um', 'belo', 'chute', 'no', 'angulo', 'para', 'empatar', 'a', 'partida', 'novamente', 'aos', ' ', 'minutos', 'moerstedt', 'recebeu', 'mais', 'um', 'presente', 'da', 'defesa', 'argentina', 'e', 'nao', 'desperdicou', 'alemanha', ' ', 'a', ' ', 'quando', 'a', 'vaga', 'parecia', 'garantida', 'aos', ' ', 'minutos', 'do', 'segundo', 'tempo', 'agustin', 'ruberto', 'fez', 'o', 'terceiro', 'dele', 'na', 'partida', 'e', 'levou', 'o', 'jogo', 'para', 'a', 'disputa', 'de', 'penaltis', 'nas', 'penalidades', 'a', 'argentina', 'ate', 'trocou', 'de', 'goleiro', 'para', 'tentar', 'se', 'classificar', 'mas', 'foi', 'o', 'arqueiro', 'alemao', 'heide', 'quem', 'brilhou', 'pegando', 'duas', 'cobrancas', 'e', 'garantindo', 'a', 'vaga', 'na', 'final', 'alemanha', ' ', 'a', ' ', 'agora', 'a', 'selecao', 'alema', 'espera', 'o', 'vencedor', 'do', 'confronto', 'entre', 'franca', 'e', 'mali', 'para', 'conhecer', 'seu', 'adversario', 'na', 'grande', 'decisao', 'da', 'copa', 'do', 'mundo', 'sub']\n"
     ]
    }
   ],
   "source": [
    "token_text2 = []\n",
    "\n",
    "#Creating and updating our list of tokens using list comprehension \n",
    "for i in range(len(text2)):\n",
    "    temp = [token.text for token in doc[i]]\n",
    "    token_text2.append(temp)\n",
    "\n",
    "print(token_text2[0])"
   ]
  },
  {
   "cell_type": "code",
   "execution_count": 165,
   "id": "61623151-b4e7-4837-ac59-98a3c1b5e0e6",
   "metadata": {},
   "outputs": [
    {
     "name": "stdout",
     "output_type": "stream",
     "text": [
      "{'vens', 'vinda', 'adeus', 'iniciar', 'porque', 'aquele', 'sou', 'diz', 'porquê', 'assim', 'tive', 'possível', 'tivemos', 'têm', 'podia', 'é', 'muitos', 'pelo', 'dar', 'você', 'outros', 'essas', 'estiveste', 'através', 'catorze', 'vossas', 'dezoito', 'estará', 'quinto', 'quieto', 'alguns', 'daquela', 'menos', 'ora', 'tivestes', 'sexta', 'vêm', 'vai', 'aí', 'usa', 'quatro', 'que', 'novos', 'nunca', 'querem', 'sois', 'área', 'algo', 'seis', 'tal', 'sexto', 'possivelmente', 'és', 'des', 'diante', 'momento', 'longe', 'aqui', 'tiveste', 'direita', 'mês', 'sobre', 'oitavo', 'uns', 'mil', 'menor', 'maioria', 'fará', 'quarto', 'porquanto', 'vosso', 'seria', 'fez', 'de', 'aqueles', 'sistema', 'ademais', 'fui', 'bem', 'um', 'nada', 'saber', 'cujo', 'dentro', 'forma', 'tudo', 'estiveram', 'nós', 'põem', 'dessa', 'pegar', 'pois', 'toda', 'aos', 'dá', 'tentar', 'breve', 'último', 'meu', 'elas', 'talvez', 'oito', 'poder', 'quem', 'enquanto', 'tem', 'ver', 'dizem', 'próximo', 'nuns', 'quer', 'comprido', 'aquelas', 'mal', 'posso', 'tão', 'estes', 'também', 'apoio', 'dezanove', 'isto', 'em', 'tipo', 'estive', 'mas', 'todos', 'relação', 'numa', 'vinte', 'meus', 'se', 'tuas', 'teve', 'seu', 'próxima', 'dez', 'pelos', 'à', 'logo', 'maiorias', 'com', 'estivemos', 'nossas', 'num', 'certamente', 'ainda', 'pôde', 'dezasseis', 'tiveram', 'dois', 'apenas', 'geral', 'pontos', 'vocês', 'terceiro', 'tente', 'fazeis', 'nove', 'apoia', 'tenho', 'as', 'ligado', 'devem', 'nos', 'quinta', 'até', 'quais', 'zero', 'caminho', 'mais', 'contudo', 'conhecida', 'irá', 'tanto', 'cedo', 'a', 'quinze', 'isso', 'questão', 'todo', 'muito', 'este', 'partir', 'nível', 'te', 'tentaram', 'tu', 'valor', 'embora', 'daquele', 'sete', 'pouca', 'povo', 'cima', 'coisa', 'suas', 'oitava', 'apontar', 'nesse', 'ser', 'obrigado', 'teus', 'fazer', 'pouco', 'fim', 'outra', 'estou', 'nessa', 'ao', 'estar', 'neste', 'esse', 'aquela', 'como', 'sim', 'treze', 'vós', 'somos', 'quero', 'fazes', 'dos', 'três', 'às', 'cinco', 'vários', 'quanto', 'contra', 'eles', 'todas', 'pode', 'local', 'agora', 'duas', 'estão', 'os', 'uma', 'dizer', 'eu', 'tua', 'acerca', 'eventual', 'dão', 'cada', 'sua', 'minhas', 'minha', 'outras', 'são', 'nossos', 'foi', 'essa', 'falta', 'podem', 'temos', 'para', 'próprio', 'tentei', 'onde', 'grupo', 'custa', 'quarta', 'primeiro', 'ambos', 'parte', 'quieta', 'deve', 'estas', 'foram', 'segundo', 'lhe', 'naquele', 'conhecido', 'depois', 'números', 'vez', 'vossos', 'está', 'primeira', 'além', 'nem', 'vindo', 'pela', 'somente', 'inclusive', 'certeza', 'por', 'deverá', 'poderá', 'obrigada', 'ontem', 'favor', 'porém', 'estava', 'for', 'no', 'tais', 'debaixo', 'baixo', 'das', 'sempre', 'cuja', 'não', 'grandes', 'puderam', 'naquela', 'na', 'e', 'nenhuma', 'qualquer', 'comprida', 'lugar', 'novo', 'o', 'bastante', 'conselho', 'parece', 'cento', 'desde', 'umas', 'nosso', 'mesmo', 'sob', 'onze', 'pelas', 'vezes', 'algumas', 'fazia', 'disso', 'fazemos', 'demais', 'doze', 'máximo', 'portanto', 'novas', 'qual', 'só', 'terceira', 'do', 'já', 'ela', 'posição', 'cá', 'nova', 'perto', 'vais', 'tempo', 'corrente', 'boa', 'ponto', 'antes', 'nossa', 'vos', 'estás', 'nesta', 'meio', 'vossa', 'ele', 'inicio', 'tarde', 'foste', 'fostes', 'nas', 'ir', 'me', 'sem', 'atrás', 'lado', 'esta', 'quando', 'aquilo', 'tens', 'tendes', 'sétimo', 'fora', 'da', 'seus', 'usar', 'número', 'desse', 'era', 'meses', 'quê', 'desta', 'entre', 'ali', 'então', 'após', 'faz', 'sétima', 'fomos', 'esteve', 'esses', 'lá', 'segunda', 'dezassete', 'faço', 'exemplo', 'põe', 'estado', 'ambas', 'ou', 'vem', 'teu', 'bom', 'deste', 'tanta', 'fazem', 'veja', 'maior', 'sei', 'ter', 'grande', 'estivestes', 'sabe', 'vão', 'final'}\n"
     ]
    }
   ],
   "source": [
    "from spacy.lang.pt.stop_words import STOP_WORDS\n",
    "stop = STOP_WORDS\n",
    "print(stop)"
   ]
  },
  {
   "cell_type": "code",
   "execution_count": 166,
   "id": "f2bd0ad8-a857-46f5-a4ef-896bd469c17d",
   "metadata": {},
   "outputs": [
    {
     "name": "stdout",
     "output_type": "stream",
     "text": [
      "['partida', 'emocao', 'comeco', 'alemanha', 'venceu', 'argentina', 'penaltis', 'classificou', 'decisao', 'copa', 'mundo', 'sub', 'normal', 'selecao', 'alema', 'chegou', 'proxima', 'vitoria', 'vencia', ' ', ' ', 'agustin', 'ruberto', 'marcou', 'acrescimos', 'gol', 'partida', 'deu', 'esperanca', 'argentinos', 'cobrancas', 'penaltis', 'alemaes', 'efetivos', 'venceram', ' ', '   ', 'selecao', 'argentina', 'chegou', 'moral', 'apos', 'atropelar', 'brasil', 'quartas', 'alemanha', 'nao', 'intimidou', 'pra', 'comeco', 'partida', 'minutos', 'paris', 'brunner', 'abriu', 'placar', 'chute', 'contou', 'colaboracao', 'goleiro', 'florentin', 'argentinos', 'nao', 'abalaram', 'gol', 'empilharam', 'boas', 'chances', 'alemaes', 'nao', 'aguentaram', 'pressao', 'levaram', 'virada', 'etapa', ' ', 'agustin', 'ruberto', 'atacante', 'river', 'plate', 'completou', 'cruzamento', 'gorosito', 'empatou', 'acrescimos', 'etapa', 'inicial', 'ruberto', 'apareceu', 'novamente', 'limpar', 'marcacao', 'gol', 'virada', 'argentina', ' ', ' ', 'comeco', 'goleiro', 'florentin', 'voltou', 'falhar', 'saida', 'bola', 'brunner', 'aproveitou', 'camisa', ' ', 'acertou', 'belo', 'chute', 'angulo', 'empatar', 'partida', 'novamente', ' ', 'minutos', 'moerstedt', 'recebeu', 'presente', 'defesa', 'argentina', 'nao', 'desperdicou', 'alemanha', ' ', ' ', 'vaga', 'parecia', 'garantida', ' ', 'minutos', 'agustin', 'ruberto', 'dele', 'partida', 'levou', 'jogo', 'disputa', 'penaltis', 'penalidades', 'argentina', 'ate', 'trocou', 'goleiro', 'classificar', 'arqueiro', 'alemao', 'heide', 'brilhou', 'pegando', 'cobrancas', 'garantindo', 'vaga', 'alemanha', ' ', ' ', 'selecao', 'alema', 'espera', 'vencedor', 'confronto', 'franca', 'mali', 'conhecer', 'adversario', 'decisao', 'copa', 'mundo', 'sub']\n"
     ]
    }
   ],
   "source": [
    "token2 = []\n",
    "for i in token_text2:\n",
    "    temp = []\n",
    "    for token in i:\n",
    "        if token not in stop:\n",
    "            temp.append(token)\n",
    "    token2.append(temp)\n",
    "print(token2[0])"
   ]
  },
  {
   "cell_type": "code",
   "execution_count": 167,
   "id": "d27c4e58-2245-4435-827e-de0480f6fd41",
   "metadata": {},
   "outputs": [
    {
     "data": {
      "text/html": [
       "<div>\n",
       "<style scoped>\n",
       "    .dataframe tbody tr th:only-of-type {\n",
       "        vertical-align: middle;\n",
       "    }\n",
       "\n",
       "    .dataframe tbody tr th {\n",
       "        vertical-align: top;\n",
       "    }\n",
       "\n",
       "    .dataframe thead th {\n",
       "        text-align: right;\n",
       "    }\n",
       "</style>\n",
       "<table border=\"1\" class=\"dataframe\">\n",
       "  <thead>\n",
       "    <tr style=\"text-align: right;\">\n",
       "      <th></th>\n",
       "      <th>titulo</th>\n",
       "      <th>texto</th>\n",
       "      <th>link</th>\n",
       "      <th>resumo</th>\n",
       "      <th>categoria</th>\n",
       "      <th>data_hora</th>\n",
       "    </tr>\n",
       "  </thead>\n",
       "  <tbody>\n",
       "    <tr>\n",
       "      <th>0</th>\n",
       "      <td>Alemanha derrota Argentina nos pênaltis e está...</td>\n",
       "      <td>[partida, emocao, comeco, alemanha, venceu, ar...</td>\n",
       "      <td>https://www.cnnbrasil.com.br/esportes/alemanha...</td>\n",
       "      <td>Após partida emocionante no tempo normal, alem...</td>\n",
       "      <td>esportes</td>\n",
       "      <td>2023-11-28 10:49:53</td>\n",
       "    </tr>\n",
       "    <tr>\n",
       "      <th>1</th>\n",
       "      <td>Haaland entra para o top 20 de maiores artilhe...</td>\n",
       "      <td>[gols, marcados, vitoria, manchester, city, yo...</td>\n",
       "      <td>https://www.cnnbrasil.com.br/esportes/haaland-...</td>\n",
       "      <td>Atacante norueguês chegou a 39 gols em 34 part...</td>\n",
       "      <td>esportes</td>\n",
       "      <td>2023-11-08 12:00:08</td>\n",
       "    </tr>\n",
       "  </tbody>\n",
       "</table>\n",
       "</div>"
      ],
      "text/plain": [
       "                                              titulo  \\\n",
       "0  Alemanha derrota Argentina nos pênaltis e está...   \n",
       "1  Haaland entra para o top 20 de maiores artilhe...   \n",
       "\n",
       "                                               texto  \\\n",
       "0  [partida, emocao, comeco, alemanha, venceu, ar...   \n",
       "1  [gols, marcados, vitoria, manchester, city, yo...   \n",
       "\n",
       "                                                link  \\\n",
       "0  https://www.cnnbrasil.com.br/esportes/alemanha...   \n",
       "1  https://www.cnnbrasil.com.br/esportes/haaland-...   \n",
       "\n",
       "                                              resumo categoria  \\\n",
       "0  Após partida emocionante no tempo normal, alem...  esportes   \n",
       "1  Atacante norueguês chegou a 39 gols em 34 part...  esportes   \n",
       "\n",
       "             data_hora  \n",
       "0  2023-11-28 10:49:53  \n",
       "1  2023-11-08 12:00:08  "
      ]
     },
     "execution_count": 167,
     "metadata": {},
     "output_type": "execute_result"
    }
   ],
   "source": [
    "df_balanceado2['texto'] = token2\n",
    "df_balanceado2.head(2)"
   ]
  },
  {
   "cell_type": "markdown",
   "id": "c1f6e2fe-05bf-4c48-8d6d-94f5613ed4b1",
   "metadata": {},
   "source": [
    "### Gensim"
   ]
  },
  {
   "cell_type": "code",
   "execution_count": 169,
   "id": "38d05539-7c13-486f-b276-f18e0c4ac150",
   "metadata": {},
   "outputs": [],
   "source": [
    "from gensim.utils import simple_preprocess\n",
    "\n",
    "for i in range(len(text3)):\n",
    "    text3[i] = text3[i].lower()"
   ]
  },
  {
   "cell_type": "code",
   "execution_count": 170,
   "id": "64afdd30-8678-43ff-ab9a-c5df93648f7e",
   "metadata": {},
   "outputs": [],
   "source": [
    "from unidecode import unidecode\n",
    "\n",
    "for i in range(len(text3)):\n",
    "    text3[i] = unidecode(text3[i])"
   ]
  },
  {
   "cell_type": "code",
   "execution_count": 172,
   "id": "5992355b-e4d7-4ea3-b049-13e41b38638b",
   "metadata": {},
   "outputs": [],
   "source": [
    "for i in range(len(text3)):\n",
    "   text3[i] = re.sub(r'[^a-zA-Z\\s]', \"\" ,text3[i])"
   ]
  },
  {
   "cell_type": "code",
   "execution_count": 173,
   "id": "f35b9bfe-f1fb-47e4-b615-ced2fa0cf568",
   "metadata": {},
   "outputs": [
    {
     "name": "stdout",
     "output_type": "stream",
     "text": [
      "['partida', 'emocao', 'comeco', 'alemanha', 'venceu', 'argentina', 'penaltis', 'classificou', 'para', 'grande', 'decisao', 'copa', 'mundo', 'tempo', 'normal', 'selecao', 'alema', 'chegou', 'estar', 'proxima', 'vitoria', 'vencia', 'agustin', 'ruberto', 'marcou', 'acrescimos', 'terceiro', 'partida', 'esperanca', 'argentinos', 'cobrancas', 'penaltis', 'alemaes', 'foram', 'mais', 'efetivos', 'venceram', 'selecao', 'argentina', 'chegou', 'moral', 'apos', 'atropelar', 'brasil', 'quartas', 'final', 'mesmo', 'assim', 'alemanha', 'intimidou', 'cima', 'logo', 'comeco', 'partida', 'nove', 'minutos', 'paris', 'brunner', 'abriu', 'placar', 'chute', 'contou', 'colaboracao', 'goleiro', 'florentin', 'argentinos', 'abalaram', 'empilharam', 'boas', 'chances', 'primeiro', 'tempo', 'alemaes', 'aguentaram', 'pressao', 'levaram', 'virada', 'ainda', 'primeira', 'etapa', 'agustin', 'ruberto', 'atacante', 'river', 'plate', 'completou', 'cruzamento', 'gorosito', 'empatou', 'acrescimos', 'etapa', 'inicial', 'ruberto', 'apareceu', 'novamente', 'para', 'limpar', 'marcacao', 'fazer', 'virada', 'argentina', 'comeco', 'segundo', 'tempo', 'goleiro', 'florentin', 'voltou', 'falhar', 'saida', 'bola', 'brunner', 'aproveitou', 'camisa', 'acertou', 'belo', 'chute', 'angulo', 'para', 'empatar', 'partida', 'novamente', 'minutos', 'moerstedt', 'recebeu', 'mais', 'presente', 'defesa', 'argentina', 'desperdicou', 'alemanha', 'quando', 'vaga', 'parecia', 'garantida', 'minutos', 'segundo', 'tempo', 'agustin', 'ruberto', 'terceiro', 'dele', 'partida', 'levou', 'jogo', 'para', 'disputa', 'penaltis', 'penalidades', 'argentina', 'trocou', 'goleiro', 'para', 'tentar', 'classificar', 'arqueiro', 'alemao', 'heide', 'quem', 'brilhou', 'pegando', 'duas', 'cobrancas', 'garantindo', 'vaga', 'final', 'alemanha', 'agora', 'selecao', 'alema', 'espera', 'vencedor', 'confronto', 'entre', 'franca', 'mali', 'para', 'conhecer', 'adversario', 'grande', 'decisao', 'copa', 'mundo']\n"
     ]
    }
   ],
   "source": [
    "tokens3 = []\n",
    "\n",
    "for i in range(len(text3)):\n",
    "    tokens3.append(simple_preprocess(text3[i], min_len = 4))\n",
    "\n",
    "print(tokens3[0])"
   ]
  },
  {
   "cell_type": "code",
   "execution_count": null,
   "id": "08af67f2-96de-4f62-87b7-bab41e04fb97",
   "metadata": {},
   "outputs": [],
   "source": []
  },
  {
   "cell_type": "markdown",
   "id": "2a86a3f7-402e-4f60-8e02-b612fe83c051",
   "metadata": {},
   "source": [
    "## Análises"
   ]
  },
  {
   "cell_type": "markdown",
   "id": "c995d014-5aad-4572-b329-60c92af45b3c",
   "metadata": {},
   "source": [
    "### NLTK"
   ]
  },
  {
   "cell_type": "code",
   "execution_count": 38,
   "id": "bc59c4ef-5077-4918-941d-56c0da1e7974",
   "metadata": {},
   "outputs": [
    {
     "name": "stdout",
     "output_type": "stream",
     "text": [
      "[('chelsea', 4), ('clube', 4), ('jogador', 4), ('moscardo', 3), ('corinthians', 3), ('proposta', 3), ('mantem', 2), ('contratar', 2), ('ingles', 2), ('paulista', 2), ('apos', 2), ('anos', 2), ('milhoes', 2), ('timao', 2), ('firme', 1), ('ideia', 1), ('volante', 1), ('gabriel', 1), ('conversas', 1), ('equipe', 1), ('recusar', 1), ('primeira', 1), ('ultimo', 1), ('mes', 1), ('julho', 1), ('epoca', 1), ('tentou', 1), ('euros', 1), ('aproximadamente', 1), ('r', 1), ('considerando', 1), ('bonus', 1), ('metas', 1), ('atingidas', 1), ('balancou', 1), ('numeros', 1), ('apresentados', 1), ('optou', 1), ('segurar', 1), ('leia', 1), ('importante', 1), ('ressaltar', 1), ('segunda', 1), ('tentativa', 1), ('ainda', 1), ('nao', 1), ('formalizou', 1), ('oficial', 1), ('caso', 1), ('feita', 1), ('ja', 1), ('sinalizou', 1), ('estafe', 1), ('so', 1), ('dara', 1), ('andamento', 1), ('negociacoes', 1), ('dia', 1), ('novembro', 1), ('ocorrem', 1), ('eleicoes', 1), ('presidenciais', 1), ('negocio', 1), ('conta', 1), ('forte', 1), ('influencia', 1), ('olheiro', 1), ('alysson', 1), ('martins', 1), ('profissional', 1), ('trabalhou', 1), ('base', 1), ('corintiana', 1), ('pode', 1), ('acompanhar', 1), ('perto', 1), ('treinamentos', 1), ('jogos', 1), ('entra', 1), ('campo', 1), ('nesta', 1), ('quintafeira', 1), ('enfrentar', 1), ('atletico', 1), ('bola', 1), ('rola', 1), ('h', 1), ('brasilia', 1), ('neo', 1), ('quimica', 1), ('arena', 1), ('casa', 1), ('rodada', 1), ('campeonato', 1), ('brasileiro', 1)]\n"
     ]
    }
   ],
   "source": [
    "from collections import Counter  # Contagem de frequência de palavras usando NLTK \n",
    "frequencia_palavras = Counter(token_text[1]) \n",
    "print(frequencia_palavras.most_common())"
   ]
  },
  {
   "cell_type": "code",
   "execution_count": 39,
   "id": "c86224cb-cc2e-4ce2-a70e-cd010bd88214",
   "metadata": {},
   "outputs": [
    {
     "data": {
      "image/png": "[encoded data removed]",
      "text/plain": [
       "<Figure size 1000x600 with 1 Axes>"
      ]
     },
     "metadata": {},
     "output_type": "display_data"
    }
   ],
   "source": [
    "# Obter os 10 tokens mais comuns e suas contagens\n",
    "tokens_mais_comuns = frequencia_palavras.most_common(20)\n",
    "palavras, contagens = zip(*tokens_mais_comuns)\n",
    "\n",
    "# Gráfico de Barras\n",
    "plt.figure(figsize=(10, 6))\n",
    "plt.bar(palavras, contagens)\n",
    "plt.xlabel('Palavras')\n",
    "plt.ylabel('Frequência')\n",
    "plt.title('10 Palavras Mais Comuns')\n",
    "plt.xticks(rotation=45)\n",
    "plt.show()"
   ]
  },
  {
   "cell_type": "code",
   "execution_count": 40,
   "id": "8d196b3e-c4e5-4495-9261-5d9993d20158",
   "metadata": {},
   "outputs": [
    {
     "data": {
      "image/png": "[encoded data removed]",
      "text/plain": [
       "<Figure size 1000x600 with 1 Axes>"
      ]
     },
     "metadata": {},
     "output_type": "display_data"
    }
   ],
   "source": [
    "palavras_ordenadas = sorted(frequencia_palavras.items(), key=lambda x: x[1], reverse=True)\n",
    "palavras, contagens = zip(*palavras_ordenadas)\n",
    "\n",
    "# Plotar o gráfico da Lei de Zipf\n",
    "plt.figure(figsize=(10, 6))\n",
    "plt.plot(range(1, len(palavras) + 1), contagens)\n",
    "plt.xlabel('Rank')\n",
    "plt.ylabel('Frequência')\n",
    "plt.title('Lei de Zipf - Frequência de Todas as Palavras')\n",
    "plt.grid(True)\n",
    "plt.show()"
   ]
  },
  {
   "cell_type": "markdown",
   "id": "ec752a64-fd72-4ca4-8e3e-1bfc43f5ac0f",
   "metadata": {},
   "source": [
    "## Prediction\n",
    "https://github.com/susanli2016/Machine-Learning-with-Python/blob/master/Consumer_complaints.ipynb  <br>\n",
    "refazer para cada biblioteca"
   ]
  },
  {
   "cell_type": "markdown",
   "id": "7841f9eb-b1d2-496f-bec3-4b3de8253a1a",
   "metadata": {},
   "source": [
    "### NLTK"
   ]
  },
  {
   "cell_type": "code",
   "execution_count": 41,
   "id": "d13c1a7e-b6f1-4e49-982a-2388dee760d0",
   "metadata": {},
   "outputs": [
    {
     "name": "stdout",
     "output_type": "stream",
     "text": [
      "\n"
     ]
    }
   ],
   "source": [
    "for i in range(len(token_text)):\n",
    "    token_text[i] = \" \".join(token_text[i])\n",
    "print(token_text[0])"
   ]
  },
  {
   "cell_type": "code",
   "execution_count": 42,
   "id": "eea38f9b-5f83-431d-b6c5-30089529cbd1",
   "metadata": {},
   "outputs": [
    {
     "data": {
      "text/html": [
       "<div>\n",
       "<style scoped>\n",
       "    .dataframe tbody tr th:only-of-type {\n",
       "        vertical-align: middle;\n",
       "    }\n",
       "\n",
       "    .dataframe tbody tr th {\n",
       "        vertical-align: top;\n",
       "    }\n",
       "\n",
       "    .dataframe thead th {\n",
       "        text-align: right;\n",
       "    }\n",
       "</style>\n",
       "<table border=\"1\" class=\"dataframe\">\n",
       "  <thead>\n",
       "    <tr style=\"text-align: right;\">\n",
       "      <th></th>\n",
       "      <th>titulo</th>\n",
       "      <th>texto</th>\n",
       "      <th>link</th>\n",
       "      <th>resumo</th>\n",
       "      <th>categoria</th>\n",
       "      <th>data_hora</th>\n",
       "    </tr>\n",
       "  </thead>\n",
       "  <tbody>\n",
       "    <tr>\n",
       "      <th>0</th>\n",
       "      <td>Ituano x Chapecoense: tempo real e onde assist...</td>\n",
       "      <td></td>\n",
       "      <td>https://www.cnnbrasil.com.br/esportes/ituano-x...</td>\n",
       "      <td>Onde assistir e tempo real dos lances e das es...</td>\n",
       "      <td>esportes</td>\n",
       "      <td>2023-11-17 14:20:18</td>\n",
       "    </tr>\n",
       "    <tr>\n",
       "      <th>1</th>\n",
       "      <td>Chelsea intensifica conversas com Gabriel Mosc...</td>\n",
       "      <td>chelsea mantem firme ideia contratar volante g...</td>\n",
       "      <td>https://www.cnnbrasil.com.br/esportes/chelsea-...</td>\n",
       "      <td>Clube paulista já recusou uma proposta dos ing...</td>\n",
       "      <td>esportes</td>\n",
       "      <td>2023-11-09 14:04:55</td>\n",
       "    </tr>\n",
       "    <tr>\n",
       "      <th>2</th>\n",
       "      <td>Ex-jogador Fred deita no chão após assalto no ...</td>\n",
       "      <td>camera seguranca mostrou momento exjogador fut...</td>\n",
       "      <td>https://www.cnnbrasil.com.br/esportes/ex-jogad...</td>\n",
       "      <td>Imagens de câmeras de segurança mostram três c...</td>\n",
       "      <td>esportes</td>\n",
       "      <td>2023-11-24 11:50:29</td>\n",
       "    </tr>\n",
       "    <tr>\n",
       "      <th>3</th>\n",
       "      <td>Esposa de Daniel Alves dá entrevista polêmica ...</td>\n",
       "      <td>esposa daniel alves preso desde janeiro suspei...</td>\n",
       "      <td>https://www.cnnbrasil.com.br/esportes/esposa-d...</td>\n",
       "      <td>Alves foi preso no dia 20 de janeiro, pouco me...</td>\n",
       "      <td>esportes</td>\n",
       "      <td>2023-11-25 20:39:52</td>\n",
       "    </tr>\n",
       "    <tr>\n",
       "      <th>4</th>\n",
       "      <td>Diniz faz mistério em escalação do Fluminense ...</td>\n",
       "      <td>fernando diniz nao quis saber dar pistas sobre...</td>\n",
       "      <td>https://www.cnnbrasil.com.br/esportes/diniz-fa...</td>\n",
       "      <td>Treinador lamentou episódios ocorridos na últi...</td>\n",
       "      <td>esportes</td>\n",
       "      <td>2023-11-03 21:17:20</td>\n",
       "    </tr>\n",
       "  </tbody>\n",
       "</table>\n",
       "</div>"
      ],
      "text/plain": [
       "                                              titulo  \\\n",
       "0  Ituano x Chapecoense: tempo real e onde assist...   \n",
       "1  Chelsea intensifica conversas com Gabriel Mosc...   \n",
       "2  Ex-jogador Fred deita no chão após assalto no ...   \n",
       "3  Esposa de Daniel Alves dá entrevista polêmica ...   \n",
       "4  Diniz faz mistério em escalação do Fluminense ...   \n",
       "\n",
       "                                               texto  \\\n",
       "0                                                      \n",
       "1  chelsea mantem firme ideia contratar volante g...   \n",
       "2  camera seguranca mostrou momento exjogador fut...   \n",
       "3  esposa daniel alves preso desde janeiro suspei...   \n",
       "4  fernando diniz nao quis saber dar pistas sobre...   \n",
       "\n",
       "                                                link  \\\n",
       "0  https://www.cnnbrasil.com.br/esportes/ituano-x...   \n",
       "1  https://www.cnnbrasil.com.br/esportes/chelsea-...   \n",
       "2  https://www.cnnbrasil.com.br/esportes/ex-jogad...   \n",
       "3  https://www.cnnbrasil.com.br/esportes/esposa-d...   \n",
       "4  https://www.cnnbrasil.com.br/esportes/diniz-fa...   \n",
       "\n",
       "                                              resumo categoria  \\\n",
       "0  Onde assistir e tempo real dos lances e das es...  esportes   \n",
       "1  Clube paulista já recusou uma proposta dos ing...  esportes   \n",
       "2  Imagens de câmeras de segurança mostram três c...  esportes   \n",
       "3  Alves foi preso no dia 20 de janeiro, pouco me...  esportes   \n",
       "4  Treinador lamentou episódios ocorridos na últi...  esportes   \n",
       "\n",
       "             data_hora  \n",
       "0  2023-11-17 14:20:18  \n",
       "1  2023-11-09 14:04:55  \n",
       "2  2023-11-24 11:50:29  \n",
       "3  2023-11-25 20:39:52  \n",
       "4  2023-11-03 21:17:20  "
      ]
     },
     "execution_count": 42,
     "metadata": {},
     "output_type": "execute_result"
    }
   ],
   "source": [
    "df_balanceado['texto'] = token_text\n",
    "df_balanceado.head(5)"
   ]
  },
  {
   "cell_type": "code",
   "execution_count": 43,
   "id": "e4d2a077-d1bc-4c84-8ce7-c03b704f7ac6",
   "metadata": {},
   "outputs": [],
   "source": [
    "col = ['categoria', 'texto']\n",
    "df_balanceado = df_balanceado[col]"
   ]
  },
  {
   "cell_type": "code",
   "execution_count": 44,
   "id": "18272ef1-c5c3-4ff8-879a-9f764e8d0435",
   "metadata": {},
   "outputs": [
    {
     "data": {
      "text/html": [
       "<div>\n",
       "<style scoped>\n",
       "    .dataframe tbody tr th:only-of-type {\n",
       "        vertical-align: middle;\n",
       "    }\n",
       "\n",
       "    .dataframe tbody tr th {\n",
       "        vertical-align: top;\n",
       "    }\n",
       "\n",
       "    .dataframe thead th {\n",
       "        text-align: right;\n",
       "    }\n",
       "</style>\n",
       "<table border=\"1\" class=\"dataframe\">\n",
       "  <thead>\n",
       "    <tr style=\"text-align: right;\">\n",
       "      <th></th>\n",
       "      <th>categoria</th>\n",
       "      <th>texto</th>\n",
       "    </tr>\n",
       "  </thead>\n",
       "  <tbody>\n",
       "    <tr>\n",
       "      <th>0</th>\n",
       "      <td>esportes</td>\n",
       "      <td></td>\n",
       "    </tr>\n",
       "    <tr>\n",
       "      <th>1</th>\n",
       "      <td>esportes</td>\n",
       "      <td>chelsea mantem firme ideia contratar volante g...</td>\n",
       "    </tr>\n",
       "    <tr>\n",
       "      <th>2</th>\n",
       "      <td>esportes</td>\n",
       "      <td>camera seguranca mostrou momento exjogador fut...</td>\n",
       "    </tr>\n",
       "    <tr>\n",
       "      <th>3</th>\n",
       "      <td>esportes</td>\n",
       "      <td>esposa daniel alves preso desde janeiro suspei...</td>\n",
       "    </tr>\n",
       "    <tr>\n",
       "      <th>4</th>\n",
       "      <td>esportes</td>\n",
       "      <td>fernando diniz nao quis saber dar pistas sobre...</td>\n",
       "    </tr>\n",
       "  </tbody>\n",
       "</table>\n",
       "</div>"
      ],
      "text/plain": [
       "  categoria                                              texto\n",
       "0  esportes                                                   \n",
       "1  esportes  chelsea mantem firme ideia contratar volante g...\n",
       "2  esportes  camera seguranca mostrou momento exjogador fut...\n",
       "3  esportes  esposa daniel alves preso desde janeiro suspei...\n",
       "4  esportes  fernando diniz nao quis saber dar pistas sobre..."
      ]
     },
     "execution_count": 44,
     "metadata": {},
     "output_type": "execute_result"
    }
   ],
   "source": [
    "df_balanceado.head()"
   ]
  },
  {
   "cell_type": "code",
   "execution_count": 45,
   "id": "5ad5898d-dfde-47db-8d88-05fd8e8e3043",
   "metadata": {},
   "outputs": [
    {
     "data": {
      "text/html": [
       "<div>\n",
       "<style scoped>\n",
       "    .dataframe tbody tr th:only-of-type {\n",
       "        vertical-align: middle;\n",
       "    }\n",
       "\n",
       "    .dataframe tbody tr th {\n",
       "        vertical-align: top;\n",
       "    }\n",
       "\n",
       "    .dataframe thead th {\n",
       "        text-align: right;\n",
       "    }\n",
       "</style>\n",
       "<table border=\"1\" class=\"dataframe\">\n",
       "  <thead>\n",
       "    <tr style=\"text-align: right;\">\n",
       "      <th></th>\n",
       "      <th>categoria</th>\n",
       "      <th>texto</th>\n",
       "      <th>category_id</th>\n",
       "    </tr>\n",
       "  </thead>\n",
       "  <tbody>\n",
       "    <tr>\n",
       "      <th>0</th>\n",
       "      <td>esportes</td>\n",
       "      <td></td>\n",
       "      <td>0</td>\n",
       "    </tr>\n",
       "    <tr>\n",
       "      <th>1</th>\n",
       "      <td>esportes</td>\n",
       "      <td>chelsea mantem firme ideia contratar volante g...</td>\n",
       "      <td>0</td>\n",
       "    </tr>\n",
       "    <tr>\n",
       "      <th>2</th>\n",
       "      <td>esportes</td>\n",
       "      <td>camera seguranca mostrou momento exjogador fut...</td>\n",
       "      <td>0</td>\n",
       "    </tr>\n",
       "    <tr>\n",
       "      <th>3</th>\n",
       "      <td>esportes</td>\n",
       "      <td>esposa daniel alves preso desde janeiro suspei...</td>\n",
       "      <td>0</td>\n",
       "    </tr>\n",
       "    <tr>\n",
       "      <th>4</th>\n",
       "      <td>esportes</td>\n",
       "      <td>fernando diniz nao quis saber dar pistas sobre...</td>\n",
       "      <td>0</td>\n",
       "    </tr>\n",
       "  </tbody>\n",
       "</table>\n",
       "</div>"
      ],
      "text/plain": [
       "  categoria                                              texto  category_id\n",
       "0  esportes                                                               0\n",
       "1  esportes  chelsea mantem firme ideia contratar volante g...            0\n",
       "2  esportes  camera seguranca mostrou momento exjogador fut...            0\n",
       "3  esportes  esposa daniel alves preso desde janeiro suspei...            0\n",
       "4  esportes  fernando diniz nao quis saber dar pistas sobre...            0"
      ]
     },
     "execution_count": 45,
     "metadata": {},
     "output_type": "execute_result"
    }
   ],
   "source": [
    "df_balanceado['category_id'] = df_balanceado['categoria'].factorize()[0]\n",
    "from io import StringIO\n",
    "category_id_df = df_balanceado[['categoria', 'category_id']].drop_duplicates().sort_values('category_id')\n",
    "category_to_id = dict(category_id_df.values)\n",
    "id_to_category = dict(category_id_df[['category_id', 'categoria']].values)\n",
    "df_balanceado.head()"
   ]
  },
  {
   "cell_type": "code",
   "execution_count": 46,
   "id": "89e3f2cd-38af-458d-aabe-c448ee51f876",
   "metadata": {},
   "outputs": [
    {
     "data": {
      "text/plain": [
       "(2700, 20210)"
      ]
     },
     "execution_count": 46,
     "metadata": {},
     "output_type": "execute_result"
    }
   ],
   "source": [
    "## Bag of Words model - TF-IDF\n",
    "from sklearn.feature_extraction.text import TfidfVectorizer\n",
    "tfidf = TfidfVectorizer(sublinear_tf=True, min_df=5, norm='l2', encoding='latin-1', ngram_range=(1, 2), stop_words=sw)\n",
    "features = tfidf.fit_transform(df_balanceado['texto']).toarray()\n",
    "labels = df_balanceado.category_id\n",
    "features.shape"
   ]
  },
  {
   "cell_type": "code",
   "execution_count": 47,
   "id": "a473cad0-5e3e-4e15-b4aa-cdc05ac86c33",
   "metadata": {},
   "outputs": [
    {
     "name": "stdout",
     "output_type": "stream",
     "text": [
      "# 'economia':\n",
      "  . Most correlated unigrams:\n",
      ". mercado\n",
      ". bilhoes\n",
      "  . Most correlated bigrams:\n",
      ". reforma tributaria\n",
      ". banco central\n",
      "# 'entretenimento':\n",
      "  . Most correlated unigrams:\n",
      ". fas\n",
      ". cantora\n",
      "  . Most correlated bigrams:\n",
      ". post shared\n",
      ". shared by\n",
      "# 'esportes':\n",
      "  . Most correlated unigrams:\n",
      ". rodada\n",
      ". campeonato\n",
      "  . Most correlated bigrams:\n",
      ". originalmente itatiaia\n",
      ". itatiaia versao\n",
      "# 'internacional':\n",
      "  . Most correlated unigrams:\n",
      ". gaza\n",
      ". israel\n",
      "  . Most correlated bigrams:\n",
      ". defesa israel\n",
      ". faixa gaza\n",
      "# 'nacional':\n",
      "  . Most correlated unigrams:\n",
      ". civil\n",
      ". policia\n",
      "  . Most correlated bigrams:\n",
      ". defesa civil\n",
      ". policia civil\n",
      "# 'politica':\n",
      "  . Most correlated unigrams:\n",
      ". supremo\n",
      ". stf\n",
      "  . Most correlated bigrams:\n",
      ". supremo tribunal\n",
      ". tribunal federal\n"
     ]
    }
   ],
   "source": [
    "from sklearn.feature_selection import chi2\n",
    "import numpy as np\n",
    "\n",
    "N = 2\n",
    "\n",
    "for categoria, category_id in sorted(category_to_id.items()):\n",
    "  features_chi2 = chi2(features, labels == category_id)\n",
    "  indices = np.argsort(features_chi2[0])\n",
    "  feature_names = np.array(tfidf.get_feature_names_out())[indices]\n",
    "  unigrams = [v for v in feature_names if len(v.split(' ')) == 1]\n",
    "  bigrams = [v for v in feature_names if len(v.split(' ')) == 2]\n",
    "  print(\"# '{}':\".format(categoria))\n",
    "  print(\"  . Most correlated unigrams:\\n. {}\".format('\\n. '.join(unigrams[-N:])))\n",
    "  print(\"  . Most correlated bigrams:\\n. {}\".format('\\n. '.join(bigrams[-N:])))"
   ]
  },
  {
   "cell_type": "code",
   "execution_count": 48,
   "id": "687864a6-c2db-4e50-be02-5fef0fce5b3e",
   "metadata": {},
   "outputs": [],
   "source": [
    "from sklearn.model_selection import train_test_split\n",
    "from sklearn.feature_extraction.text import CountVectorizer\n",
    "from sklearn.feature_extraction.text import TfidfTransformer\n",
    "from sklearn.naive_bayes import MultinomialNB\n",
    "\n",
    "X_train, X_test, y_train, y_test = train_test_split(df_balanceado['texto'], df_balanceado['categoria'], random_state = 2)\n",
    "count_vect = CountVectorizer()\n",
    "X_train_counts = count_vect.fit_transform(X_train)\n",
    "tfidf_transformer = TfidfTransformer()\n",
    "X_train_tfidf = tfidf_transformer.fit_transform(X_train_counts)\n",
    "\n",
    "clf = MultinomialNB().fit(X_train_tfidf, y_train)"
   ]
  },
  {
   "cell_type": "code",
   "execution_count": 49,
   "id": "c6f670a3-9d48-4e9c-b080-d68b1821fca5",
   "metadata": {},
   "outputs": [
    {
     "name": "stderr",
     "output_type": "stream",
     "text": [
      "/home/hworld/.local/lib/python3.10/site-packages/sklearn/svm/_classes.py:31: FutureWarning: The default value of `dual` will change from `True` to `'auto'` in 1.5. Set the value of `dual` explicitly to suppress the warning.\n",
      "  warnings.warn(\n",
      "/home/hworld/.local/lib/python3.10/site-packages/sklearn/svm/_classes.py:31: FutureWarning: The default value of `dual` will change from `True` to `'auto'` in 1.5. Set the value of `dual` explicitly to suppress the warning.\n",
      "  warnings.warn(\n",
      "/home/hworld/.local/lib/python3.10/site-packages/sklearn/svm/_classes.py:31: FutureWarning: The default value of `dual` will change from `True` to `'auto'` in 1.5. Set the value of `dual` explicitly to suppress the warning.\n",
      "  warnings.warn(\n",
      "/home/hworld/.local/lib/python3.10/site-packages/sklearn/svm/_classes.py:31: FutureWarning: The default value of `dual` will change from `True` to `'auto'` in 1.5. Set the value of `dual` explicitly to suppress the warning.\n",
      "  warnings.warn(\n",
      "/home/hworld/.local/lib/python3.10/site-packages/sklearn/svm/_classes.py:31: FutureWarning: The default value of `dual` will change from `True` to `'auto'` in 1.5. Set the value of `dual` explicitly to suppress the warning.\n",
      "  warnings.warn(\n"
     ]
    }
   ],
   "source": [
    "from sklearn.linear_model import LogisticRegression\n",
    "from sklearn.ensemble import RandomForestClassifier\n",
    "from sklearn.naive_bayes import MultinomialNB\n",
    "from sklearn.svm import LinearSVC\n",
    "\n",
    "from sklearn.model_selection import cross_val_score\n",
    "\n",
    "models = [\n",
    "    RandomForestClassifier(n_estimators=200, max_depth=3, random_state=0),\n",
    "    LinearSVC(),\n",
    "    MultinomialNB(),\n",
    "    LogisticRegression(random_state=0),\n",
    "]\n",
    "CV = 5\n",
    "cv_df = pd.DataFrame(index=range(CV * len(models)))\n",
    "entries = []\n",
    "for model in models:\n",
    "  model_name = model.__class__.__name__\n",
    "  accuracies = cross_val_score(model, features, labels, scoring='accuracy', cv=CV)\n",
    "  for fold_idx, accuracy in enumerate(accuracies):\n",
    "    entries.append((model_name, fold_idx, accuracy))\n",
    "cv_df = pd.DataFrame(entries, columns=['model_name', 'fold_idx', 'accuracy'])"
   ]
  },
  {
   "cell_type": "code",
   "execution_count": 50,
   "id": "ada26c75-2146-40bd-ac71-ef25fa7a61f2",
   "metadata": {},
   "outputs": [
    {
     "data": {
      "text/plain": [
       "model_name\n",
       "LinearSVC                 0.913704\n",
       "LogisticRegression        0.898148\n",
       "MultinomialNB             0.891111\n",
       "RandomForestClassifier    0.791481\n",
       "Name: accuracy, dtype: float64"
      ]
     },
     "execution_count": 50,
     "metadata": {},
     "output_type": "execute_result"
    }
   ],
   "source": [
    "cv_df.groupby('model_name').accuracy.mean()"
   ]
  },
  {
   "cell_type": "code",
   "execution_count": 51,
   "id": "f9442d19-ff2b-4fec-b654-b4bdfeafcae4",
   "metadata": {},
   "outputs": [
    {
     "name": "stderr",
     "output_type": "stream",
     "text": [
      "/home/hworld/.local/lib/python3.10/site-packages/sklearn/svm/_classes.py:31: FutureWarning: The default value of `dual` will change from `True` to `'auto'` in 1.5. Set the value of `dual` explicitly to suppress the warning.\n",
      "  warnings.warn(\n"
     ]
    }
   ],
   "source": [
    "from sklearn.model_selection import train_test_split\n",
    "\n",
    "model = LinearSVC()\n",
    "\n",
    "X_train, X_test, y_train, y_test, indices_train, indices_test = train_test_split(features, labels, df_balanceado.index, test_size=0.33, random_state=0)\n",
    "model.fit(X_train, y_train)\n",
    "y_pred = model.predict(X_test)"
   ]
  },
  {
   "cell_type": "code",
   "execution_count": 52,
   "id": "dc190f0a-bf77-436c-8e07-96c061bb534b",
   "metadata": {},
   "outputs": [
    {
     "name": "stdout",
     "output_type": "stream",
     "text": [
      "                precision    recall  f1-score   support\n",
      "\n",
      "      esportes       0.98      0.99      0.99       140\n",
      "      nacional       0.88      0.86      0.87       147\n",
      " internacional       0.94      0.92      0.93       159\n",
      "      economia       0.89      0.91      0.90       137\n",
      "      politica       0.89      0.84      0.87       141\n",
      "entretenimento       0.93      0.98      0.95       167\n",
      "\n",
      "      accuracy                           0.92       891\n",
      "     macro avg       0.92      0.92      0.92       891\n",
      "  weighted avg       0.92      0.92      0.92       891\n",
      "\n"
     ]
    }
   ],
   "source": [
    "from sklearn import metrics\n",
    "print(metrics.classification_report(y_test, y_pred,target_names=df_balanceado['categoria'].unique()))"
   ]
  }
 ],
 "metadata": {
  "kernelspec": {
   "display_name": "Python 3 (ipykernel)",
   "language": "python",
   "name": "python3"
  },
  "language_info": {
   "codemirror_mode": {
    "name": "ipython",
    "version": 3
   },
   "file_extension": ".py",
   "mimetype": "text/x-python",
   "name": "python",
   "nbconvert_exporter": "python",
   "pygments_lexer": "ipython3",
   "version": "3.10.9"
  }
 },
 "nbformat": 4,
 "nbformat_minor": 5
}
