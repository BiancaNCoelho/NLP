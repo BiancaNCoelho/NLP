{
 "cells": [
  {
   "cell_type": "markdown",
   "id": "2dcc6805-62bb-443d-90da-97a664722ced",
   "metadata": {},
   "source": [
    "# Trabalho 1\n",
    "Matéria: Processamento de Linguagem Natural <br>\n",
    "Dupla/Matrícula: Bianca Nunes Coelho - 15102880, Raíssa Nunes Coelho - 15102887 <br> "
   ]
  },
  {
   "cell_type": "markdown",
   "id": "dad90a93-1f3f-4c3d-9526-319fb5b42742",
   "metadata": {},
   "source": [
    "## Introdução\n",
    "\n",
    "Multi Class Classification <br>"
   ]
  },
  {
   "cell_type": "markdown",
   "id": "988aaa3a-0dd6-49e6-a703-ec5b042048fb",
   "metadata": {},
   "source": [
    "## Bibliotecas\n",
    "Bibliotecas do ptyhon utilizadas neste trabalho estão a seguir."
   ]
  },
  {
   "cell_type": "code",
   "execution_count": 1,
   "id": "a3cd0f70-3ec7-4e09-b942-8a08a73bb744",
   "metadata": {},
   "outputs": [],
   "source": [
    "import pandas as pd\n",
    "import re\n",
    "import nltk\n",
    "import spacy\n",
    "import gensim\n",
    "import matplotlib.pyplot as plt"
   ]
  },
  {
   "cell_type": "markdown",
   "id": "1560868d-ad70-4a86-a2c8-ddc37c631191",
   "metadata": {},
   "source": [
    "## Datasets\n",
    "Datasets utilizados estão definidos a seguir."
   ]
  },
  {
   "cell_type": "code",
   "execution_count": 2,
   "id": "35b67696-aaf3-4ac5-9d2a-ee1772410097",
   "metadata": {},
   "outputs": [],
   "source": [
    "file = \"train-00000-of-00001-ecf072e7202447d8.parquet\"\n",
    "df = pd.read_parquet(file, engine= 'pyarrow')"
   ]
  },
  {
   "cell_type": "code",
   "execution_count": 3,
   "id": "ab167922-da09-4405-bd0a-729b239877dc",
   "metadata": {},
   "outputs": [
    {
     "data": {
      "text/plain": [
       "3877"
      ]
     },
     "execution_count": 3,
     "metadata": {},
     "output_type": "execute_result"
    }
   ],
   "source": [
    "len(df)"
   ]
  },
  {
   "cell_type": "code",
   "execution_count": 4,
   "id": "41b78a0c-a498-46e2-8e7b-84f28daf62ca",
   "metadata": {
    "scrolled": true
   },
   "outputs": [
    {
     "data": {
      "text/html": [
       "<div>\n",
       "<style scoped>\n",
       "    .dataframe tbody tr th:only-of-type {\n",
       "        vertical-align: middle;\n",
       "    }\n",
       "\n",
       "    .dataframe tbody tr th {\n",
       "        vertical-align: top;\n",
       "    }\n",
       "\n",
       "    .dataframe thead th {\n",
       "        text-align: right;\n",
       "    }\n",
       "</style>\n",
       "<table border=\"1\" class=\"dataframe\">\n",
       "  <thead>\n",
       "    <tr style=\"text-align: right;\">\n",
       "      <th></th>\n",
       "      <th>titulo</th>\n",
       "      <th>texto</th>\n",
       "      <th>link</th>\n",
       "      <th>resumo</th>\n",
       "      <th>categoria</th>\n",
       "      <th>data_hora</th>\n",
       "    </tr>\n",
       "  </thead>\n",
       "  <tbody>\n",
       "    <tr>\n",
       "      <th>0</th>\n",
       "      <td>Veja a trajetória de Fernando Diniz, em busca ...</td>\n",
       "      <td>Se tem um treinador que sempre foi badalado pe...</td>\n",
       "      <td>https://www.cnnbrasil.com.br/esportes/veja-a-t...</td>\n",
       "      <td>Técnico tricolor e da Seleção Brasileira tem a...</td>\n",
       "      <td>esportes</td>\n",
       "      <td>2023-11-04 12:26:18</td>\n",
       "    </tr>\n",
       "    <tr>\n",
       "      <th>1</th>\n",
       "      <td>Após tempestade com ventos, São Paulo terá sáb...</td>\n",
       "      <td>Após uma tempestade com ventos de mais de 100 ...</td>\n",
       "      <td>https://www.cnnbrasil.com.br/nacional/apos-tem...</td>\n",
       "      <td>Termômetros devem chegar a 26ºC, esquentando a...</td>\n",
       "      <td>nacional</td>\n",
       "      <td>2023-11-04 12:15:44</td>\n",
       "    </tr>\n",
       "    <tr>\n",
       "      <th>2</th>\n",
       "      <td>Como os aplicativos de relacionamento “arruina...</td>\n",
       "      <td>Jenny Nguyen-Don estava com vontade de comer f...</td>\n",
       "      <td>https://www.cnnbrasil.com.br/tecnologia/como-o...</td>\n",
       "      <td>Pessoas em busca de relacionamentos afirmam qu...</td>\n",
       "      <td>tecnologia</td>\n",
       "      <td>2023-11-04 12:15:07</td>\n",
       "    </tr>\n",
       "    <tr>\n",
       "      <th>3</th>\n",
       "      <td>Fluminense pode ser o 26º clube a levantar a t...</td>\n",
       "      <td>O Fluminense vai em busca do primeiro título d...</td>\n",
       "      <td>https://www.cnnbrasil.com.br/esportes/fluminen...</td>\n",
       "      <td>Em busca do título inédito, o Tricolor carioca...</td>\n",
       "      <td>esportes</td>\n",
       "      <td>2023-11-04 12:05:24</td>\n",
       "    </tr>\n",
       "  </tbody>\n",
       "</table>\n",
       "</div>"
      ],
      "text/plain": [
       "                                              titulo  \\\n",
       "0  Veja a trajetória de Fernando Diniz, em busca ...   \n",
       "1  Após tempestade com ventos, São Paulo terá sáb...   \n",
       "2  Como os aplicativos de relacionamento “arruina...   \n",
       "3  Fluminense pode ser o 26º clube a levantar a t...   \n",
       "\n",
       "                                               texto  \\\n",
       "0  Se tem um treinador que sempre foi badalado pe...   \n",
       "1  Após uma tempestade com ventos de mais de 100 ...   \n",
       "2  Jenny Nguyen-Don estava com vontade de comer f...   \n",
       "3  O Fluminense vai em busca do primeiro título d...   \n",
       "\n",
       "                                                link  \\\n",
       "0  https://www.cnnbrasil.com.br/esportes/veja-a-t...   \n",
       "1  https://www.cnnbrasil.com.br/nacional/apos-tem...   \n",
       "2  https://www.cnnbrasil.com.br/tecnologia/como-o...   \n",
       "3  https://www.cnnbrasil.com.br/esportes/fluminen...   \n",
       "\n",
       "                                              resumo   categoria  \\\n",
       "0  Técnico tricolor e da Seleção Brasileira tem a...    esportes   \n",
       "1  Termômetros devem chegar a 26ºC, esquentando a...    nacional   \n",
       "2  Pessoas em busca de relacionamentos afirmam qu...  tecnologia   \n",
       "3  Em busca do título inédito, o Tricolor carioca...    esportes   \n",
       "\n",
       "             data_hora  \n",
       "0  2023-11-04 12:26:18  \n",
       "1  2023-11-04 12:15:44  \n",
       "2  2023-11-04 12:15:07  \n",
       "3  2023-11-04 12:05:24  "
      ]
     },
     "execution_count": 4,
     "metadata": {},
     "output_type": "execute_result"
    }
   ],
   "source": [
    "df.head(4)"
   ]
  },
  {
   "cell_type": "markdown",
   "id": "8aa6f7f3-edb4-4990-9cca-4b80617f41dd",
   "metadata": {},
   "source": [
    "## Balanceamento"
   ]
  },
  {
   "cell_type": "code",
   "execution_count": 5,
   "id": "3ef5e8fa-9005-40f3-b0fd-2a9d50cb97dd",
   "metadata": {},
   "outputs": [
    {
     "data": {
      "text/plain": [
       "esportes           960\n",
       "nacional           623\n",
       "internacional      618\n",
       "economia           562\n",
       "politica           507\n",
       "entretenimento     450\n",
       "tecnologia          44\n",
       "saude               41\n",
       "noticias            38\n",
       "lifestyle           21\n",
       "branded-content     13\n",
       "Name: categoria, dtype: int64"
      ]
     },
     "execution_count": 5,
     "metadata": {},
     "output_type": "execute_result"
    }
   ],
   "source": [
    "df['categoria'].value_counts()"
   ]
  },
  {
   "cell_type": "code",
   "execution_count": 6,
   "id": "498911e8-906e-41dc-9bdc-039d09b4c4ce",
   "metadata": {},
   "outputs": [
    {
     "data": {
      "text/plain": [
       "<AxesSubplot: >"
      ]
     },
     "execution_count": 6,
     "metadata": {},
     "output_type": "execute_result"
    },
    {
     "data": {
      "image/png": "[encoded data removed]",
      "text/plain": [
       "<Figure size 1000x400 with 1 Axes>"
      ]
     },
     "metadata": {},
     "output_type": "display_data"
    }
   ],
   "source": [
    "plt.figure(figsize=(10,4))\n",
    "df.categoria.value_counts().plot(kind='bar')"
   ]
  },
  {
   "cell_type": "code",
   "execution_count": 7,
   "id": "696e88a5-62a5-46c3-acec-8575da709518",
   "metadata": {},
   "outputs": [],
   "source": [
    "indice_linha_remover = ['tecnologia',  'saude','noticias','lifestyle','branded-content']"
   ]
  },
  {
   "cell_type": "code",
   "execution_count": 8,
   "id": "c971502d-21ba-40dd-8dab-3bd93640fad6",
   "metadata": {},
   "outputs": [],
   "source": [
    "df = df[~df['categoria'].isin(indice_linha_remover)]"
   ]
  },
  {
   "cell_type": "code",
   "execution_count": 9,
   "id": "519d61c7-a98e-4703-a157-455a39e71b7b",
   "metadata": {},
   "outputs": [
    {
     "data": {
      "text/plain": [
       "esportes          960\n",
       "nacional          623\n",
       "internacional     618\n",
       "economia          562\n",
       "politica          507\n",
       "entretenimento    450\n",
       "Name: categoria, dtype: int64"
      ]
     },
     "execution_count": 9,
     "metadata": {},
     "output_type": "execute_result"
    }
   ],
   "source": [
    "df['categoria'].value_counts()"
   ]
  },
  {
   "cell_type": "code",
   "execution_count": 10,
   "id": "8b080baf-1753-4f8c-88ba-ee247c734a79",
   "metadata": {},
   "outputs": [],
   "source": [
    "# Undersampling\n",
    "min = df['categoria'].value_counts().min()\n",
    "\n",
    "amostras = []\n",
    "\n",
    "for i in df['categoria'].value_counts().index:\n",
    "    a = df[df['categoria'] == i].sample(min, replace=False)\n",
    "    amostras.append(a)\n",
    "\n",
    "df_balanceado = pd.concat(amostras)"
   ]
  },
  {
   "cell_type": "code",
   "execution_count": 11,
   "id": "90d0307b-f2bf-4988-aa52-8795343fdfe1",
   "metadata": {},
   "outputs": [
    {
     "data": {
      "text/plain": [
       "esportes          450\n",
       "nacional          450\n",
       "internacional     450\n",
       "economia          450\n",
       "politica          450\n",
       "entretenimento    450\n",
       "Name: categoria, dtype: int64"
      ]
     },
     "execution_count": 11,
     "metadata": {},
     "output_type": "execute_result"
    }
   ],
   "source": [
    "df_balanceado['categoria'].value_counts()"
   ]
  },
  {
   "cell_type": "code",
   "execution_count": 12,
   "id": "892752bf-2247-4e1c-bb90-1c673908ad1c",
   "metadata": {},
   "outputs": [
    {
     "data": {
      "text/html": [
       "<div>\n",
       "<style scoped>\n",
       "    .dataframe tbody tr th:only-of-type {\n",
       "        vertical-align: middle;\n",
       "    }\n",
       "\n",
       "    .dataframe tbody tr th {\n",
       "        vertical-align: top;\n",
       "    }\n",
       "\n",
       "    .dataframe thead th {\n",
       "        text-align: right;\n",
       "    }\n",
       "</style>\n",
       "<table border=\"1\" class=\"dataframe\">\n",
       "  <thead>\n",
       "    <tr style=\"text-align: right;\">\n",
       "      <th></th>\n",
       "      <th>titulo</th>\n",
       "      <th>texto</th>\n",
       "      <th>link</th>\n",
       "      <th>resumo</th>\n",
       "      <th>categoria</th>\n",
       "      <th>data_hora</th>\n",
       "    </tr>\n",
       "  </thead>\n",
       "  <tbody>\n",
       "    <tr>\n",
       "      <th>0</th>\n",
       "      <td>Racismo e xenofobia: torcedor do Boca imita ma...</td>\n",
       "      <td>Um torcedor do Boca Juniors imitou um macaco, ...</td>\n",
       "      <td>https://www.cnnbrasil.com.br/esportes/racismo-...</td>\n",
       "      <td>Boca Juniors e Fluminense decidem a Copa Liber...</td>\n",
       "      <td>esportes</td>\n",
       "      <td>2023-11-04 19:14:18</td>\n",
       "    </tr>\n",
       "    <tr>\n",
       "      <th>1</th>\n",
       "      <td>Bahia x São Paulo é paralisado após refletores...</td>\n",
       "      <td>Um incidente incomum paralisou por aproximadam...</td>\n",
       "      <td>https://www.cnnbrasil.com.br/esportes/bahia-x-...</td>\n",
       "      <td>Incidente aconteceu aos 12 minutos de jogo e f...</td>\n",
       "      <td>esportes</td>\n",
       "      <td>2023-11-29 23:49:55</td>\n",
       "    </tr>\n",
       "    <tr>\n",
       "      <th>2</th>\n",
       "      <td>Athletico-PR x Vasco: onde assistir e tempo re...</td>\n",
       "      <td>Athletico-PR e Vasco entram em campo neste sáb...</td>\n",
       "      <td>https://www.cnnbrasil.com.br/esportes/athletic...</td>\n",
       "      <td>Onde assistir e tempo real dos lances e das es...</td>\n",
       "      <td>esportes</td>\n",
       "      <td>2023-11-25 07:00:06</td>\n",
       "    </tr>\n",
       "    <tr>\n",
       "      <th>3</th>\n",
       "      <td>Ucrânia x Itália ao vivo: acompanhe o jogo pel...</td>\n",
       "      <td></td>\n",
       "      <td>https://www.cnnbrasil.com.br/esportes/ucrania-...</td>\n",
       "      <td>Onde assistir e tempo real dos lances e das es...</td>\n",
       "      <td>esportes</td>\n",
       "      <td>2023-11-20 07:00:23</td>\n",
       "    </tr>\n",
       "    <tr>\n",
       "      <th>4</th>\n",
       "      <td>Copenhagen x Manchester United ao vivo: acompa...</td>\n",
       "      <td>Leia Mais</td>\n",
       "      <td>https://www.cnnbrasil.com.br/esportes/copenhag...</td>\n",
       "      <td>Onde assistir e tempo real dos lances e das es...</td>\n",
       "      <td>esportes</td>\n",
       "      <td>2023-11-08 07:00:53</td>\n",
       "    </tr>\n",
       "  </tbody>\n",
       "</table>\n",
       "</div>"
      ],
      "text/plain": [
       "                                              titulo  \\\n",
       "0  Racismo e xenofobia: torcedor do Boca imita ma...   \n",
       "1  Bahia x São Paulo é paralisado após refletores...   \n",
       "2  Athletico-PR x Vasco: onde assistir e tempo re...   \n",
       "3  Ucrânia x Itália ao vivo: acompanhe o jogo pel...   \n",
       "4  Copenhagen x Manchester United ao vivo: acompa...   \n",
       "\n",
       "                                               texto  \\\n",
       "0  Um torcedor do Boca Juniors imitou um macaco, ...   \n",
       "1  Um incidente incomum paralisou por aproximadam...   \n",
       "2  Athletico-PR e Vasco entram em campo neste sáb...   \n",
       "3                                                      \n",
       "4                                          Leia Mais   \n",
       "\n",
       "                                                link  \\\n",
       "0  https://www.cnnbrasil.com.br/esportes/racismo-...   \n",
       "1  https://www.cnnbrasil.com.br/esportes/bahia-x-...   \n",
       "2  https://www.cnnbrasil.com.br/esportes/athletic...   \n",
       "3  https://www.cnnbrasil.com.br/esportes/ucrania-...   \n",
       "4  https://www.cnnbrasil.com.br/esportes/copenhag...   \n",
       "\n",
       "                                              resumo categoria  \\\n",
       "0  Boca Juniors e Fluminense decidem a Copa Liber...  esportes   \n",
       "1  Incidente aconteceu aos 12 minutos de jogo e f...  esportes   \n",
       "2  Onde assistir e tempo real dos lances e das es...  esportes   \n",
       "3  Onde assistir e tempo real dos lances e das es...  esportes   \n",
       "4  Onde assistir e tempo real dos lances e das es...  esportes   \n",
       "\n",
       "             data_hora  \n",
       "0  2023-11-04 19:14:18  \n",
       "1  2023-11-29 23:49:55  \n",
       "2  2023-11-25 07:00:06  \n",
       "3  2023-11-20 07:00:23  \n",
       "4  2023-11-08 07:00:53  "
      ]
     },
     "execution_count": 12,
     "metadata": {},
     "output_type": "execute_result"
    }
   ],
   "source": [
    "df_balanceado = df_balanceado.reset_index(drop=True)\n",
    "df_balanceado.head(5)"
   ]
  },
  {
   "cell_type": "code",
   "execution_count": 13,
   "id": "adf3e922-5d63-42cc-9a2a-4d6c3214fc62",
   "metadata": {},
   "outputs": [],
   "source": [
    "df_balanceado2 = df_balanceado.copy()\n",
    "df_balanceado3 = df_balanceado.copy()"
   ]
  },
  {
   "cell_type": "code",
   "execution_count": 14,
   "id": "1af4a198-bf97-4adb-a205-5d464decb9bc",
   "metadata": {},
   "outputs": [
    {
     "data": {
      "text/html": [
       "<div>\n",
       "<style scoped>\n",
       "    .dataframe tbody tr th:only-of-type {\n",
       "        vertical-align: middle;\n",
       "    }\n",
       "\n",
       "    .dataframe tbody tr th {\n",
       "        vertical-align: top;\n",
       "    }\n",
       "\n",
       "    .dataframe thead th {\n",
       "        text-align: right;\n",
       "    }\n",
       "</style>\n",
       "<table border=\"1\" class=\"dataframe\">\n",
       "  <thead>\n",
       "    <tr style=\"text-align: right;\">\n",
       "      <th></th>\n",
       "      <th>titulo</th>\n",
       "      <th>texto</th>\n",
       "      <th>link</th>\n",
       "      <th>resumo</th>\n",
       "      <th>categoria</th>\n",
       "      <th>data_hora</th>\n",
       "    </tr>\n",
       "  </thead>\n",
       "  <tbody>\n",
       "    <tr>\n",
       "      <th>0</th>\n",
       "      <td>Racismo e xenofobia: torcedor do Boca imita ma...</td>\n",
       "      <td>Um torcedor do Boca Juniors imitou um macaco, ...</td>\n",
       "      <td>https://www.cnnbrasil.com.br/esportes/racismo-...</td>\n",
       "      <td>Boca Juniors e Fluminense decidem a Copa Liber...</td>\n",
       "      <td>esportes</td>\n",
       "      <td>2023-11-04 19:14:18</td>\n",
       "    </tr>\n",
       "    <tr>\n",
       "      <th>1</th>\n",
       "      <td>Bahia x São Paulo é paralisado após refletores...</td>\n",
       "      <td>Um incidente incomum paralisou por aproximadam...</td>\n",
       "      <td>https://www.cnnbrasil.com.br/esportes/bahia-x-...</td>\n",
       "      <td>Incidente aconteceu aos 12 minutos de jogo e f...</td>\n",
       "      <td>esportes</td>\n",
       "      <td>2023-11-29 23:49:55</td>\n",
       "    </tr>\n",
       "    <tr>\n",
       "      <th>2</th>\n",
       "      <td>Athletico-PR x Vasco: onde assistir e tempo re...</td>\n",
       "      <td>Athletico-PR e Vasco entram em campo neste sáb...</td>\n",
       "      <td>https://www.cnnbrasil.com.br/esportes/athletic...</td>\n",
       "      <td>Onde assistir e tempo real dos lances e das es...</td>\n",
       "      <td>esportes</td>\n",
       "      <td>2023-11-25 07:00:06</td>\n",
       "    </tr>\n",
       "    <tr>\n",
       "      <th>3</th>\n",
       "      <td>Ucrânia x Itália ao vivo: acompanhe o jogo pel...</td>\n",
       "      <td></td>\n",
       "      <td>https://www.cnnbrasil.com.br/esportes/ucrania-...</td>\n",
       "      <td>Onde assistir e tempo real dos lances e das es...</td>\n",
       "      <td>esportes</td>\n",
       "      <td>2023-11-20 07:00:23</td>\n",
       "    </tr>\n",
       "    <tr>\n",
       "      <th>4</th>\n",
       "      <td>Copenhagen x Manchester United ao vivo: acompa...</td>\n",
       "      <td>Leia Mais</td>\n",
       "      <td>https://www.cnnbrasil.com.br/esportes/copenhag...</td>\n",
       "      <td>Onde assistir e tempo real dos lances e das es...</td>\n",
       "      <td>esportes</td>\n",
       "      <td>2023-11-08 07:00:53</td>\n",
       "    </tr>\n",
       "  </tbody>\n",
       "</table>\n",
       "</div>"
      ],
      "text/plain": [
       "                                              titulo  \\\n",
       "0  Racismo e xenofobia: torcedor do Boca imita ma...   \n",
       "1  Bahia x São Paulo é paralisado após refletores...   \n",
       "2  Athletico-PR x Vasco: onde assistir e tempo re...   \n",
       "3  Ucrânia x Itália ao vivo: acompanhe o jogo pel...   \n",
       "4  Copenhagen x Manchester United ao vivo: acompa...   \n",
       "\n",
       "                                               texto  \\\n",
       "0  Um torcedor do Boca Juniors imitou um macaco, ...   \n",
       "1  Um incidente incomum paralisou por aproximadam...   \n",
       "2  Athletico-PR e Vasco entram em campo neste sáb...   \n",
       "3                                                      \n",
       "4                                          Leia Mais   \n",
       "\n",
       "                                                link  \\\n",
       "0  https://www.cnnbrasil.com.br/esportes/racismo-...   \n",
       "1  https://www.cnnbrasil.com.br/esportes/bahia-x-...   \n",
       "2  https://www.cnnbrasil.com.br/esportes/athletic...   \n",
       "3  https://www.cnnbrasil.com.br/esportes/ucrania-...   \n",
       "4  https://www.cnnbrasil.com.br/esportes/copenhag...   \n",
       "\n",
       "                                              resumo categoria  \\\n",
       "0  Boca Juniors e Fluminense decidem a Copa Liber...  esportes   \n",
       "1  Incidente aconteceu aos 12 minutos de jogo e f...  esportes   \n",
       "2  Onde assistir e tempo real dos lances e das es...  esportes   \n",
       "3  Onde assistir e tempo real dos lances e das es...  esportes   \n",
       "4  Onde assistir e tempo real dos lances e das es...  esportes   \n",
       "\n",
       "             data_hora  \n",
       "0  2023-11-04 19:14:18  \n",
       "1  2023-11-29 23:49:55  \n",
       "2  2023-11-25 07:00:06  \n",
       "3  2023-11-20 07:00:23  \n",
       "4  2023-11-08 07:00:53  "
      ]
     },
     "execution_count": 14,
     "metadata": {},
     "output_type": "execute_result"
    }
   ],
   "source": [
    "df_balanceado2.head()"
   ]
  },
  {
   "cell_type": "code",
   "execution_count": 15,
   "id": "17184f95-683d-4dcd-a4e9-b85235ce73c3",
   "metadata": {},
   "outputs": [
    {
     "data": {
      "text/html": [
       "<div>\n",
       "<style scoped>\n",
       "    .dataframe tbody tr th:only-of-type {\n",
       "        vertical-align: middle;\n",
       "    }\n",
       "\n",
       "    .dataframe tbody tr th {\n",
       "        vertical-align: top;\n",
       "    }\n",
       "\n",
       "    .dataframe thead th {\n",
       "        text-align: right;\n",
       "    }\n",
       "</style>\n",
       "<table border=\"1\" class=\"dataframe\">\n",
       "  <thead>\n",
       "    <tr style=\"text-align: right;\">\n",
       "      <th></th>\n",
       "      <th>titulo</th>\n",
       "      <th>texto</th>\n",
       "      <th>link</th>\n",
       "      <th>resumo</th>\n",
       "      <th>categoria</th>\n",
       "      <th>data_hora</th>\n",
       "    </tr>\n",
       "  </thead>\n",
       "  <tbody>\n",
       "    <tr>\n",
       "      <th>0</th>\n",
       "      <td>Racismo e xenofobia: torcedor do Boca imita ma...</td>\n",
       "      <td>Um torcedor do Boca Juniors imitou um macaco, ...</td>\n",
       "      <td>https://www.cnnbrasil.com.br/esportes/racismo-...</td>\n",
       "      <td>Boca Juniors e Fluminense decidem a Copa Liber...</td>\n",
       "      <td>esportes</td>\n",
       "      <td>2023-11-04 19:14:18</td>\n",
       "    </tr>\n",
       "    <tr>\n",
       "      <th>1</th>\n",
       "      <td>Bahia x São Paulo é paralisado após refletores...</td>\n",
       "      <td>Um incidente incomum paralisou por aproximadam...</td>\n",
       "      <td>https://www.cnnbrasil.com.br/esportes/bahia-x-...</td>\n",
       "      <td>Incidente aconteceu aos 12 minutos de jogo e f...</td>\n",
       "      <td>esportes</td>\n",
       "      <td>2023-11-29 23:49:55</td>\n",
       "    </tr>\n",
       "    <tr>\n",
       "      <th>2</th>\n",
       "      <td>Athletico-PR x Vasco: onde assistir e tempo re...</td>\n",
       "      <td>Athletico-PR e Vasco entram em campo neste sáb...</td>\n",
       "      <td>https://www.cnnbrasil.com.br/esportes/athletic...</td>\n",
       "      <td>Onde assistir e tempo real dos lances e das es...</td>\n",
       "      <td>esportes</td>\n",
       "      <td>2023-11-25 07:00:06</td>\n",
       "    </tr>\n",
       "    <tr>\n",
       "      <th>3</th>\n",
       "      <td>Ucrânia x Itália ao vivo: acompanhe o jogo pel...</td>\n",
       "      <td></td>\n",
       "      <td>https://www.cnnbrasil.com.br/esportes/ucrania-...</td>\n",
       "      <td>Onde assistir e tempo real dos lances e das es...</td>\n",
       "      <td>esportes</td>\n",
       "      <td>2023-11-20 07:00:23</td>\n",
       "    </tr>\n",
       "    <tr>\n",
       "      <th>4</th>\n",
       "      <td>Copenhagen x Manchester United ao vivo: acompa...</td>\n",
       "      <td>Leia Mais</td>\n",
       "      <td>https://www.cnnbrasil.com.br/esportes/copenhag...</td>\n",
       "      <td>Onde assistir e tempo real dos lances e das es...</td>\n",
       "      <td>esportes</td>\n",
       "      <td>2023-11-08 07:00:53</td>\n",
       "    </tr>\n",
       "  </tbody>\n",
       "</table>\n",
       "</div>"
      ],
      "text/plain": [
       "                                              titulo  \\\n",
       "0  Racismo e xenofobia: torcedor do Boca imita ma...   \n",
       "1  Bahia x São Paulo é paralisado após refletores...   \n",
       "2  Athletico-PR x Vasco: onde assistir e tempo re...   \n",
       "3  Ucrânia x Itália ao vivo: acompanhe o jogo pel...   \n",
       "4  Copenhagen x Manchester United ao vivo: acompa...   \n",
       "\n",
       "                                               texto  \\\n",
       "0  Um torcedor do Boca Juniors imitou um macaco, ...   \n",
       "1  Um incidente incomum paralisou por aproximadam...   \n",
       "2  Athletico-PR e Vasco entram em campo neste sáb...   \n",
       "3                                                      \n",
       "4                                          Leia Mais   \n",
       "\n",
       "                                                link  \\\n",
       "0  https://www.cnnbrasil.com.br/esportes/racismo-...   \n",
       "1  https://www.cnnbrasil.com.br/esportes/bahia-x-...   \n",
       "2  https://www.cnnbrasil.com.br/esportes/athletic...   \n",
       "3  https://www.cnnbrasil.com.br/esportes/ucrania-...   \n",
       "4  https://www.cnnbrasil.com.br/esportes/copenhag...   \n",
       "\n",
       "                                              resumo categoria  \\\n",
       "0  Boca Juniors e Fluminense decidem a Copa Liber...  esportes   \n",
       "1  Incidente aconteceu aos 12 minutos de jogo e f...  esportes   \n",
       "2  Onde assistir e tempo real dos lances e das es...  esportes   \n",
       "3  Onde assistir e tempo real dos lances e das es...  esportes   \n",
       "4  Onde assistir e tempo real dos lances e das es...  esportes   \n",
       "\n",
       "             data_hora  \n",
       "0  2023-11-04 19:14:18  \n",
       "1  2023-11-29 23:49:55  \n",
       "2  2023-11-25 07:00:06  \n",
       "3  2023-11-20 07:00:23  \n",
       "4  2023-11-08 07:00:53  "
      ]
     },
     "execution_count": 15,
     "metadata": {},
     "output_type": "execute_result"
    }
   ],
   "source": [
    "df_balanceado3.head()"
   ]
  },
  {
   "cell_type": "code",
   "execution_count": 16,
   "id": "2ae37d80-d01e-4fd2-8453-4a89eaa24937",
   "metadata": {},
   "outputs": [
    {
     "data": {
      "text/plain": [
       "2700"
      ]
     },
     "execution_count": 16,
     "metadata": {},
     "output_type": "execute_result"
    }
   ],
   "source": [
    "# pega coluna\n",
    "text = df_balanceado['texto'] # para NLTK\n",
    "text2 = df_balanceado2['texto'] # para spaCy\n",
    "text3 = df_balanceado3['texto'] # para Gensim\n",
    "len(text)"
   ]
  },
  {
   "cell_type": "code",
   "execution_count": 17,
   "id": "5022a379-5739-4952-a864-c866105f76c6",
   "metadata": {},
   "outputs": [
    {
     "data": {
      "text/plain": [
       "'Um torcedor do Boca Juniors imitou um macaco, em provocação aos brasileiros, durante uma entrada ao vivo da emissora argentina\\xa0TN, no entorno do Maracanã, neste sábado, antes da final da Copa Libertadores.  A post shared by Itatiaia Esporte (@itatiaiaesporte)  A reportagem registrava as reclamações dos argentinos do lado de fora do estádio pela forma como foram recebidos pela Polícia Militar do Rio de Janeiro. O torcedor surgiu e começou a fazer gestos de macaco e a xingar os brasileiros.  Leia mais  Diante do grande volume de torcedores do Boca e da desorganização no acesso ao Maracanã, a PM disparou tiros com balas de borracha e bombas de efeito moral. Houve muito corre-corre e pessoas passando mal.'"
      ]
     },
     "execution_count": 17,
     "metadata": {},
     "output_type": "execute_result"
    }
   ],
   "source": [
    "text[0]"
   ]
  },
  {
   "cell_type": "code",
   "execution_count": 18,
   "id": "5d4514e9-6613-4ea6-8788-3c062d7017f7",
   "metadata": {},
   "outputs": [],
   "source": [
    "categorias = ['esportes','nacional', 'internacional', 'economia', 'politica', 'entretenimento']"
   ]
  },
  {
   "cell_type": "markdown",
   "id": "7db9049f-049d-461f-859e-f3cc6f973578",
   "metadata": {},
   "source": [
    "## Pré-processamento"
   ]
  },
  {
   "cell_type": "markdown",
   "id": "02977b39-1e4d-4f7e-92b8-06bebd2112c8",
   "metadata": {},
   "source": [
    "### NLTK"
   ]
  },
  {
   "cell_type": "code",
   "execution_count": 19,
   "id": "576c1475-b309-4f49-a34b-2b35a9cc5047",
   "metadata": {},
   "outputs": [],
   "source": [
    "for i in range(len(text)):\n",
    "    text[i] = text[i].lower()"
   ]
  },
  {
   "cell_type": "code",
   "execution_count": 20,
   "id": "46decafe-5c86-4cc0-b3fe-581dfc26fbcd",
   "metadata": {},
   "outputs": [],
   "source": [
    "from unidecode import unidecode\n",
    "\n",
    "for i in range(len(text)):\n",
    "    text[i] = unidecode(text[i])"
   ]
  },
  {
   "cell_type": "code",
   "execution_count": 21,
   "id": "b0784904-6dee-4306-b60f-125e87052ffd",
   "metadata": {},
   "outputs": [],
   "source": [
    "for i in range(len(text)):\n",
    "    text[i] = re.sub(r'[^a-zA-Z\\s]', \"\" ,text[i])"
   ]
  },
  {
   "cell_type": "code",
   "execution_count": 22,
   "id": "89c8ad61-6faa-48ee-b9f4-fbcd9fa12224",
   "metadata": {},
   "outputs": [
    {
     "name": "stdout",
     "output_type": "stream",
     "text": [
      "um torcedor do boca juniors imitou um macaco em provocacao aos brasileiros durante uma entrada ao vivo da emissora argentina tn no entorno do maracana neste sabado antes da final da copa libertadores  a post shared by itatiaia esporte itatiaiaesporte  a reportagem registrava as reclamacoes dos argentinos do lado de fora do estadio pela forma como foram recebidos pela policia militar do rio de janeiro o torcedor surgiu e comecou a fazer gestos de macaco e a xingar os brasileiros  leia mais  diante do grande volume de torcedores do boca e da desorganizacao no acesso ao maracana a pm disparou tiros com balas de borracha e bombas de efeito moral houve muito correcorre e pessoas passando mal\n"
     ]
    }
   ],
   "source": [
    "print(text[0])"
   ]
  },
  {
   "cell_type": "code",
   "execution_count": 23,
   "id": "2534f4b8-ff0a-4351-94a3-66ee72e1ffd3",
   "metadata": {},
   "outputs": [],
   "source": [
    "token_text = []\n",
    "\n",
    "for j in text:\n",
    "    token_text.append(nltk.word_tokenize(j))"
   ]
  },
  {
   "cell_type": "code",
   "execution_count": 24,
   "id": "a6124e77-e0d1-4d1e-b9bf-17f171695772",
   "metadata": {},
   "outputs": [
    {
     "name": "stdout",
     "output_type": "stream",
     "text": [
      "['um', 'torcedor', 'do', 'boca', 'juniors', 'imitou', 'um', 'macaco', 'em', 'provocacao', 'aos', 'brasileiros', 'durante', 'uma', 'entrada', 'ao', 'vivo', 'da', 'emissora', 'argentina', 'tn', 'no', 'entorno', 'do', 'maracana', 'neste', 'sabado', 'antes', 'da', 'final', 'da', 'copa', 'libertadores', 'a', 'post', 'shared', 'by', 'itatiaia', 'esporte', 'itatiaiaesporte', 'a', 'reportagem', 'registrava', 'as', 'reclamacoes', 'dos', 'argentinos', 'do', 'lado', 'de', 'fora', 'do', 'estadio', 'pela', 'forma', 'como', 'foram', 'recebidos', 'pela', 'policia', 'militar', 'do', 'rio', 'de', 'janeiro', 'o', 'torcedor', 'surgiu', 'e', 'comecou', 'a', 'fazer', 'gestos', 'de', 'macaco', 'e', 'a', 'xingar', 'os', 'brasileiros', 'leia', 'mais', 'diante', 'do', 'grande', 'volume', 'de', 'torcedores', 'do', 'boca', 'e', 'da', 'desorganizacao', 'no', 'acesso', 'ao', 'maracana', 'a', 'pm', 'disparou', 'tiros', 'com', 'balas', 'de', 'borracha', 'e', 'bombas', 'de', 'efeito', 'moral', 'houve', 'muito', 'correcorre', 'e', 'pessoas', 'passando', 'mal']\n"
     ]
    }
   ],
   "source": [
    "print(token_text[0])"
   ]
  },
  {
   "cell_type": "code",
   "execution_count": 25,
   "id": "9e891517-f3dd-491c-a02e-7fe17e0ecff7",
   "metadata": {},
   "outputs": [
    {
     "name": "stderr",
     "output_type": "stream",
     "text": [
      "[nltk_data] Downloading package stopwords to /home/hworld/nltk_data...\n",
      "[nltk_data]   Package stopwords is already up-to-date!\n"
     ]
    },
    {
     "data": {
      "text/plain": [
       "True"
      ]
     },
     "execution_count": 25,
     "metadata": {},
     "output_type": "execute_result"
    }
   ],
   "source": [
    "nltk.download('stopwords')"
   ]
  },
  {
   "cell_type": "code",
   "execution_count": 26,
   "id": "7ce4e6e6-b023-4dd0-b5b3-624c55220bed",
   "metadata": {},
   "outputs": [],
   "source": [
    "from nltk.corpus import stopwords\n",
    "sw = stopwords.words('portuguese')"
   ]
  },
  {
   "cell_type": "code",
   "execution_count": 27,
   "id": "c7a094e5-44b5-4079-bfff-1201a537ded8",
   "metadata": {},
   "outputs": [],
   "source": [
    "for stop in sw:\n",
    "    for text in token_text:\n",
    "        for t in text:\n",
    "            if(t == stop):\n",
    "                text.remove(t)"
   ]
  },
  {
   "cell_type": "code",
   "execution_count": 28,
   "id": "6a9a56b7-e028-43f7-bc0b-d0c6dcc31604",
   "metadata": {},
   "outputs": [
    {
     "name": "stdout",
     "output_type": "stream",
     "text": [
      "['torcedor', 'boca', 'juniors', 'imitou', 'macaco', 'provocacao', 'brasileiros', 'durante', 'entrada', 'vivo', 'emissora', 'argentina', 'tn', 'entorno', 'maracana', 'neste', 'sabado', 'antes', 'final', 'copa', 'libertadores', 'post', 'shared', 'by', 'itatiaia', 'esporte', 'itatiaiaesporte', 'reportagem', 'registrava', 'reclamacoes', 'argentinos', 'lado', 'estadio', 'forma', 'recebidos', 'policia', 'militar', 'rio', 'janeiro', 'torcedor', 'surgiu', 'comecou', 'fazer', 'gestos', 'macaco', 'xingar', 'brasileiros', 'leia', 'diante', 'grande', 'volume', 'torcedores', 'boca', 'desorganizacao', 'acesso', 'maracana', 'pm', 'disparou', 'tiros', 'balas', 'borracha', 'bombas', 'efeito', 'moral', 'correcorre', 'pessoas', 'passando', 'mal']\n"
     ]
    }
   ],
   "source": [
    "print(token_text[0])"
   ]
  },
  {
   "cell_type": "code",
   "execution_count": 29,
   "id": "75724920-33df-45ea-bc66-62cd512dc49e",
   "metadata": {},
   "outputs": [
    {
     "data": {
      "text/html": [
       "<div>\n",
       "<style scoped>\n",
       "    .dataframe tbody tr th:only-of-type {\n",
       "        vertical-align: middle;\n",
       "    }\n",
       "\n",
       "    .dataframe tbody tr th {\n",
       "        vertical-align: top;\n",
       "    }\n",
       "\n",
       "    .dataframe thead th {\n",
       "        text-align: right;\n",
       "    }\n",
       "</style>\n",
       "<table border=\"1\" class=\"dataframe\">\n",
       "  <thead>\n",
       "    <tr style=\"text-align: right;\">\n",
       "      <th></th>\n",
       "      <th>titulo</th>\n",
       "      <th>texto</th>\n",
       "      <th>link</th>\n",
       "      <th>resumo</th>\n",
       "      <th>categoria</th>\n",
       "      <th>data_hora</th>\n",
       "    </tr>\n",
       "  </thead>\n",
       "  <tbody>\n",
       "    <tr>\n",
       "      <th>0</th>\n",
       "      <td>Racismo e xenofobia: torcedor do Boca imita ma...</td>\n",
       "      <td>[torcedor, boca, juniors, imitou, macaco, prov...</td>\n",
       "      <td>https://www.cnnbrasil.com.br/esportes/racismo-...</td>\n",
       "      <td>Boca Juniors e Fluminense decidem a Copa Liber...</td>\n",
       "      <td>esportes</td>\n",
       "      <td>2023-11-04 19:14:18</td>\n",
       "    </tr>\n",
       "    <tr>\n",
       "      <th>1</th>\n",
       "      <td>Bahia x São Paulo é paralisado após refletores...</td>\n",
       "      <td>[incidente, incomum, paralisou, aproximadament...</td>\n",
       "      <td>https://www.cnnbrasil.com.br/esportes/bahia-x-...</td>\n",
       "      <td>Incidente aconteceu aos 12 minutos de jogo e f...</td>\n",
       "      <td>esportes</td>\n",
       "      <td>2023-11-29 23:49:55</td>\n",
       "    </tr>\n",
       "  </tbody>\n",
       "</table>\n",
       "</div>"
      ],
      "text/plain": [
       "                                              titulo  \\\n",
       "0  Racismo e xenofobia: torcedor do Boca imita ma...   \n",
       "1  Bahia x São Paulo é paralisado após refletores...   \n",
       "\n",
       "                                               texto  \\\n",
       "0  [torcedor, boca, juniors, imitou, macaco, prov...   \n",
       "1  [incidente, incomum, paralisou, aproximadament...   \n",
       "\n",
       "                                                link  \\\n",
       "0  https://www.cnnbrasil.com.br/esportes/racismo-...   \n",
       "1  https://www.cnnbrasil.com.br/esportes/bahia-x-...   \n",
       "\n",
       "                                              resumo categoria  \\\n",
       "0  Boca Juniors e Fluminense decidem a Copa Liber...  esportes   \n",
       "1  Incidente aconteceu aos 12 minutos de jogo e f...  esportes   \n",
       "\n",
       "             data_hora  \n",
       "0  2023-11-04 19:14:18  \n",
       "1  2023-11-29 23:49:55  "
      ]
     },
     "execution_count": 29,
     "metadata": {},
     "output_type": "execute_result"
    }
   ],
   "source": [
    "df_balanceado['texto'] = token_text\n",
    "df_balanceado.head(2)"
   ]
  },
  {
   "cell_type": "markdown",
   "id": "a2cd84bf-5bbf-4c51-832e-18d870cc3db1",
   "metadata": {},
   "source": [
    "### spaCy"
   ]
  },
  {
   "cell_type": "code",
   "execution_count": 30,
   "id": "8dab8515-4524-4bd3-a6cd-b053039d07ca",
   "metadata": {},
   "outputs": [],
   "source": [
    "for i in range(len(text2)):\n",
    "    text2[i] = text2[i].lower()"
   ]
  },
  {
   "cell_type": "code",
   "execution_count": 31,
   "id": "4e825ead-6706-4075-9b7b-93b78be5e109",
   "metadata": {},
   "outputs": [],
   "source": [
    "from unidecode import unidecode\n",
    "\n",
    "for i in range(len(text2)):\n",
    "    text2[i] = unidecode(text2[i])"
   ]
  },
  {
   "cell_type": "code",
   "execution_count": 32,
   "id": "db8bb10d-8812-4eeb-98f2-260f304a4d05",
   "metadata": {},
   "outputs": [],
   "source": [
    "for i in range(len(text2)):\n",
    "   text2[i] = re.sub(r'[^a-zA-Z\\s]', \"\" ,text2[i])"
   ]
  },
  {
   "cell_type": "code",
   "execution_count": 33,
   "id": "49e44ece-2a99-46f0-b22c-b6a59296323e",
   "metadata": {},
   "outputs": [
    {
     "name": "stdout",
     "output_type": "stream",
     "text": [
      "um torcedor do boca juniors imitou um macaco em provocacao aos brasileiros durante uma entrada ao vivo da emissora argentina tn no entorno do maracana neste sabado antes da final da copa libertadores  a post shared by itatiaia esporte itatiaiaesporte  a reportagem registrava as reclamacoes dos argentinos do lado de fora do estadio pela forma como foram recebidos pela policia militar do rio de janeiro o torcedor surgiu e comecou a fazer gestos de macaco e a xingar os brasileiros  leia mais  diante do grande volume de torcedores do boca e da desorganizacao no acesso ao maracana a pm disparou tiros com balas de borracha e bombas de efeito moral houve muito correcorre e pessoas passando mal\n"
     ]
    }
   ],
   "source": [
    "print(text2[0])"
   ]
  },
  {
   "cell_type": "code",
   "execution_count": 34,
   "id": "76f98a44-ec8e-436e-ad7e-d36fa54f5a3c",
   "metadata": {},
   "outputs": [
    {
     "name": "stdout",
     "output_type": "stream",
     "text": [
      "um torcedor do boca juniors imitou um macaco em provocacao aos brasileiros durante uma entrada ao vivo da emissora argentina tn no entorno do maracana neste sabado antes da final da copa libertadores  a post shared by itatiaia esporte itatiaiaesporte  a reportagem registrava as reclamacoes dos argentinos do lado de fora do estadio pela forma como foram recebidos pela policia militar do rio de janeiro o torcedor surgiu e comecou a fazer gestos de macaco e a xingar os brasileiros  leia mais  diante do grande volume de torcedores do boca e da desorganizacao no acesso ao maracana a pm disparou tiros com balas de borracha e bombas de efeito moral houve muito correcorre e pessoas passando mal\n"
     ]
    }
   ],
   "source": [
    "nlp = spacy.load('pt_core_news_sm')\n",
    "\n",
    "doc = []\n",
    "\n",
    "for j in text2:\n",
    "    temp = nlp(j)\n",
    "    doc.append(temp)\n",
    "print(doc[0])"
   ]
  },
  {
   "cell_type": "code",
   "execution_count": 35,
   "id": "4fd763bc-d541-4267-a129-16e66603a5e4",
   "metadata": {},
   "outputs": [
    {
     "name": "stdout",
     "output_type": "stream",
     "text": [
      "['um', 'torcedor', 'do', 'boca', 'juniors', 'imitou', 'um', 'macaco', 'em', 'provocacao', 'aos', 'brasileiros', 'durante', 'uma', 'entrada', 'ao', 'vivo', 'da', 'emissora', 'argentina', 'tn', 'no', 'entorno', 'do', 'maracana', 'neste', 'sabado', 'antes', 'da', 'final', 'da', 'copa', 'libertadores', ' ', 'a', 'post', 'shared', 'by', 'itatiaia', 'esporte', 'itatiaiaesporte', ' ', 'a', 'reportagem', 'registrava', 'as', 'reclamacoes', 'dos', 'argentinos', 'do', 'lado', 'de', 'fora', 'do', 'estadio', 'pela', 'forma', 'como', 'foram', 'recebidos', 'pela', 'policia', 'militar', 'do', 'rio', 'de', 'janeiro', 'o', 'torcedor', 'surgiu', 'e', 'comecou', 'a', 'fazer', 'gestos', 'de', 'macaco', 'e', 'a', 'xingar', 'os', 'brasileiros', ' ', 'leia', 'mais', ' ', 'diante', 'do', 'grande', 'volume', 'de', 'torcedores', 'do', 'boca', 'e', 'da', 'desorganizacao', 'no', 'acesso', 'ao', 'maracana', 'a', 'pm', 'disparou', 'tiros', 'com', 'balas', 'de', 'borracha', 'e', 'bombas', 'de', 'efeito', 'moral', 'houve', 'muito', 'correcorre', 'e', 'pessoas', 'passando', 'mal']\n"
     ]
    }
   ],
   "source": [
    "token_text2 = []\n",
    "\n",
    "#Creating and updating our list of tokens using list comprehension \n",
    "for i in range(len(text2)):\n",
    "    temp = [token.text for token in doc[i]]\n",
    "    token_text2.append(temp)\n",
    "\n",
    "print(token_text2[0])"
   ]
  },
  {
   "cell_type": "code",
   "execution_count": 36,
   "id": "61623151-b4e7-4837-ac59-98a3c1b5e0e6",
   "metadata": {},
   "outputs": [
    {
     "name": "stdout",
     "output_type": "stream",
     "text": [
      "{'último', 'vinte', 'nossa', 'iniciar', 'apoio', 'oitava', 'povo', 'estás', 'isso', 'outros', 'comprida', 'possível', 'nem', 'quê', 'maior', 'nossos', 'deve', 'novos', 'grandes', 'tentei', 'vão', 'sistema', 'tente', 'tivemos', 'possivelmente', 'estiveram', 'apoia', 'tu', 'tiveste', 'nesta', 'fui', 'certeza', 'geral', 'bem', 'sexta', 'tentar', 'tem', 'obrigado', 'teu', 'faço', 'às', 'pôde', 'podem', 'fazia', 'estive', 'vosso', 'pela', 'obrigada', 'tarde', 'no', 'vai', 'desta', 'uns', 'dão', 'maioria', 'inclusive', 'nenhuma', 'não', 'onze', 'alguns', 'ao', 'pontos', 'tivestes', 'boa', 'seu', 'final', 'outras', 'acerca', 'à', 'cento', 'sétima', 'aos', 'nada', 'deste', 'outra', 'tais', 'na', 'quarta', 'se', 'veja', 'tudo', 'ela', 'terceira', 'aí', 'desse', 'dezoito', 'põe', 'número', 'zero', 'lugar', 'tuas', 'dois', 'bastante', 'depois', 'aquelas', 'após', 'quer', 'saber', 'usar', 'este', 'tão', 'tua', 'em', 'teve', 'estiveste', 'mais', 'você', 'estão', 'naquela', 'porém', 'treze', 'por', 'pode', 'qual', 'estou', 'naquele', 'vens', 'dizem', 'neste', 'eles', 'vós', 'for', 'é', 'só', 'quieta', 'além', 'ademais', 'és', 'deverá', 'daquela', 'fomos', 'vêm', 'põem', 'fazemos', 'parece', 'todos', 'cima', 'dez', 'porquê', 'teus', 'umas', 'oito', 'atrás', 'contra', 'dezasseis', 'quando', 'com', 'próprio', 'falta', 'baixo', 'vossos', 'mesmo', 'cá', 'quinto', 'dezanove', 'seria', 'diz', 'parte', 'cedo', 'demais', 'doze', 'quieto', 'ainda', 'aqueles', 'usa', 'fora', 'pegar', 'estado', 'ambos', 'toda', 'dentro', 'vezes', 'aquele', 'também', 'tenho', 'porquanto', 'sabe', 'fez', 'des', 'próximo', 'cujo', 'irá', 'tempo', 'terceiro', 'tiveram', 'puderam', 'maiorias', 'talvez', 'enquanto', 'tendes', 'entre', 'quarto', 'mês', 'algo', 'elas', 'isto', 'podia', 'caminho', 'dá', 'portanto', 'pouco', 'fostes', 'conhecido', 'ir', 'daquele', 'três', 'ele', 'forma', 'ou', 'numa', 'lhe', 'poderá', 'e', 'cinco', 'nove', 'ontem', 'menor', 'as', 'ligado', 'momento', 'máximo', 'fazer', 'onde', 'está', 'fazeis', 'ter', 'têm', 'sete', 'esse', 'pelos', 'primeiro', 'nova', 'mal', 'pouca', 'apenas', 'poder', 'posso', 'exemplo', 'qualquer', 'todo', 'meus', 'sua', 'meu', 'disso', 'vossa', 'primeira', 'querem', 'de', 'sempre', 'tipo', 'local', 'foram', 'os', 'estava', 'próxima', 'me', 'desde', 'porque', 'vais', 'do', 'nuns', 'foste', 'grupo', 'então', 'somos', 'estar', 'estivemos', 'duas', 'debaixo', 'eventual', 'fará', 'novas', 'ponto', 'somente', 'estes', 'já', 'diante', 'estivestes', 'inicio', 'tanta', 'muito', 'dos', 'mil', 'corrente', 'pelas', 'partir', 'até', 'minha', 'esta', 'suas', 'nesse', 'vem', 'sob', 'tanto', 'dessa', 'nossas', 'que', 'todas', 'quanto', 'um', 'devem', 'minhas', 'ver', 'favor', 'sobre', 'sexto', 'pois', 'tal', 'muitos', 'contudo', 'meio', 'da', 'dezassete', 'logo', 'bom', 'ali', 'fazem', 'ora', 'aqui', 'breve', 'quinta', 'aquilo', 'sim', 'são', 'aquela', 'coisa', 'ser', 'estará', 'embora', 'fazes', 'para', 'segundo', 'novo', 'segunda', 'questão', 'algumas', 'tens', 'estas', 'como', 'sétimo', 'o', 'nunca', 'grande', 'nos', 'tentaram', 'nas', 'direita', 'fim', 'foi', 'oitavo', 'vocês', 'vossas', 'custa', 'nessa', 'cada', 'área', 'nosso', 'uma', 'mas', 'te', 'eu', 'vinda', 'faz', 'esses', 'vários', 'números', 'essa', 'vez', 'longe', 'conselho', 'a', 'seus', 'essas', 'sou', 'catorze', 'perto', 'dizer', 'antes', 'menos', 'temos', 'apontar', 'certamente', 'num', 'relação', 'lá', 'vindo', 'pelo', 'quais', 'adeus', 'agora', 'posição', 'esteve', 'através', 'ambas', 'seis', 'nós', 'conhecida', 'tive', 'vos', 'comprido', 'dar', 'lado', 'quinze', 'meses', 'sois', 'valor', 'assim', 'sei', 'quatro', 'quem', 'sem', 'cuja', 'das', 'nível', 'era', 'quero'}\n"
     ]
    }
   ],
   "source": [
    "from spacy.lang.pt.stop_words import STOP_WORDS\n",
    "stop = STOP_WORDS\n",
    "print(stop)"
   ]
  },
  {
   "cell_type": "code",
   "execution_count": 37,
   "id": "f2bd0ad8-a857-46f5-a4ef-896bd469c17d",
   "metadata": {},
   "outputs": [
    {
     "name": "stdout",
     "output_type": "stream",
     "text": [
      "['torcedor', 'boca', 'juniors', 'imitou', 'macaco', 'provocacao', 'brasileiros', 'durante', 'entrada', 'vivo', 'emissora', 'argentina', 'tn', 'entorno', 'maracana', 'sabado', 'copa', 'libertadores', ' ', 'post', 'shared', 'by', 'itatiaia', 'esporte', 'itatiaiaesporte', ' ', 'reportagem', 'registrava', 'reclamacoes', 'argentinos', 'estadio', 'recebidos', 'policia', 'militar', 'rio', 'janeiro', 'torcedor', 'surgiu', 'comecou', 'gestos', 'macaco', 'xingar', 'brasileiros', ' ', 'leia', ' ', 'volume', 'torcedores', 'boca', 'desorganizacao', 'acesso', 'maracana', 'pm', 'disparou', 'tiros', 'balas', 'borracha', 'bombas', 'efeito', 'moral', 'houve', 'correcorre', 'pessoas', 'passando']\n"
     ]
    }
   ],
   "source": [
    "token2 = []\n",
    "for i in token_text2:\n",
    "    temp = []\n",
    "    for token in i:\n",
    "        if token not in stop:\n",
    "            temp.append(token)\n",
    "    token2.append(temp)\n",
    "print(token2[0])"
   ]
  },
  {
   "cell_type": "code",
   "execution_count": 38,
   "id": "d27c4e58-2245-4435-827e-de0480f6fd41",
   "metadata": {},
   "outputs": [
    {
     "data": {
      "text/html": [
       "<div>\n",
       "<style scoped>\n",
       "    .dataframe tbody tr th:only-of-type {\n",
       "        vertical-align: middle;\n",
       "    }\n",
       "\n",
       "    .dataframe tbody tr th {\n",
       "        vertical-align: top;\n",
       "    }\n",
       "\n",
       "    .dataframe thead th {\n",
       "        text-align: right;\n",
       "    }\n",
       "</style>\n",
       "<table border=\"1\" class=\"dataframe\">\n",
       "  <thead>\n",
       "    <tr style=\"text-align: right;\">\n",
       "      <th></th>\n",
       "      <th>titulo</th>\n",
       "      <th>texto</th>\n",
       "      <th>link</th>\n",
       "      <th>resumo</th>\n",
       "      <th>categoria</th>\n",
       "      <th>data_hora</th>\n",
       "    </tr>\n",
       "  </thead>\n",
       "  <tbody>\n",
       "    <tr>\n",
       "      <th>0</th>\n",
       "      <td>Racismo e xenofobia: torcedor do Boca imita ma...</td>\n",
       "      <td>[torcedor, boca, juniors, imitou, macaco, prov...</td>\n",
       "      <td>https://www.cnnbrasil.com.br/esportes/racismo-...</td>\n",
       "      <td>Boca Juniors e Fluminense decidem a Copa Liber...</td>\n",
       "      <td>esportes</td>\n",
       "      <td>2023-11-04 19:14:18</td>\n",
       "    </tr>\n",
       "    <tr>\n",
       "      <th>1</th>\n",
       "      <td>Bahia x São Paulo é paralisado após refletores...</td>\n",
       "      <td>[incidente, incomum, paralisou, aproximadament...</td>\n",
       "      <td>https://www.cnnbrasil.com.br/esportes/bahia-x-...</td>\n",
       "      <td>Incidente aconteceu aos 12 minutos de jogo e f...</td>\n",
       "      <td>esportes</td>\n",
       "      <td>2023-11-29 23:49:55</td>\n",
       "    </tr>\n",
       "  </tbody>\n",
       "</table>\n",
       "</div>"
      ],
      "text/plain": [
       "                                              titulo  \\\n",
       "0  Racismo e xenofobia: torcedor do Boca imita ma...   \n",
       "1  Bahia x São Paulo é paralisado após refletores...   \n",
       "\n",
       "                                               texto  \\\n",
       "0  [torcedor, boca, juniors, imitou, macaco, prov...   \n",
       "1  [incidente, incomum, paralisou, aproximadament...   \n",
       "\n",
       "                                                link  \\\n",
       "0  https://www.cnnbrasil.com.br/esportes/racismo-...   \n",
       "1  https://www.cnnbrasil.com.br/esportes/bahia-x-...   \n",
       "\n",
       "                                              resumo categoria  \\\n",
       "0  Boca Juniors e Fluminense decidem a Copa Liber...  esportes   \n",
       "1  Incidente aconteceu aos 12 minutos de jogo e f...  esportes   \n",
       "\n",
       "             data_hora  \n",
       "0  2023-11-04 19:14:18  \n",
       "1  2023-11-29 23:49:55  "
      ]
     },
     "execution_count": 38,
     "metadata": {},
     "output_type": "execute_result"
    }
   ],
   "source": [
    "df_balanceado2['texto'] = token2\n",
    "df_balanceado2.head(2)"
   ]
  },
  {
   "cell_type": "markdown",
   "id": "c1f6e2fe-05bf-4c48-8d6d-94f5613ed4b1",
   "metadata": {},
   "source": [
    "### Gensim"
   ]
  },
  {
   "cell_type": "code",
   "execution_count": 39,
   "id": "38d05539-7c13-486f-b276-f18e0c4ac150",
   "metadata": {},
   "outputs": [],
   "source": [
    "from gensim.utils import simple_preprocess\n",
    "from gensim.utils import tokenize\n",
    "\n",
    "for i in range(len(text3)):\n",
    "    text3[i] = text3[i].lower()"
   ]
  },
  {
   "cell_type": "code",
   "execution_count": 40,
   "id": "64afdd30-8678-43ff-ab9a-c5df93648f7e",
   "metadata": {},
   "outputs": [],
   "source": [
    "from unidecode import unidecode\n",
    "\n",
    "for i in range(len(text3)):\n",
    "    text3[i] = unidecode(text3[i])"
   ]
  },
  {
   "cell_type": "code",
   "execution_count": 41,
   "id": "5992355b-e4d7-4ea3-b049-13e41b38638b",
   "metadata": {},
   "outputs": [],
   "source": [
    "for i in range(len(text3)):\n",
    "   text3[i] = re.sub(r'[^a-zA-Z\\s]', \"\" ,text3[i])"
   ]
  },
  {
   "cell_type": "code",
   "execution_count": 42,
   "id": "a0a2d4d1-638d-49dc-bd22-55c5af1056a0",
   "metadata": {},
   "outputs": [
    {
     "data": {
      "text/plain": [
       "'um torcedor do boca juniors imitou um macaco em provocacao aos brasileiros durante uma entrada ao vivo da emissora argentina tn no entorno do maracana neste sabado antes da final da copa libertadores  a post shared by itatiaia esporte itatiaiaesporte  a reportagem registrava as reclamacoes dos argentinos do lado de fora do estadio pela forma como foram recebidos pela policia militar do rio de janeiro o torcedor surgiu e comecou a fazer gestos de macaco e a xingar os brasileiros  leia mais  diante do grande volume de torcedores do boca e da desorganizacao no acesso ao maracana a pm disparou tiros com balas de borracha e bombas de efeito moral houve muito correcorre e pessoas passando mal'"
      ]
     },
     "execution_count": 42,
     "metadata": {},
     "output_type": "execute_result"
    }
   ],
   "source": [
    "text3[0]"
   ]
  },
  {
   "cell_type": "code",
   "execution_count": 43,
   "id": "f35b9bfe-f1fb-47e4-b615-ced2fa0cf568",
   "metadata": {},
   "outputs": [
    {
     "name": "stdout",
     "output_type": "stream",
     "text": [
      "['um', 'torcedor', 'do', 'boca', 'juniors', 'imitou', 'um', 'macaco', 'em', 'provocacao', 'aos', 'brasileiros', 'durante', 'uma', 'entrada', 'ao', 'vivo', 'da', 'emissora', 'argentina', 'tn', 'no', 'entorno', 'do', 'maracana', 'neste', 'sabado', 'antes', 'da', 'final', 'da', 'copa', 'libertadores', 'a', 'post', 'shared', 'by', 'itatiaia', 'esporte', 'itatiaiaesporte', 'a', 'reportagem', 'registrava', 'as', 'reclamacoes', 'dos', 'argentinos', 'do', 'lado', 'de', 'fora', 'do', 'estadio', 'pela', 'forma', 'como', 'foram', 'recebidos', 'pela', 'policia', 'militar', 'do', 'rio', 'de', 'janeiro', 'o', 'torcedor', 'surgiu', 'e', 'comecou', 'a', 'fazer', 'gestos', 'de', 'macaco', 'e', 'a', 'xingar', 'os', 'brasileiros', 'leia', 'mais', 'diante', 'do', 'grande', 'volume', 'de', 'torcedores', 'do', 'boca', 'e', 'da', 'desorganizacao', 'no', 'acesso', 'ao', 'maracana', 'a', 'pm', 'disparou', 'tiros', 'com', 'balas', 'de', 'borracha', 'e', 'bombas', 'de', 'efeito', 'moral', 'houve', 'muito', 'correcorre', 'e', 'pessoas', 'passando', 'mal']\n"
     ]
    }
   ],
   "source": [
    "tokens3 = []\n",
    "\n",
    "for i in range(len(text3)):\n",
    "    tokens3.append(list(tokenize(text3[i])))\n",
    "\n",
    "print(tokens3[0])"
   ]
  },
  {
   "cell_type": "code",
   "execution_count": 44,
   "id": "28901743-c714-481c-bc4c-10e070ffac97",
   "metadata": {},
   "outputs": [
    {
     "name": "stdout",
     "output_type": "stream",
     "text": [
      "['a', 'à', 'adeus', 'agora', 'aí', 'ainda', 'além', 'algo', 'alguém', 'algum', 'alguma', 'algumas', 'alguns', 'ali', 'ampla', 'amplas', 'amplo', 'amplos', 'ano', 'anos', 'ante', 'antes', 'ao', 'aos', 'apenas', 'apoio', 'após', 'aquela', 'aquelas', 'aquele', 'aqueles', 'aqui', 'aquilo', 'área', 'as', 'às', 'assim', 'até', 'atrás', 'através', 'baixo', 'bastante', 'bem', 'boa', 'boas', 'bom', 'bons', 'breve', 'cá', 'cada', 'catorze', 'cedo', 'cento', 'certamente', 'certeza', 'cima', 'cinco', 'coisa', 'coisas', 'com', 'como', 'conselho', 'contra', 'contudo', 'custa', 'da', 'dá', 'dão', 'daquela', 'daquelas', 'daquele', 'daqueles', 'dar', 'das', 'de', 'debaixo', 'dela', 'delas', 'dele', 'deles', 'demais', 'dentro', 'depois', 'desde', 'dessa', 'dessas', 'desse', 'desses', 'desta', 'destas', 'deste', 'destes', 'deve', 'devem', 'devendo', 'dever', 'deverá', 'deverão', 'deveria', 'deveriam', 'devia', 'deviam', 'dez', 'dezanove', 'dezasseis', 'dezassete', 'dezoito', 'dia', 'diante', 'disse', 'disso', 'disto', 'dito', 'diz', 'dizem', 'dizer', 'do', 'dois', 'dos', 'doze', 'duas', 'dúvida', 'e', 'é', 'ela', 'elas', 'ele', 'eles', 'em', 'embora', 'enquanto', 'entre', 'era', 'eram', 'éramos', 'és', 'essa', 'essas', 'esse', 'esses', 'esta', 'está', 'estamos', 'estão', 'estar', 'estas', 'estás', 'estava', 'estavam', 'estávamos', 'este', 'esteja', 'estejam', 'estejamos', 'estes', 'esteve', 'estive', 'estivemos', 'estiver', 'estivera', 'estiveram', 'estivéramos', 'estiverem', 'estivermos', 'estivesse', 'estivessem', 'estivéssemos', 'estiveste', 'estivestes', 'estou', 'etc', 'eu', 'exemplo', 'faço', 'falta', 'favor', 'faz', 'fazeis', 'fazem', 'fazemos', 'fazendo', 'fazer', 'fazes', 'feita', 'feitas', 'feito', 'feitos', 'fez', 'fim', 'final', 'foi', 'fomos', 'for', 'fora', 'foram', 'fôramos', 'forem', 'forma', 'formos', 'fosse', 'fossem', 'fôssemos', 'foste', 'fostes', 'fui', 'geral', 'grande', 'grandes', 'grupo', 'há', 'haja', 'hajam', 'hajamos', 'hão', 'havemos', 'havia', 'hei', 'hoje', 'hora', 'horas', 'houve', 'houvemos', 'houver', 'houvera', 'houverá', 'houveram', 'houvéramos', 'houverão', 'houverei', 'houverem', 'houveremos', 'houveria', 'houveriam', 'houveríamos', 'houvermos', 'houvesse', 'houvessem', 'houvéssemos', 'isso', 'isto', 'já', 'la', 'lá', 'lado', 'lhe', 'lhes', 'lo', 'local', 'logo', 'longe', 'lugar', 'maior', 'maioria', 'mais', 'mal', 'mas', 'máximo', 'me', 'meio', 'menor', 'menos', 'mês', 'meses', 'mesma', 'mesmas', 'mesmo', 'mesmos', 'meu', 'meus', 'mil', 'minha', 'minhas', 'momento', 'muita', 'muitas', 'muito', 'muitos', 'na', 'nada', 'não', 'naquela', 'naquelas', 'naquele', 'naqueles', 'nas', 'nem', 'nenhum', 'nenhuma', 'nessa', 'nessas', 'nesse', 'nesses', 'nesta', 'nestas', 'neste', 'nestes', 'ninguém', 'nível', 'no', 'noite', 'nome', 'nos', 'nós', 'nossa', 'nossas', 'nosso', 'nossos', 'nova', 'novas', 'nove', 'novo', 'novos', 'num', 'numa', 'número', 'nunca', 'o', 'obra', 'obrigada', 'obrigado', 'oitava', 'oitavo', 'oito', 'onde', 'ontem', 'onze', 'os', 'ou', 'outra', 'outras', 'outro', 'outros', 'para', 'parece', 'parte', 'partir', 'paucas', 'pela', 'pelas', 'pelo', 'pelos', 'pequena', 'pequenas', 'pequeno', 'pequenos', 'per', 'perante', 'perto', 'pode', 'pude', 'pôde', 'podem', 'podendo', 'poder', 'poderia', 'poderiam', 'podia', 'podiam', 'põe', 'põem', 'pois', 'ponto', 'pontos', 'por', 'porém', 'porque', 'porquê', 'posição', 'possível', 'possivelmente', 'posso', 'pouca', 'poucas', 'pouco', 'poucos', 'primeira', 'primeiras', 'primeiro', 'primeiros', 'própria', 'próprias', 'próprio', 'próprios', 'próxima', 'próximas', 'próximo', 'próximos', 'pude', 'puderam', 'quais', 'quáis', 'qual', 'quando', 'quanto', 'quantos', 'quarta', 'quarto', 'quatro', 'que', 'quê', 'quem', 'quer', 'quereis', 'querem', 'queremas', 'queres', 'quero', 'questão', 'quinta', 'quinto', 'quinze', 'relação', 'sabe', 'sabem', 'são', 'se', 'segunda', 'segundo', 'sei', 'seis', 'seja', 'sejam', 'sejamos', 'sem', 'sempre', 'sendo', 'ser', 'será', 'serão', 'serei', 'seremos', 'seria', 'seriam', 'seríamos', 'sete', 'sétima', 'sétimo', 'seu', 'seus', 'sexta', 'sexto', 'si', 'sido', 'sim', 'sistema', 'só', 'sob', 'sobre', 'sois', 'somos', 'sou', 'sua', 'suas', 'tal', 'talvez', 'também', 'tampouco', 'tanta', 'tantas', 'tanto', 'tão', 'tarde', 'te', 'tem', 'tém', 'têm', 'temos', 'tendes', 'tendo', 'tenha', 'tenham', 'tenhamos', 'tenho', 'tens', 'ter', 'terá', 'terão', 'terceira', 'terceiro', 'terei', 'teremos', 'teria', 'teriam', 'teríamos', 'teu', 'teus', 'teve', 'ti', 'tido', 'tinha', 'tinham', 'tínhamos', 'tive', 'tivemos', 'tiver', 'tivera', 'tiveram', 'tivéramos', 'tiverem', 'tivermos', 'tivesse', 'tivessem', 'tivéssemos', 'tiveste', 'tivestes', 'toda', 'todas', 'todavia', 'todo', 'todos', 'trabalho', 'três', 'treze', 'tu', 'tua', 'tuas', 'tudo', 'última', 'últimas', 'último', 'últimos', 'um', 'uma', 'umas', 'uns', 'vai', 'vais', 'vão', 'vários', 'vem', 'vêm', 'vendo', 'vens', 'ver', 'vez', 'vezes', 'viagem', 'vindo', 'vinte', 'vir', 'você', 'vocês', 'vos', 'vós', 'vossa', 'vossas', 'vosso', 'vossos', 'zero', '1', '2', '3', '4', '5', '6', '7', '8', '9', '0', '_']\n"
     ]
    }
   ],
   "source": [
    "stopwords = [ 'a', 'à', 'adeus', 'agora', 'aí', 'ainda', 'além', 'algo', 'alguém', 'algum', 'alguma', 'algumas', 'alguns', 'ali', 'ampla', 'amplas', 'amplo', 'amplos', 'ano', 'anos', 'ante', 'antes', 'ao', 'aos', 'apenas', 'apoio', 'após', 'aquela', 'aquelas', 'aquele', 'aqueles', 'aqui', 'aquilo', 'área', 'as', 'às', 'assim', 'até', 'atrás', 'através', 'baixo', 'bastante', 'bem', 'boa', 'boas', 'bom', 'bons', 'breve', 'cá', 'cada', 'catorze', 'cedo', 'cento', 'certamente', 'certeza', 'cima', 'cinco', 'coisa', 'coisas', 'com', 'como', 'conselho', 'contra', 'contudo', 'custa', 'da', 'dá', 'dão', 'daquela', 'daquelas', 'daquele', 'daqueles', 'dar', 'das', 'de', 'debaixo', 'dela', 'delas', 'dele', 'deles', 'demais', 'dentro', 'depois', 'desde', 'dessa', 'dessas', 'desse', 'desses', 'desta', 'destas', 'deste', 'destes', 'deve', 'devem', 'devendo', 'dever', 'deverá', 'deverão', 'deveria', 'deveriam', 'devia', 'deviam', 'dez', 'dezanove', 'dezasseis', 'dezassete', 'dezoito', 'dia', 'diante', 'disse', 'disso', 'disto', 'dito', 'diz', 'dizem', 'dizer', 'do', 'dois', 'dos', 'doze', 'duas', 'dúvida', 'e', 'é', 'ela', 'elas', 'ele', 'eles', 'em', 'embora', 'enquanto', 'entre', 'era', 'eram', 'éramos', 'és', 'essa', 'essas', 'esse', 'esses', 'esta', 'está', 'estamos', 'estão', 'estar', 'estas', 'estás', 'estava', 'estavam', 'estávamos', 'este', 'esteja', 'estejam', 'estejamos', 'estes', 'esteve', 'estive', 'estivemos', 'estiver', 'estivera', 'estiveram', 'estivéramos', 'estiverem', 'estivermos', 'estivesse', 'estivessem', 'estivéssemos', 'estiveste', 'estivestes', 'estou', 'etc', 'eu', 'exemplo', 'faço', 'falta', 'favor', 'faz', 'fazeis', 'fazem', 'fazemos', 'fazendo', 'fazer', 'fazes', 'feita', 'feitas', 'feito', 'feitos', 'fez', 'fim', 'final', 'foi', 'fomos', 'for', 'fora', 'foram', 'fôramos', 'forem', 'forma', 'formos', 'fosse', 'fossem', 'fôssemos', 'foste', 'fostes', 'fui', 'geral', 'grande', 'grandes', 'grupo', 'há', 'haja', 'hajam', 'hajamos', 'hão', 'havemos', 'havia', 'hei', 'hoje', 'hora', 'horas', 'houve', 'houvemos', 'houver', 'houvera', 'houverá', 'houveram', 'houvéramos', 'houverão', 'houverei', 'houverem', 'houveremos', 'houveria', 'houveriam', 'houveríamos', 'houvermos', 'houvesse', 'houvessem', 'houvéssemos', 'isso', 'isto', 'já', 'la', 'lá', 'lado', 'lhe', 'lhes', 'lo', 'local', 'logo', 'longe', 'lugar', 'maior', 'maioria', 'mais', 'mal', 'mas', 'máximo', 'me', 'meio', 'menor', 'menos', 'mês', 'meses', 'mesma', 'mesmas', 'mesmo', 'mesmos', 'meu', 'meus', 'mil', 'minha', 'minhas', 'momento', 'muita', 'muitas', 'muito', 'muitos', 'na', 'nada', 'não', 'naquela', 'naquelas', 'naquele', 'naqueles', 'nas', 'nem', 'nenhum', 'nenhuma', 'nessa', 'nessas', 'nesse', 'nesses', 'nesta', 'nestas', 'neste', 'nestes', 'ninguém', 'nível', 'no', 'noite', 'nome', 'nos', 'nós', 'nossa', 'nossas', 'nosso', 'nossos', 'nova', 'novas', 'nove', 'novo', 'novos', 'num', 'numa', 'número', 'nunca', 'o', 'obra', 'obrigada', 'obrigado', 'oitava', 'oitavo', 'oito', 'onde', 'ontem', 'onze', 'os', 'ou', 'outra', 'outras', 'outro', 'outros', 'para', 'parece', 'parte', 'partir', 'paucas', 'pela', 'pelas', 'pelo', 'pelos', 'pequena', 'pequenas', 'pequeno', 'pequenos', 'per', 'perante', 'perto', 'pode', 'pude', 'pôde', 'podem', 'podendo', 'poder', 'poderia', 'poderiam', 'podia', 'podiam', 'põe', 'põem', 'pois', 'ponto', 'pontos', 'por', 'porém', 'porque', 'porquê', 'posição', 'possível', 'possivelmente', 'posso', 'pouca', 'poucas', 'pouco', 'poucos', 'primeira', 'primeiras', 'primeiro', 'primeiros', 'própria', 'próprias', 'próprio', 'próprios', 'próxima', 'próximas', 'próximo', 'próximos', 'pude', 'puderam', 'quais', 'quáis', 'qual', 'quando', 'quanto', 'quantos', 'quarta', 'quarto', 'quatro', 'que', 'quê', 'quem', 'quer', 'quereis', 'querem', 'queremas', 'queres', 'quero', 'questão', 'quinta', 'quinto', 'quinze', 'relação', 'sabe', 'sabem', 'são', 'se', 'segunda', 'segundo', 'sei', 'seis', 'seja', 'sejam', 'sejamos', 'sem', 'sempre', 'sendo', 'ser', 'será', 'serão', 'serei', 'seremos', 'seria', 'seriam', 'seríamos', 'sete', 'sétima', 'sétimo', 'seu', 'seus', 'sexta', 'sexto', 'si', 'sido', 'sim', 'sistema', 'só', 'sob', 'sobre', 'sois', 'somos', 'sou', 'sua', 'suas', 'tal', 'talvez', 'também', 'tampouco', 'tanta', 'tantas', 'tanto', 'tão', 'tarde', 'te', 'tem', 'tém', 'têm', 'temos', 'tendes', 'tendo', 'tenha', 'tenham', 'tenhamos', 'tenho', 'tens', 'ter', 'terá', 'terão', 'terceira', 'terceiro', 'terei', 'teremos', 'teria', 'teriam', 'teríamos', 'teu', 'teus', 'teve', 'ti', 'tido', 'tinha', 'tinham', 'tínhamos', 'tive', 'tivemos', 'tiver', 'tivera', 'tiveram', 'tivéramos', 'tiverem', 'tivermos', 'tivesse', 'tivessem', 'tivéssemos', 'tiveste', 'tivestes', 'toda', 'todas', 'todavia', 'todo', 'todos', 'trabalho', 'três', 'treze', 'tu', 'tua', 'tuas', 'tudo', 'última', 'últimas', 'último', 'últimos', 'um', 'uma', 'umas', 'uns', 'vai', 'vais', 'vão', 'vários', 'vem', 'vêm', 'vendo', 'vens', 'ver', 'vez', 'vezes', 'viagem', 'vindo', 'vinte', 'vir', 'você', 'vocês', 'vos', 'vós', 'vossa', 'vossas', 'vosso', 'vossos', 'zero', '1', '2', '3', '4', '5', '6', '7', '8', '9', '0', '_' ]\n",
    "\n",
    "print(stopwords)"
   ]
  },
  {
   "cell_type": "code",
   "execution_count": 45,
   "id": "4a12cbe8-97ee-42e3-b375-1fe99e609a5b",
   "metadata": {},
   "outputs": [
    {
     "name": "stdout",
     "output_type": "stream",
     "text": [
      "['torcedor', 'boca', 'juniors', 'imitou', 'macaco', 'provocacao', 'brasileiros', 'durante', 'entrada', 'vivo', 'emissora', 'argentina', 'tn', 'entorno', 'maracana', 'sabado', 'copa', 'libertadores', 'post', 'shared', 'by', 'itatiaia', 'esporte', 'itatiaiaesporte', 'reportagem', 'registrava', 'reclamacoes', 'argentinos', 'estadio', 'recebidos', 'policia', 'militar', 'rio', 'janeiro', 'torcedor', 'surgiu', 'comecou', 'gestos', 'macaco', 'xingar', 'brasileiros', 'leia', 'volume', 'torcedores', 'boca', 'desorganizacao', 'acesso', 'maracana', 'pm', 'disparou', 'tiros', 'balas', 'borracha', 'bombas', 'efeito', 'moral', 'correcorre', 'pessoas', 'passando']\n"
     ]
    }
   ],
   "source": [
    "token3 = []\n",
    "for i in tokens3:\n",
    "    temp = []\n",
    "    for token in i:\n",
    "        if token not in stopwords:\n",
    "            temp.append(token)\n",
    "    token3.append(temp)\n",
    "print(token3[0])"
   ]
  },
  {
   "cell_type": "code",
   "execution_count": 46,
   "id": "7873d61e-5b34-417a-ad3e-b048c4d585b1",
   "metadata": {},
   "outputs": [
    {
     "data": {
      "text/html": [
       "<div>\n",
       "<style scoped>\n",
       "    .dataframe tbody tr th:only-of-type {\n",
       "        vertical-align: middle;\n",
       "    }\n",
       "\n",
       "    .dataframe tbody tr th {\n",
       "        vertical-align: top;\n",
       "    }\n",
       "\n",
       "    .dataframe thead th {\n",
       "        text-align: right;\n",
       "    }\n",
       "</style>\n",
       "<table border=\"1\" class=\"dataframe\">\n",
       "  <thead>\n",
       "    <tr style=\"text-align: right;\">\n",
       "      <th></th>\n",
       "      <th>titulo</th>\n",
       "      <th>texto</th>\n",
       "      <th>link</th>\n",
       "      <th>resumo</th>\n",
       "      <th>categoria</th>\n",
       "      <th>data_hora</th>\n",
       "    </tr>\n",
       "  </thead>\n",
       "  <tbody>\n",
       "    <tr>\n",
       "      <th>0</th>\n",
       "      <td>Racismo e xenofobia: torcedor do Boca imita ma...</td>\n",
       "      <td>[torcedor, boca, juniors, imitou, macaco, prov...</td>\n",
       "      <td>https://www.cnnbrasil.com.br/esportes/racismo-...</td>\n",
       "      <td>Boca Juniors e Fluminense decidem a Copa Liber...</td>\n",
       "      <td>esportes</td>\n",
       "      <td>2023-11-04 19:14:18</td>\n",
       "    </tr>\n",
       "    <tr>\n",
       "      <th>1</th>\n",
       "      <td>Bahia x São Paulo é paralisado após refletores...</td>\n",
       "      <td>[incidente, incomum, paralisou, aproximadament...</td>\n",
       "      <td>https://www.cnnbrasil.com.br/esportes/bahia-x-...</td>\n",
       "      <td>Incidente aconteceu aos 12 minutos de jogo e f...</td>\n",
       "      <td>esportes</td>\n",
       "      <td>2023-11-29 23:49:55</td>\n",
       "    </tr>\n",
       "  </tbody>\n",
       "</table>\n",
       "</div>"
      ],
      "text/plain": [
       "                                              titulo  \\\n",
       "0  Racismo e xenofobia: torcedor do Boca imita ma...   \n",
       "1  Bahia x São Paulo é paralisado após refletores...   \n",
       "\n",
       "                                               texto  \\\n",
       "0  [torcedor, boca, juniors, imitou, macaco, prov...   \n",
       "1  [incidente, incomum, paralisou, aproximadament...   \n",
       "\n",
       "                                                link  \\\n",
       "0  https://www.cnnbrasil.com.br/esportes/racismo-...   \n",
       "1  https://www.cnnbrasil.com.br/esportes/bahia-x-...   \n",
       "\n",
       "                                              resumo categoria  \\\n",
       "0  Boca Juniors e Fluminense decidem a Copa Liber...  esportes   \n",
       "1  Incidente aconteceu aos 12 minutos de jogo e f...  esportes   \n",
       "\n",
       "             data_hora  \n",
       "0  2023-11-04 19:14:18  \n",
       "1  2023-11-29 23:49:55  "
      ]
     },
     "execution_count": 46,
     "metadata": {},
     "output_type": "execute_result"
    }
   ],
   "source": [
    "df_balanceado3['texto'] = token3\n",
    "df_balanceado3.head(2)"
   ]
  },
  {
   "cell_type": "markdown",
   "id": "2a86a3f7-402e-4f60-8e02-b612fe83c051",
   "metadata": {},
   "source": [
    "## Análises"
   ]
  },
  {
   "cell_type": "markdown",
   "id": "c995d014-5aad-4572-b329-60c92af45b3c",
   "metadata": {},
   "source": [
    "### NLTK"
   ]
  },
  {
   "cell_type": "code",
   "execution_count": 47,
   "id": "bc59c4ef-5077-4918-941d-56c0da1e7974",
   "metadata": {},
   "outputs": [
    {
     "name": "stdout",
     "output_type": "stream",
     "text": [
      "[('torcedor', 2), ('boca', 2), ('macaco', 2), ('brasileiros', 2), ('maracana', 2), ('juniors', 1), ('imitou', 1), ('provocacao', 1), ('durante', 1), ('entrada', 1)]\n"
     ]
    }
   ],
   "source": [
    "from collections import Counter  # Contagem de frequência de palavras usando NLTK \n",
    "frequencia_palavras = Counter(token_text[0]) \n",
    "print(frequencia_palavras.most_common(10))"
   ]
  },
  {
   "cell_type": "code",
   "execution_count": 48,
   "id": "c86224cb-cc2e-4ce2-a70e-cd010bd88214",
   "metadata": {},
   "outputs": [
    {
     "data": {
      "image/png": "[encoded data removed]",
      "text/plain": [
       "<Figure size 1000x600 with 1 Axes>"
      ]
     },
     "metadata": {},
     "output_type": "display_data"
    }
   ],
   "source": [
    "# Obter os 10 tokens mais comuns e suas contagens\n",
    "tokens_mais_comuns = frequencia_palavras.most_common(10)\n",
    "palavras, contagens = zip(*tokens_mais_comuns)\n",
    "\n",
    "# Gráfico de Barras\n",
    "plt.figure(figsize=(10, 6))\n",
    "plt.bar(palavras, contagens)\n",
    "plt.xlabel('Palavras')\n",
    "plt.ylabel('Frequência')\n",
    "plt.title('10 Palavras Mais Comuns')\n",
    "plt.xticks(rotation=45)\n",
    "plt.show()"
   ]
  },
  {
   "cell_type": "markdown",
   "id": "955fb74b-5a2f-4aa4-a363-4bb2b7363d99",
   "metadata": {},
   "source": [
    "### spaCy"
   ]
  },
  {
   "cell_type": "code",
   "execution_count": 49,
   "id": "fa32cf71-a086-4b63-a3f2-47c75c640da6",
   "metadata": {},
   "outputs": [
    {
     "name": "stdout",
     "output_type": "stream",
     "text": [
      "[(' ', 4), ('torcedor', 2), ('boca', 2), ('macaco', 2), ('brasileiros', 2), ('maracana', 2), ('juniors', 1), ('imitou', 1), ('provocacao', 1), ('durante', 1)]\n"
     ]
    }
   ],
   "source": [
    "from collections import Counter  # Contagem de frequência de palavras usando NLTK \n",
    "frequencia_palavras = Counter(token2[0]) \n",
    "print(frequencia_palavras.most_common(10))"
   ]
  },
  {
   "cell_type": "code",
   "execution_count": 50,
   "id": "bde4fc92-0568-4e9d-97c5-531a1e1e72b8",
   "metadata": {},
   "outputs": [
    {
     "data": {
      "image/png": "[encoded data removed]",
      "text/plain": [
       "<Figure size 1000x600 with 1 Axes>"
      ]
     },
     "metadata": {},
     "output_type": "display_data"
    }
   ],
   "source": [
    "# Obter os 10 tokens mais comuns e suas contagens\n",
    "tokens_mais_comuns = frequencia_palavras.most_common(10)\n",
    "palavras, contagens = zip(*tokens_mais_comuns)\n",
    "\n",
    "# Gráfico de Barras\n",
    "plt.figure(figsize=(10, 6))\n",
    "plt.bar(palavras, contagens)\n",
    "plt.xlabel('Palavras')\n",
    "plt.ylabel('Frequência')\n",
    "plt.title('10 Palavras Mais Comuns')\n",
    "plt.xticks(rotation=45)\n",
    "plt.show()"
   ]
  },
  {
   "cell_type": "markdown",
   "id": "20a6e45b-e067-4bea-bae4-bb9922b70a9d",
   "metadata": {},
   "source": [
    "### Gensim"
   ]
  },
  {
   "cell_type": "code",
   "execution_count": 51,
   "id": "576be1e5-2baa-402b-8293-c8c9f5e89628",
   "metadata": {},
   "outputs": [
    {
     "name": "stdout",
     "output_type": "stream",
     "text": [
      "[('torcedor', 2), ('boca', 2), ('macaco', 2), ('brasileiros', 2), ('maracana', 2), ('juniors', 1), ('imitou', 1), ('provocacao', 1), ('durante', 1), ('entrada', 1)]\n"
     ]
    }
   ],
   "source": [
    "from collections import Counter  # Contagem de frequência de palavras usando NLTK \n",
    "frequencia_palavras = Counter(token3[0]) \n",
    "print(frequencia_palavras.most_common(10))"
   ]
  },
  {
   "cell_type": "code",
   "execution_count": 52,
   "id": "b077df5e-70b8-4d7b-bf96-9d03d3c38a18",
   "metadata": {},
   "outputs": [
    {
     "data": {
      "image/png": "[encoded data removed]",
      "text/plain": [
       "<Figure size 1000x600 with 1 Axes>"
      ]
     },
     "metadata": {},
     "output_type": "display_data"
    }
   ],
   "source": [
    "# Obter os 10 tokens mais comuns e suas contagens\n",
    "tokens_mais_comuns = frequencia_palavras.most_common(10)\n",
    "palavras, contagens = zip(*tokens_mais_comuns)\n",
    "\n",
    "# Gráfico de Barras\n",
    "plt.figure(figsize=(10, 6))\n",
    "plt.bar(palavras, contagens)\n",
    "plt.xlabel('Palavras')\n",
    "plt.ylabel('Frequência')\n",
    "plt.title('10 Palavras Mais Comuns')\n",
    "plt.xticks(rotation=45)\n",
    "plt.show()"
   ]
  },
  {
   "cell_type": "markdown",
   "id": "ec752a64-fd72-4ca4-8e3e-1bfc43f5ac0f",
   "metadata": {},
   "source": [
    "## Prediction\n",
    "https://github.com/susanli2016/Machine-Learning-with-Python/blob/master/Consumer_complaints.ipynb  <br>\n",
    "refazer para cada biblioteca"
   ]
  },
  {
   "cell_type": "markdown",
   "id": "7841f9eb-b1d2-496f-bec3-4b3de8253a1a",
   "metadata": {},
   "source": [
    "### NLTK"
   ]
  },
  {
   "cell_type": "code",
   "execution_count": 41,
   "id": "d13c1a7e-b6f1-4e49-982a-2388dee760d0",
   "metadata": {},
   "outputs": [
    {
     "name": "stdout",
     "output_type": "stream",
     "text": [
      "\n"
     ]
    }
   ],
   "source": [
    "for i in range(len(token_text)):\n",
    "    token_text[i] = \" \".join(token_text[i])\n",
    "print(token_text[0])"
   ]
  },
  {
   "cell_type": "code",
   "execution_count": 42,
   "id": "eea38f9b-5f83-431d-b6c5-30089529cbd1",
   "metadata": {},
   "outputs": [
    {
     "data": {
      "text/html": [
       "<div>\n",
       "<style scoped>\n",
       "    .dataframe tbody tr th:only-of-type {\n",
       "        vertical-align: middle;\n",
       "    }\n",
       "\n",
       "    .dataframe tbody tr th {\n",
       "        vertical-align: top;\n",
       "    }\n",
       "\n",
       "    .dataframe thead th {\n",
       "        text-align: right;\n",
       "    }\n",
       "</style>\n",
       "<table border=\"1\" class=\"dataframe\">\n",
       "  <thead>\n",
       "    <tr style=\"text-align: right;\">\n",
       "      <th></th>\n",
       "      <th>titulo</th>\n",
       "      <th>texto</th>\n",
       "      <th>link</th>\n",
       "      <th>resumo</th>\n",
       "      <th>categoria</th>\n",
       "      <th>data_hora</th>\n",
       "    </tr>\n",
       "  </thead>\n",
       "  <tbody>\n",
       "    <tr>\n",
       "      <th>0</th>\n",
       "      <td>Ituano x Chapecoense: tempo real e onde assist...</td>\n",
       "      <td></td>\n",
       "      <td>https://www.cnnbrasil.com.br/esportes/ituano-x...</td>\n",
       "      <td>Onde assistir e tempo real dos lances e das es...</td>\n",
       "      <td>esportes</td>\n",
       "      <td>2023-11-17 14:20:18</td>\n",
       "    </tr>\n",
       "    <tr>\n",
       "      <th>1</th>\n",
       "      <td>Chelsea intensifica conversas com Gabriel Mosc...</td>\n",
       "      <td>chelsea mantem firme ideia contratar volante g...</td>\n",
       "      <td>https://www.cnnbrasil.com.br/esportes/chelsea-...</td>\n",
       "      <td>Clube paulista já recusou uma proposta dos ing...</td>\n",
       "      <td>esportes</td>\n",
       "      <td>2023-11-09 14:04:55</td>\n",
       "    </tr>\n",
       "    <tr>\n",
       "      <th>2</th>\n",
       "      <td>Ex-jogador Fred deita no chão após assalto no ...</td>\n",
       "      <td>camera seguranca mostrou momento exjogador fut...</td>\n",
       "      <td>https://www.cnnbrasil.com.br/esportes/ex-jogad...</td>\n",
       "      <td>Imagens de câmeras de segurança mostram três c...</td>\n",
       "      <td>esportes</td>\n",
       "      <td>2023-11-24 11:50:29</td>\n",
       "    </tr>\n",
       "    <tr>\n",
       "      <th>3</th>\n",
       "      <td>Esposa de Daniel Alves dá entrevista polêmica ...</td>\n",
       "      <td>esposa daniel alves preso desde janeiro suspei...</td>\n",
       "      <td>https://www.cnnbrasil.com.br/esportes/esposa-d...</td>\n",
       "      <td>Alves foi preso no dia 20 de janeiro, pouco me...</td>\n",
       "      <td>esportes</td>\n",
       "      <td>2023-11-25 20:39:52</td>\n",
       "    </tr>\n",
       "    <tr>\n",
       "      <th>4</th>\n",
       "      <td>Diniz faz mistério em escalação do Fluminense ...</td>\n",
       "      <td>fernando diniz nao quis saber dar pistas sobre...</td>\n",
       "      <td>https://www.cnnbrasil.com.br/esportes/diniz-fa...</td>\n",
       "      <td>Treinador lamentou episódios ocorridos na últi...</td>\n",
       "      <td>esportes</td>\n",
       "      <td>2023-11-03 21:17:20</td>\n",
       "    </tr>\n",
       "  </tbody>\n",
       "</table>\n",
       "</div>"
      ],
      "text/plain": [
       "                                              titulo  \\\n",
       "0  Ituano x Chapecoense: tempo real e onde assist...   \n",
       "1  Chelsea intensifica conversas com Gabriel Mosc...   \n",
       "2  Ex-jogador Fred deita no chão após assalto no ...   \n",
       "3  Esposa de Daniel Alves dá entrevista polêmica ...   \n",
       "4  Diniz faz mistério em escalação do Fluminense ...   \n",
       "\n",
       "                                               texto  \\\n",
       "0                                                      \n",
       "1  chelsea mantem firme ideia contratar volante g...   \n",
       "2  camera seguranca mostrou momento exjogador fut...   \n",
       "3  esposa daniel alves preso desde janeiro suspei...   \n",
       "4  fernando diniz nao quis saber dar pistas sobre...   \n",
       "\n",
       "                                                link  \\\n",
       "0  https://www.cnnbrasil.com.br/esportes/ituano-x...   \n",
       "1  https://www.cnnbrasil.com.br/esportes/chelsea-...   \n",
       "2  https://www.cnnbrasil.com.br/esportes/ex-jogad...   \n",
       "3  https://www.cnnbrasil.com.br/esportes/esposa-d...   \n",
       "4  https://www.cnnbrasil.com.br/esportes/diniz-fa...   \n",
       "\n",
       "                                              resumo categoria  \\\n",
       "0  Onde assistir e tempo real dos lances e das es...  esportes   \n",
       "1  Clube paulista já recusou uma proposta dos ing...  esportes   \n",
       "2  Imagens de câmeras de segurança mostram três c...  esportes   \n",
       "3  Alves foi preso no dia 20 de janeiro, pouco me...  esportes   \n",
       "4  Treinador lamentou episódios ocorridos na últi...  esportes   \n",
       "\n",
       "             data_hora  \n",
       "0  2023-11-17 14:20:18  \n",
       "1  2023-11-09 14:04:55  \n",
       "2  2023-11-24 11:50:29  \n",
       "3  2023-11-25 20:39:52  \n",
       "4  2023-11-03 21:17:20  "
      ]
     },
     "execution_count": 42,
     "metadata": {},
     "output_type": "execute_result"
    }
   ],
   "source": [
    "df_balanceado['texto'] = token_text\n",
    "df_balanceado.head(5)"
   ]
  },
  {
   "cell_type": "code",
   "execution_count": 43,
   "id": "e4d2a077-d1bc-4c84-8ce7-c03b704f7ac6",
   "metadata": {},
   "outputs": [],
   "source": [
    "col = ['categoria', 'texto']\n",
    "df_balanceado = df_balanceado[col]"
   ]
  },
  {
   "cell_type": "code",
   "execution_count": 44,
   "id": "18272ef1-c5c3-4ff8-879a-9f764e8d0435",
   "metadata": {},
   "outputs": [
    {
     "data": {
      "text/html": [
       "<div>\n",
       "<style scoped>\n",
       "    .dataframe tbody tr th:only-of-type {\n",
       "        vertical-align: middle;\n",
       "    }\n",
       "\n",
       "    .dataframe tbody tr th {\n",
       "        vertical-align: top;\n",
       "    }\n",
       "\n",
       "    .dataframe thead th {\n",
       "        text-align: right;\n",
       "    }\n",
       "</style>\n",
       "<table border=\"1\" class=\"dataframe\">\n",
       "  <thead>\n",
       "    <tr style=\"text-align: right;\">\n",
       "      <th></th>\n",
       "      <th>categoria</th>\n",
       "      <th>texto</th>\n",
       "    </tr>\n",
       "  </thead>\n",
       "  <tbody>\n",
       "    <tr>\n",
       "      <th>0</th>\n",
       "      <td>esportes</td>\n",
       "      <td></td>\n",
       "    </tr>\n",
       "    <tr>\n",
       "      <th>1</th>\n",
       "      <td>esportes</td>\n",
       "      <td>chelsea mantem firme ideia contratar volante g...</td>\n",
       "    </tr>\n",
       "    <tr>\n",
       "      <th>2</th>\n",
       "      <td>esportes</td>\n",
       "      <td>camera seguranca mostrou momento exjogador fut...</td>\n",
       "    </tr>\n",
       "    <tr>\n",
       "      <th>3</th>\n",
       "      <td>esportes</td>\n",
       "      <td>esposa daniel alves preso desde janeiro suspei...</td>\n",
       "    </tr>\n",
       "    <tr>\n",
       "      <th>4</th>\n",
       "      <td>esportes</td>\n",
       "      <td>fernando diniz nao quis saber dar pistas sobre...</td>\n",
       "    </tr>\n",
       "  </tbody>\n",
       "</table>\n",
       "</div>"
      ],
      "text/plain": [
       "  categoria                                              texto\n",
       "0  esportes                                                   \n",
       "1  esportes  chelsea mantem firme ideia contratar volante g...\n",
       "2  esportes  camera seguranca mostrou momento exjogador fut...\n",
       "3  esportes  esposa daniel alves preso desde janeiro suspei...\n",
       "4  esportes  fernando diniz nao quis saber dar pistas sobre..."
      ]
     },
     "execution_count": 44,
     "metadata": {},
     "output_type": "execute_result"
    }
   ],
   "source": [
    "df_balanceado.head()"
   ]
  },
  {
   "cell_type": "code",
   "execution_count": 45,
   "id": "5ad5898d-dfde-47db-8d88-05fd8e8e3043",
   "metadata": {},
   "outputs": [
    {
     "data": {
      "text/html": [
       "<div>\n",
       "<style scoped>\n",
       "    .dataframe tbody tr th:only-of-type {\n",
       "        vertical-align: middle;\n",
       "    }\n",
       "\n",
       "    .dataframe tbody tr th {\n",
       "        vertical-align: top;\n",
       "    }\n",
       "\n",
       "    .dataframe thead th {\n",
       "        text-align: right;\n",
       "    }\n",
       "</style>\n",
       "<table border=\"1\" class=\"dataframe\">\n",
       "  <thead>\n",
       "    <tr style=\"text-align: right;\">\n",
       "      <th></th>\n",
       "      <th>categoria</th>\n",
       "      <th>texto</th>\n",
       "      <th>category_id</th>\n",
       "    </tr>\n",
       "  </thead>\n",
       "  <tbody>\n",
       "    <tr>\n",
       "      <th>0</th>\n",
       "      <td>esportes</td>\n",
       "      <td></td>\n",
       "      <td>0</td>\n",
       "    </tr>\n",
       "    <tr>\n",
       "      <th>1</th>\n",
       "      <td>esportes</td>\n",
       "      <td>chelsea mantem firme ideia contratar volante g...</td>\n",
       "      <td>0</td>\n",
       "    </tr>\n",
       "    <tr>\n",
       "      <th>2</th>\n",
       "      <td>esportes</td>\n",
       "      <td>camera seguranca mostrou momento exjogador fut...</td>\n",
       "      <td>0</td>\n",
       "    </tr>\n",
       "    <tr>\n",
       "      <th>3</th>\n",
       "      <td>esportes</td>\n",
       "      <td>esposa daniel alves preso desde janeiro suspei...</td>\n",
       "      <td>0</td>\n",
       "    </tr>\n",
       "    <tr>\n",
       "      <th>4</th>\n",
       "      <td>esportes</td>\n",
       "      <td>fernando diniz nao quis saber dar pistas sobre...</td>\n",
       "      <td>0</td>\n",
       "    </tr>\n",
       "  </tbody>\n",
       "</table>\n",
       "</div>"
      ],
      "text/plain": [
       "  categoria                                              texto  category_id\n",
       "0  esportes                                                               0\n",
       "1  esportes  chelsea mantem firme ideia contratar volante g...            0\n",
       "2  esportes  camera seguranca mostrou momento exjogador fut...            0\n",
       "3  esportes  esposa daniel alves preso desde janeiro suspei...            0\n",
       "4  esportes  fernando diniz nao quis saber dar pistas sobre...            0"
      ]
     },
     "execution_count": 45,
     "metadata": {},
     "output_type": "execute_result"
    }
   ],
   "source": [
    "df_balanceado['category_id'] = df_balanceado['categoria'].factorize()[0]\n",
    "from io import StringIO\n",
    "category_id_df = df_balanceado[['categoria', 'category_id']].drop_duplicates().sort_values('category_id')\n",
    "category_to_id = dict(category_id_df.values)\n",
    "id_to_category = dict(category_id_df[['category_id', 'categoria']].values)\n",
    "df_balanceado.head()"
   ]
  },
  {
   "cell_type": "code",
   "execution_count": 46,
   "id": "89e3f2cd-38af-458d-aabe-c448ee51f876",
   "metadata": {},
   "outputs": [
    {
     "data": {
      "text/plain": [
       "(2700, 20210)"
      ]
     },
     "execution_count": 46,
     "metadata": {},
     "output_type": "execute_result"
    }
   ],
   "source": [
    "## Bag of Words model - TF-IDF\n",
    "from sklearn.feature_extraction.text import TfidfVectorizer\n",
    "tfidf = TfidfVectorizer(sublinear_tf=True, min_df=5, norm='l2', encoding='latin-1', ngram_range=(1, 2), stop_words=sw)\n",
    "features = tfidf.fit_transform(df_balanceado['texto']).toarray()\n",
    "labels = df_balanceado.category_id\n",
    "features.shape"
   ]
  },
  {
   "cell_type": "code",
   "execution_count": 47,
   "id": "a473cad0-5e3e-4e15-b4aa-cdc05ac86c33",
   "metadata": {},
   "outputs": [
    {
     "name": "stdout",
     "output_type": "stream",
     "text": [
      "# 'economia':\n",
      "  . Most correlated unigrams:\n",
      ". mercado\n",
      ". bilhoes\n",
      "  . Most correlated bigrams:\n",
      ". reforma tributaria\n",
      ". banco central\n",
      "# 'entretenimento':\n",
      "  . Most correlated unigrams:\n",
      ". fas\n",
      ". cantora\n",
      "  . Most correlated bigrams:\n",
      ". post shared\n",
      ". shared by\n",
      "# 'esportes':\n",
      "  . Most correlated unigrams:\n",
      ". rodada\n",
      ". campeonato\n",
      "  . Most correlated bigrams:\n",
      ". originalmente itatiaia\n",
      ". itatiaia versao\n",
      "# 'internacional':\n",
      "  . Most correlated unigrams:\n",
      ". gaza\n",
      ". israel\n",
      "  . Most correlated bigrams:\n",
      ". defesa israel\n",
      ". faixa gaza\n",
      "# 'nacional':\n",
      "  . Most correlated unigrams:\n",
      ". civil\n",
      ". policia\n",
      "  . Most correlated bigrams:\n",
      ". defesa civil\n",
      ". policia civil\n",
      "# 'politica':\n",
      "  . Most correlated unigrams:\n",
      ". supremo\n",
      ". stf\n",
      "  . Most correlated bigrams:\n",
      ". supremo tribunal\n",
      ". tribunal federal\n"
     ]
    }
   ],
   "source": [
    "from sklearn.feature_selection import chi2\n",
    "import numpy as np\n",
    "\n",
    "N = 2\n",
    "\n",
    "for categoria, category_id in sorted(category_to_id.items()):\n",
    "  features_chi2 = chi2(features, labels == category_id)\n",
    "  indices = np.argsort(features_chi2[0])\n",
    "  feature_names = np.array(tfidf.get_feature_names_out())[indices]\n",
    "  unigrams = [v for v in feature_names if len(v.split(' ')) == 1]\n",
    "  bigrams = [v for v in feature_names if len(v.split(' ')) == 2]\n",
    "  print(\"# '{}':\".format(categoria))\n",
    "  print(\"  . Most correlated unigrams:\\n. {}\".format('\\n. '.join(unigrams[-N:])))\n",
    "  print(\"  . Most correlated bigrams:\\n. {}\".format('\\n. '.join(bigrams[-N:])))"
   ]
  },
  {
   "cell_type": "code",
   "execution_count": 48,
   "id": "687864a6-c2db-4e50-be02-5fef0fce5b3e",
   "metadata": {},
   "outputs": [],
   "source": [
    "from sklearn.model_selection import train_test_split\n",
    "from sklearn.feature_extraction.text import CountVectorizer\n",
    "from sklearn.feature_extraction.text import TfidfTransformer\n",
    "from sklearn.naive_bayes import MultinomialNB\n",
    "\n",
    "X_train, X_test, y_train, y_test = train_test_split(df_balanceado['texto'], df_balanceado['categoria'], random_state = 2)\n",
    "count_vect = CountVectorizer()\n",
    "X_train_counts = count_vect.fit_transform(X_train)\n",
    "tfidf_transformer = TfidfTransformer()\n",
    "X_train_tfidf = tfidf_transformer.fit_transform(X_train_counts)\n",
    "\n",
    "clf = MultinomialNB().fit(X_train_tfidf, y_train)"
   ]
  },
  {
   "cell_type": "code",
   "execution_count": 49,
   "id": "c6f670a3-9d48-4e9c-b080-d68b1821fca5",
   "metadata": {},
   "outputs": [
    {
     "name": "stderr",
     "output_type": "stream",
     "text": [
      "/home/hworld/.local/lib/python3.10/site-packages/sklearn/svm/_classes.py:31: FutureWarning: The default value of `dual` will change from `True` to `'auto'` in 1.5. Set the value of `dual` explicitly to suppress the warning.\n",
      "  warnings.warn(\n",
      "/home/hworld/.local/lib/python3.10/site-packages/sklearn/svm/_classes.py:31: FutureWarning: The default value of `dual` will change from `True` to `'auto'` in 1.5. Set the value of `dual` explicitly to suppress the warning.\n",
      "  warnings.warn(\n",
      "/home/hworld/.local/lib/python3.10/site-packages/sklearn/svm/_classes.py:31: FutureWarning: The default value of `dual` will change from `True` to `'auto'` in 1.5. Set the value of `dual` explicitly to suppress the warning.\n",
      "  warnings.warn(\n",
      "/home/hworld/.local/lib/python3.10/site-packages/sklearn/svm/_classes.py:31: FutureWarning: The default value of `dual` will change from `True` to `'auto'` in 1.5. Set the value of `dual` explicitly to suppress the warning.\n",
      "  warnings.warn(\n",
      "/home/hworld/.local/lib/python3.10/site-packages/sklearn/svm/_classes.py:31: FutureWarning: The default value of `dual` will change from `True` to `'auto'` in 1.5. Set the value of `dual` explicitly to suppress the warning.\n",
      "  warnings.warn(\n"
     ]
    }
   ],
   "source": [
    "from sklearn.linear_model import LogisticRegression\n",
    "from sklearn.ensemble import RandomForestClassifier\n",
    "from sklearn.naive_bayes import MultinomialNB\n",
    "from sklearn.svm import LinearSVC\n",
    "\n",
    "from sklearn.model_selection import cross_val_score\n",
    "\n",
    "models = [\n",
    "    RandomForestClassifier(n_estimators=200, max_depth=3, random_state=0),\n",
    "    LinearSVC(),\n",
    "    MultinomialNB(),\n",
    "    LogisticRegression(random_state=0),\n",
    "]\n",
    "CV = 5\n",
    "cv_df = pd.DataFrame(index=range(CV * len(models)))\n",
    "entries = []\n",
    "for model in models:\n",
    "  model_name = model.__class__.__name__\n",
    "  accuracies = cross_val_score(model, features, labels, scoring='accuracy', cv=CV)\n",
    "  for fold_idx, accuracy in enumerate(accuracies):\n",
    "    entries.append((model_name, fold_idx, accuracy))\n",
    "cv_df = pd.DataFrame(entries, columns=['model_name', 'fold_idx', 'accuracy'])"
   ]
  },
  {
   "cell_type": "code",
   "execution_count": 50,
   "id": "ada26c75-2146-40bd-ac71-ef25fa7a61f2",
   "metadata": {},
   "outputs": [
    {
     "data": {
      "text/plain": [
       "model_name\n",
       "LinearSVC                 0.913704\n",
       "LogisticRegression        0.898148\n",
       "MultinomialNB             0.891111\n",
       "RandomForestClassifier    0.791481\n",
       "Name: accuracy, dtype: float64"
      ]
     },
     "execution_count": 50,
     "metadata": {},
     "output_type": "execute_result"
    }
   ],
   "source": [
    "cv_df.groupby('model_name').accuracy.mean()"
   ]
  },
  {
   "cell_type": "code",
   "execution_count": 51,
   "id": "f9442d19-ff2b-4fec-b654-b4bdfeafcae4",
   "metadata": {},
   "outputs": [
    {
     "name": "stderr",
     "output_type": "stream",
     "text": [
      "/home/hworld/.local/lib/python3.10/site-packages/sklearn/svm/_classes.py:31: FutureWarning: The default value of `dual` will change from `True` to `'auto'` in 1.5. Set the value of `dual` explicitly to suppress the warning.\n",
      "  warnings.warn(\n"
     ]
    }
   ],
   "source": [
    "from sklearn.model_selection import train_test_split\n",
    "\n",
    "model = LinearSVC()\n",
    "\n",
    "X_train, X_test, y_train, y_test, indices_train, indices_test = train_test_split(features, labels, df_balanceado.index, test_size=0.33, random_state=0)\n",
    "model.fit(X_train, y_train)\n",
    "y_pred = model.predict(X_test)"
   ]
  },
  {
   "cell_type": "code",
   "execution_count": 52,
   "id": "dc190f0a-bf77-436c-8e07-96c061bb534b",
   "metadata": {},
   "outputs": [
    {
     "name": "stdout",
     "output_type": "stream",
     "text": [
      "                precision    recall  f1-score   support\n",
      "\n",
      "      esportes       0.98      0.99      0.99       140\n",
      "      nacional       0.88      0.86      0.87       147\n",
      " internacional       0.94      0.92      0.93       159\n",
      "      economia       0.89      0.91      0.90       137\n",
      "      politica       0.89      0.84      0.87       141\n",
      "entretenimento       0.93      0.98      0.95       167\n",
      "\n",
      "      accuracy                           0.92       891\n",
      "     macro avg       0.92      0.92      0.92       891\n",
      "  weighted avg       0.92      0.92      0.92       891\n",
      "\n"
     ]
    }
   ],
   "source": [
    "from sklearn import metrics\n",
    "print(metrics.classification_report(y_test, y_pred,target_names=df_balanceado['categoria'].unique()))"
   ]
  }
 ],
 "metadata": {
  "kernelspec": {
   "display_name": "Python 3 (ipykernel)",
   "language": "python",
   "name": "python3"
  },
  "language_info": {
   "codemirror_mode": {
    "name": "ipython",
    "version": 3
   },
   "file_extension": ".py",
   "mimetype": "text/x-python",
   "name": "python",
   "nbconvert_exporter": "python",
   "pygments_lexer": "ipython3",
   "version": "3.10.9"
  }
 },
 "nbformat": 4,
 "nbformat_minor": 5
}
