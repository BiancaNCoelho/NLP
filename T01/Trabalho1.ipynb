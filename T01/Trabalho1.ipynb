{
 "cells": [
  {
   "cell_type": "markdown",
   "id": "2dcc6805-62bb-443d-90da-97a664722ced",
   "metadata": {},
   "source": [
    "# Trabalho 1\n",
    "Matéria: Processamento de Linguagem Natural <br>\n",
    "Dupla/Matrícula: Bianca Nunes Coelho - 15102880, Raíssa Nunes Coelho - 15102887 <br> "
   ]
  },
  {
   "cell_type": "markdown",
   "id": "dad90a93-1f3f-4c3d-9526-319fb5b42742",
   "metadata": {},
   "source": [
    "## Introdução\n",
    "\n",
    "Multi Class Classification <br>"
   ]
  },
  {
   "cell_type": "markdown",
   "id": "988aaa3a-0dd6-49e6-a703-ec5b042048fb",
   "metadata": {},
   "source": [
    "## Bibliotecas\n",
    "Bibliotecas do ptyhon utilizadas neste trabalho estão a seguir."
   ]
  },
  {
   "cell_type": "code",
   "execution_count": 1,
   "id": "a3cd0f70-3ec7-4e09-b942-8a08a73bb744",
   "metadata": {},
   "outputs": [],
   "source": [
    "import pandas as pd\n",
    "import re\n",
    "import nltk\n",
    "import spacy\n",
    "import gensim\n",
    "import matplotlib.pyplot as plt"
   ]
  },
  {
   "cell_type": "markdown",
   "id": "1560868d-ad70-4a86-a2c8-ddc37c631191",
   "metadata": {},
   "source": [
    "## Datasets\n",
    "Datasets utilizados estão definidos a seguir."
   ]
  },
  {
   "cell_type": "code",
   "execution_count": 2,
   "id": "35b67696-aaf3-4ac5-9d2a-ee1772410097",
   "metadata": {},
   "outputs": [],
   "source": [
    "file = \"train-00000-of-00001-ecf072e7202447d8.parquet\"\n",
    "df = pd.read_parquet(file, engine= 'pyarrow')"
   ]
  },
  {
   "cell_type": "code",
   "execution_count": 3,
   "id": "ab167922-da09-4405-bd0a-729b239877dc",
   "metadata": {},
   "outputs": [
    {
     "data": {
      "text/plain": [
       "3877"
      ]
     },
     "execution_count": 3,
     "metadata": {},
     "output_type": "execute_result"
    }
   ],
   "source": [
    "len(df)"
   ]
  },
  {
   "cell_type": "code",
   "execution_count": 4,
   "id": "41b78a0c-a498-46e2-8e7b-84f28daf62ca",
   "metadata": {
    "scrolled": true
   },
   "outputs": [
    {
     "data": {
      "text/html": [
       "<div>\n",
       "<style scoped>\n",
       "    .dataframe tbody tr th:only-of-type {\n",
       "        vertical-align: middle;\n",
       "    }\n",
       "\n",
       "    .dataframe tbody tr th {\n",
       "        vertical-align: top;\n",
       "    }\n",
       "\n",
       "    .dataframe thead th {\n",
       "        text-align: right;\n",
       "    }\n",
       "</style>\n",
       "<table border=\"1\" class=\"dataframe\">\n",
       "  <thead>\n",
       "    <tr style=\"text-align: right;\">\n",
       "      <th></th>\n",
       "      <th>titulo</th>\n",
       "      <th>texto</th>\n",
       "      <th>link</th>\n",
       "      <th>resumo</th>\n",
       "      <th>categoria</th>\n",
       "      <th>data_hora</th>\n",
       "    </tr>\n",
       "  </thead>\n",
       "  <tbody>\n",
       "    <tr>\n",
       "      <th>0</th>\n",
       "      <td>Veja a trajetória de Fernando Diniz, em busca ...</td>\n",
       "      <td>Se tem um treinador que sempre foi badalado pe...</td>\n",
       "      <td>https://www.cnnbrasil.com.br/esportes/veja-a-t...</td>\n",
       "      <td>Técnico tricolor e da Seleção Brasileira tem a...</td>\n",
       "      <td>esportes</td>\n",
       "      <td>2023-11-04 12:26:18</td>\n",
       "    </tr>\n",
       "    <tr>\n",
       "      <th>1</th>\n",
       "      <td>Após tempestade com ventos, São Paulo terá sáb...</td>\n",
       "      <td>Após uma tempestade com ventos de mais de 100 ...</td>\n",
       "      <td>https://www.cnnbrasil.com.br/nacional/apos-tem...</td>\n",
       "      <td>Termômetros devem chegar a 26ºC, esquentando a...</td>\n",
       "      <td>nacional</td>\n",
       "      <td>2023-11-04 12:15:44</td>\n",
       "    </tr>\n",
       "    <tr>\n",
       "      <th>2</th>\n",
       "      <td>Como os aplicativos de relacionamento “arruina...</td>\n",
       "      <td>Jenny Nguyen-Don estava com vontade de comer f...</td>\n",
       "      <td>https://www.cnnbrasil.com.br/tecnologia/como-o...</td>\n",
       "      <td>Pessoas em busca de relacionamentos afirmam qu...</td>\n",
       "      <td>tecnologia</td>\n",
       "      <td>2023-11-04 12:15:07</td>\n",
       "    </tr>\n",
       "    <tr>\n",
       "      <th>3</th>\n",
       "      <td>Fluminense pode ser o 26º clube a levantar a t...</td>\n",
       "      <td>O Fluminense vai em busca do primeiro título d...</td>\n",
       "      <td>https://www.cnnbrasil.com.br/esportes/fluminen...</td>\n",
       "      <td>Em busca do título inédito, o Tricolor carioca...</td>\n",
       "      <td>esportes</td>\n",
       "      <td>2023-11-04 12:05:24</td>\n",
       "    </tr>\n",
       "  </tbody>\n",
       "</table>\n",
       "</div>"
      ],
      "text/plain": [
       "                                              titulo  \\\n",
       "0  Veja a trajetória de Fernando Diniz, em busca ...   \n",
       "1  Após tempestade com ventos, São Paulo terá sáb...   \n",
       "2  Como os aplicativos de relacionamento “arruina...   \n",
       "3  Fluminense pode ser o 26º clube a levantar a t...   \n",
       "\n",
       "                                               texto  \\\n",
       "0  Se tem um treinador que sempre foi badalado pe...   \n",
       "1  Após uma tempestade com ventos de mais de 100 ...   \n",
       "2  Jenny Nguyen-Don estava com vontade de comer f...   \n",
       "3  O Fluminense vai em busca do primeiro título d...   \n",
       "\n",
       "                                                link  \\\n",
       "0  https://www.cnnbrasil.com.br/esportes/veja-a-t...   \n",
       "1  https://www.cnnbrasil.com.br/nacional/apos-tem...   \n",
       "2  https://www.cnnbrasil.com.br/tecnologia/como-o...   \n",
       "3  https://www.cnnbrasil.com.br/esportes/fluminen...   \n",
       "\n",
       "                                              resumo   categoria  \\\n",
       "0  Técnico tricolor e da Seleção Brasileira tem a...    esportes   \n",
       "1  Termômetros devem chegar a 26ºC, esquentando a...    nacional   \n",
       "2  Pessoas em busca de relacionamentos afirmam qu...  tecnologia   \n",
       "3  Em busca do título inédito, o Tricolor carioca...    esportes   \n",
       "\n",
       "             data_hora  \n",
       "0  2023-11-04 12:26:18  \n",
       "1  2023-11-04 12:15:44  \n",
       "2  2023-11-04 12:15:07  \n",
       "3  2023-11-04 12:05:24  "
      ]
     },
     "execution_count": 4,
     "metadata": {},
     "output_type": "execute_result"
    }
   ],
   "source": [
    "df.head(4)"
   ]
  },
  {
   "cell_type": "markdown",
   "id": "8aa6f7f3-edb4-4990-9cca-4b80617f41dd",
   "metadata": {},
   "source": [
    "## Balanceamento"
   ]
  },
  {
   "cell_type": "code",
   "execution_count": 5,
   "id": "3ef5e8fa-9005-40f3-b0fd-2a9d50cb97dd",
   "metadata": {},
   "outputs": [
    {
     "data": {
      "text/plain": [
       "esportes           960\n",
       "nacional           623\n",
       "internacional      618\n",
       "economia           562\n",
       "politica           507\n",
       "entretenimento     450\n",
       "tecnologia          44\n",
       "saude               41\n",
       "noticias            38\n",
       "lifestyle           21\n",
       "branded-content     13\n",
       "Name: categoria, dtype: int64"
      ]
     },
     "execution_count": 5,
     "metadata": {},
     "output_type": "execute_result"
    }
   ],
   "source": [
    "df['categoria'].value_counts()"
   ]
  },
  {
   "cell_type": "code",
   "execution_count": 53,
   "id": "498911e8-906e-41dc-9bdc-039d09b4c4ce",
   "metadata": {},
   "outputs": [
    {
     "data": {
      "text/plain": [
       "<Axes: xlabel='categoria'>"
      ]
     },
     "execution_count": 53,
     "metadata": {},
     "output_type": "execute_result"
    },
    {
     "data": {
      "image/png": "[encoded data removed]",
      "text/plain": [
       "<Figure size 1000x400 with 1 Axes>"
      ]
     },
     "metadata": {},
     "output_type": "display_data"
    }
   ],
   "source": [
    "plt.figure(figsize=(10,4))\n",
    "df.categoria.value_counts().plot(kind='bar')"
   ]
  },
  {
   "cell_type": "code",
   "execution_count": 7,
   "id": "696e88a5-62a5-46c3-acec-8575da709518",
   "metadata": {},
   "outputs": [],
   "source": [
    "indice_linha_remover = ['tecnologia',  'saude','noticias','lifestyle','branded-content']"
   ]
  },
  {
   "cell_type": "code",
   "execution_count": 8,
   "id": "c971502d-21ba-40dd-8dab-3bd93640fad6",
   "metadata": {},
   "outputs": [],
   "source": [
    "df = df[~df['categoria'].isin(indice_linha_remover)]"
   ]
  },
  {
   "cell_type": "code",
   "execution_count": 9,
   "id": "519d61c7-a98e-4703-a157-455a39e71b7b",
   "metadata": {},
   "outputs": [
    {
     "data": {
      "text/plain": [
       "esportes          960\n",
       "nacional          623\n",
       "internacional     618\n",
       "economia          562\n",
       "politica          507\n",
       "entretenimento    450\n",
       "Name: categoria, dtype: int64"
      ]
     },
     "execution_count": 9,
     "metadata": {},
     "output_type": "execute_result"
    }
   ],
   "source": [
    "df['categoria'].value_counts()"
   ]
  },
  {
   "cell_type": "code",
   "execution_count": 10,
   "id": "8b080baf-1753-4f8c-88ba-ee247c734a79",
   "metadata": {},
   "outputs": [],
   "source": [
    "# Undersampling\n",
    "min = df['categoria'].value_counts().min()\n",
    "\n",
    "amostras = []\n",
    "\n",
    "for i in df['categoria'].value_counts().index:\n",
    "    a = df[df['categoria'] == i].sample(min, replace=False)\n",
    "    amostras.append(a)\n",
    "\n",
    "df_balanceado = pd.concat(amostras)"
   ]
  },
  {
   "cell_type": "code",
   "execution_count": 11,
   "id": "90d0307b-f2bf-4988-aa52-8795343fdfe1",
   "metadata": {},
   "outputs": [
    {
     "data": {
      "text/plain": [
       "esportes          450\n",
       "nacional          450\n",
       "internacional     450\n",
       "economia          450\n",
       "politica          450\n",
       "entretenimento    450\n",
       "Name: categoria, dtype: int64"
      ]
     },
     "execution_count": 11,
     "metadata": {},
     "output_type": "execute_result"
    }
   ],
   "source": [
    "df_balanceado['categoria'].value_counts()"
   ]
  },
  {
   "cell_type": "code",
   "execution_count": 12,
   "id": "892752bf-2247-4e1c-bb90-1c673908ad1c",
   "metadata": {},
   "outputs": [
    {
     "data": {
      "text/html": [
       "<div>\n",
       "<style scoped>\n",
       "    .dataframe tbody tr th:only-of-type {\n",
       "        vertical-align: middle;\n",
       "    }\n",
       "\n",
       "    .dataframe tbody tr th {\n",
       "        vertical-align: top;\n",
       "    }\n",
       "\n",
       "    .dataframe thead th {\n",
       "        text-align: right;\n",
       "    }\n",
       "</style>\n",
       "<table border=\"1\" class=\"dataframe\">\n",
       "  <thead>\n",
       "    <tr style=\"text-align: right;\">\n",
       "      <th></th>\n",
       "      <th>titulo</th>\n",
       "      <th>texto</th>\n",
       "      <th>link</th>\n",
       "      <th>resumo</th>\n",
       "      <th>categoria</th>\n",
       "      <th>data_hora</th>\n",
       "    </tr>\n",
       "  </thead>\n",
       "  <tbody>\n",
       "    <tr>\n",
       "      <th>0</th>\n",
       "      <td>Torcida do Corinthians protesta e invade campo...</td>\n",
       "      <td>O Bahia atropelou o Corinthians na Neo Química...</td>\n",
       "      <td>https://www.cnnbrasil.com.br/esportes/torcida-...</td>\n",
       "      <td>Em casa, time paulista levou um histórico 5 a ...</td>\n",
       "      <td>esportes</td>\n",
       "      <td>2023-11-25 03:13:34</td>\n",
       "    </tr>\n",
       "    <tr>\n",
       "      <th>1</th>\n",
       "      <td>Al-Nassr tem maior folha salarial do mundo; ve...</td>\n",
       "      <td>Nas janelas de transferências deste ano, os cl...</td>\n",
       "      <td>https://www.cnnbrasil.com.br/esportes/al-nassr...</td>\n",
       "      <td>Ranking com as 20 maiores folhas salariais do ...</td>\n",
       "      <td>esportes</td>\n",
       "      <td>2023-11-06 22:36:55</td>\n",
       "    </tr>\n",
       "    <tr>\n",
       "      <th>2</th>\n",
       "      <td>Maior campeão da Libertadores, Independiente p...</td>\n",
       "      <td>Com o vice-campeonato neste sábado (4) diante ...</td>\n",
       "      <td>https://www.cnnbrasil.com.br/esportes/maior-ca...</td>\n",
       "      <td>Clube de Avellaneda segue como o primeiro no r...</td>\n",
       "      <td>esportes</td>\n",
       "      <td>2023-11-05 00:45:55</td>\n",
       "    </tr>\n",
       "    <tr>\n",
       "      <th>3</th>\n",
       "      <td>Anderson Talisca, do Al-Nassr, lança EP de mús...</td>\n",
       "      <td>Atualmente no Al-Nassr, time de Cristiano Rona...</td>\n",
       "      <td>https://www.cnnbrasil.com.br/esportes/anderson...</td>\n",
       "      <td>Brasileiro é companheiro de Cristiano Ronaldo ...</td>\n",
       "      <td>esportes</td>\n",
       "      <td>2023-11-24 20:50:32</td>\n",
       "    </tr>\n",
       "    <tr>\n",
       "      <th>4</th>\n",
       "      <td>Cruzeiro poderá ter torcida em jogo com Athlet...</td>\n",
       "      <td>O Cruzeiro divulgou que poderá ter torcida no ...</td>\n",
       "      <td>https://www.cnnbrasil.com.br/esportes/cruzeiro...</td>\n",
       "      <td>Equipe de Paulo Autuori receberá o Furacão na ...</td>\n",
       "      <td>esportes</td>\n",
       "      <td>2023-11-28 20:41:39</td>\n",
       "    </tr>\n",
       "  </tbody>\n",
       "</table>\n",
       "</div>"
      ],
      "text/plain": [
       "                                              titulo  \\\n",
       "0  Torcida do Corinthians protesta e invade campo...   \n",
       "1  Al-Nassr tem maior folha salarial do mundo; ve...   \n",
       "2  Maior campeão da Libertadores, Independiente p...   \n",
       "3  Anderson Talisca, do Al-Nassr, lança EP de mús...   \n",
       "4  Cruzeiro poderá ter torcida em jogo com Athlet...   \n",
       "\n",
       "                                               texto  \\\n",
       "0  O Bahia atropelou o Corinthians na Neo Química...   \n",
       "1  Nas janelas de transferências deste ano, os cl...   \n",
       "2  Com o vice-campeonato neste sábado (4) diante ...   \n",
       "3  Atualmente no Al-Nassr, time de Cristiano Rona...   \n",
       "4  O Cruzeiro divulgou que poderá ter torcida no ...   \n",
       "\n",
       "                                                link  \\\n",
       "0  https://www.cnnbrasil.com.br/esportes/torcida-...   \n",
       "1  https://www.cnnbrasil.com.br/esportes/al-nassr...   \n",
       "2  https://www.cnnbrasil.com.br/esportes/maior-ca...   \n",
       "3  https://www.cnnbrasil.com.br/esportes/anderson...   \n",
       "4  https://www.cnnbrasil.com.br/esportes/cruzeiro...   \n",
       "\n",
       "                                              resumo categoria  \\\n",
       "0  Em casa, time paulista levou um histórico 5 a ...  esportes   \n",
       "1  Ranking com as 20 maiores folhas salariais do ...  esportes   \n",
       "2  Clube de Avellaneda segue como o primeiro no r...  esportes   \n",
       "3  Brasileiro é companheiro de Cristiano Ronaldo ...  esportes   \n",
       "4  Equipe de Paulo Autuori receberá o Furacão na ...  esportes   \n",
       "\n",
       "             data_hora  \n",
       "0  2023-11-25 03:13:34  \n",
       "1  2023-11-06 22:36:55  \n",
       "2  2023-11-05 00:45:55  \n",
       "3  2023-11-24 20:50:32  \n",
       "4  2023-11-28 20:41:39  "
      ]
     },
     "execution_count": 12,
     "metadata": {},
     "output_type": "execute_result"
    }
   ],
   "source": [
    "df_balanceado = df_balanceado.reset_index(drop=True)\n",
    "df_balanceado.head(5)"
   ]
  },
  {
   "cell_type": "code",
   "execution_count": 13,
   "id": "adf3e922-5d63-42cc-9a2a-4d6c3214fc62",
   "metadata": {},
   "outputs": [],
   "source": [
    "df_balanceado2 = df_balanceado.copy()\n",
    "df_balanceado3 = df_balanceado.copy()"
   ]
  },
  {
   "cell_type": "code",
   "execution_count": 14,
   "id": "1af4a198-bf97-4adb-a205-5d464decb9bc",
   "metadata": {},
   "outputs": [
    {
     "data": {
      "text/html": [
       "<div>\n",
       "<style scoped>\n",
       "    .dataframe tbody tr th:only-of-type {\n",
       "        vertical-align: middle;\n",
       "    }\n",
       "\n",
       "    .dataframe tbody tr th {\n",
       "        vertical-align: top;\n",
       "    }\n",
       "\n",
       "    .dataframe thead th {\n",
       "        text-align: right;\n",
       "    }\n",
       "</style>\n",
       "<table border=\"1\" class=\"dataframe\">\n",
       "  <thead>\n",
       "    <tr style=\"text-align: right;\">\n",
       "      <th></th>\n",
       "      <th>titulo</th>\n",
       "      <th>texto</th>\n",
       "      <th>link</th>\n",
       "      <th>resumo</th>\n",
       "      <th>categoria</th>\n",
       "      <th>data_hora</th>\n",
       "    </tr>\n",
       "  </thead>\n",
       "  <tbody>\n",
       "    <tr>\n",
       "      <th>0</th>\n",
       "      <td>Torcida do Corinthians protesta e invade campo...</td>\n",
       "      <td>O Bahia atropelou o Corinthians na Neo Química...</td>\n",
       "      <td>https://www.cnnbrasil.com.br/esportes/torcida-...</td>\n",
       "      <td>Em casa, time paulista levou um histórico 5 a ...</td>\n",
       "      <td>esportes</td>\n",
       "      <td>2023-11-25 03:13:34</td>\n",
       "    </tr>\n",
       "    <tr>\n",
       "      <th>1</th>\n",
       "      <td>Al-Nassr tem maior folha salarial do mundo; ve...</td>\n",
       "      <td>Nas janelas de transferências deste ano, os cl...</td>\n",
       "      <td>https://www.cnnbrasil.com.br/esportes/al-nassr...</td>\n",
       "      <td>Ranking com as 20 maiores folhas salariais do ...</td>\n",
       "      <td>esportes</td>\n",
       "      <td>2023-11-06 22:36:55</td>\n",
       "    </tr>\n",
       "    <tr>\n",
       "      <th>2</th>\n",
       "      <td>Maior campeão da Libertadores, Independiente p...</td>\n",
       "      <td>Com o vice-campeonato neste sábado (4) diante ...</td>\n",
       "      <td>https://www.cnnbrasil.com.br/esportes/maior-ca...</td>\n",
       "      <td>Clube de Avellaneda segue como o primeiro no r...</td>\n",
       "      <td>esportes</td>\n",
       "      <td>2023-11-05 00:45:55</td>\n",
       "    </tr>\n",
       "    <tr>\n",
       "      <th>3</th>\n",
       "      <td>Anderson Talisca, do Al-Nassr, lança EP de mús...</td>\n",
       "      <td>Atualmente no Al-Nassr, time de Cristiano Rona...</td>\n",
       "      <td>https://www.cnnbrasil.com.br/esportes/anderson...</td>\n",
       "      <td>Brasileiro é companheiro de Cristiano Ronaldo ...</td>\n",
       "      <td>esportes</td>\n",
       "      <td>2023-11-24 20:50:32</td>\n",
       "    </tr>\n",
       "    <tr>\n",
       "      <th>4</th>\n",
       "      <td>Cruzeiro poderá ter torcida em jogo com Athlet...</td>\n",
       "      <td>O Cruzeiro divulgou que poderá ter torcida no ...</td>\n",
       "      <td>https://www.cnnbrasil.com.br/esportes/cruzeiro...</td>\n",
       "      <td>Equipe de Paulo Autuori receberá o Furacão na ...</td>\n",
       "      <td>esportes</td>\n",
       "      <td>2023-11-28 20:41:39</td>\n",
       "    </tr>\n",
       "  </tbody>\n",
       "</table>\n",
       "</div>"
      ],
      "text/plain": [
       "                                              titulo  \\\n",
       "0  Torcida do Corinthians protesta e invade campo...   \n",
       "1  Al-Nassr tem maior folha salarial do mundo; ve...   \n",
       "2  Maior campeão da Libertadores, Independiente p...   \n",
       "3  Anderson Talisca, do Al-Nassr, lança EP de mús...   \n",
       "4  Cruzeiro poderá ter torcida em jogo com Athlet...   \n",
       "\n",
       "                                               texto  \\\n",
       "0  O Bahia atropelou o Corinthians na Neo Química...   \n",
       "1  Nas janelas de transferências deste ano, os cl...   \n",
       "2  Com o vice-campeonato neste sábado (4) diante ...   \n",
       "3  Atualmente no Al-Nassr, time de Cristiano Rona...   \n",
       "4  O Cruzeiro divulgou que poderá ter torcida no ...   \n",
       "\n",
       "                                                link  \\\n",
       "0  https://www.cnnbrasil.com.br/esportes/torcida-...   \n",
       "1  https://www.cnnbrasil.com.br/esportes/al-nassr...   \n",
       "2  https://www.cnnbrasil.com.br/esportes/maior-ca...   \n",
       "3  https://www.cnnbrasil.com.br/esportes/anderson...   \n",
       "4  https://www.cnnbrasil.com.br/esportes/cruzeiro...   \n",
       "\n",
       "                                              resumo categoria  \\\n",
       "0  Em casa, time paulista levou um histórico 5 a ...  esportes   \n",
       "1  Ranking com as 20 maiores folhas salariais do ...  esportes   \n",
       "2  Clube de Avellaneda segue como o primeiro no r...  esportes   \n",
       "3  Brasileiro é companheiro de Cristiano Ronaldo ...  esportes   \n",
       "4  Equipe de Paulo Autuori receberá o Furacão na ...  esportes   \n",
       "\n",
       "             data_hora  \n",
       "0  2023-11-25 03:13:34  \n",
       "1  2023-11-06 22:36:55  \n",
       "2  2023-11-05 00:45:55  \n",
       "3  2023-11-24 20:50:32  \n",
       "4  2023-11-28 20:41:39  "
      ]
     },
     "execution_count": 14,
     "metadata": {},
     "output_type": "execute_result"
    }
   ],
   "source": [
    "df_balanceado2.head()"
   ]
  },
  {
   "cell_type": "code",
   "execution_count": 15,
   "id": "17184f95-683d-4dcd-a4e9-b85235ce73c3",
   "metadata": {},
   "outputs": [
    {
     "data": {
      "text/html": [
       "<div>\n",
       "<style scoped>\n",
       "    .dataframe tbody tr th:only-of-type {\n",
       "        vertical-align: middle;\n",
       "    }\n",
       "\n",
       "    .dataframe tbody tr th {\n",
       "        vertical-align: top;\n",
       "    }\n",
       "\n",
       "    .dataframe thead th {\n",
       "        text-align: right;\n",
       "    }\n",
       "</style>\n",
       "<table border=\"1\" class=\"dataframe\">\n",
       "  <thead>\n",
       "    <tr style=\"text-align: right;\">\n",
       "      <th></th>\n",
       "      <th>titulo</th>\n",
       "      <th>texto</th>\n",
       "      <th>link</th>\n",
       "      <th>resumo</th>\n",
       "      <th>categoria</th>\n",
       "      <th>data_hora</th>\n",
       "    </tr>\n",
       "  </thead>\n",
       "  <tbody>\n",
       "    <tr>\n",
       "      <th>0</th>\n",
       "      <td>Torcida do Corinthians protesta e invade campo...</td>\n",
       "      <td>O Bahia atropelou o Corinthians na Neo Química...</td>\n",
       "      <td>https://www.cnnbrasil.com.br/esportes/torcida-...</td>\n",
       "      <td>Em casa, time paulista levou um histórico 5 a ...</td>\n",
       "      <td>esportes</td>\n",
       "      <td>2023-11-25 03:13:34</td>\n",
       "    </tr>\n",
       "    <tr>\n",
       "      <th>1</th>\n",
       "      <td>Al-Nassr tem maior folha salarial do mundo; ve...</td>\n",
       "      <td>Nas janelas de transferências deste ano, os cl...</td>\n",
       "      <td>https://www.cnnbrasil.com.br/esportes/al-nassr...</td>\n",
       "      <td>Ranking com as 20 maiores folhas salariais do ...</td>\n",
       "      <td>esportes</td>\n",
       "      <td>2023-11-06 22:36:55</td>\n",
       "    </tr>\n",
       "    <tr>\n",
       "      <th>2</th>\n",
       "      <td>Maior campeão da Libertadores, Independiente p...</td>\n",
       "      <td>Com o vice-campeonato neste sábado (4) diante ...</td>\n",
       "      <td>https://www.cnnbrasil.com.br/esportes/maior-ca...</td>\n",
       "      <td>Clube de Avellaneda segue como o primeiro no r...</td>\n",
       "      <td>esportes</td>\n",
       "      <td>2023-11-05 00:45:55</td>\n",
       "    </tr>\n",
       "    <tr>\n",
       "      <th>3</th>\n",
       "      <td>Anderson Talisca, do Al-Nassr, lança EP de mús...</td>\n",
       "      <td>Atualmente no Al-Nassr, time de Cristiano Rona...</td>\n",
       "      <td>https://www.cnnbrasil.com.br/esportes/anderson...</td>\n",
       "      <td>Brasileiro é companheiro de Cristiano Ronaldo ...</td>\n",
       "      <td>esportes</td>\n",
       "      <td>2023-11-24 20:50:32</td>\n",
       "    </tr>\n",
       "    <tr>\n",
       "      <th>4</th>\n",
       "      <td>Cruzeiro poderá ter torcida em jogo com Athlet...</td>\n",
       "      <td>O Cruzeiro divulgou que poderá ter torcida no ...</td>\n",
       "      <td>https://www.cnnbrasil.com.br/esportes/cruzeiro...</td>\n",
       "      <td>Equipe de Paulo Autuori receberá o Furacão na ...</td>\n",
       "      <td>esportes</td>\n",
       "      <td>2023-11-28 20:41:39</td>\n",
       "    </tr>\n",
       "  </tbody>\n",
       "</table>\n",
       "</div>"
      ],
      "text/plain": [
       "                                              titulo  \\\n",
       "0  Torcida do Corinthians protesta e invade campo...   \n",
       "1  Al-Nassr tem maior folha salarial do mundo; ve...   \n",
       "2  Maior campeão da Libertadores, Independiente p...   \n",
       "3  Anderson Talisca, do Al-Nassr, lança EP de mús...   \n",
       "4  Cruzeiro poderá ter torcida em jogo com Athlet...   \n",
       "\n",
       "                                               texto  \\\n",
       "0  O Bahia atropelou o Corinthians na Neo Química...   \n",
       "1  Nas janelas de transferências deste ano, os cl...   \n",
       "2  Com o vice-campeonato neste sábado (4) diante ...   \n",
       "3  Atualmente no Al-Nassr, time de Cristiano Rona...   \n",
       "4  O Cruzeiro divulgou que poderá ter torcida no ...   \n",
       "\n",
       "                                                link  \\\n",
       "0  https://www.cnnbrasil.com.br/esportes/torcida-...   \n",
       "1  https://www.cnnbrasil.com.br/esportes/al-nassr...   \n",
       "2  https://www.cnnbrasil.com.br/esportes/maior-ca...   \n",
       "3  https://www.cnnbrasil.com.br/esportes/anderson...   \n",
       "4  https://www.cnnbrasil.com.br/esportes/cruzeiro...   \n",
       "\n",
       "                                              resumo categoria  \\\n",
       "0  Em casa, time paulista levou um histórico 5 a ...  esportes   \n",
       "1  Ranking com as 20 maiores folhas salariais do ...  esportes   \n",
       "2  Clube de Avellaneda segue como o primeiro no r...  esportes   \n",
       "3  Brasileiro é companheiro de Cristiano Ronaldo ...  esportes   \n",
       "4  Equipe de Paulo Autuori receberá o Furacão na ...  esportes   \n",
       "\n",
       "             data_hora  \n",
       "0  2023-11-25 03:13:34  \n",
       "1  2023-11-06 22:36:55  \n",
       "2  2023-11-05 00:45:55  \n",
       "3  2023-11-24 20:50:32  \n",
       "4  2023-11-28 20:41:39  "
      ]
     },
     "execution_count": 15,
     "metadata": {},
     "output_type": "execute_result"
    }
   ],
   "source": [
    "df_balanceado3.head()"
   ]
  },
  {
   "cell_type": "code",
   "execution_count": 16,
   "id": "2ae37d80-d01e-4fd2-8453-4a89eaa24937",
   "metadata": {},
   "outputs": [
    {
     "data": {
      "text/plain": [
       "2700"
      ]
     },
     "execution_count": 16,
     "metadata": {},
     "output_type": "execute_result"
    }
   ],
   "source": [
    "# pega coluna\n",
    "text = df_balanceado['texto'] # para NLTK\n",
    "text2 = df_balanceado2['texto'] # para spaCy\n",
    "text3 = df_balanceado3['texto'] # para Gensim\n",
    "len(text)"
   ]
  },
  {
   "cell_type": "code",
   "execution_count": 17,
   "id": "5022a379-5739-4952-a864-c866105f76c6",
   "metadata": {},
   "outputs": [
    {
     "data": {
      "text/plain": [
       "'O Bahia atropelou o Corinthians na Neo Química Arena, em São Paulo, nessa sexta-feira (24), pela 35ª rodada do Campeonato Brasileiro. O Tricolor de Aço fez 5 a 1 no Timão, que deixou o campo sob vaias, protestos e ameaças, além da invasão de dois torcedores.  Diante de mais de 39 mil torcedores presentes, o Corinthians sofreu a pior derrota da história do estádio (ao lado do mesmo placar que sofreu para o Flamengo, em 2020). “Ei, você aí, acabo com sua vida se o Coringão cair”, “não é mole não, tem que ser homem para jogar no Coringão” e “ah, mas que saudade de quando o Corinthians jogava com vontade” foram alguns dos cantos entoados pela torcida após vaias em Itaquera.  Leia mais  Dois torcedores tentaram invadir o gramado ao final da partida, mas foram impedidos pela segurança. O presidente Duilio Monteiro Alves foi alvo de protestos também, ouvindo pedidos de “fora do Timão” ao final da partida. Neste sábado (25), o clube conhecerá o novo presidente para o próximo triênio, de 2024 a 2026, após eleições no Parque São Jorge, em São Paulo.  O resultado negativo não só impede o Corinthians de se livrar do rebaixamento em 2023, como deixa o Timão na 12ª colocação com 44 pontos, que pode chegar a ser a 16ª ao final da rodada, a depender de resultados. O Corinthians volta a jogar na próxima terça-feira (28), contra o Vasco da Gama, às 21h30 (de Brasília). Este conteúdo foi criado originalmente em Itatiaia. versão original'"
      ]
     },
     "execution_count": 17,
     "metadata": {},
     "output_type": "execute_result"
    }
   ],
   "source": [
    "text[0]"
   ]
  },
  {
   "cell_type": "code",
   "execution_count": 18,
   "id": "5d4514e9-6613-4ea6-8788-3c062d7017f7",
   "metadata": {},
   "outputs": [],
   "source": [
    "categorias = ['esportes','nacional', 'internacional', 'economia', 'politica', 'entretenimento']"
   ]
  },
  {
   "cell_type": "markdown",
   "id": "7db9049f-049d-461f-859e-f3cc6f973578",
   "metadata": {},
   "source": [
    "## Pré-processamento"
   ]
  },
  {
   "cell_type": "markdown",
   "id": "02977b39-1e4d-4f7e-92b8-06bebd2112c8",
   "metadata": {},
   "source": [
    "### NLTK"
   ]
  },
  {
   "cell_type": "code",
   "execution_count": 19,
   "id": "576c1475-b309-4f49-a34b-2b35a9cc5047",
   "metadata": {},
   "outputs": [],
   "source": [
    "for i in range(len(text)):\n",
    "    text[i] = text[i].lower()"
   ]
  },
  {
   "cell_type": "code",
   "execution_count": 20,
   "id": "46decafe-5c86-4cc0-b3fe-581dfc26fbcd",
   "metadata": {},
   "outputs": [],
   "source": [
    "from unidecode import unidecode\n",
    "\n",
    "for i in range(len(text)):\n",
    "    text[i] = unidecode(text[i])"
   ]
  },
  {
   "cell_type": "code",
   "execution_count": 21,
   "id": "b0784904-6dee-4306-b60f-125e87052ffd",
   "metadata": {},
   "outputs": [],
   "source": [
    "for i in range(len(text)):\n",
    "    text[i] = re.sub(r'[^a-zA-Z\\s]', \"\" ,text[i])"
   ]
  },
  {
   "cell_type": "code",
   "execution_count": 22,
   "id": "89c8ad61-6faa-48ee-b9f4-fbcd9fa12224",
   "metadata": {},
   "outputs": [
    {
     "name": "stdout",
     "output_type": "stream",
     "text": [
      "o bahia atropelou o corinthians na neo quimica arena em sao paulo nessa sextafeira  pela a rodada do campeonato brasileiro o tricolor de aco fez  a  no timao que deixou o campo sob vaias protestos e ameacas alem da invasao de dois torcedores  diante de mais de  mil torcedores presentes o corinthians sofreu a pior derrota da historia do estadio ao lado do mesmo placar que sofreu para o flamengo em  ei voce ai acabo com sua vida se o coringao cair nao e mole nao tem que ser homem para jogar no coringao e ah mas que saudade de quando o corinthians jogava com vontade foram alguns dos cantos entoados pela torcida apos vaias em itaquera  leia mais  dois torcedores tentaram invadir o gramado ao final da partida mas foram impedidos pela seguranca o presidente duilio monteiro alves foi alvo de protestos tambem ouvindo pedidos de fora do timao ao final da partida neste sabado  o clube conhecera o novo presidente para o proximo trienio de  a  apos eleicoes no parque sao jorge em sao paulo  o resultado negativo nao so impede o corinthians de se livrar do rebaixamento em  como deixa o timao na a colocacao com  pontos que pode chegar a ser a a ao final da rodada a depender de resultados o corinthians volta a jogar na proxima tercafeira  contra o vasco da gama as h de brasilia este conteudo foi criado originalmente em itatiaia versao original\n"
     ]
    }
   ],
   "source": [
    "print(text[0])"
   ]
  },
  {
   "cell_type": "code",
   "execution_count": 23,
   "id": "2534f4b8-ff0a-4351-94a3-66ee72e1ffd3",
   "metadata": {},
   "outputs": [],
   "source": [
    "token_text = []\n",
    "\n",
    "for j in text:\n",
    "    token_text.append(nltk.word_tokenize(j))"
   ]
  },
  {
   "cell_type": "code",
   "execution_count": 24,
   "id": "a6124e77-e0d1-4d1e-b9bf-17f171695772",
   "metadata": {},
   "outputs": [
    {
     "name": "stdout",
     "output_type": "stream",
     "text": [
      "['o', 'bahia', 'atropelou', 'o', 'corinthians', 'na', 'neo', 'quimica', 'arena', 'em', 'sao', 'paulo', 'nessa', 'sextafeira', 'pela', 'a', 'rodada', 'do', 'campeonato', 'brasileiro', 'o', 'tricolor', 'de', 'aco', 'fez', 'a', 'no', 'timao', 'que', 'deixou', 'o', 'campo', 'sob', 'vaias', 'protestos', 'e', 'ameacas', 'alem', 'da', 'invasao', 'de', 'dois', 'torcedores', 'diante', 'de', 'mais', 'de', 'mil', 'torcedores', 'presentes', 'o', 'corinthians', 'sofreu', 'a', 'pior', 'derrota', 'da', 'historia', 'do', 'estadio', 'ao', 'lado', 'do', 'mesmo', 'placar', 'que', 'sofreu', 'para', 'o', 'flamengo', 'em', 'ei', 'voce', 'ai', 'acabo', 'com', 'sua', 'vida', 'se', 'o', 'coringao', 'cair', 'nao', 'e', 'mole', 'nao', 'tem', 'que', 'ser', 'homem', 'para', 'jogar', 'no', 'coringao', 'e', 'ah', 'mas', 'que', 'saudade', 'de', 'quando', 'o', 'corinthians', 'jogava', 'com', 'vontade', 'foram', 'alguns', 'dos', 'cantos', 'entoados', 'pela', 'torcida', 'apos', 'vaias', 'em', 'itaquera', 'leia', 'mais', 'dois', 'torcedores', 'tentaram', 'invadir', 'o', 'gramado', 'ao', 'final', 'da', 'partida', 'mas', 'foram', 'impedidos', 'pela', 'seguranca', 'o', 'presidente', 'duilio', 'monteiro', 'alves', 'foi', 'alvo', 'de', 'protestos', 'tambem', 'ouvindo', 'pedidos', 'de', 'fora', 'do', 'timao', 'ao', 'final', 'da', 'partida', 'neste', 'sabado', 'o', 'clube', 'conhecera', 'o', 'novo', 'presidente', 'para', 'o', 'proximo', 'trienio', 'de', 'a', 'apos', 'eleicoes', 'no', 'parque', 'sao', 'jorge', 'em', 'sao', 'paulo', 'o', 'resultado', 'negativo', 'nao', 'so', 'impede', 'o', 'corinthians', 'de', 'se', 'livrar', 'do', 'rebaixamento', 'em', 'como', 'deixa', 'o', 'timao', 'na', 'a', 'colocacao', 'com', 'pontos', 'que', 'pode', 'chegar', 'a', 'ser', 'a', 'a', 'ao', 'final', 'da', 'rodada', 'a', 'depender', 'de', 'resultados', 'o', 'corinthians', 'volta', 'a', 'jogar', 'na', 'proxima', 'tercafeira', 'contra', 'o', 'vasco', 'da', 'gama', 'as', 'h', 'de', 'brasilia', 'este', 'conteudo', 'foi', 'criado', 'originalmente', 'em', 'itatiaia', 'versao', 'original']\n"
     ]
    }
   ],
   "source": [
    "print(token_text[0])"
   ]
  },
  {
   "cell_type": "code",
   "execution_count": 25,
   "id": "9e891517-f3dd-491c-a02e-7fe17e0ecff7",
   "metadata": {},
   "outputs": [
    {
     "name": "stderr",
     "output_type": "stream",
     "text": [
      "[nltk_data] Downloading package stopwords to /home/hworld/nltk_data...\n",
      "[nltk_data]   Package stopwords is already up-to-date!\n"
     ]
    },
    {
     "data": {
      "text/plain": [
       "True"
      ]
     },
     "execution_count": 25,
     "metadata": {},
     "output_type": "execute_result"
    }
   ],
   "source": [
    "nltk.download('stopwords')"
   ]
  },
  {
   "cell_type": "code",
   "execution_count": 26,
   "id": "7ce4e6e6-b023-4dd0-b5b3-624c55220bed",
   "metadata": {},
   "outputs": [],
   "source": [
    "from nltk.corpus import stopwords\n",
    "sw = stopwords.words('portuguese')"
   ]
  },
  {
   "cell_type": "code",
   "execution_count": 27,
   "id": "c7a094e5-44b5-4079-bfff-1201a537ded8",
   "metadata": {},
   "outputs": [],
   "source": [
    "for stop in sw:\n",
    "    for text in token_text:\n",
    "        for t in text:\n",
    "            if(t == stop):\n",
    "                text.remove(t)"
   ]
  },
  {
   "cell_type": "code",
   "execution_count": 28,
   "id": "6a9a56b7-e028-43f7-bc0b-d0c6dcc31604",
   "metadata": {},
   "outputs": [
    {
     "name": "stdout",
     "output_type": "stream",
     "text": [
      "['bahia', 'atropelou', 'corinthians', 'neo', 'quimica', 'arena', 'sao', 'paulo', 'nessa', 'sextafeira', 'rodada', 'campeonato', 'brasileiro', 'tricolor', 'aco', 'fez', 'timao', 'deixou', 'campo', 'sob', 'vaias', 'protestos', 'ameacas', 'alem', 'invasao', 'dois', 'torcedores', 'diante', 'mil', 'torcedores', 'presentes', 'corinthians', 'sofreu', 'pior', 'derrota', 'historia', 'estadio', 'lado', 'placar', 'sofreu', 'flamengo', 'ei', 'voce', 'ai', 'acabo', 'vida', 'coringao', 'cair', 'nao', 'mole', 'nao', 'homem', 'jogar', 'coringao', 'ah', 'saudade', 'corinthians', 'jogava', 'vontade', 'alguns', 'cantos', 'entoados', 'torcida', 'apos', 'vaias', 'itaquera', 'leia', 'dois', 'torcedores', 'tentaram', 'invadir', 'gramado', 'final', 'partida', 'impedidos', 'seguranca', 'presidente', 'duilio', 'monteiro', 'alves', 'alvo', 'protestos', 'tambem', 'ouvindo', 'pedidos', 'timao', 'final', 'partida', 'neste', 'sabado', 'clube', 'conhecera', 'novo', 'presidente', 'proximo', 'trienio', 'apos', 'eleicoes', 'parque', 'sao', 'jorge', 'sao', 'paulo', 'resultado', 'negativo', 'nao', 'so', 'impede', 'corinthians', 'livrar', 'rebaixamento', 'deixa', 'timao', 'colocacao', 'pontos', 'pode', 'chegar', 'final', 'rodada', 'depender', 'resultados', 'corinthians', 'volta', 'a', 'jogar', 'proxima', 'tercafeira', 'contra', 'vasco', 'gama', 'h', 'brasilia', 'conteudo', 'criado', 'originalmente', 'itatiaia', 'versao', 'original']\n"
     ]
    }
   ],
   "source": [
    "print(token_text[0])"
   ]
  },
  {
   "cell_type": "code",
   "execution_count": 29,
   "id": "75724920-33df-45ea-bc66-62cd512dc49e",
   "metadata": {},
   "outputs": [
    {
     "data": {
      "text/html": [
       "<div>\n",
       "<style scoped>\n",
       "    .dataframe tbody tr th:only-of-type {\n",
       "        vertical-align: middle;\n",
       "    }\n",
       "\n",
       "    .dataframe tbody tr th {\n",
       "        vertical-align: top;\n",
       "    }\n",
       "\n",
       "    .dataframe thead th {\n",
       "        text-align: right;\n",
       "    }\n",
       "</style>\n",
       "<table border=\"1\" class=\"dataframe\">\n",
       "  <thead>\n",
       "    <tr style=\"text-align: right;\">\n",
       "      <th></th>\n",
       "      <th>titulo</th>\n",
       "      <th>texto</th>\n",
       "      <th>link</th>\n",
       "      <th>resumo</th>\n",
       "      <th>categoria</th>\n",
       "      <th>data_hora</th>\n",
       "    </tr>\n",
       "  </thead>\n",
       "  <tbody>\n",
       "    <tr>\n",
       "      <th>0</th>\n",
       "      <td>Torcida do Corinthians protesta e invade campo...</td>\n",
       "      <td>[bahia, atropelou, corinthians, neo, quimica, ...</td>\n",
       "      <td>https://www.cnnbrasil.com.br/esportes/torcida-...</td>\n",
       "      <td>Em casa, time paulista levou um histórico 5 a ...</td>\n",
       "      <td>esportes</td>\n",
       "      <td>2023-11-25 03:13:34</td>\n",
       "    </tr>\n",
       "    <tr>\n",
       "      <th>1</th>\n",
       "      <td>Al-Nassr tem maior folha salarial do mundo; ve...</td>\n",
       "      <td>[janelas, transferencias, deste, ano, clubes, ...</td>\n",
       "      <td>https://www.cnnbrasil.com.br/esportes/al-nassr...</td>\n",
       "      <td>Ranking com as 20 maiores folhas salariais do ...</td>\n",
       "      <td>esportes</td>\n",
       "      <td>2023-11-06 22:36:55</td>\n",
       "    </tr>\n",
       "  </tbody>\n",
       "</table>\n",
       "</div>"
      ],
      "text/plain": [
       "                                              titulo  \\\n",
       "0  Torcida do Corinthians protesta e invade campo...   \n",
       "1  Al-Nassr tem maior folha salarial do mundo; ve...   \n",
       "\n",
       "                                               texto  \\\n",
       "0  [bahia, atropelou, corinthians, neo, quimica, ...   \n",
       "1  [janelas, transferencias, deste, ano, clubes, ...   \n",
       "\n",
       "                                                link  \\\n",
       "0  https://www.cnnbrasil.com.br/esportes/torcida-...   \n",
       "1  https://www.cnnbrasil.com.br/esportes/al-nassr...   \n",
       "\n",
       "                                              resumo categoria  \\\n",
       "0  Em casa, time paulista levou um histórico 5 a ...  esportes   \n",
       "1  Ranking com as 20 maiores folhas salariais do ...  esportes   \n",
       "\n",
       "             data_hora  \n",
       "0  2023-11-25 03:13:34  \n",
       "1  2023-11-06 22:36:55  "
      ]
     },
     "execution_count": 29,
     "metadata": {},
     "output_type": "execute_result"
    }
   ],
   "source": [
    "df_balanceado['texto'] = token_text\n",
    "df_balanceado.head(2)"
   ]
  },
  {
   "cell_type": "markdown",
   "id": "a2cd84bf-5bbf-4c51-832e-18d870cc3db1",
   "metadata": {},
   "source": [
    "### spaCy"
   ]
  },
  {
   "cell_type": "code",
   "execution_count": 30,
   "id": "8dab8515-4524-4bd3-a6cd-b053039d07ca",
   "metadata": {},
   "outputs": [],
   "source": [
    "for i in range(len(text2)):\n",
    "    text2[i] = text2[i].lower()"
   ]
  },
  {
   "cell_type": "code",
   "execution_count": 31,
   "id": "4e825ead-6706-4075-9b7b-93b78be5e109",
   "metadata": {},
   "outputs": [],
   "source": [
    "from unidecode import unidecode\n",
    "\n",
    "for i in range(len(text2)):\n",
    "    text2[i] = unidecode(text2[i])"
   ]
  },
  {
   "cell_type": "code",
   "execution_count": 32,
   "id": "db8bb10d-8812-4eeb-98f2-260f304a4d05",
   "metadata": {},
   "outputs": [],
   "source": [
    "for i in range(len(text2)):\n",
    "   text2[i] = re.sub(r'[^a-zA-Z\\s]', \"\" ,text2[i])"
   ]
  },
  {
   "cell_type": "code",
   "execution_count": 33,
   "id": "49e44ece-2a99-46f0-b22c-b6a59296323e",
   "metadata": {},
   "outputs": [
    {
     "name": "stdout",
     "output_type": "stream",
     "text": [
      "o bahia atropelou o corinthians na neo quimica arena em sao paulo nessa sextafeira  pela a rodada do campeonato brasileiro o tricolor de aco fez  a  no timao que deixou o campo sob vaias protestos e ameacas alem da invasao de dois torcedores  diante de mais de  mil torcedores presentes o corinthians sofreu a pior derrota da historia do estadio ao lado do mesmo placar que sofreu para o flamengo em  ei voce ai acabo com sua vida se o coringao cair nao e mole nao tem que ser homem para jogar no coringao e ah mas que saudade de quando o corinthians jogava com vontade foram alguns dos cantos entoados pela torcida apos vaias em itaquera  leia mais  dois torcedores tentaram invadir o gramado ao final da partida mas foram impedidos pela seguranca o presidente duilio monteiro alves foi alvo de protestos tambem ouvindo pedidos de fora do timao ao final da partida neste sabado  o clube conhecera o novo presidente para o proximo trienio de  a  apos eleicoes no parque sao jorge em sao paulo  o resultado negativo nao so impede o corinthians de se livrar do rebaixamento em  como deixa o timao na a colocacao com  pontos que pode chegar a ser a a ao final da rodada a depender de resultados o corinthians volta a jogar na proxima tercafeira  contra o vasco da gama as h de brasilia este conteudo foi criado originalmente em itatiaia versao original\n"
     ]
    }
   ],
   "source": [
    "print(text2[0])"
   ]
  },
  {
   "cell_type": "code",
   "execution_count": 34,
   "id": "76f98a44-ec8e-436e-ad7e-d36fa54f5a3c",
   "metadata": {},
   "outputs": [
    {
     "name": "stdout",
     "output_type": "stream",
     "text": [
      "o bahia atropelou o corinthians na neo quimica arena em sao paulo nessa sextafeira  pela a rodada do campeonato brasileiro o tricolor de aco fez  a  no timao que deixou o campo sob vaias protestos e ameacas alem da invasao de dois torcedores  diante de mais de  mil torcedores presentes o corinthians sofreu a pior derrota da historia do estadio ao lado do mesmo placar que sofreu para o flamengo em  ei voce ai acabo com sua vida se o coringao cair nao e mole nao tem que ser homem para jogar no coringao e ah mas que saudade de quando o corinthians jogava com vontade foram alguns dos cantos entoados pela torcida apos vaias em itaquera  leia mais  dois torcedores tentaram invadir o gramado ao final da partida mas foram impedidos pela seguranca o presidente duilio monteiro alves foi alvo de protestos tambem ouvindo pedidos de fora do timao ao final da partida neste sabado  o clube conhecera o novo presidente para o proximo trienio de  a  apos eleicoes no parque sao jorge em sao paulo  o resultado negativo nao so impede o corinthians de se livrar do rebaixamento em  como deixa o timao na a colocacao com  pontos que pode chegar a ser a a ao final da rodada a depender de resultados o corinthians volta a jogar na proxima tercafeira  contra o vasco da gama as h de brasilia este conteudo foi criado originalmente em itatiaia versao original\n"
     ]
    }
   ],
   "source": [
    "nlp = spacy.load('pt_core_news_sm')\n",
    "\n",
    "doc = []\n",
    "\n",
    "for j in text2:\n",
    "    temp = nlp(j)\n",
    "    doc.append(temp)\n",
    "print(doc[0])"
   ]
  },
  {
   "cell_type": "code",
   "execution_count": 35,
   "id": "4fd763bc-d541-4267-a129-16e66603a5e4",
   "metadata": {},
   "outputs": [
    {
     "name": "stdout",
     "output_type": "stream",
     "text": [
      "['o', 'bahia', 'atropelou', 'o', 'corinthians', 'na', 'neo', 'quimica', 'arena', 'em', 'sao', 'paulo', 'nessa', 'sextafeira', 'pela', 'a', 'rodada', 'do', 'campeonato', 'brasileiro', 'o', 'tricolor', 'de', 'aco', 'fez', 'a', 'no', 'timao', 'que', 'deixou', 'o', 'campo', 'sob', 'vaias', 'protestos', 'e', 'ameacas', 'alem', 'da', 'invasao', 'de', 'dois', 'torcedores', 'diante', 'de', 'mais', 'de', 'mil', 'torcedores', 'presentes', 'o', 'corinthians', 'sofreu', 'a', 'pior', 'derrota', 'da', 'historia', 'do', 'estadio', 'ao', 'lado', 'do', 'mesmo', 'placar', 'que', 'sofreu', 'para', 'o', 'flamengo', 'em', 'ei', 'voce', 'ai', 'acabo', 'com', 'sua', 'vida', 'se', 'o', 'coringao', 'cair', 'nao', 'e', 'mole', 'nao', 'tem', 'que', 'ser', 'homem', 'para', 'jogar', 'no', 'coringao', 'e', 'ah', 'mas', 'que', 'saudade', 'de', 'quando', 'o', 'corinthians', 'jogava', 'com', 'vontade', 'foram', 'alguns', 'dos', 'cantos', 'entoados', 'pela', 'torcida', 'apos', 'vaias', 'em', 'itaquera', 'leia', 'mais', 'dois', 'torcedores', 'tentaram', 'invadir', 'o', 'gramado', 'ao', 'final', 'da', 'partida', 'mas', 'foram', 'impedidos', 'pela', 'seguranca', 'o', 'presidente', 'duilio', 'monteiro', 'alves', 'foi', 'alvo', 'de', 'protestos', 'tambem', 'ouvindo', 'pedidos', 'de', 'fora', 'do', 'timao', 'ao', 'final', 'da', 'partida', 'neste', 'sabado', 'o', 'clube', 'conhecera', 'o', 'novo', 'presidente', 'para', 'o', 'proximo', 'trienio', 'de', 'a', 'apos', 'eleicoes', 'no', 'parque', 'sao', 'jorge', 'em', 'sao', 'paulo', 'o', 'resultado', 'negativo', 'nao', 'so', 'impede', 'o', 'corinthians', 'de', 'se', 'livrar', 'do', 'rebaixamento', 'em', 'como', 'deixa', 'o', 'timao', 'na', 'a', 'colocacao', 'com', 'pontos', 'que', 'pode', 'chegar', 'a', 'ser', 'a', 'a', 'ao', 'final', 'da', 'rodada', 'a', 'depender', 'de', 'resultados', 'o', 'corinthians', 'volta', 'a', 'jogar', 'na', 'proxima', 'tercafeira', 'contra', 'o', 'vasco', 'da', 'gama', 'as', 'h', 'de', 'brasilia', 'este', 'conteudo', 'foi', 'criado', 'originalmente', 'em', 'itatiaia', 'versao', 'original']\n"
     ]
    }
   ],
   "source": [
    "token_text2 = []\n",
    "\n",
    "#Creating and updating our list of tokens using list comprehension \n",
    "for i in range(len(text2)):\n",
    "    temp = [token.text for token in doc[i] if not token.is_space]\n",
    "    token_text2.append(temp)\n",
    "\n",
    "print(token_text2[0])"
   ]
  },
  {
   "cell_type": "code",
   "execution_count": 42,
   "id": "61623151-b4e7-4837-ac59-98a3c1b5e0e6",
   "metadata": {},
   "outputs": [],
   "source": [
    "from spacy.lang.pt.stop_words import STOP_WORDS\n",
    "stop = STOP_WORDS\n",
    "#print(stop)"
   ]
  },
  {
   "cell_type": "code",
   "execution_count": 37,
   "id": "f2bd0ad8-a857-46f5-a4ef-896bd469c17d",
   "metadata": {},
   "outputs": [
    {
     "name": "stdout",
     "output_type": "stream",
     "text": [
      "['bahia', 'atropelou', 'corinthians', 'neo', 'quimica', 'arena', 'sao', 'paulo', 'sextafeira', 'rodada', 'campeonato', 'brasileiro', 'tricolor', 'aco', 'timao', 'deixou', 'campo', 'vaias', 'protestos', 'ameacas', 'alem', 'invasao', 'torcedores', 'torcedores', 'presentes', 'corinthians', 'sofreu', 'pior', 'derrota', 'historia', 'estadio', 'placar', 'sofreu', 'flamengo', 'ei', 'voce', 'ai', 'acabo', 'vida', 'coringao', 'cair', 'nao', 'mole', 'nao', 'homem', 'jogar', 'coringao', 'ah', 'saudade', 'corinthians', 'jogava', 'vontade', 'cantos', 'entoados', 'torcida', 'apos', 'vaias', 'itaquera', 'leia', 'torcedores', 'invadir', 'gramado', 'partida', 'impedidos', 'seguranca', 'presidente', 'duilio', 'monteiro', 'alves', 'alvo', 'protestos', 'tambem', 'ouvindo', 'pedidos', 'timao', 'partida', 'sabado', 'clube', 'conhecera', 'presidente', 'proximo', 'trienio', 'apos', 'eleicoes', 'parque', 'sao', 'jorge', 'sao', 'paulo', 'resultado', 'negativo', 'nao', 'so', 'impede', 'corinthians', 'livrar', 'rebaixamento', 'deixa', 'timao', 'colocacao', 'chegar', 'rodada', 'depender', 'resultados', 'corinthians', 'volta', 'jogar', 'proxima', 'tercafeira', 'vasco', 'gama', 'h', 'brasilia', 'conteudo', 'criado', 'originalmente', 'itatiaia', 'versao', 'original']\n"
     ]
    }
   ],
   "source": [
    "token2 = []\n",
    "for i in token_text2:\n",
    "    temp = []\n",
    "    for token in i:\n",
    "        if token not in stop:\n",
    "            temp.append(token)\n",
    "    token2.append(temp)\n",
    "print(token2[0])"
   ]
  },
  {
   "cell_type": "code",
   "execution_count": 38,
   "id": "d27c4e58-2245-4435-827e-de0480f6fd41",
   "metadata": {},
   "outputs": [
    {
     "data": {
      "text/html": [
       "<div>\n",
       "<style scoped>\n",
       "    .dataframe tbody tr th:only-of-type {\n",
       "        vertical-align: middle;\n",
       "    }\n",
       "\n",
       "    .dataframe tbody tr th {\n",
       "        vertical-align: top;\n",
       "    }\n",
       "\n",
       "    .dataframe thead th {\n",
       "        text-align: right;\n",
       "    }\n",
       "</style>\n",
       "<table border=\"1\" class=\"dataframe\">\n",
       "  <thead>\n",
       "    <tr style=\"text-align: right;\">\n",
       "      <th></th>\n",
       "      <th>titulo</th>\n",
       "      <th>texto</th>\n",
       "      <th>link</th>\n",
       "      <th>resumo</th>\n",
       "      <th>categoria</th>\n",
       "      <th>data_hora</th>\n",
       "    </tr>\n",
       "  </thead>\n",
       "  <tbody>\n",
       "    <tr>\n",
       "      <th>0</th>\n",
       "      <td>Torcida do Corinthians protesta e invade campo...</td>\n",
       "      <td>[bahia, atropelou, corinthians, neo, quimica, ...</td>\n",
       "      <td>https://www.cnnbrasil.com.br/esportes/torcida-...</td>\n",
       "      <td>Em casa, time paulista levou um histórico 5 a ...</td>\n",
       "      <td>esportes</td>\n",
       "      <td>2023-11-25 03:13:34</td>\n",
       "    </tr>\n",
       "    <tr>\n",
       "      <th>1</th>\n",
       "      <td>Al-Nassr tem maior folha salarial do mundo; ve...</td>\n",
       "      <td>[janelas, transferencias, ano, clubes, arabia,...</td>\n",
       "      <td>https://www.cnnbrasil.com.br/esportes/al-nassr...</td>\n",
       "      <td>Ranking com as 20 maiores folhas salariais do ...</td>\n",
       "      <td>esportes</td>\n",
       "      <td>2023-11-06 22:36:55</td>\n",
       "    </tr>\n",
       "  </tbody>\n",
       "</table>\n",
       "</div>"
      ],
      "text/plain": [
       "                                              titulo  \\\n",
       "0  Torcida do Corinthians protesta e invade campo...   \n",
       "1  Al-Nassr tem maior folha salarial do mundo; ve...   \n",
       "\n",
       "                                               texto  \\\n",
       "0  [bahia, atropelou, corinthians, neo, quimica, ...   \n",
       "1  [janelas, transferencias, ano, clubes, arabia,...   \n",
       "\n",
       "                                                link  \\\n",
       "0  https://www.cnnbrasil.com.br/esportes/torcida-...   \n",
       "1  https://www.cnnbrasil.com.br/esportes/al-nassr...   \n",
       "\n",
       "                                              resumo categoria  \\\n",
       "0  Em casa, time paulista levou um histórico 5 a ...  esportes   \n",
       "1  Ranking com as 20 maiores folhas salariais do ...  esportes   \n",
       "\n",
       "             data_hora  \n",
       "0  2023-11-25 03:13:34  \n",
       "1  2023-11-06 22:36:55  "
      ]
     },
     "execution_count": 38,
     "metadata": {},
     "output_type": "execute_result"
    }
   ],
   "source": [
    "df_balanceado2['texto'] = token2\n",
    "df_balanceado2.head(2)"
   ]
  },
  {
   "cell_type": "markdown",
   "id": "c1f6e2fe-05bf-4c48-8d6d-94f5613ed4b1",
   "metadata": {},
   "source": [
    "### Gensim"
   ]
  },
  {
   "cell_type": "code",
   "execution_count": 39,
   "id": "38d05539-7c13-486f-b276-f18e0c4ac150",
   "metadata": {},
   "outputs": [],
   "source": [
    "from gensim.utils import simple_preprocess\n",
    "from gensim.utils import tokenize"
   ]
  },
  {
   "cell_type": "code",
   "execution_count": 40,
   "id": "5992355b-e4d7-4ea3-b049-13e41b38638b",
   "metadata": {},
   "outputs": [],
   "source": [
    "for i in range(len(text3)):\n",
    "   text3[i] = re.sub(r'[^a-zA-Z\\s]', \"\" ,text3[i])"
   ]
  },
  {
   "cell_type": "code",
   "execution_count": 43,
   "id": "ed8c69cf-6213-4b89-8fe7-05e88f7e0d77",
   "metadata": {},
   "outputs": [],
   "source": [
    "for i in range(len(text3)):\n",
    "    text3[i] = simple_preprocess(text3[i], deacc=True, min_len=3)"
   ]
  },
  {
   "cell_type": "code",
   "execution_count": 47,
   "id": "28901743-c714-481c-bc4c-10e070ffac97",
   "metadata": {},
   "outputs": [],
   "source": [
    "stopwords = [ 'a', 'à', 'adeus', 'agora', 'aí', 'ainda', 'além', 'algo', 'alguém', 'algum', 'alguma', 'algumas', 'alguns', 'ali', 'ampla', 'amplas', 'amplo', 'amplos', 'ano', 'anos', 'ante', 'antes', 'ao', 'aos', 'apenas', 'apoio', 'após', 'aquela', 'aquelas', 'aquele', 'aqueles', 'aqui', 'aquilo', 'área', 'as', 'às', 'assim', 'até', 'atrás', 'através', 'baixo', 'bastante', 'bem', 'boa', 'boas', 'bom', 'bons', 'breve', 'cá', 'cada', 'catorze', 'cedo', 'cento', 'certamente', 'certeza', 'cima', 'cinco', 'coisa', 'coisas', 'com', 'como', 'conselho', 'contra', 'contudo', 'custa', 'da', 'dá', 'dão', 'daquela', 'daquelas', 'daquele', 'daqueles', 'dar', 'das', 'de', 'debaixo', 'dela', 'delas', 'dele', 'deles', 'demais', 'dentro', 'depois', 'desde', 'dessa', 'dessas', 'desse', 'desses', 'desta', 'destas', 'deste', 'destes', 'deve', 'devem', 'devendo', 'dever', 'deverá', 'deverão', 'deveria', 'deveriam', 'devia', 'deviam', 'dez', 'dezanove', 'dezasseis', 'dezassete', 'dezoito', 'dia', 'diante', 'disse', 'disso', 'disto', 'dito', 'diz', 'dizem', 'dizer', 'do', 'dois', 'dos', 'doze', 'duas', 'dúvida', 'e', 'é', 'ela', 'elas', 'ele', 'eles', 'em', 'embora', 'enquanto', 'entre', 'era', 'eram', 'éramos', 'és', 'essa', 'essas', 'esse', 'esses', 'esta', 'está', 'estamos', 'estão', 'estar', 'estas', 'estás', 'estava', 'estavam', 'estávamos', 'este', 'esteja', 'estejam', 'estejamos', 'estes', 'esteve', 'estive', 'estivemos', 'estiver', 'estivera', 'estiveram', 'estivéramos', 'estiverem', 'estivermos', 'estivesse', 'estivessem', 'estivéssemos', 'estiveste', 'estivestes', 'estou', 'etc', 'eu', 'exemplo', 'faço', 'falta', 'favor', 'faz', 'fazeis', 'fazem', 'fazemos', 'fazendo', 'fazer', 'fazes', 'feita', 'feitas', 'feito', 'feitos', 'fez', 'fim', 'final', 'foi', 'fomos', 'for', 'fora', 'foram', 'fôramos', 'forem', 'forma', 'formos', 'fosse', 'fossem', 'fôssemos', 'foste', 'fostes', 'fui', 'geral', 'grande', 'grandes', 'grupo', 'há', 'haja', 'hajam', 'hajamos', 'hão', 'havemos', 'havia', 'hei', 'hoje', 'hora', 'horas', 'houve', 'houvemos', 'houver', 'houvera', 'houverá', 'houveram', 'houvéramos', 'houverão', 'houverei', 'houverem', 'houveremos', 'houveria', 'houveriam', 'houveríamos', 'houvermos', 'houvesse', 'houvessem', 'houvéssemos', 'isso', 'isto', 'já', 'la', 'lá', 'lado', 'lhe', 'lhes', 'lo', 'local', 'logo', 'longe', 'lugar', 'maior', 'maioria', 'mais', 'mal', 'mas', 'máximo', 'me', 'meio', 'menor', 'menos', 'mês', 'meses', 'mesma', 'mesmas', 'mesmo', 'mesmos', 'meu', 'meus', 'mil', 'minha', 'minhas', 'momento', 'muita', 'muitas', 'muito', 'muitos', 'na', 'nada', 'não', 'naquela', 'naquelas', 'naquele', 'naqueles', 'nas', 'nem', 'nenhum', 'nenhuma', 'nessa', 'nessas', 'nesse', 'nesses', 'nesta', 'nestas', 'neste', 'nestes', 'ninguém', 'nível', 'no', 'noite', 'nome', 'nos', 'nós', 'nossa', 'nossas', 'nosso', 'nossos', 'nova', 'novas', 'nove', 'novo', 'novos', 'num', 'numa', 'número', 'nunca', 'o', 'obra', 'obrigada', 'obrigado', 'oitava', 'oitavo', 'oito', 'onde', 'ontem', 'onze', 'os', 'ou', 'outra', 'outras', 'outro', 'outros', 'para', 'parece', 'parte', 'partir', 'paucas', 'pela', 'pelas', 'pelo', 'pelos', 'pequena', 'pequenas', 'pequeno', 'pequenos', 'per', 'perante', 'perto', 'pode', 'pude', 'pôde', 'podem', 'podendo', 'poder', 'poderia', 'poderiam', 'podia', 'podiam', 'põe', 'põem', 'pois', 'ponto', 'pontos', 'por', 'porém', 'porque', 'porquê', 'posição', 'possível', 'possivelmente', 'posso', 'pouca', 'poucas', 'pouco', 'poucos', 'primeira', 'primeiras', 'primeiro', 'primeiros', 'própria', 'próprias', 'próprio', 'próprios', 'próxima', 'próximas', 'próximo', 'próximos', 'pude', 'puderam', 'quais', 'quáis', 'qual', 'quando', 'quanto', 'quantos', 'quarta', 'quarto', 'quatro', 'que', 'quê', 'quem', 'quer', 'quereis', 'querem', 'queremas', 'queres', 'quero', 'questão', 'quinta', 'quinto', 'quinze', 'relação', 'sabe', 'sabem', 'são', 'se', 'segunda', 'segundo', 'sei', 'seis', 'seja', 'sejam', 'sejamos', 'sem', 'sempre', 'sendo', 'ser', 'será', 'serão', 'serei', 'seremos', 'seria', 'seriam', 'seríamos', 'sete', 'sétima', 'sétimo', 'seu', 'seus', 'sexta', 'sexto', 'si', 'sido', 'sim', 'sistema', 'só', 'sob', 'sobre', 'sois', 'somos', 'sou', 'sua', 'suas', 'tal', 'talvez', 'também', 'tampouco', 'tanta', 'tantas', 'tanto', 'tão', 'tarde', 'te', 'tem', 'tém', 'têm', 'temos', 'tendes', 'tendo', 'tenha', 'tenham', 'tenhamos', 'tenho', 'tens', 'ter', 'terá', 'terão', 'terceira', 'terceiro', 'terei', 'teremos', 'teria', 'teriam', 'teríamos', 'teu', 'teus', 'teve', 'ti', 'tido', 'tinha', 'tinham', 'tínhamos', 'tive', 'tivemos', 'tiver', 'tivera', 'tiveram', 'tivéramos', 'tiverem', 'tivermos', 'tivesse', 'tivessem', 'tivéssemos', 'tiveste', 'tivestes', 'toda', 'todas', 'todavia', 'todo', 'todos', 'trabalho', 'três', 'treze', 'tu', 'tua', 'tuas', 'tudo', 'última', 'últimas', 'último', 'últimos', 'um', 'uma', 'umas', 'uns', 'vai', 'vais', 'vão', 'vários', 'vem', 'vêm', 'vendo', 'vens', 'ver', 'vez', 'vezes', 'viagem', 'vindo', 'vinte', 'vir', 'você', 'vocês', 'vos', 'vós', 'vossa', 'vossas', 'vosso', 'vossos', 'zero', '1', '2', '3', '4', '5', '6', '7', '8', '9', '0', '_' ]\n",
    "\n",
    "#print(stopwords)"
   ]
  },
  {
   "cell_type": "code",
   "execution_count": 48,
   "id": "4a12cbe8-97ee-42e3-b375-1fe99e609a5b",
   "metadata": {},
   "outputs": [
    {
     "name": "stdout",
     "output_type": "stream",
     "text": [
      "['bahia', 'atropelou', 'corinthians', 'neo', 'qumica', 'arena', 'paulo', 'sextafeira', 'rodada', 'campeonato', 'brasileiro', 'tricolor', 'timo', 'deixou', 'campo', 'vaias', 'protestos', 'ameaas', 'alm', 'invaso', 'torcedores', 'torcedores', 'presentes', 'corinthians', 'sofreu', 'pior', 'derrota', 'histria', 'estdio', 'placar', 'sofreu', 'flamengo', 'voc', 'acabo', 'vida', 'coringo', 'cair', 'mole', 'homem', 'jogar', 'coringo', 'saudade', 'corinthians', 'jogava', 'vontade', 'cantos', 'entoados', 'torcida', 'aps', 'vaias', 'itaquera', 'leia', 'torcedores', 'tentaram', 'invadir', 'gramado', 'partida', 'impedidos', 'segurana', 'presidente', 'duilio', 'monteiro', 'alves', 'alvo', 'protestos', 'tambm', 'ouvindo', 'pedidos', 'timo', 'partida', 'sbado', 'clube', 'conhecer', 'presidente', 'prximo', 'trinio', 'aps', 'eleies', 'parque', 'jorge', 'paulo', 'resultado', 'negativo', 'impede', 'corinthians', 'livrar', 'rebaixamento', 'deixa', 'timo', 'colocao', 'chegar', 'rodada', 'depender', 'resultados', 'corinthians', 'volta', 'jogar', 'prxima', 'terafeira', 'vasco', 'gama', 'braslia', 'contedo', 'criado', 'originalmente', 'itatiaia', 'verso', 'original']\n"
     ]
    }
   ],
   "source": [
    "token3 = []\n",
    "for i in text3:\n",
    "    temp = []\n",
    "    for token in i:\n",
    "        if token not in stopwords:\n",
    "            temp.append(token)\n",
    "    token3.append(temp)\n",
    "print(token3[0])"
   ]
  },
  {
   "cell_type": "code",
   "execution_count": 49,
   "id": "7873d61e-5b34-417a-ad3e-b048c4d585b1",
   "metadata": {},
   "outputs": [
    {
     "data": {
      "text/html": [
       "<div>\n",
       "<style scoped>\n",
       "    .dataframe tbody tr th:only-of-type {\n",
       "        vertical-align: middle;\n",
       "    }\n",
       "\n",
       "    .dataframe tbody tr th {\n",
       "        vertical-align: top;\n",
       "    }\n",
       "\n",
       "    .dataframe thead th {\n",
       "        text-align: right;\n",
       "    }\n",
       "</style>\n",
       "<table border=\"1\" class=\"dataframe\">\n",
       "  <thead>\n",
       "    <tr style=\"text-align: right;\">\n",
       "      <th></th>\n",
       "      <th>titulo</th>\n",
       "      <th>texto</th>\n",
       "      <th>link</th>\n",
       "      <th>resumo</th>\n",
       "      <th>categoria</th>\n",
       "      <th>data_hora</th>\n",
       "    </tr>\n",
       "  </thead>\n",
       "  <tbody>\n",
       "    <tr>\n",
       "      <th>0</th>\n",
       "      <td>Torcida do Corinthians protesta e invade campo...</td>\n",
       "      <td>[bahia, atropelou, corinthians, neo, qumica, a...</td>\n",
       "      <td>https://www.cnnbrasil.com.br/esportes/torcida-...</td>\n",
       "      <td>Em casa, time paulista levou um histórico 5 a ...</td>\n",
       "      <td>esportes</td>\n",
       "      <td>2023-11-25 03:13:34</td>\n",
       "    </tr>\n",
       "    <tr>\n",
       "      <th>1</th>\n",
       "      <td>Al-Nassr tem maior folha salarial do mundo; ve...</td>\n",
       "      <td>[janelas, transferncias, clubes, arbia, saudit...</td>\n",
       "      <td>https://www.cnnbrasil.com.br/esportes/al-nassr...</td>\n",
       "      <td>Ranking com as 20 maiores folhas salariais do ...</td>\n",
       "      <td>esportes</td>\n",
       "      <td>2023-11-06 22:36:55</td>\n",
       "    </tr>\n",
       "  </tbody>\n",
       "</table>\n",
       "</div>"
      ],
      "text/plain": [
       "                                              titulo  \\\n",
       "0  Torcida do Corinthians protesta e invade campo...   \n",
       "1  Al-Nassr tem maior folha salarial do mundo; ve...   \n",
       "\n",
       "                                               texto  \\\n",
       "0  [bahia, atropelou, corinthians, neo, qumica, a...   \n",
       "1  [janelas, transferncias, clubes, arbia, saudit...   \n",
       "\n",
       "                                                link  \\\n",
       "0  https://www.cnnbrasil.com.br/esportes/torcida-...   \n",
       "1  https://www.cnnbrasil.com.br/esportes/al-nassr...   \n",
       "\n",
       "                                              resumo categoria  \\\n",
       "0  Em casa, time paulista levou um histórico 5 a ...  esportes   \n",
       "1  Ranking com as 20 maiores folhas salariais do ...  esportes   \n",
       "\n",
       "             data_hora  \n",
       "0  2023-11-25 03:13:34  \n",
       "1  2023-11-06 22:36:55  "
      ]
     },
     "execution_count": 49,
     "metadata": {},
     "output_type": "execute_result"
    }
   ],
   "source": [
    "df_balanceado3['texto'] = token3\n",
    "df_balanceado3.head(2)"
   ]
  },
  {
   "cell_type": "markdown",
   "id": "2a86a3f7-402e-4f60-8e02-b612fe83c051",
   "metadata": {},
   "source": [
    "## Análises"
   ]
  },
  {
   "cell_type": "markdown",
   "id": "c995d014-5aad-4572-b329-60c92af45b3c",
   "metadata": {},
   "source": [
    "### NLTK"
   ]
  },
  {
   "cell_type": "code",
   "execution_count": 50,
   "id": "bc59c4ef-5077-4918-941d-56c0da1e7974",
   "metadata": {},
   "outputs": [],
   "source": [
    "# Contagem de frequência de palavras usando NLTK \n",
    "\n",
    "#from collections import Counter\n",
    "#frequencia_palavras = Counter(token_text[0]) \n",
    "#print(frequencia_palavras.most_common(10))\n",
    "\n",
    "from nltk.probability import FreqDist\n",
    "\n",
    "freq_dist = FreqDist(token_text[0])\n",
    "# Exibição da frequência de cada palavra\n",
    "#for token, freq in freq_dist.items():\n",
    "#    print(token, freq)"
   ]
  },
  {
   "cell_type": "code",
   "execution_count": 51,
   "id": "c86224cb-cc2e-4ce2-a70e-cd010bd88214",
   "metadata": {},
   "outputs": [
    {
     "data": {
      "image/png": "[encoded data removed]",
      "text/plain": [
       "<Figure size 1000x600 with 1 Axes>"
      ]
     },
     "metadata": {},
     "output_type": "display_data"
    }
   ],
   "source": [
    "# Obter os 10 tokens mais comuns e suas contagens\n",
    "tokens_mais_comuns = freq_dist.most_common(10)\n",
    "palavras, contagens = zip(*tokens_mais_comuns)\n",
    "\n",
    "# Gráfico de Barras\n",
    "plt.figure(figsize=(10, 6))\n",
    "plt.bar(palavras, contagens)\n",
    "plt.xlabel('Palavras')\n",
    "plt.ylabel('Frequência')\n",
    "plt.title('10 Palavras Mais Comuns')\n",
    "plt.xticks(rotation=45)\n",
    "plt.show()"
   ]
  },
  {
   "cell_type": "markdown",
   "id": "955fb74b-5a2f-4aa4-a363-4bb2b7363d99",
   "metadata": {},
   "source": [
    "### spaCy"
   ]
  },
  {
   "cell_type": "code",
   "execution_count": 52,
   "id": "fa32cf71-a086-4b63-a3f2-47c75c640da6",
   "metadata": {},
   "outputs": [],
   "source": [
    "from spacy.attrs import ORTH # Contagem de frequência de palavras usando Spacy\n",
    "\n",
    "doc_sp = nlp(\" \".join(token2[0]))\n",
    "\n",
    "count_dict = doc_sp.count_by(ORTH)"
   ]
  },
  {
   "cell_type": "code",
   "execution_count": 53,
   "id": "5e3a4782-b17e-4355-af2d-2b24a57bc366",
   "metadata": {},
   "outputs": [
    {
     "name": "stdout",
     "output_type": "stream",
     "text": [
      "corinthians 5\n",
      "sao 3\n",
      "timao 3\n",
      "torcedores 3\n",
      "nao 3\n",
      "paulo 2\n",
      "rodada 2\n",
      "vaias 2\n",
      "protestos 2\n",
      "sofreu 2\n"
     ]
    }
   ],
   "source": [
    "sorted_counts = sorted(count_dict.items(), key=lambda item: item[1], reverse=True)\n",
    "\n",
    "# 10 mais frequentes\n",
    "top_10_frequent_words = sorted_counts[:10]\n",
    "\n",
    "# Print\n",
    "for word, count in top_10_frequent_words:\n",
    "    print(nlp.vocab.strings[word], count)"
   ]
  },
  {
   "cell_type": "code",
   "execution_count": 54,
   "id": "bde4fc92-0568-4e9d-97c5-531a1e1e72b8",
   "metadata": {},
   "outputs": [
    {
     "data": {
      "image/png": "[encoded data removed]",
      "text/plain": [
       "<Figure size 1000x600 with 1 Axes>"
      ]
     },
     "metadata": {},
     "output_type": "display_data"
    }
   ],
   "source": [
    "palavras = []\n",
    "contagens = []\n",
    "# Obter os 10 tokens mais comuns e suas contagens\n",
    "for word, count in top_10_frequent_words:\n",
    "    palavras.append(nlp.vocab.strings[word])\n",
    "    contagens.append(count)\n",
    "\n",
    "# Gráfico de Barras\n",
    "plt.figure(figsize=(10, 6))\n",
    "plt.bar(palavras, contagens)\n",
    "plt.xlabel('Palavras')\n",
    "plt.ylabel('Frequência')\n",
    "plt.title('10 Palavras Mais Comuns')\n",
    "plt.xticks(rotation=45)\n",
    "plt.show()"
   ]
  },
  {
   "cell_type": "markdown",
   "id": "20a6e45b-e067-4bea-bae4-bb9922b70a9d",
   "metadata": {},
   "source": [
    "### Gensim"
   ]
  },
  {
   "cell_type": "code",
   "execution_count": 55,
   "id": "bd00cabf-4a37-4899-b7e6-4d6c10243805",
   "metadata": {},
   "outputs": [
    {
     "name": "stdout",
     "output_type": "stream",
     "text": [
      "[(16, 2), (19, 1), (21, 1), (22, 1), (31, 1), (41, 1), (51, 1), (52, 1), (85, 1), (90, 1), (91, 1), (92, 1), (93, 2), (94, 1), (95, 2), (96, 1), (97, 1), (98, 3), (99, 2), (100, 3), (101, 1), (102, 1), (103, 1), (104, 1), (105, 1), (106, 1), (107, 1), (108, 1), (109, 1), (110, 1), (111, 3), (112, 1), (113, 1), (114, 1), (115, 1), (116, 1), (117, 1), (118, 2), (119, 1), (120, 2), (121, 1), (122, 1), (123, 3), (124, 1), (125, 1), (126, 1), (127, 1), (128, 1), (129, 1), (130, 1), (131, 1), (132, 1), (133, 1), (134, 1), (135, 1), (136, 1), (137, 1), (138, 3), (139, 2), (140, 1), (141, 1), (142, 1), (143, 1), (144, 1), (145, 2), (146, 1), (147, 1), (148, 1)]\n"
     ]
    }
   ],
   "source": [
    "from gensim import corpora\n",
    "\n",
    "dictionary = corpora.Dictionary(token3) \n",
    "corpus = [dictionary.doc2bow(text) for text in token3]\n",
    "print(corpus[1])"
   ]
  },
  {
   "cell_type": "code",
   "execution_count": 56,
   "id": "3732b2e9-1811-4750-b06e-d3eb3c5d7eff",
   "metadata": {},
   "outputs": [
    {
     "name": "stdout",
     "output_type": "stream",
     "text": [
      "[('acabo', 1), ('alm', 1), ('alves', 1), ('alvo', 1), ('ameaas', 1), ('aps', 2), ('arena', 1), ('atropelou', 1), ('bahia', 1), ('brasileiro', 1), ('braslia', 1), ('cair', 1), ('campeonato', 1), ('campo', 1), ('cantos', 1), ('chegar', 1), ('clube', 1), ('colocao', 1), ('conhecer', 1), ('contedo', 1), ('coringo', 2), ('corinthians', 5), ('criado', 1), ('deixa', 1), ('deixou', 1), ('depender', 1), ('derrota', 1), ('duilio', 1), ('eleies', 1), ('entoados', 1), ('estdio', 1), ('flamengo', 1), ('gama', 1), ('gramado', 1), ('histria', 1), ('homem', 1), ('impede', 1), ('impedidos', 1), ('invadir', 1), ('invaso', 1), ('itaquera', 1), ('itatiaia', 1), ('jogar', 2), ('jogava', 1), ('jorge', 1), ('leia', 1), ('livrar', 1), ('mole', 1), ('monteiro', 1), ('negativo', 1), ('neo', 1), ('original', 1), ('originalmente', 1), ('ouvindo', 1), ('parque', 1), ('partida', 2), ('paulo', 2), ('pedidos', 1), ('pior', 1), ('placar', 1), ('presentes', 1), ('presidente', 2), ('protestos', 2), ('prxima', 1), ('prximo', 1), ('qumica', 1), ('rebaixamento', 1), ('resultado', 1), ('resultados', 1), ('rodada', 2), ('saudade', 1), ('sbado', 1), ('segurana', 1), ('sextafeira', 1), ('sofreu', 2), ('tambm', 1), ('tentaram', 1), ('terafeira', 1), ('timo', 3), ('torcedores', 3), ('torcida', 1), ('tricolor', 1), ('trinio', 1), ('vaias', 2), ('vasco', 1), ('verso', 1), ('vida', 1), ('voc', 1), ('volta', 1), ('vontade', 1)]\n"
     ]
    }
   ],
   "source": [
    "mapping = {v: k for k, v in dictionary.token2id.items()}\n",
    "ttt = [[(mapping[i[0]], i[1]) for i in item] for item in corpus]\n",
    "print(ttt[0])"
   ]
  },
  {
   "cell_type": "code",
   "execution_count": 57,
   "id": "0eae7cec-1383-46d0-a58d-055d0ef2381b",
   "metadata": {},
   "outputs": [],
   "source": [
    "sorted_ttt = sorted(ttt[0], key=lambda x: x[1], reverse=True)"
   ]
  },
  {
   "cell_type": "code",
   "execution_count": 58,
   "id": "b077df5e-70b8-4d7b-bf96-9d03d3c38a18",
   "metadata": {},
   "outputs": [
    {
     "data": {
      "image/png": "[encoded data removed]",
      "text/plain": [
       "<Figure size 1000x600 with 1 Axes>"
      ]
     },
     "metadata": {},
     "output_type": "display_data"
    }
   ],
   "source": [
    "first_ten_elements = sorted_ttt[:10]\n",
    "\n",
    "palavras = []\n",
    "contagens = []\n",
    "# Obter os 10 tokens mais comuns e suas contagens\n",
    "for word, count in first_ten_elements:\n",
    "    palavras.append(word)\n",
    "    contagens.append(count)\n",
    "\n",
    "\n",
    "# Gráfico de Barras\n",
    "plt.figure(figsize=(10, 6))\n",
    "plt.bar(palavras, contagens)\n",
    "plt.xlabel('Palavras')\n",
    "plt.ylabel('Frequência')\n",
    "plt.title('10 Palavras Mais Comuns')\n",
    "plt.xticks(rotation=45)\n",
    "plt.show()"
   ]
  }
 ],
 "metadata": {
  "kernelspec": {
   "display_name": "Python 3 (ipykernel)",
   "language": "python",
   "name": "python3"
  },
  "language_info": {
   "codemirror_mode": {
    "name": "ipython",
    "version": 3
   },
   "file_extension": ".py",
   "mimetype": "text/x-python",
   "name": "python",
   "nbconvert_exporter": "python",
   "pygments_lexer": "ipython3",
   "version": "3.11.5"
  }
 },
 "nbformat": 4,
 "nbformat_minor": 5
}
