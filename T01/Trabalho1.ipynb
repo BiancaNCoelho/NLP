{
 "cells": [
  {
   "cell_type": "markdown",
   "id": "2dcc6805-62bb-443d-90da-97a664722ced",
   "metadata": {},
   "source": [
    "# Trabalho 1\n",
    "Matéria: Processamento de Linguagem Natural <br>\n",
    "Dupla/Matrícula: Bianca Nunes Coelho - 15102880, Raíssa Nunes Coelho - 15102887 <br> "
   ]
  },
  {
   "cell_type": "markdown",
   "id": "dad90a93-1f3f-4c3d-9526-319fb5b42742",
   "metadata": {},
   "source": [
    "## Introdução\n",
    "\n",
    "Multi Class Classification <br>"
   ]
  },
  {
   "cell_type": "markdown",
   "id": "988aaa3a-0dd6-49e6-a703-ec5b042048fb",
   "metadata": {},
   "source": [
    "## Bibliotecas\n",
    "Bibliotecas do ptyhon utilizadas neste trabalho estão a seguir."
   ]
  },
  {
   "cell_type": "code",
   "execution_count": 1,
   "id": "a3cd0f70-3ec7-4e09-b942-8a08a73bb744",
   "metadata": {},
   "outputs": [],
   "source": [
    "import pandas as pd\n",
    "import re\n",
    "import nltk\n",
    "import spacy\n",
    "import gensim\n",
    "import matplotlib.pyplot as plt"
   ]
  },
  {
   "cell_type": "markdown",
   "id": "1560868d-ad70-4a86-a2c8-ddc37c631191",
   "metadata": {},
   "source": [
    "## Datasets\n",
    "Datasets utilizados estão definidos a seguir."
   ]
  },
  {
   "cell_type": "code",
   "execution_count": 2,
   "id": "35b67696-aaf3-4ac5-9d2a-ee1772410097",
   "metadata": {},
   "outputs": [],
   "source": [
    "file = \"train-00000-of-00001-ecf072e7202447d8.parquet\"\n",
    "df = pd.read_parquet(file, engine= 'pyarrow')"
   ]
  },
  {
   "cell_type": "code",
   "execution_count": 3,
   "id": "ab167922-da09-4405-bd0a-729b239877dc",
   "metadata": {},
   "outputs": [
    {
     "data": {
      "text/plain": [
       "3877"
      ]
     },
     "execution_count": 3,
     "metadata": {},
     "output_type": "execute_result"
    }
   ],
   "source": [
    "len(df)"
   ]
  },
  {
   "cell_type": "code",
   "execution_count": 4,
   "id": "41b78a0c-a498-46e2-8e7b-84f28daf62ca",
   "metadata": {
    "scrolled": true
   },
   "outputs": [
    {
     "data": {
      "text/html": [
       "<div>\n",
       "<style scoped>\n",
       "    .dataframe tbody tr th:only-of-type {\n",
       "        vertical-align: middle;\n",
       "    }\n",
       "\n",
       "    .dataframe tbody tr th {\n",
       "        vertical-align: top;\n",
       "    }\n",
       "\n",
       "    .dataframe thead th {\n",
       "        text-align: right;\n",
       "    }\n",
       "</style>\n",
       "<table border=\"1\" class=\"dataframe\">\n",
       "  <thead>\n",
       "    <tr style=\"text-align: right;\">\n",
       "      <th></th>\n",
       "      <th>titulo</th>\n",
       "      <th>texto</th>\n",
       "      <th>link</th>\n",
       "      <th>resumo</th>\n",
       "      <th>categoria</th>\n",
       "      <th>data_hora</th>\n",
       "    </tr>\n",
       "  </thead>\n",
       "  <tbody>\n",
       "    <tr>\n",
       "      <th>0</th>\n",
       "      <td>Veja a trajetória de Fernando Diniz, em busca ...</td>\n",
       "      <td>Se tem um treinador que sempre foi badalado pe...</td>\n",
       "      <td>https://www.cnnbrasil.com.br/esportes/veja-a-t...</td>\n",
       "      <td>Técnico tricolor e da Seleção Brasileira tem a...</td>\n",
       "      <td>esportes</td>\n",
       "      <td>2023-11-04 12:26:18</td>\n",
       "    </tr>\n",
       "    <tr>\n",
       "      <th>1</th>\n",
       "      <td>Após tempestade com ventos, São Paulo terá sáb...</td>\n",
       "      <td>Após uma tempestade com ventos de mais de 100 ...</td>\n",
       "      <td>https://www.cnnbrasil.com.br/nacional/apos-tem...</td>\n",
       "      <td>Termômetros devem chegar a 26ºC, esquentando a...</td>\n",
       "      <td>nacional</td>\n",
       "      <td>2023-11-04 12:15:44</td>\n",
       "    </tr>\n",
       "    <tr>\n",
       "      <th>2</th>\n",
       "      <td>Como os aplicativos de relacionamento “arruina...</td>\n",
       "      <td>Jenny Nguyen-Don estava com vontade de comer f...</td>\n",
       "      <td>https://www.cnnbrasil.com.br/tecnologia/como-o...</td>\n",
       "      <td>Pessoas em busca de relacionamentos afirmam qu...</td>\n",
       "      <td>tecnologia</td>\n",
       "      <td>2023-11-04 12:15:07</td>\n",
       "    </tr>\n",
       "    <tr>\n",
       "      <th>3</th>\n",
       "      <td>Fluminense pode ser o 26º clube a levantar a t...</td>\n",
       "      <td>O Fluminense vai em busca do primeiro título d...</td>\n",
       "      <td>https://www.cnnbrasil.com.br/esportes/fluminen...</td>\n",
       "      <td>Em busca do título inédito, o Tricolor carioca...</td>\n",
       "      <td>esportes</td>\n",
       "      <td>2023-11-04 12:05:24</td>\n",
       "    </tr>\n",
       "  </tbody>\n",
       "</table>\n",
       "</div>"
      ],
      "text/plain": [
       "                                              titulo  \\\n",
       "0  Veja a trajetória de Fernando Diniz, em busca ...   \n",
       "1  Após tempestade com ventos, São Paulo terá sáb...   \n",
       "2  Como os aplicativos de relacionamento “arruina...   \n",
       "3  Fluminense pode ser o 26º clube a levantar a t...   \n",
       "\n",
       "                                               texto  \\\n",
       "0  Se tem um treinador que sempre foi badalado pe...   \n",
       "1  Após uma tempestade com ventos de mais de 100 ...   \n",
       "2  Jenny Nguyen-Don estava com vontade de comer f...   \n",
       "3  O Fluminense vai em busca do primeiro título d...   \n",
       "\n",
       "                                                link  \\\n",
       "0  https://www.cnnbrasil.com.br/esportes/veja-a-t...   \n",
       "1  https://www.cnnbrasil.com.br/nacional/apos-tem...   \n",
       "2  https://www.cnnbrasil.com.br/tecnologia/como-o...   \n",
       "3  https://www.cnnbrasil.com.br/esportes/fluminen...   \n",
       "\n",
       "                                              resumo   categoria  \\\n",
       "0  Técnico tricolor e da Seleção Brasileira tem a...    esportes   \n",
       "1  Termômetros devem chegar a 26ºC, esquentando a...    nacional   \n",
       "2  Pessoas em busca de relacionamentos afirmam qu...  tecnologia   \n",
       "3  Em busca do título inédito, o Tricolor carioca...    esportes   \n",
       "\n",
       "             data_hora  \n",
       "0  2023-11-04 12:26:18  \n",
       "1  2023-11-04 12:15:44  \n",
       "2  2023-11-04 12:15:07  \n",
       "3  2023-11-04 12:05:24  "
      ]
     },
     "execution_count": 4,
     "metadata": {},
     "output_type": "execute_result"
    }
   ],
   "source": [
    "df.head(4)"
   ]
  },
  {
   "cell_type": "markdown",
   "id": "8aa6f7f3-edb4-4990-9cca-4b80617f41dd",
   "metadata": {},
   "source": [
    "## Balanceamento"
   ]
  },
  {
   "cell_type": "code",
   "execution_count": 5,
   "id": "3ef5e8fa-9005-40f3-b0fd-2a9d50cb97dd",
   "metadata": {},
   "outputs": [
    {
     "data": {
      "text/plain": [
       "esportes           960\n",
       "nacional           623\n",
       "internacional      618\n",
       "economia           562\n",
       "politica           507\n",
       "entretenimento     450\n",
       "tecnologia          44\n",
       "saude               41\n",
       "noticias            38\n",
       "lifestyle           21\n",
       "branded-content     13\n",
       "Name: categoria, dtype: int64"
      ]
     },
     "execution_count": 5,
     "metadata": {},
     "output_type": "execute_result"
    }
   ],
   "source": [
    "df['categoria'].value_counts()"
   ]
  },
  {
   "cell_type": "code",
   "execution_count": 6,
   "id": "498911e8-906e-41dc-9bdc-039d09b4c4ce",
   "metadata": {},
   "outputs": [
    {
     "data": {
      "text/plain": [
       "<AxesSubplot: >"
      ]
     },
     "execution_count": 6,
     "metadata": {},
     "output_type": "execute_result"
    },
    {
     "data": {
      "image/png": "[encoded data removed]",
      "text/plain": [
       "<Figure size 1000x400 with 1 Axes>"
      ]
     },
     "metadata": {},
     "output_type": "display_data"
    }
   ],
   "source": [
    "plt.figure(figsize=(10,4))\n",
    "df.categoria.value_counts().plot(kind='bar')"
   ]
  },
  {
   "cell_type": "code",
   "execution_count": 7,
   "id": "696e88a5-62a5-46c3-acec-8575da709518",
   "metadata": {},
   "outputs": [],
   "source": [
    "indice_linha_remover = ['tecnologia',  'saude','noticias','lifestyle','branded-content']"
   ]
  },
  {
   "cell_type": "code",
   "execution_count": 8,
   "id": "c971502d-21ba-40dd-8dab-3bd93640fad6",
   "metadata": {},
   "outputs": [],
   "source": [
    "df = df[~df['categoria'].isin(indice_linha_remover)]"
   ]
  },
  {
   "cell_type": "code",
   "execution_count": 9,
   "id": "519d61c7-a98e-4703-a157-455a39e71b7b",
   "metadata": {},
   "outputs": [
    {
     "data": {
      "text/plain": [
       "esportes          960\n",
       "nacional          623\n",
       "internacional     618\n",
       "economia          562\n",
       "politica          507\n",
       "entretenimento    450\n",
       "Name: categoria, dtype: int64"
      ]
     },
     "execution_count": 9,
     "metadata": {},
     "output_type": "execute_result"
    }
   ],
   "source": [
    "df['categoria'].value_counts()"
   ]
  },
  {
   "cell_type": "code",
   "execution_count": 10,
   "id": "8b080baf-1753-4f8c-88ba-ee247c734a79",
   "metadata": {},
   "outputs": [],
   "source": [
    "# Undersampling\n",
    "min = df['categoria'].value_counts().min()\n",
    "\n",
    "amostras = []\n",
    "\n",
    "for i in df['categoria'].value_counts().index:\n",
    "    a = df[df['categoria'] == i].sample(min, replace=False)\n",
    "    amostras.append(a)\n",
    "\n",
    "df_balanceado = pd.concat(amostras)"
   ]
  },
  {
   "cell_type": "code",
   "execution_count": 11,
   "id": "90d0307b-f2bf-4988-aa52-8795343fdfe1",
   "metadata": {},
   "outputs": [
    {
     "data": {
      "text/plain": [
       "esportes          450\n",
       "nacional          450\n",
       "internacional     450\n",
       "economia          450\n",
       "politica          450\n",
       "entretenimento    450\n",
       "Name: categoria, dtype: int64"
      ]
     },
     "execution_count": 11,
     "metadata": {},
     "output_type": "execute_result"
    }
   ],
   "source": [
    "df_balanceado['categoria'].value_counts()"
   ]
  },
  {
   "cell_type": "code",
   "execution_count": 12,
   "id": "892752bf-2247-4e1c-bb90-1c673908ad1c",
   "metadata": {},
   "outputs": [
    {
     "data": {
      "text/html": [
       "<div>\n",
       "<style scoped>\n",
       "    .dataframe tbody tr th:only-of-type {\n",
       "        vertical-align: middle;\n",
       "    }\n",
       "\n",
       "    .dataframe tbody tr th {\n",
       "        vertical-align: top;\n",
       "    }\n",
       "\n",
       "    .dataframe thead th {\n",
       "        text-align: right;\n",
       "    }\n",
       "</style>\n",
       "<table border=\"1\" class=\"dataframe\">\n",
       "  <thead>\n",
       "    <tr style=\"text-align: right;\">\n",
       "      <th></th>\n",
       "      <th>titulo</th>\n",
       "      <th>texto</th>\n",
       "      <th>link</th>\n",
       "      <th>resumo</th>\n",
       "      <th>categoria</th>\n",
       "      <th>data_hora</th>\n",
       "    </tr>\n",
       "  </thead>\n",
       "  <tbody>\n",
       "    <tr>\n",
       "      <th>0</th>\n",
       "      <td>Surfista australiana supera brasileira e quebr...</td>\n",
       "      <td>A surfista australiana Laura Enever pode comem...</td>\n",
       "      <td>https://www.cnnbrasil.com.br/esportes/surfista...</td>\n",
       "      <td>Laura Enever entrou para o Guiness World Recor...</td>\n",
       "      <td>esportes</td>\n",
       "      <td>2023-11-09 15:58:20</td>\n",
       "    </tr>\n",
       "    <tr>\n",
       "      <th>1</th>\n",
       "      <td>Guardiola parabeniza Flu e diz que “gostaria d...</td>\n",
       "      <td>O treinador Pep Guardiola, do Manchester City,...</td>\n",
       "      <td>https://www.cnnbrasil.com.br/esportes/guardiol...</td>\n",
       "      <td>Declaração foi dada após a vitória por 3 a 0 s...</td>\n",
       "      <td>esportes</td>\n",
       "      <td>2023-11-08 14:16:23</td>\n",
       "    </tr>\n",
       "    <tr>\n",
       "      <th>2</th>\n",
       "      <td>PSG X Newcastle: tempo real e onde assistir ao...</td>\n",
       "      <td>PSG e Newcastle entram em campo nesta terça-fe...</td>\n",
       "      <td>https://www.cnnbrasil.com.br/esportes/psg-x-ne...</td>\n",
       "      <td>Onde assistir e tempo real dos lances e das es...</td>\n",
       "      <td>esportes</td>\n",
       "      <td>2023-11-28 11:31:14</td>\n",
       "    </tr>\n",
       "    <tr>\n",
       "      <th>3</th>\n",
       "      <td>Flamengo x Atlético-MG: Ingressos esgotados pa...</td>\n",
       "      <td>Na briga pelo título do Campeonato Brasileiro,...</td>\n",
       "      <td>https://www.cnnbrasil.com.br/esportes/flamengo...</td>\n",
       "      <td>Arquibancadas do Maracanã estarão lotadas para...</td>\n",
       "      <td>esportes</td>\n",
       "      <td>2023-11-28 15:57:18</td>\n",
       "    </tr>\n",
       "    <tr>\n",
       "      <th>4</th>\n",
       "      <td>Cruzeiro quer manter Bruno Rodrigues, mas pede...</td>\n",
       "      <td>O Cruzeiro procurou o Tombense e sinalizou, em...</td>\n",
       "      <td>https://www.cnnbrasil.com.br/esportes/cruzeiro...</td>\n",
       "      <td>Atacante pertence ao Tombense e já poderia ass...</td>\n",
       "      <td>esportes</td>\n",
       "      <td>2023-11-20 22:33:22</td>\n",
       "    </tr>\n",
       "  </tbody>\n",
       "</table>\n",
       "</div>"
      ],
      "text/plain": [
       "                                              titulo  \\\n",
       "0  Surfista australiana supera brasileira e quebr...   \n",
       "1  Guardiola parabeniza Flu e diz que “gostaria d...   \n",
       "2  PSG X Newcastle: tempo real e onde assistir ao...   \n",
       "3  Flamengo x Atlético-MG: Ingressos esgotados pa...   \n",
       "4  Cruzeiro quer manter Bruno Rodrigues, mas pede...   \n",
       "\n",
       "                                               texto  \\\n",
       "0  A surfista australiana Laura Enever pode comem...   \n",
       "1  O treinador Pep Guardiola, do Manchester City,...   \n",
       "2  PSG e Newcastle entram em campo nesta terça-fe...   \n",
       "3  Na briga pelo título do Campeonato Brasileiro,...   \n",
       "4  O Cruzeiro procurou o Tombense e sinalizou, em...   \n",
       "\n",
       "                                                link  \\\n",
       "0  https://www.cnnbrasil.com.br/esportes/surfista...   \n",
       "1  https://www.cnnbrasil.com.br/esportes/guardiol...   \n",
       "2  https://www.cnnbrasil.com.br/esportes/psg-x-ne...   \n",
       "3  https://www.cnnbrasil.com.br/esportes/flamengo...   \n",
       "4  https://www.cnnbrasil.com.br/esportes/cruzeiro...   \n",
       "\n",
       "                                              resumo categoria  \\\n",
       "0  Laura Enever entrou para o Guiness World Recor...  esportes   \n",
       "1  Declaração foi dada após a vitória por 3 a 0 s...  esportes   \n",
       "2  Onde assistir e tempo real dos lances e das es...  esportes   \n",
       "3  Arquibancadas do Maracanã estarão lotadas para...  esportes   \n",
       "4  Atacante pertence ao Tombense e já poderia ass...  esportes   \n",
       "\n",
       "             data_hora  \n",
       "0  2023-11-09 15:58:20  \n",
       "1  2023-11-08 14:16:23  \n",
       "2  2023-11-28 11:31:14  \n",
       "3  2023-11-28 15:57:18  \n",
       "4  2023-11-20 22:33:22  "
      ]
     },
     "execution_count": 12,
     "metadata": {},
     "output_type": "execute_result"
    }
   ],
   "source": [
    "df_balanceado = df_balanceado.reset_index(drop=True)\n",
    "df_balanceado.head(5)"
   ]
  },
  {
   "cell_type": "code",
   "execution_count": 13,
   "id": "2ae37d80-d01e-4fd2-8453-4a89eaa24937",
   "metadata": {},
   "outputs": [
    {
     "data": {
      "text/plain": [
       "2700"
      ]
     },
     "execution_count": 13,
     "metadata": {},
     "output_type": "execute_result"
    }
   ],
   "source": [
    "# pega coluna\n",
    "text = df_balanceado['texto']\n",
    "len(text)"
   ]
  },
  {
   "cell_type": "code",
   "execution_count": 14,
   "id": "5d4514e9-6613-4ea6-8788-3c062d7017f7",
   "metadata": {},
   "outputs": [],
   "source": [
    "categorias = ['esportes','nacional', 'internacional', 'economia', 'politica', 'entretenimento']"
   ]
  },
  {
   "cell_type": "markdown",
   "id": "7db9049f-049d-461f-859e-f3cc6f973578",
   "metadata": {},
   "source": [
    "## Pré-processamento"
   ]
  },
  {
   "cell_type": "code",
   "execution_count": 15,
   "id": "576c1475-b309-4f49-a34b-2b35a9cc5047",
   "metadata": {},
   "outputs": [],
   "source": [
    "for i in range(len(text)):\n",
    "    text[i] = text[i].lower()"
   ]
  },
  {
   "cell_type": "code",
   "execution_count": 16,
   "id": "46decafe-5c86-4cc0-b3fe-581dfc26fbcd",
   "metadata": {},
   "outputs": [],
   "source": [
    "from unidecode import unidecode\n",
    "\n",
    "for i in range(len(text)):\n",
    "    text[i] = unidecode(text[i])"
   ]
  },
  {
   "cell_type": "code",
   "execution_count": 17,
   "id": "b0784904-6dee-4306-b60f-125e87052ffd",
   "metadata": {},
   "outputs": [],
   "source": [
    "for i in range(len(text)):\n",
    "    text[i] = re.sub(r'[^a-zA-Z\\s]', \"\" ,text[i])"
   ]
  },
  {
   "cell_type": "code",
   "execution_count": 18,
   "id": "89c8ad61-6faa-48ee-b9f4-fbcd9fa12224",
   "metadata": {},
   "outputs": [
    {
     "name": "stdout",
     "output_type": "stream",
     "text": [
      "a surfista australiana laura enever pode comemorar oficialmente a quebra do recorde mundial da maior onda ja surfada por uma mulher na remada o guinness world records e a world surf league wsl anunciaram o tamanho da onda de  metros que ela surfou com sucesso no havai em  de janeiro remar exige que os surfistas entrem nas ondas sem ajuda diferente da outra categoria em que os atletas sao levados por um jetski para acessar as maiores ondas quando olhei para baixo sabia que era definitivamente a maior onda que ja peguei eu sabia que era a onda da minha vida a forma como tudo aconteceu e a forma como me comprometi disse a mim mesma para ir e confiei que conseguiria a prova foi um grande avanco para mim e um momento que sera realmente especial e monumental na minha carreira de surf ser premiada meses depois e muito legal nao consigo acreditar disse enever  leia mais  o recorde anterior foi ha oito anos da surfista brasileira andrea moller  a brasileira surfou uma onda de  metros tambem no havai enever de  anos agradeceu a geracao anterior de surfistas que abriram o caminho para seu sucesso e que a inspiraram a entrar no esporte a australiana espera que a sua carreira inspire a proxima geracao de mulheres a seguir o exemplo obrigado a todas as mulheres incriveis andrea moller detinha esse recorde antes de mim e e uma honra detelo e continuar avancando no surf de ondas grandes e eu sei que as proximas meninas a proxima geracao de surfistas farao o mesmo completou enever comecou a surfar quando tinha apenas  anos e teve uma carreira jovem de sucesso foi campea mundial junior em  dois anos depois ela se classificou para o wsl championship tour onde competiu por sete anos desde entao ela participou de eventos wsl big wave muitos parabens a laura por esta conquista incrivel disse a chefe de esportes da wsl jessi mileydyer laura e destemida comprometida e uma verdadeira inspiracao estou muito orgulhoso de celebrala esses recordes mundiais realmente nos permitem destacar atletas como laura que estao ultrapassando os limites do surf em ondas grandes contou o recorde geral da maior onda surfada na remada foi estabelecido por aaron gold em   o americano surfou uma onda de  metros na costa do havai o alemao sebastian steudtner tem o recorde da maior onda ja surfada  metros em  este conteudo foi criado originalmente em internacional versao original\n"
     ]
    }
   ],
   "source": [
    "print(text[0])"
   ]
  },
  {
   "cell_type": "markdown",
   "id": "02977b39-1e4d-4f7e-92b8-06bebd2112c8",
   "metadata": {},
   "source": [
    "### NLTK"
   ]
  },
  {
   "cell_type": "code",
   "execution_count": 19,
   "id": "2534f4b8-ff0a-4351-94a3-66ee72e1ffd3",
   "metadata": {},
   "outputs": [],
   "source": [
    "token_text = []\n",
    "\n",
    "for j in text:\n",
    "    token_text.append(nltk.word_tokenize(j))"
   ]
  },
  {
   "cell_type": "code",
   "execution_count": 20,
   "id": "a6124e77-e0d1-4d1e-b9bf-17f171695772",
   "metadata": {},
   "outputs": [
    {
     "name": "stdout",
     "output_type": "stream",
     "text": [
      "['a', 'surfista', 'australiana', 'laura', 'enever', 'pode', 'comemorar', 'oficialmente', 'a', 'quebra', 'do', 'recorde', 'mundial', 'da', 'maior', 'onda', 'ja', 'surfada', 'por', 'uma', 'mulher', 'na', 'remada', 'o', 'guinness', 'world', 'records', 'e', 'a', 'world', 'surf', 'league', 'wsl', 'anunciaram', 'o', 'tamanho', 'da', 'onda', 'de', 'metros', 'que', 'ela', 'surfou', 'com', 'sucesso', 'no', 'havai', 'em', 'de', 'janeiro', 'remar', 'exige', 'que', 'os', 'surfistas', 'entrem', 'nas', 'ondas', 'sem', 'ajuda', 'diferente', 'da', 'outra', 'categoria', 'em', 'que', 'os', 'atletas', 'sao', 'levados', 'por', 'um', 'jetski', 'para', 'acessar', 'as', 'maiores', 'ondas', 'quando', 'olhei', 'para', 'baixo', 'sabia', 'que', 'era', 'definitivamente', 'a', 'maior', 'onda', 'que', 'ja', 'peguei', 'eu', 'sabia', 'que', 'era', 'a', 'onda', 'da', 'minha', 'vida', 'a', 'forma', 'como', 'tudo', 'aconteceu', 'e', 'a', 'forma', 'como', 'me', 'comprometi', 'disse', 'a', 'mim', 'mesma', 'para', 'ir', 'e', 'confiei', 'que', 'conseguiria', 'a', 'prova', 'foi', 'um', 'grande', 'avanco', 'para', 'mim', 'e', 'um', 'momento', 'que', 'sera', 'realmente', 'especial', 'e', 'monumental', 'na', 'minha', 'carreira', 'de', 'surf', 'ser', 'premiada', 'meses', 'depois', 'e', 'muito', 'legal', 'nao', 'consigo', 'acreditar', 'disse', 'enever', 'leia', 'mais', 'o', 'recorde', 'anterior', 'foi', 'ha', 'oito', 'anos', 'da', 'surfista', 'brasileira', 'andrea', 'moller', 'a', 'brasileira', 'surfou', 'uma', 'onda', 'de', 'metros', 'tambem', 'no', 'havai', 'enever', 'de', 'anos', 'agradeceu', 'a', 'geracao', 'anterior', 'de', 'surfistas', 'que', 'abriram', 'o', 'caminho', 'para', 'seu', 'sucesso', 'e', 'que', 'a', 'inspiraram', 'a', 'entrar', 'no', 'esporte', 'a', 'australiana', 'espera', 'que', 'a', 'sua', 'carreira', 'inspire', 'a', 'proxima', 'geracao', 'de', 'mulheres', 'a', 'seguir', 'o', 'exemplo', 'obrigado', 'a', 'todas', 'as', 'mulheres', 'incriveis', 'andrea', 'moller', 'detinha', 'esse', 'recorde', 'antes', 'de', 'mim', 'e', 'e', 'uma', 'honra', 'detelo', 'e', 'continuar', 'avancando', 'no', 'surf', 'de', 'ondas', 'grandes', 'e', 'eu', 'sei', 'que', 'as', 'proximas', 'meninas', 'a', 'proxima', 'geracao', 'de', 'surfistas', 'farao', 'o', 'mesmo', 'completou', 'enever', 'comecou', 'a', 'surfar', 'quando', 'tinha', 'apenas', 'anos', 'e', 'teve', 'uma', 'carreira', 'jovem', 'de', 'sucesso', 'foi', 'campea', 'mundial', 'junior', 'em', 'dois', 'anos', 'depois', 'ela', 'se', 'classificou', 'para', 'o', 'wsl', 'championship', 'tour', 'onde', 'competiu', 'por', 'sete', 'anos', 'desde', 'entao', 'ela', 'participou', 'de', 'eventos', 'wsl', 'big', 'wave', 'muitos', 'parabens', 'a', 'laura', 'por', 'esta', 'conquista', 'incrivel', 'disse', 'a', 'chefe', 'de', 'esportes', 'da', 'wsl', 'jessi', 'mileydyer', 'laura', 'e', 'destemida', 'comprometida', 'e', 'uma', 'verdadeira', 'inspiracao', 'estou', 'muito', 'orgulhoso', 'de', 'celebrala', 'esses', 'recordes', 'mundiais', 'realmente', 'nos', 'permitem', 'destacar', 'atletas', 'como', 'laura', 'que', 'estao', 'ultrapassando', 'os', 'limites', 'do', 'surf', 'em', 'ondas', 'grandes', 'contou', 'o', 'recorde', 'geral', 'da', 'maior', 'onda', 'surfada', 'na', 'remada', 'foi', 'estabelecido', 'por', 'aaron', 'gold', 'em', 'o', 'americano', 'surfou', 'uma', 'onda', 'de', 'metros', 'na', 'costa', 'do', 'havai', 'o', 'alemao', 'sebastian', 'steudtner', 'tem', 'o', 'recorde', 'da', 'maior', 'onda', 'ja', 'surfada', 'metros', 'em', 'este', 'conteudo', 'foi', 'criado', 'originalmente', 'em', 'internacional', 'versao', 'original']\n"
     ]
    }
   ],
   "source": [
    "print(token_text[0])"
   ]
  },
  {
   "cell_type": "code",
   "execution_count": 21,
   "id": "9e891517-f3dd-491c-a02e-7fe17e0ecff7",
   "metadata": {},
   "outputs": [
    {
     "name": "stderr",
     "output_type": "stream",
     "text": [
      "[nltk_data] Downloading package stopwords to /home/hworld/nltk_data...\n",
      "[nltk_data]   Package stopwords is already up-to-date!\n"
     ]
    },
    {
     "data": {
      "text/plain": [
       "True"
      ]
     },
     "execution_count": 21,
     "metadata": {},
     "output_type": "execute_result"
    }
   ],
   "source": [
    "nltk.download('stopwords')"
   ]
  },
  {
   "cell_type": "code",
   "execution_count": 22,
   "id": "7ce4e6e6-b023-4dd0-b5b3-624c55220bed",
   "metadata": {},
   "outputs": [],
   "source": [
    "from nltk.corpus import stopwords\n",
    "sw = stopwords.words('portuguese')"
   ]
  },
  {
   "cell_type": "code",
   "execution_count": 23,
   "id": "c7a094e5-44b5-4079-bfff-1201a537ded8",
   "metadata": {},
   "outputs": [],
   "source": [
    "for stop in sw:\n",
    "    for text in token_text:\n",
    "        for t in text:\n",
    "            if(t == stop):\n",
    "                text.remove(t)"
   ]
  },
  {
   "cell_type": "code",
   "execution_count": 24,
   "id": "6a9a56b7-e028-43f7-bc0b-d0c6dcc31604",
   "metadata": {},
   "outputs": [
    {
     "name": "stdout",
     "output_type": "stream",
     "text": [
      "['surfista', 'australiana', 'laura', 'enever', 'pode', 'comemorar', 'oficialmente', 'quebra', 'recorde', 'mundial', 'maior', 'onda', 'ja', 'surfada', 'mulher', 'remada', 'guinness', 'world', 'records', 'world', 'surf', 'league', 'wsl', 'anunciaram', 'tamanho', 'onda', 'metros', 'surfou', 'sucesso', 'havai', 'janeiro', 'remar', 'exige', 'surfistas', 'entrem', 'ondas', 'ajuda', 'diferente', 'outra', 'categoria', 'atletas', 'sao', 'levados', 'jetski', 'acessar', 'maiores', 'ondas', 'olhei', 'baixo', 'sabia', 'definitivamente', 'maior', 'onda', 'ja', 'peguei', 'sabia', 'onda', 'vida', 'forma', 'tudo', 'aconteceu', 'forma', 'comprometi', 'disse', 'mim', 'mesma', 'ir', 'confiei', 'conseguiria', 'prova', 'grande', 'avanco', 'mim', 'momento', 'sera', 'realmente', 'especial', 'monumental', 'carreira', 'surf', 'premiada', 'meses', 'legal', 'nao', 'consigo', 'acreditar', 'disse', 'enever', 'leia', 'recorde', 'anterior', 'ha', 'oito', 'anos', 'surfista', 'brasileira', 'andrea', 'moller', 'brasileira', 'surfou', 'onda', 'metros', 'tambem', 'havai', 'enever', 'anos', 'agradeceu', 'geracao', 'anterior', 'surfistas', 'abriram', 'caminho', 'sucesso', 'inspiraram', 'entrar', 'esporte', 'australiana', 'espera', 'carreira', 'inspire', 'proxima', 'geracao', 'mulheres', 'seguir', 'exemplo', 'obrigado', 'todas', 'mulheres', 'incriveis', 'andrea', 'moller', 'detinha', 'recorde', 'antes', 'mim', 'honra', 'detelo', 'continuar', 'avancando', 'surf', 'ondas', 'grandes', 'sei', 'proximas', 'meninas', 'proxima', 'geracao', 'surfistas', 'farao', 'completou', 'enever', 'comecou', 'surfar', 'apenas', 'anos', 'carreira', 'jovem', 'sucesso', 'campea', 'mundial', 'junior', 'dois', 'anos', 'classificou', 'wsl', 'championship', 'tour', 'onde', 'competiu', 'sete', 'anos', 'desde', 'entao', 'participou', 'eventos', 'wsl', 'big', 'wave', 'muitos', 'parabens', 'laura', 'conquista', 'incrivel', 'disse', 'chefe', 'esportes', 'wsl', 'jessi', 'mileydyer', 'laura', 'destemida', 'comprometida', 'e', 'verdadeira', 'inspiracao', 'orgulhoso', 'celebrala', 'recordes', 'mundiais', 'realmente', 'permitem', 'destacar', 'atletas', 'laura', 'estao', 'ultrapassando', 'limites', 'surf', 'ondas', 'grandes', 'contou', 'recorde', 'geral', 'maior', 'onda', 'surfada', 'remada', 'estabelecido', 'aaron', 'gold', 'americano', 'surfou', 'onda', 'metros', 'costa', 'havai', 'alemao', 'sebastian', 'steudtner', 'recorde', 'maior', 'onda', 'ja', 'surfada', 'metros', 'conteudo', 'criado', 'originalmente', 'internacional', 'versao', 'original']\n"
     ]
    }
   ],
   "source": [
    "print(token_text[0])"
   ]
  },
  {
   "cell_type": "code",
   "execution_count": 29,
   "id": "75724920-33df-45ea-bc66-62cd512dc49e",
   "metadata": {},
   "outputs": [
    {
     "data": {
      "text/html": [
       "<div>\n",
       "<style scoped>\n",
       "    .dataframe tbody tr th:only-of-type {\n",
       "        vertical-align: middle;\n",
       "    }\n",
       "\n",
       "    .dataframe tbody tr th {\n",
       "        vertical-align: top;\n",
       "    }\n",
       "\n",
       "    .dataframe thead th {\n",
       "        text-align: right;\n",
       "    }\n",
       "</style>\n",
       "<table border=\"1\" class=\"dataframe\">\n",
       "  <thead>\n",
       "    <tr style=\"text-align: right;\">\n",
       "      <th></th>\n",
       "      <th>titulo</th>\n",
       "      <th>texto</th>\n",
       "      <th>link</th>\n",
       "      <th>resumo</th>\n",
       "      <th>categoria</th>\n",
       "      <th>data_hora</th>\n",
       "    </tr>\n",
       "  </thead>\n",
       "  <tbody>\n",
       "    <tr>\n",
       "      <th>0</th>\n",
       "      <td>Surfista australiana supera brasileira e quebr...</td>\n",
       "      <td>[surfista, australiana, laura, enever, pode, c...</td>\n",
       "      <td>https://www.cnnbrasil.com.br/esportes/surfista...</td>\n",
       "      <td>Laura Enever entrou para o Guiness World Recor...</td>\n",
       "      <td>esportes</td>\n",
       "      <td>2023-11-09 15:58:20</td>\n",
       "    </tr>\n",
       "    <tr>\n",
       "      <th>1</th>\n",
       "      <td>Guardiola parabeniza Flu e diz que “gostaria d...</td>\n",
       "      <td>[treinador, pep, guardiola, manchester, city, ...</td>\n",
       "      <td>https://www.cnnbrasil.com.br/esportes/guardiol...</td>\n",
       "      <td>Declaração foi dada após a vitória por 3 a 0 s...</td>\n",
       "      <td>esportes</td>\n",
       "      <td>2023-11-08 14:16:23</td>\n",
       "    </tr>\n",
       "  </tbody>\n",
       "</table>\n",
       "</div>"
      ],
      "text/plain": [
       "                                              titulo  \\\n",
       "0  Surfista australiana supera brasileira e quebr...   \n",
       "1  Guardiola parabeniza Flu e diz que “gostaria d...   \n",
       "\n",
       "                                               texto  \\\n",
       "0  [surfista, australiana, laura, enever, pode, c...   \n",
       "1  [treinador, pep, guardiola, manchester, city, ...   \n",
       "\n",
       "                                                link  \\\n",
       "0  https://www.cnnbrasil.com.br/esportes/surfista...   \n",
       "1  https://www.cnnbrasil.com.br/esportes/guardiol...   \n",
       "\n",
       "                                              resumo categoria  \\\n",
       "0  Laura Enever entrou para o Guiness World Recor...  esportes   \n",
       "1  Declaração foi dada após a vitória por 3 a 0 s...  esportes   \n",
       "\n",
       "             data_hora  \n",
       "0  2023-11-09 15:58:20  \n",
       "1  2023-11-08 14:16:23  "
      ]
     },
     "execution_count": 29,
     "metadata": {},
     "output_type": "execute_result"
    }
   ],
   "source": [
    "df_balanceado['texto'] = token_text\n",
    "df_balanceado.head(2)"
   ]
  },
  {
   "cell_type": "markdown",
   "id": "2a86a3f7-402e-4f60-8e02-b612fe83c051",
   "metadata": {},
   "source": [
    "## Análises"
   ]
  },
  {
   "cell_type": "code",
   "execution_count": 34,
   "id": "bc59c4ef-5077-4918-941d-56c0da1e7974",
   "metadata": {},
   "outputs": [
    {
     "name": "stdout",
     "output_type": "stream",
     "text": [
      "[('sobre', 5), ('diniz', 3), ('fluminense', 3), ('mundial', 3), ('clubes', 3), ('treinador', 2), ('guardiola', 2), ('manchester', 2), ('city', 2), ('fernando', 2), ('libertadores', 2), ('gostaria', 2), ('saber', 2), ('dinizismo', 2), ('pep', 1), ('parabenizou', 1), ('conquista', 1), ('copa', 1), ('garantiu', 1), ('declaracao', 1), ('dada', 1), ('tnt', 1), ('sports', 1), ('apos', 1), ('vitoria', 1), ('young', 1), ('boys', 1), ('etihad', 1), ('stadium', 1), ('grupo', 1), ('g', 1), ('champions', 1), ('league', 1), ('questionado', 1), ('estilo', 1), ('jogo', 1), ('aposicional', 1), ('afirmou', 1), ('interessado', 1), ('conhecer', 1), ('forma', 1), ('jogar', 1), ('falou', 1), ('possivel', 1), ('embate', 1), ('contra', 1), ('leia', 1), ('proxima', 1), ('vez', 1), ('vermos', 1), ('pode', 1), ('contar', 1), ('felicidades', 1), ('ganhar', 1), ('sei', 1), ('importante', 1), ('ganhala', 1), ('america', 1), ('sul', 1), ('dois', 1), ('partidas', 1), ('todos', 1), ('vao', 1), ('dizer', 1), ('encontraremos', 1), ('final', 1), ('assim', 1), ('ha', 1), ('outras', 1), ('equipes', 1), ('disse', 1), ('tricolor', 1), ('laranjeiras', 1), ('disputarao', 1), ('semifinais', 1), ('alittihadara', 1), ('auckland', 1), ('citynzl', 1), ('leonmex', 1), ('urawa', 1), ('redsjpn', 1), ('al', 1), ('ahlyegy', 1), ('tambem', 1), ('estarao', 1), ('competicao', 1), ('dezembro', 1)]\n"
     ]
    }
   ],
   "source": [
    "from collections import Counter  # Contagem de frequência de palavras usando NLTK \n",
    "frequencia_palavras = Counter(token_text[1]) \n",
    "print(frequencia_palavras.most_common())"
   ]
  },
  {
   "cell_type": "code",
   "execution_count": 38,
   "id": "c86224cb-cc2e-4ce2-a70e-cd010bd88214",
   "metadata": {},
   "outputs": [
    {
     "data": {
      "image/png": "[encoded data removed]",
      "text/plain": [
       "<Figure size 1000x600 with 1 Axes>"
      ]
     },
     "metadata": {},
     "output_type": "display_data"
    }
   ],
   "source": [
    "# Obter os 10 tokens mais comuns e suas contagens\n",
    "tokens_mais_comuns = frequencia_palavras.most_common(20)\n",
    "palavras, contagens = zip(*tokens_mais_comuns)\n",
    "\n",
    "# Gráfico de Barras\n",
    "plt.figure(figsize=(10, 6))\n",
    "plt.bar(palavras, contagens)\n",
    "plt.xlabel('Palavras')\n",
    "plt.ylabel('Frequência')\n",
    "plt.title('10 Palavras Mais Comuns')\n",
    "plt.xticks(rotation=45)\n",
    "plt.show()"
   ]
  },
  {
   "cell_type": "code",
   "execution_count": 41,
   "id": "8d196b3e-c4e5-4495-9261-5d9993d20158",
   "metadata": {},
   "outputs": [
    {
     "data": {
      "image/png": "[encoded data removed]",
      "text/plain": [
       "<Figure size 1000x600 with 1 Axes>"
      ]
     },
     "metadata": {},
     "output_type": "display_data"
    }
   ],
   "source": [
    "palavras_ordenadas = sorted(frequencia_palavras.items(), key=lambda x: x[1], reverse=True)\n",
    "palavras, contagens = zip(*palavras_ordenadas)\n",
    "\n",
    "# Plotar o gráfico da Lei de Zipf\n",
    "plt.figure(figsize=(10, 6))\n",
    "plt.plot(range(1, len(palavras) + 1), contagens)\n",
    "plt.xlabel('Rank')\n",
    "plt.ylabel('Frequência')\n",
    "plt.title('Lei de Zipf - Frequência de Todas as Palavras')\n",
    "plt.grid(True)\n",
    "plt.show()"
   ]
  },
  {
   "cell_type": "markdown",
   "id": "ec752a64-fd72-4ca4-8e3e-1bfc43f5ac0f",
   "metadata": {},
   "source": [
    "## Prediction"
   ]
  },
  {
   "cell_type": "code",
   "execution_count": null,
   "id": "0f139a80-c845-49f0-86a2-37e273672515",
   "metadata": {},
   "outputs": [],
   "source": []
  }
 ],
 "metadata": {
  "kernelspec": {
   "display_name": "Python 3 (ipykernel)",
   "language": "python",
   "name": "python3"
  },
  "language_info": {
   "codemirror_mode": {
    "name": "ipython",
    "version": 3
   },
   "file_extension": ".py",
   "mimetype": "text/x-python",
   "name": "python",
   "nbconvert_exporter": "python",
   "pygments_lexer": "ipython3",
   "version": "3.10.9"
  }
 },
 "nbformat": 4,
 "nbformat_minor": 5
}
