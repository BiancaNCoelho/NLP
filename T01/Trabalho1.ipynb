{
 "cells": [
  {
   "cell_type": "markdown",
   "id": "2dcc6805-62bb-443d-90da-97a664722ced",
   "metadata": {},
   "source": [
    "# Trabalho 1\n",
    "Matéria: Processamento de Linguagem Natural <br>\n",
    "Dupla/Matrícula: Bianca Nunes Coelho - 15102880, Raíssa Nunes Coelho - 15102887 <br> "
   ]
  },
  {
   "cell_type": "markdown",
   "id": "dad90a93-1f3f-4c3d-9526-319fb5b42742",
   "metadata": {},
   "source": [
    "## Introdução"
   ]
  },
  {
   "cell_type": "markdown",
   "id": "988aaa3a-0dd6-49e6-a703-ec5b042048fb",
   "metadata": {},
   "source": [
    "## Bibliotecas\n",
    "Bibliotecas do ptyhon utilizadas neste trabalho estão a seguir."
   ]
  },
  {
   "cell_type": "code",
   "execution_count": 55,
   "id": "a3cd0f70-3ec7-4e09-b942-8a08a73bb744",
   "metadata": {},
   "outputs": [],
   "source": [
    "import pandas as pd\n",
    "import re\n",
    "import nltk\n",
    "import spacy\n",
    "import gensim"
   ]
  },
  {
   "cell_type": "markdown",
   "id": "1560868d-ad70-4a86-a2c8-ddc37c631191",
   "metadata": {},
   "source": [
    "## Datasets\n",
    "Datasets utilizados estão definidos a seguir."
   ]
  },
  {
   "cell_type": "code",
   "execution_count": 65,
   "id": "35b67696-aaf3-4ac5-9d2a-ee1772410097",
   "metadata": {},
   "outputs": [],
   "source": [
    "file = \"train-00000-of-00001-ecf072e7202447d8.parquet\"\n",
    "df = pd.read_parquet(file, engine= 'pyarrow')"
   ]
  },
  {
   "cell_type": "code",
   "execution_count": 66,
   "id": "ab167922-da09-4405-bd0a-729b239877dc",
   "metadata": {},
   "outputs": [
    {
     "data": {
      "text/plain": [
       "3877"
      ]
     },
     "execution_count": 66,
     "metadata": {},
     "output_type": "execute_result"
    }
   ],
   "source": [
    "len(df)"
   ]
  },
  {
   "cell_type": "code",
   "execution_count": 67,
   "id": "41b78a0c-a498-46e2-8e7b-84f28daf62ca",
   "metadata": {
    "scrolled": true
   },
   "outputs": [
    {
     "data": {
      "text/html": [
       "<div>\n",
       "<style scoped>\n",
       "    .dataframe tbody tr th:only-of-type {\n",
       "        vertical-align: middle;\n",
       "    }\n",
       "\n",
       "    .dataframe tbody tr th {\n",
       "        vertical-align: top;\n",
       "    }\n",
       "\n",
       "    .dataframe thead th {\n",
       "        text-align: right;\n",
       "    }\n",
       "</style>\n",
       "<table border=\"1\" class=\"dataframe\">\n",
       "  <thead>\n",
       "    <tr style=\"text-align: right;\">\n",
       "      <th></th>\n",
       "      <th>titulo</th>\n",
       "      <th>texto</th>\n",
       "      <th>link</th>\n",
       "      <th>resumo</th>\n",
       "      <th>categoria</th>\n",
       "      <th>data_hora</th>\n",
       "    </tr>\n",
       "  </thead>\n",
       "  <tbody>\n",
       "    <tr>\n",
       "      <th>0</th>\n",
       "      <td>Veja a trajetória de Fernando Diniz, em busca ...</td>\n",
       "      <td>Se tem um treinador que sempre foi badalado pe...</td>\n",
       "      <td>https://www.cnnbrasil.com.br/esportes/veja-a-t...</td>\n",
       "      <td>Técnico tricolor e da Seleção Brasileira tem a...</td>\n",
       "      <td>esportes</td>\n",
       "      <td>2023-11-04 12:26:18</td>\n",
       "    </tr>\n",
       "    <tr>\n",
       "      <th>1</th>\n",
       "      <td>Após tempestade com ventos, São Paulo terá sáb...</td>\n",
       "      <td>Após uma tempestade com ventos de mais de 100 ...</td>\n",
       "      <td>https://www.cnnbrasil.com.br/nacional/apos-tem...</td>\n",
       "      <td>Termômetros devem chegar a 26ºC, esquentando a...</td>\n",
       "      <td>nacional</td>\n",
       "      <td>2023-11-04 12:15:44</td>\n",
       "    </tr>\n",
       "    <tr>\n",
       "      <th>2</th>\n",
       "      <td>Como os aplicativos de relacionamento “arruina...</td>\n",
       "      <td>Jenny Nguyen-Don estava com vontade de comer f...</td>\n",
       "      <td>https://www.cnnbrasil.com.br/tecnologia/como-o...</td>\n",
       "      <td>Pessoas em busca de relacionamentos afirmam qu...</td>\n",
       "      <td>tecnologia</td>\n",
       "      <td>2023-11-04 12:15:07</td>\n",
       "    </tr>\n",
       "    <tr>\n",
       "      <th>3</th>\n",
       "      <td>Fluminense pode ser o 26º clube a levantar a t...</td>\n",
       "      <td>O Fluminense vai em busca do primeiro título d...</td>\n",
       "      <td>https://www.cnnbrasil.com.br/esportes/fluminen...</td>\n",
       "      <td>Em busca do título inédito, o Tricolor carioca...</td>\n",
       "      <td>esportes</td>\n",
       "      <td>2023-11-04 12:05:24</td>\n",
       "    </tr>\n",
       "  </tbody>\n",
       "</table>\n",
       "</div>"
      ],
      "text/plain": [
       "                                              titulo  \\\n",
       "0  Veja a trajetória de Fernando Diniz, em busca ...   \n",
       "1  Após tempestade com ventos, São Paulo terá sáb...   \n",
       "2  Como os aplicativos de relacionamento “arruina...   \n",
       "3  Fluminense pode ser o 26º clube a levantar a t...   \n",
       "\n",
       "                                               texto  \\\n",
       "0  Se tem um treinador que sempre foi badalado pe...   \n",
       "1  Após uma tempestade com ventos de mais de 100 ...   \n",
       "2  Jenny Nguyen-Don estava com vontade de comer f...   \n",
       "3  O Fluminense vai em busca do primeiro título d...   \n",
       "\n",
       "                                                link  \\\n",
       "0  https://www.cnnbrasil.com.br/esportes/veja-a-t...   \n",
       "1  https://www.cnnbrasil.com.br/nacional/apos-tem...   \n",
       "2  https://www.cnnbrasil.com.br/tecnologia/como-o...   \n",
       "3  https://www.cnnbrasil.com.br/esportes/fluminen...   \n",
       "\n",
       "                                              resumo   categoria  \\\n",
       "0  Técnico tricolor e da Seleção Brasileira tem a...    esportes   \n",
       "1  Termômetros devem chegar a 26ºC, esquentando a...    nacional   \n",
       "2  Pessoas em busca de relacionamentos afirmam qu...  tecnologia   \n",
       "3  Em busca do título inédito, o Tricolor carioca...    esportes   \n",
       "\n",
       "             data_hora  \n",
       "0  2023-11-04 12:26:18  \n",
       "1  2023-11-04 12:15:44  \n",
       "2  2023-11-04 12:15:07  \n",
       "3  2023-11-04 12:05:24  "
      ]
     },
     "execution_count": 67,
     "metadata": {},
     "output_type": "execute_result"
    }
   ],
   "source": [
    "df.head(4)"
   ]
  },
  {
   "cell_type": "code",
   "execution_count": 68,
   "id": "2ae37d80-d01e-4fd2-8453-4a89eaa24937",
   "metadata": {},
   "outputs": [],
   "source": [
    "# pega coluna\n",
    "text = df['texto']"
   ]
  },
  {
   "cell_type": "code",
   "execution_count": 69,
   "id": "3bab8532-ead9-4a66-abaa-4b35def1ddee",
   "metadata": {},
   "outputs": [],
   "source": [
    "date = df['data_hora']"
   ]
  },
  {
   "cell_type": "markdown",
   "id": "7db9049f-049d-461f-859e-f3cc6f973578",
   "metadata": {},
   "source": [
    "## Pré-processamento"
   ]
  },
  {
   "cell_type": "code",
   "execution_count": 70,
   "id": "576c1475-b309-4f49-a34b-2b35a9cc5047",
   "metadata": {},
   "outputs": [],
   "source": [
    "for i in range(len(text)):\n",
    "    text[i] = text[i].lower()"
   ]
  },
  {
   "cell_type": "code",
   "execution_count": 71,
   "id": "46decafe-5c86-4cc0-b3fe-581dfc26fbcd",
   "metadata": {},
   "outputs": [],
   "source": [
    "from unidecode import unidecode\n",
    "\n",
    "for i in range(len(text)):\n",
    "    text[i] = unidecode(text[i])"
   ]
  },
  {
   "cell_type": "code",
   "execution_count": 75,
   "id": "b0784904-6dee-4306-b60f-125e87052ffd",
   "metadata": {},
   "outputs": [],
   "source": [
    "for i in range(len(text)):\n",
    "    text[i] = re.sub(r'[^a-zA-Z\\s]', \"\" ,text[i])"
   ]
  },
  {
   "cell_type": "code",
   "execution_count": 76,
   "id": "89c8ad61-6faa-48ee-b9f4-fbcd9fa12224",
   "metadata": {},
   "outputs": [
    {
     "name": "stdout",
     "output_type": "stream",
     "text": [
      "se tem um treinador que sempre foi badalado pela forma como faz seu time jogar  este cara e fernando diniz  e o comandante do fluminense tem a chance de chegar ao apice da carreira neste sabado      a partir das   h  de brasilia   quando decide a copa libertadores contra o boca juniors arg  no maracana  rumo a gloria eterna  e sua gloria pessoal  considerado ha alguns anos um dos melhores   senao o melhor   tecnico do futebol brasileiro  fernando diniz sempre esbarra na desconfianca que o persegue  uma desconfianca  resultadista   afinal  como pode um treinador tao elogiado ter apenas um campeonato carioca        na bagagem  titulos de expressao e diniz  ate entao  pareciam nao combinar   leia mais  certo e que a final da copa libertadores ja vai alcar o tecnico a outro patamar  mesmo sendo interino na selecao brasileira  conquistar o maior torneio de clubes da america do sul tera um valor inestimavel  alem de entrar na galeria da fama do fluminense  o treinador tricolor dara uma resposta aos criticos  diniz pode  enfim  atingir seu ponto maximo  a chance de conquistar a america veio no clube que ja lhe havia aberto as portas em       foi no fluminense a primeira grande chance de diniz como tecnico de elite  naquele ano  futebol vistoso e pouco vitorioso  resultados aquem do esperado  nada de tacas  uma demissao na conta  mas o que esperar do tecnico diferenciado para a grande midia  mas por vezes visto como fracassado pelo grande publico  fernando diniz trabalha bem a parte mental de seus comandados   o que acontecer vai modificar a forma como todos enxergam  o mais importante e como eu me enxergo  nao estou a merce da bola que vai entrar ou nao  se fosse  ja estaria mais ansioso  demorei muito tempo e luto ate hoje para minha vida nao ser determinada por uma bola que entra ou nao   comentou o treinador  psicologo de formacao  fernando diniz teve uma carreira interessante como atacante  passou por gigantes do futebol brasileiro  jogou no proprio fluminense  jogou por flamengo  palmeiras  corinthians  santos e cruzeiro  teve mais destaque em alguns do que em outros  mas foi como treinador que os olhos voltaram para ele  seu comeco foi no modesto votoraty  do interior de sao paulo  ali  na verdade  foi sua primeira conquista  em       sua equipe foi avassaladora na copa paulista e faturou o inedito trofeu  junto com a vaga na copa do brasil do ano seguinte  a campanha em casa foi o grande destaque  dez vitorias e tres empates  na final  um sonoro   a   diante do paulista de jundiai  o treinador levou o votoraty para a segunda fase da competicao nacional  em       a equipe passou por cima do treze pb  mas encontrou logo de cara o gremio e deu adeus ao sonho de surpreender o brasil  depois  rodou por clubes pequenos ate se firmar de vez para o cenario nacional  depois do votoraty  diniz ainda caminhou por paulista  atletico sorocaba sp e botafogo sp  em       ele teve o seu primeiro contato com o clube de osasco  apos uma outra breve passagem pelo parana clube  o treinador retornou em      para fazer historia  a modesta equipe paulista surpreendeu o brasil e chegou ate a final do campeonato paulista  e o caminho do audax de fernando diniz foi dificil  com um time envolvente e com uma campanha historica  a equipe simplesmente atropelou o sao paulo nas quartas de final  por   a    e depois eliminou  dentro de itaquera  o corinthians  naquele time  nomes como sidao  tche tche e ytalo fizeram sucesso em outros clubes  na grande decisao  o osasco conseguiu um empate e teve uma dolorosa derrota por   a   para o santos  estava encerrado o sonho do audax e de diniz  mas a historia estava feita  e o treinador foi apresentado de vez ao futebol brasileiro  no segundo semestre  comandou o oeste na serie b do campeonato brasileiro e evitou o rebaixamento da equipe de itapolis  foi em       no athletico pr  e       no fluminense  que fernando diniz comecou a ser questionado  apesar do bom futebol e de revelar jogadores aos montes  seus times deviam resultado  nos dois casos  o tecnico deixou as respectivas equipes na zona de rebaixamento no campeonato brasileiro  no furacao  inclusive  sua saida deu espaco para tiago nunes  o treinador pegou o trabalho de diniz e conquistou em dois anos a copa sul americana e a copa do brasil   diniz e o cara mais criativo que vi em termos profissionais  intuitivo com uma capacidade unica de cativar as pessoas  consegue engajar  criar aderencia dos jogadores e profissionais a sua volta  tem uma capacidade unica e extraordinaria  infelizmente nao ganhou titulo ainda e isso acaba pesando  merece por toda a trajetoria que tem no futebol e crenca no modelo de futebol que ele aplica  so ele aplica  e um jogo autoral  e dele  nunca vi ele falando que seu jogo e melhor ou pior que os outros   falou tiago nunes  mesmo demitido do fluminense  com a equipe entre as ultimas colocadas do brasileiro  fernando diniz assumiu um sao paulo em crise  no primeiro ano  confirmou a vaga para a copa libertadores de      e teve a maior chance de ser campeao na carreira  ate entao  em       o sao paulo liderou o campeonato brasileiro de ponta a ponta  foi semifinalista da copa do brasil  mas  para muitos  o estigma do treinador em nao conseguir ser campeao tirou o tricolor paulista da rota das conquistas  a equipe acabou entregando o brasileiro  e diniz foi demitido antes mesmo do termino do torneio  na copa do brasil  sua equipe atropelou o flamengo  que era o time sensacao do pais e que acabou campeao brasileiro novamente  mas ficou pelo caminho contra o gremio  depois do novo fracasso  diniz passou por santos e vasco  sem sucesso  foram apenas    vitorias em    jogos pelos dois clubes   mandei uma mensagem para ele  mario   nunca tinha feito isso  sou muito discreto em relacao a isso  mas sempre tive uma relacao muito boa com o mario bittencourt e o paulo angioni  diretor de futebol   e senti no meu coracao que era hora de voltar ao fluminense   contou fernando diniz  e foi assim que comecou o casamento atual  ja vitorioso  desde sua chegada  em abril de       sao    vitorias em     jogos  nesta segunda passagem pelo fluminense  fernando diniz venceu       das partidas que disputou  e os resultados batem a porta  no ano passado  foi semifinalista da copa do brasil e  o colocado no campeonato brasileiro    dias   fluminense  vamostricolores pic twitter com hhmjms coi    fluminense f c    fluminensefc  october           a temporada      comecou com seu primeiro titulo de expressao  o campeonato carioca  com direito a goleada de   a   sobre o arquirrival flamengo na final  agora  chegou a chance de ouro da carreira com esta final de libertadores  nao bastasse isso  esta a frente da selecao brasileira  fernando diniz pode trazer a sonhada taca em     anos da gloriosa historia do fluminense  e tinha que ser com o treinador que mais tem a cara do clube  o proprio treinador aponta a receita do sucesso   trabalhamos um ano e meio juntos para estar aqui  isso tudo nao sera descartado  a seguranca para viver bem e que sou focado no trabalho  e nao apenas no resultado  que tem um componente de incerteza  minha vida e do nosso time nao estao a merce do resultado  estamos preparados de alma  pensamos nessa final desde o ano passado   revelou  esse e fernando diniz  o entao  fracassado  por muitos que pode chegar a gloria eterna em seu tempo  em sua hora    este conteudo foi criado originalmente em itatiaia  versao original\n"
     ]
    }
   ],
   "source": [
    "print(text[0])"
   ]
  },
  {
   "cell_type": "code",
   "execution_count": 77,
   "id": "2534f4b8-ff0a-4351-94a3-66ee72e1ffd3",
   "metadata": {},
   "outputs": [],
   "source": [
    "token_text = []\n",
    "\n",
    "for j in text:\n",
    "    token_text.append(nltk.word_tokenize(j))"
   ]
  },
  {
   "cell_type": "code",
   "execution_count": 78,
   "id": "a6124e77-e0d1-4d1e-b9bf-17f171695772",
   "metadata": {},
   "outputs": [
    {
     "name": "stdout",
     "output_type": "stream",
     "text": [
      "['se', 'tem', 'um', 'treinador', 'que', 'sempre', 'foi', 'badalado', 'pela', 'forma', 'como', 'faz', 'seu', 'time', 'jogar', 'este', 'cara', 'e', 'fernando', 'diniz', 'e', 'o', 'comandante', 'do', 'fluminense', 'tem', 'a', 'chance', 'de', 'chegar', 'ao', 'apice', 'da', 'carreira', 'neste', 'sabado', 'a', 'partir', 'das', 'h', 'de', 'brasilia', 'quando', 'decide', 'a', 'copa', 'libertadores', 'contra', 'o', 'boca', 'juniors', 'arg', 'no', 'maracana', 'rumo', 'a', 'gloria', 'eterna', 'e', 'sua', 'gloria', 'pessoal', 'considerado', 'ha', 'alguns', 'anos', 'um', 'dos', 'melhores', 'senao', 'o', 'melhor', 'tecnico', 'do', 'futebol', 'brasileiro', 'fernando', 'diniz', 'sempre', 'esbarra', 'na', 'desconfianca', 'que', 'o', 'persegue', 'uma', 'desconfianca', 'resultadista', 'afinal', 'como', 'pode', 'um', 'treinador', 'tao', 'elogiado', 'ter', 'apenas', 'um', 'campeonato', 'carioca', 'na', 'bagagem', 'titulos', 'de', 'expressao', 'e', 'diniz', 'ate', 'entao', 'pareciam', 'nao', 'combinar', 'leia', 'mais', 'certo', 'e', 'que', 'a', 'final', 'da', 'copa', 'libertadores', 'ja', 'vai', 'alcar', 'o', 'tecnico', 'a', 'outro', 'patamar', 'mesmo', 'sendo', 'interino', 'na', 'selecao', 'brasileira', 'conquistar', 'o', 'maior', 'torneio', 'de', 'clubes', 'da', 'america', 'do', 'sul', 'tera', 'um', 'valor', 'inestimavel', 'alem', 'de', 'entrar', 'na', 'galeria', 'da', 'fama', 'do', 'fluminense', 'o', 'treinador', 'tricolor', 'dara', 'uma', 'resposta', 'aos', 'criticos', 'diniz', 'pode', 'enfim', 'atingir', 'seu', 'ponto', 'maximo', 'a', 'chance', 'de', 'conquistar', 'a', 'america', 'veio', 'no', 'clube', 'que', 'ja', 'lhe', 'havia', 'aberto', 'as', 'portas', 'em', 'foi', 'no', 'fluminense', 'a', 'primeira', 'grande', 'chance', 'de', 'diniz', 'como', 'tecnico', 'de', 'elite', 'naquele', 'ano', 'futebol', 'vistoso', 'e', 'pouco', 'vitorioso', 'resultados', 'aquem', 'do', 'esperado', 'nada', 'de', 'tacas', 'uma', 'demissao', 'na', 'conta', 'mas', 'o', 'que', 'esperar', 'do', 'tecnico', 'diferenciado', 'para', 'a', 'grande', 'midia', 'mas', 'por', 'vezes', 'visto', 'como', 'fracassado', 'pelo', 'grande', 'publico', 'fernando', 'diniz', 'trabalha', 'bem', 'a', 'parte', 'mental', 'de', 'seus', 'comandados', 'o', 'que', 'acontecer', 'vai', 'modificar', 'a', 'forma', 'como', 'todos', 'enxergam', 'o', 'mais', 'importante', 'e', 'como', 'eu', 'me', 'enxergo', 'nao', 'estou', 'a', 'merce', 'da', 'bola', 'que', 'vai', 'entrar', 'ou', 'nao', 'se', 'fosse', 'ja', 'estaria', 'mais', 'ansioso', 'demorei', 'muito', 'tempo', 'e', 'luto', 'ate', 'hoje', 'para', 'minha', 'vida', 'nao', 'ser', 'determinada', 'por', 'uma', 'bola', 'que', 'entra', 'ou', 'nao', 'comentou', 'o', 'treinador', 'psicologo', 'de', 'formacao', 'fernando', 'diniz', 'teve', 'uma', 'carreira', 'interessante', 'como', 'atacante', 'passou', 'por', 'gigantes', 'do', 'futebol', 'brasileiro', 'jogou', 'no', 'proprio', 'fluminense', 'jogou', 'por', 'flamengo', 'palmeiras', 'corinthians', 'santos', 'e', 'cruzeiro', 'teve', 'mais', 'destaque', 'em', 'alguns', 'do', 'que', 'em', 'outros', 'mas', 'foi', 'como', 'treinador', 'que', 'os', 'olhos', 'voltaram', 'para', 'ele', 'seu', 'comeco', 'foi', 'no', 'modesto', 'votoraty', 'do', 'interior', 'de', 'sao', 'paulo', 'ali', 'na', 'verdade', 'foi', 'sua', 'primeira', 'conquista', 'em', 'sua', 'equipe', 'foi', 'avassaladora', 'na', 'copa', 'paulista', 'e', 'faturou', 'o', 'inedito', 'trofeu', 'junto', 'com', 'a', 'vaga', 'na', 'copa', 'do', 'brasil', 'do', 'ano', 'seguinte', 'a', 'campanha', 'em', 'casa', 'foi', 'o', 'grande', 'destaque', 'dez', 'vitorias', 'e', 'tres', 'empates', 'na', 'final', 'um', 'sonoro', 'a', 'diante', 'do', 'paulista', 'de', 'jundiai', 'o', 'treinador', 'levou', 'o', 'votoraty', 'para', 'a', 'segunda', 'fase', 'da', 'competicao', 'nacional', 'em', 'a', 'equipe', 'passou', 'por', 'cima', 'do', 'treze', 'pb', 'mas', 'encontrou', 'logo', 'de', 'cara', 'o', 'gremio', 'e', 'deu', 'adeus', 'ao', 'sonho', 'de', 'surpreender', 'o', 'brasil', 'depois', 'rodou', 'por', 'clubes', 'pequenos', 'ate', 'se', 'firmar', 'de', 'vez', 'para', 'o', 'cenario', 'nacional', 'depois', 'do', 'votoraty', 'diniz', 'ainda', 'caminhou', 'por', 'paulista', 'atletico', 'sorocaba', 'sp', 'e', 'botafogo', 'sp', 'em', 'ele', 'teve', 'o', 'seu', 'primeiro', 'contato', 'com', 'o', 'clube', 'de', 'osasco', 'apos', 'uma', 'outra', 'breve', 'passagem', 'pelo', 'parana', 'clube', 'o', 'treinador', 'retornou', 'em', 'para', 'fazer', 'historia', 'a', 'modesta', 'equipe', 'paulista', 'surpreendeu', 'o', 'brasil', 'e', 'chegou', 'ate', 'a', 'final', 'do', 'campeonato', 'paulista', 'e', 'o', 'caminho', 'do', 'audax', 'de', 'fernando', 'diniz', 'foi', 'dificil', 'com', 'um', 'time', 'envolvente', 'e', 'com', 'uma', 'campanha', 'historica', 'a', 'equipe', 'simplesmente', 'atropelou', 'o', 'sao', 'paulo', 'nas', 'quartas', 'de', 'final', 'por', 'a', 'e', 'depois', 'eliminou', 'dentro', 'de', 'itaquera', 'o', 'corinthians', 'naquele', 'time', 'nomes', 'como', 'sidao', 'tche', 'tche', 'e', 'ytalo', 'fizeram', 'sucesso', 'em', 'outros', 'clubes', 'na', 'grande', 'decisao', 'o', 'osasco', 'conseguiu', 'um', 'empate', 'e', 'teve', 'uma', 'dolorosa', 'derrota', 'por', 'a', 'para', 'o', 'santos', 'estava', 'encerrado', 'o', 'sonho', 'do', 'audax', 'e', 'de', 'diniz', 'mas', 'a', 'historia', 'estava', 'feita', 'e', 'o', 'treinador', 'foi', 'apresentado', 'de', 'vez', 'ao', 'futebol', 'brasileiro', 'no', 'segundo', 'semestre', 'comandou', 'o', 'oeste', 'na', 'serie', 'b', 'do', 'campeonato', 'brasileiro', 'e', 'evitou', 'o', 'rebaixamento', 'da', 'equipe', 'de', 'itapolis', 'foi', 'em', 'no', 'athletico', 'pr', 'e', 'no', 'fluminense', 'que', 'fernando', 'diniz', 'comecou', 'a', 'ser', 'questionado', 'apesar', 'do', 'bom', 'futebol', 'e', 'de', 'revelar', 'jogadores', 'aos', 'montes', 'seus', 'times', 'deviam', 'resultado', 'nos', 'dois', 'casos', 'o', 'tecnico', 'deixou', 'as', 'respectivas', 'equipes', 'na', 'zona', 'de', 'rebaixamento', 'no', 'campeonato', 'brasileiro', 'no', 'furacao', 'inclusive', 'sua', 'saida', 'deu', 'espaco', 'para', 'tiago', 'nunes', 'o', 'treinador', 'pegou', 'o', 'trabalho', 'de', 'diniz', 'e', 'conquistou', 'em', 'dois', 'anos', 'a', 'copa', 'sul', 'americana', 'e', 'a', 'copa', 'do', 'brasil', 'diniz', 'e', 'o', 'cara', 'mais', 'criativo', 'que', 'vi', 'em', 'termos', 'profissionais', 'intuitivo', 'com', 'uma', 'capacidade', 'unica', 'de', 'cativar', 'as', 'pessoas', 'consegue', 'engajar', 'criar', 'aderencia', 'dos', 'jogadores', 'e', 'profissionais', 'a', 'sua', 'volta', 'tem', 'uma', 'capacidade', 'unica', 'e', 'extraordinaria', 'infelizmente', 'nao', 'ganhou', 'titulo', 'ainda', 'e', 'isso', 'acaba', 'pesando', 'merece', 'por', 'toda', 'a', 'trajetoria', 'que', 'tem', 'no', 'futebol', 'e', 'crenca', 'no', 'modelo', 'de', 'futebol', 'que', 'ele', 'aplica', 'so', 'ele', 'aplica', 'e', 'um', 'jogo', 'autoral', 'e', 'dele', 'nunca', 'vi', 'ele', 'falando', 'que', 'seu', 'jogo', 'e', 'melhor', 'ou', 'pior', 'que', 'os', 'outros', 'falou', 'tiago', 'nunes', 'mesmo', 'demitido', 'do', 'fluminense', 'com', 'a', 'equipe', 'entre', 'as', 'ultimas', 'colocadas', 'do', 'brasileiro', 'fernando', 'diniz', 'assumiu', 'um', 'sao', 'paulo', 'em', 'crise', 'no', 'primeiro', 'ano', 'confirmou', 'a', 'vaga', 'para', 'a', 'copa', 'libertadores', 'de', 'e', 'teve', 'a', 'maior', 'chance', 'de', 'ser', 'campeao', 'na', 'carreira', 'ate', 'entao', 'em', 'o', 'sao', 'paulo', 'liderou', 'o', 'campeonato', 'brasileiro', 'de', 'ponta', 'a', 'ponta', 'foi', 'semifinalista', 'da', 'copa', 'do', 'brasil', 'mas', 'para', 'muitos', 'o', 'estigma', 'do', 'treinador', 'em', 'nao', 'conseguir', 'ser', 'campeao', 'tirou', 'o', 'tricolor', 'paulista', 'da', 'rota', 'das', 'conquistas', 'a', 'equipe', 'acabou', 'entregando', 'o', 'brasileiro', 'e', 'diniz', 'foi', 'demitido', 'antes', 'mesmo', 'do', 'termino', 'do', 'torneio', 'na', 'copa', 'do', 'brasil', 'sua', 'equipe', 'atropelou', 'o', 'flamengo', 'que', 'era', 'o', 'time', 'sensacao', 'do', 'pais', 'e', 'que', 'acabou', 'campeao', 'brasileiro', 'novamente', 'mas', 'ficou', 'pelo', 'caminho', 'contra', 'o', 'gremio', 'depois', 'do', 'novo', 'fracasso', 'diniz', 'passou', 'por', 'santos', 'e', 'vasco', 'sem', 'sucesso', 'foram', 'apenas', 'vitorias', 'em', 'jogos', 'pelos', 'dois', 'clubes', 'mandei', 'uma', 'mensagem', 'para', 'ele', 'mario', 'nunca', 'tinha', 'feito', 'isso', 'sou', 'muito', 'discreto', 'em', 'relacao', 'a', 'isso', 'mas', 'sempre', 'tive', 'uma', 'relacao', 'muito', 'boa', 'com', 'o', 'mario', 'bittencourt', 'e', 'o', 'paulo', 'angioni', 'diretor', 'de', 'futebol', 'e', 'senti', 'no', 'meu', 'coracao', 'que', 'era', 'hora', 'de', 'voltar', 'ao', 'fluminense', 'contou', 'fernando', 'diniz', 'e', 'foi', 'assim', 'que', 'comecou', 'o', 'casamento', 'atual', 'ja', 'vitorioso', 'desde', 'sua', 'chegada', 'em', 'abril', 'de', 'sao', 'vitorias', 'em', 'jogos', 'nesta', 'segunda', 'passagem', 'pelo', 'fluminense', 'fernando', 'diniz', 'venceu', 'das', 'partidas', 'que', 'disputou', 'e', 'os', 'resultados', 'batem', 'a', 'porta', 'no', 'ano', 'passado', 'foi', 'semifinalista', 'da', 'copa', 'do', 'brasil', 'e', 'o', 'colocado', 'no', 'campeonato', 'brasileiro', 'dias', 'fluminense', 'vamostricolores', 'pic', 'twitter', 'com', 'hhmjms', 'coi', 'fluminense', 'f', 'c', 'fluminensefc', 'october', 'a', 'temporada', 'comecou', 'com', 'seu', 'primeiro', 'titulo', 'de', 'expressao', 'o', 'campeonato', 'carioca', 'com', 'direito', 'a', 'goleada', 'de', 'a', 'sobre', 'o', 'arquirrival', 'flamengo', 'na', 'final', 'agora', 'chegou', 'a', 'chance', 'de', 'ouro', 'da', 'carreira', 'com', 'esta', 'final', 'de', 'libertadores', 'nao', 'bastasse', 'isso', 'esta', 'a', 'frente', 'da', 'selecao', 'brasileira', 'fernando', 'diniz', 'pode', 'trazer', 'a', 'sonhada', 'taca', 'em', 'anos', 'da', 'gloriosa', 'historia', 'do', 'fluminense', 'e', 'tinha', 'que', 'ser', 'com', 'o', 'treinador', 'que', 'mais', 'tem', 'a', 'cara', 'do', 'clube', 'o', 'proprio', 'treinador', 'aponta', 'a', 'receita', 'do', 'sucesso', 'trabalhamos', 'um', 'ano', 'e', 'meio', 'juntos', 'para', 'estar', 'aqui', 'isso', 'tudo', 'nao', 'sera', 'descartado', 'a', 'seguranca', 'para', 'viver', 'bem', 'e', 'que', 'sou', 'focado', 'no', 'trabalho', 'e', 'nao', 'apenas', 'no', 'resultado', 'que', 'tem', 'um', 'componente', 'de', 'incerteza', 'minha', 'vida', 'e', 'do', 'nosso', 'time', 'nao', 'estao', 'a', 'merce', 'do', 'resultado', 'estamos', 'preparados', 'de', 'alma', 'pensamos', 'nessa', 'final', 'desde', 'o', 'ano', 'passado', 'revelou', 'esse', 'e', 'fernando', 'diniz', 'o', 'entao', 'fracassado', 'por', 'muitos', 'que', 'pode', 'chegar', 'a', 'gloria', 'eterna', 'em', 'seu', 'tempo', 'em', 'sua', 'hora', 'este', 'conteudo', 'foi', 'criado', 'originalmente', 'em', 'itatiaia', 'versao', 'original']\n"
     ]
    }
   ],
   "source": [
    "print(token_text[0])"
   ]
  },
  {
   "cell_type": "code",
   "execution_count": 79,
   "id": "9e891517-f3dd-491c-a02e-7fe17e0ecff7",
   "metadata": {},
   "outputs": [
    {
     "name": "stderr",
     "output_type": "stream",
     "text": [
      "[nltk_data] Downloading package stopwords to /home/raissa/nltk_data...\n",
      "[nltk_data]   Package stopwords is already up-to-date!\n"
     ]
    },
    {
     "data": {
      "text/plain": [
       "True"
      ]
     },
     "execution_count": 79,
     "metadata": {},
     "output_type": "execute_result"
    }
   ],
   "source": [
    "nltk.download('stopwords')"
   ]
  },
  {
   "cell_type": "code",
   "execution_count": 80,
   "id": "7ce4e6e6-b023-4dd0-b5b3-624c55220bed",
   "metadata": {},
   "outputs": [],
   "source": [
    "from nltk.corpus import stopwords\n",
    "sw = stopwords.words('portuguese')"
   ]
  },
  {
   "cell_type": "code",
   "execution_count": 81,
   "id": "c7a094e5-44b5-4079-bfff-1201a537ded8",
   "metadata": {},
   "outputs": [],
   "source": [
    "for stop in sw:\n",
    "    for text in token_text:\n",
    "        for t in text:\n",
    "            if(t == stop):\n",
    "                text.remove(t)"
   ]
  },
  {
   "cell_type": "code",
   "execution_count": 82,
   "id": "6a9a56b7-e028-43f7-bc0b-d0c6dcc31604",
   "metadata": {},
   "outputs": [
    {
     "name": "stdout",
     "output_type": "stream",
     "text": [
      "['treinador', 'sempre', 'badalado', 'forma', 'faz', 'time', 'jogar', 'cara', 'fernando', 'diniz', 'comandante', 'fluminense', 'chance', 'chegar', 'apice', 'carreira', 'neste', 'sabado', 'partir', 'h', 'brasilia', 'decide', 'copa', 'libertadores', 'contra', 'boca', 'juniors', 'arg', 'maracana', 'rumo', 'gloria', 'eterna', 'gloria', 'pessoal', 'considerado', 'ha', 'alguns', 'anos', 'melhores', 'senao', 'melhor', 'tecnico', 'futebol', 'brasileiro', 'fernando', 'diniz', 'sempre', 'esbarra', 'desconfianca', 'persegue', 'desconfianca', 'resultadista', 'afinal', 'pode', 'treinador', 'tao', 'elogiado', 'ter', 'apenas', 'campeonato', 'carioca', 'bagagem', 'titulos', 'expressao', 'diniz', 'ate', 'entao', 'pareciam', 'nao', 'combinar', 'leia', 'certo', 'final', 'copa', 'libertadores', 'ja', 'vai', 'alcar', 'tecnico', 'outro', 'patamar', 'sendo', 'interino', 'selecao', 'brasileira', 'conquistar', 'maior', 'torneio', 'clubes', 'america', 'sul', 'tera', 'valor', 'inestimavel', 'alem', 'entrar', 'galeria', 'fama', 'fluminense', 'treinador', 'tricolor', 'dara', 'resposta', 'criticos', 'diniz', 'pode', 'enfim', 'atingir', 'ponto', 'maximo', 'chance', 'conquistar', 'america', 'veio', 'clube', 'ja', 'havia', 'aberto', 'portas', 'fluminense', 'primeira', 'grande', 'chance', 'diniz', 'tecnico', 'elite', 'naquele', 'ano', 'futebol', 'vistoso', 'pouco', 'vitorioso', 'resultados', 'aquem', 'esperado', 'nada', 'tacas', 'demissao', 'conta', 'esperar', 'tecnico', 'diferenciado', 'grande', 'midia', 'vezes', 'visto', 'fracassado', 'grande', 'publico', 'fernando', 'diniz', 'trabalha', 'bem', 'parte', 'mental', 'comandados', 'acontecer', 'vai', 'modificar', 'forma', 'todos', 'enxergam', 'importante', 'enxergo', 'nao', 'merce', 'bola', 'vai', 'entrar', 'nao', 'ja', 'estaria', 'ansioso', 'demorei', 'tempo', 'luto', 'ate', 'hoje', 'vida', 'nao', 'determinada', 'bola', 'entra', 'nao', 'comentou', 'treinador', 'psicologo', 'formacao', 'fernando', 'diniz', 'carreira', 'interessante', 'atacante', 'passou', 'gigantes', 'futebol', 'brasileiro', 'jogou', 'proprio', 'fluminense', 'jogou', 'flamengo', 'palmeiras', 'corinthians', 'santos', 'cruzeiro', 'destaque', 'alguns', 'outros', 'treinador', 'olhos', 'voltaram', 'comeco', 'modesto', 'votoraty', 'interior', 'sao', 'paulo', 'ali', 'verdade', 'primeira', 'conquista', 'equipe', 'avassaladora', 'copa', 'paulista', 'faturou', 'inedito', 'trofeu', 'junto', 'vaga', 'copa', 'brasil', 'ano', 'seguinte', 'campanha', 'casa', 'grande', 'destaque', 'dez', 'vitorias', 'tres', 'empates', 'final', 'sonoro', 'diante', 'paulista', 'jundiai', 'treinador', 'levou', 'votoraty', 'segunda', 'fase', 'competicao', 'nacional', 'equipe', 'passou', 'cima', 'treze', 'pb', 'encontrou', 'logo', 'cara', 'gremio', 'deu', 'adeus', 'sonho', 'surpreender', 'brasil', 'rodou', 'clubes', 'pequenos', 'ate', 'firmar', 'vez', 'cenario', 'nacional', 'votoraty', 'diniz', 'ainda', 'caminhou', 'paulista', 'atletico', 'sorocaba', 'sp', 'botafogo', 'sp', 'primeiro', 'contato', 'clube', 'osasco', 'apos', 'outra', 'breve', 'passagem', 'parana', 'clube', 'treinador', 'retornou', 'fazer', 'historia', 'modesta', 'equipe', 'paulista', 'surpreendeu', 'brasil', 'chegou', 'ate', 'final', 'campeonato', 'paulista', 'caminho', 'audax', 'fernando', 'diniz', 'dificil', 'time', 'envolvente', 'campanha', 'historica', 'equipe', 'simplesmente', 'atropelou', 'sao', 'paulo', 'quartas', 'final', 'eliminou', 'dentro', 'itaquera', 'corinthians', 'naquele', 'time', 'nomes', 'sidao', 'tche', 'tche', 'ytalo', 'fizeram', 'sucesso', 'outros', 'clubes', 'grande', 'decisao', 'osasco', 'conseguiu', 'empate', 'dolorosa', 'derrota', 'santos', 'encerrado', 'sonho', 'audax', 'diniz', 'historia', 'feita', 'treinador', 'apresentado', 'vez', 'futebol', 'brasileiro', 'segundo', 'semestre', 'comandou', 'oeste', 'serie', 'b', 'campeonato', 'brasileiro', 'evitou', 'rebaixamento', 'equipe', 'itapolis', 'athletico', 'pr', 'fluminense', 'fernando', 'diniz', 'comecou', 'questionado', 'apesar', 'bom', 'futebol', 'revelar', 'jogadores', 'montes', 'times', 'deviam', 'resultado', 'dois', 'casos', 'tecnico', 'deixou', 'respectivas', 'equipes', 'zona', 'rebaixamento', 'campeonato', 'brasileiro', 'furacao', 'inclusive', 'saida', 'deu', 'espaco', 'tiago', 'nunes', 'treinador', 'pegou', 'trabalho', 'diniz', 'conquistou', 'dois', 'anos', 'copa', 'sul', 'americana', 'copa', 'brasil', 'diniz', 'cara', 'criativo', 'vi', 'termos', 'profissionais', 'intuitivo', 'capacidade', 'unica', 'cativar', 'pessoas', 'consegue', 'engajar', 'criar', 'aderencia', 'jogadores', 'profissionais', 'volta', 'capacidade', 'unica', 'extraordinaria', 'infelizmente', 'nao', 'ganhou', 'titulo', 'ainda', 'acaba', 'pesando', 'merece', 'toda', 'trajetoria', 'futebol', 'crenca', 'modelo', 'futebol', 'aplica', 'so', 'aplica', 'jogo', 'autoral', 'nunca', 'vi', 'falando', 'jogo', 'melhor', 'pior', 'outros', 'falou', 'tiago', 'nunes', 'demitido', 'fluminense', 'equipe', 'ultimas', 'colocadas', 'brasileiro', 'fernando', 'diniz', 'assumiu', 'sao', 'paulo', 'crise', 'primeiro', 'ano', 'confirmou', 'vaga', 'copa', 'libertadores', 'maior', 'chance', 'campeao', 'carreira', 'ate', 'entao', 'sao', 'paulo', 'liderou', 'campeonato', 'brasileiro', 'ponta', 'ponta', 'semifinalista', 'copa', 'brasil', 'muitos', 'estigma', 'treinador', 'nao', 'conseguir', 'campeao', 'tirou', 'tricolor', 'paulista', 'rota', 'conquistas', 'equipe', 'acabou', 'entregando', 'brasileiro', 'diniz', 'demitido', 'antes', 'termino', 'torneio', 'copa', 'brasil', 'equipe', 'atropelou', 'flamengo', 'time', 'sensacao', 'pais', 'acabou', 'campeao', 'brasileiro', 'novamente', 'ficou', 'caminho', 'contra', 'gremio', 'novo', 'fracasso', 'diniz', 'passou', 'santos', 'vasco', 'sucesso', 'apenas', 'vitorias', 'jogos', 'dois', 'clubes', 'mandei', 'mensagem', 'mario', 'nunca', 'feito', 'discreto', 'relacao', 'sempre', 'relacao', 'boa', 'mario', 'bittencourt', 'paulo', 'angioni', 'diretor', 'futebol', 'senti', 'coracao', 'hora', 'voltar', 'fluminense', 'contou', 'fernando', 'diniz', 'assim', 'comecou', 'casamento', 'atual', 'ja', 'vitorioso', 'desde', 'chegada', 'abril', 'sao', 'vitorias', 'jogos', 'nesta', 'segunda', 'passagem', 'fluminense', 'fernando', 'diniz', 'venceu', 'partidas', 'disputou', 'resultados', 'batem', 'porta', 'ano', 'passado', 'semifinalista', 'copa', 'brasil', 'colocado', 'campeonato', 'brasileiro', 'dias', 'fluminense', 'vamostricolores', 'pic', 'twitter', 'hhmjms', 'coi', 'fluminense', 'f', 'c', 'fluminensefc', 'october', 'temporada', 'comecou', 'primeiro', 'titulo', 'expressao', 'campeonato', 'carioca', 'direito', 'goleada', 'sobre', 'arquirrival', 'flamengo', 'final', 'agora', 'chegou', 'chance', 'ouro', 'carreira', 'final', 'libertadores', 'nao', 'bastasse', 'frente', 'selecao', 'brasileira', 'fernando', 'diniz', 'pode', 'trazer', 'sonhada', 'taca', 'anos', 'gloriosa', 'historia', 'fluminense', 'treinador', 'cara', 'clube', 'proprio', 'treinador', 'aponta', 'receita', 'sucesso', 'trabalhamos', 'ano', 'meio', 'juntos', 'aqui', 'tudo', 'nao', 'sera', 'descartado', 'seguranca', 'viver', 'bem', 'focado', 'trabalho', 'nao', 'apenas', 'resultado', 'componente', 'incerteza', 'vida', 'time', 'nao', 'estao', 'merce', 'resultado', 'preparados', 'alma', 'pensamos', 'nessa', 'final', 'desde', 'ano', 'passado', 'revelou', 'fernando', 'diniz', 'entao', 'fracassado', 'muitos', 'pode', 'chegar', 'gloria', 'eterna', 'tempo', 'hora', 'conteudo', 'criado', 'originalmente', 'itatiaia', 'versao', 'original']\n"
     ]
    }
   ],
   "source": [
    "print(token_text[0])"
   ]
  },
  {
   "cell_type": "code",
   "execution_count": null,
   "id": "eca3d304-1860-4d20-8bb7-77c9b94ed1aa",
   "metadata": {},
   "outputs": [],
   "source": []
  }
 ],
 "metadata": {
  "kernelspec": {
   "display_name": "Python 3 (ipykernel)",
   "language": "python",
   "name": "python3"
  },
  "language_info": {
   "codemirror_mode": {
    "name": "ipython",
    "version": 3
   },
   "file_extension": ".py",
   "mimetype": "text/x-python",
   "name": "python",
   "nbconvert_exporter": "python",
   "pygments_lexer": "ipython3",
   "version": "3.11.5"
  }
 },
 "nbformat": 4,
 "nbformat_minor": 5
}
