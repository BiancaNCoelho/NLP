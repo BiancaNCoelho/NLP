{
 "cells": [
  {
   "cell_type": "markdown",
   "id": "2dcc6805-62bb-443d-90da-97a664722ced",
   "metadata": {},
   "source": [
    "# Trabalho 1\n",
    "Matéria: Processamento de Linguagem Natural <br>\n",
    "Dupla/Matrícula: Bianca Nunes Coelho - 15102880, Raíssa Nunes Coelho - 15102887 <br> "
   ]
  },
  {
   "cell_type": "markdown",
   "id": "dad90a93-1f3f-4c3d-9526-319fb5b42742",
   "metadata": {},
   "source": [
    "## Introdução\n",
    "\n",
    "Multi Class Classification <br>"
   ]
  },
  {
   "cell_type": "markdown",
   "id": "988aaa3a-0dd6-49e6-a703-ec5b042048fb",
   "metadata": {},
   "source": [
    "## Bibliotecas\n",
    "Bibliotecas do ptyhon utilizadas neste trabalho estão a seguir."
   ]
  },
  {
   "cell_type": "code",
   "execution_count": 175,
   "id": "a3cd0f70-3ec7-4e09-b942-8a08a73bb744",
   "metadata": {},
   "outputs": [],
   "source": [
    "import pandas as pd\n",
    "import re\n",
    "import nltk\n",
    "import spacy\n",
    "import gensim\n",
    "import matplotlib.pyplot as plt"
   ]
  },
  {
   "cell_type": "markdown",
   "id": "1560868d-ad70-4a86-a2c8-ddc37c631191",
   "metadata": {},
   "source": [
    "## Datasets\n",
    "Datasets utilizados estão definidos a seguir."
   ]
  },
  {
   "cell_type": "code",
   "execution_count": 176,
   "id": "35b67696-aaf3-4ac5-9d2a-ee1772410097",
   "metadata": {},
   "outputs": [],
   "source": [
    "file = \"train-00000-of-00001-ecf072e7202447d8.parquet\"\n",
    "df = pd.read_parquet(file, engine= 'pyarrow')"
   ]
  },
  {
   "cell_type": "code",
   "execution_count": 177,
   "id": "ab167922-da09-4405-bd0a-729b239877dc",
   "metadata": {},
   "outputs": [
    {
     "data": {
      "text/plain": [
       "3877"
      ]
     },
     "execution_count": 177,
     "metadata": {},
     "output_type": "execute_result"
    }
   ],
   "source": [
    "len(df)"
   ]
  },
  {
   "cell_type": "code",
   "execution_count": 178,
   "id": "41b78a0c-a498-46e2-8e7b-84f28daf62ca",
   "metadata": {
    "scrolled": true
   },
   "outputs": [
    {
     "data": {
      "text/html": [
       "<div>\n",
       "<style scoped>\n",
       "    .dataframe tbody tr th:only-of-type {\n",
       "        vertical-align: middle;\n",
       "    }\n",
       "\n",
       "    .dataframe tbody tr th {\n",
       "        vertical-align: top;\n",
       "    }\n",
       "\n",
       "    .dataframe thead th {\n",
       "        text-align: right;\n",
       "    }\n",
       "</style>\n",
       "<table border=\"1\" class=\"dataframe\">\n",
       "  <thead>\n",
       "    <tr style=\"text-align: right;\">\n",
       "      <th></th>\n",
       "      <th>titulo</th>\n",
       "      <th>texto</th>\n",
       "      <th>link</th>\n",
       "      <th>resumo</th>\n",
       "      <th>categoria</th>\n",
       "      <th>data_hora</th>\n",
       "    </tr>\n",
       "  </thead>\n",
       "  <tbody>\n",
       "    <tr>\n",
       "      <th>0</th>\n",
       "      <td>Veja a trajetória de Fernando Diniz, em busca ...</td>\n",
       "      <td>Se tem um treinador que sempre foi badalado pe...</td>\n",
       "      <td>https://www.cnnbrasil.com.br/esportes/veja-a-t...</td>\n",
       "      <td>Técnico tricolor e da Seleção Brasileira tem a...</td>\n",
       "      <td>esportes</td>\n",
       "      <td>2023-11-04 12:26:18</td>\n",
       "    </tr>\n",
       "    <tr>\n",
       "      <th>1</th>\n",
       "      <td>Após tempestade com ventos, São Paulo terá sáb...</td>\n",
       "      <td>Após uma tempestade com ventos de mais de 100 ...</td>\n",
       "      <td>https://www.cnnbrasil.com.br/nacional/apos-tem...</td>\n",
       "      <td>Termômetros devem chegar a 26ºC, esquentando a...</td>\n",
       "      <td>nacional</td>\n",
       "      <td>2023-11-04 12:15:44</td>\n",
       "    </tr>\n",
       "    <tr>\n",
       "      <th>2</th>\n",
       "      <td>Como os aplicativos de relacionamento “arruina...</td>\n",
       "      <td>Jenny Nguyen-Don estava com vontade de comer f...</td>\n",
       "      <td>https://www.cnnbrasil.com.br/tecnologia/como-o...</td>\n",
       "      <td>Pessoas em busca de relacionamentos afirmam qu...</td>\n",
       "      <td>tecnologia</td>\n",
       "      <td>2023-11-04 12:15:07</td>\n",
       "    </tr>\n",
       "    <tr>\n",
       "      <th>3</th>\n",
       "      <td>Fluminense pode ser o 26º clube a levantar a t...</td>\n",
       "      <td>O Fluminense vai em busca do primeiro título d...</td>\n",
       "      <td>https://www.cnnbrasil.com.br/esportes/fluminen...</td>\n",
       "      <td>Em busca do título inédito, o Tricolor carioca...</td>\n",
       "      <td>esportes</td>\n",
       "      <td>2023-11-04 12:05:24</td>\n",
       "    </tr>\n",
       "  </tbody>\n",
       "</table>\n",
       "</div>"
      ],
      "text/plain": [
       "                                              titulo  \\\n",
       "0  Veja a trajetória de Fernando Diniz, em busca ...   \n",
       "1  Após tempestade com ventos, São Paulo terá sáb...   \n",
       "2  Como os aplicativos de relacionamento “arruina...   \n",
       "3  Fluminense pode ser o 26º clube a levantar a t...   \n",
       "\n",
       "                                               texto  \\\n",
       "0  Se tem um treinador que sempre foi badalado pe...   \n",
       "1  Após uma tempestade com ventos de mais de 100 ...   \n",
       "2  Jenny Nguyen-Don estava com vontade de comer f...   \n",
       "3  O Fluminense vai em busca do primeiro título d...   \n",
       "\n",
       "                                                link  \\\n",
       "0  https://www.cnnbrasil.com.br/esportes/veja-a-t...   \n",
       "1  https://www.cnnbrasil.com.br/nacional/apos-tem...   \n",
       "2  https://www.cnnbrasil.com.br/tecnologia/como-o...   \n",
       "3  https://www.cnnbrasil.com.br/esportes/fluminen...   \n",
       "\n",
       "                                              resumo   categoria  \\\n",
       "0  Técnico tricolor e da Seleção Brasileira tem a...    esportes   \n",
       "1  Termômetros devem chegar a 26ºC, esquentando a...    nacional   \n",
       "2  Pessoas em busca de relacionamentos afirmam qu...  tecnologia   \n",
       "3  Em busca do título inédito, o Tricolor carioca...    esportes   \n",
       "\n",
       "             data_hora  \n",
       "0  2023-11-04 12:26:18  \n",
       "1  2023-11-04 12:15:44  \n",
       "2  2023-11-04 12:15:07  \n",
       "3  2023-11-04 12:05:24  "
      ]
     },
     "execution_count": 178,
     "metadata": {},
     "output_type": "execute_result"
    }
   ],
   "source": [
    "df.head(4)"
   ]
  },
  {
   "cell_type": "markdown",
   "id": "8aa6f7f3-edb4-4990-9cca-4b80617f41dd",
   "metadata": {},
   "source": [
    "## Balanceamento"
   ]
  },
  {
   "cell_type": "code",
   "execution_count": 179,
   "id": "3ef5e8fa-9005-40f3-b0fd-2a9d50cb97dd",
   "metadata": {},
   "outputs": [
    {
     "data": {
      "text/plain": [
       "esportes           960\n",
       "nacional           623\n",
       "internacional      618\n",
       "economia           562\n",
       "politica           507\n",
       "entretenimento     450\n",
       "tecnologia          44\n",
       "saude               41\n",
       "noticias            38\n",
       "lifestyle           21\n",
       "branded-content     13\n",
       "Name: categoria, dtype: int64"
      ]
     },
     "execution_count": 179,
     "metadata": {},
     "output_type": "execute_result"
    }
   ],
   "source": [
    "df['categoria'].value_counts()"
   ]
  },
  {
   "cell_type": "code",
   "execution_count": 180,
   "id": "498911e8-906e-41dc-9bdc-039d09b4c4ce",
   "metadata": {},
   "outputs": [
    {
     "data": {
      "text/plain": [
       "<AxesSubplot: >"
      ]
     },
     "execution_count": 180,
     "metadata": {},
     "output_type": "execute_result"
    },
    {
     "data": {
      "image/png": "[encoded data removed]",
      "text/plain": [
       "<Figure size 1000x400 with 1 Axes>"
      ]
     },
     "metadata": {},
     "output_type": "display_data"
    }
   ],
   "source": [
    "plt.figure(figsize=(10,4))\n",
    "df.categoria.value_counts().plot(kind='bar')"
   ]
  },
  {
   "cell_type": "code",
   "execution_count": 181,
   "id": "696e88a5-62a5-46c3-acec-8575da709518",
   "metadata": {},
   "outputs": [],
   "source": [
    "indice_linha_remover = ['tecnologia',  'saude','noticias','lifestyle','branded-content']"
   ]
  },
  {
   "cell_type": "code",
   "execution_count": 182,
   "id": "c971502d-21ba-40dd-8dab-3bd93640fad6",
   "metadata": {},
   "outputs": [],
   "source": [
    "df = df[~df['categoria'].isin(indice_linha_remover)]"
   ]
  },
  {
   "cell_type": "code",
   "execution_count": 183,
   "id": "519d61c7-a98e-4703-a157-455a39e71b7b",
   "metadata": {},
   "outputs": [
    {
     "data": {
      "text/plain": [
       "esportes          960\n",
       "nacional          623\n",
       "internacional     618\n",
       "economia          562\n",
       "politica          507\n",
       "entretenimento    450\n",
       "Name: categoria, dtype: int64"
      ]
     },
     "execution_count": 183,
     "metadata": {},
     "output_type": "execute_result"
    }
   ],
   "source": [
    "df['categoria'].value_counts()"
   ]
  },
  {
   "cell_type": "code",
   "execution_count": 184,
   "id": "8b080baf-1753-4f8c-88ba-ee247c734a79",
   "metadata": {},
   "outputs": [],
   "source": [
    "# Undersampling\n",
    "min = df['categoria'].value_counts().min()\n",
    "\n",
    "amostras = []\n",
    "\n",
    "for i in df['categoria'].value_counts().index:\n",
    "    a = df[df['categoria'] == i].sample(min, replace=False)\n",
    "    amostras.append(a)\n",
    "\n",
    "df_balanceado = pd.concat(amostras)"
   ]
  },
  {
   "cell_type": "code",
   "execution_count": 185,
   "id": "90d0307b-f2bf-4988-aa52-8795343fdfe1",
   "metadata": {},
   "outputs": [
    {
     "data": {
      "text/plain": [
       "esportes          450\n",
       "nacional          450\n",
       "internacional     450\n",
       "economia          450\n",
       "politica          450\n",
       "entretenimento    450\n",
       "Name: categoria, dtype: int64"
      ]
     },
     "execution_count": 185,
     "metadata": {},
     "output_type": "execute_result"
    }
   ],
   "source": [
    "df_balanceado['categoria'].value_counts()"
   ]
  },
  {
   "cell_type": "code",
   "execution_count": 186,
   "id": "892752bf-2247-4e1c-bb90-1c673908ad1c",
   "metadata": {},
   "outputs": [
    {
     "data": {
      "text/html": [
       "<div>\n",
       "<style scoped>\n",
       "    .dataframe tbody tr th:only-of-type {\n",
       "        vertical-align: middle;\n",
       "    }\n",
       "\n",
       "    .dataframe tbody tr th {\n",
       "        vertical-align: top;\n",
       "    }\n",
       "\n",
       "    .dataframe thead th {\n",
       "        text-align: right;\n",
       "    }\n",
       "</style>\n",
       "<table border=\"1\" class=\"dataframe\">\n",
       "  <thead>\n",
       "    <tr style=\"text-align: right;\">\n",
       "      <th></th>\n",
       "      <th>titulo</th>\n",
       "      <th>texto</th>\n",
       "      <th>link</th>\n",
       "      <th>resumo</th>\n",
       "      <th>categoria</th>\n",
       "      <th>data_hora</th>\n",
       "    </tr>\n",
       "  </thead>\n",
       "  <tbody>\n",
       "    <tr>\n",
       "      <th>0</th>\n",
       "      <td>Veja a trajetória de Fernando Diniz, em busca ...</td>\n",
       "      <td>Se tem um treinador que sempre foi badalado pe...</td>\n",
       "      <td>https://www.cnnbrasil.com.br/esportes/veja-a-t...</td>\n",
       "      <td>Técnico tricolor e da Seleção Brasileira tem a...</td>\n",
       "      <td>esportes</td>\n",
       "      <td>2023-11-04 12:26:18</td>\n",
       "    </tr>\n",
       "    <tr>\n",
       "      <th>1</th>\n",
       "      <td>Santos tem chances remotas de jogar a Copa do ...</td>\n",
       "      <td>O Santos ainda tem chances de disputar a Copa ...</td>\n",
       "      <td>https://www.cnnbrasil.com.br/esportes/santos-t...</td>\n",
       "      <td>Peixe precisaria ser o melhor time fora da zon...</td>\n",
       "      <td>esportes</td>\n",
       "      <td>2023-11-16 18:59:30</td>\n",
       "    </tr>\n",
       "    <tr>\n",
       "      <th>2</th>\n",
       "      <td>Flamengo fará jogo no Pará pelo Campeonato Car...</td>\n",
       "      <td>A Secretaria de Esporte e Lazer (Seel) do Pará...</td>\n",
       "      <td>https://www.cnnbrasil.com.br/esportes/flamengo...</td>\n",
       "      <td>Clube vai encarar um rival a ser definido por ...</td>\n",
       "      <td>esportes</td>\n",
       "      <td>2023-11-16 19:09:32</td>\n",
       "    </tr>\n",
       "    <tr>\n",
       "      <th>3</th>\n",
       "      <td>Joel Santana defende Leila e detona Abel Ferre...</td>\n",
       "      <td>Joel Santana, histórico técnico brasileiro, fe...</td>\n",
       "      <td>https://www.cnnbrasil.com.br/esportes/joel-san...</td>\n",
       "      <td>Técnico criticou a postura do português e defe...</td>\n",
       "      <td>esportes</td>\n",
       "      <td>2023-11-08 19:19:26</td>\n",
       "    </tr>\n",
       "    <tr>\n",
       "      <th>4</th>\n",
       "      <td>Após polêmica, Kajuru se desculpa com torcida ...</td>\n",
       "      <td>O senador Jorge Kajuru (PSB-GO) pediu, nesta s...</td>\n",
       "      <td>https://www.cnnbrasil.com.br/esportes/apos-pol...</td>\n",
       "      <td>Senador xingou jogadores depois de vitória sob...</td>\n",
       "      <td>esportes</td>\n",
       "      <td>2023-11-27 19:21:15</td>\n",
       "    </tr>\n",
       "  </tbody>\n",
       "</table>\n",
       "</div>"
      ],
      "text/plain": [
       "                                              titulo  \\\n",
       "0  Veja a trajetória de Fernando Diniz, em busca ...   \n",
       "1  Santos tem chances remotas de jogar a Copa do ...   \n",
       "2  Flamengo fará jogo no Pará pelo Campeonato Car...   \n",
       "3  Joel Santana defende Leila e detona Abel Ferre...   \n",
       "4  Após polêmica, Kajuru se desculpa com torcida ...   \n",
       "\n",
       "                                               texto  \\\n",
       "0  Se tem um treinador que sempre foi badalado pe...   \n",
       "1  O Santos ainda tem chances de disputar a Copa ...   \n",
       "2  A Secretaria de Esporte e Lazer (Seel) do Pará...   \n",
       "3  Joel Santana, histórico técnico brasileiro, fe...   \n",
       "4  O senador Jorge Kajuru (PSB-GO) pediu, nesta s...   \n",
       "\n",
       "                                                link  \\\n",
       "0  https://www.cnnbrasil.com.br/esportes/veja-a-t...   \n",
       "1  https://www.cnnbrasil.com.br/esportes/santos-t...   \n",
       "2  https://www.cnnbrasil.com.br/esportes/flamengo...   \n",
       "3  https://www.cnnbrasil.com.br/esportes/joel-san...   \n",
       "4  https://www.cnnbrasil.com.br/esportes/apos-pol...   \n",
       "\n",
       "                                              resumo categoria  \\\n",
       "0  Técnico tricolor e da Seleção Brasileira tem a...  esportes   \n",
       "1  Peixe precisaria ser o melhor time fora da zon...  esportes   \n",
       "2  Clube vai encarar um rival a ser definido por ...  esportes   \n",
       "3  Técnico criticou a postura do português e defe...  esportes   \n",
       "4  Senador xingou jogadores depois de vitória sob...  esportes   \n",
       "\n",
       "             data_hora  \n",
       "0  2023-11-04 12:26:18  \n",
       "1  2023-11-16 18:59:30  \n",
       "2  2023-11-16 19:09:32  \n",
       "3  2023-11-08 19:19:26  \n",
       "4  2023-11-27 19:21:15  "
      ]
     },
     "execution_count": 186,
     "metadata": {},
     "output_type": "execute_result"
    }
   ],
   "source": [
    "df_balanceado = df_balanceado.reset_index(drop=True)\n",
    "df_balanceado.head(5)"
   ]
  },
  {
   "cell_type": "code",
   "execution_count": 187,
   "id": "adf3e922-5d63-42cc-9a2a-4d6c3214fc62",
   "metadata": {},
   "outputs": [],
   "source": [
    "df_balanceado2 = df_balanceado.copy()\n",
    "df_balanceado3 = df_balanceado.copy()"
   ]
  },
  {
   "cell_type": "code",
   "execution_count": 188,
   "id": "1af4a198-bf97-4adb-a205-5d464decb9bc",
   "metadata": {},
   "outputs": [
    {
     "data": {
      "text/html": [
       "<div>\n",
       "<style scoped>\n",
       "    .dataframe tbody tr th:only-of-type {\n",
       "        vertical-align: middle;\n",
       "    }\n",
       "\n",
       "    .dataframe tbody tr th {\n",
       "        vertical-align: top;\n",
       "    }\n",
       "\n",
       "    .dataframe thead th {\n",
       "        text-align: right;\n",
       "    }\n",
       "</style>\n",
       "<table border=\"1\" class=\"dataframe\">\n",
       "  <thead>\n",
       "    <tr style=\"text-align: right;\">\n",
       "      <th></th>\n",
       "      <th>titulo</th>\n",
       "      <th>texto</th>\n",
       "      <th>link</th>\n",
       "      <th>resumo</th>\n",
       "      <th>categoria</th>\n",
       "      <th>data_hora</th>\n",
       "    </tr>\n",
       "  </thead>\n",
       "  <tbody>\n",
       "    <tr>\n",
       "      <th>0</th>\n",
       "      <td>Veja a trajetória de Fernando Diniz, em busca ...</td>\n",
       "      <td>Se tem um treinador que sempre foi badalado pe...</td>\n",
       "      <td>https://www.cnnbrasil.com.br/esportes/veja-a-t...</td>\n",
       "      <td>Técnico tricolor e da Seleção Brasileira tem a...</td>\n",
       "      <td>esportes</td>\n",
       "      <td>2023-11-04 12:26:18</td>\n",
       "    </tr>\n",
       "    <tr>\n",
       "      <th>1</th>\n",
       "      <td>Santos tem chances remotas de jogar a Copa do ...</td>\n",
       "      <td>O Santos ainda tem chances de disputar a Copa ...</td>\n",
       "      <td>https://www.cnnbrasil.com.br/esportes/santos-t...</td>\n",
       "      <td>Peixe precisaria ser o melhor time fora da zon...</td>\n",
       "      <td>esportes</td>\n",
       "      <td>2023-11-16 18:59:30</td>\n",
       "    </tr>\n",
       "    <tr>\n",
       "      <th>2</th>\n",
       "      <td>Flamengo fará jogo no Pará pelo Campeonato Car...</td>\n",
       "      <td>A Secretaria de Esporte e Lazer (Seel) do Pará...</td>\n",
       "      <td>https://www.cnnbrasil.com.br/esportes/flamengo...</td>\n",
       "      <td>Clube vai encarar um rival a ser definido por ...</td>\n",
       "      <td>esportes</td>\n",
       "      <td>2023-11-16 19:09:32</td>\n",
       "    </tr>\n",
       "    <tr>\n",
       "      <th>3</th>\n",
       "      <td>Joel Santana defende Leila e detona Abel Ferre...</td>\n",
       "      <td>Joel Santana, histórico técnico brasileiro, fe...</td>\n",
       "      <td>https://www.cnnbrasil.com.br/esportes/joel-san...</td>\n",
       "      <td>Técnico criticou a postura do português e defe...</td>\n",
       "      <td>esportes</td>\n",
       "      <td>2023-11-08 19:19:26</td>\n",
       "    </tr>\n",
       "    <tr>\n",
       "      <th>4</th>\n",
       "      <td>Após polêmica, Kajuru se desculpa com torcida ...</td>\n",
       "      <td>O senador Jorge Kajuru (PSB-GO) pediu, nesta s...</td>\n",
       "      <td>https://www.cnnbrasil.com.br/esportes/apos-pol...</td>\n",
       "      <td>Senador xingou jogadores depois de vitória sob...</td>\n",
       "      <td>esportes</td>\n",
       "      <td>2023-11-27 19:21:15</td>\n",
       "    </tr>\n",
       "  </tbody>\n",
       "</table>\n",
       "</div>"
      ],
      "text/plain": [
       "                                              titulo  \\\n",
       "0  Veja a trajetória de Fernando Diniz, em busca ...   \n",
       "1  Santos tem chances remotas de jogar a Copa do ...   \n",
       "2  Flamengo fará jogo no Pará pelo Campeonato Car...   \n",
       "3  Joel Santana defende Leila e detona Abel Ferre...   \n",
       "4  Após polêmica, Kajuru se desculpa com torcida ...   \n",
       "\n",
       "                                               texto  \\\n",
       "0  Se tem um treinador que sempre foi badalado pe...   \n",
       "1  O Santos ainda tem chances de disputar a Copa ...   \n",
       "2  A Secretaria de Esporte e Lazer (Seel) do Pará...   \n",
       "3  Joel Santana, histórico técnico brasileiro, fe...   \n",
       "4  O senador Jorge Kajuru (PSB-GO) pediu, nesta s...   \n",
       "\n",
       "                                                link  \\\n",
       "0  https://www.cnnbrasil.com.br/esportes/veja-a-t...   \n",
       "1  https://www.cnnbrasil.com.br/esportes/santos-t...   \n",
       "2  https://www.cnnbrasil.com.br/esportes/flamengo...   \n",
       "3  https://www.cnnbrasil.com.br/esportes/joel-san...   \n",
       "4  https://www.cnnbrasil.com.br/esportes/apos-pol...   \n",
       "\n",
       "                                              resumo categoria  \\\n",
       "0  Técnico tricolor e da Seleção Brasileira tem a...  esportes   \n",
       "1  Peixe precisaria ser o melhor time fora da zon...  esportes   \n",
       "2  Clube vai encarar um rival a ser definido por ...  esportes   \n",
       "3  Técnico criticou a postura do português e defe...  esportes   \n",
       "4  Senador xingou jogadores depois de vitória sob...  esportes   \n",
       "\n",
       "             data_hora  \n",
       "0  2023-11-04 12:26:18  \n",
       "1  2023-11-16 18:59:30  \n",
       "2  2023-11-16 19:09:32  \n",
       "3  2023-11-08 19:19:26  \n",
       "4  2023-11-27 19:21:15  "
      ]
     },
     "execution_count": 188,
     "metadata": {},
     "output_type": "execute_result"
    }
   ],
   "source": [
    "df_balanceado2.head()"
   ]
  },
  {
   "cell_type": "code",
   "execution_count": 189,
   "id": "17184f95-683d-4dcd-a4e9-b85235ce73c3",
   "metadata": {},
   "outputs": [
    {
     "data": {
      "text/html": [
       "<div>\n",
       "<style scoped>\n",
       "    .dataframe tbody tr th:only-of-type {\n",
       "        vertical-align: middle;\n",
       "    }\n",
       "\n",
       "    .dataframe tbody tr th {\n",
       "        vertical-align: top;\n",
       "    }\n",
       "\n",
       "    .dataframe thead th {\n",
       "        text-align: right;\n",
       "    }\n",
       "</style>\n",
       "<table border=\"1\" class=\"dataframe\">\n",
       "  <thead>\n",
       "    <tr style=\"text-align: right;\">\n",
       "      <th></th>\n",
       "      <th>titulo</th>\n",
       "      <th>texto</th>\n",
       "      <th>link</th>\n",
       "      <th>resumo</th>\n",
       "      <th>categoria</th>\n",
       "      <th>data_hora</th>\n",
       "    </tr>\n",
       "  </thead>\n",
       "  <tbody>\n",
       "    <tr>\n",
       "      <th>0</th>\n",
       "      <td>Veja a trajetória de Fernando Diniz, em busca ...</td>\n",
       "      <td>Se tem um treinador que sempre foi badalado pe...</td>\n",
       "      <td>https://www.cnnbrasil.com.br/esportes/veja-a-t...</td>\n",
       "      <td>Técnico tricolor e da Seleção Brasileira tem a...</td>\n",
       "      <td>esportes</td>\n",
       "      <td>2023-11-04 12:26:18</td>\n",
       "    </tr>\n",
       "    <tr>\n",
       "      <th>1</th>\n",
       "      <td>Santos tem chances remotas de jogar a Copa do ...</td>\n",
       "      <td>O Santos ainda tem chances de disputar a Copa ...</td>\n",
       "      <td>https://www.cnnbrasil.com.br/esportes/santos-t...</td>\n",
       "      <td>Peixe precisaria ser o melhor time fora da zon...</td>\n",
       "      <td>esportes</td>\n",
       "      <td>2023-11-16 18:59:30</td>\n",
       "    </tr>\n",
       "    <tr>\n",
       "      <th>2</th>\n",
       "      <td>Flamengo fará jogo no Pará pelo Campeonato Car...</td>\n",
       "      <td>A Secretaria de Esporte e Lazer (Seel) do Pará...</td>\n",
       "      <td>https://www.cnnbrasil.com.br/esportes/flamengo...</td>\n",
       "      <td>Clube vai encarar um rival a ser definido por ...</td>\n",
       "      <td>esportes</td>\n",
       "      <td>2023-11-16 19:09:32</td>\n",
       "    </tr>\n",
       "    <tr>\n",
       "      <th>3</th>\n",
       "      <td>Joel Santana defende Leila e detona Abel Ferre...</td>\n",
       "      <td>Joel Santana, histórico técnico brasileiro, fe...</td>\n",
       "      <td>https://www.cnnbrasil.com.br/esportes/joel-san...</td>\n",
       "      <td>Técnico criticou a postura do português e defe...</td>\n",
       "      <td>esportes</td>\n",
       "      <td>2023-11-08 19:19:26</td>\n",
       "    </tr>\n",
       "    <tr>\n",
       "      <th>4</th>\n",
       "      <td>Após polêmica, Kajuru se desculpa com torcida ...</td>\n",
       "      <td>O senador Jorge Kajuru (PSB-GO) pediu, nesta s...</td>\n",
       "      <td>https://www.cnnbrasil.com.br/esportes/apos-pol...</td>\n",
       "      <td>Senador xingou jogadores depois de vitória sob...</td>\n",
       "      <td>esportes</td>\n",
       "      <td>2023-11-27 19:21:15</td>\n",
       "    </tr>\n",
       "  </tbody>\n",
       "</table>\n",
       "</div>"
      ],
      "text/plain": [
       "                                              titulo  \\\n",
       "0  Veja a trajetória de Fernando Diniz, em busca ...   \n",
       "1  Santos tem chances remotas de jogar a Copa do ...   \n",
       "2  Flamengo fará jogo no Pará pelo Campeonato Car...   \n",
       "3  Joel Santana defende Leila e detona Abel Ferre...   \n",
       "4  Após polêmica, Kajuru se desculpa com torcida ...   \n",
       "\n",
       "                                               texto  \\\n",
       "0  Se tem um treinador que sempre foi badalado pe...   \n",
       "1  O Santos ainda tem chances de disputar a Copa ...   \n",
       "2  A Secretaria de Esporte e Lazer (Seel) do Pará...   \n",
       "3  Joel Santana, histórico técnico brasileiro, fe...   \n",
       "4  O senador Jorge Kajuru (PSB-GO) pediu, nesta s...   \n",
       "\n",
       "                                                link  \\\n",
       "0  https://www.cnnbrasil.com.br/esportes/veja-a-t...   \n",
       "1  https://www.cnnbrasil.com.br/esportes/santos-t...   \n",
       "2  https://www.cnnbrasil.com.br/esportes/flamengo...   \n",
       "3  https://www.cnnbrasil.com.br/esportes/joel-san...   \n",
       "4  https://www.cnnbrasil.com.br/esportes/apos-pol...   \n",
       "\n",
       "                                              resumo categoria  \\\n",
       "0  Técnico tricolor e da Seleção Brasileira tem a...  esportes   \n",
       "1  Peixe precisaria ser o melhor time fora da zon...  esportes   \n",
       "2  Clube vai encarar um rival a ser definido por ...  esportes   \n",
       "3  Técnico criticou a postura do português e defe...  esportes   \n",
       "4  Senador xingou jogadores depois de vitória sob...  esportes   \n",
       "\n",
       "             data_hora  \n",
       "0  2023-11-04 12:26:18  \n",
       "1  2023-11-16 18:59:30  \n",
       "2  2023-11-16 19:09:32  \n",
       "3  2023-11-08 19:19:26  \n",
       "4  2023-11-27 19:21:15  "
      ]
     },
     "execution_count": 189,
     "metadata": {},
     "output_type": "execute_result"
    }
   ],
   "source": [
    "df_balanceado3.head()"
   ]
  },
  {
   "cell_type": "code",
   "execution_count": 190,
   "id": "2ae37d80-d01e-4fd2-8453-4a89eaa24937",
   "metadata": {},
   "outputs": [
    {
     "data": {
      "text/plain": [
       "2700"
      ]
     },
     "execution_count": 190,
     "metadata": {},
     "output_type": "execute_result"
    }
   ],
   "source": [
    "# pega coluna\n",
    "text = df_balanceado['texto'] # para NLTK\n",
    "text2 = df_balanceado2['texto'] # para spaCy\n",
    "text3 = df_balanceado3['texto'] # para Gensim\n",
    "len(text)"
   ]
  },
  {
   "cell_type": "code",
   "execution_count": 191,
   "id": "5022a379-5739-4952-a864-c866105f76c6",
   "metadata": {},
   "outputs": [
    {
     "data": {
      "text/plain": [
       "'Se tem um treinador que sempre foi badalado pela forma como faz seu time jogar, este cara é Fernando Diniz. E o comandante do Fluminense tem a chance de chegar ao ápice da carreira neste sábado (4), a partir das 17h (de Brasília), quando decide a Copa Libertadores contra o Boca Juniors-ARG, no Maracanã. Rumo à Glória Eterna. E sua glória pessoal. Considerado há alguns anos um dos melhores – senão o melhor – técnico do futebol brasileiro, Fernando Diniz sempre esbarra na desconfiança que o persegue. Uma desconfiança “resultadista”. Afinal, como pode um treinador tão elogiado ter apenas um Campeonato Carioca (2023) na bagagem? Títulos de expressão e Diniz, até então, pareciam não combinar.  Leia mais  Certo é que a final da Copa Libertadores já vai alçar o técnico a outro patamar. Mesmo sendo interino na Seleção Brasileira, conquistar o maior torneio de clubes da América do Sul terá um valor inestimável. Além de entrar na galeria da fama do Fluminense, o treinador tricolor dará uma resposta aos críticos. Diniz pode, enfim, atingir seu ponto máximo. A chance de conquistar a América veio no clube que já lhe havia aberto as portas em 2019. Foi no Fluminense a primeira grande chance de Diniz como técnico de elite. Naquele ano, futebol vistoso e pouco vitorioso. Resultados aquém do esperado. Nada de taças. Uma demissão na conta. Mas o que esperar do técnico diferenciado para a grande mídia, mas por vezes visto como fracassado pelo grande público? Fernando Diniz trabalha bem a parte mental de seus comandados. “O que acontecer vai modificar a forma como todos enxergam. O mais importante é como eu me enxergo. Não estou à mercê da bola que vai entrar ou não. Se fosse, já estaria mais ansioso. Demorei muito tempo e luto até hoje para minha vida não ser determinada por uma bola que entra ou não”, comentou o treinador, psicólogo de formação. Fernando Diniz teve uma carreira interessante como atacante. Passou por gigantes do futebol brasileiro. Jogou no próprio Fluminense. Jogou por Flamengo, Palmeiras, Corinthians, Santos e Cruzeiro. Teve mais destaque em alguns do que em outros. Mas foi como treinador que os olhos voltaram para ele. Seu começo foi no modesto Votoraty, do interior de São Paulo. Ali, na verdade, foi sua primeira conquista. Em 2009, sua equipe foi avassaladora na Copa Paulista e faturou o inédito troféu, junto com a vaga na Copa do Brasil do ano seguinte. A campanha em casa foi o grande destaque: dez vitórias e três empates. Na final, um sonoro 5 a 1 diante do Paulista de Jundiaí. O treinador levou o Votoraty para a segunda fase da competição nacional, em 2010. A equipe passou por cima do Treze-PB, mas encontrou logo de cara o Grêmio e deu adeus ao sonho de surpreender o Brasil. Depois, rodou por clubes pequenos até se firmar de vez para o cenário nacional. Depois do Votoraty, Diniz ainda caminhou por Paulista, Atlético Sorocaba-SP e Botafogo-SP. Em 2013, ele teve o seu primeiro contato com o clube de Osasco. Após uma outra breve passagem pelo Paraná Clube, o treinador retornou em 2016 para fazer história. A modesta equipe paulista surpreendeu o Brasil e chegou até a final do Campeonato Paulista. E o caminho do Audax de Fernando Diniz foi difícil. Com um time envolvente e com uma campanha histórica, a equipe simplesmente atropelou o São Paulo nas quartas de final, por 4 a 1, e depois eliminou, dentro de Itaquera, o Corinthians. Naquele time, nomes como Sidão, Tchê Tchê e Ytalo fizeram sucesso em outros clubes. Na grande decisão, o Osasco conseguiu um empate e teve uma dolorosa derrota por 1 a 0 para o Santos. Estava encerrado o sonho do Audax e de Diniz. Mas a história estava feita, e o treinador foi apresentado de vez ao futebol brasileiro. No segundo semestre, comandou o Oeste na Série B do Campeonato Brasileiro e evitou o rebaixamento da equipe de Itápolis. Foi em 2018, no Athletico-PR, e 2019, no Fluminense, que Fernando Diniz começou a ser questionado. Apesar do bom futebol e de revelar jogadores aos montes, seus times deviam resultado. Nos dois casos, o técnico deixou as respectivas equipes na zona de rebaixamento no Campeonato Brasileiro. No Furacão, inclusive, sua saída deu espaço para Tiago Nunes. O treinador pegou o trabalho de Diniz e conquistou em dois anos a Copa Sul-Americana e a Copa do Brasil. “Diniz é o cara mais criativo que vi em termos profissionais. Intuitivo com uma capacidade única de cativar as pessoas. Consegue engajar, criar aderência dos jogadores e profissionais à sua volta. Tem uma capacidade única e extraordinária. Infelizmente não ganhou título ainda e isso acaba pesando. Merece por toda a trajetória que tem no futebol e crença no modelo de futebol que ele aplica. Só ele aplica. É um jogo autoral, é dele. Nunca vi ele falando que seu jogo é melhor ou pior que os outros”, falou Tiago Nunes. Mesmo demitido do Fluminense, com a equipe entre as últimas colocadas do Brasileiro, Fernando Diniz assumiu um São Paulo em crise. No primeiro ano, confirmou a vaga para a Copa Libertadores de 2020 e teve a maior chance de ser campeão na carreira, até então. Em 2020, o São Paulo liderou o Campeonato Brasileiro de ponta a ponta. Foi semifinalista da Copa do Brasil. Mas, para muitos, o estigma do treinador em não conseguir ser campeão tirou o Tricolor Paulista da rota das conquistas. A equipe acabou entregando o Brasileiro, e Diniz foi demitido antes mesmo do término do torneio. Na Copa do Brasil, sua equipe atropelou o Flamengo, que era o time-sensação do país e que acabou campeão brasileiro novamente, mas ficou pelo caminho contra o Grêmio. Depois do novo fracasso, Diniz passou por Santos e Vasco, sem sucesso. Foram apenas 14 vitórias em 39 jogos pelos dois clubes. “Mandei uma mensagem para ele (Mário), nunca tinha feito isso. Sou muito discreto em relação a isso. Mas sempre tive uma relação muito boa com o Mário Bittencourt e o Paulo Angioni (diretor de futebol). E senti no meu coração que era hora de voltar ao Fluminense”, contou Fernando Diniz. E foi assim que começou o casamento atual, já vitorioso. Desde sua chegada, em abril de 2022, são 58 vitórias em 105 jogos. Nesta segunda passagem pelo Fluminense, Fernando Diniz venceu 55,5% das partidas que disputou. E os resultados batem à porta. No ano passado, foi semifinalista da Copa do Brasil e 3º colocado no Campeonato Brasileiro. 4️⃣ dias. #Fluminense #VamosTricolores pic.twitter.com/HHMjmS8coi — Fluminense F.C. (@FluminenseFC) October 31, 2023  A temporada 2023 começou com seu primeiro título de expressão: o Campeonato Carioca, com direito a goleada de 4 a 1 sobre o arquirrival Flamengo na final. Agora, chegou a chance de ouro da carreira com esta final de Libertadores. Não bastasse isso, está à frente da Seleção Brasileira. Fernando Diniz pode trazer a sonhada taça em 121 anos da gloriosa história do Fluminense. E tinha que ser com o treinador que mais tem a cara do clube. O próprio treinador aponta a receita do sucesso. “Trabalhamos um ano e meio juntos para estar aqui. Isso tudo não será descartado. A segurança para viver bem é que sou focado no trabalho, e não apenas no resultado, que tem um componente de incerteza. Minha vida e do nosso time não estão à mercê do resultado. Estamos preparados de alma, pensamos nessa final desde o ano passado”, revelou. Esse é Fernando Diniz. O então ‘fracassado’ por muitos que pode chegar à Glória Eterna em seu tempo, em sua hora. \\xa0 Este conteúdo foi criado originalmente em Itatiaia. versão original'"
      ]
     },
     "execution_count": 191,
     "metadata": {},
     "output_type": "execute_result"
    }
   ],
   "source": [
    "text[0]"
   ]
  },
  {
   "cell_type": "code",
   "execution_count": 192,
   "id": "5d4514e9-6613-4ea6-8788-3c062d7017f7",
   "metadata": {},
   "outputs": [],
   "source": [
    "categorias = ['esportes','nacional', 'internacional', 'economia', 'politica', 'entretenimento']"
   ]
  },
  {
   "cell_type": "markdown",
   "id": "7db9049f-049d-461f-859e-f3cc6f973578",
   "metadata": {},
   "source": [
    "## Pré-processamento"
   ]
  },
  {
   "cell_type": "markdown",
   "id": "02977b39-1e4d-4f7e-92b8-06bebd2112c8",
   "metadata": {},
   "source": [
    "### NLTK"
   ]
  },
  {
   "cell_type": "code",
   "execution_count": 193,
   "id": "576c1475-b309-4f49-a34b-2b35a9cc5047",
   "metadata": {},
   "outputs": [],
   "source": [
    "for i in range(len(text)):\n",
    "    text[i] = text[i].lower()"
   ]
  },
  {
   "cell_type": "code",
   "execution_count": 194,
   "id": "46decafe-5c86-4cc0-b3fe-581dfc26fbcd",
   "metadata": {},
   "outputs": [],
   "source": [
    "from unidecode import unidecode\n",
    "\n",
    "for i in range(len(text)):\n",
    "    text[i] = unidecode(text[i])"
   ]
  },
  {
   "cell_type": "code",
   "execution_count": 195,
   "id": "b0784904-6dee-4306-b60f-125e87052ffd",
   "metadata": {},
   "outputs": [],
   "source": [
    "for i in range(len(text)):\n",
    "    text[i] = re.sub(r'[^a-zA-Z\\s]', \"\" ,text[i])"
   ]
  },
  {
   "cell_type": "code",
   "execution_count": 196,
   "id": "89c8ad61-6faa-48ee-b9f4-fbcd9fa12224",
   "metadata": {},
   "outputs": [
    {
     "name": "stdout",
     "output_type": "stream",
     "text": [
      "se tem um treinador que sempre foi badalado pela forma como faz seu time jogar este cara e fernando diniz e o comandante do fluminense tem a chance de chegar ao apice da carreira neste sabado  a partir das h de brasilia quando decide a copa libertadores contra o boca juniorsarg no maracana rumo a gloria eterna e sua gloria pessoal considerado ha alguns anos um dos melhores  senao o melhor  tecnico do futebol brasileiro fernando diniz sempre esbarra na desconfianca que o persegue uma desconfianca resultadista afinal como pode um treinador tao elogiado ter apenas um campeonato carioca  na bagagem titulos de expressao e diniz ate entao pareciam nao combinar  leia mais  certo e que a final da copa libertadores ja vai alcar o tecnico a outro patamar mesmo sendo interino na selecao brasileira conquistar o maior torneio de clubes da america do sul tera um valor inestimavel alem de entrar na galeria da fama do fluminense o treinador tricolor dara uma resposta aos criticos diniz pode enfim atingir seu ponto maximo a chance de conquistar a america veio no clube que ja lhe havia aberto as portas em  foi no fluminense a primeira grande chance de diniz como tecnico de elite naquele ano futebol vistoso e pouco vitorioso resultados aquem do esperado nada de tacas uma demissao na conta mas o que esperar do tecnico diferenciado para a grande midia mas por vezes visto como fracassado pelo grande publico fernando diniz trabalha bem a parte mental de seus comandados o que acontecer vai modificar a forma como todos enxergam o mais importante e como eu me enxergo nao estou a merce da bola que vai entrar ou nao se fosse ja estaria mais ansioso demorei muito tempo e luto ate hoje para minha vida nao ser determinada por uma bola que entra ou nao comentou o treinador psicologo de formacao fernando diniz teve uma carreira interessante como atacante passou por gigantes do futebol brasileiro jogou no proprio fluminense jogou por flamengo palmeiras corinthians santos e cruzeiro teve mais destaque em alguns do que em outros mas foi como treinador que os olhos voltaram para ele seu comeco foi no modesto votoraty do interior de sao paulo ali na verdade foi sua primeira conquista em  sua equipe foi avassaladora na copa paulista e faturou o inedito trofeu junto com a vaga na copa do brasil do ano seguinte a campanha em casa foi o grande destaque dez vitorias e tres empates na final um sonoro  a  diante do paulista de jundiai o treinador levou o votoraty para a segunda fase da competicao nacional em  a equipe passou por cima do trezepb mas encontrou logo de cara o gremio e deu adeus ao sonho de surpreender o brasil depois rodou por clubes pequenos ate se firmar de vez para o cenario nacional depois do votoraty diniz ainda caminhou por paulista atletico sorocabasp e botafogosp em  ele teve o seu primeiro contato com o clube de osasco apos uma outra breve passagem pelo parana clube o treinador retornou em  para fazer historia a modesta equipe paulista surpreendeu o brasil e chegou ate a final do campeonato paulista e o caminho do audax de fernando diniz foi dificil com um time envolvente e com uma campanha historica a equipe simplesmente atropelou o sao paulo nas quartas de final por  a  e depois eliminou dentro de itaquera o corinthians naquele time nomes como sidao tche tche e ytalo fizeram sucesso em outros clubes na grande decisao o osasco conseguiu um empate e teve uma dolorosa derrota por  a  para o santos estava encerrado o sonho do audax e de diniz mas a historia estava feita e o treinador foi apresentado de vez ao futebol brasileiro no segundo semestre comandou o oeste na serie b do campeonato brasileiro e evitou o rebaixamento da equipe de itapolis foi em  no athleticopr e  no fluminense que fernando diniz comecou a ser questionado apesar do bom futebol e de revelar jogadores aos montes seus times deviam resultado nos dois casos o tecnico deixou as respectivas equipes na zona de rebaixamento no campeonato brasileiro no furacao inclusive sua saida deu espaco para tiago nunes o treinador pegou o trabalho de diniz e conquistou em dois anos a copa sulamericana e a copa do brasil diniz e o cara mais criativo que vi em termos profissionais intuitivo com uma capacidade unica de cativar as pessoas consegue engajar criar aderencia dos jogadores e profissionais a sua volta tem uma capacidade unica e extraordinaria infelizmente nao ganhou titulo ainda e isso acaba pesando merece por toda a trajetoria que tem no futebol e crenca no modelo de futebol que ele aplica so ele aplica e um jogo autoral e dele nunca vi ele falando que seu jogo e melhor ou pior que os outros falou tiago nunes mesmo demitido do fluminense com a equipe entre as ultimas colocadas do brasileiro fernando diniz assumiu um sao paulo em crise no primeiro ano confirmou a vaga para a copa libertadores de  e teve a maior chance de ser campeao na carreira ate entao em  o sao paulo liderou o campeonato brasileiro de ponta a ponta foi semifinalista da copa do brasil mas para muitos o estigma do treinador em nao conseguir ser campeao tirou o tricolor paulista da rota das conquistas a equipe acabou entregando o brasileiro e diniz foi demitido antes mesmo do termino do torneio na copa do brasil sua equipe atropelou o flamengo que era o timesensacao do pais e que acabou campeao brasileiro novamente mas ficou pelo caminho contra o gremio depois do novo fracasso diniz passou por santos e vasco sem sucesso foram apenas  vitorias em  jogos pelos dois clubes mandei uma mensagem para ele mario nunca tinha feito isso sou muito discreto em relacao a isso mas sempre tive uma relacao muito boa com o mario bittencourt e o paulo angioni diretor de futebol e senti no meu coracao que era hora de voltar ao fluminense contou fernando diniz e foi assim que comecou o casamento atual ja vitorioso desde sua chegada em abril de  sao  vitorias em  jogos nesta segunda passagem pelo fluminense fernando diniz venceu  das partidas que disputou e os resultados batem a porta no ano passado foi semifinalista da copa do brasil e o colocado no campeonato brasileiro  dias fluminense vamostricolores pictwittercomhhmjmscoi  fluminense fc fluminensefc october    a temporada  comecou com seu primeiro titulo de expressao o campeonato carioca com direito a goleada de  a  sobre o arquirrival flamengo na final agora chegou a chance de ouro da carreira com esta final de libertadores nao bastasse isso esta a frente da selecao brasileira fernando diniz pode trazer a sonhada taca em  anos da gloriosa historia do fluminense e tinha que ser com o treinador que mais tem a cara do clube o proprio treinador aponta a receita do sucesso trabalhamos um ano e meio juntos para estar aqui isso tudo nao sera descartado a seguranca para viver bem e que sou focado no trabalho e nao apenas no resultado que tem um componente de incerteza minha vida e do nosso time nao estao a merce do resultado estamos preparados de alma pensamos nessa final desde o ano passado revelou esse e fernando diniz o entao fracassado por muitos que pode chegar a gloria eterna em seu tempo em sua hora   este conteudo foi criado originalmente em itatiaia versao original\n"
     ]
    }
   ],
   "source": [
    "print(text[0])"
   ]
  },
  {
   "cell_type": "code",
   "execution_count": 197,
   "id": "2534f4b8-ff0a-4351-94a3-66ee72e1ffd3",
   "metadata": {},
   "outputs": [],
   "source": [
    "token_text = []\n",
    "\n",
    "for j in text:\n",
    "    token_text.append(nltk.word_tokenize(j))"
   ]
  },
  {
   "cell_type": "code",
   "execution_count": 198,
   "id": "a6124e77-e0d1-4d1e-b9bf-17f171695772",
   "metadata": {},
   "outputs": [
    {
     "name": "stdout",
     "output_type": "stream",
     "text": [
      "['se', 'tem', 'um', 'treinador', 'que', 'sempre', 'foi', 'badalado', 'pela', 'forma', 'como', 'faz', 'seu', 'time', 'jogar', 'este', 'cara', 'e', 'fernando', 'diniz', 'e', 'o', 'comandante', 'do', 'fluminense', 'tem', 'a', 'chance', 'de', 'chegar', 'ao', 'apice', 'da', 'carreira', 'neste', 'sabado', 'a', 'partir', 'das', 'h', 'de', 'brasilia', 'quando', 'decide', 'a', 'copa', 'libertadores', 'contra', 'o', 'boca', 'juniorsarg', 'no', 'maracana', 'rumo', 'a', 'gloria', 'eterna', 'e', 'sua', 'gloria', 'pessoal', 'considerado', 'ha', 'alguns', 'anos', 'um', 'dos', 'melhores', 'senao', 'o', 'melhor', 'tecnico', 'do', 'futebol', 'brasileiro', 'fernando', 'diniz', 'sempre', 'esbarra', 'na', 'desconfianca', 'que', 'o', 'persegue', 'uma', 'desconfianca', 'resultadista', 'afinal', 'como', 'pode', 'um', 'treinador', 'tao', 'elogiado', 'ter', 'apenas', 'um', 'campeonato', 'carioca', 'na', 'bagagem', 'titulos', 'de', 'expressao', 'e', 'diniz', 'ate', 'entao', 'pareciam', 'nao', 'combinar', 'leia', 'mais', 'certo', 'e', 'que', 'a', 'final', 'da', 'copa', 'libertadores', 'ja', 'vai', 'alcar', 'o', 'tecnico', 'a', 'outro', 'patamar', 'mesmo', 'sendo', 'interino', 'na', 'selecao', 'brasileira', 'conquistar', 'o', 'maior', 'torneio', 'de', 'clubes', 'da', 'america', 'do', 'sul', 'tera', 'um', 'valor', 'inestimavel', 'alem', 'de', 'entrar', 'na', 'galeria', 'da', 'fama', 'do', 'fluminense', 'o', 'treinador', 'tricolor', 'dara', 'uma', 'resposta', 'aos', 'criticos', 'diniz', 'pode', 'enfim', 'atingir', 'seu', 'ponto', 'maximo', 'a', 'chance', 'de', 'conquistar', 'a', 'america', 'veio', 'no', 'clube', 'que', 'ja', 'lhe', 'havia', 'aberto', 'as', 'portas', 'em', 'foi', 'no', 'fluminense', 'a', 'primeira', 'grande', 'chance', 'de', 'diniz', 'como', 'tecnico', 'de', 'elite', 'naquele', 'ano', 'futebol', 'vistoso', 'e', 'pouco', 'vitorioso', 'resultados', 'aquem', 'do', 'esperado', 'nada', 'de', 'tacas', 'uma', 'demissao', 'na', 'conta', 'mas', 'o', 'que', 'esperar', 'do', 'tecnico', 'diferenciado', 'para', 'a', 'grande', 'midia', 'mas', 'por', 'vezes', 'visto', 'como', 'fracassado', 'pelo', 'grande', 'publico', 'fernando', 'diniz', 'trabalha', 'bem', 'a', 'parte', 'mental', 'de', 'seus', 'comandados', 'o', 'que', 'acontecer', 'vai', 'modificar', 'a', 'forma', 'como', 'todos', 'enxergam', 'o', 'mais', 'importante', 'e', 'como', 'eu', 'me', 'enxergo', 'nao', 'estou', 'a', 'merce', 'da', 'bola', 'que', 'vai', 'entrar', 'ou', 'nao', 'se', 'fosse', 'ja', 'estaria', 'mais', 'ansioso', 'demorei', 'muito', 'tempo', 'e', 'luto', 'ate', 'hoje', 'para', 'minha', 'vida', 'nao', 'ser', 'determinada', 'por', 'uma', 'bola', 'que', 'entra', 'ou', 'nao', 'comentou', 'o', 'treinador', 'psicologo', 'de', 'formacao', 'fernando', 'diniz', 'teve', 'uma', 'carreira', 'interessante', 'como', 'atacante', 'passou', 'por', 'gigantes', 'do', 'futebol', 'brasileiro', 'jogou', 'no', 'proprio', 'fluminense', 'jogou', 'por', 'flamengo', 'palmeiras', 'corinthians', 'santos', 'e', 'cruzeiro', 'teve', 'mais', 'destaque', 'em', 'alguns', 'do', 'que', 'em', 'outros', 'mas', 'foi', 'como', 'treinador', 'que', 'os', 'olhos', 'voltaram', 'para', 'ele', 'seu', 'comeco', 'foi', 'no', 'modesto', 'votoraty', 'do', 'interior', 'de', 'sao', 'paulo', 'ali', 'na', 'verdade', 'foi', 'sua', 'primeira', 'conquista', 'em', 'sua', 'equipe', 'foi', 'avassaladora', 'na', 'copa', 'paulista', 'e', 'faturou', 'o', 'inedito', 'trofeu', 'junto', 'com', 'a', 'vaga', 'na', 'copa', 'do', 'brasil', 'do', 'ano', 'seguinte', 'a', 'campanha', 'em', 'casa', 'foi', 'o', 'grande', 'destaque', 'dez', 'vitorias', 'e', 'tres', 'empates', 'na', 'final', 'um', 'sonoro', 'a', 'diante', 'do', 'paulista', 'de', 'jundiai', 'o', 'treinador', 'levou', 'o', 'votoraty', 'para', 'a', 'segunda', 'fase', 'da', 'competicao', 'nacional', 'em', 'a', 'equipe', 'passou', 'por', 'cima', 'do', 'trezepb', 'mas', 'encontrou', 'logo', 'de', 'cara', 'o', 'gremio', 'e', 'deu', 'adeus', 'ao', 'sonho', 'de', 'surpreender', 'o', 'brasil', 'depois', 'rodou', 'por', 'clubes', 'pequenos', 'ate', 'se', 'firmar', 'de', 'vez', 'para', 'o', 'cenario', 'nacional', 'depois', 'do', 'votoraty', 'diniz', 'ainda', 'caminhou', 'por', 'paulista', 'atletico', 'sorocabasp', 'e', 'botafogosp', 'em', 'ele', 'teve', 'o', 'seu', 'primeiro', 'contato', 'com', 'o', 'clube', 'de', 'osasco', 'apos', 'uma', 'outra', 'breve', 'passagem', 'pelo', 'parana', 'clube', 'o', 'treinador', 'retornou', 'em', 'para', 'fazer', 'historia', 'a', 'modesta', 'equipe', 'paulista', 'surpreendeu', 'o', 'brasil', 'e', 'chegou', 'ate', 'a', 'final', 'do', 'campeonato', 'paulista', 'e', 'o', 'caminho', 'do', 'audax', 'de', 'fernando', 'diniz', 'foi', 'dificil', 'com', 'um', 'time', 'envolvente', 'e', 'com', 'uma', 'campanha', 'historica', 'a', 'equipe', 'simplesmente', 'atropelou', 'o', 'sao', 'paulo', 'nas', 'quartas', 'de', 'final', 'por', 'a', 'e', 'depois', 'eliminou', 'dentro', 'de', 'itaquera', 'o', 'corinthians', 'naquele', 'time', 'nomes', 'como', 'sidao', 'tche', 'tche', 'e', 'ytalo', 'fizeram', 'sucesso', 'em', 'outros', 'clubes', 'na', 'grande', 'decisao', 'o', 'osasco', 'conseguiu', 'um', 'empate', 'e', 'teve', 'uma', 'dolorosa', 'derrota', 'por', 'a', 'para', 'o', 'santos', 'estava', 'encerrado', 'o', 'sonho', 'do', 'audax', 'e', 'de', 'diniz', 'mas', 'a', 'historia', 'estava', 'feita', 'e', 'o', 'treinador', 'foi', 'apresentado', 'de', 'vez', 'ao', 'futebol', 'brasileiro', 'no', 'segundo', 'semestre', 'comandou', 'o', 'oeste', 'na', 'serie', 'b', 'do', 'campeonato', 'brasileiro', 'e', 'evitou', 'o', 'rebaixamento', 'da', 'equipe', 'de', 'itapolis', 'foi', 'em', 'no', 'athleticopr', 'e', 'no', 'fluminense', 'que', 'fernando', 'diniz', 'comecou', 'a', 'ser', 'questionado', 'apesar', 'do', 'bom', 'futebol', 'e', 'de', 'revelar', 'jogadores', 'aos', 'montes', 'seus', 'times', 'deviam', 'resultado', 'nos', 'dois', 'casos', 'o', 'tecnico', 'deixou', 'as', 'respectivas', 'equipes', 'na', 'zona', 'de', 'rebaixamento', 'no', 'campeonato', 'brasileiro', 'no', 'furacao', 'inclusive', 'sua', 'saida', 'deu', 'espaco', 'para', 'tiago', 'nunes', 'o', 'treinador', 'pegou', 'o', 'trabalho', 'de', 'diniz', 'e', 'conquistou', 'em', 'dois', 'anos', 'a', 'copa', 'sulamericana', 'e', 'a', 'copa', 'do', 'brasil', 'diniz', 'e', 'o', 'cara', 'mais', 'criativo', 'que', 'vi', 'em', 'termos', 'profissionais', 'intuitivo', 'com', 'uma', 'capacidade', 'unica', 'de', 'cativar', 'as', 'pessoas', 'consegue', 'engajar', 'criar', 'aderencia', 'dos', 'jogadores', 'e', 'profissionais', 'a', 'sua', 'volta', 'tem', 'uma', 'capacidade', 'unica', 'e', 'extraordinaria', 'infelizmente', 'nao', 'ganhou', 'titulo', 'ainda', 'e', 'isso', 'acaba', 'pesando', 'merece', 'por', 'toda', 'a', 'trajetoria', 'que', 'tem', 'no', 'futebol', 'e', 'crenca', 'no', 'modelo', 'de', 'futebol', 'que', 'ele', 'aplica', 'so', 'ele', 'aplica', 'e', 'um', 'jogo', 'autoral', 'e', 'dele', 'nunca', 'vi', 'ele', 'falando', 'que', 'seu', 'jogo', 'e', 'melhor', 'ou', 'pior', 'que', 'os', 'outros', 'falou', 'tiago', 'nunes', 'mesmo', 'demitido', 'do', 'fluminense', 'com', 'a', 'equipe', 'entre', 'as', 'ultimas', 'colocadas', 'do', 'brasileiro', 'fernando', 'diniz', 'assumiu', 'um', 'sao', 'paulo', 'em', 'crise', 'no', 'primeiro', 'ano', 'confirmou', 'a', 'vaga', 'para', 'a', 'copa', 'libertadores', 'de', 'e', 'teve', 'a', 'maior', 'chance', 'de', 'ser', 'campeao', 'na', 'carreira', 'ate', 'entao', 'em', 'o', 'sao', 'paulo', 'liderou', 'o', 'campeonato', 'brasileiro', 'de', 'ponta', 'a', 'ponta', 'foi', 'semifinalista', 'da', 'copa', 'do', 'brasil', 'mas', 'para', 'muitos', 'o', 'estigma', 'do', 'treinador', 'em', 'nao', 'conseguir', 'ser', 'campeao', 'tirou', 'o', 'tricolor', 'paulista', 'da', 'rota', 'das', 'conquistas', 'a', 'equipe', 'acabou', 'entregando', 'o', 'brasileiro', 'e', 'diniz', 'foi', 'demitido', 'antes', 'mesmo', 'do', 'termino', 'do', 'torneio', 'na', 'copa', 'do', 'brasil', 'sua', 'equipe', 'atropelou', 'o', 'flamengo', 'que', 'era', 'o', 'timesensacao', 'do', 'pais', 'e', 'que', 'acabou', 'campeao', 'brasileiro', 'novamente', 'mas', 'ficou', 'pelo', 'caminho', 'contra', 'o', 'gremio', 'depois', 'do', 'novo', 'fracasso', 'diniz', 'passou', 'por', 'santos', 'e', 'vasco', 'sem', 'sucesso', 'foram', 'apenas', 'vitorias', 'em', 'jogos', 'pelos', 'dois', 'clubes', 'mandei', 'uma', 'mensagem', 'para', 'ele', 'mario', 'nunca', 'tinha', 'feito', 'isso', 'sou', 'muito', 'discreto', 'em', 'relacao', 'a', 'isso', 'mas', 'sempre', 'tive', 'uma', 'relacao', 'muito', 'boa', 'com', 'o', 'mario', 'bittencourt', 'e', 'o', 'paulo', 'angioni', 'diretor', 'de', 'futebol', 'e', 'senti', 'no', 'meu', 'coracao', 'que', 'era', 'hora', 'de', 'voltar', 'ao', 'fluminense', 'contou', 'fernando', 'diniz', 'e', 'foi', 'assim', 'que', 'comecou', 'o', 'casamento', 'atual', 'ja', 'vitorioso', 'desde', 'sua', 'chegada', 'em', 'abril', 'de', 'sao', 'vitorias', 'em', 'jogos', 'nesta', 'segunda', 'passagem', 'pelo', 'fluminense', 'fernando', 'diniz', 'venceu', 'das', 'partidas', 'que', 'disputou', 'e', 'os', 'resultados', 'batem', 'a', 'porta', 'no', 'ano', 'passado', 'foi', 'semifinalista', 'da', 'copa', 'do', 'brasil', 'e', 'o', 'colocado', 'no', 'campeonato', 'brasileiro', 'dias', 'fluminense', 'vamostricolores', 'pictwittercomhhmjmscoi', 'fluminense', 'fc', 'fluminensefc', 'october', 'a', 'temporada', 'comecou', 'com', 'seu', 'primeiro', 'titulo', 'de', 'expressao', 'o', 'campeonato', 'carioca', 'com', 'direito', 'a', 'goleada', 'de', 'a', 'sobre', 'o', 'arquirrival', 'flamengo', 'na', 'final', 'agora', 'chegou', 'a', 'chance', 'de', 'ouro', 'da', 'carreira', 'com', 'esta', 'final', 'de', 'libertadores', 'nao', 'bastasse', 'isso', 'esta', 'a', 'frente', 'da', 'selecao', 'brasileira', 'fernando', 'diniz', 'pode', 'trazer', 'a', 'sonhada', 'taca', 'em', 'anos', 'da', 'gloriosa', 'historia', 'do', 'fluminense', 'e', 'tinha', 'que', 'ser', 'com', 'o', 'treinador', 'que', 'mais', 'tem', 'a', 'cara', 'do', 'clube', 'o', 'proprio', 'treinador', 'aponta', 'a', 'receita', 'do', 'sucesso', 'trabalhamos', 'um', 'ano', 'e', 'meio', 'juntos', 'para', 'estar', 'aqui', 'isso', 'tudo', 'nao', 'sera', 'descartado', 'a', 'seguranca', 'para', 'viver', 'bem', 'e', 'que', 'sou', 'focado', 'no', 'trabalho', 'e', 'nao', 'apenas', 'no', 'resultado', 'que', 'tem', 'um', 'componente', 'de', 'incerteza', 'minha', 'vida', 'e', 'do', 'nosso', 'time', 'nao', 'estao', 'a', 'merce', 'do', 'resultado', 'estamos', 'preparados', 'de', 'alma', 'pensamos', 'nessa', 'final', 'desde', 'o', 'ano', 'passado', 'revelou', 'esse', 'e', 'fernando', 'diniz', 'o', 'entao', 'fracassado', 'por', 'muitos', 'que', 'pode', 'chegar', 'a', 'gloria', 'eterna', 'em', 'seu', 'tempo', 'em', 'sua', 'hora', 'este', 'conteudo', 'foi', 'criado', 'originalmente', 'em', 'itatiaia', 'versao', 'original']\n"
     ]
    }
   ],
   "source": [
    "print(token_text[0])"
   ]
  },
  {
   "cell_type": "code",
   "execution_count": 199,
   "id": "9e891517-f3dd-491c-a02e-7fe17e0ecff7",
   "metadata": {},
   "outputs": [
    {
     "name": "stderr",
     "output_type": "stream",
     "text": [
      "[nltk_data] Downloading package stopwords to /home/hworld/nltk_data...\n",
      "[nltk_data]   Package stopwords is already up-to-date!\n"
     ]
    },
    {
     "data": {
      "text/plain": [
       "True"
      ]
     },
     "execution_count": 199,
     "metadata": {},
     "output_type": "execute_result"
    }
   ],
   "source": [
    "nltk.download('stopwords')"
   ]
  },
  {
   "cell_type": "code",
   "execution_count": 204,
   "id": "7ce4e6e6-b023-4dd0-b5b3-624c55220bed",
   "metadata": {},
   "outputs": [],
   "source": [
    "from nltk.corpus import stopwords\n",
    "sw = stopwords.words('portuguese')"
   ]
  },
  {
   "cell_type": "code",
   "execution_count": 205,
   "id": "c7a094e5-44b5-4079-bfff-1201a537ded8",
   "metadata": {},
   "outputs": [],
   "source": [
    "for stop in sw:\n",
    "    for text in token_text:\n",
    "        for t in text:\n",
    "            if(t == stop):\n",
    "                text.remove(t)"
   ]
  },
  {
   "cell_type": "code",
   "execution_count": 202,
   "id": "6a9a56b7-e028-43f7-bc0b-d0c6dcc31604",
   "metadata": {},
   "outputs": [
    {
     "name": "stdout",
     "output_type": "stream",
     "text": [
      "['treinador', 'sempre', 'badalado', 'forma', 'faz', 'time', 'jogar', 'cara', 'fernando', 'diniz', 'comandante', 'fluminense', 'chance', 'chegar', 'apice', 'carreira', 'neste', 'sabado', 'partir', 'h', 'brasilia', 'decide', 'copa', 'libertadores', 'contra', 'boca', 'juniorsarg', 'maracana', 'rumo', 'gloria', 'eterna', 'gloria', 'pessoal', 'considerado', 'ha', 'alguns', 'anos', 'melhores', 'senao', 'melhor', 'tecnico', 'futebol', 'brasileiro', 'fernando', 'diniz', 'sempre', 'esbarra', 'desconfianca', 'persegue', 'desconfianca', 'resultadista', 'afinal', 'pode', 'treinador', 'tao', 'elogiado', 'ter', 'apenas', 'campeonato', 'carioca', 'bagagem', 'titulos', 'expressao', 'diniz', 'ate', 'entao', 'pareciam', 'nao', 'combinar', 'leia', 'certo', 'final', 'copa', 'libertadores', 'ja', 'vai', 'alcar', 'tecnico', 'outro', 'patamar', 'sendo', 'interino', 'selecao', 'brasileira', 'conquistar', 'maior', 'torneio', 'clubes', 'america', 'sul', 'tera', 'valor', 'inestimavel', 'alem', 'entrar', 'galeria', 'fama', 'fluminense', 'treinador', 'tricolor', 'dara', 'resposta', 'criticos', 'diniz', 'pode', 'enfim', 'atingir', 'ponto', 'maximo', 'chance', 'conquistar', 'america', 'veio', 'clube', 'ja', 'havia', 'aberto', 'portas', 'fluminense', 'primeira', 'grande', 'chance', 'diniz', 'tecnico', 'elite', 'naquele', 'ano', 'futebol', 'vistoso', 'pouco', 'vitorioso', 'resultados', 'aquem', 'esperado', 'nada', 'tacas', 'demissao', 'conta', 'esperar', 'tecnico', 'diferenciado', 'grande', 'midia', 'vezes', 'visto', 'fracassado', 'grande', 'publico', 'fernando', 'diniz', 'trabalha', 'bem', 'parte', 'mental', 'comandados', 'acontecer', 'vai', 'modificar', 'forma', 'todos', 'enxergam', 'importante', 'enxergo', 'nao', 'merce', 'bola', 'vai', 'entrar', 'nao', 'ja', 'estaria', 'ansioso', 'demorei', 'tempo', 'luto', 'ate', 'hoje', 'vida', 'nao', 'determinada', 'bola', 'entra', 'nao', 'comentou', 'treinador', 'psicologo', 'formacao', 'fernando', 'diniz', 'carreira', 'interessante', 'atacante', 'passou', 'gigantes', 'futebol', 'brasileiro', 'jogou', 'proprio', 'fluminense', 'jogou', 'flamengo', 'palmeiras', 'corinthians', 'santos', 'cruzeiro', 'destaque', 'alguns', 'outros', 'treinador', 'olhos', 'voltaram', 'comeco', 'modesto', 'votoraty', 'interior', 'sao', 'paulo', 'ali', 'verdade', 'primeira', 'conquista', 'equipe', 'avassaladora', 'copa', 'paulista', 'faturou', 'inedito', 'trofeu', 'junto', 'vaga', 'copa', 'brasil', 'ano', 'seguinte', 'campanha', 'casa', 'grande', 'destaque', 'dez', 'vitorias', 'tres', 'empates', 'final', 'sonoro', 'diante', 'paulista', 'jundiai', 'treinador', 'levou', 'votoraty', 'segunda', 'fase', 'competicao', 'nacional', 'equipe', 'passou', 'cima', 'trezepb', 'encontrou', 'logo', 'cara', 'gremio', 'deu', 'adeus', 'sonho', 'surpreender', 'brasil', 'rodou', 'clubes', 'pequenos', 'ate', 'firmar', 'vez', 'cenario', 'nacional', 'votoraty', 'diniz', 'ainda', 'caminhou', 'paulista', 'atletico', 'sorocabasp', 'botafogosp', 'primeiro', 'contato', 'clube', 'osasco', 'apos', 'outra', 'breve', 'passagem', 'parana', 'clube', 'treinador', 'retornou', 'fazer', 'historia', 'modesta', 'equipe', 'paulista', 'surpreendeu', 'brasil', 'chegou', 'ate', 'final', 'campeonato', 'paulista', 'caminho', 'audax', 'fernando', 'diniz', 'dificil', 'time', 'envolvente', 'campanha', 'historica', 'equipe', 'simplesmente', 'atropelou', 'sao', 'paulo', 'quartas', 'final', 'eliminou', 'dentro', 'itaquera', 'corinthians', 'naquele', 'time', 'nomes', 'sidao', 'tche', 'tche', 'ytalo', 'fizeram', 'sucesso', 'outros', 'clubes', 'grande', 'decisao', 'osasco', 'conseguiu', 'empate', 'dolorosa', 'derrota', 'santos', 'encerrado', 'sonho', 'audax', 'diniz', 'historia', 'feita', 'treinador', 'apresentado', 'vez', 'futebol', 'brasileiro', 'segundo', 'semestre', 'comandou', 'oeste', 'serie', 'b', 'campeonato', 'brasileiro', 'evitou', 'rebaixamento', 'equipe', 'itapolis', 'athleticopr', 'fluminense', 'fernando', 'diniz', 'comecou', 'questionado', 'apesar', 'bom', 'futebol', 'revelar', 'jogadores', 'montes', 'times', 'deviam', 'resultado', 'dois', 'casos', 'tecnico', 'deixou', 'respectivas', 'equipes', 'zona', 'rebaixamento', 'campeonato', 'brasileiro', 'furacao', 'inclusive', 'saida', 'deu', 'espaco', 'tiago', 'nunes', 'treinador', 'pegou', 'trabalho', 'diniz', 'conquistou', 'dois', 'anos', 'copa', 'sulamericana', 'copa', 'brasil', 'diniz', 'cara', 'criativo', 'vi', 'termos', 'profissionais', 'intuitivo', 'capacidade', 'unica', 'cativar', 'pessoas', 'consegue', 'engajar', 'criar', 'aderencia', 'jogadores', 'profissionais', 'volta', 'capacidade', 'unica', 'extraordinaria', 'infelizmente', 'nao', 'ganhou', 'titulo', 'ainda', 'acaba', 'pesando', 'merece', 'toda', 'trajetoria', 'futebol', 'crenca', 'modelo', 'futebol', 'aplica', 'so', 'aplica', 'jogo', 'autoral', 'nunca', 'vi', 'falando', 'jogo', 'melhor', 'pior', 'outros', 'falou', 'tiago', 'nunes', 'demitido', 'fluminense', 'equipe', 'ultimas', 'colocadas', 'brasileiro', 'fernando', 'diniz', 'assumiu', 'sao', 'paulo', 'crise', 'primeiro', 'ano', 'confirmou', 'vaga', 'copa', 'libertadores', 'maior', 'chance', 'campeao', 'carreira', 'ate', 'entao', 'sao', 'paulo', 'liderou', 'campeonato', 'brasileiro', 'ponta', 'ponta', 'semifinalista', 'copa', 'brasil', 'muitos', 'estigma', 'treinador', 'nao', 'conseguir', 'campeao', 'tirou', 'tricolor', 'paulista', 'rota', 'conquistas', 'equipe', 'acabou', 'entregando', 'brasileiro', 'diniz', 'demitido', 'antes', 'termino', 'torneio', 'copa', 'brasil', 'equipe', 'atropelou', 'flamengo', 'timesensacao', 'pais', 'acabou', 'campeao', 'brasileiro', 'novamente', 'ficou', 'caminho', 'contra', 'gremio', 'novo', 'fracasso', 'diniz', 'passou', 'santos', 'vasco', 'sucesso', 'apenas', 'vitorias', 'jogos', 'dois', 'clubes', 'mandei', 'mensagem', 'mario', 'nunca', 'feito', 'discreto', 'relacao', 'sempre', 'relacao', 'boa', 'mario', 'bittencourt', 'paulo', 'angioni', 'diretor', 'futebol', 'senti', 'coracao', 'hora', 'voltar', 'fluminense', 'contou', 'fernando', 'diniz', 'assim', 'comecou', 'casamento', 'atual', 'ja', 'vitorioso', 'desde', 'chegada', 'abril', 'sao', 'vitorias', 'jogos', 'nesta', 'segunda', 'passagem', 'fluminense', 'fernando', 'diniz', 'venceu', 'partidas', 'disputou', 'resultados', 'batem', 'porta', 'ano', 'passado', 'semifinalista', 'copa', 'brasil', 'colocado', 'campeonato', 'brasileiro', 'dias', 'fluminense', 'vamostricolores', 'pictwittercomhhmjmscoi', 'fluminense', 'fc', 'fluminensefc', 'october', 'temporada', 'comecou', 'primeiro', 'titulo', 'expressao', 'campeonato', 'carioca', 'direito', 'goleada', 'sobre', 'arquirrival', 'flamengo', 'final', 'agora', 'chegou', 'chance', 'ouro', 'carreira', 'final', 'libertadores', 'nao', 'bastasse', 'frente', 'selecao', 'brasileira', 'fernando', 'diniz', 'pode', 'trazer', 'sonhada', 'taca', 'anos', 'gloriosa', 'historia', 'fluminense', 'treinador', 'cara', 'clube', 'proprio', 'treinador', 'aponta', 'receita', 'sucesso', 'trabalhamos', 'ano', 'meio', 'juntos', 'aqui', 'tudo', 'nao', 'sera', 'descartado', 'seguranca', 'viver', 'bem', 'focado', 'trabalho', 'nao', 'apenas', 'resultado', 'componente', 'incerteza', 'vida', 'time', 'nao', 'estao', 'merce', 'resultado', 'preparados', 'alma', 'pensamos', 'nessa', 'final', 'desde', 'ano', 'passado', 'revelou', 'fernando', 'diniz', 'entao', 'fracassado', 'muitos', 'pode', 'chegar', 'gloria', 'eterna', 'tempo', 'hora', 'conteudo', 'criado', 'originalmente', 'itatiaia', 'versao', 'original']\n"
     ]
    }
   ],
   "source": [
    "print(token_text[0])"
   ]
  },
  {
   "cell_type": "code",
   "execution_count": 206,
   "id": "75724920-33df-45ea-bc66-62cd512dc49e",
   "metadata": {},
   "outputs": [
    {
     "data": {
      "text/html": [
       "<div>\n",
       "<style scoped>\n",
       "    .dataframe tbody tr th:only-of-type {\n",
       "        vertical-align: middle;\n",
       "    }\n",
       "\n",
       "    .dataframe tbody tr th {\n",
       "        vertical-align: top;\n",
       "    }\n",
       "\n",
       "    .dataframe thead th {\n",
       "        text-align: right;\n",
       "    }\n",
       "</style>\n",
       "<table border=\"1\" class=\"dataframe\">\n",
       "  <thead>\n",
       "    <tr style=\"text-align: right;\">\n",
       "      <th></th>\n",
       "      <th>titulo</th>\n",
       "      <th>texto</th>\n",
       "      <th>link</th>\n",
       "      <th>resumo</th>\n",
       "      <th>categoria</th>\n",
       "      <th>data_hora</th>\n",
       "    </tr>\n",
       "  </thead>\n",
       "  <tbody>\n",
       "    <tr>\n",
       "      <th>0</th>\n",
       "      <td>Veja a trajetória de Fernando Diniz, em busca ...</td>\n",
       "      <td>[treinador, sempre, badalado, forma, faz, time...</td>\n",
       "      <td>https://www.cnnbrasil.com.br/esportes/veja-a-t...</td>\n",
       "      <td>Técnico tricolor e da Seleção Brasileira tem a...</td>\n",
       "      <td>esportes</td>\n",
       "      <td>2023-11-04 12:26:18</td>\n",
       "    </tr>\n",
       "    <tr>\n",
       "      <th>1</th>\n",
       "      <td>Santos tem chances remotas de jogar a Copa do ...</td>\n",
       "      <td>[santos, ainda, chances, disputar, copa, brasi...</td>\n",
       "      <td>https://www.cnnbrasil.com.br/esportes/santos-t...</td>\n",
       "      <td>Peixe precisaria ser o melhor time fora da zon...</td>\n",
       "      <td>esportes</td>\n",
       "      <td>2023-11-16 18:59:30</td>\n",
       "    </tr>\n",
       "  </tbody>\n",
       "</table>\n",
       "</div>"
      ],
      "text/plain": [
       "                                              titulo  \\\n",
       "0  Veja a trajetória de Fernando Diniz, em busca ...   \n",
       "1  Santos tem chances remotas de jogar a Copa do ...   \n",
       "\n",
       "                                               texto  \\\n",
       "0  [treinador, sempre, badalado, forma, faz, time...   \n",
       "1  [santos, ainda, chances, disputar, copa, brasi...   \n",
       "\n",
       "                                                link  \\\n",
       "0  https://www.cnnbrasil.com.br/esportes/veja-a-t...   \n",
       "1  https://www.cnnbrasil.com.br/esportes/santos-t...   \n",
       "\n",
       "                                              resumo categoria  \\\n",
       "0  Técnico tricolor e da Seleção Brasileira tem a...  esportes   \n",
       "1  Peixe precisaria ser o melhor time fora da zon...  esportes   \n",
       "\n",
       "             data_hora  \n",
       "0  2023-11-04 12:26:18  \n",
       "1  2023-11-16 18:59:30  "
      ]
     },
     "execution_count": 206,
     "metadata": {},
     "output_type": "execute_result"
    }
   ],
   "source": [
    "df_balanceado['texto'] = token_text\n",
    "df_balanceado.head(2)"
   ]
  },
  {
   "cell_type": "markdown",
   "id": "a2cd84bf-5bbf-4c51-832e-18d870cc3db1",
   "metadata": {},
   "source": [
    "### spaCy"
   ]
  },
  {
   "cell_type": "code",
   "execution_count": 207,
   "id": "8dab8515-4524-4bd3-a6cd-b053039d07ca",
   "metadata": {},
   "outputs": [],
   "source": [
    "for i in range(len(text2)):\n",
    "    text2[i] = text2[i].lower()"
   ]
  },
  {
   "cell_type": "code",
   "execution_count": 208,
   "id": "4e825ead-6706-4075-9b7b-93b78be5e109",
   "metadata": {},
   "outputs": [],
   "source": [
    "from unidecode import unidecode\n",
    "\n",
    "for i in range(len(text2)):\n",
    "    text2[i] = unidecode(text2[i])"
   ]
  },
  {
   "cell_type": "code",
   "execution_count": 209,
   "id": "db8bb10d-8812-4eeb-98f2-260f304a4d05",
   "metadata": {},
   "outputs": [],
   "source": [
    "for i in range(len(text2)):\n",
    "   text2[i] = re.sub(r'[^a-zA-Z\\s]', \"\" ,text2[i])"
   ]
  },
  {
   "cell_type": "code",
   "execution_count": 210,
   "id": "49e44ece-2a99-46f0-b22c-b6a59296323e",
   "metadata": {},
   "outputs": [
    {
     "name": "stdout",
     "output_type": "stream",
     "text": [
      "se tem um treinador que sempre foi badalado pela forma como faz seu time jogar este cara e fernando diniz e o comandante do fluminense tem a chance de chegar ao apice da carreira neste sabado  a partir das h de brasilia quando decide a copa libertadores contra o boca juniorsarg no maracana rumo a gloria eterna e sua gloria pessoal considerado ha alguns anos um dos melhores  senao o melhor  tecnico do futebol brasileiro fernando diniz sempre esbarra na desconfianca que o persegue uma desconfianca resultadista afinal como pode um treinador tao elogiado ter apenas um campeonato carioca  na bagagem titulos de expressao e diniz ate entao pareciam nao combinar  leia mais  certo e que a final da copa libertadores ja vai alcar o tecnico a outro patamar mesmo sendo interino na selecao brasileira conquistar o maior torneio de clubes da america do sul tera um valor inestimavel alem de entrar na galeria da fama do fluminense o treinador tricolor dara uma resposta aos criticos diniz pode enfim atingir seu ponto maximo a chance de conquistar a america veio no clube que ja lhe havia aberto as portas em  foi no fluminense a primeira grande chance de diniz como tecnico de elite naquele ano futebol vistoso e pouco vitorioso resultados aquem do esperado nada de tacas uma demissao na conta mas o que esperar do tecnico diferenciado para a grande midia mas por vezes visto como fracassado pelo grande publico fernando diniz trabalha bem a parte mental de seus comandados o que acontecer vai modificar a forma como todos enxergam o mais importante e como eu me enxergo nao estou a merce da bola que vai entrar ou nao se fosse ja estaria mais ansioso demorei muito tempo e luto ate hoje para minha vida nao ser determinada por uma bola que entra ou nao comentou o treinador psicologo de formacao fernando diniz teve uma carreira interessante como atacante passou por gigantes do futebol brasileiro jogou no proprio fluminense jogou por flamengo palmeiras corinthians santos e cruzeiro teve mais destaque em alguns do que em outros mas foi como treinador que os olhos voltaram para ele seu comeco foi no modesto votoraty do interior de sao paulo ali na verdade foi sua primeira conquista em  sua equipe foi avassaladora na copa paulista e faturou o inedito trofeu junto com a vaga na copa do brasil do ano seguinte a campanha em casa foi o grande destaque dez vitorias e tres empates na final um sonoro  a  diante do paulista de jundiai o treinador levou o votoraty para a segunda fase da competicao nacional em  a equipe passou por cima do trezepb mas encontrou logo de cara o gremio e deu adeus ao sonho de surpreender o brasil depois rodou por clubes pequenos ate se firmar de vez para o cenario nacional depois do votoraty diniz ainda caminhou por paulista atletico sorocabasp e botafogosp em  ele teve o seu primeiro contato com o clube de osasco apos uma outra breve passagem pelo parana clube o treinador retornou em  para fazer historia a modesta equipe paulista surpreendeu o brasil e chegou ate a final do campeonato paulista e o caminho do audax de fernando diniz foi dificil com um time envolvente e com uma campanha historica a equipe simplesmente atropelou o sao paulo nas quartas de final por  a  e depois eliminou dentro de itaquera o corinthians naquele time nomes como sidao tche tche e ytalo fizeram sucesso em outros clubes na grande decisao o osasco conseguiu um empate e teve uma dolorosa derrota por  a  para o santos estava encerrado o sonho do audax e de diniz mas a historia estava feita e o treinador foi apresentado de vez ao futebol brasileiro no segundo semestre comandou o oeste na serie b do campeonato brasileiro e evitou o rebaixamento da equipe de itapolis foi em  no athleticopr e  no fluminense que fernando diniz comecou a ser questionado apesar do bom futebol e de revelar jogadores aos montes seus times deviam resultado nos dois casos o tecnico deixou as respectivas equipes na zona de rebaixamento no campeonato brasileiro no furacao inclusive sua saida deu espaco para tiago nunes o treinador pegou o trabalho de diniz e conquistou em dois anos a copa sulamericana e a copa do brasil diniz e o cara mais criativo que vi em termos profissionais intuitivo com uma capacidade unica de cativar as pessoas consegue engajar criar aderencia dos jogadores e profissionais a sua volta tem uma capacidade unica e extraordinaria infelizmente nao ganhou titulo ainda e isso acaba pesando merece por toda a trajetoria que tem no futebol e crenca no modelo de futebol que ele aplica so ele aplica e um jogo autoral e dele nunca vi ele falando que seu jogo e melhor ou pior que os outros falou tiago nunes mesmo demitido do fluminense com a equipe entre as ultimas colocadas do brasileiro fernando diniz assumiu um sao paulo em crise no primeiro ano confirmou a vaga para a copa libertadores de  e teve a maior chance de ser campeao na carreira ate entao em  o sao paulo liderou o campeonato brasileiro de ponta a ponta foi semifinalista da copa do brasil mas para muitos o estigma do treinador em nao conseguir ser campeao tirou o tricolor paulista da rota das conquistas a equipe acabou entregando o brasileiro e diniz foi demitido antes mesmo do termino do torneio na copa do brasil sua equipe atropelou o flamengo que era o timesensacao do pais e que acabou campeao brasileiro novamente mas ficou pelo caminho contra o gremio depois do novo fracasso diniz passou por santos e vasco sem sucesso foram apenas  vitorias em  jogos pelos dois clubes mandei uma mensagem para ele mario nunca tinha feito isso sou muito discreto em relacao a isso mas sempre tive uma relacao muito boa com o mario bittencourt e o paulo angioni diretor de futebol e senti no meu coracao que era hora de voltar ao fluminense contou fernando diniz e foi assim que comecou o casamento atual ja vitorioso desde sua chegada em abril de  sao  vitorias em  jogos nesta segunda passagem pelo fluminense fernando diniz venceu  das partidas que disputou e os resultados batem a porta no ano passado foi semifinalista da copa do brasil e o colocado no campeonato brasileiro  dias fluminense vamostricolores pictwittercomhhmjmscoi  fluminense fc fluminensefc october    a temporada  comecou com seu primeiro titulo de expressao o campeonato carioca com direito a goleada de  a  sobre o arquirrival flamengo na final agora chegou a chance de ouro da carreira com esta final de libertadores nao bastasse isso esta a frente da selecao brasileira fernando diniz pode trazer a sonhada taca em  anos da gloriosa historia do fluminense e tinha que ser com o treinador que mais tem a cara do clube o proprio treinador aponta a receita do sucesso trabalhamos um ano e meio juntos para estar aqui isso tudo nao sera descartado a seguranca para viver bem e que sou focado no trabalho e nao apenas no resultado que tem um componente de incerteza minha vida e do nosso time nao estao a merce do resultado estamos preparados de alma pensamos nessa final desde o ano passado revelou esse e fernando diniz o entao fracassado por muitos que pode chegar a gloria eterna em seu tempo em sua hora   este conteudo foi criado originalmente em itatiaia versao original\n"
     ]
    }
   ],
   "source": [
    "print(text2[0])"
   ]
  },
  {
   "cell_type": "code",
   "execution_count": 211,
   "id": "76f98a44-ec8e-436e-ad7e-d36fa54f5a3c",
   "metadata": {},
   "outputs": [
    {
     "name": "stdout",
     "output_type": "stream",
     "text": [
      "se tem um treinador que sempre foi badalado pela forma como faz seu time jogar este cara e fernando diniz e o comandante do fluminense tem a chance de chegar ao apice da carreira neste sabado  a partir das h de brasilia quando decide a copa libertadores contra o boca juniorsarg no maracana rumo a gloria eterna e sua gloria pessoal considerado ha alguns anos um dos melhores  senao o melhor  tecnico do futebol brasileiro fernando diniz sempre esbarra na desconfianca que o persegue uma desconfianca resultadista afinal como pode um treinador tao elogiado ter apenas um campeonato carioca  na bagagem titulos de expressao e diniz ate entao pareciam nao combinar  leia mais  certo e que a final da copa libertadores ja vai alcar o tecnico a outro patamar mesmo sendo interino na selecao brasileira conquistar o maior torneio de clubes da america do sul tera um valor inestimavel alem de entrar na galeria da fama do fluminense o treinador tricolor dara uma resposta aos criticos diniz pode enfim atingir seu ponto maximo a chance de conquistar a america veio no clube que ja lhe havia aberto as portas em  foi no fluminense a primeira grande chance de diniz como tecnico de elite naquele ano futebol vistoso e pouco vitorioso resultados aquem do esperado nada de tacas uma demissao na conta mas o que esperar do tecnico diferenciado para a grande midia mas por vezes visto como fracassado pelo grande publico fernando diniz trabalha bem a parte mental de seus comandados o que acontecer vai modificar a forma como todos enxergam o mais importante e como eu me enxergo nao estou a merce da bola que vai entrar ou nao se fosse ja estaria mais ansioso demorei muito tempo e luto ate hoje para minha vida nao ser determinada por uma bola que entra ou nao comentou o treinador psicologo de formacao fernando diniz teve uma carreira interessante como atacante passou por gigantes do futebol brasileiro jogou no proprio fluminense jogou por flamengo palmeiras corinthians santos e cruzeiro teve mais destaque em alguns do que em outros mas foi como treinador que os olhos voltaram para ele seu comeco foi no modesto votoraty do interior de sao paulo ali na verdade foi sua primeira conquista em  sua equipe foi avassaladora na copa paulista e faturou o inedito trofeu junto com a vaga na copa do brasil do ano seguinte a campanha em casa foi o grande destaque dez vitorias e tres empates na final um sonoro  a  diante do paulista de jundiai o treinador levou o votoraty para a segunda fase da competicao nacional em  a equipe passou por cima do trezepb mas encontrou logo de cara o gremio e deu adeus ao sonho de surpreender o brasil depois rodou por clubes pequenos ate se firmar de vez para o cenario nacional depois do votoraty diniz ainda caminhou por paulista atletico sorocabasp e botafogosp em  ele teve o seu primeiro contato com o clube de osasco apos uma outra breve passagem pelo parana clube o treinador retornou em  para fazer historia a modesta equipe paulista surpreendeu o brasil e chegou ate a final do campeonato paulista e o caminho do audax de fernando diniz foi dificil com um time envolvente e com uma campanha historica a equipe simplesmente atropelou o sao paulo nas quartas de final por  a  e depois eliminou dentro de itaquera o corinthians naquele time nomes como sidao tche tche e ytalo fizeram sucesso em outros clubes na grande decisao o osasco conseguiu um empate e teve uma dolorosa derrota por  a  para o santos estava encerrado o sonho do audax e de diniz mas a historia estava feita e o treinador foi apresentado de vez ao futebol brasileiro no segundo semestre comandou o oeste na serie b do campeonato brasileiro e evitou o rebaixamento da equipe de itapolis foi em  no athleticopr e  no fluminense que fernando diniz comecou a ser questionado apesar do bom futebol e de revelar jogadores aos montes seus times deviam resultado nos dois casos o tecnico deixou as respectivas equipes na zona de rebaixamento no campeonato brasileiro no furacao inclusive sua saida deu espaco para tiago nunes o treinador pegou o trabalho de diniz e conquistou em dois anos a copa sulamericana e a copa do brasil diniz e o cara mais criativo que vi em termos profissionais intuitivo com uma capacidade unica de cativar as pessoas consegue engajar criar aderencia dos jogadores e profissionais a sua volta tem uma capacidade unica e extraordinaria infelizmente nao ganhou titulo ainda e isso acaba pesando merece por toda a trajetoria que tem no futebol e crenca no modelo de futebol que ele aplica so ele aplica e um jogo autoral e dele nunca vi ele falando que seu jogo e melhor ou pior que os outros falou tiago nunes mesmo demitido do fluminense com a equipe entre as ultimas colocadas do brasileiro fernando diniz assumiu um sao paulo em crise no primeiro ano confirmou a vaga para a copa libertadores de  e teve a maior chance de ser campeao na carreira ate entao em  o sao paulo liderou o campeonato brasileiro de ponta a ponta foi semifinalista da copa do brasil mas para muitos o estigma do treinador em nao conseguir ser campeao tirou o tricolor paulista da rota das conquistas a equipe acabou entregando o brasileiro e diniz foi demitido antes mesmo do termino do torneio na copa do brasil sua equipe atropelou o flamengo que era o timesensacao do pais e que acabou campeao brasileiro novamente mas ficou pelo caminho contra o gremio depois do novo fracasso diniz passou por santos e vasco sem sucesso foram apenas  vitorias em  jogos pelos dois clubes mandei uma mensagem para ele mario nunca tinha feito isso sou muito discreto em relacao a isso mas sempre tive uma relacao muito boa com o mario bittencourt e o paulo angioni diretor de futebol e senti no meu coracao que era hora de voltar ao fluminense contou fernando diniz e foi assim que comecou o casamento atual ja vitorioso desde sua chegada em abril de  sao  vitorias em  jogos nesta segunda passagem pelo fluminense fernando diniz venceu  das partidas que disputou e os resultados batem a porta no ano passado foi semifinalista da copa do brasil e o colocado no campeonato brasileiro  dias fluminense vamostricolores pictwittercomhhmjmscoi  fluminense fc fluminensefc october    a temporada  comecou com seu primeiro titulo de expressao o campeonato carioca com direito a goleada de  a  sobre o arquirrival flamengo na final agora chegou a chance de ouro da carreira com esta final de libertadores nao bastasse isso esta a frente da selecao brasileira fernando diniz pode trazer a sonhada taca em  anos da gloriosa historia do fluminense e tinha que ser com o treinador que mais tem a cara do clube o proprio treinador aponta a receita do sucesso trabalhamos um ano e meio juntos para estar aqui isso tudo nao sera descartado a seguranca para viver bem e que sou focado no trabalho e nao apenas no resultado que tem um componente de incerteza minha vida e do nosso time nao estao a merce do resultado estamos preparados de alma pensamos nessa final desde o ano passado revelou esse e fernando diniz o entao fracassado por muitos que pode chegar a gloria eterna em seu tempo em sua hora   este conteudo foi criado originalmente em itatiaia versao original\n"
     ]
    }
   ],
   "source": [
    "nlp = spacy.load('pt_core_news_sm')\n",
    "\n",
    "doc = []\n",
    "\n",
    "for j in text2:\n",
    "    temp = nlp(j)\n",
    "    doc.append(temp)\n",
    "print(doc[0])"
   ]
  },
  {
   "cell_type": "code",
   "execution_count": 212,
   "id": "4fd763bc-d541-4267-a129-16e66603a5e4",
   "metadata": {},
   "outputs": [
    {
     "name": "stdout",
     "output_type": "stream",
     "text": [
      "['se', 'tem', 'um', 'treinador', 'que', 'sempre', 'foi', 'badalado', 'pela', 'forma', 'como', 'faz', 'seu', 'time', 'jogar', 'este', 'cara', 'e', 'fernando', 'diniz', 'e', 'o', 'comandante', 'do', 'fluminense', 'tem', 'a', 'chance', 'de', 'chegar', 'ao', 'apice', 'da', 'carreira', 'neste', 'sabado', ' ', 'a', 'partir', 'das', 'h', 'de', 'brasilia', 'quando', 'decide', 'a', 'copa', 'libertadores', 'contra', 'o', 'boca', 'juniorsarg', 'no', 'maracana', 'rumo', 'a', 'gloria', 'eterna', 'e', 'sua', 'gloria', 'pessoal', 'considerado', 'ha', 'alguns', 'anos', 'um', 'dos', 'melhores', ' ', 'senao', 'o', 'melhor', ' ', 'tecnico', 'do', 'futebol', 'brasileiro', 'fernando', 'diniz', 'sempre', 'esbarra', 'na', 'desconfianca', 'que', 'o', 'persegue', 'uma', 'desconfianca', 'resultadista', 'afinal', 'como', 'pode', 'um', 'treinador', 'tao', 'elogiado', 'ter', 'apenas', 'um', 'campeonato', 'carioca', ' ', 'na', 'bagagem', 'titulos', 'de', 'expressao', 'e', 'diniz', 'ate', 'entao', 'pareciam', 'nao', 'combinar', ' ', 'leia', 'mais', ' ', 'certo', 'e', 'que', 'a', 'final', 'da', 'copa', 'libertadores', 'ja', 'vai', 'alcar', 'o', 'tecnico', 'a', 'outro', 'patamar', 'mesmo', 'sendo', 'interino', 'na', 'selecao', 'brasileira', 'conquistar', 'o', 'maior', 'torneio', 'de', 'clubes', 'da', 'america', 'do', 'sul', 'tera', 'um', 'valor', 'inestimavel', 'alem', 'de', 'entrar', 'na', 'galeria', 'da', 'fama', 'do', 'fluminense', 'o', 'treinador', 'tricolor', 'dara', 'uma', 'resposta', 'aos', 'criticos', 'diniz', 'pode', 'enfim', 'atingir', 'seu', 'ponto', 'maximo', 'a', 'chance', 'de', 'conquistar', 'a', 'america', 'veio', 'no', 'clube', 'que', 'ja', 'lhe', 'havia', 'aberto', 'as', 'portas', 'em', ' ', 'foi', 'no', 'fluminense', 'a', 'primeira', 'grande', 'chance', 'de', 'diniz', 'como', 'tecnico', 'de', 'elite', 'naquele', 'ano', 'futebol', 'vistoso', 'e', 'pouco', 'vitorioso', 'resultados', 'aquem', 'do', 'esperado', 'nada', 'de', 'tacas', 'uma', 'demissao', 'na', 'conta', 'mas', 'o', 'que', 'esperar', 'do', 'tecnico', 'diferenciado', 'para', 'a', 'grande', 'midia', 'mas', 'por', 'vezes', 'visto', 'como', 'fracassado', 'pelo', 'grande', 'publico', 'fernando', 'diniz', 'trabalha', 'bem', 'a', 'parte', 'mental', 'de', 'seus', 'comandados', 'o', 'que', 'acontecer', 'vai', 'modificar', 'a', 'forma', 'como', 'todos', 'enxergam', 'o', 'mais', 'importante', 'e', 'como', 'eu', 'me', 'enxergo', 'nao', 'estou', 'a', 'merce', 'da', 'bola', 'que', 'vai', 'entrar', 'ou', 'nao', 'se', 'fosse', 'ja', 'estaria', 'mais', 'ansioso', 'demorei', 'muito', 'tempo', 'e', 'luto', 'ate', 'hoje', 'para', 'minha', 'vida', 'nao', 'ser', 'determinada', 'por', 'uma', 'bola', 'que', 'entra', 'ou', 'nao', 'comentou', 'o', 'treinador', 'psicologo', 'de', 'formacao', 'fernando', 'diniz', 'teve', 'uma', 'carreira', 'interessante', 'como', 'atacante', 'passou', 'por', 'gigantes', 'do', 'futebol', 'brasileiro', 'jogou', 'no', 'proprio', 'fluminense', 'jogou', 'por', 'flamengo', 'palmeiras', 'corinthians', 'santos', 'e', 'cruzeiro', 'teve', 'mais', 'destaque', 'em', 'alguns', 'do', 'que', 'em', 'outros', 'mas', 'foi', 'como', 'treinador', 'que', 'os', 'olhos', 'voltaram', 'para', 'ele', 'seu', 'comeco', 'foi', 'no', 'modesto', 'votoraty', 'do', 'interior', 'de', 'sao', 'paulo', 'ali', 'na', 'verdade', 'foi', 'sua', 'primeira', 'conquista', 'em', ' ', 'sua', 'equipe', 'foi', 'avassaladora', 'na', 'copa', 'paulista', 'e', 'faturou', 'o', 'inedito', 'trofeu', 'junto', 'com', 'a', 'vaga', 'na', 'copa', 'do', 'brasil', 'do', 'ano', 'seguinte', 'a', 'campanha', 'em', 'casa', 'foi', 'o', 'grande', 'destaque', 'dez', 'vitorias', 'e', 'tres', 'empates', 'na', 'final', 'um', 'sonoro', ' ', 'a', ' ', 'diante', 'do', 'paulista', 'de', 'jundiai', 'o', 'treinador', 'levou', 'o', 'votoraty', 'para', 'a', 'segunda', 'fase', 'da', 'competicao', 'nacional', 'em', ' ', 'a', 'equipe', 'passou', 'por', 'cima', 'do', 'trezepb', 'mas', 'encontrou', 'logo', 'de', 'cara', 'o', 'gremio', 'e', 'deu', 'adeus', 'ao', 'sonho', 'de', 'surpreender', 'o', 'brasil', 'depois', 'rodou', 'por', 'clubes', 'pequenos', 'ate', 'se', 'firmar', 'de', 'vez', 'para', 'o', 'cenario', 'nacional', 'depois', 'do', 'votoraty', 'diniz', 'ainda', 'caminhou', 'por', 'paulista', 'atletico', 'sorocabasp', 'e', 'botafogosp', 'em', ' ', 'ele', 'teve', 'o', 'seu', 'primeiro', 'contato', 'com', 'o', 'clube', 'de', 'osasco', 'apos', 'uma', 'outra', 'breve', 'passagem', 'pelo', 'parana', 'clube', 'o', 'treinador', 'retornou', 'em', ' ', 'para', 'fazer', 'historia', 'a', 'modesta', 'equipe', 'paulista', 'surpreendeu', 'o', 'brasil', 'e', 'chegou', 'ate', 'a', 'final', 'do', 'campeonato', 'paulista', 'e', 'o', 'caminho', 'do', 'audax', 'de', 'fernando', 'diniz', 'foi', 'dificil', 'com', 'um', 'time', 'envolvente', 'e', 'com', 'uma', 'campanha', 'historica', 'a', 'equipe', 'simplesmente', 'atropelou', 'o', 'sao', 'paulo', 'nas', 'quartas', 'de', 'final', 'por', ' ', 'a', ' ', 'e', 'depois', 'eliminou', 'dentro', 'de', 'itaquera', 'o', 'corinthians', 'naquele', 'time', 'nomes', 'como', 'sidao', 'tche', 'tche', 'e', 'ytalo', 'fizeram', 'sucesso', 'em', 'outros', 'clubes', 'na', 'grande', 'decisao', 'o', 'osasco', 'conseguiu', 'um', 'empate', 'e', 'teve', 'uma', 'dolorosa', 'derrota', 'por', ' ', 'a', ' ', 'para', 'o', 'santos', 'estava', 'encerrado', 'o', 'sonho', 'do', 'audax', 'e', 'de', 'diniz', 'mas', 'a', 'historia', 'estava', 'feita', 'e', 'o', 'treinador', 'foi', 'apresentado', 'de', 'vez', 'ao', 'futebol', 'brasileiro', 'no', 'segundo', 'semestre', 'comandou', 'o', 'oeste', 'na', 'serie', 'b', 'do', 'campeonato', 'brasileiro', 'e', 'evitou', 'o', 'rebaixamento', 'da', 'equipe', 'de', 'itapolis', 'foi', 'em', ' ', 'no', 'athleticopr', 'e', ' ', 'no', 'fluminense', 'que', 'fernando', 'diniz', 'comecou', 'a', 'ser', 'questionado', 'apesar', 'do', 'bom', 'futebol', 'e', 'de', 'revelar', 'jogadores', 'aos', 'montes', 'seus', 'times', 'deviam', 'resultado', 'nos', 'dois', 'casos', 'o', 'tecnico', 'deixou', 'as', 'respectivas', 'equipes', 'na', 'zona', 'de', 'rebaixamento', 'no', 'campeonato', 'brasileiro', 'no', 'furacao', 'inclusive', 'sua', 'saida', 'deu', 'espaco', 'para', 'tiago', 'nunes', 'o', 'treinador', 'pegou', 'o', 'trabalho', 'de', 'diniz', 'e', 'conquistou', 'em', 'dois', 'anos', 'a', 'copa', 'sulamericana', 'e', 'a', 'copa', 'do', 'brasil', 'diniz', 'e', 'o', 'cara', 'mais', 'criativo', 'que', 'vi', 'em', 'termos', 'profissionais', 'intuitivo', 'com', 'uma', 'capacidade', 'unica', 'de', 'cativar', 'as', 'pessoas', 'consegue', 'engajar', 'criar', 'aderencia', 'dos', 'jogadores', 'e', 'profissionais', 'a', 'sua', 'volta', 'tem', 'uma', 'capacidade', 'unica', 'e', 'extraordinaria', 'infelizmente', 'nao', 'ganhou', 'titulo', 'ainda', 'e', 'isso', 'acaba', 'pesando', 'merece', 'por', 'toda', 'a', 'trajetoria', 'que', 'tem', 'no', 'futebol', 'e', 'crenca', 'no', 'modelo', 'de', 'futebol', 'que', 'ele', 'aplica', 'so', 'ele', 'aplica', 'e', 'um', 'jogo', 'autoral', 'e', 'dele', 'nunca', 'vi', 'ele', 'falando', 'que', 'seu', 'jogo', 'e', 'melhor', 'ou', 'pior', 'que', 'os', 'outros', 'falou', 'tiago', 'nunes', 'mesmo', 'demitido', 'do', 'fluminense', 'com', 'a', 'equipe', 'entre', 'as', 'ultimas', 'colocadas', 'do', 'brasileiro', 'fernando', 'diniz', 'assumiu', 'um', 'sao', 'paulo', 'em', 'crise', 'no', 'primeiro', 'ano', 'confirmou', 'a', 'vaga', 'para', 'a', 'copa', 'libertadores', 'de', ' ', 'e', 'teve', 'a', 'maior', 'chance', 'de', 'ser', 'campeao', 'na', 'carreira', 'ate', 'entao', 'em', ' ', 'o', 'sao', 'paulo', 'liderou', 'o', 'campeonato', 'brasileiro', 'de', 'ponta', 'a', 'ponta', 'foi', 'semifinalista', 'da', 'copa', 'do', 'brasil', 'mas', 'para', 'muitos', 'o', 'estigma', 'do', 'treinador', 'em', 'nao', 'conseguir', 'ser', 'campeao', 'tirou', 'o', 'tricolor', 'paulista', 'da', 'rota', 'das', 'conquistas', 'a', 'equipe', 'acabou', 'entregando', 'o', 'brasileiro', 'e', 'diniz', 'foi', 'demitido', 'antes', 'mesmo', 'do', 'termino', 'do', 'torneio', 'na', 'copa', 'do', 'brasil', 'sua', 'equipe', 'atropelou', 'o', 'flamengo', 'que', 'era', 'o', 'timesensacao', 'do', 'pais', 'e', 'que', 'acabou', 'campeao', 'brasileiro', 'novamente', 'mas', 'ficou', 'pelo', 'caminho', 'contra', 'o', 'gremio', 'depois', 'do', 'novo', 'fracasso', 'diniz', 'passou', 'por', 'santos', 'e', 'vasco', 'sem', 'sucesso', 'foram', 'apenas', ' ', 'vitorias', 'em', ' ', 'jogos', 'pelos', 'dois', 'clubes', 'mandei', 'uma', 'mensagem', 'para', 'ele', 'mario', 'nunca', 'tinha', 'feito', 'isso', 'sou', 'muito', 'discreto', 'em', 'relacao', 'a', 'isso', 'mas', 'sempre', 'tive', 'uma', 'relacao', 'muito', 'boa', 'com', 'o', 'mario', 'bittencourt', 'e', 'o', 'paulo', 'angioni', 'diretor', 'de', 'futebol', 'e', 'senti', 'no', 'meu', 'coracao', 'que', 'era', 'hora', 'de', 'voltar', 'ao', 'fluminense', 'contou', 'fernando', 'diniz', 'e', 'foi', 'assim', 'que', 'comecou', 'o', 'casamento', 'atual', 'ja', 'vitorioso', 'desde', 'sua', 'chegada', 'em', 'abril', 'de', ' ', 'sao', ' ', 'vitorias', 'em', ' ', 'jogos', 'nesta', 'segunda', 'passagem', 'pelo', 'fluminense', 'fernando', 'diniz', 'venceu', ' ', 'das', 'partidas', 'que', 'disputou', 'e', 'os', 'resultados', 'batem', 'a', 'porta', 'no', 'ano', 'passado', 'foi', 'semifinalista', 'da', 'copa', 'do', 'brasil', 'e', 'o', 'colocado', 'no', 'campeonato', 'brasileiro', ' ', 'dias', 'fluminense', 'vamostricolores', 'pictwittercomhhmjmscoi', ' ', 'fluminense', 'fc', 'fluminensefc', 'october', '   ', 'a', 'temporada', ' ', 'comecou', 'com', 'seu', 'primeiro', 'titulo', 'de', 'expressao', 'o', 'campeonato', 'carioca', 'com', 'direito', 'a', 'goleada', 'de', ' ', 'a', ' ', 'sobre', 'o', 'arquirrival', 'flamengo', 'na', 'final', 'agora', 'chegou', 'a', 'chance', 'de', 'ouro', 'da', 'carreira', 'com', 'esta', 'final', 'de', 'libertadores', 'nao', 'bastasse', 'isso', 'esta', 'a', 'frente', 'da', 'selecao', 'brasileira', 'fernando', 'diniz', 'pode', 'trazer', 'a', 'sonhada', 'taca', 'em', ' ', 'anos', 'da', 'gloriosa', 'historia', 'do', 'fluminense', 'e', 'tinha', 'que', 'ser', 'com', 'o', 'treinador', 'que', 'mais', 'tem', 'a', 'cara', 'do', 'clube', 'o', 'proprio', 'treinador', 'aponta', 'a', 'receita', 'do', 'sucesso', 'trabalhamos', 'um', 'ano', 'e', 'meio', 'juntos', 'para', 'estar', 'aqui', 'isso', 'tudo', 'nao', 'sera', 'descartado', 'a', 'seguranca', 'para', 'viver', 'bem', 'e', 'que', 'sou', 'focado', 'no', 'trabalho', 'e', 'nao', 'apenas', 'no', 'resultado', 'que', 'tem', 'um', 'componente', 'de', 'incerteza', 'minha', 'vida', 'e', 'do', 'nosso', 'time', 'nao', 'estao', 'a', 'merce', 'do', 'resultado', 'estamos', 'preparados', 'de', 'alma', 'pensamos', 'nessa', 'final', 'desde', 'o', 'ano', 'passado', 'revelou', 'esse', 'e', 'fernando', 'diniz', 'o', 'entao', 'fracassado', 'por', 'muitos', 'que', 'pode', 'chegar', 'a', 'gloria', 'eterna', 'em', 'seu', 'tempo', 'em', 'sua', 'hora', '  ', 'este', 'conteudo', 'foi', 'criado', 'originalmente', 'em', 'itatiaia', 'versao', 'original']\n"
     ]
    }
   ],
   "source": [
    "token_text2 = []\n",
    "\n",
    "#Creating and updating our list of tokens using list comprehension \n",
    "for i in range(len(text2)):\n",
    "    temp = [token.text for token in doc[i]]\n",
    "    token_text2.append(temp)\n",
    "\n",
    "print(token_text2[0])"
   ]
  },
  {
   "cell_type": "code",
   "execution_count": 213,
   "id": "61623151-b4e7-4837-ac59-98a3c1b5e0e6",
   "metadata": {},
   "outputs": [
    {
     "name": "stdout",
     "output_type": "stream",
     "text": [
      "{'vens', 'vinda', 'adeus', 'iniciar', 'porque', 'aquele', 'sou', 'diz', 'porquê', 'assim', 'tive', 'possível', 'tivemos', 'têm', 'podia', 'é', 'muitos', 'pelo', 'dar', 'você', 'outros', 'essas', 'estiveste', 'através', 'catorze', 'vossas', 'dezoito', 'estará', 'quinto', 'quieto', 'alguns', 'daquela', 'menos', 'ora', 'tivestes', 'sexta', 'vêm', 'vai', 'aí', 'usa', 'quatro', 'que', 'novos', 'nunca', 'querem', 'sois', 'área', 'algo', 'seis', 'tal', 'sexto', 'possivelmente', 'és', 'des', 'diante', 'momento', 'longe', 'aqui', 'tiveste', 'direita', 'mês', 'sobre', 'oitavo', 'uns', 'mil', 'menor', 'maioria', 'fará', 'quarto', 'porquanto', 'vosso', 'seria', 'fez', 'de', 'aqueles', 'sistema', 'ademais', 'fui', 'bem', 'um', 'nada', 'saber', 'cujo', 'dentro', 'forma', 'tudo', 'estiveram', 'nós', 'põem', 'dessa', 'pegar', 'pois', 'toda', 'aos', 'dá', 'tentar', 'breve', 'último', 'meu', 'elas', 'talvez', 'oito', 'poder', 'quem', 'enquanto', 'tem', 'ver', 'dizem', 'próximo', 'nuns', 'quer', 'comprido', 'aquelas', 'mal', 'posso', 'tão', 'estes', 'também', 'apoio', 'dezanove', 'isto', 'em', 'tipo', 'estive', 'mas', 'todos', 'relação', 'numa', 'vinte', 'meus', 'se', 'tuas', 'teve', 'seu', 'próxima', 'dez', 'pelos', 'à', 'logo', 'maiorias', 'com', 'estivemos', 'nossas', 'num', 'certamente', 'ainda', 'pôde', 'dezasseis', 'tiveram', 'dois', 'apenas', 'geral', 'pontos', 'vocês', 'terceiro', 'tente', 'fazeis', 'nove', 'apoia', 'tenho', 'as', 'ligado', 'devem', 'nos', 'quinta', 'até', 'quais', 'zero', 'caminho', 'mais', 'contudo', 'conhecida', 'irá', 'tanto', 'cedo', 'a', 'quinze', 'isso', 'questão', 'todo', 'muito', 'este', 'partir', 'nível', 'te', 'tentaram', 'tu', 'valor', 'embora', 'daquele', 'sete', 'pouca', 'povo', 'cima', 'coisa', 'suas', 'oitava', 'apontar', 'nesse', 'ser', 'obrigado', 'teus', 'fazer', 'pouco', 'fim', 'outra', 'estou', 'nessa', 'ao', 'estar', 'neste', 'esse', 'aquela', 'como', 'sim', 'treze', 'vós', 'somos', 'quero', 'fazes', 'dos', 'três', 'às', 'cinco', 'vários', 'quanto', 'contra', 'eles', 'todas', 'pode', 'local', 'agora', 'duas', 'estão', 'os', 'uma', 'dizer', 'eu', 'tua', 'acerca', 'eventual', 'dão', 'cada', 'sua', 'minhas', 'minha', 'outras', 'são', 'nossos', 'foi', 'essa', 'falta', 'podem', 'temos', 'para', 'próprio', 'tentei', 'onde', 'grupo', 'custa', 'quarta', 'primeiro', 'ambos', 'parte', 'quieta', 'deve', 'estas', 'foram', 'segundo', 'lhe', 'naquele', 'conhecido', 'depois', 'números', 'vez', 'vossos', 'está', 'primeira', 'além', 'nem', 'vindo', 'pela', 'somente', 'inclusive', 'certeza', 'por', 'deverá', 'poderá', 'obrigada', 'ontem', 'favor', 'porém', 'estava', 'for', 'no', 'tais', 'debaixo', 'baixo', 'das', 'sempre', 'cuja', 'não', 'grandes', 'puderam', 'naquela', 'na', 'e', 'nenhuma', 'qualquer', 'comprida', 'lugar', 'novo', 'o', 'bastante', 'conselho', 'parece', 'cento', 'desde', 'umas', 'nosso', 'mesmo', 'sob', 'onze', 'pelas', 'vezes', 'algumas', 'fazia', 'disso', 'fazemos', 'demais', 'doze', 'máximo', 'portanto', 'novas', 'qual', 'só', 'terceira', 'do', 'já', 'ela', 'posição', 'cá', 'nova', 'perto', 'vais', 'tempo', 'corrente', 'boa', 'ponto', 'antes', 'nossa', 'vos', 'estás', 'nesta', 'meio', 'vossa', 'ele', 'inicio', 'tarde', 'foste', 'fostes', 'nas', 'ir', 'me', 'sem', 'atrás', 'lado', 'esta', 'quando', 'aquilo', 'tens', 'tendes', 'sétimo', 'fora', 'da', 'seus', 'usar', 'número', 'desse', 'era', 'meses', 'quê', 'desta', 'entre', 'ali', 'então', 'após', 'faz', 'sétima', 'fomos', 'esteve', 'esses', 'lá', 'segunda', 'dezassete', 'faço', 'exemplo', 'põe', 'estado', 'ambas', 'ou', 'vem', 'teu', 'bom', 'deste', 'tanta', 'fazem', 'veja', 'maior', 'sei', 'ter', 'grande', 'estivestes', 'sabe', 'vão', 'final'}\n"
     ]
    }
   ],
   "source": [
    "from spacy.lang.pt.stop_words import STOP_WORDS\n",
    "stop = STOP_WORDS\n",
    "print(stop)"
   ]
  },
  {
   "cell_type": "code",
   "execution_count": 214,
   "id": "f2bd0ad8-a857-46f5-a4ef-896bd469c17d",
   "metadata": {},
   "outputs": [
    {
     "name": "stdout",
     "output_type": "stream",
     "text": [
      "['treinador', 'badalado', 'time', 'jogar', 'cara', 'fernando', 'diniz', 'comandante', 'fluminense', 'chance', 'chegar', 'apice', 'carreira', 'sabado', ' ', 'h', 'brasilia', 'decide', 'copa', 'libertadores', 'boca', 'juniorsarg', 'maracana', 'rumo', 'gloria', 'eterna', 'gloria', 'pessoal', 'considerado', 'ha', 'anos', 'melhores', ' ', 'senao', 'melhor', ' ', 'tecnico', 'futebol', 'brasileiro', 'fernando', 'diniz', 'esbarra', 'desconfianca', 'persegue', 'desconfianca', 'resultadista', 'afinal', 'treinador', 'tao', 'elogiado', 'campeonato', 'carioca', ' ', 'bagagem', 'titulos', 'expressao', 'diniz', 'ate', 'entao', 'pareciam', 'nao', 'combinar', ' ', 'leia', ' ', 'certo', 'copa', 'libertadores', 'ja', 'alcar', 'tecnico', 'outro', 'patamar', 'sendo', 'interino', 'selecao', 'brasileira', 'conquistar', 'torneio', 'clubes', 'america', 'sul', 'tera', 'inestimavel', 'alem', 'entrar', 'galeria', 'fama', 'fluminense', 'treinador', 'tricolor', 'dara', 'resposta', 'criticos', 'diniz', 'enfim', 'atingir', 'maximo', 'chance', 'conquistar', 'america', 'veio', 'clube', 'ja', 'havia', 'aberto', 'portas', ' ', 'fluminense', 'chance', 'diniz', 'tecnico', 'elite', 'ano', 'futebol', 'vistoso', 'vitorioso', 'resultados', 'aquem', 'esperado', 'tacas', 'demissao', 'conta', 'esperar', 'tecnico', 'diferenciado', 'midia', 'visto', 'fracassado', 'publico', 'fernando', 'diniz', 'trabalha', 'mental', 'comandados', 'acontecer', 'modificar', 'enxergam', 'importante', 'enxergo', 'nao', 'merce', 'bola', 'entrar', 'nao', 'fosse', 'ja', 'estaria', 'ansioso', 'demorei', 'luto', 'ate', 'hoje', 'vida', 'nao', 'determinada', 'bola', 'entra', 'nao', 'comentou', 'treinador', 'psicologo', 'formacao', 'fernando', 'diniz', 'carreira', 'interessante', 'atacante', 'passou', 'gigantes', 'futebol', 'brasileiro', 'jogou', 'proprio', 'fluminense', 'jogou', 'flamengo', 'palmeiras', 'corinthians', 'santos', 'cruzeiro', 'destaque', 'treinador', 'olhos', 'voltaram', 'comeco', 'modesto', 'votoraty', 'interior', 'sao', 'paulo', 'verdade', 'conquista', ' ', 'equipe', 'avassaladora', 'copa', 'paulista', 'faturou', 'inedito', 'trofeu', 'junto', 'vaga', 'copa', 'brasil', 'ano', 'seguinte', 'campanha', 'casa', 'destaque', 'vitorias', 'tres', 'empates', 'sonoro', ' ', ' ', 'paulista', 'jundiai', 'treinador', 'levou', 'votoraty', 'fase', 'competicao', 'nacional', ' ', 'equipe', 'passou', 'trezepb', 'encontrou', 'cara', 'gremio', 'deu', 'sonho', 'surpreender', 'brasil', 'rodou', 'clubes', 'pequenos', 'ate', 'firmar', 'cenario', 'nacional', 'votoraty', 'diniz', 'caminhou', 'paulista', 'atletico', 'sorocabasp', 'botafogosp', ' ', 'contato', 'clube', 'osasco', 'apos', 'passagem', 'parana', 'clube', 'treinador', 'retornou', ' ', 'historia', 'modesta', 'equipe', 'paulista', 'surpreendeu', 'brasil', 'chegou', 'ate', 'campeonato', 'paulista', 'audax', 'fernando', 'diniz', 'dificil', 'time', 'envolvente', 'campanha', 'historica', 'equipe', 'simplesmente', 'atropelou', 'sao', 'paulo', 'quartas', ' ', ' ', 'eliminou', 'itaquera', 'corinthians', 'time', 'nomes', 'sidao', 'tche', 'tche', 'ytalo', 'fizeram', 'sucesso', 'clubes', 'decisao', 'osasco', 'conseguiu', 'empate', 'dolorosa', 'derrota', ' ', ' ', 'santos', 'encerrado', 'sonho', 'audax', 'diniz', 'historia', 'feita', 'treinador', 'apresentado', 'futebol', 'brasileiro', 'semestre', 'comandou', 'oeste', 'serie', 'b', 'campeonato', 'brasileiro', 'evitou', 'rebaixamento', 'equipe', 'itapolis', ' ', 'athleticopr', ' ', 'fluminense', 'fernando', 'diniz', 'comecou', 'questionado', 'apesar', 'futebol', 'revelar', 'jogadores', 'montes', 'times', 'deviam', 'resultado', 'casos', 'tecnico', 'deixou', 'respectivas', 'equipes', 'zona', 'rebaixamento', 'campeonato', 'brasileiro', 'furacao', 'saida', 'deu', 'espaco', 'tiago', 'nunes', 'treinador', 'pegou', 'trabalho', 'diniz', 'conquistou', 'anos', 'copa', 'sulamericana', 'copa', 'brasil', 'diniz', 'cara', 'criativo', 'vi', 'termos', 'profissionais', 'intuitivo', 'capacidade', 'unica', 'cativar', 'pessoas', 'consegue', 'engajar', 'criar', 'aderencia', 'jogadores', 'profissionais', 'volta', 'capacidade', 'unica', 'extraordinaria', 'infelizmente', 'nao', 'ganhou', 'titulo', 'acaba', 'pesando', 'merece', 'trajetoria', 'futebol', 'crenca', 'modelo', 'futebol', 'aplica', 'so', 'aplica', 'jogo', 'autoral', 'dele', 'vi', 'falando', 'jogo', 'melhor', 'pior', 'falou', 'tiago', 'nunes', 'demitido', 'fluminense', 'equipe', 'ultimas', 'colocadas', 'brasileiro', 'fernando', 'diniz', 'assumiu', 'sao', 'paulo', 'crise', 'ano', 'confirmou', 'vaga', 'copa', 'libertadores', ' ', 'chance', 'campeao', 'carreira', 'ate', 'entao', ' ', 'sao', 'paulo', 'liderou', 'campeonato', 'brasileiro', 'ponta', 'ponta', 'semifinalista', 'copa', 'brasil', 'estigma', 'treinador', 'nao', 'conseguir', 'campeao', 'tirou', 'tricolor', 'paulista', 'rota', 'conquistas', 'equipe', 'acabou', 'entregando', 'brasileiro', 'diniz', 'demitido', 'termino', 'torneio', 'copa', 'brasil', 'equipe', 'atropelou', 'flamengo', 'timesensacao', 'pais', 'acabou', 'campeao', 'brasileiro', 'novamente', 'ficou', 'gremio', 'fracasso', 'diniz', 'passou', 'santos', 'vasco', 'sucesso', ' ', 'vitorias', ' ', 'jogos', 'clubes', 'mandei', 'mensagem', 'mario', 'tinha', 'feito', 'discreto', 'relacao', 'relacao', 'mario', 'bittencourt', 'paulo', 'angioni', 'diretor', 'futebol', 'senti', 'coracao', 'hora', 'voltar', 'fluminense', 'contou', 'fernando', 'diniz', 'comecou', 'casamento', 'atual', 'ja', 'vitorioso', 'chegada', 'abril', ' ', 'sao', ' ', 'vitorias', ' ', 'jogos', 'passagem', 'fluminense', 'fernando', 'diniz', 'venceu', ' ', 'partidas', 'disputou', 'resultados', 'batem', 'porta', 'ano', 'passado', 'semifinalista', 'copa', 'brasil', 'colocado', 'campeonato', 'brasileiro', ' ', 'dias', 'fluminense', 'vamostricolores', 'pictwittercomhhmjmscoi', ' ', 'fluminense', 'fc', 'fluminensefc', 'october', '   ', 'temporada', ' ', 'comecou', 'titulo', 'expressao', 'campeonato', 'carioca', 'direito', 'goleada', ' ', ' ', 'arquirrival', 'flamengo', 'chegou', 'chance', 'ouro', 'carreira', 'libertadores', 'nao', 'bastasse', 'frente', 'selecao', 'brasileira', 'fernando', 'diniz', 'trazer', 'sonhada', 'taca', ' ', 'anos', 'gloriosa', 'historia', 'fluminense', 'tinha', 'treinador', 'cara', 'clube', 'proprio', 'treinador', 'aponta', 'receita', 'sucesso', 'trabalhamos', 'ano', 'juntos', 'nao', 'sera', 'descartado', 'seguranca', 'viver', 'focado', 'trabalho', 'nao', 'resultado', 'componente', 'incerteza', 'vida', 'time', 'nao', 'estao', 'merce', 'resultado', 'estamos', 'preparados', 'alma', 'pensamos', 'ano', 'passado', 'revelou', 'fernando', 'diniz', 'entao', 'fracassado', 'chegar', 'gloria', 'eterna', 'hora', '  ', 'conteudo', 'criado', 'originalmente', 'itatiaia', 'versao', 'original']\n"
     ]
    }
   ],
   "source": [
    "token2 = []\n",
    "for i in token_text2:\n",
    "    temp = []\n",
    "    for token in i:\n",
    "        if token not in stop:\n",
    "            temp.append(token)\n",
    "    token2.append(temp)\n",
    "print(token2[0])"
   ]
  },
  {
   "cell_type": "code",
   "execution_count": 215,
   "id": "d27c4e58-2245-4435-827e-de0480f6fd41",
   "metadata": {},
   "outputs": [
    {
     "data": {
      "text/html": [
       "<div>\n",
       "<style scoped>\n",
       "    .dataframe tbody tr th:only-of-type {\n",
       "        vertical-align: middle;\n",
       "    }\n",
       "\n",
       "    .dataframe tbody tr th {\n",
       "        vertical-align: top;\n",
       "    }\n",
       "\n",
       "    .dataframe thead th {\n",
       "        text-align: right;\n",
       "    }\n",
       "</style>\n",
       "<table border=\"1\" class=\"dataframe\">\n",
       "  <thead>\n",
       "    <tr style=\"text-align: right;\">\n",
       "      <th></th>\n",
       "      <th>titulo</th>\n",
       "      <th>texto</th>\n",
       "      <th>link</th>\n",
       "      <th>resumo</th>\n",
       "      <th>categoria</th>\n",
       "      <th>data_hora</th>\n",
       "    </tr>\n",
       "  </thead>\n",
       "  <tbody>\n",
       "    <tr>\n",
       "      <th>0</th>\n",
       "      <td>Veja a trajetória de Fernando Diniz, em busca ...</td>\n",
       "      <td>[treinador, badalado, time, jogar, cara, ferna...</td>\n",
       "      <td>https://www.cnnbrasil.com.br/esportes/veja-a-t...</td>\n",
       "      <td>Técnico tricolor e da Seleção Brasileira tem a...</td>\n",
       "      <td>esportes</td>\n",
       "      <td>2023-11-04 12:26:18</td>\n",
       "    </tr>\n",
       "    <tr>\n",
       "      <th>1</th>\n",
       "      <td>Santos tem chances remotas de jogar a Copa do ...</td>\n",
       "      <td>[santos, chances, disputar, copa, brasil,  , a...</td>\n",
       "      <td>https://www.cnnbrasil.com.br/esportes/santos-t...</td>\n",
       "      <td>Peixe precisaria ser o melhor time fora da zon...</td>\n",
       "      <td>esportes</td>\n",
       "      <td>2023-11-16 18:59:30</td>\n",
       "    </tr>\n",
       "  </tbody>\n",
       "</table>\n",
       "</div>"
      ],
      "text/plain": [
       "                                              titulo  \\\n",
       "0  Veja a trajetória de Fernando Diniz, em busca ...   \n",
       "1  Santos tem chances remotas de jogar a Copa do ...   \n",
       "\n",
       "                                               texto  \\\n",
       "0  [treinador, badalado, time, jogar, cara, ferna...   \n",
       "1  [santos, chances, disputar, copa, brasil,  , a...   \n",
       "\n",
       "                                                link  \\\n",
       "0  https://www.cnnbrasil.com.br/esportes/veja-a-t...   \n",
       "1  https://www.cnnbrasil.com.br/esportes/santos-t...   \n",
       "\n",
       "                                              resumo categoria  \\\n",
       "0  Técnico tricolor e da Seleção Brasileira tem a...  esportes   \n",
       "1  Peixe precisaria ser o melhor time fora da zon...  esportes   \n",
       "\n",
       "             data_hora  \n",
       "0  2023-11-04 12:26:18  \n",
       "1  2023-11-16 18:59:30  "
      ]
     },
     "execution_count": 215,
     "metadata": {},
     "output_type": "execute_result"
    }
   ],
   "source": [
    "df_balanceado2['texto'] = token2\n",
    "df_balanceado2.head(2)"
   ]
  },
  {
   "cell_type": "markdown",
   "id": "c1f6e2fe-05bf-4c48-8d6d-94f5613ed4b1",
   "metadata": {},
   "source": [
    "### Gensim"
   ]
  },
  {
   "cell_type": "code",
   "execution_count": 222,
   "id": "38d05539-7c13-486f-b276-f18e0c4ac150",
   "metadata": {},
   "outputs": [],
   "source": [
    "from gensim.utils import simple_preprocess\n",
    "from gensim.utils import tokenize\n",
    "\n",
    "for i in range(len(text3)):\n",
    "    text3[i] = text3[i].lower()"
   ]
  },
  {
   "cell_type": "code",
   "execution_count": 223,
   "id": "64afdd30-8678-43ff-ab9a-c5df93648f7e",
   "metadata": {},
   "outputs": [],
   "source": [
    "from unidecode import unidecode\n",
    "\n",
    "for i in range(len(text3)):\n",
    "    text3[i] = unidecode(text3[i])"
   ]
  },
  {
   "cell_type": "code",
   "execution_count": 224,
   "id": "5992355b-e4d7-4ea3-b049-13e41b38638b",
   "metadata": {},
   "outputs": [],
   "source": [
    "for i in range(len(text3)):\n",
    "   text3[i] = re.sub(r'[^a-zA-Z\\s]', \"\" ,text3[i])"
   ]
  },
  {
   "cell_type": "code",
   "execution_count": 228,
   "id": "a0a2d4d1-638d-49dc-bd22-55c5af1056a0",
   "metadata": {},
   "outputs": [
    {
     "data": {
      "text/plain": [
       "'se tem um treinador que sempre foi badalado pela forma como faz seu time jogar este cara e fernando diniz e o comandante do fluminense tem a chance de chegar ao apice da carreira neste sabado  a partir das h de brasilia quando decide a copa libertadores contra o boca juniorsarg no maracana rumo a gloria eterna e sua gloria pessoal considerado ha alguns anos um dos melhores  senao o melhor  tecnico do futebol brasileiro fernando diniz sempre esbarra na desconfianca que o persegue uma desconfianca resultadista afinal como pode um treinador tao elogiado ter apenas um campeonato carioca  na bagagem titulos de expressao e diniz ate entao pareciam nao combinar  leia mais  certo e que a final da copa libertadores ja vai alcar o tecnico a outro patamar mesmo sendo interino na selecao brasileira conquistar o maior torneio de clubes da america do sul tera um valor inestimavel alem de entrar na galeria da fama do fluminense o treinador tricolor dara uma resposta aos criticos diniz pode enfim atingir seu ponto maximo a chance de conquistar a america veio no clube que ja lhe havia aberto as portas em  foi no fluminense a primeira grande chance de diniz como tecnico de elite naquele ano futebol vistoso e pouco vitorioso resultados aquem do esperado nada de tacas uma demissao na conta mas o que esperar do tecnico diferenciado para a grande midia mas por vezes visto como fracassado pelo grande publico fernando diniz trabalha bem a parte mental de seus comandados o que acontecer vai modificar a forma como todos enxergam o mais importante e como eu me enxergo nao estou a merce da bola que vai entrar ou nao se fosse ja estaria mais ansioso demorei muito tempo e luto ate hoje para minha vida nao ser determinada por uma bola que entra ou nao comentou o treinador psicologo de formacao fernando diniz teve uma carreira interessante como atacante passou por gigantes do futebol brasileiro jogou no proprio fluminense jogou por flamengo palmeiras corinthians santos e cruzeiro teve mais destaque em alguns do que em outros mas foi como treinador que os olhos voltaram para ele seu comeco foi no modesto votoraty do interior de sao paulo ali na verdade foi sua primeira conquista em  sua equipe foi avassaladora na copa paulista e faturou o inedito trofeu junto com a vaga na copa do brasil do ano seguinte a campanha em casa foi o grande destaque dez vitorias e tres empates na final um sonoro  a  diante do paulista de jundiai o treinador levou o votoraty para a segunda fase da competicao nacional em  a equipe passou por cima do trezepb mas encontrou logo de cara o gremio e deu adeus ao sonho de surpreender o brasil depois rodou por clubes pequenos ate se firmar de vez para o cenario nacional depois do votoraty diniz ainda caminhou por paulista atletico sorocabasp e botafogosp em  ele teve o seu primeiro contato com o clube de osasco apos uma outra breve passagem pelo parana clube o treinador retornou em  para fazer historia a modesta equipe paulista surpreendeu o brasil e chegou ate a final do campeonato paulista e o caminho do audax de fernando diniz foi dificil com um time envolvente e com uma campanha historica a equipe simplesmente atropelou o sao paulo nas quartas de final por  a  e depois eliminou dentro de itaquera o corinthians naquele time nomes como sidao tche tche e ytalo fizeram sucesso em outros clubes na grande decisao o osasco conseguiu um empate e teve uma dolorosa derrota por  a  para o santos estava encerrado o sonho do audax e de diniz mas a historia estava feita e o treinador foi apresentado de vez ao futebol brasileiro no segundo semestre comandou o oeste na serie b do campeonato brasileiro e evitou o rebaixamento da equipe de itapolis foi em  no athleticopr e  no fluminense que fernando diniz comecou a ser questionado apesar do bom futebol e de revelar jogadores aos montes seus times deviam resultado nos dois casos o tecnico deixou as respectivas equipes na zona de rebaixamento no campeonato brasileiro no furacao inclusive sua saida deu espaco para tiago nunes o treinador pegou o trabalho de diniz e conquistou em dois anos a copa sulamericana e a copa do brasil diniz e o cara mais criativo que vi em termos profissionais intuitivo com uma capacidade unica de cativar as pessoas consegue engajar criar aderencia dos jogadores e profissionais a sua volta tem uma capacidade unica e extraordinaria infelizmente nao ganhou titulo ainda e isso acaba pesando merece por toda a trajetoria que tem no futebol e crenca no modelo de futebol que ele aplica so ele aplica e um jogo autoral e dele nunca vi ele falando que seu jogo e melhor ou pior que os outros falou tiago nunes mesmo demitido do fluminense com a equipe entre as ultimas colocadas do brasileiro fernando diniz assumiu um sao paulo em crise no primeiro ano confirmou a vaga para a copa libertadores de  e teve a maior chance de ser campeao na carreira ate entao em  o sao paulo liderou o campeonato brasileiro de ponta a ponta foi semifinalista da copa do brasil mas para muitos o estigma do treinador em nao conseguir ser campeao tirou o tricolor paulista da rota das conquistas a equipe acabou entregando o brasileiro e diniz foi demitido antes mesmo do termino do torneio na copa do brasil sua equipe atropelou o flamengo que era o timesensacao do pais e que acabou campeao brasileiro novamente mas ficou pelo caminho contra o gremio depois do novo fracasso diniz passou por santos e vasco sem sucesso foram apenas  vitorias em  jogos pelos dois clubes mandei uma mensagem para ele mario nunca tinha feito isso sou muito discreto em relacao a isso mas sempre tive uma relacao muito boa com o mario bittencourt e o paulo angioni diretor de futebol e senti no meu coracao que era hora de voltar ao fluminense contou fernando diniz e foi assim que comecou o casamento atual ja vitorioso desde sua chegada em abril de  sao  vitorias em  jogos nesta segunda passagem pelo fluminense fernando diniz venceu  das partidas que disputou e os resultados batem a porta no ano passado foi semifinalista da copa do brasil e o colocado no campeonato brasileiro  dias fluminense vamostricolores pictwittercomhhmjmscoi  fluminense fc fluminensefc october    a temporada  comecou com seu primeiro titulo de expressao o campeonato carioca com direito a goleada de  a  sobre o arquirrival flamengo na final agora chegou a chance de ouro da carreira com esta final de libertadores nao bastasse isso esta a frente da selecao brasileira fernando diniz pode trazer a sonhada taca em  anos da gloriosa historia do fluminense e tinha que ser com o treinador que mais tem a cara do clube o proprio treinador aponta a receita do sucesso trabalhamos um ano e meio juntos para estar aqui isso tudo nao sera descartado a seguranca para viver bem e que sou focado no trabalho e nao apenas no resultado que tem um componente de incerteza minha vida e do nosso time nao estao a merce do resultado estamos preparados de alma pensamos nessa final desde o ano passado revelou esse e fernando diniz o entao fracassado por muitos que pode chegar a gloria eterna em seu tempo em sua hora   este conteudo foi criado originalmente em itatiaia versao original'"
      ]
     },
     "execution_count": 228,
     "metadata": {},
     "output_type": "execute_result"
    }
   ],
   "source": [
    "text3[0]"
   ]
  },
  {
   "cell_type": "code",
   "execution_count": 232,
   "id": "f35b9bfe-f1fb-47e4-b615-ced2fa0cf568",
   "metadata": {},
   "outputs": [
    {
     "name": "stdout",
     "output_type": "stream",
     "text": [
      "['se', 'tem', 'um', 'treinador', 'que', 'sempre', 'foi', 'badalado', 'pela', 'forma', 'como', 'faz', 'seu', 'time', 'jogar', 'este', 'cara', 'e', 'fernando', 'diniz', 'e', 'o', 'comandante', 'do', 'fluminense', 'tem', 'a', 'chance', 'de', 'chegar', 'ao', 'apice', 'da', 'carreira', 'neste', 'sabado', 'a', 'partir', 'das', 'h', 'de', 'brasilia', 'quando', 'decide', 'a', 'copa', 'libertadores', 'contra', 'o', 'boca', 'juniorsarg', 'no', 'maracana', 'rumo', 'a', 'gloria', 'eterna', 'e', 'sua', 'gloria', 'pessoal', 'considerado', 'ha', 'alguns', 'anos', 'um', 'dos', 'melhores', 'senao', 'o', 'melhor', 'tecnico', 'do', 'futebol', 'brasileiro', 'fernando', 'diniz', 'sempre', 'esbarra', 'na', 'desconfianca', 'que', 'o', 'persegue', 'uma', 'desconfianca', 'resultadista', 'afinal', 'como', 'pode', 'um', 'treinador', 'tao', 'elogiado', 'ter', 'apenas', 'um', 'campeonato', 'carioca', 'na', 'bagagem', 'titulos', 'de', 'expressao', 'e', 'diniz', 'ate', 'entao', 'pareciam', 'nao', 'combinar', 'leia', 'mais', 'certo', 'e', 'que', 'a', 'final', 'da', 'copa', 'libertadores', 'ja', 'vai', 'alcar', 'o', 'tecnico', 'a', 'outro', 'patamar', 'mesmo', 'sendo', 'interino', 'na', 'selecao', 'brasileira', 'conquistar', 'o', 'maior', 'torneio', 'de', 'clubes', 'da', 'america', 'do', 'sul', 'tera', 'um', 'valor', 'inestimavel', 'alem', 'de', 'entrar', 'na', 'galeria', 'da', 'fama', 'do', 'fluminense', 'o', 'treinador', 'tricolor', 'dara', 'uma', 'resposta', 'aos', 'criticos', 'diniz', 'pode', 'enfim', 'atingir', 'seu', 'ponto', 'maximo', 'a', 'chance', 'de', 'conquistar', 'a', 'america', 'veio', 'no', 'clube', 'que', 'ja', 'lhe', 'havia', 'aberto', 'as', 'portas', 'em', 'foi', 'no', 'fluminense', 'a', 'primeira', 'grande', 'chance', 'de', 'diniz', 'como', 'tecnico', 'de', 'elite', 'naquele', 'ano', 'futebol', 'vistoso', 'e', 'pouco', 'vitorioso', 'resultados', 'aquem', 'do', 'esperado', 'nada', 'de', 'tacas', 'uma', 'demissao', 'na', 'conta', 'mas', 'o', 'que', 'esperar', 'do', 'tecnico', 'diferenciado', 'para', 'a', 'grande', 'midia', 'mas', 'por', 'vezes', 'visto', 'como', 'fracassado', 'pelo', 'grande', 'publico', 'fernando', 'diniz', 'trabalha', 'bem', 'a', 'parte', 'mental', 'de', 'seus', 'comandados', 'o', 'que', 'acontecer', 'vai', 'modificar', 'a', 'forma', 'como', 'todos', 'enxergam', 'o', 'mais', 'importante', 'e', 'como', 'eu', 'me', 'enxergo', 'nao', 'estou', 'a', 'merce', 'da', 'bola', 'que', 'vai', 'entrar', 'ou', 'nao', 'se', 'fosse', 'ja', 'estaria', 'mais', 'ansioso', 'demorei', 'muito', 'tempo', 'e', 'luto', 'ate', 'hoje', 'para', 'minha', 'vida', 'nao', 'ser', 'determinada', 'por', 'uma', 'bola', 'que', 'entra', 'ou', 'nao', 'comentou', 'o', 'treinador', 'psicologo', 'de', 'formacao', 'fernando', 'diniz', 'teve', 'uma', 'carreira', 'interessante', 'como', 'atacante', 'passou', 'por', 'gigantes', 'do', 'futebol', 'brasileiro', 'jogou', 'no', 'proprio', 'fluminense', 'jogou', 'por', 'flamengo', 'palmeiras', 'corinthians', 'santos', 'e', 'cruzeiro', 'teve', 'mais', 'destaque', 'em', 'alguns', 'do', 'que', 'em', 'outros', 'mas', 'foi', 'como', 'treinador', 'que', 'os', 'olhos', 'voltaram', 'para', 'ele', 'seu', 'comeco', 'foi', 'no', 'modesto', 'votoraty', 'do', 'interior', 'de', 'sao', 'paulo', 'ali', 'na', 'verdade', 'foi', 'sua', 'primeira', 'conquista', 'em', 'sua', 'equipe', 'foi', 'avassaladora', 'na', 'copa', 'paulista', 'e', 'faturou', 'o', 'inedito', 'trofeu', 'junto', 'com', 'a', 'vaga', 'na', 'copa', 'do', 'brasil', 'do', 'ano', 'seguinte', 'a', 'campanha', 'em', 'casa', 'foi', 'o', 'grande', 'destaque', 'dez', 'vitorias', 'e', 'tres', 'empates', 'na', 'final', 'um', 'sonoro', 'a', 'diante', 'do', 'paulista', 'de', 'jundiai', 'o', 'treinador', 'levou', 'o', 'votoraty', 'para', 'a', 'segunda', 'fase', 'da', 'competicao', 'nacional', 'em', 'a', 'equipe', 'passou', 'por', 'cima', 'do', 'trezepb', 'mas', 'encontrou', 'logo', 'de', 'cara', 'o', 'gremio', 'e', 'deu', 'adeus', 'ao', 'sonho', 'de', 'surpreender', 'o', 'brasil', 'depois', 'rodou', 'por', 'clubes', 'pequenos', 'ate', 'se', 'firmar', 'de', 'vez', 'para', 'o', 'cenario', 'nacional', 'depois', 'do', 'votoraty', 'diniz', 'ainda', 'caminhou', 'por', 'paulista', 'atletico', 'sorocabasp', 'e', 'botafogosp', 'em', 'ele', 'teve', 'o', 'seu', 'primeiro', 'contato', 'com', 'o', 'clube', 'de', 'osasco', 'apos', 'uma', 'outra', 'breve', 'passagem', 'pelo', 'parana', 'clube', 'o', 'treinador', 'retornou', 'em', 'para', 'fazer', 'historia', 'a', 'modesta', 'equipe', 'paulista', 'surpreendeu', 'o', 'brasil', 'e', 'chegou', 'ate', 'a', 'final', 'do', 'campeonato', 'paulista', 'e', 'o', 'caminho', 'do', 'audax', 'de', 'fernando', 'diniz', 'foi', 'dificil', 'com', 'um', 'time', 'envolvente', 'e', 'com', 'uma', 'campanha', 'historica', 'a', 'equipe', 'simplesmente', 'atropelou', 'o', 'sao', 'paulo', 'nas', 'quartas', 'de', 'final', 'por', 'a', 'e', 'depois', 'eliminou', 'dentro', 'de', 'itaquera', 'o', 'corinthians', 'naquele', 'time', 'nomes', 'como', 'sidao', 'tche', 'tche', 'e', 'ytalo', 'fizeram', 'sucesso', 'em', 'outros', 'clubes', 'na', 'grande', 'decisao', 'o', 'osasco', 'conseguiu', 'um', 'empate', 'e', 'teve', 'uma', 'dolorosa', 'derrota', 'por', 'a', 'para', 'o', 'santos', 'estava', 'encerrado', 'o', 'sonho', 'do', 'audax', 'e', 'de', 'diniz', 'mas', 'a', 'historia', 'estava', 'feita', 'e', 'o', 'treinador', 'foi', 'apresentado', 'de', 'vez', 'ao', 'futebol', 'brasileiro', 'no', 'segundo', 'semestre', 'comandou', 'o', 'oeste', 'na', 'serie', 'b', 'do', 'campeonato', 'brasileiro', 'e', 'evitou', 'o', 'rebaixamento', 'da', 'equipe', 'de', 'itapolis', 'foi', 'em', 'no', 'athleticopr', 'e', 'no', 'fluminense', 'que', 'fernando', 'diniz', 'comecou', 'a', 'ser', 'questionado', 'apesar', 'do', 'bom', 'futebol', 'e', 'de', 'revelar', 'jogadores', 'aos', 'montes', 'seus', 'times', 'deviam', 'resultado', 'nos', 'dois', 'casos', 'o', 'tecnico', 'deixou', 'as', 'respectivas', 'equipes', 'na', 'zona', 'de', 'rebaixamento', 'no', 'campeonato', 'brasileiro', 'no', 'furacao', 'inclusive', 'sua', 'saida', 'deu', 'espaco', 'para', 'tiago', 'nunes', 'o', 'treinador', 'pegou', 'o', 'trabalho', 'de', 'diniz', 'e', 'conquistou', 'em', 'dois', 'anos', 'a', 'copa', 'sulamericana', 'e', 'a', 'copa', 'do', 'brasil', 'diniz', 'e', 'o', 'cara', 'mais', 'criativo', 'que', 'vi', 'em', 'termos', 'profissionais', 'intuitivo', 'com', 'uma', 'capacidade', 'unica', 'de', 'cativar', 'as', 'pessoas', 'consegue', 'engajar', 'criar', 'aderencia', 'dos', 'jogadores', 'e', 'profissionais', 'a', 'sua', 'volta', 'tem', 'uma', 'capacidade', 'unica', 'e', 'extraordinaria', 'infelizmente', 'nao', 'ganhou', 'titulo', 'ainda', 'e', 'isso', 'acaba', 'pesando', 'merece', 'por', 'toda', 'a', 'trajetoria', 'que', 'tem', 'no', 'futebol', 'e', 'crenca', 'no', 'modelo', 'de', 'futebol', 'que', 'ele', 'aplica', 'so', 'ele', 'aplica', 'e', 'um', 'jogo', 'autoral', 'e', 'dele', 'nunca', 'vi', 'ele', 'falando', 'que', 'seu', 'jogo', 'e', 'melhor', 'ou', 'pior', 'que', 'os', 'outros', 'falou', 'tiago', 'nunes', 'mesmo', 'demitido', 'do', 'fluminense', 'com', 'a', 'equipe', 'entre', 'as', 'ultimas', 'colocadas', 'do', 'brasileiro', 'fernando', 'diniz', 'assumiu', 'um', 'sao', 'paulo', 'em', 'crise', 'no', 'primeiro', 'ano', 'confirmou', 'a', 'vaga', 'para', 'a', 'copa', 'libertadores', 'de', 'e', 'teve', 'a', 'maior', 'chance', 'de', 'ser', 'campeao', 'na', 'carreira', 'ate', 'entao', 'em', 'o', 'sao', 'paulo', 'liderou', 'o', 'campeonato', 'brasileiro', 'de', 'ponta', 'a', 'ponta', 'foi', 'semifinalista', 'da', 'copa', 'do', 'brasil', 'mas', 'para', 'muitos', 'o', 'estigma', 'do', 'treinador', 'em', 'nao', 'conseguir', 'ser', 'campeao', 'tirou', 'o', 'tricolor', 'paulista', 'da', 'rota', 'das', 'conquistas', 'a', 'equipe', 'acabou', 'entregando', 'o', 'brasileiro', 'e', 'diniz', 'foi', 'demitido', 'antes', 'mesmo', 'do', 'termino', 'do', 'torneio', 'na', 'copa', 'do', 'brasil', 'sua', 'equipe', 'atropelou', 'o', 'flamengo', 'que', 'era', 'o', 'timesensacao', 'do', 'pais', 'e', 'que', 'acabou', 'campeao', 'brasileiro', 'novamente', 'mas', 'ficou', 'pelo', 'caminho', 'contra', 'o', 'gremio', 'depois', 'do', 'novo', 'fracasso', 'diniz', 'passou', 'por', 'santos', 'e', 'vasco', 'sem', 'sucesso', 'foram', 'apenas', 'vitorias', 'em', 'jogos', 'pelos', 'dois', 'clubes', 'mandei', 'uma', 'mensagem', 'para', 'ele', 'mario', 'nunca', 'tinha', 'feito', 'isso', 'sou', 'muito', 'discreto', 'em', 'relacao', 'a', 'isso', 'mas', 'sempre', 'tive', 'uma', 'relacao', 'muito', 'boa', 'com', 'o', 'mario', 'bittencourt', 'e', 'o', 'paulo', 'angioni', 'diretor', 'de', 'futebol', 'e', 'senti', 'no', 'meu', 'coracao', 'que', 'era', 'hora', 'de', 'voltar', 'ao', 'fluminense', 'contou', 'fernando', 'diniz', 'e', 'foi', 'assim', 'que', 'comecou', 'o', 'casamento', 'atual', 'ja', 'vitorioso', 'desde', 'sua', 'chegada', 'em', 'abril', 'de', 'sao', 'vitorias', 'em', 'jogos', 'nesta', 'segunda', 'passagem', 'pelo', 'fluminense', 'fernando', 'diniz', 'venceu', 'das', 'partidas', 'que', 'disputou', 'e', 'os', 'resultados', 'batem', 'a', 'porta', 'no', 'ano', 'passado', 'foi', 'semifinalista', 'da', 'copa', 'do', 'brasil', 'e', 'o', 'colocado', 'no', 'campeonato', 'brasileiro', 'dias', 'fluminense', 'vamostricolores', 'pictwittercomhhmjmscoi', 'fluminense', 'fc', 'fluminensefc', 'october', 'a', 'temporada', 'comecou', 'com', 'seu', 'primeiro', 'titulo', 'de', 'expressao', 'o', 'campeonato', 'carioca', 'com', 'direito', 'a', 'goleada', 'de', 'a', 'sobre', 'o', 'arquirrival', 'flamengo', 'na', 'final', 'agora', 'chegou', 'a', 'chance', 'de', 'ouro', 'da', 'carreira', 'com', 'esta', 'final', 'de', 'libertadores', 'nao', 'bastasse', 'isso', 'esta', 'a', 'frente', 'da', 'selecao', 'brasileira', 'fernando', 'diniz', 'pode', 'trazer', 'a', 'sonhada', 'taca', 'em', 'anos', 'da', 'gloriosa', 'historia', 'do', 'fluminense', 'e', 'tinha', 'que', 'ser', 'com', 'o', 'treinador', 'que', 'mais', 'tem', 'a', 'cara', 'do', 'clube', 'o', 'proprio', 'treinador', 'aponta', 'a', 'receita', 'do', 'sucesso', 'trabalhamos', 'um', 'ano', 'e', 'meio', 'juntos', 'para', 'estar', 'aqui', 'isso', 'tudo', 'nao', 'sera', 'descartado', 'a', 'seguranca', 'para', 'viver', 'bem', 'e', 'que', 'sou', 'focado', 'no', 'trabalho', 'e', 'nao', 'apenas', 'no', 'resultado', 'que', 'tem', 'um', 'componente', 'de', 'incerteza', 'minha', 'vida', 'e', 'do', 'nosso', 'time', 'nao', 'estao', 'a', 'merce', 'do', 'resultado', 'estamos', 'preparados', 'de', 'alma', 'pensamos', 'nessa', 'final', 'desde', 'o', 'ano', 'passado', 'revelou', 'esse', 'e', 'fernando', 'diniz', 'o', 'entao', 'fracassado', 'por', 'muitos', 'que', 'pode', 'chegar', 'a', 'gloria', 'eterna', 'em', 'seu', 'tempo', 'em', 'sua', 'hora', 'este', 'conteudo', 'foi', 'criado', 'originalmente', 'em', 'itatiaia', 'versao', 'original']\n"
     ]
    }
   ],
   "source": [
    "tokens3 = []\n",
    "\n",
    "for i in range(len(text3)):\n",
    "    tokens3.append(list(tokenize(text3[i])))\n",
    "\n",
    "print(tokens3[0])"
   ]
  },
  {
   "cell_type": "code",
   "execution_count": 238,
   "id": "28901743-c714-481c-bc4c-10e070ffac97",
   "metadata": {},
   "outputs": [
    {
     "name": "stdout",
     "output_type": "stream",
     "text": [
      "['a', 'à', 'adeus', 'agora', 'aí', 'ainda', 'além', 'algo', 'alguém', 'algum', 'alguma', 'algumas', 'alguns', 'ali', 'ampla', 'amplas', 'amplo', 'amplos', 'ano', 'anos', 'ante', 'antes', 'ao', 'aos', 'apenas', 'apoio', 'após', 'aquela', 'aquelas', 'aquele', 'aqueles', 'aqui', 'aquilo', 'área', 'as', 'às', 'assim', 'até', 'atrás', 'através', 'baixo', 'bastante', 'bem', 'boa', 'boas', 'bom', 'bons', 'breve', 'cá', 'cada', 'catorze', 'cedo', 'cento', 'certamente', 'certeza', 'cima', 'cinco', 'coisa', 'coisas', 'com', 'como', 'conselho', 'contra', 'contudo', 'custa', 'da', 'dá', 'dão', 'daquela', 'daquelas', 'daquele', 'daqueles', 'dar', 'das', 'de', 'debaixo', 'dela', 'delas', 'dele', 'deles', 'demais', 'dentro', 'depois', 'desde', 'dessa', 'dessas', 'desse', 'desses', 'desta', 'destas', 'deste', 'destes', 'deve', 'devem', 'devendo', 'dever', 'deverá', 'deverão', 'deveria', 'deveriam', 'devia', 'deviam', 'dez', 'dezanove', 'dezasseis', 'dezassete', 'dezoito', 'dia', 'diante', 'disse', 'disso', 'disto', 'dito', 'diz', 'dizem', 'dizer', 'do', 'dois', 'dos', 'doze', 'duas', 'dúvida', 'e', 'é', 'ela', 'elas', 'ele', 'eles', 'em', 'embora', 'enquanto', 'entre', 'era', 'eram', 'éramos', 'és', 'essa', 'essas', 'esse', 'esses', 'esta', 'está', 'estamos', 'estão', 'estar', 'estas', 'estás', 'estava', 'estavam', 'estávamos', 'este', 'esteja', 'estejam', 'estejamos', 'estes', 'esteve', 'estive', 'estivemos', 'estiver', 'estivera', 'estiveram', 'estivéramos', 'estiverem', 'estivermos', 'estivesse', 'estivessem', 'estivéssemos', 'estiveste', 'estivestes', 'estou', 'etc', 'eu', 'exemplo', 'faço', 'falta', 'favor', 'faz', 'fazeis', 'fazem', 'fazemos', 'fazendo', 'fazer', 'fazes', 'feita', 'feitas', 'feito', 'feitos', 'fez', 'fim', 'final', 'foi', 'fomos', 'for', 'fora', 'foram', 'fôramos', 'forem', 'forma', 'formos', 'fosse', 'fossem', 'fôssemos', 'foste', 'fostes', 'fui', 'geral', 'grande', 'grandes', 'grupo', 'há', 'haja', 'hajam', 'hajamos', 'hão', 'havemos', 'havia', 'hei', 'hoje', 'hora', 'horas', 'houve', 'houvemos', 'houver', 'houvera', 'houverá', 'houveram', 'houvéramos', 'houverão', 'houverei', 'houverem', 'houveremos', 'houveria', 'houveriam', 'houveríamos', 'houvermos', 'houvesse', 'houvessem', 'houvéssemos', 'isso', 'isto', 'já', 'la', 'lá', 'lado', 'lhe', 'lhes', 'lo', 'local', 'logo', 'longe', 'lugar', 'maior', 'maioria', 'mais', 'mal', 'mas', 'máximo', 'me', 'meio', 'menor', 'menos', 'mês', 'meses', 'mesma', 'mesmas', 'mesmo', 'mesmos', 'meu', 'meus', 'mil', 'minha', 'minhas', 'momento', 'muita', 'muitas', 'muito', 'muitos', 'na', 'nada', 'não', 'naquela', 'naquelas', 'naquele', 'naqueles', 'nas', 'nem', 'nenhum', 'nenhuma', 'nessa', 'nessas', 'nesse', 'nesses', 'nesta', 'nestas', 'neste', 'nestes', 'ninguém', 'nível', 'no', 'noite', 'nome', 'nos', 'nós', 'nossa', 'nossas', 'nosso', 'nossos', 'nova', 'novas', 'nove', 'novo', 'novos', 'num', 'numa', 'número', 'nunca', 'o', 'obra', 'obrigada', 'obrigado', 'oitava', 'oitavo', 'oito', 'onde', 'ontem', 'onze', 'os', 'ou', 'outra', 'outras', 'outro', 'outros', 'para', 'parece', 'parte', 'partir', 'paucas', 'pela', 'pelas', 'pelo', 'pelos', 'pequena', 'pequenas', 'pequeno', 'pequenos', 'per', 'perante', 'perto', 'pode', 'pude', 'pôde', 'podem', 'podendo', 'poder', 'poderia', 'poderiam', 'podia', 'podiam', 'põe', 'põem', 'pois', 'ponto', 'pontos', 'por', 'porém', 'porque', 'porquê', 'posição', 'possível', 'possivelmente', 'posso', 'pouca', 'poucas', 'pouco', 'poucos', 'primeira', 'primeiras', 'primeiro', 'primeiros', 'própria', 'próprias', 'próprio', 'próprios', 'próxima', 'próximas', 'próximo', 'próximos', 'pude', 'puderam', 'quais', 'quáis', 'qual', 'quando', 'quanto', 'quantos', 'quarta', 'quarto', 'quatro', 'que', 'quê', 'quem', 'quer', 'quereis', 'querem', 'queremas', 'queres', 'quero', 'questão', 'quinta', 'quinto', 'quinze', 'relação', 'sabe', 'sabem', 'são', 'se', 'segunda', 'segundo', 'sei', 'seis', 'seja', 'sejam', 'sejamos', 'sem', 'sempre', 'sendo', 'ser', 'será', 'serão', 'serei', 'seremos', 'seria', 'seriam', 'seríamos', 'sete', 'sétima', 'sétimo', 'seu', 'seus', 'sexta', 'sexto', 'si', 'sido', 'sim', 'sistema', 'só', 'sob', 'sobre', 'sois', 'somos', 'sou', 'sua', 'suas', 'tal', 'talvez', 'também', 'tampouco', 'tanta', 'tantas', 'tanto', 'tão', 'tarde', 'te', 'tem', 'tém', 'têm', 'temos', 'tendes', 'tendo', 'tenha', 'tenham', 'tenhamos', 'tenho', 'tens', 'ter', 'terá', 'terão', 'terceira', 'terceiro', 'terei', 'teremos', 'teria', 'teriam', 'teríamos', 'teu', 'teus', 'teve', 'ti', 'tido', 'tinha', 'tinham', 'tínhamos', 'tive', 'tivemos', 'tiver', 'tivera', 'tiveram', 'tivéramos', 'tiverem', 'tivermos', 'tivesse', 'tivessem', 'tivéssemos', 'tiveste', 'tivestes', 'toda', 'todas', 'todavia', 'todo', 'todos', 'trabalho', 'três', 'treze', 'tu', 'tua', 'tuas', 'tudo', 'última', 'últimas', 'último', 'últimos', 'um', 'uma', 'umas', 'uns', 'vai', 'vais', 'vão', 'vários', 'vem', 'vêm', 'vendo', 'vens', 'ver', 'vez', 'vezes', 'viagem', 'vindo', 'vinte', 'vir', 'você', 'vocês', 'vos', 'vós', 'vossa', 'vossas', 'vosso', 'vossos', 'zero', '1', '2', '3', '4', '5', '6', '7', '8', '9', '0', '_']\n"
     ]
    }
   ],
   "source": [
    "stopwords = [ 'a', 'à', 'adeus', 'agora', 'aí', 'ainda', 'além', 'algo', 'alguém', 'algum', 'alguma', 'algumas', 'alguns', 'ali', 'ampla', 'amplas', 'amplo', 'amplos', 'ano', 'anos', 'ante', 'antes', 'ao', 'aos', 'apenas', 'apoio', 'após', 'aquela', 'aquelas', 'aquele', 'aqueles', 'aqui', 'aquilo', 'área', 'as', 'às', 'assim', 'até', 'atrás', 'através', 'baixo', 'bastante', 'bem', 'boa', 'boas', 'bom', 'bons', 'breve', 'cá', 'cada', 'catorze', 'cedo', 'cento', 'certamente', 'certeza', 'cima', 'cinco', 'coisa', 'coisas', 'com', 'como', 'conselho', 'contra', 'contudo', 'custa', 'da', 'dá', 'dão', 'daquela', 'daquelas', 'daquele', 'daqueles', 'dar', 'das', 'de', 'debaixo', 'dela', 'delas', 'dele', 'deles', 'demais', 'dentro', 'depois', 'desde', 'dessa', 'dessas', 'desse', 'desses', 'desta', 'destas', 'deste', 'destes', 'deve', 'devem', 'devendo', 'dever', 'deverá', 'deverão', 'deveria', 'deveriam', 'devia', 'deviam', 'dez', 'dezanove', 'dezasseis', 'dezassete', 'dezoito', 'dia', 'diante', 'disse', 'disso', 'disto', 'dito', 'diz', 'dizem', 'dizer', 'do', 'dois', 'dos', 'doze', 'duas', 'dúvida', 'e', 'é', 'ela', 'elas', 'ele', 'eles', 'em', 'embora', 'enquanto', 'entre', 'era', 'eram', 'éramos', 'és', 'essa', 'essas', 'esse', 'esses', 'esta', 'está', 'estamos', 'estão', 'estar', 'estas', 'estás', 'estava', 'estavam', 'estávamos', 'este', 'esteja', 'estejam', 'estejamos', 'estes', 'esteve', 'estive', 'estivemos', 'estiver', 'estivera', 'estiveram', 'estivéramos', 'estiverem', 'estivermos', 'estivesse', 'estivessem', 'estivéssemos', 'estiveste', 'estivestes', 'estou', 'etc', 'eu', 'exemplo', 'faço', 'falta', 'favor', 'faz', 'fazeis', 'fazem', 'fazemos', 'fazendo', 'fazer', 'fazes', 'feita', 'feitas', 'feito', 'feitos', 'fez', 'fim', 'final', 'foi', 'fomos', 'for', 'fora', 'foram', 'fôramos', 'forem', 'forma', 'formos', 'fosse', 'fossem', 'fôssemos', 'foste', 'fostes', 'fui', 'geral', 'grande', 'grandes', 'grupo', 'há', 'haja', 'hajam', 'hajamos', 'hão', 'havemos', 'havia', 'hei', 'hoje', 'hora', 'horas', 'houve', 'houvemos', 'houver', 'houvera', 'houverá', 'houveram', 'houvéramos', 'houverão', 'houverei', 'houverem', 'houveremos', 'houveria', 'houveriam', 'houveríamos', 'houvermos', 'houvesse', 'houvessem', 'houvéssemos', 'isso', 'isto', 'já', 'la', 'lá', 'lado', 'lhe', 'lhes', 'lo', 'local', 'logo', 'longe', 'lugar', 'maior', 'maioria', 'mais', 'mal', 'mas', 'máximo', 'me', 'meio', 'menor', 'menos', 'mês', 'meses', 'mesma', 'mesmas', 'mesmo', 'mesmos', 'meu', 'meus', 'mil', 'minha', 'minhas', 'momento', 'muita', 'muitas', 'muito', 'muitos', 'na', 'nada', 'não', 'naquela', 'naquelas', 'naquele', 'naqueles', 'nas', 'nem', 'nenhum', 'nenhuma', 'nessa', 'nessas', 'nesse', 'nesses', 'nesta', 'nestas', 'neste', 'nestes', 'ninguém', 'nível', 'no', 'noite', 'nome', 'nos', 'nós', 'nossa', 'nossas', 'nosso', 'nossos', 'nova', 'novas', 'nove', 'novo', 'novos', 'num', 'numa', 'número', 'nunca', 'o', 'obra', 'obrigada', 'obrigado', 'oitava', 'oitavo', 'oito', 'onde', 'ontem', 'onze', 'os', 'ou', 'outra', 'outras', 'outro', 'outros', 'para', 'parece', 'parte', 'partir', 'paucas', 'pela', 'pelas', 'pelo', 'pelos', 'pequena', 'pequenas', 'pequeno', 'pequenos', 'per', 'perante', 'perto', 'pode', 'pude', 'pôde', 'podem', 'podendo', 'poder', 'poderia', 'poderiam', 'podia', 'podiam', 'põe', 'põem', 'pois', 'ponto', 'pontos', 'por', 'porém', 'porque', 'porquê', 'posição', 'possível', 'possivelmente', 'posso', 'pouca', 'poucas', 'pouco', 'poucos', 'primeira', 'primeiras', 'primeiro', 'primeiros', 'própria', 'próprias', 'próprio', 'próprios', 'próxima', 'próximas', 'próximo', 'próximos', 'pude', 'puderam', 'quais', 'quáis', 'qual', 'quando', 'quanto', 'quantos', 'quarta', 'quarto', 'quatro', 'que', 'quê', 'quem', 'quer', 'quereis', 'querem', 'queremas', 'queres', 'quero', 'questão', 'quinta', 'quinto', 'quinze', 'relação', 'sabe', 'sabem', 'são', 'se', 'segunda', 'segundo', 'sei', 'seis', 'seja', 'sejam', 'sejamos', 'sem', 'sempre', 'sendo', 'ser', 'será', 'serão', 'serei', 'seremos', 'seria', 'seriam', 'seríamos', 'sete', 'sétima', 'sétimo', 'seu', 'seus', 'sexta', 'sexto', 'si', 'sido', 'sim', 'sistema', 'só', 'sob', 'sobre', 'sois', 'somos', 'sou', 'sua', 'suas', 'tal', 'talvez', 'também', 'tampouco', 'tanta', 'tantas', 'tanto', 'tão', 'tarde', 'te', 'tem', 'tém', 'têm', 'temos', 'tendes', 'tendo', 'tenha', 'tenham', 'tenhamos', 'tenho', 'tens', 'ter', 'terá', 'terão', 'terceira', 'terceiro', 'terei', 'teremos', 'teria', 'teriam', 'teríamos', 'teu', 'teus', 'teve', 'ti', 'tido', 'tinha', 'tinham', 'tínhamos', 'tive', 'tivemos', 'tiver', 'tivera', 'tiveram', 'tivéramos', 'tiverem', 'tivermos', 'tivesse', 'tivessem', 'tivéssemos', 'tiveste', 'tivestes', 'toda', 'todas', 'todavia', 'todo', 'todos', 'trabalho', 'três', 'treze', 'tu', 'tua', 'tuas', 'tudo', 'última', 'últimas', 'último', 'últimos', 'um', 'uma', 'umas', 'uns', 'vai', 'vais', 'vão', 'vários', 'vem', 'vêm', 'vendo', 'vens', 'ver', 'vez', 'vezes', 'viagem', 'vindo', 'vinte', 'vir', 'você', 'vocês', 'vos', 'vós', 'vossa', 'vossas', 'vosso', 'vossos', 'zero', '1', '2', '3', '4', '5', '6', '7', '8', '9', '0', '_' ]\n",
    "\n",
    "print(stopwords)"
   ]
  },
  {
   "cell_type": "code",
   "execution_count": 239,
   "id": "4a12cbe8-97ee-42e3-b375-1fe99e609a5b",
   "metadata": {},
   "outputs": [
    {
     "name": "stdout",
     "output_type": "stream",
     "text": [
      "['treinador', 'badalado', 'time', 'jogar', 'cara', 'fernando', 'diniz', 'comandante', 'fluminense', 'chance', 'chegar', 'apice', 'carreira', 'sabado', 'h', 'brasilia', 'decide', 'copa', 'libertadores', 'boca', 'juniorsarg', 'maracana', 'rumo', 'gloria', 'eterna', 'gloria', 'pessoal', 'considerado', 'ha', 'melhores', 'senao', 'melhor', 'tecnico', 'futebol', 'brasileiro', 'fernando', 'diniz', 'esbarra', 'desconfianca', 'persegue', 'desconfianca', 'resultadista', 'afinal', 'treinador', 'tao', 'elogiado', 'campeonato', 'carioca', 'bagagem', 'titulos', 'expressao', 'diniz', 'ate', 'entao', 'pareciam', 'nao', 'combinar', 'leia', 'certo', 'copa', 'libertadores', 'ja', 'alcar', 'tecnico', 'patamar', 'interino', 'selecao', 'brasileira', 'conquistar', 'torneio', 'clubes', 'america', 'sul', 'tera', 'valor', 'inestimavel', 'alem', 'entrar', 'galeria', 'fama', 'fluminense', 'treinador', 'tricolor', 'dara', 'resposta', 'criticos', 'diniz', 'enfim', 'atingir', 'maximo', 'chance', 'conquistar', 'america', 'veio', 'clube', 'ja', 'aberto', 'portas', 'fluminense', 'chance', 'diniz', 'tecnico', 'elite', 'futebol', 'vistoso', 'vitorioso', 'resultados', 'aquem', 'esperado', 'tacas', 'demissao', 'conta', 'esperar', 'tecnico', 'diferenciado', 'midia', 'visto', 'fracassado', 'publico', 'fernando', 'diniz', 'trabalha', 'mental', 'comandados', 'acontecer', 'modificar', 'enxergam', 'importante', 'enxergo', 'nao', 'merce', 'bola', 'entrar', 'nao', 'ja', 'estaria', 'ansioso', 'demorei', 'tempo', 'luto', 'ate', 'vida', 'nao', 'determinada', 'bola', 'entra', 'nao', 'comentou', 'treinador', 'psicologo', 'formacao', 'fernando', 'diniz', 'carreira', 'interessante', 'atacante', 'passou', 'gigantes', 'futebol', 'brasileiro', 'jogou', 'proprio', 'fluminense', 'jogou', 'flamengo', 'palmeiras', 'corinthians', 'santos', 'cruzeiro', 'destaque', 'treinador', 'olhos', 'voltaram', 'comeco', 'modesto', 'votoraty', 'interior', 'sao', 'paulo', 'verdade', 'conquista', 'equipe', 'avassaladora', 'copa', 'paulista', 'faturou', 'inedito', 'trofeu', 'junto', 'vaga', 'copa', 'brasil', 'seguinte', 'campanha', 'casa', 'destaque', 'vitorias', 'tres', 'empates', 'sonoro', 'paulista', 'jundiai', 'treinador', 'levou', 'votoraty', 'fase', 'competicao', 'nacional', 'equipe', 'passou', 'trezepb', 'encontrou', 'cara', 'gremio', 'deu', 'sonho', 'surpreender', 'brasil', 'rodou', 'clubes', 'ate', 'firmar', 'cenario', 'nacional', 'votoraty', 'diniz', 'caminhou', 'paulista', 'atletico', 'sorocabasp', 'botafogosp', 'contato', 'clube', 'osasco', 'apos', 'passagem', 'parana', 'clube', 'treinador', 'retornou', 'historia', 'modesta', 'equipe', 'paulista', 'surpreendeu', 'brasil', 'chegou', 'ate', 'campeonato', 'paulista', 'caminho', 'audax', 'fernando', 'diniz', 'dificil', 'time', 'envolvente', 'campanha', 'historica', 'equipe', 'simplesmente', 'atropelou', 'sao', 'paulo', 'quartas', 'eliminou', 'itaquera', 'corinthians', 'time', 'nomes', 'sidao', 'tche', 'tche', 'ytalo', 'fizeram', 'sucesso', 'clubes', 'decisao', 'osasco', 'conseguiu', 'empate', 'dolorosa', 'derrota', 'santos', 'encerrado', 'sonho', 'audax', 'diniz', 'historia', 'treinador', 'apresentado', 'futebol', 'brasileiro', 'semestre', 'comandou', 'oeste', 'serie', 'b', 'campeonato', 'brasileiro', 'evitou', 'rebaixamento', 'equipe', 'itapolis', 'athleticopr', 'fluminense', 'fernando', 'diniz', 'comecou', 'questionado', 'apesar', 'futebol', 'revelar', 'jogadores', 'montes', 'times', 'resultado', 'casos', 'tecnico', 'deixou', 'respectivas', 'equipes', 'zona', 'rebaixamento', 'campeonato', 'brasileiro', 'furacao', 'inclusive', 'saida', 'deu', 'espaco', 'tiago', 'nunes', 'treinador', 'pegou', 'diniz', 'conquistou', 'copa', 'sulamericana', 'copa', 'brasil', 'diniz', 'cara', 'criativo', 'vi', 'termos', 'profissionais', 'intuitivo', 'capacidade', 'unica', 'cativar', 'pessoas', 'consegue', 'engajar', 'criar', 'aderencia', 'jogadores', 'profissionais', 'volta', 'capacidade', 'unica', 'extraordinaria', 'infelizmente', 'nao', 'ganhou', 'titulo', 'acaba', 'pesando', 'merece', 'trajetoria', 'futebol', 'crenca', 'modelo', 'futebol', 'aplica', 'so', 'aplica', 'jogo', 'autoral', 'vi', 'falando', 'jogo', 'melhor', 'pior', 'falou', 'tiago', 'nunes', 'demitido', 'fluminense', 'equipe', 'ultimas', 'colocadas', 'brasileiro', 'fernando', 'diniz', 'assumiu', 'sao', 'paulo', 'crise', 'confirmou', 'vaga', 'copa', 'libertadores', 'chance', 'campeao', 'carreira', 'ate', 'entao', 'sao', 'paulo', 'liderou', 'campeonato', 'brasileiro', 'ponta', 'ponta', 'semifinalista', 'copa', 'brasil', 'estigma', 'treinador', 'nao', 'conseguir', 'campeao', 'tirou', 'tricolor', 'paulista', 'rota', 'conquistas', 'equipe', 'acabou', 'entregando', 'brasileiro', 'diniz', 'demitido', 'termino', 'torneio', 'copa', 'brasil', 'equipe', 'atropelou', 'flamengo', 'timesensacao', 'pais', 'acabou', 'campeao', 'brasileiro', 'novamente', 'ficou', 'caminho', 'gremio', 'fracasso', 'diniz', 'passou', 'santos', 'vasco', 'sucesso', 'vitorias', 'jogos', 'clubes', 'mandei', 'mensagem', 'mario', 'discreto', 'relacao', 'relacao', 'mario', 'bittencourt', 'paulo', 'angioni', 'diretor', 'futebol', 'senti', 'coracao', 'voltar', 'fluminense', 'contou', 'fernando', 'diniz', 'comecou', 'casamento', 'atual', 'ja', 'vitorioso', 'chegada', 'abril', 'sao', 'vitorias', 'jogos', 'passagem', 'fluminense', 'fernando', 'diniz', 'venceu', 'partidas', 'disputou', 'resultados', 'batem', 'porta', 'passado', 'semifinalista', 'copa', 'brasil', 'colocado', 'campeonato', 'brasileiro', 'dias', 'fluminense', 'vamostricolores', 'pictwittercomhhmjmscoi', 'fluminense', 'fc', 'fluminensefc', 'october', 'temporada', 'comecou', 'titulo', 'expressao', 'campeonato', 'carioca', 'direito', 'goleada', 'arquirrival', 'flamengo', 'chegou', 'chance', 'ouro', 'carreira', 'libertadores', 'nao', 'bastasse', 'frente', 'selecao', 'brasileira', 'fernando', 'diniz', 'trazer', 'sonhada', 'taca', 'gloriosa', 'historia', 'fluminense', 'treinador', 'cara', 'clube', 'proprio', 'treinador', 'aponta', 'receita', 'sucesso', 'trabalhamos', 'juntos', 'nao', 'sera', 'descartado', 'seguranca', 'viver', 'focado', 'nao', 'resultado', 'componente', 'incerteza', 'vida', 'time', 'nao', 'estao', 'merce', 'resultado', 'preparados', 'alma', 'pensamos', 'passado', 'revelou', 'fernando', 'diniz', 'entao', 'fracassado', 'chegar', 'gloria', 'eterna', 'tempo', 'conteudo', 'criado', 'originalmente', 'itatiaia', 'versao', 'original']\n"
     ]
    }
   ],
   "source": [
    "token3 = []\n",
    "for i in tokens3:\n",
    "    temp = []\n",
    "    for token in i:\n",
    "        if token not in stopwords:\n",
    "            temp.append(token)\n",
    "    token3.append(temp)\n",
    "print(token3[0])"
   ]
  },
  {
   "cell_type": "code",
   "execution_count": 240,
   "id": "7873d61e-5b34-417a-ad3e-b048c4d585b1",
   "metadata": {},
   "outputs": [
    {
     "data": {
      "text/html": [
       "<div>\n",
       "<style scoped>\n",
       "    .dataframe tbody tr th:only-of-type {\n",
       "        vertical-align: middle;\n",
       "    }\n",
       "\n",
       "    .dataframe tbody tr th {\n",
       "        vertical-align: top;\n",
       "    }\n",
       "\n",
       "    .dataframe thead th {\n",
       "        text-align: right;\n",
       "    }\n",
       "</style>\n",
       "<table border=\"1\" class=\"dataframe\">\n",
       "  <thead>\n",
       "    <tr style=\"text-align: right;\">\n",
       "      <th></th>\n",
       "      <th>titulo</th>\n",
       "      <th>texto</th>\n",
       "      <th>link</th>\n",
       "      <th>resumo</th>\n",
       "      <th>categoria</th>\n",
       "      <th>data_hora</th>\n",
       "    </tr>\n",
       "  </thead>\n",
       "  <tbody>\n",
       "    <tr>\n",
       "      <th>0</th>\n",
       "      <td>Veja a trajetória de Fernando Diniz, em busca ...</td>\n",
       "      <td>[treinador, badalado, time, jogar, cara, ferna...</td>\n",
       "      <td>https://www.cnnbrasil.com.br/esportes/veja-a-t...</td>\n",
       "      <td>Técnico tricolor e da Seleção Brasileira tem a...</td>\n",
       "      <td>esportes</td>\n",
       "      <td>2023-11-04 12:26:18</td>\n",
       "    </tr>\n",
       "    <tr>\n",
       "      <th>1</th>\n",
       "      <td>Santos tem chances remotas de jogar a Copa do ...</td>\n",
       "      <td>[santos, chances, disputar, copa, brasil, apes...</td>\n",
       "      <td>https://www.cnnbrasil.com.br/esportes/santos-t...</td>\n",
       "      <td>Peixe precisaria ser o melhor time fora da zon...</td>\n",
       "      <td>esportes</td>\n",
       "      <td>2023-11-16 18:59:30</td>\n",
       "    </tr>\n",
       "  </tbody>\n",
       "</table>\n",
       "</div>"
      ],
      "text/plain": [
       "                                              titulo  \\\n",
       "0  Veja a trajetória de Fernando Diniz, em busca ...   \n",
       "1  Santos tem chances remotas de jogar a Copa do ...   \n",
       "\n",
       "                                               texto  \\\n",
       "0  [treinador, badalado, time, jogar, cara, ferna...   \n",
       "1  [santos, chances, disputar, copa, brasil, apes...   \n",
       "\n",
       "                                                link  \\\n",
       "0  https://www.cnnbrasil.com.br/esportes/veja-a-t...   \n",
       "1  https://www.cnnbrasil.com.br/esportes/santos-t...   \n",
       "\n",
       "                                              resumo categoria  \\\n",
       "0  Técnico tricolor e da Seleção Brasileira tem a...  esportes   \n",
       "1  Peixe precisaria ser o melhor time fora da zon...  esportes   \n",
       "\n",
       "             data_hora  \n",
       "0  2023-11-04 12:26:18  \n",
       "1  2023-11-16 18:59:30  "
      ]
     },
     "execution_count": 240,
     "metadata": {},
     "output_type": "execute_result"
    }
   ],
   "source": [
    "df_balanceado3['texto'] = token3\n",
    "df_balanceado3.head(2)"
   ]
  },
  {
   "cell_type": "markdown",
   "id": "2a86a3f7-402e-4f60-8e02-b612fe83c051",
   "metadata": {},
   "source": [
    "## Análises"
   ]
  },
  {
   "cell_type": "markdown",
   "id": "c995d014-5aad-4572-b329-60c92af45b3c",
   "metadata": {},
   "source": [
    "### NLTK"
   ]
  },
  {
   "cell_type": "code",
   "execution_count": 243,
   "id": "bc59c4ef-5077-4918-941d-56c0da1e7974",
   "metadata": {},
   "outputs": [
    {
     "name": "stdout",
     "output_type": "stream",
     "text": [
      "[('diniz', 20), ('treinador', 12), ('fernando', 11), ('fluminense', 11), ('nao', 11), ('copa', 10), ('brasileiro', 10), ('futebol', 8), ('equipe', 8), ('campeonato', 7)]\n"
     ]
    }
   ],
   "source": [
    "from collections import Counter  # Contagem de frequência de palavras usando NLTK \n",
    "frequencia_palavras = Counter(token_text[0]) \n",
    "print(frequencia_palavras.most_common(10))"
   ]
  },
  {
   "cell_type": "code",
   "execution_count": 242,
   "id": "c86224cb-cc2e-4ce2-a70e-cd010bd88214",
   "metadata": {},
   "outputs": [
    {
     "data": {
      "image/png": "[encoded data removed]",
      "text/plain": [
       "<Figure size 1000x600 with 1 Axes>"
      ]
     },
     "metadata": {},
     "output_type": "display_data"
    }
   ],
   "source": [
    "# Obter os 10 tokens mais comuns e suas contagens\n",
    "tokens_mais_comuns = frequencia_palavras.most_common(10)\n",
    "palavras, contagens = zip(*tokens_mais_comuns)\n",
    "\n",
    "# Gráfico de Barras\n",
    "plt.figure(figsize=(10, 6))\n",
    "plt.bar(palavras, contagens)\n",
    "plt.xlabel('Palavras')\n",
    "plt.ylabel('Frequência')\n",
    "plt.title('10 Palavras Mais Comuns')\n",
    "plt.xticks(rotation=45)\n",
    "plt.show()"
   ]
  },
  {
   "cell_type": "markdown",
   "id": "955fb74b-5a2f-4aa4-a363-4bb2b7363d99",
   "metadata": {},
   "source": [
    "### spaCy"
   ]
  },
  {
   "cell_type": "code",
   "execution_count": 245,
   "id": "fa32cf71-a086-4b63-a3f2-47c75c640da6",
   "metadata": {},
   "outputs": [
    {
     "name": "stdout",
     "output_type": "stream",
     "text": [
      "[(' ', 33), ('diniz', 20), ('treinador', 12), ('fernando', 11), ('fluminense', 11), ('nao', 11), ('copa', 10), ('brasileiro', 10), ('futebol', 8), ('equipe', 8)]\n"
     ]
    }
   ],
   "source": [
    "from collections import Counter  # Contagem de frequência de palavras usando NLTK \n",
    "frequencia_palavras = Counter(token2[0]) \n",
    "print(frequencia_palavras.most_common(10))"
   ]
  },
  {
   "cell_type": "code",
   "execution_count": 246,
   "id": "bde4fc92-0568-4e9d-97c5-531a1e1e72b8",
   "metadata": {},
   "outputs": [
    {
     "data": {
      "image/png": "[encoded data removed]",
      "text/plain": [
       "<Figure size 1000x600 with 1 Axes>"
      ]
     },
     "metadata": {},
     "output_type": "display_data"
    }
   ],
   "source": [
    "# Obter os 10 tokens mais comuns e suas contagens\n",
    "tokens_mais_comuns = frequencia_palavras.most_common(10)\n",
    "palavras, contagens = zip(*tokens_mais_comuns)\n",
    "\n",
    "# Gráfico de Barras\n",
    "plt.figure(figsize=(10, 6))\n",
    "plt.bar(palavras, contagens)\n",
    "plt.xlabel('Palavras')\n",
    "plt.ylabel('Frequência')\n",
    "plt.title('10 Palavras Mais Comuns')\n",
    "plt.xticks(rotation=45)\n",
    "plt.show()"
   ]
  },
  {
   "cell_type": "markdown",
   "id": "20a6e45b-e067-4bea-bae4-bb9922b70a9d",
   "metadata": {},
   "source": [
    "### Gensim"
   ]
  },
  {
   "cell_type": "code",
   "execution_count": 247,
   "id": "576be1e5-2baa-402b-8293-c8c9f5e89628",
   "metadata": {},
   "outputs": [
    {
     "name": "stdout",
     "output_type": "stream",
     "text": [
      "[('diniz', 20), ('treinador', 12), ('fernando', 11), ('fluminense', 11), ('nao', 11), ('copa', 10), ('brasileiro', 10), ('futebol', 8), ('equipe', 8), ('campeonato', 7)]\n"
     ]
    }
   ],
   "source": [
    "from collections import Counter  # Contagem de frequência de palavras usando NLTK \n",
    "frequencia_palavras = Counter(token3[0]) \n",
    "print(frequencia_palavras.most_common(10))"
   ]
  },
  {
   "cell_type": "code",
   "execution_count": 248,
   "id": "b077df5e-70b8-4d7b-bf96-9d03d3c38a18",
   "metadata": {},
   "outputs": [
    {
     "data": {
      "image/png": "[encoded data removed]",
      "text/plain": [
       "<Figure size 1000x600 with 1 Axes>"
      ]
     },
     "metadata": {},
     "output_type": "display_data"
    }
   ],
   "source": [
    "# Obter os 10 tokens mais comuns e suas contagens\n",
    "tokens_mais_comuns = frequencia_palavras.most_common(10)\n",
    "palavras, contagens = zip(*tokens_mais_comuns)\n",
    "\n",
    "# Gráfico de Barras\n",
    "plt.figure(figsize=(10, 6))\n",
    "plt.bar(palavras, contagens)\n",
    "plt.xlabel('Palavras')\n",
    "plt.ylabel('Frequência')\n",
    "plt.title('10 Palavras Mais Comuns')\n",
    "plt.xticks(rotation=45)\n",
    "plt.show()"
   ]
  },
  {
   "cell_type": "markdown",
   "id": "ec752a64-fd72-4ca4-8e3e-1bfc43f5ac0f",
   "metadata": {},
   "source": [
    "## Prediction\n",
    "https://github.com/susanli2016/Machine-Learning-with-Python/blob/master/Consumer_complaints.ipynb  <br>\n",
    "refazer para cada biblioteca"
   ]
  },
  {
   "cell_type": "markdown",
   "id": "7841f9eb-b1d2-496f-bec3-4b3de8253a1a",
   "metadata": {},
   "source": [
    "### NLTK"
   ]
  },
  {
   "cell_type": "code",
   "execution_count": 41,
   "id": "d13c1a7e-b6f1-4e49-982a-2388dee760d0",
   "metadata": {},
   "outputs": [
    {
     "name": "stdout",
     "output_type": "stream",
     "text": [
      "\n"
     ]
    }
   ],
   "source": [
    "for i in range(len(token_text)):\n",
    "    token_text[i] = \" \".join(token_text[i])\n",
    "print(token_text[0])"
   ]
  },
  {
   "cell_type": "code",
   "execution_count": 42,
   "id": "eea38f9b-5f83-431d-b6c5-30089529cbd1",
   "metadata": {},
   "outputs": [
    {
     "data": {
      "text/html": [
       "<div>\n",
       "<style scoped>\n",
       "    .dataframe tbody tr th:only-of-type {\n",
       "        vertical-align: middle;\n",
       "    }\n",
       "\n",
       "    .dataframe tbody tr th {\n",
       "        vertical-align: top;\n",
       "    }\n",
       "\n",
       "    .dataframe thead th {\n",
       "        text-align: right;\n",
       "    }\n",
       "</style>\n",
       "<table border=\"1\" class=\"dataframe\">\n",
       "  <thead>\n",
       "    <tr style=\"text-align: right;\">\n",
       "      <th></th>\n",
       "      <th>titulo</th>\n",
       "      <th>texto</th>\n",
       "      <th>link</th>\n",
       "      <th>resumo</th>\n",
       "      <th>categoria</th>\n",
       "      <th>data_hora</th>\n",
       "    </tr>\n",
       "  </thead>\n",
       "  <tbody>\n",
       "    <tr>\n",
       "      <th>0</th>\n",
       "      <td>Ituano x Chapecoense: tempo real e onde assist...</td>\n",
       "      <td></td>\n",
       "      <td>https://www.cnnbrasil.com.br/esportes/ituano-x...</td>\n",
       "      <td>Onde assistir e tempo real dos lances e das es...</td>\n",
       "      <td>esportes</td>\n",
       "      <td>2023-11-17 14:20:18</td>\n",
       "    </tr>\n",
       "    <tr>\n",
       "      <th>1</th>\n",
       "      <td>Chelsea intensifica conversas com Gabriel Mosc...</td>\n",
       "      <td>chelsea mantem firme ideia contratar volante g...</td>\n",
       "      <td>https://www.cnnbrasil.com.br/esportes/chelsea-...</td>\n",
       "      <td>Clube paulista já recusou uma proposta dos ing...</td>\n",
       "      <td>esportes</td>\n",
       "      <td>2023-11-09 14:04:55</td>\n",
       "    </tr>\n",
       "    <tr>\n",
       "      <th>2</th>\n",
       "      <td>Ex-jogador Fred deita no chão após assalto no ...</td>\n",
       "      <td>camera seguranca mostrou momento exjogador fut...</td>\n",
       "      <td>https://www.cnnbrasil.com.br/esportes/ex-jogad...</td>\n",
       "      <td>Imagens de câmeras de segurança mostram três c...</td>\n",
       "      <td>esportes</td>\n",
       "      <td>2023-11-24 11:50:29</td>\n",
       "    </tr>\n",
       "    <tr>\n",
       "      <th>3</th>\n",
       "      <td>Esposa de Daniel Alves dá entrevista polêmica ...</td>\n",
       "      <td>esposa daniel alves preso desde janeiro suspei...</td>\n",
       "      <td>https://www.cnnbrasil.com.br/esportes/esposa-d...</td>\n",
       "      <td>Alves foi preso no dia 20 de janeiro, pouco me...</td>\n",
       "      <td>esportes</td>\n",
       "      <td>2023-11-25 20:39:52</td>\n",
       "    </tr>\n",
       "    <tr>\n",
       "      <th>4</th>\n",
       "      <td>Diniz faz mistério em escalação do Fluminense ...</td>\n",
       "      <td>fernando diniz nao quis saber dar pistas sobre...</td>\n",
       "      <td>https://www.cnnbrasil.com.br/esportes/diniz-fa...</td>\n",
       "      <td>Treinador lamentou episódios ocorridos na últi...</td>\n",
       "      <td>esportes</td>\n",
       "      <td>2023-11-03 21:17:20</td>\n",
       "    </tr>\n",
       "  </tbody>\n",
       "</table>\n",
       "</div>"
      ],
      "text/plain": [
       "                                              titulo  \\\n",
       "0  Ituano x Chapecoense: tempo real e onde assist...   \n",
       "1  Chelsea intensifica conversas com Gabriel Mosc...   \n",
       "2  Ex-jogador Fred deita no chão após assalto no ...   \n",
       "3  Esposa de Daniel Alves dá entrevista polêmica ...   \n",
       "4  Diniz faz mistério em escalação do Fluminense ...   \n",
       "\n",
       "                                               texto  \\\n",
       "0                                                      \n",
       "1  chelsea mantem firme ideia contratar volante g...   \n",
       "2  camera seguranca mostrou momento exjogador fut...   \n",
       "3  esposa daniel alves preso desde janeiro suspei...   \n",
       "4  fernando diniz nao quis saber dar pistas sobre...   \n",
       "\n",
       "                                                link  \\\n",
       "0  https://www.cnnbrasil.com.br/esportes/ituano-x...   \n",
       "1  https://www.cnnbrasil.com.br/esportes/chelsea-...   \n",
       "2  https://www.cnnbrasil.com.br/esportes/ex-jogad...   \n",
       "3  https://www.cnnbrasil.com.br/esportes/esposa-d...   \n",
       "4  https://www.cnnbrasil.com.br/esportes/diniz-fa...   \n",
       "\n",
       "                                              resumo categoria  \\\n",
       "0  Onde assistir e tempo real dos lances e das es...  esportes   \n",
       "1  Clube paulista já recusou uma proposta dos ing...  esportes   \n",
       "2  Imagens de câmeras de segurança mostram três c...  esportes   \n",
       "3  Alves foi preso no dia 20 de janeiro, pouco me...  esportes   \n",
       "4  Treinador lamentou episódios ocorridos na últi...  esportes   \n",
       "\n",
       "             data_hora  \n",
       "0  2023-11-17 14:20:18  \n",
       "1  2023-11-09 14:04:55  \n",
       "2  2023-11-24 11:50:29  \n",
       "3  2023-11-25 20:39:52  \n",
       "4  2023-11-03 21:17:20  "
      ]
     },
     "execution_count": 42,
     "metadata": {},
     "output_type": "execute_result"
    }
   ],
   "source": [
    "df_balanceado['texto'] = token_text\n",
    "df_balanceado.head(5)"
   ]
  },
  {
   "cell_type": "code",
   "execution_count": 43,
   "id": "e4d2a077-d1bc-4c84-8ce7-c03b704f7ac6",
   "metadata": {},
   "outputs": [],
   "source": [
    "col = ['categoria', 'texto']\n",
    "df_balanceado = df_balanceado[col]"
   ]
  },
  {
   "cell_type": "code",
   "execution_count": 44,
   "id": "18272ef1-c5c3-4ff8-879a-9f764e8d0435",
   "metadata": {},
   "outputs": [
    {
     "data": {
      "text/html": [
       "<div>\n",
       "<style scoped>\n",
       "    .dataframe tbody tr th:only-of-type {\n",
       "        vertical-align: middle;\n",
       "    }\n",
       "\n",
       "    .dataframe tbody tr th {\n",
       "        vertical-align: top;\n",
       "    }\n",
       "\n",
       "    .dataframe thead th {\n",
       "        text-align: right;\n",
       "    }\n",
       "</style>\n",
       "<table border=\"1\" class=\"dataframe\">\n",
       "  <thead>\n",
       "    <tr style=\"text-align: right;\">\n",
       "      <th></th>\n",
       "      <th>categoria</th>\n",
       "      <th>texto</th>\n",
       "    </tr>\n",
       "  </thead>\n",
       "  <tbody>\n",
       "    <tr>\n",
       "      <th>0</th>\n",
       "      <td>esportes</td>\n",
       "      <td></td>\n",
       "    </tr>\n",
       "    <tr>\n",
       "      <th>1</th>\n",
       "      <td>esportes</td>\n",
       "      <td>chelsea mantem firme ideia contratar volante g...</td>\n",
       "    </tr>\n",
       "    <tr>\n",
       "      <th>2</th>\n",
       "      <td>esportes</td>\n",
       "      <td>camera seguranca mostrou momento exjogador fut...</td>\n",
       "    </tr>\n",
       "    <tr>\n",
       "      <th>3</th>\n",
       "      <td>esportes</td>\n",
       "      <td>esposa daniel alves preso desde janeiro suspei...</td>\n",
       "    </tr>\n",
       "    <tr>\n",
       "      <th>4</th>\n",
       "      <td>esportes</td>\n",
       "      <td>fernando diniz nao quis saber dar pistas sobre...</td>\n",
       "    </tr>\n",
       "  </tbody>\n",
       "</table>\n",
       "</div>"
      ],
      "text/plain": [
       "  categoria                                              texto\n",
       "0  esportes                                                   \n",
       "1  esportes  chelsea mantem firme ideia contratar volante g...\n",
       "2  esportes  camera seguranca mostrou momento exjogador fut...\n",
       "3  esportes  esposa daniel alves preso desde janeiro suspei...\n",
       "4  esportes  fernando diniz nao quis saber dar pistas sobre..."
      ]
     },
     "execution_count": 44,
     "metadata": {},
     "output_type": "execute_result"
    }
   ],
   "source": [
    "df_balanceado.head()"
   ]
  },
  {
   "cell_type": "code",
   "execution_count": 45,
   "id": "5ad5898d-dfde-47db-8d88-05fd8e8e3043",
   "metadata": {},
   "outputs": [
    {
     "data": {
      "text/html": [
       "<div>\n",
       "<style scoped>\n",
       "    .dataframe tbody tr th:only-of-type {\n",
       "        vertical-align: middle;\n",
       "    }\n",
       "\n",
       "    .dataframe tbody tr th {\n",
       "        vertical-align: top;\n",
       "    }\n",
       "\n",
       "    .dataframe thead th {\n",
       "        text-align: right;\n",
       "    }\n",
       "</style>\n",
       "<table border=\"1\" class=\"dataframe\">\n",
       "  <thead>\n",
       "    <tr style=\"text-align: right;\">\n",
       "      <th></th>\n",
       "      <th>categoria</th>\n",
       "      <th>texto</th>\n",
       "      <th>category_id</th>\n",
       "    </tr>\n",
       "  </thead>\n",
       "  <tbody>\n",
       "    <tr>\n",
       "      <th>0</th>\n",
       "      <td>esportes</td>\n",
       "      <td></td>\n",
       "      <td>0</td>\n",
       "    </tr>\n",
       "    <tr>\n",
       "      <th>1</th>\n",
       "      <td>esportes</td>\n",
       "      <td>chelsea mantem firme ideia contratar volante g...</td>\n",
       "      <td>0</td>\n",
       "    </tr>\n",
       "    <tr>\n",
       "      <th>2</th>\n",
       "      <td>esportes</td>\n",
       "      <td>camera seguranca mostrou momento exjogador fut...</td>\n",
       "      <td>0</td>\n",
       "    </tr>\n",
       "    <tr>\n",
       "      <th>3</th>\n",
       "      <td>esportes</td>\n",
       "      <td>esposa daniel alves preso desde janeiro suspei...</td>\n",
       "      <td>0</td>\n",
       "    </tr>\n",
       "    <tr>\n",
       "      <th>4</th>\n",
       "      <td>esportes</td>\n",
       "      <td>fernando diniz nao quis saber dar pistas sobre...</td>\n",
       "      <td>0</td>\n",
       "    </tr>\n",
       "  </tbody>\n",
       "</table>\n",
       "</div>"
      ],
      "text/plain": [
       "  categoria                                              texto  category_id\n",
       "0  esportes                                                               0\n",
       "1  esportes  chelsea mantem firme ideia contratar volante g...            0\n",
       "2  esportes  camera seguranca mostrou momento exjogador fut...            0\n",
       "3  esportes  esposa daniel alves preso desde janeiro suspei...            0\n",
       "4  esportes  fernando diniz nao quis saber dar pistas sobre...            0"
      ]
     },
     "execution_count": 45,
     "metadata": {},
     "output_type": "execute_result"
    }
   ],
   "source": [
    "df_balanceado['category_id'] = df_balanceado['categoria'].factorize()[0]\n",
    "from io import StringIO\n",
    "category_id_df = df_balanceado[['categoria', 'category_id']].drop_duplicates().sort_values('category_id')\n",
    "category_to_id = dict(category_id_df.values)\n",
    "id_to_category = dict(category_id_df[['category_id', 'categoria']].values)\n",
    "df_balanceado.head()"
   ]
  },
  {
   "cell_type": "code",
   "execution_count": 46,
   "id": "89e3f2cd-38af-458d-aabe-c448ee51f876",
   "metadata": {},
   "outputs": [
    {
     "data": {
      "text/plain": [
       "(2700, 20210)"
      ]
     },
     "execution_count": 46,
     "metadata": {},
     "output_type": "execute_result"
    }
   ],
   "source": [
    "## Bag of Words model - TF-IDF\n",
    "from sklearn.feature_extraction.text import TfidfVectorizer\n",
    "tfidf = TfidfVectorizer(sublinear_tf=True, min_df=5, norm='l2', encoding='latin-1', ngram_range=(1, 2), stop_words=sw)\n",
    "features = tfidf.fit_transform(df_balanceado['texto']).toarray()\n",
    "labels = df_balanceado.category_id\n",
    "features.shape"
   ]
  },
  {
   "cell_type": "code",
   "execution_count": 47,
   "id": "a473cad0-5e3e-4e15-b4aa-cdc05ac86c33",
   "metadata": {},
   "outputs": [
    {
     "name": "stdout",
     "output_type": "stream",
     "text": [
      "# 'economia':\n",
      "  . Most correlated unigrams:\n",
      ". mercado\n",
      ". bilhoes\n",
      "  . Most correlated bigrams:\n",
      ". reforma tributaria\n",
      ". banco central\n",
      "# 'entretenimento':\n",
      "  . Most correlated unigrams:\n",
      ". fas\n",
      ". cantora\n",
      "  . Most correlated bigrams:\n",
      ". post shared\n",
      ". shared by\n",
      "# 'esportes':\n",
      "  . Most correlated unigrams:\n",
      ". rodada\n",
      ". campeonato\n",
      "  . Most correlated bigrams:\n",
      ". originalmente itatiaia\n",
      ". itatiaia versao\n",
      "# 'internacional':\n",
      "  . Most correlated unigrams:\n",
      ". gaza\n",
      ". israel\n",
      "  . Most correlated bigrams:\n",
      ". defesa israel\n",
      ". faixa gaza\n",
      "# 'nacional':\n",
      "  . Most correlated unigrams:\n",
      ". civil\n",
      ". policia\n",
      "  . Most correlated bigrams:\n",
      ". defesa civil\n",
      ". policia civil\n",
      "# 'politica':\n",
      "  . Most correlated unigrams:\n",
      ". supremo\n",
      ". stf\n",
      "  . Most correlated bigrams:\n",
      ". supremo tribunal\n",
      ". tribunal federal\n"
     ]
    }
   ],
   "source": [
    "from sklearn.feature_selection import chi2\n",
    "import numpy as np\n",
    "\n",
    "N = 2\n",
    "\n",
    "for categoria, category_id in sorted(category_to_id.items()):\n",
    "  features_chi2 = chi2(features, labels == category_id)\n",
    "  indices = np.argsort(features_chi2[0])\n",
    "  feature_names = np.array(tfidf.get_feature_names_out())[indices]\n",
    "  unigrams = [v for v in feature_names if len(v.split(' ')) == 1]\n",
    "  bigrams = [v for v in feature_names if len(v.split(' ')) == 2]\n",
    "  print(\"# '{}':\".format(categoria))\n",
    "  print(\"  . Most correlated unigrams:\\n. {}\".format('\\n. '.join(unigrams[-N:])))\n",
    "  print(\"  . Most correlated bigrams:\\n. {}\".format('\\n. '.join(bigrams[-N:])))"
   ]
  },
  {
   "cell_type": "code",
   "execution_count": 48,
   "id": "687864a6-c2db-4e50-be02-5fef0fce5b3e",
   "metadata": {},
   "outputs": [],
   "source": [
    "from sklearn.model_selection import train_test_split\n",
    "from sklearn.feature_extraction.text import CountVectorizer\n",
    "from sklearn.feature_extraction.text import TfidfTransformer\n",
    "from sklearn.naive_bayes import MultinomialNB\n",
    "\n",
    "X_train, X_test, y_train, y_test = train_test_split(df_balanceado['texto'], df_balanceado['categoria'], random_state = 2)\n",
    "count_vect = CountVectorizer()\n",
    "X_train_counts = count_vect.fit_transform(X_train)\n",
    "tfidf_transformer = TfidfTransformer()\n",
    "X_train_tfidf = tfidf_transformer.fit_transform(X_train_counts)\n",
    "\n",
    "clf = MultinomialNB().fit(X_train_tfidf, y_train)"
   ]
  },
  {
   "cell_type": "code",
   "execution_count": 49,
   "id": "c6f670a3-9d48-4e9c-b080-d68b1821fca5",
   "metadata": {},
   "outputs": [
    {
     "name": "stderr",
     "output_type": "stream",
     "text": [
      "/home/hworld/.local/lib/python3.10/site-packages/sklearn/svm/_classes.py:31: FutureWarning: The default value of `dual` will change from `True` to `'auto'` in 1.5. Set the value of `dual` explicitly to suppress the warning.\n",
      "  warnings.warn(\n",
      "/home/hworld/.local/lib/python3.10/site-packages/sklearn/svm/_classes.py:31: FutureWarning: The default value of `dual` will change from `True` to `'auto'` in 1.5. Set the value of `dual` explicitly to suppress the warning.\n",
      "  warnings.warn(\n",
      "/home/hworld/.local/lib/python3.10/site-packages/sklearn/svm/_classes.py:31: FutureWarning: The default value of `dual` will change from `True` to `'auto'` in 1.5. Set the value of `dual` explicitly to suppress the warning.\n",
      "  warnings.warn(\n",
      "/home/hworld/.local/lib/python3.10/site-packages/sklearn/svm/_classes.py:31: FutureWarning: The default value of `dual` will change from `True` to `'auto'` in 1.5. Set the value of `dual` explicitly to suppress the warning.\n",
      "  warnings.warn(\n",
      "/home/hworld/.local/lib/python3.10/site-packages/sklearn/svm/_classes.py:31: FutureWarning: The default value of `dual` will change from `True` to `'auto'` in 1.5. Set the value of `dual` explicitly to suppress the warning.\n",
      "  warnings.warn(\n"
     ]
    }
   ],
   "source": [
    "from sklearn.linear_model import LogisticRegression\n",
    "from sklearn.ensemble import RandomForestClassifier\n",
    "from sklearn.naive_bayes import MultinomialNB\n",
    "from sklearn.svm import LinearSVC\n",
    "\n",
    "from sklearn.model_selection import cross_val_score\n",
    "\n",
    "models = [\n",
    "    RandomForestClassifier(n_estimators=200, max_depth=3, random_state=0),\n",
    "    LinearSVC(),\n",
    "    MultinomialNB(),\n",
    "    LogisticRegression(random_state=0),\n",
    "]\n",
    "CV = 5\n",
    "cv_df = pd.DataFrame(index=range(CV * len(models)))\n",
    "entries = []\n",
    "for model in models:\n",
    "  model_name = model.__class__.__name__\n",
    "  accuracies = cross_val_score(model, features, labels, scoring='accuracy', cv=CV)\n",
    "  for fold_idx, accuracy in enumerate(accuracies):\n",
    "    entries.append((model_name, fold_idx, accuracy))\n",
    "cv_df = pd.DataFrame(entries, columns=['model_name', 'fold_idx', 'accuracy'])"
   ]
  },
  {
   "cell_type": "code",
   "execution_count": 50,
   "id": "ada26c75-2146-40bd-ac71-ef25fa7a61f2",
   "metadata": {},
   "outputs": [
    {
     "data": {
      "text/plain": [
       "model_name\n",
       "LinearSVC                 0.913704\n",
       "LogisticRegression        0.898148\n",
       "MultinomialNB             0.891111\n",
       "RandomForestClassifier    0.791481\n",
       "Name: accuracy, dtype: float64"
      ]
     },
     "execution_count": 50,
     "metadata": {},
     "output_type": "execute_result"
    }
   ],
   "source": [
    "cv_df.groupby('model_name').accuracy.mean()"
   ]
  },
  {
   "cell_type": "code",
   "execution_count": 51,
   "id": "f9442d19-ff2b-4fec-b654-b4bdfeafcae4",
   "metadata": {},
   "outputs": [
    {
     "name": "stderr",
     "output_type": "stream",
     "text": [
      "/home/hworld/.local/lib/python3.10/site-packages/sklearn/svm/_classes.py:31: FutureWarning: The default value of `dual` will change from `True` to `'auto'` in 1.5. Set the value of `dual` explicitly to suppress the warning.\n",
      "  warnings.warn(\n"
     ]
    }
   ],
   "source": [
    "from sklearn.model_selection import train_test_split\n",
    "\n",
    "model = LinearSVC()\n",
    "\n",
    "X_train, X_test, y_train, y_test, indices_train, indices_test = train_test_split(features, labels, df_balanceado.index, test_size=0.33, random_state=0)\n",
    "model.fit(X_train, y_train)\n",
    "y_pred = model.predict(X_test)"
   ]
  },
  {
   "cell_type": "code",
   "execution_count": 52,
   "id": "dc190f0a-bf77-436c-8e07-96c061bb534b",
   "metadata": {},
   "outputs": [
    {
     "name": "stdout",
     "output_type": "stream",
     "text": [
      "                precision    recall  f1-score   support\n",
      "\n",
      "      esportes       0.98      0.99      0.99       140\n",
      "      nacional       0.88      0.86      0.87       147\n",
      " internacional       0.94      0.92      0.93       159\n",
      "      economia       0.89      0.91      0.90       137\n",
      "      politica       0.89      0.84      0.87       141\n",
      "entretenimento       0.93      0.98      0.95       167\n",
      "\n",
      "      accuracy                           0.92       891\n",
      "     macro avg       0.92      0.92      0.92       891\n",
      "  weighted avg       0.92      0.92      0.92       891\n",
      "\n"
     ]
    }
   ],
   "source": [
    "from sklearn import metrics\n",
    "print(metrics.classification_report(y_test, y_pred,target_names=df_balanceado['categoria'].unique()))"
   ]
  }
 ],
 "metadata": {
  "kernelspec": {
   "display_name": "Python 3 (ipykernel)",
   "language": "python",
   "name": "python3"
  },
  "language_info": {
   "codemirror_mode": {
    "name": "ipython",
    "version": 3
   },
   "file_extension": ".py",
   "mimetype": "text/x-python",
   "name": "python",
   "nbconvert_exporter": "python",
   "pygments_lexer": "ipython3",
   "version": "3.10.9"
  }
 },
 "nbformat": 4,
 "nbformat_minor": 5
}
