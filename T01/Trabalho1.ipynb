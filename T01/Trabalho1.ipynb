{
 "cells": [
  {
   "cell_type": "markdown",
   "id": "2dcc6805-62bb-443d-90da-97a664722ced",
   "metadata": {},
   "source": [
    "# Trabalho 1\n",
    "Matéria: Processamento de Linguagem Natural <br>\n",
    "Dupla/Matrícula: Bianca Nunes Coelho - 15102880, Raíssa Nunes Coelho - 15102887 <br> "
   ]
  },
  {
   "cell_type": "markdown",
   "id": "dad90a93-1f3f-4c3d-9526-319fb5b42742",
   "metadata": {},
   "source": [
    "## Introdução\n",
    "\n",
    "Multi Class Classification <br>"
   ]
  },
  {
   "cell_type": "markdown",
   "id": "988aaa3a-0dd6-49e6-a703-ec5b042048fb",
   "metadata": {},
   "source": [
    "## Bibliotecas\n",
    "Bibliotecas do ptyhon utilizadas neste trabalho estão a seguir."
   ]
  },
  {
   "cell_type": "code",
   "execution_count": 39,
   "id": "a3cd0f70-3ec7-4e09-b942-8a08a73bb744",
   "metadata": {},
   "outputs": [],
   "source": [
    "import pandas as pd\n",
    "import re\n",
    "import nltk\n",
    "import spacy\n",
    "import gensim\n",
    "import matplotlib.pyplot as plt"
   ]
  },
  {
   "cell_type": "markdown",
   "id": "1560868d-ad70-4a86-a2c8-ddc37c631191",
   "metadata": {},
   "source": [
    "## Datasets\n",
    "Datasets utilizados estão definidos a seguir."
   ]
  },
  {
   "cell_type": "code",
   "execution_count": 40,
   "id": "35b67696-aaf3-4ac5-9d2a-ee1772410097",
   "metadata": {},
   "outputs": [],
   "source": [
    "file = \"train-00000-of-00001-ecf072e7202447d8.parquet\"\n",
    "df = pd.read_parquet(file, engine= 'pyarrow')"
   ]
  },
  {
   "cell_type": "code",
   "execution_count": 41,
   "id": "ab167922-da09-4405-bd0a-729b239877dc",
   "metadata": {},
   "outputs": [
    {
     "data": {
      "text/plain": [
       "3877"
      ]
     },
     "execution_count": 41,
     "metadata": {},
     "output_type": "execute_result"
    }
   ],
   "source": [
    "len(df)"
   ]
  },
  {
   "cell_type": "code",
   "execution_count": 42,
   "id": "41b78a0c-a498-46e2-8e7b-84f28daf62ca",
   "metadata": {
    "scrolled": true
   },
   "outputs": [
    {
     "data": {
      "text/html": [
       "<div>\n",
       "<style scoped>\n",
       "    .dataframe tbody tr th:only-of-type {\n",
       "        vertical-align: middle;\n",
       "    }\n",
       "\n",
       "    .dataframe tbody tr th {\n",
       "        vertical-align: top;\n",
       "    }\n",
       "\n",
       "    .dataframe thead th {\n",
       "        text-align: right;\n",
       "    }\n",
       "</style>\n",
       "<table border=\"1\" class=\"dataframe\">\n",
       "  <thead>\n",
       "    <tr style=\"text-align: right;\">\n",
       "      <th></th>\n",
       "      <th>titulo</th>\n",
       "      <th>texto</th>\n",
       "      <th>link</th>\n",
       "      <th>resumo</th>\n",
       "      <th>categoria</th>\n",
       "      <th>data_hora</th>\n",
       "    </tr>\n",
       "  </thead>\n",
       "  <tbody>\n",
       "    <tr>\n",
       "      <th>0</th>\n",
       "      <td>Veja a trajetória de Fernando Diniz, em busca ...</td>\n",
       "      <td>Se tem um treinador que sempre foi badalado pe...</td>\n",
       "      <td>https://www.cnnbrasil.com.br/esportes/veja-a-t...</td>\n",
       "      <td>Técnico tricolor e da Seleção Brasileira tem a...</td>\n",
       "      <td>esportes</td>\n",
       "      <td>2023-11-04 12:26:18</td>\n",
       "    </tr>\n",
       "    <tr>\n",
       "      <th>1</th>\n",
       "      <td>Após tempestade com ventos, São Paulo terá sáb...</td>\n",
       "      <td>Após uma tempestade com ventos de mais de 100 ...</td>\n",
       "      <td>https://www.cnnbrasil.com.br/nacional/apos-tem...</td>\n",
       "      <td>Termômetros devem chegar a 26ºC, esquentando a...</td>\n",
       "      <td>nacional</td>\n",
       "      <td>2023-11-04 12:15:44</td>\n",
       "    </tr>\n",
       "    <tr>\n",
       "      <th>2</th>\n",
       "      <td>Como os aplicativos de relacionamento “arruina...</td>\n",
       "      <td>Jenny Nguyen-Don estava com vontade de comer f...</td>\n",
       "      <td>https://www.cnnbrasil.com.br/tecnologia/como-o...</td>\n",
       "      <td>Pessoas em busca de relacionamentos afirmam qu...</td>\n",
       "      <td>tecnologia</td>\n",
       "      <td>2023-11-04 12:15:07</td>\n",
       "    </tr>\n",
       "    <tr>\n",
       "      <th>3</th>\n",
       "      <td>Fluminense pode ser o 26º clube a levantar a t...</td>\n",
       "      <td>O Fluminense vai em busca do primeiro título d...</td>\n",
       "      <td>https://www.cnnbrasil.com.br/esportes/fluminen...</td>\n",
       "      <td>Em busca do título inédito, o Tricolor carioca...</td>\n",
       "      <td>esportes</td>\n",
       "      <td>2023-11-04 12:05:24</td>\n",
       "    </tr>\n",
       "  </tbody>\n",
       "</table>\n",
       "</div>"
      ],
      "text/plain": [
       "                                              titulo  \\\n",
       "0  Veja a trajetória de Fernando Diniz, em busca ...   \n",
       "1  Após tempestade com ventos, São Paulo terá sáb...   \n",
       "2  Como os aplicativos de relacionamento “arruina...   \n",
       "3  Fluminense pode ser o 26º clube a levantar a t...   \n",
       "\n",
       "                                               texto  \\\n",
       "0  Se tem um treinador que sempre foi badalado pe...   \n",
       "1  Após uma tempestade com ventos de mais de 100 ...   \n",
       "2  Jenny Nguyen-Don estava com vontade de comer f...   \n",
       "3  O Fluminense vai em busca do primeiro título d...   \n",
       "\n",
       "                                                link  \\\n",
       "0  https://www.cnnbrasil.com.br/esportes/veja-a-t...   \n",
       "1  https://www.cnnbrasil.com.br/nacional/apos-tem...   \n",
       "2  https://www.cnnbrasil.com.br/tecnologia/como-o...   \n",
       "3  https://www.cnnbrasil.com.br/esportes/fluminen...   \n",
       "\n",
       "                                              resumo   categoria  \\\n",
       "0  Técnico tricolor e da Seleção Brasileira tem a...    esportes   \n",
       "1  Termômetros devem chegar a 26ºC, esquentando a...    nacional   \n",
       "2  Pessoas em busca de relacionamentos afirmam qu...  tecnologia   \n",
       "3  Em busca do título inédito, o Tricolor carioca...    esportes   \n",
       "\n",
       "             data_hora  \n",
       "0  2023-11-04 12:26:18  \n",
       "1  2023-11-04 12:15:44  \n",
       "2  2023-11-04 12:15:07  \n",
       "3  2023-11-04 12:05:24  "
      ]
     },
     "execution_count": 42,
     "metadata": {},
     "output_type": "execute_result"
    }
   ],
   "source": [
    "df.head(4)"
   ]
  },
  {
   "cell_type": "markdown",
   "id": "8aa6f7f3-edb4-4990-9cca-4b80617f41dd",
   "metadata": {},
   "source": [
    "## Balanceamento"
   ]
  },
  {
   "cell_type": "code",
   "execution_count": 43,
   "id": "3ef5e8fa-9005-40f3-b0fd-2a9d50cb97dd",
   "metadata": {},
   "outputs": [
    {
     "data": {
      "text/plain": [
       "esportes           960\n",
       "nacional           623\n",
       "internacional      618\n",
       "economia           562\n",
       "politica           507\n",
       "entretenimento     450\n",
       "tecnologia          44\n",
       "saude               41\n",
       "noticias            38\n",
       "lifestyle           21\n",
       "branded-content     13\n",
       "Name: categoria, dtype: int64"
      ]
     },
     "execution_count": 43,
     "metadata": {},
     "output_type": "execute_result"
    }
   ],
   "source": [
    "df['categoria'].value_counts()"
   ]
  },
  {
   "cell_type": "code",
   "execution_count": 44,
   "id": "498911e8-906e-41dc-9bdc-039d09b4c4ce",
   "metadata": {},
   "outputs": [
    {
     "data": {
      "text/plain": [
       "<AxesSubplot: >"
      ]
     },
     "execution_count": 44,
     "metadata": {},
     "output_type": "execute_result"
    },
    {
     "data": {
      "image/png": "[encoded data removed]",
      "text/plain": [
       "<Figure size 1000x400 with 1 Axes>"
      ]
     },
     "metadata": {},
     "output_type": "display_data"
    }
   ],
   "source": [
    "plt.figure(figsize=(10,4))\n",
    "df.categoria.value_counts().plot(kind='bar')"
   ]
  },
  {
   "cell_type": "code",
   "execution_count": 45,
   "id": "696e88a5-62a5-46c3-acec-8575da709518",
   "metadata": {},
   "outputs": [],
   "source": [
    "indice_linha_remover = ['tecnologia',  'saude','noticias','lifestyle','branded-content']"
   ]
  },
  {
   "cell_type": "code",
   "execution_count": 46,
   "id": "c971502d-21ba-40dd-8dab-3bd93640fad6",
   "metadata": {},
   "outputs": [],
   "source": [
    "df = df[~df['categoria'].isin(indice_linha_remover)]"
   ]
  },
  {
   "cell_type": "code",
   "execution_count": 47,
   "id": "519d61c7-a98e-4703-a157-455a39e71b7b",
   "metadata": {},
   "outputs": [
    {
     "data": {
      "text/plain": [
       "esportes          960\n",
       "nacional          623\n",
       "internacional     618\n",
       "economia          562\n",
       "politica          507\n",
       "entretenimento    450\n",
       "Name: categoria, dtype: int64"
      ]
     },
     "execution_count": 47,
     "metadata": {},
     "output_type": "execute_result"
    }
   ],
   "source": [
    "df['categoria'].value_counts()"
   ]
  },
  {
   "cell_type": "code",
   "execution_count": 48,
   "id": "8b080baf-1753-4f8c-88ba-ee247c734a79",
   "metadata": {},
   "outputs": [],
   "source": [
    "# Undersampling\n",
    "min = df['categoria'].value_counts().min()\n",
    "\n",
    "amostras = []\n",
    "\n",
    "for i in df['categoria'].value_counts().index:\n",
    "    a = df[df['categoria'] == i].sample(min, replace=False)\n",
    "    amostras.append(a)\n",
    "\n",
    "df_balanceado = pd.concat(amostras)"
   ]
  },
  {
   "cell_type": "code",
   "execution_count": 49,
   "id": "90d0307b-f2bf-4988-aa52-8795343fdfe1",
   "metadata": {},
   "outputs": [
    {
     "data": {
      "text/plain": [
       "esportes          450\n",
       "nacional          450\n",
       "internacional     450\n",
       "economia          450\n",
       "politica          450\n",
       "entretenimento    450\n",
       "Name: categoria, dtype: int64"
      ]
     },
     "execution_count": 49,
     "metadata": {},
     "output_type": "execute_result"
    }
   ],
   "source": [
    "df_balanceado['categoria'].value_counts()"
   ]
  },
  {
   "cell_type": "code",
   "execution_count": 50,
   "id": "892752bf-2247-4e1c-bb90-1c673908ad1c",
   "metadata": {},
   "outputs": [
    {
     "data": {
      "text/html": [
       "<div>\n",
       "<style scoped>\n",
       "    .dataframe tbody tr th:only-of-type {\n",
       "        vertical-align: middle;\n",
       "    }\n",
       "\n",
       "    .dataframe tbody tr th {\n",
       "        vertical-align: top;\n",
       "    }\n",
       "\n",
       "    .dataframe thead th {\n",
       "        text-align: right;\n",
       "    }\n",
       "</style>\n",
       "<table border=\"1\" class=\"dataframe\">\n",
       "  <thead>\n",
       "    <tr style=\"text-align: right;\">\n",
       "      <th></th>\n",
       "      <th>titulo</th>\n",
       "      <th>texto</th>\n",
       "      <th>link</th>\n",
       "      <th>resumo</th>\n",
       "      <th>categoria</th>\n",
       "      <th>data_hora</th>\n",
       "    </tr>\n",
       "  </thead>\n",
       "  <tbody>\n",
       "    <tr>\n",
       "      <th>0</th>\n",
       "      <td>Saiba quantos milhões o Fluminense ganhará de ...</td>\n",
       "      <td>Campeão da Libertadores neste sábado (4) ao ve...</td>\n",
       "      <td>https://www.cnnbrasil.com.br/esportes/saiba-qu...</td>\n",
       "      <td>Clube carioca conquistou o seu primeiro título...</td>\n",
       "      <td>esportes</td>\n",
       "      <td>2023-11-04 23:28:36</td>\n",
       "    </tr>\n",
       "    <tr>\n",
       "      <th>1</th>\n",
       "      <td>Inglaterra x Malta: horário e onde assistir ao...</td>\n",
       "      <td>Inglaterra e Malta se enfrentam nesta sexta-fe...</td>\n",
       "      <td>https://www.cnnbrasil.com.br/esportes/inglater...</td>\n",
       "      <td>Equipes se enfrentam nesta sexta-feira (17), à...</td>\n",
       "      <td>esportes</td>\n",
       "      <td>2023-11-17 13:24:50</td>\n",
       "    </tr>\n",
       "    <tr>\n",
       "      <th>2</th>\n",
       "      <td>Decisivo, atacante do Corinthians achou que ia...</td>\n",
       "      <td>Aos 36 minutos do segundo tempo, Giovane entro...</td>\n",
       "      <td>https://www.cnnbrasil.com.br/esportes/decisivo...</td>\n",
       "      <td>Giovane ficou fora dos gramados por mais de do...</td>\n",
       "      <td>esportes</td>\n",
       "      <td>2023-11-29 13:20:29</td>\n",
       "    </tr>\n",
       "    <tr>\n",
       "      <th>3</th>\n",
       "      <td>América-MG reelege Alencar da Silvera Jr. como...</td>\n",
       "      <td>O América-MG teve, na noite desta terça-feira ...</td>\n",
       "      <td>https://www.cnnbrasil.com.br/esportes/america-...</td>\n",
       "      <td>Conselho de Administração do Clube terá duas m...</td>\n",
       "      <td>esportes</td>\n",
       "      <td>2023-11-29 00:33:15</td>\n",
       "    </tr>\n",
       "    <tr>\n",
       "      <th>4</th>\n",
       "      <td>Tite evita assunto no Flamengo: ‘Não quero ser...</td>\n",
       "      <td>O Flamengo cedeu o empate contra o Fluminense ...</td>\n",
       "      <td>https://www.cnnbrasil.com.br/esportes/tite-evi...</td>\n",
       "      <td>Questionado sobre aspecto físico do elenco na ...</td>\n",
       "      <td>esportes</td>\n",
       "      <td>2023-11-12 16:02:23</td>\n",
       "    </tr>\n",
       "  </tbody>\n",
       "</table>\n",
       "</div>"
      ],
      "text/plain": [
       "                                              titulo  \\\n",
       "0  Saiba quantos milhões o Fluminense ganhará de ...   \n",
       "1  Inglaterra x Malta: horário e onde assistir ao...   \n",
       "2  Decisivo, atacante do Corinthians achou que ia...   \n",
       "3  América-MG reelege Alencar da Silvera Jr. como...   \n",
       "4  Tite evita assunto no Flamengo: ‘Não quero ser...   \n",
       "\n",
       "                                               texto  \\\n",
       "0  Campeão da Libertadores neste sábado (4) ao ve...   \n",
       "1  Inglaterra e Malta se enfrentam nesta sexta-fe...   \n",
       "2  Aos 36 minutos do segundo tempo, Giovane entro...   \n",
       "3  O América-MG teve, na noite desta terça-feira ...   \n",
       "4  O Flamengo cedeu o empate contra o Fluminense ...   \n",
       "\n",
       "                                                link  \\\n",
       "0  https://www.cnnbrasil.com.br/esportes/saiba-qu...   \n",
       "1  https://www.cnnbrasil.com.br/esportes/inglater...   \n",
       "2  https://www.cnnbrasil.com.br/esportes/decisivo...   \n",
       "3  https://www.cnnbrasil.com.br/esportes/america-...   \n",
       "4  https://www.cnnbrasil.com.br/esportes/tite-evi...   \n",
       "\n",
       "                                              resumo categoria  \\\n",
       "0  Clube carioca conquistou o seu primeiro título...  esportes   \n",
       "1  Equipes se enfrentam nesta sexta-feira (17), à...  esportes   \n",
       "2  Giovane ficou fora dos gramados por mais de do...  esportes   \n",
       "3  Conselho de Administração do Clube terá duas m...  esportes   \n",
       "4  Questionado sobre aspecto físico do elenco na ...  esportes   \n",
       "\n",
       "             data_hora  \n",
       "0  2023-11-04 23:28:36  \n",
       "1  2023-11-17 13:24:50  \n",
       "2  2023-11-29 13:20:29  \n",
       "3  2023-11-29 00:33:15  \n",
       "4  2023-11-12 16:02:23  "
      ]
     },
     "execution_count": 50,
     "metadata": {},
     "output_type": "execute_result"
    }
   ],
   "source": [
    "df_balanceado = df_balanceado.reset_index(drop=True)\n",
    "df_balanceado.head(5)"
   ]
  },
  {
   "cell_type": "code",
   "execution_count": 51,
   "id": "2ae37d80-d01e-4fd2-8453-4a89eaa24937",
   "metadata": {},
   "outputs": [
    {
     "data": {
      "text/plain": [
       "2700"
      ]
     },
     "execution_count": 51,
     "metadata": {},
     "output_type": "execute_result"
    }
   ],
   "source": [
    "# pega coluna\n",
    "text = df_balanceado['texto']\n",
    "len(text)"
   ]
  },
  {
   "cell_type": "code",
   "execution_count": 52,
   "id": "5d4514e9-6613-4ea6-8788-3c062d7017f7",
   "metadata": {},
   "outputs": [],
   "source": [
    "categorias = ['esportes','nacional', 'internacional', 'economia', 'politica', 'entretenimento']"
   ]
  },
  {
   "cell_type": "markdown",
   "id": "7db9049f-049d-461f-859e-f3cc6f973578",
   "metadata": {},
   "source": [
    "## Pré-processamento"
   ]
  },
  {
   "cell_type": "code",
   "execution_count": 53,
   "id": "576c1475-b309-4f49-a34b-2b35a9cc5047",
   "metadata": {},
   "outputs": [],
   "source": [
    "for i in range(len(text)):\n",
    "    text[i] = text[i].lower()"
   ]
  },
  {
   "cell_type": "code",
   "execution_count": 54,
   "id": "46decafe-5c86-4cc0-b3fe-581dfc26fbcd",
   "metadata": {},
   "outputs": [],
   "source": [
    "from unidecode import unidecode\n",
    "\n",
    "for i in range(len(text)):\n",
    "    text[i] = unidecode(text[i])"
   ]
  },
  {
   "cell_type": "code",
   "execution_count": 55,
   "id": "b0784904-6dee-4306-b60f-125e87052ffd",
   "metadata": {},
   "outputs": [],
   "source": [
    "for i in range(len(text)):\n",
    "    text[i] = re.sub(r'[^a-zA-Z\\s]', \"\" ,text[i])"
   ]
  },
  {
   "cell_type": "code",
   "execution_count": 56,
   "id": "89c8ad61-6faa-48ee-b9f4-fbcd9fa12224",
   "metadata": {},
   "outputs": [
    {
     "name": "stdout",
     "output_type": "stream",
     "text": [
      "campeao da libertadores neste sabado  ao vencer o boca juniors por  a  no maracana o fluminense ira encher os cofres com uma premiacao milionaria por conta da historica campanha o clube carioca recebera um total de  milhoes de dolares cerca de r  milhoes segundo a cotacao atual somente a vitoria deste sabado garantiu  milhoes de dolares r r  milhoes para os novos campeoes da america  milhoes pela taca e mais  milhoes pela classificacao a fase de grupos do torneio no ano que vem  leia mais  ao longo da campanha o fluminense ja havia arrecadado mais  milhoes de dolares r  milhoes em premiacoes da conmebol este conteudo foi criado originalmente em itatiaia versao original\n"
     ]
    }
   ],
   "source": [
    "print(text[0])"
   ]
  },
  {
   "cell_type": "markdown",
   "id": "02977b39-1e4d-4f7e-92b8-06bebd2112c8",
   "metadata": {},
   "source": [
    "### NLTK"
   ]
  },
  {
   "cell_type": "code",
   "execution_count": 57,
   "id": "2534f4b8-ff0a-4351-94a3-66ee72e1ffd3",
   "metadata": {},
   "outputs": [],
   "source": [
    "token_text = []\n",
    "\n",
    "for j in text:\n",
    "    token_text.append(nltk.word_tokenize(j))"
   ]
  },
  {
   "cell_type": "code",
   "execution_count": 58,
   "id": "a6124e77-e0d1-4d1e-b9bf-17f171695772",
   "metadata": {},
   "outputs": [
    {
     "name": "stdout",
     "output_type": "stream",
     "text": [
      "['campeao', 'da', 'libertadores', 'neste', 'sabado', 'ao', 'vencer', 'o', 'boca', 'juniors', 'por', 'a', 'no', 'maracana', 'o', 'fluminense', 'ira', 'encher', 'os', 'cofres', 'com', 'uma', 'premiacao', 'milionaria', 'por', 'conta', 'da', 'historica', 'campanha', 'o', 'clube', 'carioca', 'recebera', 'um', 'total', 'de', 'milhoes', 'de', 'dolares', 'cerca', 'de', 'r', 'milhoes', 'segundo', 'a', 'cotacao', 'atual', 'somente', 'a', 'vitoria', 'deste', 'sabado', 'garantiu', 'milhoes', 'de', 'dolares', 'r', 'r', 'milhoes', 'para', 'os', 'novos', 'campeoes', 'da', 'america', 'milhoes', 'pela', 'taca', 'e', 'mais', 'milhoes', 'pela', 'classificacao', 'a', 'fase', 'de', 'grupos', 'do', 'torneio', 'no', 'ano', 'que', 'vem', 'leia', 'mais', 'ao', 'longo', 'da', 'campanha', 'o', 'fluminense', 'ja', 'havia', 'arrecadado', 'mais', 'milhoes', 'de', 'dolares', 'r', 'milhoes', 'em', 'premiacoes', 'da', 'conmebol', 'este', 'conteudo', 'foi', 'criado', 'originalmente', 'em', 'itatiaia', 'versao', 'original']\n"
     ]
    }
   ],
   "source": [
    "print(token_text[0])"
   ]
  },
  {
   "cell_type": "code",
   "execution_count": 59,
   "id": "9e891517-f3dd-491c-a02e-7fe17e0ecff7",
   "metadata": {},
   "outputs": [
    {
     "name": "stderr",
     "output_type": "stream",
     "text": [
      "[nltk_data] Downloading package stopwords to /home/hworld/nltk_data...\n",
      "[nltk_data]   Package stopwords is already up-to-date!\n"
     ]
    },
    {
     "data": {
      "text/plain": [
       "True"
      ]
     },
     "execution_count": 59,
     "metadata": {},
     "output_type": "execute_result"
    }
   ],
   "source": [
    "nltk.download('stopwords')"
   ]
  },
  {
   "cell_type": "code",
   "execution_count": 60,
   "id": "7ce4e6e6-b023-4dd0-b5b3-624c55220bed",
   "metadata": {},
   "outputs": [],
   "source": [
    "from nltk.corpus import stopwords\n",
    "sw = stopwords.words('portuguese')"
   ]
  },
  {
   "cell_type": "code",
   "execution_count": 61,
   "id": "c7a094e5-44b5-4079-bfff-1201a537ded8",
   "metadata": {},
   "outputs": [],
   "source": [
    "for stop in sw:\n",
    "    for text in token_text:\n",
    "        for t in text:\n",
    "            if(t == stop):\n",
    "                text.remove(t)"
   ]
  },
  {
   "cell_type": "code",
   "execution_count": 62,
   "id": "6a9a56b7-e028-43f7-bc0b-d0c6dcc31604",
   "metadata": {},
   "outputs": [
    {
     "name": "stdout",
     "output_type": "stream",
     "text": [
      "['campeao', 'libertadores', 'neste', 'sabado', 'vencer', 'boca', 'juniors', 'maracana', 'fluminense', 'ira', 'encher', 'cofres', 'premiacao', 'milionaria', 'conta', 'historica', 'campanha', 'clube', 'carioca', 'recebera', 'total', 'milhoes', 'dolares', 'cerca', 'r', 'milhoes', 'segundo', 'cotacao', 'atual', 'somente', 'vitoria', 'deste', 'sabado', 'garantiu', 'milhoes', 'dolares', 'r', 'r', 'milhoes', 'novos', 'campeoes', 'america', 'milhoes', 'taca', 'milhoes', 'classificacao', 'fase', 'grupos', 'torneio', 'ano', 'vem', 'leia', 'longo', 'campanha', 'fluminense', 'ja', 'havia', 'arrecadado', 'milhoes', 'dolares', 'r', 'milhoes', 'premiacoes', 'conmebol', 'conteudo', 'criado', 'originalmente', 'itatiaia', 'versao', 'original']\n"
     ]
    }
   ],
   "source": [
    "print(token_text[0])"
   ]
  },
  {
   "cell_type": "code",
   "execution_count": 63,
   "id": "75724920-33df-45ea-bc66-62cd512dc49e",
   "metadata": {},
   "outputs": [
    {
     "data": {
      "text/html": [
       "<div>\n",
       "<style scoped>\n",
       "    .dataframe tbody tr th:only-of-type {\n",
       "        vertical-align: middle;\n",
       "    }\n",
       "\n",
       "    .dataframe tbody tr th {\n",
       "        vertical-align: top;\n",
       "    }\n",
       "\n",
       "    .dataframe thead th {\n",
       "        text-align: right;\n",
       "    }\n",
       "</style>\n",
       "<table border=\"1\" class=\"dataframe\">\n",
       "  <thead>\n",
       "    <tr style=\"text-align: right;\">\n",
       "      <th></th>\n",
       "      <th>titulo</th>\n",
       "      <th>texto</th>\n",
       "      <th>link</th>\n",
       "      <th>resumo</th>\n",
       "      <th>categoria</th>\n",
       "      <th>data_hora</th>\n",
       "    </tr>\n",
       "  </thead>\n",
       "  <tbody>\n",
       "    <tr>\n",
       "      <th>0</th>\n",
       "      <td>Saiba quantos milhões o Fluminense ganhará de ...</td>\n",
       "      <td>[campeao, libertadores, neste, sabado, vencer,...</td>\n",
       "      <td>https://www.cnnbrasil.com.br/esportes/saiba-qu...</td>\n",
       "      <td>Clube carioca conquistou o seu primeiro título...</td>\n",
       "      <td>esportes</td>\n",
       "      <td>2023-11-04 23:28:36</td>\n",
       "    </tr>\n",
       "    <tr>\n",
       "      <th>1</th>\n",
       "      <td>Inglaterra x Malta: horário e onde assistir ao...</td>\n",
       "      <td>[inglaterra, malta, enfrentam, nesta, sextafei...</td>\n",
       "      <td>https://www.cnnbrasil.com.br/esportes/inglater...</td>\n",
       "      <td>Equipes se enfrentam nesta sexta-feira (17), à...</td>\n",
       "      <td>esportes</td>\n",
       "      <td>2023-11-17 13:24:50</td>\n",
       "    </tr>\n",
       "  </tbody>\n",
       "</table>\n",
       "</div>"
      ],
      "text/plain": [
       "                                              titulo  \\\n",
       "0  Saiba quantos milhões o Fluminense ganhará de ...   \n",
       "1  Inglaterra x Malta: horário e onde assistir ao...   \n",
       "\n",
       "                                               texto  \\\n",
       "0  [campeao, libertadores, neste, sabado, vencer,...   \n",
       "1  [inglaterra, malta, enfrentam, nesta, sextafei...   \n",
       "\n",
       "                                                link  \\\n",
       "0  https://www.cnnbrasil.com.br/esportes/saiba-qu...   \n",
       "1  https://www.cnnbrasil.com.br/esportes/inglater...   \n",
       "\n",
       "                                              resumo categoria  \\\n",
       "0  Clube carioca conquistou o seu primeiro título...  esportes   \n",
       "1  Equipes se enfrentam nesta sexta-feira (17), à...  esportes   \n",
       "\n",
       "             data_hora  \n",
       "0  2023-11-04 23:28:36  \n",
       "1  2023-11-17 13:24:50  "
      ]
     },
     "execution_count": 63,
     "metadata": {},
     "output_type": "execute_result"
    }
   ],
   "source": [
    "df_balanceado['texto'] = token_text\n",
    "df_balanceado.head(2)"
   ]
  },
  {
   "cell_type": "markdown",
   "id": "2a86a3f7-402e-4f60-8e02-b612fe83c051",
   "metadata": {},
   "source": [
    "## Análises"
   ]
  },
  {
   "cell_type": "code",
   "execution_count": 64,
   "id": "bc59c4ef-5077-4918-941d-56c0da1e7974",
   "metadata": {},
   "outputs": [
    {
     "name": "stdout",
     "output_type": "stream",
     "text": [
      "[('inglaterra', 3), ('malta', 2), ('grupo', 2), ('c', 2), ('eliminatorias', 2), ('enfrentam', 1), ('nesta', 1), ('sextafeira', 1), ('h', 1), ('brasilia', 1), ('estadio', 1), ('wembley', 1), ('fase', 1), ('grupos', 1), ('euro', 1), ('jogo', 1), ('nao', 1), ('tera', 1), ('transmissao', 1), ('tv', 1), ('aberta', 1), ('torcedor', 1), ('podera', 1), ('acompanhar', 1), ('confronto', 1), ('sportv', 1), ('canal', 1), ('assinatura', 1), ('globo', 1), ('leia', 1), ('duelo', 1), ('sera', 1), ('lider', 1), ('lanterna', 1), ('enquanto', 1), ('ja', 1), ('classificada', 1), ('tenta', 1), ('primeira', 1), ('vitoria', 1), ('conteudo', 1), ('criado', 1), ('originalmente', 1), ('itatiaia', 1), ('versao', 1), ('original', 1)]\n"
     ]
    }
   ],
   "source": [
    "from collections import Counter  # Contagem de frequência de palavras usando NLTK \n",
    "frequencia_palavras = Counter(token_text[1]) \n",
    "print(frequencia_palavras.most_common())"
   ]
  },
  {
   "cell_type": "code",
   "execution_count": 65,
   "id": "c86224cb-cc2e-4ce2-a70e-cd010bd88214",
   "metadata": {},
   "outputs": [
    {
     "data": {
      "image/png": "[encoded data removed]",
      "text/plain": [
       "<Figure size 1000x600 with 1 Axes>"
      ]
     },
     "metadata": {},
     "output_type": "display_data"
    }
   ],
   "source": [
    "# Obter os 10 tokens mais comuns e suas contagens\n",
    "tokens_mais_comuns = frequencia_palavras.most_common(20)\n",
    "palavras, contagens = zip(*tokens_mais_comuns)\n",
    "\n",
    "# Gráfico de Barras\n",
    "plt.figure(figsize=(10, 6))\n",
    "plt.bar(palavras, contagens)\n",
    "plt.xlabel('Palavras')\n",
    "plt.ylabel('Frequência')\n",
    "plt.title('10 Palavras Mais Comuns')\n",
    "plt.xticks(rotation=45)\n",
    "plt.show()"
   ]
  },
  {
   "cell_type": "code",
   "execution_count": 66,
   "id": "8d196b3e-c4e5-4495-9261-5d9993d20158",
   "metadata": {},
   "outputs": [
    {
     "data": {
      "image/png": "[encoded data removed]",
      "text/plain": [
       "<Figure size 1000x600 with 1 Axes>"
      ]
     },
     "metadata": {},
     "output_type": "display_data"
    }
   ],
   "source": [
    "palavras_ordenadas = sorted(frequencia_palavras.items(), key=lambda x: x[1], reverse=True)\n",
    "palavras, contagens = zip(*palavras_ordenadas)\n",
    "\n",
    "# Plotar o gráfico da Lei de Zipf\n",
    "plt.figure(figsize=(10, 6))\n",
    "plt.plot(range(1, len(palavras) + 1), contagens)\n",
    "plt.xlabel('Rank')\n",
    "plt.ylabel('Frequência')\n",
    "plt.title('Lei de Zipf - Frequência de Todas as Palavras')\n",
    "plt.grid(True)\n",
    "plt.show()"
   ]
  },
  {
   "cell_type": "markdown",
   "id": "ec752a64-fd72-4ca4-8e3e-1bfc43f5ac0f",
   "metadata": {},
   "source": [
    "## Prediction\n",
    "https://github.com/susanli2016/Machine-Learning-with-Python/blob/master/Consumer_complaints.ipynb"
   ]
  },
  {
   "cell_type": "code",
   "execution_count": 67,
   "id": "d13c1a7e-b6f1-4e49-982a-2388dee760d0",
   "metadata": {},
   "outputs": [
    {
     "name": "stdout",
     "output_type": "stream",
     "text": [
      "campeao libertadores neste sabado vencer boca juniors maracana fluminense ira encher cofres premiacao milionaria conta historica campanha clube carioca recebera total milhoes dolares cerca r milhoes segundo cotacao atual somente vitoria deste sabado garantiu milhoes dolares r r milhoes novos campeoes america milhoes taca milhoes classificacao fase grupos torneio ano vem leia longo campanha fluminense ja havia arrecadado milhoes dolares r milhoes premiacoes conmebol conteudo criado originalmente itatiaia versao original\n"
     ]
    }
   ],
   "source": [
    "for i in range(len(token_text)):\n",
    "    token_text[i] = \" \".join(token_text[i])\n",
    "print(token_text[0])"
   ]
  },
  {
   "cell_type": "code",
   "execution_count": 68,
   "id": "eea38f9b-5f83-431d-b6c5-30089529cbd1",
   "metadata": {},
   "outputs": [
    {
     "data": {
      "text/html": [
       "<div>\n",
       "<style scoped>\n",
       "    .dataframe tbody tr th:only-of-type {\n",
       "        vertical-align: middle;\n",
       "    }\n",
       "\n",
       "    .dataframe tbody tr th {\n",
       "        vertical-align: top;\n",
       "    }\n",
       "\n",
       "    .dataframe thead th {\n",
       "        text-align: right;\n",
       "    }\n",
       "</style>\n",
       "<table border=\"1\" class=\"dataframe\">\n",
       "  <thead>\n",
       "    <tr style=\"text-align: right;\">\n",
       "      <th></th>\n",
       "      <th>titulo</th>\n",
       "      <th>texto</th>\n",
       "      <th>link</th>\n",
       "      <th>resumo</th>\n",
       "      <th>categoria</th>\n",
       "      <th>data_hora</th>\n",
       "    </tr>\n",
       "  </thead>\n",
       "  <tbody>\n",
       "    <tr>\n",
       "      <th>0</th>\n",
       "      <td>Saiba quantos milhões o Fluminense ganhará de ...</td>\n",
       "      <td>campeao libertadores neste sabado vencer boca ...</td>\n",
       "      <td>https://www.cnnbrasil.com.br/esportes/saiba-qu...</td>\n",
       "      <td>Clube carioca conquistou o seu primeiro título...</td>\n",
       "      <td>esportes</td>\n",
       "      <td>2023-11-04 23:28:36</td>\n",
       "    </tr>\n",
       "    <tr>\n",
       "      <th>1</th>\n",
       "      <td>Inglaterra x Malta: horário e onde assistir ao...</td>\n",
       "      <td>inglaterra malta enfrentam nesta sextafeira h ...</td>\n",
       "      <td>https://www.cnnbrasil.com.br/esportes/inglater...</td>\n",
       "      <td>Equipes se enfrentam nesta sexta-feira (17), à...</td>\n",
       "      <td>esportes</td>\n",
       "      <td>2023-11-17 13:24:50</td>\n",
       "    </tr>\n",
       "    <tr>\n",
       "      <th>2</th>\n",
       "      <td>Decisivo, atacante do Corinthians achou que ia...</td>\n",
       "      <td>minutos segundo tempo giovane entrou campo lug...</td>\n",
       "      <td>https://www.cnnbrasil.com.br/esportes/decisivo...</td>\n",
       "      <td>Giovane ficou fora dos gramados por mais de do...</td>\n",
       "      <td>esportes</td>\n",
       "      <td>2023-11-29 13:20:29</td>\n",
       "    </tr>\n",
       "    <tr>\n",
       "      <th>3</th>\n",
       "      <td>América-MG reelege Alencar da Silvera Jr. como...</td>\n",
       "      <td>americamg noite desta tercafeira eleicoes defi...</td>\n",
       "      <td>https://www.cnnbrasil.com.br/esportes/america-...</td>\n",
       "      <td>Conselho de Administração do Clube terá duas m...</td>\n",
       "      <td>esportes</td>\n",
       "      <td>2023-11-29 00:33:15</td>\n",
       "    </tr>\n",
       "    <tr>\n",
       "      <th>4</th>\n",
       "      <td>Tite evita assunto no Flamengo: ‘Não quero ser...</td>\n",
       "      <td>flamengo cedeu empate contra fluminense neste ...</td>\n",
       "      <td>https://www.cnnbrasil.com.br/esportes/tite-evi...</td>\n",
       "      <td>Questionado sobre aspecto físico do elenco na ...</td>\n",
       "      <td>esportes</td>\n",
       "      <td>2023-11-12 16:02:23</td>\n",
       "    </tr>\n",
       "  </tbody>\n",
       "</table>\n",
       "</div>"
      ],
      "text/plain": [
       "                                              titulo  \\\n",
       "0  Saiba quantos milhões o Fluminense ganhará de ...   \n",
       "1  Inglaterra x Malta: horário e onde assistir ao...   \n",
       "2  Decisivo, atacante do Corinthians achou que ia...   \n",
       "3  América-MG reelege Alencar da Silvera Jr. como...   \n",
       "4  Tite evita assunto no Flamengo: ‘Não quero ser...   \n",
       "\n",
       "                                               texto  \\\n",
       "0  campeao libertadores neste sabado vencer boca ...   \n",
       "1  inglaterra malta enfrentam nesta sextafeira h ...   \n",
       "2  minutos segundo tempo giovane entrou campo lug...   \n",
       "3  americamg noite desta tercafeira eleicoes defi...   \n",
       "4  flamengo cedeu empate contra fluminense neste ...   \n",
       "\n",
       "                                                link  \\\n",
       "0  https://www.cnnbrasil.com.br/esportes/saiba-qu...   \n",
       "1  https://www.cnnbrasil.com.br/esportes/inglater...   \n",
       "2  https://www.cnnbrasil.com.br/esportes/decisivo...   \n",
       "3  https://www.cnnbrasil.com.br/esportes/america-...   \n",
       "4  https://www.cnnbrasil.com.br/esportes/tite-evi...   \n",
       "\n",
       "                                              resumo categoria  \\\n",
       "0  Clube carioca conquistou o seu primeiro título...  esportes   \n",
       "1  Equipes se enfrentam nesta sexta-feira (17), à...  esportes   \n",
       "2  Giovane ficou fora dos gramados por mais de do...  esportes   \n",
       "3  Conselho de Administração do Clube terá duas m...  esportes   \n",
       "4  Questionado sobre aspecto físico do elenco na ...  esportes   \n",
       "\n",
       "             data_hora  \n",
       "0  2023-11-04 23:28:36  \n",
       "1  2023-11-17 13:24:50  \n",
       "2  2023-11-29 13:20:29  \n",
       "3  2023-11-29 00:33:15  \n",
       "4  2023-11-12 16:02:23  "
      ]
     },
     "execution_count": 68,
     "metadata": {},
     "output_type": "execute_result"
    }
   ],
   "source": [
    "df_balanceado['texto'] = token_text\n",
    "df_balanceado.head(5)"
   ]
  },
  {
   "cell_type": "code",
   "execution_count": 69,
   "id": "e4d2a077-d1bc-4c84-8ce7-c03b704f7ac6",
   "metadata": {},
   "outputs": [],
   "source": [
    "col = ['categoria', 'texto']\n",
    "df_balanceado = df_balanceado[col]"
   ]
  },
  {
   "cell_type": "code",
   "execution_count": 70,
   "id": "18272ef1-c5c3-4ff8-879a-9f764e8d0435",
   "metadata": {},
   "outputs": [
    {
     "data": {
      "text/html": [
       "<div>\n",
       "<style scoped>\n",
       "    .dataframe tbody tr th:only-of-type {\n",
       "        vertical-align: middle;\n",
       "    }\n",
       "\n",
       "    .dataframe tbody tr th {\n",
       "        vertical-align: top;\n",
       "    }\n",
       "\n",
       "    .dataframe thead th {\n",
       "        text-align: right;\n",
       "    }\n",
       "</style>\n",
       "<table border=\"1\" class=\"dataframe\">\n",
       "  <thead>\n",
       "    <tr style=\"text-align: right;\">\n",
       "      <th></th>\n",
       "      <th>categoria</th>\n",
       "      <th>texto</th>\n",
       "    </tr>\n",
       "  </thead>\n",
       "  <tbody>\n",
       "    <tr>\n",
       "      <th>0</th>\n",
       "      <td>esportes</td>\n",
       "      <td>campeao libertadores neste sabado vencer boca ...</td>\n",
       "    </tr>\n",
       "    <tr>\n",
       "      <th>1</th>\n",
       "      <td>esportes</td>\n",
       "      <td>inglaterra malta enfrentam nesta sextafeira h ...</td>\n",
       "    </tr>\n",
       "    <tr>\n",
       "      <th>2</th>\n",
       "      <td>esportes</td>\n",
       "      <td>minutos segundo tempo giovane entrou campo lug...</td>\n",
       "    </tr>\n",
       "    <tr>\n",
       "      <th>3</th>\n",
       "      <td>esportes</td>\n",
       "      <td>americamg noite desta tercafeira eleicoes defi...</td>\n",
       "    </tr>\n",
       "    <tr>\n",
       "      <th>4</th>\n",
       "      <td>esportes</td>\n",
       "      <td>flamengo cedeu empate contra fluminense neste ...</td>\n",
       "    </tr>\n",
       "  </tbody>\n",
       "</table>\n",
       "</div>"
      ],
      "text/plain": [
       "  categoria                                              texto\n",
       "0  esportes  campeao libertadores neste sabado vencer boca ...\n",
       "1  esportes  inglaterra malta enfrentam nesta sextafeira h ...\n",
       "2  esportes  minutos segundo tempo giovane entrou campo lug...\n",
       "3  esportes  americamg noite desta tercafeira eleicoes defi...\n",
       "4  esportes  flamengo cedeu empate contra fluminense neste ..."
      ]
     },
     "execution_count": 70,
     "metadata": {},
     "output_type": "execute_result"
    }
   ],
   "source": [
    "df_balanceado.head()"
   ]
  },
  {
   "cell_type": "code",
   "execution_count": 71,
   "id": "5ad5898d-dfde-47db-8d88-05fd8e8e3043",
   "metadata": {},
   "outputs": [
    {
     "data": {
      "text/html": [
       "<div>\n",
       "<style scoped>\n",
       "    .dataframe tbody tr th:only-of-type {\n",
       "        vertical-align: middle;\n",
       "    }\n",
       "\n",
       "    .dataframe tbody tr th {\n",
       "        vertical-align: top;\n",
       "    }\n",
       "\n",
       "    .dataframe thead th {\n",
       "        text-align: right;\n",
       "    }\n",
       "</style>\n",
       "<table border=\"1\" class=\"dataframe\">\n",
       "  <thead>\n",
       "    <tr style=\"text-align: right;\">\n",
       "      <th></th>\n",
       "      <th>categoria</th>\n",
       "      <th>texto</th>\n",
       "      <th>category_id</th>\n",
       "    </tr>\n",
       "  </thead>\n",
       "  <tbody>\n",
       "    <tr>\n",
       "      <th>0</th>\n",
       "      <td>esportes</td>\n",
       "      <td>campeao libertadores neste sabado vencer boca ...</td>\n",
       "      <td>0</td>\n",
       "    </tr>\n",
       "    <tr>\n",
       "      <th>1</th>\n",
       "      <td>esportes</td>\n",
       "      <td>inglaterra malta enfrentam nesta sextafeira h ...</td>\n",
       "      <td>0</td>\n",
       "    </tr>\n",
       "    <tr>\n",
       "      <th>2</th>\n",
       "      <td>esportes</td>\n",
       "      <td>minutos segundo tempo giovane entrou campo lug...</td>\n",
       "      <td>0</td>\n",
       "    </tr>\n",
       "    <tr>\n",
       "      <th>3</th>\n",
       "      <td>esportes</td>\n",
       "      <td>americamg noite desta tercafeira eleicoes defi...</td>\n",
       "      <td>0</td>\n",
       "    </tr>\n",
       "    <tr>\n",
       "      <th>4</th>\n",
       "      <td>esportes</td>\n",
       "      <td>flamengo cedeu empate contra fluminense neste ...</td>\n",
       "      <td>0</td>\n",
       "    </tr>\n",
       "  </tbody>\n",
       "</table>\n",
       "</div>"
      ],
      "text/plain": [
       "  categoria                                              texto  category_id\n",
       "0  esportes  campeao libertadores neste sabado vencer boca ...            0\n",
       "1  esportes  inglaterra malta enfrentam nesta sextafeira h ...            0\n",
       "2  esportes  minutos segundo tempo giovane entrou campo lug...            0\n",
       "3  esportes  americamg noite desta tercafeira eleicoes defi...            0\n",
       "4  esportes  flamengo cedeu empate contra fluminense neste ...            0"
      ]
     },
     "execution_count": 71,
     "metadata": {},
     "output_type": "execute_result"
    }
   ],
   "source": [
    "df_balanceado['category_id'] = df_balanceado['categoria'].factorize()[0]\n",
    "from io import StringIO\n",
    "category_id_df = df_balanceado[['categoria', 'category_id']].drop_duplicates().sort_values('category_id')\n",
    "category_to_id = dict(category_id_df.values)\n",
    "id_to_category = dict(category_id_df[['category_id', 'categoria']].values)\n",
    "df_balanceado.head()"
   ]
  },
  {
   "cell_type": "code",
   "execution_count": 80,
   "id": "89e3f2cd-38af-458d-aabe-c448ee51f876",
   "metadata": {},
   "outputs": [
    {
     "data": {
      "text/plain": [
       "(2700, 19380)"
      ]
     },
     "execution_count": 80,
     "metadata": {},
     "output_type": "execute_result"
    }
   ],
   "source": [
    "## Bag of Words model - TF-IDF\n",
    "from sklearn.feature_extraction.text import TfidfVectorizer\n",
    "tfidf = TfidfVectorizer(sublinear_tf=True, min_df=5, norm='l2', encoding='latin-1', ngram_range=(1, 2), stop_words=sw)\n",
    "features = tfidf.fit_transform(df_balanceado['texto']).toarray()\n",
    "labels = df_balanceado.category_id\n",
    "features.shape"
   ]
  },
  {
   "cell_type": "code",
   "execution_count": 83,
   "id": "a473cad0-5e3e-4e15-b4aa-cdc05ac86c33",
   "metadata": {},
   "outputs": [
    {
     "name": "stdout",
     "output_type": "stream",
     "text": [
      "# 'economia':\n",
      "  . Most correlated unigrams:\n",
      ". reforma\n",
      ". bilhoes\n",
      "  . Most correlated bigrams:\n",
      ". banco central\n",
      ". reforma tributaria\n",
      "# 'entretenimento':\n",
      "  . Most correlated unigrams:\n",
      ". fas\n",
      ". cantora\n",
      "  . Most correlated bigrams:\n",
      ". shared by\n",
      ". post shared\n",
      "# 'esportes':\n",
      "  . Most correlated unigrams:\n",
      ". rodada\n",
      ". campeonato\n",
      "  . Most correlated bigrams:\n",
      ". itatiaia versao\n",
      ". originalmente itatiaia\n",
      "# 'internacional':\n",
      "  . Most correlated unigrams:\n",
      ". gaza\n",
      ". israel\n",
      "  . Most correlated bigrams:\n",
      ". defesa israel\n",
      ". faixa gaza\n",
      "# 'nacional':\n",
      "  . Most correlated unigrams:\n",
      ". civil\n",
      ". policia\n",
      "  . Most correlated bigrams:\n",
      ". defesa civil\n",
      ". policia civil\n",
      "# 'politica':\n",
      "  . Most correlated unigrams:\n",
      ". supremo\n",
      ". stf\n",
      "  . Most correlated bigrams:\n",
      ". supremo tribunal\n",
      ". tribunal federal\n"
     ]
    }
   ],
   "source": [
    "from sklearn.feature_selection import chi2\n",
    "import numpy as np\n",
    "\n",
    "N = 2\n",
    "\n",
    "for categoria, category_id in sorted(category_to_id.items()):\n",
    "  features_chi2 = chi2(features, labels == category_id)\n",
    "  indices = np.argsort(features_chi2[0])\n",
    "  feature_names = np.array(tfidf.get_feature_names_out())[indices]\n",
    "  unigrams = [v for v in feature_names if len(v.split(' ')) == 1]\n",
    "  bigrams = [v for v in feature_names if len(v.split(' ')) == 2]\n",
    "  print(\"# '{}':\".format(categoria))\n",
    "  print(\"  . Most correlated unigrams:\\n. {}\".format('\\n. '.join(unigrams[-N:])))\n",
    "  print(\"  . Most correlated bigrams:\\n. {}\".format('\\n. '.join(bigrams[-N:])))"
   ]
  },
  {
   "cell_type": "code",
   "execution_count": 85,
   "id": "687864a6-c2db-4e50-be02-5fef0fce5b3e",
   "metadata": {},
   "outputs": [],
   "source": [
    "from sklearn.model_selection import train_test_split\n",
    "from sklearn.feature_extraction.text import CountVectorizer\n",
    "from sklearn.feature_extraction.text import TfidfTransformer\n",
    "from sklearn.naive_bayes import MultinomialNB\n",
    "\n",
    "X_train, X_test, y_train, y_test = train_test_split(df_balanceado['texto'], df_balanceado['categoria'], random_state = 2)\n",
    "count_vect = CountVectorizer()\n",
    "X_train_counts = count_vect.fit_transform(X_train)\n",
    "tfidf_transformer = TfidfTransformer()\n",
    "X_train_tfidf = tfidf_transformer.fit_transform(X_train_counts)\n",
    "\n",
    "clf = MultinomialNB().fit(X_train_tfidf, y_train)"
   ]
  },
  {
   "cell_type": "code",
   "execution_count": 87,
   "id": "c6f670a3-9d48-4e9c-b080-d68b1821fca5",
   "metadata": {},
   "outputs": [
    {
     "name": "stderr",
     "output_type": "stream",
     "text": [
      "/home/hworld/.local/lib/python3.10/site-packages/sklearn/svm/_classes.py:31: FutureWarning: The default value of `dual` will change from `True` to `'auto'` in 1.5. Set the value of `dual` explicitly to suppress the warning.\n",
      "  warnings.warn(\n",
      "/home/hworld/.local/lib/python3.10/site-packages/sklearn/svm/_classes.py:31: FutureWarning: The default value of `dual` will change from `True` to `'auto'` in 1.5. Set the value of `dual` explicitly to suppress the warning.\n",
      "  warnings.warn(\n",
      "/home/hworld/.local/lib/python3.10/site-packages/sklearn/svm/_classes.py:31: FutureWarning: The default value of `dual` will change from `True` to `'auto'` in 1.5. Set the value of `dual` explicitly to suppress the warning.\n",
      "  warnings.warn(\n",
      "/home/hworld/.local/lib/python3.10/site-packages/sklearn/svm/_classes.py:31: FutureWarning: The default value of `dual` will change from `True` to `'auto'` in 1.5. Set the value of `dual` explicitly to suppress the warning.\n",
      "  warnings.warn(\n",
      "/home/hworld/.local/lib/python3.10/site-packages/sklearn/svm/_classes.py:31: FutureWarning: The default value of `dual` will change from `True` to `'auto'` in 1.5. Set the value of `dual` explicitly to suppress the warning.\n",
      "  warnings.warn(\n"
     ]
    }
   ],
   "source": [
    "from sklearn.linear_model import LogisticRegression\n",
    "from sklearn.ensemble import RandomForestClassifier\n",
    "from sklearn.naive_bayes import MultinomialNB\n",
    "from sklearn.svm import LinearSVC\n",
    "\n",
    "from sklearn.model_selection import cross_val_score\n",
    "\n",
    "models = [\n",
    "    RandomForestClassifier(n_estimators=200, max_depth=3, random_state=0),\n",
    "    LinearSVC(),\n",
    "    MultinomialNB(),\n",
    "    LogisticRegression(random_state=0),\n",
    "]\n",
    "CV = 5\n",
    "cv_df = pd.DataFrame(index=range(CV * len(models)))\n",
    "entries = []\n",
    "for model in models:\n",
    "  model_name = model.__class__.__name__\n",
    "  accuracies = cross_val_score(model, features, labels, scoring='accuracy', cv=CV)\n",
    "  for fold_idx, accuracy in enumerate(accuracies):\n",
    "    entries.append((model_name, fold_idx, accuracy))\n",
    "cv_df = pd.DataFrame(entries, columns=['model_name', 'fold_idx', 'accuracy'])"
   ]
  },
  {
   "cell_type": "code",
   "execution_count": 96,
   "id": "ada26c75-2146-40bd-ac71-ef25fa7a61f2",
   "metadata": {},
   "outputs": [
    {
     "data": {
      "text/plain": [
       "model_name\n",
       "LinearSVC                 0.905926\n",
       "LogisticRegression        0.888148\n",
       "MultinomialNB             0.881852\n",
       "RandomForestClassifier    0.784444\n",
       "Name: accuracy, dtype: float64"
      ]
     },
     "execution_count": 96,
     "metadata": {},
     "output_type": "execute_result"
    }
   ],
   "source": [
    "cv_df.groupby('model_name').accuracy.mean()"
   ]
  },
  {
   "cell_type": "code",
   "execution_count": 98,
   "id": "f9442d19-ff2b-4fec-b654-b4bdfeafcae4",
   "metadata": {},
   "outputs": [
    {
     "name": "stderr",
     "output_type": "stream",
     "text": [
      "/home/hworld/.local/lib/python3.10/site-packages/sklearn/svm/_classes.py:31: FutureWarning: The default value of `dual` will change from `True` to `'auto'` in 1.5. Set the value of `dual` explicitly to suppress the warning.\n",
      "  warnings.warn(\n"
     ]
    }
   ],
   "source": [
    "from sklearn.model_selection import train_test_split\n",
    "\n",
    "model = LinearSVC()\n",
    "\n",
    "X_train, X_test, y_train, y_test, indices_train, indices_test = train_test_split(features, labels, df_balanceado.index, test_size=0.33, random_state=0)\n",
    "model.fit(X_train, y_train)\n",
    "y_pred = model.predict(X_test)"
   ]
  },
  {
   "cell_type": "code",
   "execution_count": 97,
   "id": "dc190f0a-bf77-436c-8e07-96c061bb534b",
   "metadata": {},
   "outputs": [
    {
     "name": "stdout",
     "output_type": "stream",
     "text": [
      "                precision    recall  f1-score   support\n",
      "\n",
      "      esportes       0.99      0.97      0.98       140\n",
      "      nacional       0.87      0.89      0.88       147\n",
      " internacional       0.90      0.91      0.91       159\n",
      "      economia       0.89      0.92      0.90       137\n",
      "      politica       0.86      0.76      0.80       141\n",
      "entretenimento       0.93      0.98      0.95       167\n",
      "\n",
      "      accuracy                           0.91       891\n",
      "     macro avg       0.91      0.90      0.90       891\n",
      "  weighted avg       0.91      0.91      0.91       891\n",
      "\n"
     ]
    }
   ],
   "source": [
    "from sklearn import metrics\n",
    "print(metrics.classification_report(y_test, y_pred,target_names=df_balanceado['categoria'].unique()))"
   ]
  }
 ],
 "metadata": {
  "kernelspec": {
   "display_name": "Python 3 (ipykernel)",
   "language": "python",
   "name": "python3"
  },
  "language_info": {
   "codemirror_mode": {
    "name": "ipython",
    "version": 3
   },
   "file_extension": ".py",
   "mimetype": "text/x-python",
   "name": "python",
   "nbconvert_exporter": "python",
   "pygments_lexer": "ipython3",
   "version": "3.10.9"
  }
 },
 "nbformat": 4,
 "nbformat_minor": 5
}
