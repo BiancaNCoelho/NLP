{
 "cells": [
  {
   "cell_type": "markdown",
   "id": "2dcc6805-62bb-443d-90da-97a664722ced",
   "metadata": {},
   "source": [
    "# Trabalho 1\n",
    "Matéria: Processamento de Linguagem Natural <br>\n",
    "Dupla/Matrícula: Bianca Nunes Coelho - 15102880, Raíssa Nunes Coelho - 15102887 <br> "
   ]
  },
  {
   "cell_type": "markdown",
   "id": "dad90a93-1f3f-4c3d-9526-319fb5b42742",
   "metadata": {},
   "source": [
    "## Introdução\n",
    "\n",
    "Multi Class Classification <br>"
   ]
  },
  {
   "cell_type": "markdown",
   "id": "988aaa3a-0dd6-49e6-a703-ec5b042048fb",
   "metadata": {},
   "source": [
    "## Bibliotecas\n",
    "Bibliotecas do ptyhon utilizadas neste trabalho estão a seguir."
   ]
  },
  {
   "cell_type": "code",
   "execution_count": 1,
   "id": "a3cd0f70-3ec7-4e09-b942-8a08a73bb744",
   "metadata": {},
   "outputs": [],
   "source": [
    "import pandas as pd\n",
    "import re\n",
    "import nltk\n",
    "import spacy\n",
    "import gensim\n",
    "import matplotlib.pyplot as plt"
   ]
  },
  {
   "cell_type": "markdown",
   "id": "1560868d-ad70-4a86-a2c8-ddc37c631191",
   "metadata": {},
   "source": [
    "## Datasets\n",
    "Datasets utilizados estão definidos a seguir."
   ]
  },
  {
   "cell_type": "code",
   "execution_count": 2,
   "id": "35b67696-aaf3-4ac5-9d2a-ee1772410097",
   "metadata": {},
   "outputs": [],
   "source": [
    "file = \"train-00000-of-00001-ecf072e7202447d8.parquet\"\n",
    "df = pd.read_parquet(file, engine= 'pyarrow')"
   ]
  },
  {
   "cell_type": "code",
   "execution_count": 3,
   "id": "ab167922-da09-4405-bd0a-729b239877dc",
   "metadata": {},
   "outputs": [
    {
     "data": {
      "text/plain": [
       "3877"
      ]
     },
     "execution_count": 3,
     "metadata": {},
     "output_type": "execute_result"
    }
   ],
   "source": [
    "len(df)"
   ]
  },
  {
   "cell_type": "code",
   "execution_count": 4,
   "id": "41b78a0c-a498-46e2-8e7b-84f28daf62ca",
   "metadata": {
    "scrolled": true
   },
   "outputs": [
    {
     "data": {
      "text/html": [
       "<div>\n",
       "<style scoped>\n",
       "    .dataframe tbody tr th:only-of-type {\n",
       "        vertical-align: middle;\n",
       "    }\n",
       "\n",
       "    .dataframe tbody tr th {\n",
       "        vertical-align: top;\n",
       "    }\n",
       "\n",
       "    .dataframe thead th {\n",
       "        text-align: right;\n",
       "    }\n",
       "</style>\n",
       "<table border=\"1\" class=\"dataframe\">\n",
       "  <thead>\n",
       "    <tr style=\"text-align: right;\">\n",
       "      <th></th>\n",
       "      <th>titulo</th>\n",
       "      <th>texto</th>\n",
       "      <th>link</th>\n",
       "      <th>resumo</th>\n",
       "      <th>categoria</th>\n",
       "      <th>data_hora</th>\n",
       "    </tr>\n",
       "  </thead>\n",
       "  <tbody>\n",
       "    <tr>\n",
       "      <th>0</th>\n",
       "      <td>Veja a trajetória de Fernando Diniz, em busca ...</td>\n",
       "      <td>Se tem um treinador que sempre foi badalado pe...</td>\n",
       "      <td>https://www.cnnbrasil.com.br/esportes/veja-a-t...</td>\n",
       "      <td>Técnico tricolor e da Seleção Brasileira tem a...</td>\n",
       "      <td>esportes</td>\n",
       "      <td>2023-11-04 12:26:18</td>\n",
       "    </tr>\n",
       "    <tr>\n",
       "      <th>1</th>\n",
       "      <td>Após tempestade com ventos, São Paulo terá sáb...</td>\n",
       "      <td>Após uma tempestade com ventos de mais de 100 ...</td>\n",
       "      <td>https://www.cnnbrasil.com.br/nacional/apos-tem...</td>\n",
       "      <td>Termômetros devem chegar a 26ºC, esquentando a...</td>\n",
       "      <td>nacional</td>\n",
       "      <td>2023-11-04 12:15:44</td>\n",
       "    </tr>\n",
       "    <tr>\n",
       "      <th>2</th>\n",
       "      <td>Como os aplicativos de relacionamento “arruina...</td>\n",
       "      <td>Jenny Nguyen-Don estava com vontade de comer f...</td>\n",
       "      <td>https://www.cnnbrasil.com.br/tecnologia/como-o...</td>\n",
       "      <td>Pessoas em busca de relacionamentos afirmam qu...</td>\n",
       "      <td>tecnologia</td>\n",
       "      <td>2023-11-04 12:15:07</td>\n",
       "    </tr>\n",
       "    <tr>\n",
       "      <th>3</th>\n",
       "      <td>Fluminense pode ser o 26º clube a levantar a t...</td>\n",
       "      <td>O Fluminense vai em busca do primeiro título d...</td>\n",
       "      <td>https://www.cnnbrasil.com.br/esportes/fluminen...</td>\n",
       "      <td>Em busca do título inédito, o Tricolor carioca...</td>\n",
       "      <td>esportes</td>\n",
       "      <td>2023-11-04 12:05:24</td>\n",
       "    </tr>\n",
       "  </tbody>\n",
       "</table>\n",
       "</div>"
      ],
      "text/plain": [
       "                                              titulo  \\\n",
       "0  Veja a trajetória de Fernando Diniz, em busca ...   \n",
       "1  Após tempestade com ventos, São Paulo terá sáb...   \n",
       "2  Como os aplicativos de relacionamento “arruina...   \n",
       "3  Fluminense pode ser o 26º clube a levantar a t...   \n",
       "\n",
       "                                               texto  \\\n",
       "0  Se tem um treinador que sempre foi badalado pe...   \n",
       "1  Após uma tempestade com ventos de mais de 100 ...   \n",
       "2  Jenny Nguyen-Don estava com vontade de comer f...   \n",
       "3  O Fluminense vai em busca do primeiro título d...   \n",
       "\n",
       "                                                link  \\\n",
       "0  https://www.cnnbrasil.com.br/esportes/veja-a-t...   \n",
       "1  https://www.cnnbrasil.com.br/nacional/apos-tem...   \n",
       "2  https://www.cnnbrasil.com.br/tecnologia/como-o...   \n",
       "3  https://www.cnnbrasil.com.br/esportes/fluminen...   \n",
       "\n",
       "                                              resumo   categoria  \\\n",
       "0  Técnico tricolor e da Seleção Brasileira tem a...    esportes   \n",
       "1  Termômetros devem chegar a 26ºC, esquentando a...    nacional   \n",
       "2  Pessoas em busca de relacionamentos afirmam qu...  tecnologia   \n",
       "3  Em busca do título inédito, o Tricolor carioca...    esportes   \n",
       "\n",
       "             data_hora  \n",
       "0  2023-11-04 12:26:18  \n",
       "1  2023-11-04 12:15:44  \n",
       "2  2023-11-04 12:15:07  \n",
       "3  2023-11-04 12:05:24  "
      ]
     },
     "execution_count": 4,
     "metadata": {},
     "output_type": "execute_result"
    }
   ],
   "source": [
    "df.head(4)"
   ]
  },
  {
   "cell_type": "markdown",
   "id": "8aa6f7f3-edb4-4990-9cca-4b80617f41dd",
   "metadata": {},
   "source": [
    "## Balanceamento"
   ]
  },
  {
   "cell_type": "code",
   "execution_count": 5,
   "id": "3ef5e8fa-9005-40f3-b0fd-2a9d50cb97dd",
   "metadata": {},
   "outputs": [
    {
     "data": {
      "text/plain": [
       "esportes           960\n",
       "nacional           623\n",
       "internacional      618\n",
       "economia           562\n",
       "politica           507\n",
       "entretenimento     450\n",
       "tecnologia          44\n",
       "saude               41\n",
       "noticias            38\n",
       "lifestyle           21\n",
       "branded-content     13\n",
       "Name: categoria, dtype: int64"
      ]
     },
     "execution_count": 5,
     "metadata": {},
     "output_type": "execute_result"
    }
   ],
   "source": [
    "df['categoria'].value_counts()"
   ]
  },
  {
   "cell_type": "code",
   "execution_count": 6,
   "id": "498911e8-906e-41dc-9bdc-039d09b4c4ce",
   "metadata": {},
   "outputs": [
    {
     "data": {
      "text/plain": [
       "<AxesSubplot: >"
      ]
     },
     "execution_count": 6,
     "metadata": {},
     "output_type": "execute_result"
    },
    {
     "data": {
      "image/png": "[encoded data removed]",
      "text/plain": [
       "<Figure size 1000x400 with 1 Axes>"
      ]
     },
     "metadata": {},
     "output_type": "display_data"
    }
   ],
   "source": [
    "plt.figure(figsize=(10,4))\n",
    "df.categoria.value_counts().plot(kind='bar')"
   ]
  },
  {
   "cell_type": "code",
   "execution_count": 7,
   "id": "696e88a5-62a5-46c3-acec-8575da709518",
   "metadata": {},
   "outputs": [],
   "source": [
    "indice_linha_remover = ['tecnologia',  'saude','noticias','lifestyle','branded-content']"
   ]
  },
  {
   "cell_type": "code",
   "execution_count": 8,
   "id": "c971502d-21ba-40dd-8dab-3bd93640fad6",
   "metadata": {},
   "outputs": [],
   "source": [
    "df = df[~df['categoria'].isin(indice_linha_remover)]"
   ]
  },
  {
   "cell_type": "code",
   "execution_count": 9,
   "id": "519d61c7-a98e-4703-a157-455a39e71b7b",
   "metadata": {},
   "outputs": [
    {
     "data": {
      "text/plain": [
       "esportes          960\n",
       "nacional          623\n",
       "internacional     618\n",
       "economia          562\n",
       "politica          507\n",
       "entretenimento    450\n",
       "Name: categoria, dtype: int64"
      ]
     },
     "execution_count": 9,
     "metadata": {},
     "output_type": "execute_result"
    }
   ],
   "source": [
    "df['categoria'].value_counts()"
   ]
  },
  {
   "cell_type": "code",
   "execution_count": 10,
   "id": "8b080baf-1753-4f8c-88ba-ee247c734a79",
   "metadata": {},
   "outputs": [],
   "source": [
    "# Undersampling\n",
    "min = df['categoria'].value_counts().min()\n",
    "\n",
    "amostras = []\n",
    "\n",
    "for i in df['categoria'].value_counts().index:\n",
    "    a = df[df['categoria'] == i].sample(min, replace=False)\n",
    "    amostras.append(a)\n",
    "\n",
    "df_balanceado = pd.concat(amostras)"
   ]
  },
  {
   "cell_type": "code",
   "execution_count": 11,
   "id": "90d0307b-f2bf-4988-aa52-8795343fdfe1",
   "metadata": {},
   "outputs": [
    {
     "data": {
      "text/plain": [
       "esportes          450\n",
       "nacional          450\n",
       "internacional     450\n",
       "economia          450\n",
       "politica          450\n",
       "entretenimento    450\n",
       "Name: categoria, dtype: int64"
      ]
     },
     "execution_count": 11,
     "metadata": {},
     "output_type": "execute_result"
    }
   ],
   "source": [
    "df_balanceado['categoria'].value_counts()"
   ]
  },
  {
   "cell_type": "code",
   "execution_count": 12,
   "id": "892752bf-2247-4e1c-bb90-1c673908ad1c",
   "metadata": {},
   "outputs": [
    {
     "data": {
      "text/html": [
       "<div>\n",
       "<style scoped>\n",
       "    .dataframe tbody tr th:only-of-type {\n",
       "        vertical-align: middle;\n",
       "    }\n",
       "\n",
       "    .dataframe tbody tr th {\n",
       "        vertical-align: top;\n",
       "    }\n",
       "\n",
       "    .dataframe thead th {\n",
       "        text-align: right;\n",
       "    }\n",
       "</style>\n",
       "<table border=\"1\" class=\"dataframe\">\n",
       "  <thead>\n",
       "    <tr style=\"text-align: right;\">\n",
       "      <th></th>\n",
       "      <th>titulo</th>\n",
       "      <th>texto</th>\n",
       "      <th>link</th>\n",
       "      <th>resumo</th>\n",
       "      <th>categoria</th>\n",
       "      <th>data_hora</th>\n",
       "    </tr>\n",
       "  </thead>\n",
       "  <tbody>\n",
       "    <tr>\n",
       "      <th>0</th>\n",
       "      <td>Mourinho pode recusar Arábia por Seleção Brasi...</td>\n",
       "      <td>Enquanto Carlo Ancelotti não confirma se vai m...</td>\n",
       "      <td>https://www.cnnbrasil.com.br/esportes/mourinho...</td>\n",
       "      <td>Técnico português, José Mourinho tem contrato ...</td>\n",
       "      <td>esportes</td>\n",
       "      <td>2023-11-29 18:30:49</td>\n",
       "    </tr>\n",
       "    <tr>\n",
       "      <th>1</th>\n",
       "      <td>Taylor Swift curte “noitada” com namoradas de ...</td>\n",
       "      <td>Namorada do tight end do Kansas City Chiefs, a...</td>\n",
       "      <td>https://www.cnnbrasil.com.br/esportes/taylor-s...</td>\n",
       "      <td>Registro da curtição do grupo foi publicado po...</td>\n",
       "      <td>esportes</td>\n",
       "      <td>2023-11-08 13:55:03</td>\n",
       "    </tr>\n",
       "    <tr>\n",
       "      <th>2</th>\n",
       "      <td>Neymar tem alta hospitalar após cirurgia no jo...</td>\n",
       "      <td>O atacante Neymar teve alta hospitalar neste s...</td>\n",
       "      <td>https://www.cnnbrasil.com.br/esportes/neymar-t...</td>\n",
       "      <td>Atacante foi operado na quinta-feira (2), fico...</td>\n",
       "      <td>esportes</td>\n",
       "      <td>2023-11-04 18:04:03</td>\n",
       "    </tr>\n",
       "    <tr>\n",
       "      <th>3</th>\n",
       "      <td>Grêmio terá mais um desfalque contra o Atlétic...</td>\n",
       "      <td>O Grêmio ganhou mais uma preocupação para enfr...</td>\n",
       "      <td>https://www.cnnbrasil.com.br/esportes/gremio-t...</td>\n",
       "      <td>Tricolor tem três baixas no time titular para ...</td>\n",
       "      <td>esportes</td>\n",
       "      <td>2023-11-15 10:17:33</td>\n",
       "    </tr>\n",
       "    <tr>\n",
       "      <th>4</th>\n",
       "      <td>Petr Cech estreia como goleiro de hóquei no ge...</td>\n",
       "      <td>O ex-goleiro Petr Cech, ídolo do Chelsea, estr...</td>\n",
       "      <td>https://www.cnnbrasil.com.br/esportes/petr-cec...</td>\n",
       "      <td>Ídolo do Chelsea jogou alguns minutos pela pri...</td>\n",
       "      <td>esportes</td>\n",
       "      <td>2023-11-27 22:00:07</td>\n",
       "    </tr>\n",
       "  </tbody>\n",
       "</table>\n",
       "</div>"
      ],
      "text/plain": [
       "                                              titulo  \\\n",
       "0  Mourinho pode recusar Arábia por Seleção Brasi...   \n",
       "1  Taylor Swift curte “noitada” com namoradas de ...   \n",
       "2  Neymar tem alta hospitalar após cirurgia no jo...   \n",
       "3  Grêmio terá mais um desfalque contra o Atlétic...   \n",
       "4  Petr Cech estreia como goleiro de hóquei no ge...   \n",
       "\n",
       "                                               texto  \\\n",
       "0  Enquanto Carlo Ancelotti não confirma se vai m...   \n",
       "1  Namorada do tight end do Kansas City Chiefs, a...   \n",
       "2  O atacante Neymar teve alta hospitalar neste s...   \n",
       "3  O Grêmio ganhou mais uma preocupação para enfr...   \n",
       "4  O ex-goleiro Petr Cech, ídolo do Chelsea, estr...   \n",
       "\n",
       "                                                link  \\\n",
       "0  https://www.cnnbrasil.com.br/esportes/mourinho...   \n",
       "1  https://www.cnnbrasil.com.br/esportes/taylor-s...   \n",
       "2  https://www.cnnbrasil.com.br/esportes/neymar-t...   \n",
       "3  https://www.cnnbrasil.com.br/esportes/gremio-t...   \n",
       "4  https://www.cnnbrasil.com.br/esportes/petr-cec...   \n",
       "\n",
       "                                              resumo categoria  \\\n",
       "0  Técnico português, José Mourinho tem contrato ...  esportes   \n",
       "1  Registro da curtição do grupo foi publicado po...  esportes   \n",
       "2  Atacante foi operado na quinta-feira (2), fico...  esportes   \n",
       "3  Tricolor tem três baixas no time titular para ...  esportes   \n",
       "4  Ídolo do Chelsea jogou alguns minutos pela pri...  esportes   \n",
       "\n",
       "             data_hora  \n",
       "0  2023-11-29 18:30:49  \n",
       "1  2023-11-08 13:55:03  \n",
       "2  2023-11-04 18:04:03  \n",
       "3  2023-11-15 10:17:33  \n",
       "4  2023-11-27 22:00:07  "
      ]
     },
     "execution_count": 12,
     "metadata": {},
     "output_type": "execute_result"
    }
   ],
   "source": [
    "df_balanceado = df_balanceado.reset_index(drop=True)\n",
    "df_balanceado.head(5)"
   ]
  },
  {
   "cell_type": "code",
   "execution_count": 13,
   "id": "2ae37d80-d01e-4fd2-8453-4a89eaa24937",
   "metadata": {},
   "outputs": [
    {
     "data": {
      "text/plain": [
       "2700"
      ]
     },
     "execution_count": 13,
     "metadata": {},
     "output_type": "execute_result"
    }
   ],
   "source": [
    "# pega coluna\n",
    "text = df_balanceado['texto']\n",
    "len(text)"
   ]
  },
  {
   "cell_type": "code",
   "execution_count": 14,
   "id": "5d4514e9-6613-4ea6-8788-3c062d7017f7",
   "metadata": {},
   "outputs": [],
   "source": [
    "categorias = ['esportes','nacional', 'internacional', 'economia', 'politica', 'entretenimento']"
   ]
  },
  {
   "cell_type": "markdown",
   "id": "7db9049f-049d-461f-859e-f3cc6f973578",
   "metadata": {},
   "source": [
    "## Pré-processamento"
   ]
  },
  {
   "cell_type": "code",
   "execution_count": 15,
   "id": "576c1475-b309-4f49-a34b-2b35a9cc5047",
   "metadata": {},
   "outputs": [],
   "source": [
    "for i in range(len(text)):\n",
    "    text[i] = text[i].lower()"
   ]
  },
  {
   "cell_type": "code",
   "execution_count": 16,
   "id": "46decafe-5c86-4cc0-b3fe-581dfc26fbcd",
   "metadata": {},
   "outputs": [],
   "source": [
    "from unidecode import unidecode\n",
    "\n",
    "for i in range(len(text)):\n",
    "    text[i] = unidecode(text[i])"
   ]
  },
  {
   "cell_type": "code",
   "execution_count": 17,
   "id": "b0784904-6dee-4306-b60f-125e87052ffd",
   "metadata": {},
   "outputs": [],
   "source": [
    "for i in range(len(text)):\n",
    "    text[i] = re.sub(r'[^a-zA-Z\\s]', \"\" ,text[i])"
   ]
  },
  {
   "cell_type": "code",
   "execution_count": 18,
   "id": "89c8ad61-6faa-48ee-b9f4-fbcd9fa12224",
   "metadata": {},
   "outputs": [
    {
     "name": "stdout",
     "output_type": "stream",
     "text": [
      "enquanto carlo ancelotti nao confirma se vai mesmo ocupar o cargo de treinador da selecao brasileira outro treinador estrangeiro estaria interessado na vaga de acordo com o tabloide britanico daily mirror o portugues jose mourinho atualmente na roma acompanha a situacao e estaria disposto a recusar propostas milionarias do futebol da arabia saudita por uma chance de treinar o brasil a partir de  aos  anos mourinho tem contrato com a roma ate o fim da temporada em junho do proximo ano e nao deve renovar o treinador chegou a equipe italiana apos decepcionante passagem pelo tottenham e seguidos anos em baixa no futebol europeu  leia mais  o portugues recuperou prestigio no ano passado depois de levar a roma a conquista da liga conferencia primeiro titulo continental do clube recentemente mourinho afirmou que carlo ancelotti e o treinador perfeito para o real madrid e que o italiano cometeria um erro se resolvesse deixar o cargo mesmo com a oferta para treinar a selecao brasileira em entrevista ao canal rai da italia o portugues afirmou que somente um louco deixaria o clube espanhol e relembrou a vez em que ele mesmo decidiu sair da equipe merengue acho que somente um maluco como eu pode deixar o real madrid sem que o clube queira eu sai mesmo quando eles queriam que eu ficasse brasil estou certo que ao primeiro sinal de florentino ancelotti ficara afirmou mourinho depois de tres anos o presidente e jose sanchez diretor do real queriam tanto tanto tanto que eu permanecesse mas fui eu quem decidi um louco completou ancelotti e o principal alvo de ednaldo rodrigues presidente da confederacao brasileira de futebol cbf para assumir a selecao apesar de o treinador nao confirmar a entidade afirma que ha um acordo com o italiano para ele assumir ao fim do seu contrato com o real madrid em julho de  mes em que o brasil disputa a copa america nos estados unidos esta nao e a primeira vez que mourinho tem seu nome ligado ao da selecao brasileira em janeiro apos tite entregar o cargo o exmeia e comentarista carlos alberto campeao brasileiro pelo corinthians em  afirmou que o portugues seria o proximo comandante do brasil e disse que foi convidado pelo portugues para ser o seu numero dois no projeto a frente da equipe nacional a dupla trabalhou junta no porto em  quando conquistaram a liga dos campeoes mourinho tambem venceu a liga dos campeoes com a inter de milao  e tem dois titulos da liga europa com o porto em  e o manchester united em  eleito o melhor treinador do seculo  pela federacao internacional de historia e estatisticas do futebol iffhs ao longo da carreira ele ganhou a alcunha de special one o especial pela imprensa europeia ele acumula passagem vitoriosa pelo chelsea e tambem ja treinou o benfica com agencias este conteudo foi criado originalmente em itatiaia versao original\n"
     ]
    }
   ],
   "source": [
    "print(text[0])"
   ]
  },
  {
   "cell_type": "markdown",
   "id": "02977b39-1e4d-4f7e-92b8-06bebd2112c8",
   "metadata": {},
   "source": [
    "### NLTK"
   ]
  },
  {
   "cell_type": "code",
   "execution_count": 19,
   "id": "2534f4b8-ff0a-4351-94a3-66ee72e1ffd3",
   "metadata": {},
   "outputs": [],
   "source": [
    "token_text = []\n",
    "\n",
    "for j in text:\n",
    "    token_text.append(nltk.word_tokenize(j))"
   ]
  },
  {
   "cell_type": "code",
   "execution_count": 20,
   "id": "a6124e77-e0d1-4d1e-b9bf-17f171695772",
   "metadata": {},
   "outputs": [
    {
     "name": "stdout",
     "output_type": "stream",
     "text": [
      "['enquanto', 'carlo', 'ancelotti', 'nao', 'confirma', 'se', 'vai', 'mesmo', 'ocupar', 'o', 'cargo', 'de', 'treinador', 'da', 'selecao', 'brasileira', 'outro', 'treinador', 'estrangeiro', 'estaria', 'interessado', 'na', 'vaga', 'de', 'acordo', 'com', 'o', 'tabloide', 'britanico', 'daily', 'mirror', 'o', 'portugues', 'jose', 'mourinho', 'atualmente', 'na', 'roma', 'acompanha', 'a', 'situacao', 'e', 'estaria', 'disposto', 'a', 'recusar', 'propostas', 'milionarias', 'do', 'futebol', 'da', 'arabia', 'saudita', 'por', 'uma', 'chance', 'de', 'treinar', 'o', 'brasil', 'a', 'partir', 'de', 'aos', 'anos', 'mourinho', 'tem', 'contrato', 'com', 'a', 'roma', 'ate', 'o', 'fim', 'da', 'temporada', 'em', 'junho', 'do', 'proximo', 'ano', 'e', 'nao', 'deve', 'renovar', 'o', 'treinador', 'chegou', 'a', 'equipe', 'italiana', 'apos', 'decepcionante', 'passagem', 'pelo', 'tottenham', 'e', 'seguidos', 'anos', 'em', 'baixa', 'no', 'futebol', 'europeu', 'leia', 'mais', 'o', 'portugues', 'recuperou', 'prestigio', 'no', 'ano', 'passado', 'depois', 'de', 'levar', 'a', 'roma', 'a', 'conquista', 'da', 'liga', 'conferencia', 'primeiro', 'titulo', 'continental', 'do', 'clube', 'recentemente', 'mourinho', 'afirmou', 'que', 'carlo', 'ancelotti', 'e', 'o', 'treinador', 'perfeito', 'para', 'o', 'real', 'madrid', 'e', 'que', 'o', 'italiano', 'cometeria', 'um', 'erro', 'se', 'resolvesse', 'deixar', 'o', 'cargo', 'mesmo', 'com', 'a', 'oferta', 'para', 'treinar', 'a', 'selecao', 'brasileira', 'em', 'entrevista', 'ao', 'canal', 'rai', 'da', 'italia', 'o', 'portugues', 'afirmou', 'que', 'somente', 'um', 'louco', 'deixaria', 'o', 'clube', 'espanhol', 'e', 'relembrou', 'a', 'vez', 'em', 'que', 'ele', 'mesmo', 'decidiu', 'sair', 'da', 'equipe', 'merengue', 'acho', 'que', 'somente', 'um', 'maluco', 'como', 'eu', 'pode', 'deixar', 'o', 'real', 'madrid', 'sem', 'que', 'o', 'clube', 'queira', 'eu', 'sai', 'mesmo', 'quando', 'eles', 'queriam', 'que', 'eu', 'ficasse', 'brasil', 'estou', 'certo', 'que', 'ao', 'primeiro', 'sinal', 'de', 'florentino', 'ancelotti', 'ficara', 'afirmou', 'mourinho', 'depois', 'de', 'tres', 'anos', 'o', 'presidente', 'e', 'jose', 'sanchez', 'diretor', 'do', 'real', 'queriam', 'tanto', 'tanto', 'tanto', 'que', 'eu', 'permanecesse', 'mas', 'fui', 'eu', 'quem', 'decidi', 'um', 'louco', 'completou', 'ancelotti', 'e', 'o', 'principal', 'alvo', 'de', 'ednaldo', 'rodrigues', 'presidente', 'da', 'confederacao', 'brasileira', 'de', 'futebol', 'cbf', 'para', 'assumir', 'a', 'selecao', 'apesar', 'de', 'o', 'treinador', 'nao', 'confirmar', 'a', 'entidade', 'afirma', 'que', 'ha', 'um', 'acordo', 'com', 'o', 'italiano', 'para', 'ele', 'assumir', 'ao', 'fim', 'do', 'seu', 'contrato', 'com', 'o', 'real', 'madrid', 'em', 'julho', 'de', 'mes', 'em', 'que', 'o', 'brasil', 'disputa', 'a', 'copa', 'america', 'nos', 'estados', 'unidos', 'esta', 'nao', 'e', 'a', 'primeira', 'vez', 'que', 'mourinho', 'tem', 'seu', 'nome', 'ligado', 'ao', 'da', 'selecao', 'brasileira', 'em', 'janeiro', 'apos', 'tite', 'entregar', 'o', 'cargo', 'o', 'exmeia', 'e', 'comentarista', 'carlos', 'alberto', 'campeao', 'brasileiro', 'pelo', 'corinthians', 'em', 'afirmou', 'que', 'o', 'portugues', 'seria', 'o', 'proximo', 'comandante', 'do', 'brasil', 'e', 'disse', 'que', 'foi', 'convidado', 'pelo', 'portugues', 'para', 'ser', 'o', 'seu', 'numero', 'dois', 'no', 'projeto', 'a', 'frente', 'da', 'equipe', 'nacional', 'a', 'dupla', 'trabalhou', 'junta', 'no', 'porto', 'em', 'quando', 'conquistaram', 'a', 'liga', 'dos', 'campeoes', 'mourinho', 'tambem', 'venceu', 'a', 'liga', 'dos', 'campeoes', 'com', 'a', 'inter', 'de', 'milao', 'e', 'tem', 'dois', 'titulos', 'da', 'liga', 'europa', 'com', 'o', 'porto', 'em', 'e', 'o', 'manchester', 'united', 'em', 'eleito', 'o', 'melhor', 'treinador', 'do', 'seculo', 'pela', 'federacao', 'internacional', 'de', 'historia', 'e', 'estatisticas', 'do', 'futebol', 'iffhs', 'ao', 'longo', 'da', 'carreira', 'ele', 'ganhou', 'a', 'alcunha', 'de', 'special', 'one', 'o', 'especial', 'pela', 'imprensa', 'europeia', 'ele', 'acumula', 'passagem', 'vitoriosa', 'pelo', 'chelsea', 'e', 'tambem', 'ja', 'treinou', 'o', 'benfica', 'com', 'agencias', 'este', 'conteudo', 'foi', 'criado', 'originalmente', 'em', 'itatiaia', 'versao', 'original']\n"
     ]
    }
   ],
   "source": [
    "print(token_text[0])"
   ]
  },
  {
   "cell_type": "code",
   "execution_count": 21,
   "id": "9e891517-f3dd-491c-a02e-7fe17e0ecff7",
   "metadata": {},
   "outputs": [
    {
     "name": "stderr",
     "output_type": "stream",
     "text": [
      "[nltk_data] Downloading package stopwords to /home/hworld/nltk_data...\n",
      "[nltk_data]   Package stopwords is already up-to-date!\n"
     ]
    },
    {
     "data": {
      "text/plain": [
       "True"
      ]
     },
     "execution_count": 21,
     "metadata": {},
     "output_type": "execute_result"
    }
   ],
   "source": [
    "nltk.download('stopwords')"
   ]
  },
  {
   "cell_type": "code",
   "execution_count": 22,
   "id": "7ce4e6e6-b023-4dd0-b5b3-624c55220bed",
   "metadata": {},
   "outputs": [],
   "source": [
    "from nltk.corpus import stopwords\n",
    "sw = stopwords.words('portuguese')"
   ]
  },
  {
   "cell_type": "code",
   "execution_count": 23,
   "id": "c7a094e5-44b5-4079-bfff-1201a537ded8",
   "metadata": {},
   "outputs": [],
   "source": [
    "for stop in sw:\n",
    "    for text in token_text:\n",
    "        for t in text:\n",
    "            if(t == stop):\n",
    "                text.remove(t)"
   ]
  },
  {
   "cell_type": "code",
   "execution_count": 24,
   "id": "6a9a56b7-e028-43f7-bc0b-d0c6dcc31604",
   "metadata": {},
   "outputs": [
    {
     "name": "stdout",
     "output_type": "stream",
     "text": [
      "['enquanto', 'carlo', 'ancelotti', 'nao', 'confirma', 'vai', 'ocupar', 'cargo', 'treinador', 'selecao', 'brasileira', 'outro', 'treinador', 'estrangeiro', 'estaria', 'interessado', 'vaga', 'acordo', 'tabloide', 'britanico', 'daily', 'mirror', 'portugues', 'jose', 'mourinho', 'atualmente', 'roma', 'acompanha', 'situacao', 'estaria', 'disposto', 'recusar', 'propostas', 'milionarias', 'futebol', 'arabia', 'saudita', 'chance', 'treinar', 'brasil', 'partir', 'anos', 'mourinho', 'contrato', 'roma', 'ate', 'fim', 'temporada', 'junho', 'proximo', 'ano', 'nao', 'deve', 'renovar', 'treinador', 'chegou', 'equipe', 'italiana', 'apos', 'decepcionante', 'passagem', 'tottenham', 'seguidos', 'anos', 'baixa', 'futebol', 'europeu', 'leia', 'portugues', 'recuperou', 'prestigio', 'ano', 'passado', 'levar', 'roma', 'conquista', 'liga', 'conferencia', 'primeiro', 'titulo', 'continental', 'clube', 'recentemente', 'mourinho', 'afirmou', 'carlo', 'ancelotti', 'treinador', 'perfeito', 'real', 'madrid', 'italiano', 'cometeria', 'erro', 'resolvesse', 'deixar', 'cargo', 'oferta', 'treinar', 'selecao', 'brasileira', 'entrevista', 'canal', 'rai', 'italia', 'portugues', 'afirmou', 'somente', 'louco', 'deixaria', 'clube', 'espanhol', 'relembrou', 'vez', 'decidiu', 'sair', 'equipe', 'merengue', 'acho', 'somente', 'maluco', 'pode', 'deixar', 'real', 'madrid', 'clube', 'queira', 'sai', 'queriam', 'ficasse', 'brasil', 'certo', 'primeiro', 'sinal', 'florentino', 'ancelotti', 'ficara', 'afirmou', 'mourinho', 'tres', 'anos', 'presidente', 'jose', 'sanchez', 'diretor', 'real', 'queriam', 'tanto', 'tanto', 'tanto', 'permanecesse', 'decidi', 'louco', 'completou', 'ancelotti', 'principal', 'alvo', 'ednaldo', 'rodrigues', 'presidente', 'confederacao', 'brasileira', 'futebol', 'cbf', 'assumir', 'selecao', 'apesar', 'treinador', 'nao', 'confirmar', 'entidade', 'afirma', 'ha', 'acordo', 'italiano', 'assumir', 'fim', 'contrato', 'real', 'madrid', 'julho', 'mes', 'brasil', 'disputa', 'copa', 'america', 'estados', 'unidos', 'nao', 'primeira', 'vez', 'mourinho', 'nome', 'ligado', 'selecao', 'brasileira', 'janeiro', 'apos', 'tite', 'entregar', 'cargo', 'exmeia', 'comentarista', 'carlos', 'alberto', 'campeao', 'brasileiro', 'corinthians', 'afirmou', 'portugues', 'proximo', 'comandante', 'brasil', 'disse', 'convidado', 'portugues', 'numero', 'dois', 'projeto', 'frente', 'equipe', 'nacional', 'dupla', 'trabalhou', 'junta', 'porto', 'conquistaram', 'liga', 'campeoes', 'mourinho', 'tambem', 'venceu', 'liga', 'campeoes', 'inter', 'milao', 'dois', 'titulos', 'liga', 'europa', 'porto', 'manchester', 'united', 'eleito', 'melhor', 'treinador', 'seculo', 'federacao', 'internacional', 'historia', 'estatisticas', 'futebol', 'iffhs', 'longo', 'carreira', 'ganhou', 'alcunha', 'special', 'one', 'especial', 'imprensa', 'europeia', 'acumula', 'passagem', 'vitoriosa', 'chelsea', 'tambem', 'ja', 'treinou', 'benfica', 'agencias', 'conteudo', 'criado', 'originalmente', 'itatiaia', 'versao', 'original']\n"
     ]
    }
   ],
   "source": [
    "print(token_text[0])"
   ]
  },
  {
   "cell_type": "code",
   "execution_count": 25,
   "id": "75724920-33df-45ea-bc66-62cd512dc49e",
   "metadata": {},
   "outputs": [
    {
     "data": {
      "text/html": [
       "<div>\n",
       "<style scoped>\n",
       "    .dataframe tbody tr th:only-of-type {\n",
       "        vertical-align: middle;\n",
       "    }\n",
       "\n",
       "    .dataframe tbody tr th {\n",
       "        vertical-align: top;\n",
       "    }\n",
       "\n",
       "    .dataframe thead th {\n",
       "        text-align: right;\n",
       "    }\n",
       "</style>\n",
       "<table border=\"1\" class=\"dataframe\">\n",
       "  <thead>\n",
       "    <tr style=\"text-align: right;\">\n",
       "      <th></th>\n",
       "      <th>titulo</th>\n",
       "      <th>texto</th>\n",
       "      <th>link</th>\n",
       "      <th>resumo</th>\n",
       "      <th>categoria</th>\n",
       "      <th>data_hora</th>\n",
       "    </tr>\n",
       "  </thead>\n",
       "  <tbody>\n",
       "    <tr>\n",
       "      <th>0</th>\n",
       "      <td>Mourinho pode recusar Arábia por Seleção Brasi...</td>\n",
       "      <td>[enquanto, carlo, ancelotti, nao, confirma, va...</td>\n",
       "      <td>https://www.cnnbrasil.com.br/esportes/mourinho...</td>\n",
       "      <td>Técnico português, José Mourinho tem contrato ...</td>\n",
       "      <td>esportes</td>\n",
       "      <td>2023-11-29 18:30:49</td>\n",
       "    </tr>\n",
       "    <tr>\n",
       "      <th>1</th>\n",
       "      <td>Taylor Swift curte “noitada” com namoradas de ...</td>\n",
       "      <td>[namorada, tight, end, kansas, city, chiefs, p...</td>\n",
       "      <td>https://www.cnnbrasil.com.br/esportes/taylor-s...</td>\n",
       "      <td>Registro da curtição do grupo foi publicado po...</td>\n",
       "      <td>esportes</td>\n",
       "      <td>2023-11-08 13:55:03</td>\n",
       "    </tr>\n",
       "  </tbody>\n",
       "</table>\n",
       "</div>"
      ],
      "text/plain": [
       "                                              titulo  \\\n",
       "0  Mourinho pode recusar Arábia por Seleção Brasi...   \n",
       "1  Taylor Swift curte “noitada” com namoradas de ...   \n",
       "\n",
       "                                               texto  \\\n",
       "0  [enquanto, carlo, ancelotti, nao, confirma, va...   \n",
       "1  [namorada, tight, end, kansas, city, chiefs, p...   \n",
       "\n",
       "                                                link  \\\n",
       "0  https://www.cnnbrasil.com.br/esportes/mourinho...   \n",
       "1  https://www.cnnbrasil.com.br/esportes/taylor-s...   \n",
       "\n",
       "                                              resumo categoria  \\\n",
       "0  Técnico português, José Mourinho tem contrato ...  esportes   \n",
       "1  Registro da curtição do grupo foi publicado po...  esportes   \n",
       "\n",
       "             data_hora  \n",
       "0  2023-11-29 18:30:49  \n",
       "1  2023-11-08 13:55:03  "
      ]
     },
     "execution_count": 25,
     "metadata": {},
     "output_type": "execute_result"
    }
   ],
   "source": [
    "df_balanceado['texto'] = token_text\n",
    "df_balanceado.head(2)"
   ]
  },
  {
   "cell_type": "markdown",
   "id": "2a86a3f7-402e-4f60-8e02-b612fe83c051",
   "metadata": {},
   "source": [
    "## Análises"
   ]
  },
  {
   "cell_type": "code",
   "execution_count": 26,
   "id": "bc59c4ef-5077-4918-941d-56c0da1e7974",
   "metadata": {},
   "outputs": [
    {
     "name": "stdout",
     "output_type": "stream",
     "text": [
      "[('chiefs', 5), ('taylor', 5), ('kansas', 4), ('tight', 3), ('end', 3), ('grupo', 3), ('mahomes', 3), ('travis', 3), ('city', 2), ('popstar', 2), ('esposas', 2), ('equipe', 2), ('cantora', 2), ('wags', 2), ('brittany', 2), ('buechele', 2), ('bell', 2), ('patrick', 2), ('quarterback', 2), ('duas', 2), ('jogos', 2), ('junto', 2), ('kelce', 2), ('meses', 2), ('dois', 2), ('namorada', 1), ('swift', 1), ('oficialmente', 1), ('membro', 1), ('squad', 1), ('namoradas', 1), ('jogadores', 1), ('nfl', 1), ('curtiu', 1), ('fim', 1), ('semana', 1), ('wifes', 1), ('and', 1), ('girlfriends', 1), ('composto', 1), ('paige', 1), ('lyndsay', 1), ('shane', 1), ('blake', 1), ('leia', 1), ('registro', 1), ('curticao', 1), ('publicado', 1), ('instagram', 1), ('fotos', 1), ('mostram', 1), ('amigas', 1), ('registros', 1), ('estao', 1), ('bebendo', 1), ('tacas', 1), ('champanhe', 1), ('esposa', 1), ('frequentado', 1), ('ja', 1), ('ate', 1), ('propria', 1), ('comemoracao', 1), ('marcam', 1), ('touchdown', 1), ('nova', 1), ('integrante', 1), ('recentemente', 1), ('comecou', 1), ('namorar', 1), ('grandes', 1), ('estrelas', 1), ('vista', 1), ('varias', 1), ('vezes', 1), ('longo', 1), ('ultimos', 1), ('relacionamento', 1), ('atleta', 1), ('pontape', 1), ('inicial', 1), ('dado', 1), ('show', 1), ('relatou', 1), ('ter', 1), ('tentado', 1), ('conversar', 1), ('entregar', 1), ('pulseira', 1), ('amizade', 1), ('algo', 1), ('comum', 1), ('shows', 1), ('the', 1), ('eras', 1), ('tour', 1), ('nao', 1), ('obteve', 1), ('sucesso', 1), ('pouco', 1), ('rumores', 1), ('estariam', 1), ('saindo', 1), ('juntos', 1), ('comecaram', 1), ('rondar', 1), ('imprensa', 1), ('estrangeira', 1), ('logo', 1), ('jogo', 1), ('assistiu', 1), ('partida', 1), ('lado', 1), ('mae', 1), ('donna', 1), ('deixou', 1), ('estadio', 1), ('desde', 1), ('entao', 1), ('marcou', 1), ('presenca', 1), ('alguns', 1)]\n"
     ]
    }
   ],
   "source": [
    "from collections import Counter  # Contagem de frequência de palavras usando NLTK \n",
    "frequencia_palavras = Counter(token_text[1]) \n",
    "print(frequencia_palavras.most_common())"
   ]
  },
  {
   "cell_type": "code",
   "execution_count": 27,
   "id": "c86224cb-cc2e-4ce2-a70e-cd010bd88214",
   "metadata": {},
   "outputs": [
    {
     "data": {
      "image/png": "[encoded data removed]",
      "text/plain": [
       "<Figure size 1000x600 with 1 Axes>"
      ]
     },
     "metadata": {},
     "output_type": "display_data"
    }
   ],
   "source": [
    "# Obter os 10 tokens mais comuns e suas contagens\n",
    "tokens_mais_comuns = frequencia_palavras.most_common(20)\n",
    "palavras, contagens = zip(*tokens_mais_comuns)\n",
    "\n",
    "# Gráfico de Barras\n",
    "plt.figure(figsize=(10, 6))\n",
    "plt.bar(palavras, contagens)\n",
    "plt.xlabel('Palavras')\n",
    "plt.ylabel('Frequência')\n",
    "plt.title('10 Palavras Mais Comuns')\n",
    "plt.xticks(rotation=45)\n",
    "plt.show()"
   ]
  },
  {
   "cell_type": "code",
   "execution_count": 28,
   "id": "8d196b3e-c4e5-4495-9261-5d9993d20158",
   "metadata": {},
   "outputs": [
    {
     "data": {
      "image/png": "[encoded data removed]",
      "text/plain": [
       "<Figure size 1000x600 with 1 Axes>"
      ]
     },
     "metadata": {},
     "output_type": "display_data"
    }
   ],
   "source": [
    "palavras_ordenadas = sorted(frequencia_palavras.items(), key=lambda x: x[1], reverse=True)\n",
    "palavras, contagens = zip(*palavras_ordenadas)\n",
    "\n",
    "# Plotar o gráfico da Lei de Zipf\n",
    "plt.figure(figsize=(10, 6))\n",
    "plt.plot(range(1, len(palavras) + 1), contagens)\n",
    "plt.xlabel('Rank')\n",
    "plt.ylabel('Frequência')\n",
    "plt.title('Lei de Zipf - Frequência de Todas as Palavras')\n",
    "plt.grid(True)\n",
    "plt.show()"
   ]
  },
  {
   "cell_type": "markdown",
   "id": "ec752a64-fd72-4ca4-8e3e-1bfc43f5ac0f",
   "metadata": {},
   "source": [
    "## Prediction\n",
    "https://github.com/susanli2016/Machine-Learning-with-Python/blob/master/Consumer_complaints.ipynb"
   ]
  },
  {
   "cell_type": "code",
   "execution_count": 29,
   "id": "d13c1a7e-b6f1-4e49-982a-2388dee760d0",
   "metadata": {},
   "outputs": [
    {
     "name": "stdout",
     "output_type": "stream",
     "text": [
      "enquanto carlo ancelotti nao confirma vai ocupar cargo treinador selecao brasileira outro treinador estrangeiro estaria interessado vaga acordo tabloide britanico daily mirror portugues jose mourinho atualmente roma acompanha situacao estaria disposto recusar propostas milionarias futebol arabia saudita chance treinar brasil partir anos mourinho contrato roma ate fim temporada junho proximo ano nao deve renovar treinador chegou equipe italiana apos decepcionante passagem tottenham seguidos anos baixa futebol europeu leia portugues recuperou prestigio ano passado levar roma conquista liga conferencia primeiro titulo continental clube recentemente mourinho afirmou carlo ancelotti treinador perfeito real madrid italiano cometeria erro resolvesse deixar cargo oferta treinar selecao brasileira entrevista canal rai italia portugues afirmou somente louco deixaria clube espanhol relembrou vez decidiu sair equipe merengue acho somente maluco pode deixar real madrid clube queira sai queriam ficasse brasil certo primeiro sinal florentino ancelotti ficara afirmou mourinho tres anos presidente jose sanchez diretor real queriam tanto tanto tanto permanecesse decidi louco completou ancelotti principal alvo ednaldo rodrigues presidente confederacao brasileira futebol cbf assumir selecao apesar treinador nao confirmar entidade afirma ha acordo italiano assumir fim contrato real madrid julho mes brasil disputa copa america estados unidos nao primeira vez mourinho nome ligado selecao brasileira janeiro apos tite entregar cargo exmeia comentarista carlos alberto campeao brasileiro corinthians afirmou portugues proximo comandante brasil disse convidado portugues numero dois projeto frente equipe nacional dupla trabalhou junta porto conquistaram liga campeoes mourinho tambem venceu liga campeoes inter milao dois titulos liga europa porto manchester united eleito melhor treinador seculo federacao internacional historia estatisticas futebol iffhs longo carreira ganhou alcunha special one especial imprensa europeia acumula passagem vitoriosa chelsea tambem ja treinou benfica agencias conteudo criado originalmente itatiaia versao original\n"
     ]
    }
   ],
   "source": [
    "for i in range(len(token_text)):\n",
    "    token_text[i] = \" \".join(token_text[i])\n",
    "print(token_text[0])"
   ]
  },
  {
   "cell_type": "code",
   "execution_count": 32,
   "id": "eea38f9b-5f83-431d-b6c5-30089529cbd1",
   "metadata": {},
   "outputs": [
    {
     "data": {
      "text/html": [
       "<div>\n",
       "<style scoped>\n",
       "    .dataframe tbody tr th:only-of-type {\n",
       "        vertical-align: middle;\n",
       "    }\n",
       "\n",
       "    .dataframe tbody tr th {\n",
       "        vertical-align: top;\n",
       "    }\n",
       "\n",
       "    .dataframe thead th {\n",
       "        text-align: right;\n",
       "    }\n",
       "</style>\n",
       "<table border=\"1\" class=\"dataframe\">\n",
       "  <thead>\n",
       "    <tr style=\"text-align: right;\">\n",
       "      <th></th>\n",
       "      <th>titulo</th>\n",
       "      <th>texto</th>\n",
       "      <th>link</th>\n",
       "      <th>resumo</th>\n",
       "      <th>categoria</th>\n",
       "      <th>data_hora</th>\n",
       "    </tr>\n",
       "  </thead>\n",
       "  <tbody>\n",
       "    <tr>\n",
       "      <th>0</th>\n",
       "      <td>Mourinho pode recusar Arábia por Seleção Brasi...</td>\n",
       "      <td>enquanto carlo ancelotti nao confirma vai ocup...</td>\n",
       "      <td>https://www.cnnbrasil.com.br/esportes/mourinho...</td>\n",
       "      <td>Técnico português, José Mourinho tem contrato ...</td>\n",
       "      <td>esportes</td>\n",
       "      <td>2023-11-29 18:30:49</td>\n",
       "    </tr>\n",
       "    <tr>\n",
       "      <th>1</th>\n",
       "      <td>Taylor Swift curte “noitada” com namoradas de ...</td>\n",
       "      <td>namorada tight end kansas city chiefs popstar ...</td>\n",
       "      <td>https://www.cnnbrasil.com.br/esportes/taylor-s...</td>\n",
       "      <td>Registro da curtição do grupo foi publicado po...</td>\n",
       "      <td>esportes</td>\n",
       "      <td>2023-11-08 13:55:03</td>\n",
       "    </tr>\n",
       "  </tbody>\n",
       "</table>\n",
       "</div>"
      ],
      "text/plain": [
       "                                              titulo  \\\n",
       "0  Mourinho pode recusar Arábia por Seleção Brasi...   \n",
       "1  Taylor Swift curte “noitada” com namoradas de ...   \n",
       "\n",
       "                                               texto  \\\n",
       "0  enquanto carlo ancelotti nao confirma vai ocup...   \n",
       "1  namorada tight end kansas city chiefs popstar ...   \n",
       "\n",
       "                                                link  \\\n",
       "0  https://www.cnnbrasil.com.br/esportes/mourinho...   \n",
       "1  https://www.cnnbrasil.com.br/esportes/taylor-s...   \n",
       "\n",
       "                                              resumo categoria  \\\n",
       "0  Técnico português, José Mourinho tem contrato ...  esportes   \n",
       "1  Registro da curtição do grupo foi publicado po...  esportes   \n",
       "\n",
       "             data_hora  \n",
       "0  2023-11-29 18:30:49  \n",
       "1  2023-11-08 13:55:03  "
      ]
     },
     "execution_count": 32,
     "metadata": {},
     "output_type": "execute_result"
    }
   ],
   "source": [
    "df_balanceado['texto'] = token_text\n",
    "df_balanceado.head(2)"
   ]
  },
  {
   "cell_type": "code",
   "execution_count": 34,
   "id": "89e3f2cd-38af-458d-aabe-c448ee51f876",
   "metadata": {},
   "outputs": [
    {
     "data": {
      "text/plain": [
       "(2700, 19927)"
      ]
     },
     "execution_count": 34,
     "metadata": {},
     "output_type": "execute_result"
    }
   ],
   "source": [
    "## Bag of Words model - TF-IDF\n",
    "from sklearn.feature_extraction.text import TfidfVectorizer\n",
    "tfidf = TfidfVectorizer(sublinear_tf=True, min_df=5, norm='l2', encoding='latin-1', ngram_range=(1, 2), stop_words=sw)\n",
    "features = tfidf.fit_transform(df_balanceado.texto).toarray()\n",
    "labels = df_balanceado.categoria\n",
    "features.shape"
   ]
  },
  {
   "cell_type": "code",
   "execution_count": 53,
   "id": "a473cad0-5e3e-4e15-b4aa-cdc05ac86c33",
   "metadata": {},
   "outputs": [
    {
     "name": "stdout",
     "output_type": "stream",
     "text": [
      "# 'categoria':\n",
      "  . Most correlated unigrams:\n",
      ". elogiado\n",
      ". email\n",
      "  . Most correlated bigrams:\n",
      ". elizeta ramos\n",
      ". zul rio\n",
      "# 'data_hora':\n",
      "  . Most correlated unigrams:\n",
      ". elogiado\n",
      ". email\n",
      "  . Most correlated bigrams:\n",
      ". elizeta ramos\n",
      ". zul rio\n",
      "# 'link':\n",
      "  . Most correlated unigrams:\n",
      ". elogiado\n",
      ". email\n",
      "  . Most correlated bigrams:\n",
      ". elizeta ramos\n",
      ". zul rio\n",
      "# 'resumo':\n",
      "  . Most correlated unigrams:\n",
      ". elogiado\n",
      ". email\n",
      "  . Most correlated bigrams:\n",
      ". elizeta ramos\n",
      ". zul rio\n",
      "# 'texto':\n",
      "  . Most correlated unigrams:\n",
      ". elogiado\n",
      ". email\n",
      "  . Most correlated bigrams:\n",
      ". elizeta ramos\n",
      ". zul rio\n",
      "# 'titulo':\n",
      "  . Most correlated unigrams:\n",
      ". elogiado\n",
      ". email\n",
      "  . Most correlated bigrams:\n",
      ". elizeta ramos\n",
      ". zul rio\n"
     ]
    }
   ],
   "source": [
    "from sklearn.feature_selection import chi2\n",
    "import numpy as np\n",
    "\n",
    "N = 2\n",
    "\n",
    "for categoria, index in sorted(df_balanceado.items()):\n",
    "  features_chi2 = chi2(features, labels == index)\n",
    "  indices = np.argsort(features_chi2[0])\n",
    "  feature_names = np.array(tfidf.get_feature_names_out())[indices]\n",
    "  unigrams = [v for v in feature_names if len(v.split(' ')) == 1]\n",
    "  bigrams = [v for v in feature_names if len(v.split(' ')) == 2]\n",
    "  print(\"# '{}':\".format(categoria))\n",
    "  print(\"  . Most correlated unigrams:\\n. {}\".format('\\n. '.join(unigrams[-N:])))\n",
    "  print(\"  . Most correlated bigrams:\\n. {}\".format('\\n. '.join(bigrams[-N:])))"
   ]
  }
 ],
 "metadata": {
  "kernelspec": {
   "display_name": "Python 3 (ipykernel)",
   "language": "python",
   "name": "python3"
  },
  "language_info": {
   "codemirror_mode": {
    "name": "ipython",
    "version": 3
   },
   "file_extension": ".py",
   "mimetype": "text/x-python",
   "name": "python",
   "nbconvert_exporter": "python",
   "pygments_lexer": "ipython3",
   "version": "3.10.9"
  }
 },
 "nbformat": 4,
 "nbformat_minor": 5
}
